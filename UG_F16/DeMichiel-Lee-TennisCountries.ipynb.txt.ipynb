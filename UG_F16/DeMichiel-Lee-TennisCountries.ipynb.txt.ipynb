{
 "cells": [
  {
   "cell_type": "markdown",
   "metadata": {},
   "source": [
    "# The Effect of Nationality on Tennis Play\n",
    "### Matt DeMichiel and Kevin Lee\n",
    "\n",
    "The goal of this project will be to investigate on how nationality is related to different aspects of a tennis player's game and how certain match statistics affect the outcome of the match. For example, it is generally regarded to be true that because of the lack of clay courts available for practicing in the US, American players are not very good on this surface. However, the abundance of hard courts makes them very serious contenders at tournaments where the matches are played on surfaces that more closely resemble asphalt, such as sthe US Open or the Australian Open. On the flip side, Spanish players are known as masters of the clay court. This is due to a combination of the abundance of clay courts in spain and other cultural factors that make the general Spanish style of play very advantageous for success on clay. In fact, one Spaniard, Rafael Nadal, has had so much success that he universally has been given the moniker of “The King of Clay.”\n",
    "\n",
    "This is one of the trends we would like to investigate. For the most part, these claims remain cultural hearsay within the tennis world. We're interested in analyzing match data and seeing if these general patterns actually have some quantitative basis. Using the data from thousands of matches, we would like to examine these assumptions, as well as look for new patterns that can be found. Do certain nationalities tend to spend more time on court? Are certain players more likely to hit aces than others? Who is more at risk for committing unforced errors? How important is saving break points on your serve to winning a match? Have these trends changed over time?"
   ]
  },
  {
   "cell_type": "markdown",
   "metadata": {},
   "source": [
    "## Preliminaries"
   ]
  },
  {
   "cell_type": "code",
   "execution_count": 1,
   "metadata": {
    "collapsed": false
   },
   "outputs": [
    {
     "name": "stdout",
     "output_type": "stream",
     "text": [
      "Python version:  3.5.2 |Anaconda 4.2.0 (x86_64)| (default, Jul  2 2016, 17:52:12) \n",
      "[GCC 4.2.1 Compatible Apple LLVM 4.2 (clang-425.0.28)]\n",
      "Pandas version:  0.19.0\n",
      "Today:  2016-12-22\n"
     ]
    }
   ],
   "source": [
    "import sys                             # system module \n",
    "import pandas as pd                    # data package\n",
    "import matplotlib.pyplot as plt        # graphics module  \n",
    "import datetime as dt                  # date and time module\n",
    "import numpy as np                     # foundation for pandas \n",
    "\n",
    "%matplotlib inline                     \n",
    "\n",
    "# check versions\n",
    "print('Python version: ', sys.version)\n",
    "print('Pandas version: ', pd.__version__)\n",
    "print('Today: ', dt.date.today())"
   ]
  },
  {
   "cell_type": "markdown",
   "metadata": {},
   "source": [
    "## Collecting the Data\n",
    "To look for and analyze these trends, we will be using work published by Jeff Sackmann, an author and entrepreneur in the sports statistics field. Jeff maintains a page on GitHub known as the “Match Charting Project,” in which he has recorded the results of tens of thousands of matches spanning over thirty years. These match results include data points such as court surface, amount of time on court, winner, loser, number of unforced errors, and many more. For the purposes of our research, we will only be examining the results of matches betwen 2013 and 2015. In addition, we will only be analyzing the results of players from **seven** countries. These countries are **USA, Japan, Spain, Argentina, Australia, Serbia, and France**. These countries give us a nice cross section of players from every continent and are the  major countries in the tennis world with the most prominent players. "
   ]
  },
  {
   "cell_type": "code",
   "execution_count": 2,
   "metadata": {
    "collapsed": true
   },
   "outputs": [],
   "source": [
    "url2013 = 'https://raw.githubusercontent.com/JeffSackmann/tennis_atp/master/atp_matches_2013.csv' # 2013 match data\n",
    "url2014 = 'https://raw.githubusercontent.com/JeffSackmann/tennis_atp/master/atp_matches_2014.csv' # 2014 match data\n",
    "url2015 = 'https://raw.githubusercontent.com/JeffSackmann/tennis_atp/master/atp_matches_2015.csv' # 2015 match data\n",
    "# convert each csv file into data frames\n",
    "df2013 = pd.read_csv(url2013)\n",
    "df2014 = pd.read_csv(url2014)\n",
    "df2015 = pd.read_csv(url2015)"
   ]
  },
  {
   "cell_type": "code",
   "execution_count": 3,
   "metadata": {
    "collapsed": false
   },
   "outputs": [
    {
     "data": {
      "text/plain": [
       "Index(['tourney_id', 'tourney_name', 'surface', 'draw_size', 'tourney_level',\n",
       "       'tourney_date', 'match_num', 'winner_id', 'winner_seed', 'winner_entry',\n",
       "       'winner_name', 'winner_hand', 'winner_ht', 'winner_ioc', 'winner_age',\n",
       "       'winner_rank', 'winner_rank_points', 'loser_id', 'loser_seed',\n",
       "       'loser_entry', 'loser_name', 'loser_hand', 'loser_ht', 'loser_ioc',\n",
       "       'loser_age', 'loser_rank', 'loser_rank_points', 'score', 'best_of',\n",
       "       'round', 'minutes', 'w_ace', 'w_df', 'w_svpt', 'w_1stIn', 'w_1stWon',\n",
       "       'w_2ndWon', 'w_SvGms', 'w_bpSaved', 'w_bpFaced', 'l_ace', 'l_df',\n",
       "       'l_svpt', 'l_1stIn', 'l_1stWon', 'l_2ndWon', 'l_SvGms', 'l_bpSaved',\n",
       "       'l_bpFaced'],\n",
       "      dtype='object')"
      ]
     },
     "execution_count": 3,
     "metadata": {},
     "output_type": "execute_result"
    }
   ],
   "source": [
    "# a look at the plentiful amount of data provided by Jeff Sackmann (each year has the same data)\n",
    "df2013.columns\n"
   ]
  },
  {
   "cell_type": "markdown",
   "metadata": {},
   "source": [
    "Seeing as we are not examining every variable, our final dataframe that we will be working with will not include every column. The following code keeps only the variables we are interested in looking at. In addition, each dataframe includes countries other than what we are interested in looking at. Therefore, we create a variable `countries` which contains string of the country codes we are examining."
   ]
  },
  {
   "cell_type": "code",
   "execution_count": 4,
   "metadata": {
    "collapsed": true
   },
   "outputs": [],
   "source": [
    "numlist=[1,2,5,10,11,12,13,14,15,20,21,22,23,24,25,27,28,29,30,31,32,33,34,35,36,37,38,39,40,41,42,43,44,45,46,47,48] \n",
    "## we created a list numbers corresponding to the variables we want to extract from the dataframe\n",
    "atp2013 = df2013[numlist]\n",
    "atp2014 = df2014[numlist]\n",
    "atp2015 = df2015[numlist]\n",
    "##extracts the metrics we're interested in and assigns it to a new dataframe corresponding to year \n",
    "countries=['USA','FRA','ESP','SRB','JPN','AUS','ARG'] ## we'll use this later. It's a list of countries we're interested in analyzing\n"
   ]
  },
  {
   "cell_type": "code",
   "execution_count": 5,
   "metadata": {
    "collapsed": false
   },
   "outputs": [
    {
     "data": {
      "text/html": [
       "<div>\n",
       "<table border=\"1\" class=\"dataframe\">\n",
       "  <thead>\n",
       "    <tr style=\"text-align: right;\">\n",
       "      <th></th>\n",
       "      <th>tourney_name</th>\n",
       "      <th>surface</th>\n",
       "      <th>tourney_date</th>\n",
       "      <th>winner_name</th>\n",
       "      <th>winner_hand</th>\n",
       "      <th>winner_ht</th>\n",
       "      <th>winner_ioc</th>\n",
       "      <th>winner_age</th>\n",
       "      <th>winner_rank</th>\n",
       "      <th>loser_name</th>\n",
       "      <th>...</th>\n",
       "      <th>w_bpFaced</th>\n",
       "      <th>l_ace</th>\n",
       "      <th>l_df</th>\n",
       "      <th>l_svpt</th>\n",
       "      <th>l_1stIn</th>\n",
       "      <th>l_1stWon</th>\n",
       "      <th>l_2ndWon</th>\n",
       "      <th>l_SvGms</th>\n",
       "      <th>l_bpSaved</th>\n",
       "      <th>l_bpFaced</th>\n",
       "    </tr>\n",
       "  </thead>\n",
       "  <tbody>\n",
       "    <tr>\n",
       "      <th>0</th>\n",
       "      <td>Kitzbuhel</td>\n",
       "      <td>Clay</td>\n",
       "      <td>20130728</td>\n",
       "      <td>Leonardo Mayer</td>\n",
       "      <td>R</td>\n",
       "      <td>188.0</td>\n",
       "      <td>ARG</td>\n",
       "      <td>26.206708</td>\n",
       "      <td>78.0</td>\n",
       "      <td>Kenny De Schepper</td>\n",
       "      <td>...</td>\n",
       "      <td>0.0</td>\n",
       "      <td>3.0</td>\n",
       "      <td>4.0</td>\n",
       "      <td>78.0</td>\n",
       "      <td>45.0</td>\n",
       "      <td>30.0</td>\n",
       "      <td>16.0</td>\n",
       "      <td>10.0</td>\n",
       "      <td>10.0</td>\n",
       "      <td>12.0</td>\n",
       "    </tr>\n",
       "    <tr>\n",
       "      <th>1</th>\n",
       "      <td>Kitzbuhel</td>\n",
       "      <td>Clay</td>\n",
       "      <td>20130728</td>\n",
       "      <td>Horacio Zeballos</td>\n",
       "      <td>L</td>\n",
       "      <td>188.0</td>\n",
       "      <td>ARG</td>\n",
       "      <td>28.254620</td>\n",
       "      <td>54.0</td>\n",
       "      <td>Martin Fischer</td>\n",
       "      <td>...</td>\n",
       "      <td>16.0</td>\n",
       "      <td>4.0</td>\n",
       "      <td>2.0</td>\n",
       "      <td>81.0</td>\n",
       "      <td>44.0</td>\n",
       "      <td>30.0</td>\n",
       "      <td>21.0</td>\n",
       "      <td>14.0</td>\n",
       "      <td>5.0</td>\n",
       "      <td>9.0</td>\n",
       "    </tr>\n",
       "    <tr>\n",
       "      <th>2</th>\n",
       "      <td>Kitzbuhel</td>\n",
       "      <td>Clay</td>\n",
       "      <td>20130728</td>\n",
       "      <td>Marcel Granollers</td>\n",
       "      <td>R</td>\n",
       "      <td>190.0</td>\n",
       "      <td>ESP</td>\n",
       "      <td>27.296372</td>\n",
       "      <td>53.0</td>\n",
       "      <td>Mate Pavic</td>\n",
       "      <td>...</td>\n",
       "      <td>6.0</td>\n",
       "      <td>2.0</td>\n",
       "      <td>3.0</td>\n",
       "      <td>73.0</td>\n",
       "      <td>39.0</td>\n",
       "      <td>26.0</td>\n",
       "      <td>19.0</td>\n",
       "      <td>10.0</td>\n",
       "      <td>6.0</td>\n",
       "      <td>8.0</td>\n",
       "    </tr>\n",
       "    <tr>\n",
       "      <th>3</th>\n",
       "      <td>Kitzbuhel</td>\n",
       "      <td>Clay</td>\n",
       "      <td>20130728</td>\n",
       "      <td>Guillermo Garcia Lopez</td>\n",
       "      <td>R</td>\n",
       "      <td>188.0</td>\n",
       "      <td>ESP</td>\n",
       "      <td>30.151951</td>\n",
       "      <td>72.0</td>\n",
       "      <td>Thomaz Bellucci</td>\n",
       "      <td>...</td>\n",
       "      <td>15.0</td>\n",
       "      <td>9.0</td>\n",
       "      <td>3.0</td>\n",
       "      <td>116.0</td>\n",
       "      <td>62.0</td>\n",
       "      <td>38.0</td>\n",
       "      <td>27.0</td>\n",
       "      <td>16.0</td>\n",
       "      <td>6.0</td>\n",
       "      <td>12.0</td>\n",
       "    </tr>\n",
       "    <tr>\n",
       "      <th>4</th>\n",
       "      <td>Kitzbuhel</td>\n",
       "      <td>Clay</td>\n",
       "      <td>20130728</td>\n",
       "      <td>Robin Haase</td>\n",
       "      <td>R</td>\n",
       "      <td>190.0</td>\n",
       "      <td>NED</td>\n",
       "      <td>26.313484</td>\n",
       "      <td>68.0</td>\n",
       "      <td>Guillaume Rufin</td>\n",
       "      <td>...</td>\n",
       "      <td>6.0</td>\n",
       "      <td>2.0</td>\n",
       "      <td>7.0</td>\n",
       "      <td>88.0</td>\n",
       "      <td>48.0</td>\n",
       "      <td>32.0</td>\n",
       "      <td>15.0</td>\n",
       "      <td>11.0</td>\n",
       "      <td>7.0</td>\n",
       "      <td>11.0</td>\n",
       "    </tr>\n",
       "  </tbody>\n",
       "</table>\n",
       "<p>5 rows × 37 columns</p>\n",
       "</div>"
      ],
      "text/plain": [
       "  tourney_name surface  tourney_date             winner_name winner_hand  \\\n",
       "0    Kitzbuhel    Clay      20130728          Leonardo Mayer           R   \n",
       "1    Kitzbuhel    Clay      20130728        Horacio Zeballos           L   \n",
       "2    Kitzbuhel    Clay      20130728       Marcel Granollers           R   \n",
       "3    Kitzbuhel    Clay      20130728  Guillermo Garcia Lopez           R   \n",
       "4    Kitzbuhel    Clay      20130728             Robin Haase           R   \n",
       "\n",
       "   winner_ht winner_ioc  winner_age  winner_rank         loser_name  \\\n",
       "0      188.0        ARG   26.206708         78.0  Kenny De Schepper   \n",
       "1      188.0        ARG   28.254620         54.0     Martin Fischer   \n",
       "2      190.0        ESP   27.296372         53.0         Mate Pavic   \n",
       "3      188.0        ESP   30.151951         72.0    Thomaz Bellucci   \n",
       "4      190.0        NED   26.313484         68.0    Guillaume Rufin   \n",
       "\n",
       "     ...     w_bpFaced  l_ace l_df  l_svpt  l_1stIn l_1stWon  l_2ndWon  \\\n",
       "0    ...           0.0    3.0  4.0    78.0     45.0     30.0      16.0   \n",
       "1    ...          16.0    4.0  2.0    81.0     44.0     30.0      21.0   \n",
       "2    ...           6.0    2.0  3.0    73.0     39.0     26.0      19.0   \n",
       "3    ...          15.0    9.0  3.0   116.0     62.0     38.0      27.0   \n",
       "4    ...           6.0    2.0  7.0    88.0     48.0     32.0      15.0   \n",
       "\n",
       "  l_SvGms  l_bpSaved  l_bpFaced  \n",
       "0    10.0       10.0       12.0  \n",
       "1    14.0        5.0        9.0  \n",
       "2    10.0        6.0        8.0  \n",
       "3    16.0        6.0       12.0  \n",
       "4    11.0        7.0       11.0  \n",
       "\n",
       "[5 rows x 37 columns]"
      ]
     },
     "execution_count": 5,
     "metadata": {},
     "output_type": "execute_result"
    }
   ],
   "source": [
    "# create our final master dataframe which combines the dataframes for each year\n",
    "atp = atp2013.append(atp2014).append(atp2015)\n",
    "atp.head()"
   ]
  },
  {
   "cell_type": "markdown",
   "metadata": {},
   "source": [
    "Finally, we decided that in order to keep our research as controlled as possible, we removed Grand Slam matches, which are played best 3 out of 5 sets. Our final dataframe consists of the results of matches that were played best 2 out of 3."
   ]
  },
  {
   "cell_type": "code",
   "execution_count": 6,
   "metadata": {
    "collapsed": true
   },
   "outputs": [],
   "source": [
    "atp= atp[atp['best_of'].isin([3])]"
   ]
  },
  {
   "cell_type": "markdown",
   "metadata": {},
   "source": [
    "Now that we have our \"Master DataFrame\", we decided to look at nationality's effects on play based on a few different metrics:\n",
    "    \n",
    "    1) Length of Time of a Match\n",
    "    2) Win Percentage per Surface\n",
    "    3) Unforced Errors Committed Over Time\n",
    "    4) Break Points Saved as a percentage of Break Points Faced\n",
    "\n",
    "The challenge in this dataframe is that for each match, there is a winner and a loser. This means that a lot of the data manipulation involves tracking the players both in the wins and the losses column."
   ]
  },
  {
   "cell_type": "markdown",
   "metadata": {},
   "source": [
    "## Length of Time\n",
    "Because Europeans play on clay on courts for all of their junior careers, their games are more suited to this surface. Since clay is a slow surface, one would anticipate that a European player would play longer matches. The same goes for Americans. Hard courts, which are notoriously fast, are the predominant surface in the US. This means American players are used to short points, so one would expect the overall match would be shorter."
   ]
  },
  {
   "cell_type": "code",
   "execution_count": 7,
   "metadata": {
    "collapsed": false
   },
   "outputs": [
    {
     "data": {
      "text/html": [
       "<div>\n",
       "<table border=\"1\" class=\"dataframe\">\n",
       "  <thead>\n",
       "    <tr style=\"text-align: right;\">\n",
       "      <th></th>\n",
       "      <th>minutes</th>\n",
       "    </tr>\n",
       "    <tr>\n",
       "      <th>Country</th>\n",
       "      <th></th>\n",
       "    </tr>\n",
       "  </thead>\n",
       "  <tbody>\n",
       "    <tr>\n",
       "      <th>USA</th>\n",
       "      <td>92.684848</td>\n",
       "    </tr>\n",
       "    <tr>\n",
       "      <th>FRA</th>\n",
       "      <td>91.388489</td>\n",
       "    </tr>\n",
       "    <tr>\n",
       "      <th>ESP</th>\n",
       "      <td>97.551601</td>\n",
       "    </tr>\n",
       "    <tr>\n",
       "      <th>SRB</th>\n",
       "      <td>94.032787</td>\n",
       "    </tr>\n",
       "    <tr>\n",
       "      <th>JPN</th>\n",
       "      <td>96.401869</td>\n",
       "    </tr>\n",
       "    <tr>\n",
       "      <th>AUS</th>\n",
       "      <td>93.511628</td>\n",
       "    </tr>\n",
       "    <tr>\n",
       "      <th>ARG</th>\n",
       "      <td>99.451505</td>\n",
       "    </tr>\n",
       "  </tbody>\n",
       "</table>\n",
       "</div>"
      ],
      "text/plain": [
       "           minutes\n",
       "Country           \n",
       "USA      92.684848\n",
       "FRA      91.388489\n",
       "ESP      97.551601\n",
       "SRB      94.032787\n",
       "JPN      96.401869\n",
       "AUS      93.511628\n",
       "ARG      99.451505"
      ]
     },
     "execution_count": 7,
     "metadata": {},
     "output_type": "execute_result"
    }
   ],
   "source": [
    " # get average length of time for matches that a country won\n",
    "g = atp[['winner_ioc','minutes']].groupby('winner_ioc')\n",
    "gm=g.mean()\n",
    "minW=minW= gm.loc[countries] #pull average match length for countries we want to examine\n",
    "\n",
    "# because there is a winner_ioc and a loser_ioc, we have to rename the index to countries in order combine the dataframes\n",
    "minW.index.name='Country'\n",
    "minW"
   ]
  },
  {
   "cell_type": "code",
   "execution_count": 8,
   "metadata": {
    "collapsed": false
   },
   "outputs": [
    {
     "data": {
      "text/html": [
       "<div>\n",
       "<table border=\"1\" class=\"dataframe\">\n",
       "  <thead>\n",
       "    <tr style=\"text-align: right;\">\n",
       "      <th></th>\n",
       "      <th>minutes</th>\n",
       "    </tr>\n",
       "    <tr>\n",
       "      <th>Country</th>\n",
       "      <th></th>\n",
       "    </tr>\n",
       "  </thead>\n",
       "  <tbody>\n",
       "    <tr>\n",
       "      <th>USA</th>\n",
       "      <td>91.939474</td>\n",
       "    </tr>\n",
       "    <tr>\n",
       "      <th>FRA</th>\n",
       "      <td>93.676208</td>\n",
       "    </tr>\n",
       "    <tr>\n",
       "      <th>ESP</th>\n",
       "      <td>99.770167</td>\n",
       "    </tr>\n",
       "    <tr>\n",
       "      <th>SRB</th>\n",
       "      <td>96.153153</td>\n",
       "    </tr>\n",
       "    <tr>\n",
       "      <th>JPN</th>\n",
       "      <td>85.294872</td>\n",
       "    </tr>\n",
       "    <tr>\n",
       "      <th>AUS</th>\n",
       "      <td>94.548837</td>\n",
       "    </tr>\n",
       "    <tr>\n",
       "      <th>ARG</th>\n",
       "      <td>100.454225</td>\n",
       "    </tr>\n",
       "  </tbody>\n",
       "</table>\n",
       "</div>"
      ],
      "text/plain": [
       "            minutes\n",
       "Country            \n",
       "USA       91.939474\n",
       "FRA       93.676208\n",
       "ESP       99.770167\n",
       "SRB       96.153153\n",
       "JPN       85.294872\n",
       "AUS       94.548837\n",
       "ARG      100.454225"
      ]
     },
     "execution_count": 8,
     "metadata": {},
     "output_type": "execute_result"
    }
   ],
   "source": [
    "# now we do the same for the matches that the countries lost\n",
    "l = atp[['loser_ioc','minutes']].groupby('loser_ioc')\n",
    "gl=l.mean()\n",
    "minL= gl.loc[countries]\n",
    "minL.index.name='Country'\n",
    "minL"
   ]
  },
  {
   "cell_type": "code",
   "execution_count": 9,
   "metadata": {
    "collapsed": false
   },
   "outputs": [
    {
     "data": {
      "text/html": [
       "<div>\n",
       "<table border=\"1\" class=\"dataframe\">\n",
       "  <thead>\n",
       "    <tr style=\"text-align: right;\">\n",
       "      <th></th>\n",
       "      <th>minutes</th>\n",
       "      <th>minutesW</th>\n",
       "      <th>Average</th>\n",
       "    </tr>\n",
       "    <tr>\n",
       "      <th>Country</th>\n",
       "      <th></th>\n",
       "      <th></th>\n",
       "      <th></th>\n",
       "    </tr>\n",
       "  </thead>\n",
       "  <tbody>\n",
       "    <tr>\n",
       "      <th>USA</th>\n",
       "      <td>91.939474</td>\n",
       "      <td>92.684848</td>\n",
       "      <td>92.312161</td>\n",
       "    </tr>\n",
       "    <tr>\n",
       "      <th>FRA</th>\n",
       "      <td>93.676208</td>\n",
       "      <td>91.388489</td>\n",
       "      <td>92.532348</td>\n",
       "    </tr>\n",
       "    <tr>\n",
       "      <th>ESP</th>\n",
       "      <td>99.770167</td>\n",
       "      <td>97.551601</td>\n",
       "      <td>98.660884</td>\n",
       "    </tr>\n",
       "    <tr>\n",
       "      <th>SRB</th>\n",
       "      <td>96.153153</td>\n",
       "      <td>94.032787</td>\n",
       "      <td>95.092970</td>\n",
       "    </tr>\n",
       "    <tr>\n",
       "      <th>JPN</th>\n",
       "      <td>85.294872</td>\n",
       "      <td>96.401869</td>\n",
       "      <td>90.848370</td>\n",
       "    </tr>\n",
       "    <tr>\n",
       "      <th>AUS</th>\n",
       "      <td>94.548837</td>\n",
       "      <td>93.511628</td>\n",
       "      <td>94.030233</td>\n",
       "    </tr>\n",
       "    <tr>\n",
       "      <th>ARG</th>\n",
       "      <td>100.454225</td>\n",
       "      <td>99.451505</td>\n",
       "      <td>99.952865</td>\n",
       "    </tr>\n",
       "  </tbody>\n",
       "</table>\n",
       "</div>"
      ],
      "text/plain": [
       "            minutes   minutesW    Average\n",
       "Country                                  \n",
       "USA       91.939474  92.684848  92.312161\n",
       "FRA       93.676208  91.388489  92.532348\n",
       "ESP       99.770167  97.551601  98.660884\n",
       "SRB       96.153153  94.032787  95.092970\n",
       "JPN       85.294872  96.401869  90.848370\n",
       "AUS       94.548837  93.511628  94.030233\n",
       "ARG      100.454225  99.451505  99.952865"
      ]
     },
     "execution_count": 9,
     "metadata": {},
     "output_type": "execute_result"
    }
   ],
   "source": [
    "# Combine the average won and lost time to a total average\n",
    "minL['minutesW']=minW['minutes']\n",
    "minL['Average']= (minL['minutes']+minL['minutesW'])/2\n",
    "minL"
   ]
  },
  {
   "cell_type": "markdown",
   "metadata": {},
   "source": [
    "We are only interested in the Average column, as that is the average time for **all** matches, so that is the one we used to create our graph."
   ]
  },
  {
   "cell_type": "code",
   "execution_count": 10,
   "metadata": {
    "collapsed": false
   },
   "outputs": [
    {
     "data": {
      "text/plain": [
       "<matplotlib.axes._subplots.AxesSubplot at 0x119bb84a8>"
      ]
     },
     "execution_count": 10,
     "metadata": {},
     "output_type": "execute_result"
    },
    {
     "data": {
      "image/png": "[encoded data removed]",
      "text/plain": [
       "<matplotlib.figure.Figure at 0x117fe9a20>"
      ]
     },
     "metadata": {},
     "output_type": "display_data"
    }
   ],
   "source": [
    "minL['Average'].plot(kind='bar',\n",
    "                    ylim= (80,105))"
   ]
  },
  {
   "cell_type": "markdown",
   "metadata": {},
   "source": [
    "This graph supports the popular consensus people have about players from certain countries. Spanish players are known as the clay court masters who play incredibly long points. As this graph shows, Spanish players play longer matches on average than every other country expect for Argentina, a country also known for its clay court play. The United States, as to be expected, plays among the shortest matches on average, only behind Japan, a country where hard courts are the predominant surface."
   ]
  },
  {
   "cell_type": "markdown",
   "metadata": {},
   "source": [
    "## Win Percentage per Surface\n",
    "As certain players grow up on certain surfaces, it is to be expected that this would be reflected in their win percentages. Our next analysis examines just that. To manipulate the data so that we can graph the win percentages by surfaces for each country, we had to count how many times the player's country showed up in the wins column and loss column, and then compute their win percentage."
   ]
  },
  {
   "cell_type": "code",
   "execution_count": 11,
   "metadata": {
    "collapsed": true
   },
   "outputs": [],
   "source": [
    "w = atp[['winner_ioc','surface']].groupby(['surface']) # group the results by surface"
   ]
  },
  {
   "cell_type": "code",
   "execution_count": 12,
   "metadata": {
    "collapsed": true
   },
   "outputs": [],
   "source": [
    "# count of how many times each country shows up in the wins column and turn into a dataframe\n",
    "t= w.winner_ioc.value_counts()\n",
    "tt=pd.DataFrame(t)"
   ]
  },
  {
   "cell_type": "code",
   "execution_count": 13,
   "metadata": {
    "collapsed": false
   },
   "outputs": [
    {
     "data": {
      "text/html": [
       "<div>\n",
       "<table border=\"1\" class=\"dataframe\">\n",
       "  <thead>\n",
       "    <tr style=\"text-align: right;\">\n",
       "      <th></th>\n",
       "      <th></th>\n",
       "      <th>winner_ioc</th>\n",
       "    </tr>\n",
       "    <tr>\n",
       "      <th>surface</th>\n",
       "      <th>winner_ioc</th>\n",
       "      <th></th>\n",
       "    </tr>\n",
       "  </thead>\n",
       "  <tbody>\n",
       "    <tr>\n",
       "      <th rowspan=\"5\" valign=\"top\">Clay</th>\n",
       "      <th>ESP</th>\n",
       "      <td>533</td>\n",
       "    </tr>\n",
       "    <tr>\n",
       "      <th>ARG</th>\n",
       "      <td>209</td>\n",
       "    </tr>\n",
       "    <tr>\n",
       "      <th>FRA</th>\n",
       "      <td>154</td>\n",
       "    </tr>\n",
       "    <tr>\n",
       "      <th>ITA</th>\n",
       "      <td>129</td>\n",
       "    </tr>\n",
       "    <tr>\n",
       "      <th>GER</th>\n",
       "      <td>121</td>\n",
       "    </tr>\n",
       "  </tbody>\n",
       "</table>\n",
       "</div>"
      ],
      "text/plain": [
       "                    winner_ioc\n",
       "surface winner_ioc            \n",
       "Clay    ESP                533\n",
       "        ARG                209\n",
       "        FRA                154\n",
       "        ITA                129\n",
       "        GER                121"
      ]
     },
     "execution_count": 13,
     "metadata": {},
     "output_type": "execute_result"
    }
   ],
   "source": [
    "tt.head()"
   ]
  },
  {
   "cell_type": "code",
   "execution_count": 14,
   "metadata": {
    "collapsed": false
   },
   "outputs": [
    {
     "data": {
      "text/html": [
       "<div>\n",
       "<table border=\"1\" class=\"dataframe\">\n",
       "  <thead>\n",
       "    <tr>\n",
       "      <th></th>\n",
       "      <th colspan=\"3\" halign=\"left\">winner_ioc</th>\n",
       "    </tr>\n",
       "    <tr>\n",
       "      <th>surface</th>\n",
       "      <th>Clay</th>\n",
       "      <th>Grass</th>\n",
       "      <th>Hard</th>\n",
       "    </tr>\n",
       "    <tr>\n",
       "      <th>winner_ioc</th>\n",
       "      <th></th>\n",
       "      <th></th>\n",
       "      <th></th>\n",
       "    </tr>\n",
       "  </thead>\n",
       "  <tbody>\n",
       "    <tr>\n",
       "      <th>ALG</th>\n",
       "      <td>2.0</td>\n",
       "      <td>NaN</td>\n",
       "      <td>1.0</td>\n",
       "    </tr>\n",
       "    <tr>\n",
       "      <th>ARG</th>\n",
       "      <td>209.0</td>\n",
       "      <td>7.0</td>\n",
       "      <td>109.0</td>\n",
       "    </tr>\n",
       "    <tr>\n",
       "      <th>AUS</th>\n",
       "      <td>20.0</td>\n",
       "      <td>40.0</td>\n",
       "      <td>160.0</td>\n",
       "    </tr>\n",
       "    <tr>\n",
       "      <th>AUT</th>\n",
       "      <td>65.0</td>\n",
       "      <td>7.0</td>\n",
       "      <td>49.0</td>\n",
       "    </tr>\n",
       "    <tr>\n",
       "      <th>BAR</th>\n",
       "      <td>1.0</td>\n",
       "      <td>NaN</td>\n",
       "      <td>1.0</td>\n",
       "    </tr>\n",
       "  </tbody>\n",
       "</table>\n",
       "</div>"
      ],
      "text/plain": [
       "           winner_ioc             \n",
       "surface          Clay Grass   Hard\n",
       "winner_ioc                        \n",
       "ALG               2.0   NaN    1.0\n",
       "ARG             209.0   7.0  109.0\n",
       "AUS              20.0  40.0  160.0\n",
       "AUT              65.0   7.0   49.0\n",
       "BAR               1.0   NaN    1.0"
      ]
     },
     "execution_count": 14,
     "metadata": {},
     "output_type": "execute_result"
    }
   ],
   "source": [
    "# move surface out of the index to look at a country's wins per surface\n",
    "tt=tt.unstack(level='surface')\n",
    "tt.head()"
   ]
  },
  {
   "cell_type": "code",
   "execution_count": 15,
   "metadata": {
    "collapsed": false
   },
   "outputs": [
    {
     "data": {
      "text/html": [
       "<div>\n",
       "<table border=\"1\" class=\"dataframe\">\n",
       "  <thead>\n",
       "    <tr style=\"text-align: right;\">\n",
       "      <th></th>\n",
       "      <th>Country</th>\n",
       "      <th>Clay Wins</th>\n",
       "      <th>Grass Wins</th>\n",
       "      <th>Hard Wins</th>\n",
       "    </tr>\n",
       "  </thead>\n",
       "  <tbody>\n",
       "    <tr>\n",
       "      <th>0</th>\n",
       "      <td>USA</td>\n",
       "      <td>52.0</td>\n",
       "      <td>54.0</td>\n",
       "      <td>321.0</td>\n",
       "    </tr>\n",
       "    <tr>\n",
       "      <th>1</th>\n",
       "      <td>FRA</td>\n",
       "      <td>154.0</td>\n",
       "      <td>79.0</td>\n",
       "      <td>451.0</td>\n",
       "    </tr>\n",
       "    <tr>\n",
       "      <th>2</th>\n",
       "      <td>ESP</td>\n",
       "      <td>533.0</td>\n",
       "      <td>43.0</td>\n",
       "      <td>412.0</td>\n",
       "    </tr>\n",
       "    <tr>\n",
       "      <th>3</th>\n",
       "      <td>SRB</td>\n",
       "      <td>68.0</td>\n",
       "      <td>7.0</td>\n",
       "      <td>160.0</td>\n",
       "    </tr>\n",
       "    <tr>\n",
       "      <th>4</th>\n",
       "      <td>JPN</td>\n",
       "      <td>28.0</td>\n",
       "      <td>11.0</td>\n",
       "      <td>101.0</td>\n",
       "    </tr>\n",
       "    <tr>\n",
       "      <th>5</th>\n",
       "      <td>AUS</td>\n",
       "      <td>20.0</td>\n",
       "      <td>40.0</td>\n",
       "      <td>160.0</td>\n",
       "    </tr>\n",
       "    <tr>\n",
       "      <th>6</th>\n",
       "      <td>ARG</td>\n",
       "      <td>209.0</td>\n",
       "      <td>7.0</td>\n",
       "      <td>109.0</td>\n",
       "    </tr>\n",
       "  </tbody>\n",
       "</table>\n",
       "</div>"
      ],
      "text/plain": [
       "  Country  Clay Wins  Grass Wins  Hard Wins\n",
       "0     USA       52.0        54.0      321.0\n",
       "1     FRA      154.0        79.0      451.0\n",
       "2     ESP      533.0        43.0      412.0\n",
       "3     SRB       68.0         7.0      160.0\n",
       "4     JPN       28.0        11.0      101.0\n",
       "5     AUS       20.0        40.0      160.0\n",
       "6     ARG      209.0         7.0      109.0"
      ]
     },
     "execution_count": 15,
     "metadata": {},
     "output_type": "execute_result"
    }
   ],
   "source": [
    "tt=tt.loc[countries] # pull out countries we are examining\n",
    "tt.columns=['Clay Wins', 'Grass Wins', 'Hard Wins']\n",
    "tt.index.rename('Country', inplace=True) # changing winner_ioc to country allows us to add losses to the dataframe in a coherent way\n",
    "tt=tt.reset_index() # in order to merge the data on country, it must not be in the index\n",
    "tt"
   ]
  },
  {
   "cell_type": "code",
   "execution_count": 16,
   "metadata": {
    "collapsed": true
   },
   "outputs": [],
   "source": [
    "# compute losses by surface per country\n",
    "l= atp[['loser_ioc','surface']].groupby(['surface'])"
   ]
  },
  {
   "cell_type": "code",
   "execution_count": 17,
   "metadata": {
    "collapsed": false
   },
   "outputs": [
    {
     "data": {
      "text/html": [
       "<div>\n",
       "<table border=\"1\" class=\"dataframe\">\n",
       "  <thead>\n",
       "    <tr style=\"text-align: right;\">\n",
       "      <th></th>\n",
       "      <th>Country</th>\n",
       "      <th>Clay Losses</th>\n",
       "      <th>Grass Losses</th>\n",
       "      <th>Hard Losses</th>\n",
       "    </tr>\n",
       "  </thead>\n",
       "  <tbody>\n",
       "    <tr>\n",
       "      <th>0</th>\n",
       "      <td>USA</td>\n",
       "      <td>60.0</td>\n",
       "      <td>63.0</td>\n",
       "      <td>346.0</td>\n",
       "    </tr>\n",
       "    <tr>\n",
       "      <th>1</th>\n",
       "      <td>FRA</td>\n",
       "      <td>175.0</td>\n",
       "      <td>64.0</td>\n",
       "      <td>424.0</td>\n",
       "    </tr>\n",
       "    <tr>\n",
       "      <th>2</th>\n",
       "      <td>ESP</td>\n",
       "      <td>381.0</td>\n",
       "      <td>38.0</td>\n",
       "      <td>367.0</td>\n",
       "    </tr>\n",
       "    <tr>\n",
       "      <th>3</th>\n",
       "      <td>SRB</td>\n",
       "      <td>53.0</td>\n",
       "      <td>7.0</td>\n",
       "      <td>78.0</td>\n",
       "    </tr>\n",
       "    <tr>\n",
       "      <th>4</th>\n",
       "      <td>JPN</td>\n",
       "      <td>14.0</td>\n",
       "      <td>10.0</td>\n",
       "      <td>87.0</td>\n",
       "    </tr>\n",
       "    <tr>\n",
       "      <th>5</th>\n",
       "      <td>AUS</td>\n",
       "      <td>45.0</td>\n",
       "      <td>32.0</td>\n",
       "      <td>190.0</td>\n",
       "    </tr>\n",
       "    <tr>\n",
       "      <th>6</th>\n",
       "      <td>ARG</td>\n",
       "      <td>192.0</td>\n",
       "      <td>14.0</td>\n",
       "      <td>109.0</td>\n",
       "    </tr>\n",
       "  </tbody>\n",
       "</table>\n",
       "</div>"
      ],
      "text/plain": [
       "  Country  Clay Losses  Grass Losses  Hard Losses\n",
       "0     USA         60.0          63.0        346.0\n",
       "1     FRA        175.0          64.0        424.0\n",
       "2     ESP        381.0          38.0        367.0\n",
       "3     SRB         53.0           7.0         78.0\n",
       "4     JPN         14.0          10.0         87.0\n",
       "5     AUS         45.0          32.0        190.0\n",
       "6     ARG        192.0          14.0        109.0"
      ]
     },
     "execution_count": 17,
     "metadata": {},
     "output_type": "execute_result"
    }
   ],
   "source": [
    "x= l.loser_ioc.value_counts()\n",
    "xx=pd.DataFrame(x)\n",
    "xx=xx.unstack(level='surface')\n",
    "xx=xx.loc[countries]\n",
    "xx.index.rename('Country', inplace=True)\n",
    "xx.columns=['Clay Losses', 'Grass Losses', 'Hard Losses']\n",
    "xx=xx.reset_index()\n",
    "xx"
   ]
  },
  {
   "cell_type": "code",
   "execution_count": 18,
   "metadata": {
    "collapsed": false
   },
   "outputs": [
    {
     "data": {
      "text/html": [
       "<div>\n",
       "<table border=\"1\" class=\"dataframe\">\n",
       "  <thead>\n",
       "    <tr style=\"text-align: right;\">\n",
       "      <th></th>\n",
       "      <th>Clay Wins</th>\n",
       "      <th>Grass Wins</th>\n",
       "      <th>Hard Wins</th>\n",
       "      <th>Clay Losses</th>\n",
       "      <th>Grass Losses</th>\n",
       "      <th>Hard Losses</th>\n",
       "    </tr>\n",
       "    <tr>\n",
       "      <th>Country</th>\n",
       "      <th></th>\n",
       "      <th></th>\n",
       "      <th></th>\n",
       "      <th></th>\n",
       "      <th></th>\n",
       "      <th></th>\n",
       "    </tr>\n",
       "  </thead>\n",
       "  <tbody>\n",
       "    <tr>\n",
       "      <th>USA</th>\n",
       "      <td>52.0</td>\n",
       "      <td>54.0</td>\n",
       "      <td>321.0</td>\n",
       "      <td>60.0</td>\n",
       "      <td>63.0</td>\n",
       "      <td>346.0</td>\n",
       "    </tr>\n",
       "    <tr>\n",
       "      <th>FRA</th>\n",
       "      <td>154.0</td>\n",
       "      <td>79.0</td>\n",
       "      <td>451.0</td>\n",
       "      <td>175.0</td>\n",
       "      <td>64.0</td>\n",
       "      <td>424.0</td>\n",
       "    </tr>\n",
       "    <tr>\n",
       "      <th>ESP</th>\n",
       "      <td>533.0</td>\n",
       "      <td>43.0</td>\n",
       "      <td>412.0</td>\n",
       "      <td>381.0</td>\n",
       "      <td>38.0</td>\n",
       "      <td>367.0</td>\n",
       "    </tr>\n",
       "    <tr>\n",
       "      <th>SRB</th>\n",
       "      <td>68.0</td>\n",
       "      <td>7.0</td>\n",
       "      <td>160.0</td>\n",
       "      <td>53.0</td>\n",
       "      <td>7.0</td>\n",
       "      <td>78.0</td>\n",
       "    </tr>\n",
       "    <tr>\n",
       "      <th>JPN</th>\n",
       "      <td>28.0</td>\n",
       "      <td>11.0</td>\n",
       "      <td>101.0</td>\n",
       "      <td>14.0</td>\n",
       "      <td>10.0</td>\n",
       "      <td>87.0</td>\n",
       "    </tr>\n",
       "    <tr>\n",
       "      <th>AUS</th>\n",
       "      <td>20.0</td>\n",
       "      <td>40.0</td>\n",
       "      <td>160.0</td>\n",
       "      <td>45.0</td>\n",
       "      <td>32.0</td>\n",
       "      <td>190.0</td>\n",
       "    </tr>\n",
       "    <tr>\n",
       "      <th>ARG</th>\n",
       "      <td>209.0</td>\n",
       "      <td>7.0</td>\n",
       "      <td>109.0</td>\n",
       "      <td>192.0</td>\n",
       "      <td>14.0</td>\n",
       "      <td>109.0</td>\n",
       "    </tr>\n",
       "  </tbody>\n",
       "</table>\n",
       "</div>"
      ],
      "text/plain": [
       "         Clay Wins  Grass Wins  Hard Wins  Clay Losses  Grass Losses  \\\n",
       "Country                                                                \n",
       "USA           52.0        54.0      321.0         60.0          63.0   \n",
       "FRA          154.0        79.0      451.0        175.0          64.0   \n",
       "ESP          533.0        43.0      412.0        381.0          38.0   \n",
       "SRB           68.0         7.0      160.0         53.0           7.0   \n",
       "JPN           28.0        11.0      101.0         14.0          10.0   \n",
       "AUS           20.0        40.0      160.0         45.0          32.0   \n",
       "ARG          209.0         7.0      109.0        192.0          14.0   \n",
       "\n",
       "         Hard Losses  \n",
       "Country               \n",
       "USA            346.0  \n",
       "FRA            424.0  \n",
       "ESP            367.0  \n",
       "SRB             78.0  \n",
       "JPN             87.0  \n",
       "AUS            190.0  \n",
       "ARG            109.0  "
      ]
     },
     "execution_count": 18,
     "metadata": {},
     "output_type": "execute_result"
    }
   ],
   "source": [
    "wl = pd.merge(tt,xx,\n",
    "             how= 'right',\n",
    "             on= 'Country') #merge the two dataframes\n",
    "wl=wl.set_index('Country')\n",
    "wl"
   ]
  },
  {
   "cell_type": "markdown",
   "metadata": {},
   "source": [
    "Now that we have the wins and losses by surface for each country, we can make a new dataframe that has the win percentage by surface by country. A `for` loop makes this simple."
   ]
  },
  {
   "cell_type": "code",
   "execution_count": 19,
   "metadata": {
    "collapsed": false
   },
   "outputs": [
    {
     "data": {
      "text/html": [
       "<div>\n",
       "<table border=\"1\" class=\"dataframe\">\n",
       "  <thead>\n",
       "    <tr style=\"text-align: right;\">\n",
       "      <th></th>\n",
       "      <th>Clay Win%</th>\n",
       "      <th>Grass Win%</th>\n",
       "      <th>Hard Win%</th>\n",
       "    </tr>\n",
       "    <tr>\n",
       "      <th>Country</th>\n",
       "      <th></th>\n",
       "      <th></th>\n",
       "      <th></th>\n",
       "    </tr>\n",
       "  </thead>\n",
       "  <tbody>\n",
       "    <tr>\n",
       "      <th>USA</th>\n",
       "      <td>0.464286</td>\n",
       "      <td>0.461538</td>\n",
       "      <td>0.481259</td>\n",
       "    </tr>\n",
       "    <tr>\n",
       "      <th>FRA</th>\n",
       "      <td>0.468085</td>\n",
       "      <td>0.552448</td>\n",
       "      <td>0.515429</td>\n",
       "    </tr>\n",
       "    <tr>\n",
       "      <th>ESP</th>\n",
       "      <td>0.583151</td>\n",
       "      <td>0.530864</td>\n",
       "      <td>0.528883</td>\n",
       "    </tr>\n",
       "    <tr>\n",
       "      <th>SRB</th>\n",
       "      <td>0.561983</td>\n",
       "      <td>0.500000</td>\n",
       "      <td>0.672269</td>\n",
       "    </tr>\n",
       "    <tr>\n",
       "      <th>JPN</th>\n",
       "      <td>0.666667</td>\n",
       "      <td>0.523810</td>\n",
       "      <td>0.537234</td>\n",
       "    </tr>\n",
       "    <tr>\n",
       "      <th>AUS</th>\n",
       "      <td>0.307692</td>\n",
       "      <td>0.555556</td>\n",
       "      <td>0.457143</td>\n",
       "    </tr>\n",
       "    <tr>\n",
       "      <th>ARG</th>\n",
       "      <td>0.521197</td>\n",
       "      <td>0.333333</td>\n",
       "      <td>0.500000</td>\n",
       "    </tr>\n",
       "  </tbody>\n",
       "</table>\n",
       "</div>"
      ],
      "text/plain": [
       "         Clay Win%  Grass Win%  Hard Win%\n",
       "Country                                  \n",
       "USA       0.464286    0.461538   0.481259\n",
       "FRA       0.468085    0.552448   0.515429\n",
       "ESP       0.583151    0.530864   0.528883\n",
       "SRB       0.561983    0.500000   0.672269\n",
       "JPN       0.666667    0.523810   0.537234\n",
       "AUS       0.307692    0.555556   0.457143\n",
       "ARG       0.521197    0.333333   0.500000"
      ]
     },
     "execution_count": 19,
     "metadata": {},
     "output_type": "execute_result"
    }
   ],
   "source": [
    "surfaces=['Clay','Grass','Hard']\n",
    "for surface in surfaces:\n",
    "    wl[surface+' Win%']= wl[surface+' Wins']/(wl[surface+' Wins']+ wl[surface+' Losses'])\n",
    "wl=wl[['Clay Win%','Grass Win%','Hard Win%']]\n",
    "wl"
   ]
  },
  {
   "cell_type": "code",
   "execution_count": 20,
   "metadata": {
    "collapsed": false
   },
   "outputs": [
    {
     "data": {
      "text/plain": [
       "[<matplotlib.text.Text at 0xaed78b1908>,\n",
       " <matplotlib.text.Text at 0xaed789c7b8>,\n",
       " <matplotlib.text.Text at 0xaed7934400>,\n",
       " <matplotlib.text.Text at 0xaed78a6f98>,\n",
       " <matplotlib.text.Text at 0xaed79345c0>,\n",
       " <matplotlib.text.Text at 0xaed7934ef0>,\n",
       " <matplotlib.text.Text at 0xaed7936940>]"
      ]
     },
     "execution_count": 20,
     "metadata": {},
     "output_type": "execute_result"
    },
    {
     "data": {
      "image/png": "[encoded data removed]",
      "text/plain": [
       "<matplotlib.figure.Figure at 0xaed7897b38>"
      ]
     },
     "metadata": {},
     "output_type": "display_data"
    }
   ],
   "source": [
    "fig, ax= plt.subplots()\n",
    "wl.plot(ax=ax,\n",
    "        kind='bar',\n",
    "        color=['red','green','blue'],\n",
    "        title= 'Win Percentage on Each Surface By Country')\n",
    "ax.legend(loc=0)\n",
    "ax.set_ylabel('Win Percentage')\n",
    "ax.set_ylim(0.3,0.7)\n",
    "ax.set_xticklabels( countries, rotation=45 )"
   ]
  },
  {
   "cell_type": "markdown",
   "metadata": {},
   "source": [
    "Again, this graph supports certain popular opinions. Americans have a higher win percentage on hard courts than grass and clay. Spanish players are incredibly successful on clay courts. Australians, also known for their hard court play, have an incredibly poor record on clay, but do well on grass, a fast surface. Serbians seem to have a very high win percentage overall. However, that number is most likely skewed, as Serbian Novak Djokovic, the number 1 player in the world, is known to dominate his competition, pushing SRB's win percentage higher than normal. "
   ]
  },
  {
   "cell_type": "markdown",
   "metadata": {},
   "source": [
    "## Unforced Errors Over Time\n",
    "One could assume that a consequence of playing shorter points would be more unforced errors are made as time goes on. However, unforced errors are not one of the variables that Jeff Sackmann provides in his dataset. We decided to use double faults, an unforced error of the serve, as a proxy. The hypothesis for this metric is that the longer a hard court player (American, Australian, Japanese) goes into a match, the more errors he makes, and vice versa for clay court players. Therefore, if we were to plot the length of the match in the x axis and number of doubles faults on the y axis, we would expect that the trend line would be steeper for hard court players than clay court players."
   ]
  },
  {
   "cell_type": "code",
   "execution_count": 20,
   "metadata": {
    "collapsed": false
   },
   "outputs": [
    {
     "data": {
      "text/html": [
       "<div>\n",
       "<table border=\"1\" class=\"dataframe\">\n",
       "  <thead>\n",
       "    <tr style=\"text-align: right;\">\n",
       "      <th></th>\n",
       "      <th>winner_ioc</th>\n",
       "      <th>w_df</th>\n",
       "      <th>loser_ioc</th>\n",
       "      <th>l_df</th>\n",
       "      <th>minutes</th>\n",
       "    </tr>\n",
       "  </thead>\n",
       "  <tbody>\n",
       "    <tr>\n",
       "      <th>0</th>\n",
       "      <td>ARG</td>\n",
       "      <td>1.0</td>\n",
       "      <td>FRA</td>\n",
       "      <td>4.0</td>\n",
       "      <td>84.0</td>\n",
       "    </tr>\n",
       "    <tr>\n",
       "      <th>1</th>\n",
       "      <td>ARG</td>\n",
       "      <td>1.0</td>\n",
       "      <td>AUT</td>\n",
       "      <td>2.0</td>\n",
       "      <td>125.0</td>\n",
       "    </tr>\n",
       "    <tr>\n",
       "      <th>2</th>\n",
       "      <td>ESP</td>\n",
       "      <td>3.0</td>\n",
       "      <td>CRO</td>\n",
       "      <td>3.0</td>\n",
       "      <td>115.0</td>\n",
       "    </tr>\n",
       "    <tr>\n",
       "      <th>3</th>\n",
       "      <td>ESP</td>\n",
       "      <td>12.0</td>\n",
       "      <td>BRA</td>\n",
       "      <td>3.0</td>\n",
       "      <td>171.0</td>\n",
       "    </tr>\n",
       "    <tr>\n",
       "      <th>4</th>\n",
       "      <td>NED</td>\n",
       "      <td>0.0</td>\n",
       "      <td>FRA</td>\n",
       "      <td>7.0</td>\n",
       "      <td>110.0</td>\n",
       "    </tr>\n",
       "  </tbody>\n",
       "</table>\n",
       "</div>"
      ],
      "text/plain": [
       "  winner_ioc  w_df loser_ioc  l_df  minutes\n",
       "0        ARG   1.0       FRA   4.0     84.0\n",
       "1        ARG   1.0       AUT   2.0    125.0\n",
       "2        ESP   3.0       CRO   3.0    115.0\n",
       "3        ESP  12.0       BRA   3.0    171.0\n",
       "4        NED   0.0       FRA   7.0    110.0"
      ]
     },
     "execution_count": 20,
     "metadata": {},
     "output_type": "execute_result"
    }
   ],
   "source": [
    "df= atp[['winner_ioc','w_df','loser_ioc','l_df','minutes']] #dataframe of only the variables we are looking at\n",
    "df.head()"
   ]
  },
  {
   "cell_type": "code",
   "execution_count": 21,
   "metadata": {
    "collapsed": false
   },
   "outputs": [
    {
     "data": {
      "text/html": [
       "<div>\n",
       "<table border=\"1\" class=\"dataframe\">\n",
       "  <thead>\n",
       "    <tr style=\"text-align: right;\">\n",
       "      <th></th>\n",
       "      <th>df</th>\n",
       "      <th>minutes</th>\n",
       "    </tr>\n",
       "    <tr>\n",
       "      <th>ioc</th>\n",
       "      <th></th>\n",
       "      <th></th>\n",
       "    </tr>\n",
       "  </thead>\n",
       "  <tbody>\n",
       "    <tr>\n",
       "      <th>USA</th>\n",
       "      <td>1.0</td>\n",
       "      <td>92.0</td>\n",
       "    </tr>\n",
       "    <tr>\n",
       "      <th>USA</th>\n",
       "      <td>3.0</td>\n",
       "      <td>92.0</td>\n",
       "    </tr>\n",
       "    <tr>\n",
       "      <th>USA</th>\n",
       "      <td>0.0</td>\n",
       "      <td>65.0</td>\n",
       "    </tr>\n",
       "    <tr>\n",
       "      <th>USA</th>\n",
       "      <td>4.0</td>\n",
       "      <td>100.0</td>\n",
       "    </tr>\n",
       "    <tr>\n",
       "      <th>USA</th>\n",
       "      <td>2.0</td>\n",
       "      <td>114.0</td>\n",
       "    </tr>\n",
       "  </tbody>\n",
       "</table>\n",
       "</div>"
      ],
      "text/plain": [
       "      df  minutes\n",
       "ioc              \n",
       "USA  1.0     92.0\n",
       "USA  3.0     92.0\n",
       "USA  0.0     65.0\n",
       "USA  4.0    100.0\n",
       "USA  2.0    114.0"
      ]
     },
     "execution_count": 21,
     "metadata": {},
     "output_type": "execute_result"
    }
   ],
   "source": [
    "# For matches in which players lost, how many double faults were the for the length of the match\n",
    "dfl = df[['loser_ioc','l_df','minutes']]\n",
    "dfl=dfl.set_index('loser_ioc')\n",
    "dfl=dfl.loc[countries]\n",
    "dfl.dropna(inplace=True)\n",
    "# rename columns to make it simpler to combine dataframes\n",
    "dfl.index.names= ['ioc']\n",
    "dfl=dfl.rename(columns={'l_df':'df'})\n",
    "dfl.head()"
   ]
  },
  {
   "cell_type": "code",
   "execution_count": 22,
   "metadata": {
    "collapsed": false
   },
   "outputs": [
    {
     "data": {
      "text/html": [
       "<div>\n",
       "<table border=\"1\" class=\"dataframe\">\n",
       "  <thead>\n",
       "    <tr style=\"text-align: right;\">\n",
       "      <th></th>\n",
       "      <th>df</th>\n",
       "      <th>minutes</th>\n",
       "    </tr>\n",
       "    <tr>\n",
       "      <th>ioc</th>\n",
       "      <th></th>\n",
       "      <th></th>\n",
       "    </tr>\n",
       "  </thead>\n",
       "  <tbody>\n",
       "    <tr>\n",
       "      <th>USA</th>\n",
       "      <td>3.0</td>\n",
       "      <td>114.0</td>\n",
       "    </tr>\n",
       "    <tr>\n",
       "      <th>USA</th>\n",
       "      <td>0.0</td>\n",
       "      <td>62.0</td>\n",
       "    </tr>\n",
       "    <tr>\n",
       "      <th>USA</th>\n",
       "      <td>3.0</td>\n",
       "      <td>74.0</td>\n",
       "    </tr>\n",
       "    <tr>\n",
       "      <th>USA</th>\n",
       "      <td>3.0</td>\n",
       "      <td>83.0</td>\n",
       "    </tr>\n",
       "    <tr>\n",
       "      <th>USA</th>\n",
       "      <td>2.0</td>\n",
       "      <td>80.0</td>\n",
       "    </tr>\n",
       "  </tbody>\n",
       "</table>\n",
       "</div>"
      ],
      "text/plain": [
       "      df  minutes\n",
       "ioc              \n",
       "USA  3.0    114.0\n",
       "USA  0.0     62.0\n",
       "USA  3.0     74.0\n",
       "USA  3.0     83.0\n",
       "USA  2.0     80.0"
      ]
     },
     "execution_count": 22,
     "metadata": {},
     "output_type": "execute_result"
    }
   ],
   "source": [
    "# the same for matches in which the player won\n",
    "dfw= df[['winner_ioc','w_df','minutes']]\n",
    "dfw=dfw.set_index('winner_ioc')\n",
    "dfw=dfw.loc[countries]\n",
    "dfw.dropna(inplace=True)\n",
    "# rename columns and index to make it easier to combine data\n",
    "dfw.index.names= ['ioc']\n",
    "dfw=dfw.rename(columns={'w_df':'df'})\n",
    "dfw.head()"
   ]
  },
  {
   "cell_type": "code",
   "execution_count": 23,
   "metadata": {
    "collapsed": false
   },
   "outputs": [
    {
     "data": {
      "text/html": [
       "<div>\n",
       "<table border=\"1\" class=\"dataframe\">\n",
       "  <thead>\n",
       "    <tr style=\"text-align: right;\">\n",
       "      <th></th>\n",
       "      <th>df</th>\n",
       "      <th>minutes</th>\n",
       "    </tr>\n",
       "    <tr>\n",
       "      <th>ioc</th>\n",
       "      <th></th>\n",
       "      <th></th>\n",
       "    </tr>\n",
       "  </thead>\n",
       "  <tbody>\n",
       "    <tr>\n",
       "      <th>USA</th>\n",
       "      <td>3.0</td>\n",
       "      <td>114.0</td>\n",
       "    </tr>\n",
       "    <tr>\n",
       "      <th>USA</th>\n",
       "      <td>0.0</td>\n",
       "      <td>62.0</td>\n",
       "    </tr>\n",
       "    <tr>\n",
       "      <th>USA</th>\n",
       "      <td>3.0</td>\n",
       "      <td>74.0</td>\n",
       "    </tr>\n",
       "    <tr>\n",
       "      <th>USA</th>\n",
       "      <td>3.0</td>\n",
       "      <td>83.0</td>\n",
       "    </tr>\n",
       "    <tr>\n",
       "      <th>USA</th>\n",
       "      <td>2.0</td>\n",
       "      <td>80.0</td>\n",
       "    </tr>\n",
       "  </tbody>\n",
       "</table>\n",
       "</div>"
      ],
      "text/plain": [
       "      df  minutes\n",
       "ioc              \n",
       "USA  3.0    114.0\n",
       "USA  0.0     62.0\n",
       "USA  3.0     74.0\n",
       "USA  3.0     83.0\n",
       "USA  2.0     80.0"
      ]
     },
     "execution_count": 23,
     "metadata": {},
     "output_type": "execute_result"
    }
   ],
   "source": [
    "#combine dataframes\n",
    "dfs= dfw.append(dfl)\n",
    "dfs.head()"
   ]
  },
  {
   "cell_type": "code",
   "execution_count": 24,
   "metadata": {
    "collapsed": false
   },
   "outputs": [
    {
     "data": {
      "text/html": [
       "<div>\n",
       "<table border=\"1\" class=\"dataframe\">\n",
       "  <thead>\n",
       "    <tr style=\"text-align: right;\">\n",
       "      <th></th>\n",
       "      <th></th>\n",
       "      <th>df</th>\n",
       "    </tr>\n",
       "    <tr>\n",
       "      <th>ioc</th>\n",
       "      <th>minutes</th>\n",
       "      <th></th>\n",
       "    </tr>\n",
       "  </thead>\n",
       "  <tbody>\n",
       "    <tr>\n",
       "      <th rowspan=\"5\" valign=\"top\">ARG</th>\n",
       "      <th>10.0</th>\n",
       "      <td>0.0</td>\n",
       "    </tr>\n",
       "    <tr>\n",
       "      <th>11.0</th>\n",
       "      <td>0.0</td>\n",
       "    </tr>\n",
       "    <tr>\n",
       "      <th>11.0</th>\n",
       "      <td>0.0</td>\n",
       "    </tr>\n",
       "    <tr>\n",
       "      <th>19.0</th>\n",
       "      <td>2.0</td>\n",
       "    </tr>\n",
       "    <tr>\n",
       "      <th>22.0</th>\n",
       "      <td>0.0</td>\n",
       "    </tr>\n",
       "  </tbody>\n",
       "</table>\n",
       "</div>"
      ],
      "text/plain": [
       "              df\n",
       "ioc minutes     \n",
       "ARG 10.0     0.0\n",
       "    11.0     0.0\n",
       "    11.0     0.0\n",
       "    19.0     2.0\n",
       "    22.0     0.0"
      ]
     },
     "execution_count": 24,
     "metadata": {},
     "output_type": "execute_result"
    }
   ],
   "source": [
    "# combine data and organize it by country by length of match\n",
    "dfs=dfs.reset_index()\n",
    "dfs=dfs.set_index(['ioc','minutes'])\n",
    "dfs=dfs.sort_index()\n",
    "dfs.head()"
   ]
  },
  {
   "cell_type": "code",
   "execution_count": 25,
   "metadata": {
    "collapsed": false
   },
   "outputs": [
    {
     "data": {
      "image/png": "[encoded data removed]",
      "text/plain": [
       "<matplotlib.figure.Figure at 0x119cb65c0>"
      ]
     },
     "metadata": {},
     "output_type": "display_data"
    }
   ],
   "source": [
    "fig, ax= plt.subplots(7, figsize=(10,20), sharex=True)\n",
    "for country in countries:\n",
    "    dfs.xs(country).reset_index(level=1).plot.scatter('minutes','df', ax= ax[countries.index(country)],\n",
    "                                                     title=country, )\n",
    "    "
   ]
  },
  {
   "cell_type": "markdown",
   "metadata": {},
   "source": [
    "Examining these scatter plots reveals that there is no significant correlation between minutes played and number of unforced errors. This is likely due to the fact that best of 3 set matches are relatively short, so players are not likely to get tired in a 2 out of 3 set match. It is also possible that number of double faults is not an accurate proxy for unforced errors."
   ]
  },
  {
   "cell_type": "markdown",
   "metadata": {},
   "source": [
    "## Break Points Saved \n",
    "\n",
    "Now we look our last metric: break points saved. A break point in tennis is when the player returning serve can win the game by winning the next point.  In tennis, there are certain points throughout a match that matter much more than other points. It's not at all uncommon to see a relatively even score in terms of total points won, but one player wins the match pretty handily. Especially in the men's game, a couple of break points, and therefore your ability to save them, is usually the difference between winning and losing. What we see at the top of the tennis game, in players like Andy Murray, Novak Djokovic, Rafael Nadal to name a few, is that they face fewer break points than other players, and most importantly, of the break points they face on their service games they save most of them. \n",
    "\n",
    "The intuition behind investigating the differences among nationalities is that certain countries have players where service games are much more important to their success. For example, US players tend to play with big serves, so holding serve and saving break points should be very important to their success. On the other hand, Spanish players tend to rely less on big serves and more on their baseline game and ability to break their opponents' serve. If the BP Ratio is more important to US players as opposed to Spanish players, then we would expect a larger difference in BP Ratio between winners and losers for the US versus for Spain. It is, however, entirely possible that this metric is so important to success that no matter the nationality, winners have a certain BP Ratio and losers have a certain BP Ratio. It's also possible that there are simply no differences among nationalities.\n",
    "\n",
    "In this final portion of the project, we're interested in investigating how important this Break Point Ratio is (we'll call it BP Ratio and it's just equal to total break points saved/total break points faced) to match success and how it varies across both winners and losers and players from different countries. \n",
    "Let's take a look."
   ]
  },
  {
   "cell_type": "markdown",
   "metadata": {},
   "source": [
    "First, let's start off by extracting the columns/variables we're interested in from the dataframe ATP. Then, we will attempt to organize the data by country and compute some simple mean statistics for the resulting dataframe. Lastly, we'll add a new varaible for BP Ratio to the dataframe. \n",
    "\n",
    "As always, the data from our source is organized in terms of winners and losers by match. We'll first extract and organize the data for winners and then do the same for losers. Once we have both, we can combine the dataframes into one so we have all the data together organized by country. And lastly, we can run some simple plot methods on the dataframe to support our interpretations of the data with some visual representations. "
   ]
  },
  {
   "cell_type": "code",
   "execution_count": 26,
   "metadata": {
    "collapsed": true
   },
   "outputs": [],
   "source": [
    "varlist = ['winner_ioc','w_bpFaced','w_bpSaved',] ## list of variables we want "
   ]
  },
  {
   "cell_type": "code",
   "execution_count": 27,
   "metadata": {
    "collapsed": false
   },
   "outputs": [
    {
     "data": {
      "text/html": [
       "<div>\n",
       "<table border=\"1\" class=\"dataframe\">\n",
       "  <thead>\n",
       "    <tr style=\"text-align: right;\">\n",
       "      <th></th>\n",
       "      <th>Country</th>\n",
       "      <th>w_bpFaced</th>\n",
       "      <th>w_bpSaved</th>\n",
       "    </tr>\n",
       "  </thead>\n",
       "  <tbody>\n",
       "    <tr>\n",
       "      <th>0</th>\n",
       "      <td>ARG</td>\n",
       "      <td>0.0</td>\n",
       "      <td>0.0</td>\n",
       "    </tr>\n",
       "    <tr>\n",
       "      <th>1</th>\n",
       "      <td>ARG</td>\n",
       "      <td>16.0</td>\n",
       "      <td>12.0</td>\n",
       "    </tr>\n",
       "    <tr>\n",
       "      <th>2</th>\n",
       "      <td>ESP</td>\n",
       "      <td>6.0</td>\n",
       "      <td>6.0</td>\n",
       "    </tr>\n",
       "    <tr>\n",
       "      <th>3</th>\n",
       "      <td>ESP</td>\n",
       "      <td>15.0</td>\n",
       "      <td>10.0</td>\n",
       "    </tr>\n",
       "    <tr>\n",
       "      <th>4</th>\n",
       "      <td>NED</td>\n",
       "      <td>6.0</td>\n",
       "      <td>3.0</td>\n",
       "    </tr>\n",
       "  </tbody>\n",
       "</table>\n",
       "</div>"
      ],
      "text/plain": [
       "  Country  w_bpFaced  w_bpSaved\n",
       "0     ARG        0.0        0.0\n",
       "1     ARG       16.0       12.0\n",
       "2     ESP        6.0        6.0\n",
       "3     ESP       15.0       10.0\n",
       "4     NED        6.0        3.0"
      ]
     },
     "execution_count": 27,
     "metadata": {},
     "output_type": "execute_result"
    }
   ],
   "source": [
    "countries=['USA','FRA','ESP','SRB','JPN','AUS','ARG']\n",
    "\n",
    "W_BPdf = atp[varlist] ## this dataframe is break point statistics for winners\n",
    "W_BPdf.columns = ('Country','w_bpFaced','w_bpSaved')\n",
    "W_BPdf.head()"
   ]
  },
  {
   "cell_type": "code",
   "execution_count": 28,
   "metadata": {
    "collapsed": false
   },
   "outputs": [
    {
     "data": {
      "text/html": [
       "<div>\n",
       "<table border=\"1\" class=\"dataframe\">\n",
       "  <thead>\n",
       "    <tr style=\"text-align: right;\">\n",
       "      <th></th>\n",
       "      <th>Country</th>\n",
       "      <th>w_bpFaced</th>\n",
       "      <th>w_bpSaved</th>\n",
       "    </tr>\n",
       "  </thead>\n",
       "  <tbody>\n",
       "    <tr>\n",
       "      <th>0</th>\n",
       "      <td>ARG</td>\n",
       "      <td>0.0</td>\n",
       "      <td>0.0</td>\n",
       "    </tr>\n",
       "    <tr>\n",
       "      <th>1</th>\n",
       "      <td>ARG</td>\n",
       "      <td>16.0</td>\n",
       "      <td>12.0</td>\n",
       "    </tr>\n",
       "    <tr>\n",
       "      <th>2</th>\n",
       "      <td>ESP</td>\n",
       "      <td>6.0</td>\n",
       "      <td>6.0</td>\n",
       "    </tr>\n",
       "    <tr>\n",
       "      <th>3</th>\n",
       "      <td>ESP</td>\n",
       "      <td>15.0</td>\n",
       "      <td>10.0</td>\n",
       "    </tr>\n",
       "    <tr>\n",
       "      <th>6</th>\n",
       "      <td>ESP</td>\n",
       "      <td>2.0</td>\n",
       "      <td>2.0</td>\n",
       "    </tr>\n",
       "  </tbody>\n",
       "</table>\n",
       "</div>"
      ],
      "text/plain": [
       "  Country  w_bpFaced  w_bpSaved\n",
       "0     ARG        0.0        0.0\n",
       "1     ARG       16.0       12.0\n",
       "2     ESP        6.0        6.0\n",
       "3     ESP       15.0       10.0\n",
       "6     ESP        2.0        2.0"
      ]
     },
     "execution_count": 28,
     "metadata": {},
     "output_type": "execute_result"
    }
   ],
   "source": [
    "comparison = W_BPdf['Country'].isin(countries)\n",
    "selection = W_BPdf[comparison] ## now we select only the entries that correspond to countries we're interested in \n",
    "selection.head()"
   ]
  },
  {
   "cell_type": "markdown",
   "metadata": {},
   "source": [
    "This data is now organized by country; however, it's still organized with respect to individual matches. What we have now is for each match what country the winner is from and how many break points the winning player faced and saved. What we want is a dataframe organized by how many break points, on average, winning players from each country both faced and saved. To accomplish this, we'll use the .groupby method. "
   ]
  },
  {
   "cell_type": "code",
   "execution_count": 29,
   "metadata": {
    "collapsed": false
   },
   "outputs": [],
   "source": [
    "df = selection.groupby('Country')"
   ]
  },
  {
   "cell_type": "code",
   "execution_count": 30,
   "metadata": {
    "collapsed": false
   },
   "outputs": [
    {
     "data": {
      "text/html": [
       "<div>\n",
       "<table border=\"1\" class=\"dataframe\">\n",
       "  <thead>\n",
       "    <tr style=\"text-align: right;\">\n",
       "      <th></th>\n",
       "      <th>w_bpFaced</th>\n",
       "      <th>w_bpSaved</th>\n",
       "    </tr>\n",
       "    <tr>\n",
       "      <th>Country</th>\n",
       "      <th></th>\n",
       "      <th></th>\n",
       "    </tr>\n",
       "  </thead>\n",
       "  <tbody>\n",
       "    <tr>\n",
       "      <th>ARG</th>\n",
       "      <td>4.851735</td>\n",
       "      <td>3.261830</td>\n",
       "    </tr>\n",
       "    <tr>\n",
       "      <th>AUS</th>\n",
       "      <td>4.615023</td>\n",
       "      <td>3.281690</td>\n",
       "    </tr>\n",
       "    <tr>\n",
       "      <th>ESP</th>\n",
       "      <td>4.709845</td>\n",
       "      <td>3.266321</td>\n",
       "    </tr>\n",
       "    <tr>\n",
       "      <th>FRA</th>\n",
       "      <td>4.356509</td>\n",
       "      <td>3.087278</td>\n",
       "    </tr>\n",
       "    <tr>\n",
       "      <th>JPN</th>\n",
       "      <td>4.702899</td>\n",
       "      <td>3.173913</td>\n",
       "    </tr>\n",
       "    <tr>\n",
       "      <th>SRB</th>\n",
       "      <td>3.722467</td>\n",
       "      <td>2.409692</td>\n",
       "    </tr>\n",
       "    <tr>\n",
       "      <th>USA</th>\n",
       "      <td>3.624703</td>\n",
       "      <td>2.567696</td>\n",
       "    </tr>\n",
       "  </tbody>\n",
       "</table>\n",
       "</div>"
      ],
      "text/plain": [
       "         w_bpFaced  w_bpSaved\n",
       "Country                      \n",
       "ARG       4.851735   3.261830\n",
       "AUS       4.615023   3.281690\n",
       "ESP       4.709845   3.266321\n",
       "FRA       4.356509   3.087278\n",
       "JPN       4.702899   3.173913\n",
       "SRB       3.722467   2.409692\n",
       "USA       3.624703   2.567696"
      ]
     },
     "execution_count": 30,
     "metadata": {},
     "output_type": "execute_result"
    }
   ],
   "source": [
    "dm = df.mean() ## computes the mean of each varaible proportional to how many entries there were for each country\n",
    "dm"
   ]
  },
  {
   "cell_type": "code",
   "execution_count": 31,
   "metadata": {
    "collapsed": false
   },
   "outputs": [
    {
     "data": {
      "text/html": [
       "<div>\n",
       "<table border=\"1\" class=\"dataframe\">\n",
       "  <thead>\n",
       "    <tr style=\"text-align: right;\">\n",
       "      <th></th>\n",
       "      <th>w_bpFaced</th>\n",
       "      <th>w_bpSaved</th>\n",
       "      <th>w_bpratio</th>\n",
       "    </tr>\n",
       "    <tr>\n",
       "      <th>Country</th>\n",
       "      <th></th>\n",
       "      <th></th>\n",
       "      <th></th>\n",
       "    </tr>\n",
       "  </thead>\n",
       "  <tbody>\n",
       "    <tr>\n",
       "      <th>ARG</th>\n",
       "      <td>4.851735</td>\n",
       "      <td>3.261830</td>\n",
       "      <td>0.672302</td>\n",
       "    </tr>\n",
       "    <tr>\n",
       "      <th>AUS</th>\n",
       "      <td>4.615023</td>\n",
       "      <td>3.281690</td>\n",
       "      <td>0.711089</td>\n",
       "    </tr>\n",
       "    <tr>\n",
       "      <th>ESP</th>\n",
       "      <td>4.709845</td>\n",
       "      <td>3.266321</td>\n",
       "      <td>0.693509</td>\n",
       "    </tr>\n",
       "    <tr>\n",
       "      <th>FRA</th>\n",
       "      <td>4.356509</td>\n",
       "      <td>3.087278</td>\n",
       "      <td>0.708659</td>\n",
       "    </tr>\n",
       "    <tr>\n",
       "      <th>JPN</th>\n",
       "      <td>4.702899</td>\n",
       "      <td>3.173913</td>\n",
       "      <td>0.674884</td>\n",
       "    </tr>\n",
       "    <tr>\n",
       "      <th>SRB</th>\n",
       "      <td>3.722467</td>\n",
       "      <td>2.409692</td>\n",
       "      <td>0.647337</td>\n",
       "    </tr>\n",
       "    <tr>\n",
       "      <th>USA</th>\n",
       "      <td>3.624703</td>\n",
       "      <td>2.567696</td>\n",
       "      <td>0.708388</td>\n",
       "    </tr>\n",
       "  </tbody>\n",
       "</table>\n",
       "</div>"
      ],
      "text/plain": [
       "         w_bpFaced  w_bpSaved  w_bpratio\n",
       "Country                                 \n",
       "ARG       4.851735   3.261830   0.672302\n",
       "AUS       4.615023   3.281690   0.711089\n",
       "ESP       4.709845   3.266321   0.693509\n",
       "FRA       4.356509   3.087278   0.708659\n",
       "JPN       4.702899   3.173913   0.674884\n",
       "SRB       3.722467   2.409692   0.647337\n",
       "USA       3.624703   2.567696   0.708388"
      ]
     },
     "execution_count": 31,
     "metadata": {},
     "output_type": "execute_result"
    }
   ],
   "source": [
    "dm['w_bpratio'] = dm['w_bpSaved']/dm['w_bpFaced'] ## now we add our new variable, bp ratio, as a new column to dm \n",
    "dm"
   ]
  },
  {
   "cell_type": "markdown",
   "metadata": {},
   "source": [
    "We now have a dataframe that is exactly what we want: the averages for break points faced, break saved, and break point ratios for each country. Let's do the exact same with the data on losing players:"
   ]
  },
  {
   "cell_type": "code",
   "execution_count": 32,
   "metadata": {
    "collapsed": false
   },
   "outputs": [
    {
     "data": {
      "text/html": [
       "<div>\n",
       "<table border=\"1\" class=\"dataframe\">\n",
       "  <thead>\n",
       "    <tr style=\"text-align: right;\">\n",
       "      <th></th>\n",
       "      <th>Country</th>\n",
       "      <th>l_bpFaced</th>\n",
       "      <th>l_bpSaved</th>\n",
       "    </tr>\n",
       "  </thead>\n",
       "  <tbody>\n",
       "    <tr>\n",
       "      <th>0</th>\n",
       "      <td>FRA</td>\n",
       "      <td>12.0</td>\n",
       "      <td>10.0</td>\n",
       "    </tr>\n",
       "    <tr>\n",
       "      <th>1</th>\n",
       "      <td>AUT</td>\n",
       "      <td>9.0</td>\n",
       "      <td>5.0</td>\n",
       "    </tr>\n",
       "    <tr>\n",
       "      <th>2</th>\n",
       "      <td>CRO</td>\n",
       "      <td>8.0</td>\n",
       "      <td>6.0</td>\n",
       "    </tr>\n",
       "    <tr>\n",
       "      <th>3</th>\n",
       "      <td>BRA</td>\n",
       "      <td>12.0</td>\n",
       "      <td>6.0</td>\n",
       "    </tr>\n",
       "    <tr>\n",
       "      <th>4</th>\n",
       "      <td>FRA</td>\n",
       "      <td>11.0</td>\n",
       "      <td>7.0</td>\n",
       "    </tr>\n",
       "  </tbody>\n",
       "</table>\n",
       "</div>"
      ],
      "text/plain": [
       "  Country  l_bpFaced  l_bpSaved\n",
       "0     FRA       12.0       10.0\n",
       "1     AUT        9.0        5.0\n",
       "2     CRO        8.0        6.0\n",
       "3     BRA       12.0        6.0\n",
       "4     FRA       11.0        7.0"
      ]
     },
     "execution_count": 32,
     "metadata": {},
     "output_type": "execute_result"
    }
   ],
   "source": [
    "var2list = ['loser_ioc','l_bpFaced','l_bpSaved']\n",
    "L_BPdf = atp[var2list]\n",
    "L_BPdf.columns = ('Country','l_bpFaced','l_bpSaved')\n",
    "L_BPdf.head()"
   ]
  },
  {
   "cell_type": "code",
   "execution_count": 33,
   "metadata": {
    "collapsed": false
   },
   "outputs": [
    {
     "data": {
      "text/html": [
       "<div>\n",
       "<table border=\"1\" class=\"dataframe\">\n",
       "  <thead>\n",
       "    <tr style=\"text-align: right;\">\n",
       "      <th></th>\n",
       "      <th>Country</th>\n",
       "      <th>l_bpFaced</th>\n",
       "      <th>l_bpSaved</th>\n",
       "    </tr>\n",
       "  </thead>\n",
       "  <tbody>\n",
       "    <tr>\n",
       "      <th>0</th>\n",
       "      <td>FRA</td>\n",
       "      <td>12.0</td>\n",
       "      <td>10.0</td>\n",
       "    </tr>\n",
       "    <tr>\n",
       "      <th>4</th>\n",
       "      <td>FRA</td>\n",
       "      <td>11.0</td>\n",
       "      <td>7.0</td>\n",
       "    </tr>\n",
       "    <tr>\n",
       "      <th>5</th>\n",
       "      <td>ARG</td>\n",
       "      <td>6.0</td>\n",
       "      <td>4.0</td>\n",
       "    </tr>\n",
       "    <tr>\n",
       "      <th>13</th>\n",
       "      <td>ARG</td>\n",
       "      <td>6.0</td>\n",
       "      <td>2.0</td>\n",
       "    </tr>\n",
       "    <tr>\n",
       "      <th>14</th>\n",
       "      <td>ESP</td>\n",
       "      <td>17.0</td>\n",
       "      <td>13.0</td>\n",
       "    </tr>\n",
       "  </tbody>\n",
       "</table>\n",
       "</div>"
      ],
      "text/plain": [
       "   Country  l_bpFaced  l_bpSaved\n",
       "0      FRA       12.0       10.0\n",
       "4      FRA       11.0        7.0\n",
       "5      ARG        6.0        4.0\n",
       "13     ARG        6.0        2.0\n",
       "14     ESP       17.0       13.0"
      ]
     },
     "execution_count": 33,
     "metadata": {},
     "output_type": "execute_result"
    }
   ],
   "source": [
    "comparison2 = L_BPdf['Country'].isin(countries)\n",
    "selection2 = L_BPdf[comparison2]\n",
    "selection2.head()"
   ]
  },
  {
   "cell_type": "code",
   "execution_count": 34,
   "metadata": {
    "collapsed": true
   },
   "outputs": [],
   "source": [
    "df2 = selection2.groupby('Country')"
   ]
  },
  {
   "cell_type": "code",
   "execution_count": 35,
   "metadata": {
    "collapsed": false
   },
   "outputs": [
    {
     "data": {
      "text/html": [
       "<div>\n",
       "<table border=\"1\" class=\"dataframe\">\n",
       "  <thead>\n",
       "    <tr style=\"text-align: right;\">\n",
       "      <th></th>\n",
       "      <th>l_bpFaced</th>\n",
       "      <th>l_bpSaved</th>\n",
       "    </tr>\n",
       "    <tr>\n",
       "      <th>Country</th>\n",
       "      <th></th>\n",
       "      <th></th>\n",
       "    </tr>\n",
       "  </thead>\n",
       "  <tbody>\n",
       "    <tr>\n",
       "      <th>ARG</th>\n",
       "      <td>8.032258</td>\n",
       "      <td>4.406452</td>\n",
       "    </tr>\n",
       "    <tr>\n",
       "      <th>AUS</th>\n",
       "      <td>7.298113</td>\n",
       "      <td>4.079245</td>\n",
       "    </tr>\n",
       "    <tr>\n",
       "      <th>ESP</th>\n",
       "      <td>7.893590</td>\n",
       "      <td>4.315385</td>\n",
       "    </tr>\n",
       "    <tr>\n",
       "      <th>FRA</th>\n",
       "      <td>7.618902</td>\n",
       "      <td>4.353659</td>\n",
       "    </tr>\n",
       "    <tr>\n",
       "      <th>JPN</th>\n",
       "      <td>7.185185</td>\n",
       "      <td>3.657407</td>\n",
       "    </tr>\n",
       "    <tr>\n",
       "      <th>SRB</th>\n",
       "      <td>8.110294</td>\n",
       "      <td>4.750000</td>\n",
       "    </tr>\n",
       "    <tr>\n",
       "      <th>USA</th>\n",
       "      <td>7.212446</td>\n",
       "      <td>4.122318</td>\n",
       "    </tr>\n",
       "  </tbody>\n",
       "</table>\n",
       "</div>"
      ],
      "text/plain": [
       "         l_bpFaced  l_bpSaved\n",
       "Country                      \n",
       "ARG       8.032258   4.406452\n",
       "AUS       7.298113   4.079245\n",
       "ESP       7.893590   4.315385\n",
       "FRA       7.618902   4.353659\n",
       "JPN       7.185185   3.657407\n",
       "SRB       8.110294   4.750000\n",
       "USA       7.212446   4.122318"
      ]
     },
     "execution_count": 35,
     "metadata": {},
     "output_type": "execute_result"
    }
   ],
   "source": [
    "dm2 = df2.mean()\n",
    "dm2"
   ]
  },
  {
   "cell_type": "code",
   "execution_count": 36,
   "metadata": {
    "collapsed": false
   },
   "outputs": [
    {
     "data": {
      "text/html": [
       "<div>\n",
       "<table border=\"1\" class=\"dataframe\">\n",
       "  <thead>\n",
       "    <tr style=\"text-align: right;\">\n",
       "      <th></th>\n",
       "      <th>l_bpFaced</th>\n",
       "      <th>l_bpSaved</th>\n",
       "      <th>l_bpratio</th>\n",
       "    </tr>\n",
       "    <tr>\n",
       "      <th>Country</th>\n",
       "      <th></th>\n",
       "      <th></th>\n",
       "      <th></th>\n",
       "    </tr>\n",
       "  </thead>\n",
       "  <tbody>\n",
       "    <tr>\n",
       "      <th>ARG</th>\n",
       "      <td>8.032258</td>\n",
       "      <td>4.406452</td>\n",
       "      <td>0.548594</td>\n",
       "    </tr>\n",
       "    <tr>\n",
       "      <th>AUS</th>\n",
       "      <td>7.298113</td>\n",
       "      <td>4.079245</td>\n",
       "      <td>0.558945</td>\n",
       "    </tr>\n",
       "    <tr>\n",
       "      <th>ESP</th>\n",
       "      <td>7.893590</td>\n",
       "      <td>4.315385</td>\n",
       "      <td>0.546695</td>\n",
       "    </tr>\n",
       "    <tr>\n",
       "      <th>FRA</th>\n",
       "      <td>7.618902</td>\n",
       "      <td>4.353659</td>\n",
       "      <td>0.571429</td>\n",
       "    </tr>\n",
       "    <tr>\n",
       "      <th>JPN</th>\n",
       "      <td>7.185185</td>\n",
       "      <td>3.657407</td>\n",
       "      <td>0.509021</td>\n",
       "    </tr>\n",
       "    <tr>\n",
       "      <th>SRB</th>\n",
       "      <td>8.110294</td>\n",
       "      <td>4.750000</td>\n",
       "      <td>0.585675</td>\n",
       "    </tr>\n",
       "    <tr>\n",
       "      <th>USA</th>\n",
       "      <td>7.212446</td>\n",
       "      <td>4.122318</td>\n",
       "      <td>0.571556</td>\n",
       "    </tr>\n",
       "  </tbody>\n",
       "</table>\n",
       "</div>"
      ],
      "text/plain": [
       "         l_bpFaced  l_bpSaved  l_bpratio\n",
       "Country                                 \n",
       "ARG       8.032258   4.406452   0.548594\n",
       "AUS       7.298113   4.079245   0.558945\n",
       "ESP       7.893590   4.315385   0.546695\n",
       "FRA       7.618902   4.353659   0.571429\n",
       "JPN       7.185185   3.657407   0.509021\n",
       "SRB       8.110294   4.750000   0.585675\n",
       "USA       7.212446   4.122318   0.571556"
      ]
     },
     "execution_count": 36,
     "metadata": {},
     "output_type": "execute_result"
    }
   ],
   "source": [
    "dm2['l_bpratio'] = dm2['l_bpSaved']/dm2['l_bpFaced']\n",
    "dm2"
   ]
  },
  {
   "cell_type": "code",
   "execution_count": 37,
   "metadata": {
    "collapsed": false
   },
   "outputs": [],
   "source": [
    "result = pd.concat([dm, dm2], axis=1) \n",
    "## This is a slighlty different method than the merge method we learned in class, but essentially it combines two dataframes. "
   ]
  },
  {
   "cell_type": "code",
   "execution_count": 38,
   "metadata": {
    "collapsed": false
   },
   "outputs": [
    {
     "data": {
      "text/html": [
       "<div>\n",
       "<table border=\"1\" class=\"dataframe\">\n",
       "  <thead>\n",
       "    <tr style=\"text-align: right;\">\n",
       "      <th></th>\n",
       "      <th>w_bpFaced</th>\n",
       "      <th>w_bpSaved</th>\n",
       "      <th>w_bpratio</th>\n",
       "      <th>l_bpFaced</th>\n",
       "      <th>l_bpSaved</th>\n",
       "      <th>l_bpratio</th>\n",
       "    </tr>\n",
       "    <tr>\n",
       "      <th>Country</th>\n",
       "      <th></th>\n",
       "      <th></th>\n",
       "      <th></th>\n",
       "      <th></th>\n",
       "      <th></th>\n",
       "      <th></th>\n",
       "    </tr>\n",
       "  </thead>\n",
       "  <tbody>\n",
       "    <tr>\n",
       "      <th>ARG</th>\n",
       "      <td>4.851735</td>\n",
       "      <td>3.261830</td>\n",
       "      <td>0.672302</td>\n",
       "      <td>8.032258</td>\n",
       "      <td>4.406452</td>\n",
       "      <td>0.548594</td>\n",
       "    </tr>\n",
       "    <tr>\n",
       "      <th>AUS</th>\n",
       "      <td>4.615023</td>\n",
       "      <td>3.281690</td>\n",
       "      <td>0.711089</td>\n",
       "      <td>7.298113</td>\n",
       "      <td>4.079245</td>\n",
       "      <td>0.558945</td>\n",
       "    </tr>\n",
       "    <tr>\n",
       "      <th>ESP</th>\n",
       "      <td>4.709845</td>\n",
       "      <td>3.266321</td>\n",
       "      <td>0.693509</td>\n",
       "      <td>7.893590</td>\n",
       "      <td>4.315385</td>\n",
       "      <td>0.546695</td>\n",
       "    </tr>\n",
       "    <tr>\n",
       "      <th>FRA</th>\n",
       "      <td>4.356509</td>\n",
       "      <td>3.087278</td>\n",
       "      <td>0.708659</td>\n",
       "      <td>7.618902</td>\n",
       "      <td>4.353659</td>\n",
       "      <td>0.571429</td>\n",
       "    </tr>\n",
       "    <tr>\n",
       "      <th>JPN</th>\n",
       "      <td>4.702899</td>\n",
       "      <td>3.173913</td>\n",
       "      <td>0.674884</td>\n",
       "      <td>7.185185</td>\n",
       "      <td>3.657407</td>\n",
       "      <td>0.509021</td>\n",
       "    </tr>\n",
       "    <tr>\n",
       "      <th>SRB</th>\n",
       "      <td>3.722467</td>\n",
       "      <td>2.409692</td>\n",
       "      <td>0.647337</td>\n",
       "      <td>8.110294</td>\n",
       "      <td>4.750000</td>\n",
       "      <td>0.585675</td>\n",
       "    </tr>\n",
       "    <tr>\n",
       "      <th>USA</th>\n",
       "      <td>3.624703</td>\n",
       "      <td>2.567696</td>\n",
       "      <td>0.708388</td>\n",
       "      <td>7.212446</td>\n",
       "      <td>4.122318</td>\n",
       "      <td>0.571556</td>\n",
       "    </tr>\n",
       "  </tbody>\n",
       "</table>\n",
       "</div>"
      ],
      "text/plain": [
       "         w_bpFaced  w_bpSaved  w_bpratio  l_bpFaced  l_bpSaved  l_bpratio\n",
       "Country                                                                  \n",
       "ARG       4.851735   3.261830   0.672302   8.032258   4.406452   0.548594\n",
       "AUS       4.615023   3.281690   0.711089   7.298113   4.079245   0.558945\n",
       "ESP       4.709845   3.266321   0.693509   7.893590   4.315385   0.546695\n",
       "FRA       4.356509   3.087278   0.708659   7.618902   4.353659   0.571429\n",
       "JPN       4.702899   3.173913   0.674884   7.185185   3.657407   0.509021\n",
       "SRB       3.722467   2.409692   0.647337   8.110294   4.750000   0.585675\n",
       "USA       3.624703   2.567696   0.708388   7.212446   4.122318   0.571556"
      ]
     },
     "execution_count": 38,
     "metadata": {},
     "output_type": "execute_result"
    }
   ],
   "source": [
    "result"
   ]
  },
  {
   "cell_type": "markdown",
   "metadata": {},
   "source": [
    "We now have a dataframe that's a combination of the winner and loser data. To make things easier for plotting purposes, let's take only the bp ratio numbers and extract them to a new dataframe."
   ]
  },
  {
   "cell_type": "code",
   "execution_count": 39,
   "metadata": {
    "collapsed": false
   },
   "outputs": [
    {
     "data": {
      "text/html": [
       "<div>\n",
       "<table border=\"1\" class=\"dataframe\">\n",
       "  <thead>\n",
       "    <tr style=\"text-align: right;\">\n",
       "      <th></th>\n",
       "      <th>l_bpratio</th>\n",
       "      <th>w_bpratio</th>\n",
       "    </tr>\n",
       "    <tr>\n",
       "      <th>Country</th>\n",
       "      <th></th>\n",
       "      <th></th>\n",
       "    </tr>\n",
       "  </thead>\n",
       "  <tbody>\n",
       "    <tr>\n",
       "      <th>ARG</th>\n",
       "      <td>0.548594</td>\n",
       "      <td>0.672302</td>\n",
       "    </tr>\n",
       "    <tr>\n",
       "      <th>AUS</th>\n",
       "      <td>0.558945</td>\n",
       "      <td>0.711089</td>\n",
       "    </tr>\n",
       "    <tr>\n",
       "      <th>ESP</th>\n",
       "      <td>0.546695</td>\n",
       "      <td>0.693509</td>\n",
       "    </tr>\n",
       "    <tr>\n",
       "      <th>FRA</th>\n",
       "      <td>0.571429</td>\n",
       "      <td>0.708659</td>\n",
       "    </tr>\n",
       "    <tr>\n",
       "      <th>JPN</th>\n",
       "      <td>0.509021</td>\n",
       "      <td>0.674884</td>\n",
       "    </tr>\n",
       "    <tr>\n",
       "      <th>SRB</th>\n",
       "      <td>0.585675</td>\n",
       "      <td>0.647337</td>\n",
       "    </tr>\n",
       "    <tr>\n",
       "      <th>USA</th>\n",
       "      <td>0.571556</td>\n",
       "      <td>0.708388</td>\n",
       "    </tr>\n",
       "  </tbody>\n",
       "</table>\n",
       "</div>"
      ],
      "text/plain": [
       "         l_bpratio  w_bpratio\n",
       "Country                      \n",
       "ARG       0.548594   0.672302\n",
       "AUS       0.558945   0.711089\n",
       "ESP       0.546695   0.693509\n",
       "FRA       0.571429   0.708659\n",
       "JPN       0.509021   0.674884\n",
       "SRB       0.585675   0.647337\n",
       "USA       0.571556   0.708388"
      ]
     },
     "execution_count": 39,
     "metadata": {},
     "output_type": "execute_result"
    }
   ],
   "source": [
    "varlist3 = ['l_bpratio','w_bpratio'] \n",
    "result2 = result[varlist3]\n",
    "result2"
   ]
  },
  {
   "cell_type": "code",
   "execution_count": 40,
   "metadata": {
    "collapsed": false
   },
   "outputs": [
    {
     "data": {
      "text/plain": [
       "[<matplotlib.text.Text at 0x11abfa978>,\n",
       " <matplotlib.text.Text at 0x11abfce80>,\n",
       " <matplotlib.text.Text at 0x118010b38>,\n",
       " <matplotlib.text.Text at 0x118014588>,\n",
       " <matplotlib.text.Text at 0x118014f98>,\n",
       " <matplotlib.text.Text at 0x1180189e8>,\n",
       " <matplotlib.text.Text at 0x11801c438>]"
      ]
     },
     "execution_count": 40,
     "metadata": {},
     "output_type": "execute_result"
    },
    {
     "data": {
      "image/png": "[encoded data removed]",
      "text/plain": [
       "<matplotlib.figure.Figure at 0x11abfa048>"
      ]
     },
     "metadata": {},
     "output_type": "display_data"
    }
   ],
   "source": [
    "fig, ax= plt.subplots()\n",
    "result2.plot(ax=ax,\n",
    "        kind='bar',\n",
    "        color=['red','blue'],\n",
    "        title= 'Break Point Ratios by Country')\n",
    "ax.legend(loc=2)\n",
    "ax.set_ylabel('Percentage of Break Points Saved')\n",
    "ax.set_xlabel('Country')\n",
    "ax.set_xticklabels( countries, rotation=45 ) "
   ]
  },
  {
   "cell_type": "markdown",
   "metadata": {},
   "source": [
    "Our results indicate that the BP Ratio does in fact matter quite a bit to a player's success. Across the board, there are fairly large differences between loser bp ratios and winner bp ratios: for most countries, the difference between winners and losers is a full 10-15 percentage points. While there does seem to be a small amount of variation for these differences among nationalities (the BP Ratio seems to matter the least to the success of Australian players for some reason), for the most part, the differences are pretty significant and consistent between winning and losing players among different nationalities. \n",
    "\n",
    "From this, we can conclude that, at least for the year 2015 and the countries represented in this particular analysis, the \"BP Ratio\" as we have defined it here in this project, is a pretty signfiicant factor in determining a player's success in a match. We cannot conclude wtih any reasonable degree of certainty any patterns in the BP Ratio among different countries other than that for the most part, the ratios are relatively consistent.  "
   ]
  },
  {
   "cell_type": "markdown",
   "metadata": {
    "collapsed": true
   },
   "source": [
    "## Conclusion\n",
    "The results of our analysis confirmed certain theories the tennis community feels has about players from certain countries. After analyzing the average length of a 2 out of 3 set match, we see that Spanish players, who grow up playing on clay courts, have longer matches on average. Conversely, countries like Japan, USA, and Australia, whose players grow up on hard court, play much shorter matches. Our analysis of success rate/win percentage similarly confirms certain aspects of this theory. Again, Spanish players have a higher win percentage on clay than on hard and grass. Americans have a higher win percentage on hard court than clay or grass. Australian players have very little success on clay courts. Our analysis of comparing double faults to length of match did not return any valuable information to discern a player's endurance based on where he grew up playing. Lastly, having a higher ratio of break points saved to break points faced is an important factor for winning matches, an outcome consistent with the data for winners and losers and having little variation among players from different countries. "
   ]
  },
  {
   "cell_type": "code",
   "execution_count": null,
   "metadata": {
    "collapsed": true
   },
   "outputs": [],
   "source": []
  }
 ],
 "metadata": {
  "kernelspec": {
   "display_name": "Python 3",
   "language": "python",
   "name": "python3"
  },
  "language_info": {
   "codemirror_mode": {
    "name": "ipython",
    "version": 3
   },
   "file_extension": ".py",
   "mimetype": "text/x-python",
   "name": "python",
   "nbconvert_exporter": "python",
   "pygments_lexer": "ipython3",
   "version": "3.5.2"
  }
 },
 "nbformat": 4,
 "nbformat_minor": 0
}
