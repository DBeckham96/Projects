{
 "cells": [
  {
   "cell_type": "markdown",
   "metadata": {},
   "source": [
    "Peter Torosian  \n",
    "Data Bootcamp MBA  \n",
    "5/12/16\n",
    "<h3 align=\"center\">Craft Brewery Project</h3> "
   ]
  },
  {
   "cell_type": "markdown",
   "metadata": {},
   "source": [
    "Author: Peter Torosian\n",
    "\n",
    "I was interested in investigating the increase of craft beer production and brewery openings over the past decade.  In particular, I wanted to visualize clusters of breweries and where the growth of craft brewing has been over the past few years.\n",
    "\n",
    "The final graph shows surprising growth in states like Pennsylvania, Wisconsin and Florida.  It is also interesting to see the states that produce the most craft beer per resident."
   ]
  },
  {
   "cell_type": "markdown",
   "metadata": {},
   "source": [
    "# Import Internet Data\n",
    "Some open source brewery data is found on the https://openbeerdb.com/ website.\n",
    "\n",
    "The dataframes that I have uploaded for my project include: production data for all microbreweries in the US, provided by Brewers Association and an open source directory of microbreweries that include their location data."
   ]
  },
  {
   "cell_type": "code",
   "execution_count": 295,
   "metadata": {
    "collapsed": false
   },
   "outputs": [
    {
     "name": "stdout",
     "output_type": "stream",
     "text": [
      "Today is 2016-05-12\n",
      "What version of Python are we running? \n",
      "3.5.1 |Anaconda 4.0.0 (x86_64)| (default, Dec  7 2015, 11:24:55) \n",
      "[GCC 4.2.1 (Apple Inc. build 5577)]\n",
      "Plotly version:  1.9.7\n",
      "Pandas version:  0.18.0\n",
      "Peter Torosian\n"
     ]
    }
   ],
   "source": [
    "# import packages \n",
    "import pandas as pd                   # data management\n",
    "import matplotlib.pyplot as plt       # graphics \n",
    "import numpy as np                     # foundation for Pandas\n",
    "import seaborn.apionly as sns          # fancy matplotlib graphics (no styling)\n",
    "\n",
    "import requests, io             # internet and input tools  \n",
    "import zipfile as zf            # zip file tools \n",
    "\n",
    "from geopy.geocoders import Nominatim      #import geopy for getting geocodes\n",
    "geolocator = Nominatim()                   #first must install geopy using \"pip install geopy\"\n",
    "\n",
    "# plotly imports\n",
    "from plotly.offline import iplot, iplot_mpl  # plotting functions\n",
    "import plotly.graph_objs as go               # plotting functions\n",
    "import plotly                                # just to print version and init notebook\n",
    "import cufflinks as cf                       # gives us df.iplot that feels like df.plot\n",
    "cf.set_config_file(offline=True, offline_show_link=False)\n",
    "\n",
    "# these lines make our graphics show up in the notebook\n",
    "%matplotlib inline             \n",
    "plotly.offline.init_notebook_mode()\n",
    "\n",
    "\n",
    "# check Python version \n",
    "import datetime as dt \n",
    "import sys\n",
    "print('Today is', dt.date.today())\n",
    "print('What version of Python are we running? \\n', sys.version, sep='')\n",
    "print('Plotly version: ', plotly.__version__)\n",
    "print('Pandas version: ', pd.__version__)\n",
    "\n",
    "print('Peter Torosian')"
   ]
  },
  {
   "cell_type": "code",
   "execution_count": 296,
   "metadata": {
    "collapsed": false
   },
   "outputs": [
    {
     "name": "stdout",
     "output_type": "stream",
     "text": [
      "Response status code: 200\n",
      "Response type: <class 'requests.models.Response'>\n",
      "Response .content: <class 'bytes'>\n",
      "Response headers:\n",
      "{'Last-Modified': 'Mon, 25 Jan 2016 23:09:03 GMT', 'ETag': '\"8cb9a-52a30a7adeea1\"', 'Content-Length': '576410', 'Keep-Alive': 'timeout=5, max=100', 'Connection': 'Keep-Alive', 'Content-Type': 'application/zip', 'Server': 'Apache/2.4.10 (Debian)', 'Accept-Ranges': 'bytes', 'Date': 'Fri, 13 May 2016 02:56:56 GMT'}\n"
     ]
    }
   ],
   "source": [
    "# get \"response\" from url \n",
    "url = 'http://openbeerdb.com/files/openbeerdb_csv.zip'\n",
    "r = requests.get(url) \n",
    "\n",
    "# describe response \n",
    "print('Response status code:', r.status_code)\n",
    "print('Response type:', type(r))\n",
    "print('Response .content:', type(r.content)) \n",
    "print('Response headers:\\n', r.headers, sep='')\n",
    "    "
   ]
  },
  {
   "cell_type": "code",
   "execution_count": 297,
   "metadata": {
    "collapsed": false,
    "scrolled": true
   },
   "outputs": [
    {
     "name": "stdout",
     "output_type": "stream",
     "text": [
      "Type of zipfile object: <class 'zipfile.ZipFile'>\n"
     ]
    }
   ],
   "source": [
    "# convert bytes to zip file  \n",
    "br = zf.ZipFile(io.BytesIO(r.content)) \n",
    "print('Type of zipfile object:', type(br))"
   ]
  },
  {
   "cell_type": "code",
   "execution_count": 298,
   "metadata": {
    "collapsed": false,
    "scrolled": true
   },
   "outputs": [
    {
     "data": {
      "text/plain": [
       "['openbeerdb_csv/beers.csv',\n",
       " 'openbeerdb_csv/breweries.csv',\n",
       " 'openbeerdb_csv/breweries_geocode.csv',\n",
       " 'openbeerdb_csv/categories.csv',\n",
       " 'openbeerdb_csv/styles.csv',\n",
       " 'openbeerdb_csv/']"
      ]
     },
     "execution_count": 298,
     "metadata": {},
     "output_type": "execute_result"
    }
   ],
   "source": [
    "# what's in the zip file?\n",
    "br.namelist()"
   ]
  },
  {
   "cell_type": "code",
   "execution_count": 299,
   "metadata": {
    "collapsed": false
   },
   "outputs": [],
   "source": [
    "# set csv files imported to dataframes\n",
    "breweries = pd.read_csv(br.open(br.namelist()[1]))  #this file is a list of breweries and addresses, etc\n",
    "geocode = pd.read_csv(br.open(br.namelist()[2]))    #this file is only brewery IDs and Lat/Long positions"
   ]
  },
  {
   "cell_type": "code",
   "execution_count": 300,
   "metadata": {
    "collapsed": false
   },
   "outputs": [],
   "source": [
    "# rename id column to brewery id so it matches with geocode file\n",
    "breweries = breweries.rename(columns={'id': 'brewery_id'})"
   ]
  },
  {
   "cell_type": "code",
   "execution_count": 301,
   "metadata": {
    "collapsed": false
   },
   "outputs": [],
   "source": [
    "# merge the two dataframes\n",
    "geobrew = pd.merge(breweries, geocode,\n",
    "                  how = 'left',\n",
    "                  on='brewery_id')"
   ]
  },
  {
   "cell_type": "code",
   "execution_count": 302,
   "metadata": {
    "collapsed": false,
    "scrolled": false
   },
   "outputs": [],
   "source": [
    "#reduce dataframe to only breweries in the United States\n",
    "USA = geobrew['country'] == 'United States'\n",
    "geobrewUSA = geobrew[USA]\n",
    "#clean up bad data: bad data found during cleanup later in the notebook\n",
    "geobrewUSA = geobrewUSA[geobrewUSA.brewery_id != 353]\n",
    "geobrewUSA = geobrewUSA[geobrewUSA.brewery_id != 1184]"
   ]
  },
  {
   "cell_type": "code",
   "execution_count": 303,
   "metadata": {
    "collapsed": false,
    "scrolled": false
   },
   "outputs": [
    {
     "data": {
      "text/html": [
       "<div>\n",
       "<table border=\"1\" class=\"dataframe\">\n",
       "  <thead>\n",
       "    <tr style=\"text-align: right;\">\n",
       "      <th></th>\n",
       "      <th>brewery_id</th>\n",
       "      <th>name</th>\n",
       "      <th>address1</th>\n",
       "      <th>address2</th>\n",
       "      <th>city</th>\n",
       "      <th>state</th>\n",
       "      <th>code</th>\n",
       "      <th>country</th>\n",
       "      <th>phone</th>\n",
       "      <th>website</th>\n",
       "      <th>filepath</th>\n",
       "      <th>descript</th>\n",
       "      <th>last_mod</th>\n",
       "      <th>id</th>\n",
       "      <th>latitude</th>\n",
       "      <th>longitude</th>\n",
       "      <th>accuracy</th>\n",
       "    </tr>\n",
       "  </thead>\n",
       "  <tbody>\n",
       "    <tr>\n",
       "      <th>273</th>\n",
       "      <td>1421</td>\n",
       "      <td>DC Brau</td>\n",
       "      <td>3178-B Bladensburg Rd. NE</td>\n",
       "      <td>NaN</td>\n",
       "      <td>Washington</td>\n",
       "      <td>DC</td>\n",
       "      <td>20018</td>\n",
       "      <td>United States</td>\n",
       "      <td>NaN</td>\n",
       "      <td>http://www.dcbrau.com/</td>\n",
       "      <td>logo.png</td>\n",
       "      <td>The first brewery to open in the nation's capi...</td>\n",
       "      <td>2011-08-08 19:02:40</td>\n",
       "      <td>NaN</td>\n",
       "      <td>NaN</td>\n",
       "      <td>NaN</td>\n",
       "      <td>NaN</td>\n",
       "    </tr>\n",
       "    <tr>\n",
       "      <th>380</th>\n",
       "      <td>381</td>\n",
       "      <td>City Brewing Company, LLC</td>\n",
       "      <td>925 South Third Street</td>\n",
       "      <td>NaN</td>\n",
       "      <td>La Crosse</td>\n",
       "      <td>Wisconsin</td>\n",
       "      <td>54601</td>\n",
       "      <td>United States</td>\n",
       "      <td>1-608-785-4200</td>\n",
       "      <td>http://www.citybrewery.com/</td>\n",
       "      <td>NaN</td>\n",
       "      <td>City Brewing Company is a premier, state-of-th...</td>\n",
       "      <td>2010-07-22 20:00:20</td>\n",
       "      <td>NaN</td>\n",
       "      <td>NaN</td>\n",
       "      <td>NaN</td>\n",
       "      <td>NaN</td>\n",
       "    </tr>\n",
       "    <tr>\n",
       "      <th>419</th>\n",
       "      <td>1420</td>\n",
       "      <td>Devil's Canyon</td>\n",
       "      <td>NaN</td>\n",
       "      <td>NaN</td>\n",
       "      <td>Belmont</td>\n",
       "      <td>CA</td>\n",
       "      <td>NaN</td>\n",
       "      <td>United States</td>\n",
       "      <td>NaN</td>\n",
       "      <td>NaN</td>\n",
       "      <td>NaN</td>\n",
       "      <td>NaN</td>\n",
       "      <td>2011-07-28 19:03:35</td>\n",
       "      <td>NaN</td>\n",
       "      <td>NaN</td>\n",
       "      <td>NaN</td>\n",
       "      <td>NaN</td>\n",
       "    </tr>\n",
       "    <tr>\n",
       "      <th>475</th>\n",
       "      <td>475</td>\n",
       "      <td>Eagle Brewing</td>\n",
       "      <td>625 Fourth Street</td>\n",
       "      <td>NaN</td>\n",
       "      <td>Mukilteo</td>\n",
       "      <td>Washington</td>\n",
       "      <td>98275</td>\n",
       "      <td>United States</td>\n",
       "      <td>1-425-348-8088</td>\n",
       "      <td>NaN</td>\n",
       "      <td>NaN</td>\n",
       "      <td>NaN</td>\n",
       "      <td>2010-07-22 20:00:20</td>\n",
       "      <td>NaN</td>\n",
       "      <td>NaN</td>\n",
       "      <td>NaN</td>\n",
       "      <td>NaN</td>\n",
       "    </tr>\n",
       "    <tr>\n",
       "      <th>702</th>\n",
       "      <td>702</td>\n",
       "      <td>Island Brewing Company</td>\n",
       "      <td>5049 Sixth Street</td>\n",
       "      <td>NaN</td>\n",
       "      <td>Carpinteria</td>\n",
       "      <td>California</td>\n",
       "      <td>93013</td>\n",
       "      <td>United States</td>\n",
       "      <td>1-805-745-8272</td>\n",
       "      <td>NaN</td>\n",
       "      <td>NaN</td>\n",
       "      <td>NaN</td>\n",
       "      <td>2010-07-22 20:00:20</td>\n",
       "      <td>NaN</td>\n",
       "      <td>NaN</td>\n",
       "      <td>NaN</td>\n",
       "      <td>NaN</td>\n",
       "    </tr>\n",
       "    <tr>\n",
       "      <th>1033</th>\n",
       "      <td>1030</td>\n",
       "      <td>Pyramid Alehouse, Brewery and Restaurant - Sea...</td>\n",
       "      <td>1201 First Avenue South</td>\n",
       "      <td>NaN</td>\n",
       "      <td>Seattle</td>\n",
       "      <td>Washington</td>\n",
       "      <td>98134</td>\n",
       "      <td>United States</td>\n",
       "      <td>1-206-682-3377</td>\n",
       "      <td>NaN</td>\n",
       "      <td>NaN</td>\n",
       "      <td>NaN</td>\n",
       "      <td>2010-07-22 20:00:20</td>\n",
       "      <td>NaN</td>\n",
       "      <td>NaN</td>\n",
       "      <td>NaN</td>\n",
       "      <td>NaN</td>\n",
       "    </tr>\n",
       "    <tr>\n",
       "      <th>1153</th>\n",
       "      <td>1150</td>\n",
       "      <td>Ska Brewing Company</td>\n",
       "      <td>545 Turner Drive</td>\n",
       "      <td>NaN</td>\n",
       "      <td>Durango</td>\n",
       "      <td>Colorado</td>\n",
       "      <td>81301</td>\n",
       "      <td>United States</td>\n",
       "      <td>970.247.5792</td>\n",
       "      <td>http://www.skabrewing.com/</td>\n",
       "      <td>NaN</td>\n",
       "      <td>NaN</td>\n",
       "      <td>2010-07-22 20:00:20</td>\n",
       "      <td>NaN</td>\n",
       "      <td>NaN</td>\n",
       "      <td>NaN</td>\n",
       "      <td>NaN</td>\n",
       "    </tr>\n",
       "    <tr>\n",
       "      <th>1387</th>\n",
       "      <td>1384</td>\n",
       "      <td>Marshall Wharf Brewing Company</td>\n",
       "      <td>2 Pinchy Lane</td>\n",
       "      <td>NaN</td>\n",
       "      <td>Belfast</td>\n",
       "      <td>Maine</td>\n",
       "      <td>4915</td>\n",
       "      <td>United States</td>\n",
       "      <td>207-338-1707</td>\n",
       "      <td>http://www.marshallwharf.com</td>\n",
       "      <td>mwLogo1.png</td>\n",
       "      <td>NaN</td>\n",
       "      <td>2010-07-22 20:00:20</td>\n",
       "      <td>NaN</td>\n",
       "      <td>NaN</td>\n",
       "      <td>NaN</td>\n",
       "      <td>NaN</td>\n",
       "    </tr>\n",
       "    <tr>\n",
       "      <th>1398</th>\n",
       "      <td>1396</td>\n",
       "      <td>Aspen Brewing Company</td>\n",
       "      <td>555 North Mill Street</td>\n",
       "      <td>NaN</td>\n",
       "      <td>Aspen</td>\n",
       "      <td>Colorado</td>\n",
       "      <td>81611</td>\n",
       "      <td>United States</td>\n",
       "      <td>NaN</td>\n",
       "      <td>http://aspenbrewingcompany.com</td>\n",
       "      <td>NaN</td>\n",
       "      <td>NaN</td>\n",
       "      <td>2010-11-08 08:40:44</td>\n",
       "      <td>NaN</td>\n",
       "      <td>NaN</td>\n",
       "      <td>NaN</td>\n",
       "      <td>NaN</td>\n",
       "    </tr>\n",
       "    <tr>\n",
       "      <th>1399</th>\n",
       "      <td>1397</td>\n",
       "      <td>Tallgrass Brewing Co.</td>\n",
       "      <td>8845 Quail Lane</td>\n",
       "      <td>NaN</td>\n",
       "      <td>Manhattan</td>\n",
       "      <td>KS</td>\n",
       "      <td>66502</td>\n",
       "      <td>United States</td>\n",
       "      <td>785-537-1131</td>\n",
       "      <td>http://www.tallgrassbeer.com</td>\n",
       "      <td>NaN</td>\n",
       "      <td>NaN</td>\n",
       "      <td>2010-11-11 19:21:21</td>\n",
       "      <td>NaN</td>\n",
       "      <td>NaN</td>\n",
       "      <td>NaN</td>\n",
       "      <td>NaN</td>\n",
       "    </tr>\n",
       "    <tr>\n",
       "      <th>1400</th>\n",
       "      <td>1398</td>\n",
       "      <td>Half Acre Beer Company</td>\n",
       "      <td>4257 North Lincoln Avenue</td>\n",
       "      <td>NaN</td>\n",
       "      <td>Chicago</td>\n",
       "      <td>IL</td>\n",
       "      <td>60618</td>\n",
       "      <td>United States</td>\n",
       "      <td>NaN</td>\n",
       "      <td>http://inyourguts.blogspot.com/</td>\n",
       "      <td>NaN</td>\n",
       "      <td>NaN</td>\n",
       "      <td>2010-11-14 11:17:07</td>\n",
       "      <td>NaN</td>\n",
       "      <td>NaN</td>\n",
       "      <td>NaN</td>\n",
       "      <td>NaN</td>\n",
       "    </tr>\n",
       "    <tr>\n",
       "      <th>1401</th>\n",
       "      <td>1399</td>\n",
       "      <td>New Jersey Beer Company</td>\n",
       "      <td>4201 Tonnelle Avenue</td>\n",
       "      <td>NaN</td>\n",
       "      <td>North Bergen</td>\n",
       "      <td>NJ</td>\n",
       "      <td>07047</td>\n",
       "      <td>United States</td>\n",
       "      <td>NaN</td>\n",
       "      <td>http://www.njbeerco.com</td>\n",
       "      <td>NJBClogo1.jpg</td>\n",
       "      <td>New Jersey Beer Co. is dedicated to crafting q...</td>\n",
       "      <td>2010-11-17 14:11:59</td>\n",
       "      <td>NaN</td>\n",
       "      <td>NaN</td>\n",
       "      <td>NaN</td>\n",
       "      <td>NaN</td>\n",
       "    </tr>\n",
       "    <tr>\n",
       "      <th>1402</th>\n",
       "      <td>1400</td>\n",
       "      <td>FINNEGANS</td>\n",
       "      <td>619 10th St. South</td>\n",
       "      <td>Suite 100</td>\n",
       "      <td>Minneapolis</td>\n",
       "      <td>Minnesota</td>\n",
       "      <td>55404</td>\n",
       "      <td>United States</td>\n",
       "      <td>NaN</td>\n",
       "      <td>http://www.finnegans.org</td>\n",
       "      <td>finn_dlyc.jpg</td>\n",
       "      <td>FINNEGANS was founded in 2000 in Minneapolis, ...</td>\n",
       "      <td>2010-12-03 17:53:48</td>\n",
       "      <td>NaN</td>\n",
       "      <td>NaN</td>\n",
       "      <td>NaN</td>\n",
       "      <td>NaN</td>\n",
       "    </tr>\n",
       "    <tr>\n",
       "      <th>1404</th>\n",
       "      <td>1402</td>\n",
       "      <td>Warwick Valley Wine Co.</td>\n",
       "      <td>114 Little York Rd</td>\n",
       "      <td>NaN</td>\n",
       "      <td>Warwick</td>\n",
       "      <td>NY</td>\n",
       "      <td>10990</td>\n",
       "      <td>United States</td>\n",
       "      <td>(845) 258-4858</td>\n",
       "      <td>http://www.wvwinery.com</td>\n",
       "      <td>NaN</td>\n",
       "      <td>NaN</td>\n",
       "      <td>2010-12-20 16:17:52</td>\n",
       "      <td>NaN</td>\n",
       "      <td>NaN</td>\n",
       "      <td>NaN</td>\n",
       "      <td>NaN</td>\n",
       "    </tr>\n",
       "    <tr>\n",
       "      <th>1406</th>\n",
       "      <td>1404</td>\n",
       "      <td>The St. Louis Brewrey</td>\n",
       "      <td>2100 Locust Street</td>\n",
       "      <td>NaN</td>\n",
       "      <td>St. Louis</td>\n",
       "      <td>MO</td>\n",
       "      <td>63103</td>\n",
       "      <td>United States</td>\n",
       "      <td>314-241-2337</td>\n",
       "      <td>http://http://www.schlafly.com</td>\n",
       "      <td>schlafly.3color_.jpg</td>\n",
       "      <td>The Schlafly Tap Room first opened its doors i...</td>\n",
       "      <td>2011-02-10 07:49:03</td>\n",
       "      <td>NaN</td>\n",
       "      <td>NaN</td>\n",
       "      <td>NaN</td>\n",
       "      <td>NaN</td>\n",
       "    </tr>\n",
       "    <tr>\n",
       "      <th>1409</th>\n",
       "      <td>1407</td>\n",
       "      <td>Catawba Valley Brewing Company</td>\n",
       "      <td>P.O. Box 1154</td>\n",
       "      <td>NaN</td>\n",
       "      <td>Glen Alpine</td>\n",
       "      <td>NC</td>\n",
       "      <td>28628</td>\n",
       "      <td>United States</td>\n",
       "      <td>828-430-6883</td>\n",
       "      <td>http://www.catawbavalleybrewingcompany.com/</td>\n",
       "      <td>catawba-valley-logo.jpg</td>\n",
       "      <td>The Catawba Valley Brewing Company grew out of...</td>\n",
       "      <td>2011-02-16 12:36:49</td>\n",
       "      <td>NaN</td>\n",
       "      <td>NaN</td>\n",
       "      <td>NaN</td>\n",
       "      <td>NaN</td>\n",
       "    </tr>\n",
       "    <tr>\n",
       "      <th>1410</th>\n",
       "      <td>1408</td>\n",
       "      <td>Walnut Brewery</td>\n",
       "      <td>1123 Walnut Street</td>\n",
       "      <td>NaN</td>\n",
       "      <td>Boulder</td>\n",
       "      <td>Colorado</td>\n",
       "      <td>80302</td>\n",
       "      <td>United States</td>\n",
       "      <td>(303) 447-1345</td>\n",
       "      <td>http://www.walnutbrewery.com/</td>\n",
       "      <td>NaN</td>\n",
       "      <td>NaN</td>\n",
       "      <td>2011-03-01 13:26:24</td>\n",
       "      <td>NaN</td>\n",
       "      <td>NaN</td>\n",
       "      <td>NaN</td>\n",
       "      <td>NaN</td>\n",
       "    </tr>\n",
       "    <tr>\n",
       "      <th>1411</th>\n",
       "      <td>1409</td>\n",
       "      <td>Columbus Brewing Company</td>\n",
       "      <td>525 Short St.</td>\n",
       "      <td>NaN</td>\n",
       "      <td>Columbus</td>\n",
       "      <td>OH</td>\n",
       "      <td>43215</td>\n",
       "      <td>United States</td>\n",
       "      <td>614-464-2739</td>\n",
       "      <td>www.columbusbrewingco.com</td>\n",
       "      <td>columbus_brewing_company.jpg</td>\n",
       "      <td>Located just south of downtown Columbus, Ohio,...</td>\n",
       "      <td>2011-03-08 12:19:07</td>\n",
       "      <td>NaN</td>\n",
       "      <td>NaN</td>\n",
       "      <td>NaN</td>\n",
       "      <td>NaN</td>\n",
       "    </tr>\n",
       "    <tr>\n",
       "      <th>1412</th>\n",
       "      <td>1410</td>\n",
       "      <td>Oso</td>\n",
       "      <td>1812 Post Road</td>\n",
       "      <td>NaN</td>\n",
       "      <td>Plover</td>\n",
       "      <td>WI</td>\n",
       "      <td>54467</td>\n",
       "      <td>United States</td>\n",
       "      <td>715-254-2163</td>\n",
       "      <td>http://www.osobrewing.com/Home.php</td>\n",
       "      <td>NaN</td>\n",
       "      <td>NaN</td>\n",
       "      <td>2011-03-16 09:05:15</td>\n",
       "      <td>NaN</td>\n",
       "      <td>NaN</td>\n",
       "      <td>NaN</td>\n",
       "      <td>NaN</td>\n",
       "    </tr>\n",
       "    <tr>\n",
       "      <th>1413</th>\n",
       "      <td>1411</td>\n",
       "      <td>Element Brewing Company</td>\n",
       "      <td>30 Bridge St</td>\n",
       "      <td>NaN</td>\n",
       "      <td>Millers Falls</td>\n",
       "      <td>MA</td>\n",
       "      <td>01349</td>\n",
       "      <td>United States</td>\n",
       "      <td>413-835-6340</td>\n",
       "      <td>http://www.elementbeer.com</td>\n",
       "      <td>NaN</td>\n",
       "      <td>Nano Brewery specializing in bottle conditione...</td>\n",
       "      <td>2011-04-18 05:17:29</td>\n",
       "      <td>NaN</td>\n",
       "      <td>NaN</td>\n",
       "      <td>NaN</td>\n",
       "      <td>NaN</td>\n",
       "    </tr>\n",
       "    <tr>\n",
       "      <th>1415</th>\n",
       "      <td>1413</td>\n",
       "      <td>Wedge Brewery</td>\n",
       "      <td>125B Roberts St</td>\n",
       "      <td>NaN</td>\n",
       "      <td>Asheville</td>\n",
       "      <td>NC</td>\n",
       "      <td>28801-3128</td>\n",
       "      <td>United States</td>\n",
       "      <td>828-505-2792</td>\n",
       "      <td>http://wedgebrewing.com/</td>\n",
       "      <td>wedge.png</td>\n",
       "      <td>The Wedge Brewing Co. is located in the lower ...</td>\n",
       "      <td>2011-05-23 10:34:59</td>\n",
       "      <td>NaN</td>\n",
       "      <td>NaN</td>\n",
       "      <td>NaN</td>\n",
       "      <td>NaN</td>\n",
       "    </tr>\n",
       "    <tr>\n",
       "      <th>1418</th>\n",
       "      <td>1416</td>\n",
       "      <td>Brewery Vivant</td>\n",
       "      <td>925 Cherry Street SE</td>\n",
       "      <td>NaN</td>\n",
       "      <td>Grand Rapids</td>\n",
       "      <td>MI</td>\n",
       "      <td>49506</td>\n",
       "      <td>United States</td>\n",
       "      <td>616 719 1604</td>\n",
       "      <td>http://breweryvivant.com</td>\n",
       "      <td>bv-logo.png</td>\n",
       "      <td>Brewery Vivant is the realization of years of ...</td>\n",
       "      <td>2011-06-22 12:19:30</td>\n",
       "      <td>NaN</td>\n",
       "      <td>NaN</td>\n",
       "      <td>NaN</td>\n",
       "      <td>NaN</td>\n",
       "    </tr>\n",
       "    <tr>\n",
       "      <th>1419</th>\n",
       "      <td>1417</td>\n",
       "      <td>Oakshire</td>\n",
       "      <td>NaN</td>\n",
       "      <td>NaN</td>\n",
       "      <td>Eugene</td>\n",
       "      <td>Or</td>\n",
       "      <td>NaN</td>\n",
       "      <td>United States</td>\n",
       "      <td>NaN</td>\n",
       "      <td>NaN</td>\n",
       "      <td>NaN</td>\n",
       "      <td>NaN</td>\n",
       "      <td>2011-07-07 07:42:42</td>\n",
       "      <td>NaN</td>\n",
       "      <td>NaN</td>\n",
       "      <td>NaN</td>\n",
       "      <td>NaN</td>\n",
       "    </tr>\n",
       "    <tr>\n",
       "      <th>1420</th>\n",
       "      <td>1418</td>\n",
       "      <td>Oakshire</td>\n",
       "      <td>NaN</td>\n",
       "      <td>NaN</td>\n",
       "      <td>Eugene</td>\n",
       "      <td>Or</td>\n",
       "      <td>NaN</td>\n",
       "      <td>United States</td>\n",
       "      <td>NaN</td>\n",
       "      <td>NaN</td>\n",
       "      <td>NaN</td>\n",
       "      <td>NaN</td>\n",
       "      <td>2011-07-07 07:44:13</td>\n",
       "      <td>NaN</td>\n",
       "      <td>NaN</td>\n",
       "      <td>NaN</td>\n",
       "      <td>NaN</td>\n",
       "    </tr>\n",
       "  </tbody>\n",
       "</table>\n",
       "</div>"
      ],
      "text/plain": [
       "      brewery_id                                               name  \\\n",
       "273         1421                                            DC Brau   \n",
       "380          381                          City Brewing Company, LLC   \n",
       "419         1420                                     Devil's Canyon   \n",
       "475          475                                      Eagle Brewing   \n",
       "702          702                             Island Brewing Company   \n",
       "1033        1030  Pyramid Alehouse, Brewery and Restaurant - Sea...   \n",
       "1153        1150                                Ska Brewing Company   \n",
       "1387        1384                     Marshall Wharf Brewing Company   \n",
       "1398        1396                              Aspen Brewing Company   \n",
       "1399        1397                              Tallgrass Brewing Co.   \n",
       "1400        1398                             Half Acre Beer Company   \n",
       "1401        1399                            New Jersey Beer Company   \n",
       "1402        1400                                          FINNEGANS   \n",
       "1404        1402                            Warwick Valley Wine Co.   \n",
       "1406        1404                              The St. Louis Brewrey   \n",
       "1409        1407                     Catawba Valley Brewing Company   \n",
       "1410        1408                                     Walnut Brewery   \n",
       "1411        1409                           Columbus Brewing Company   \n",
       "1412        1410                                                Oso   \n",
       "1413        1411                            Element Brewing Company   \n",
       "1415        1413                                      Wedge Brewery   \n",
       "1418        1416                                     Brewery Vivant   \n",
       "1419        1417                                           Oakshire   \n",
       "1420        1418                                           Oakshire   \n",
       "\n",
       "                       address1   address2           city       state  \\\n",
       "273   3178-B Bladensburg Rd. NE        NaN     Washington          DC   \n",
       "380      925 South Third Street        NaN      La Crosse   Wisconsin   \n",
       "419                         NaN        NaN        Belmont          CA   \n",
       "475           625 Fourth Street        NaN       Mukilteo  Washington   \n",
       "702           5049 Sixth Street        NaN    Carpinteria  California   \n",
       "1033    1201 First Avenue South        NaN        Seattle  Washington   \n",
       "1153           545 Turner Drive        NaN        Durango    Colorado   \n",
       "1387              2 Pinchy Lane        NaN        Belfast       Maine   \n",
       "1398      555 North Mill Street        NaN          Aspen    Colorado   \n",
       "1399            8845 Quail Lane        NaN      Manhattan          KS   \n",
       "1400  4257 North Lincoln Avenue        NaN        Chicago          IL   \n",
       "1401       4201 Tonnelle Avenue        NaN   North Bergen          NJ   \n",
       "1402         619 10th St. South  Suite 100    Minneapolis   Minnesota   \n",
       "1404         114 Little York Rd        NaN        Warwick          NY   \n",
       "1406         2100 Locust Street        NaN      St. Louis          MO   \n",
       "1409              P.O. Box 1154        NaN    Glen Alpine          NC   \n",
       "1410         1123 Walnut Street        NaN        Boulder    Colorado   \n",
       "1411              525 Short St.        NaN       Columbus          OH   \n",
       "1412             1812 Post Road        NaN         Plover          WI   \n",
       "1413               30 Bridge St        NaN  Millers Falls          MA   \n",
       "1415            125B Roberts St        NaN      Asheville          NC   \n",
       "1418       925 Cherry Street SE        NaN   Grand Rapids          MI   \n",
       "1419                        NaN        NaN         Eugene          Or   \n",
       "1420                        NaN        NaN         Eugene          Or   \n",
       "\n",
       "            code        country           phone  \\\n",
       "273        20018  United States             NaN   \n",
       "380        54601  United States  1-608-785-4200   \n",
       "419          NaN  United States             NaN   \n",
       "475        98275  United States  1-425-348-8088   \n",
       "702        93013  United States  1-805-745-8272   \n",
       "1033       98134  United States  1-206-682-3377   \n",
       "1153       81301  United States    970.247.5792   \n",
       "1387        4915  United States    207-338-1707   \n",
       "1398       81611  United States             NaN   \n",
       "1399       66502  United States    785-537-1131   \n",
       "1400       60618  United States             NaN   \n",
       "1401       07047  United States             NaN   \n",
       "1402       55404  United States             NaN   \n",
       "1404       10990  United States  (845) 258-4858   \n",
       "1406       63103  United States    314-241-2337   \n",
       "1409       28628  United States    828-430-6883   \n",
       "1410       80302  United States  (303) 447-1345   \n",
       "1411       43215  United States    614-464-2739   \n",
       "1412       54467  United States    715-254-2163   \n",
       "1413       01349  United States    413-835-6340   \n",
       "1415  28801-3128  United States    828-505-2792   \n",
       "1418       49506  United States    616 719 1604   \n",
       "1419         NaN  United States             NaN   \n",
       "1420         NaN  United States             NaN   \n",
       "\n",
       "                                          website  \\\n",
       "273                        http://www.dcbrau.com/   \n",
       "380                   http://www.citybrewery.com/   \n",
       "419                                           NaN   \n",
       "475                                           NaN   \n",
       "702                                           NaN   \n",
       "1033                                          NaN   \n",
       "1153                   http://www.skabrewing.com/   \n",
       "1387                 http://www.marshallwharf.com   \n",
       "1398               http://aspenbrewingcompany.com   \n",
       "1399                 http://www.tallgrassbeer.com   \n",
       "1400              http://inyourguts.blogspot.com/   \n",
       "1401                      http://www.njbeerco.com   \n",
       "1402                     http://www.finnegans.org   \n",
       "1404                      http://www.wvwinery.com   \n",
       "1406               http://http://www.schlafly.com   \n",
       "1409  http://www.catawbavalleybrewingcompany.com/   \n",
       "1410                http://www.walnutbrewery.com/   \n",
       "1411                    www.columbusbrewingco.com   \n",
       "1412           http://www.osobrewing.com/Home.php   \n",
       "1413                   http://www.elementbeer.com   \n",
       "1415                     http://wedgebrewing.com/   \n",
       "1418                     http://breweryvivant.com   \n",
       "1419                                          NaN   \n",
       "1420                                          NaN   \n",
       "\n",
       "                          filepath  \\\n",
       "273                       logo.png   \n",
       "380                            NaN   \n",
       "419                            NaN   \n",
       "475                            NaN   \n",
       "702                            NaN   \n",
       "1033                           NaN   \n",
       "1153                           NaN   \n",
       "1387                   mwLogo1.png   \n",
       "1398                           NaN   \n",
       "1399                           NaN   \n",
       "1400                           NaN   \n",
       "1401                 NJBClogo1.jpg   \n",
       "1402                 finn_dlyc.jpg   \n",
       "1404                           NaN   \n",
       "1406          schlafly.3color_.jpg   \n",
       "1409       catawba-valley-logo.jpg   \n",
       "1410                           NaN   \n",
       "1411  columbus_brewing_company.jpg   \n",
       "1412                           NaN   \n",
       "1413                           NaN   \n",
       "1415                     wedge.png   \n",
       "1418                   bv-logo.png   \n",
       "1419                           NaN   \n",
       "1420                           NaN   \n",
       "\n",
       "                                               descript             last_mod  \\\n",
       "273   The first brewery to open in the nation's capi...  2011-08-08 19:02:40   \n",
       "380   City Brewing Company is a premier, state-of-th...  2010-07-22 20:00:20   \n",
       "419                                                 NaN  2011-07-28 19:03:35   \n",
       "475                                                 NaN  2010-07-22 20:00:20   \n",
       "702                                                 NaN  2010-07-22 20:00:20   \n",
       "1033                                                NaN  2010-07-22 20:00:20   \n",
       "1153                                                NaN  2010-07-22 20:00:20   \n",
       "1387                                                NaN  2010-07-22 20:00:20   \n",
       "1398                                                NaN  2010-11-08 08:40:44   \n",
       "1399                                                NaN  2010-11-11 19:21:21   \n",
       "1400                                                NaN  2010-11-14 11:17:07   \n",
       "1401  New Jersey Beer Co. is dedicated to crafting q...  2010-11-17 14:11:59   \n",
       "1402  FINNEGANS was founded in 2000 in Minneapolis, ...  2010-12-03 17:53:48   \n",
       "1404                                                NaN  2010-12-20 16:17:52   \n",
       "1406  The Schlafly Tap Room first opened its doors i...  2011-02-10 07:49:03   \n",
       "1409  The Catawba Valley Brewing Company grew out of...  2011-02-16 12:36:49   \n",
       "1410                                                NaN  2011-03-01 13:26:24   \n",
       "1411  Located just south of downtown Columbus, Ohio,...  2011-03-08 12:19:07   \n",
       "1412                                                NaN  2011-03-16 09:05:15   \n",
       "1413  Nano Brewery specializing in bottle conditione...  2011-04-18 05:17:29   \n",
       "1415  The Wedge Brewing Co. is located in the lower ...  2011-05-23 10:34:59   \n",
       "1418  Brewery Vivant is the realization of years of ...  2011-06-22 12:19:30   \n",
       "1419                                                NaN  2011-07-07 07:42:42   \n",
       "1420                                                NaN  2011-07-07 07:44:13   \n",
       "\n",
       "      id  latitude  longitude accuracy  \n",
       "273  NaN       NaN        NaN      NaN  \n",
       "380  NaN       NaN        NaN      NaN  \n",
       "419  NaN       NaN        NaN      NaN  \n",
       "475  NaN       NaN        NaN      NaN  \n",
       "702  NaN       NaN        NaN      NaN  \n",
       "1033 NaN       NaN        NaN      NaN  \n",
       "1153 NaN       NaN        NaN      NaN  \n",
       "1387 NaN       NaN        NaN      NaN  \n",
       "1398 NaN       NaN        NaN      NaN  \n",
       "1399 NaN       NaN        NaN      NaN  \n",
       "1400 NaN       NaN        NaN      NaN  \n",
       "1401 NaN       NaN        NaN      NaN  \n",
       "1402 NaN       NaN        NaN      NaN  \n",
       "1404 NaN       NaN        NaN      NaN  \n",
       "1406 NaN       NaN        NaN      NaN  \n",
       "1409 NaN       NaN        NaN      NaN  \n",
       "1410 NaN       NaN        NaN      NaN  \n",
       "1411 NaN       NaN        NaN      NaN  \n",
       "1412 NaN       NaN        NaN      NaN  \n",
       "1413 NaN       NaN        NaN      NaN  \n",
       "1415 NaN       NaN        NaN      NaN  \n",
       "1418 NaN       NaN        NaN      NaN  \n",
       "1419 NaN       NaN        NaN      NaN  \n",
       "1420 NaN       NaN        NaN      NaN  "
      ]
     },
     "execution_count": 303,
     "metadata": {},
     "output_type": "execute_result"
    }
   ],
   "source": [
    "#find entries with missing latitude/longitude information\n",
    "missing = geobrewUSA['latitude'].isnull()\n",
    "missingGEO = geobrewUSA[missing]\n",
    "missingGEO"
   ]
  },
  {
   "cell_type": "code",
   "execution_count": 304,
   "metadata": {
    "collapsed": false
   },
   "outputs": [
    {
     "name": "stderr",
     "output_type": "stream",
     "text": [
      "/Users/Pete/anaconda/lib/python3.5/site-packages/ipykernel/__main__.py:1: SettingWithCopyWarning:\n",
      "\n",
      "\n",
      "A value is trying to be set on a copy of a slice from a DataFrame.\n",
      "Try using .loc[row_indexer,col_indexer] = value instead\n",
      "\n",
      "See the caveats in the documentation: http://pandas.pydata.org/pandas-docs/stable/indexing.html#indexing-view-versus-copy\n",
      "\n"
     ]
    }
   ],
   "source": [
    "#the Lat/Long lookup algorithm incorrectly handles Aspen, Colorado.  Colorado was replaced by CO\n",
    "missingGEO['state'] = missingGEO['state'].replace(['Colorado'], 'CO')"
   ]
  },
  {
   "cell_type": "code",
   "execution_count": 305,
   "metadata": {
    "collapsed": false
   },
   "outputs": [
    {
     "name": "stderr",
     "output_type": "stream",
     "text": [
      "/Users/Pete/anaconda/lib/python3.5/site-packages/ipykernel/__main__.py:2: SettingWithCopyWarning:\n",
      "\n",
      "\n",
      "A value is trying to be set on a copy of a slice from a DataFrame.\n",
      "Try using .loc[row_indexer,col_indexer] = value instead\n",
      "\n",
      "See the caveats in the documentation: http://pandas.pydata.org/pandas-docs/stable/indexing.html#indexing-view-versus-copy\n",
      "\n"
     ]
    },
    {
     "data": {
      "text/html": [
       "<div>\n",
       "<table border=\"1\" class=\"dataframe\">\n",
       "  <thead>\n",
       "    <tr style=\"text-align: right;\">\n",
       "      <th></th>\n",
       "      <th>brewery_id</th>\n",
       "      <th>name</th>\n",
       "      <th>address1</th>\n",
       "      <th>address2</th>\n",
       "      <th>city</th>\n",
       "      <th>state</th>\n",
       "      <th>code</th>\n",
       "      <th>country</th>\n",
       "      <th>phone</th>\n",
       "      <th>website</th>\n",
       "      <th>filepath</th>\n",
       "      <th>descript</th>\n",
       "      <th>last_mod</th>\n",
       "      <th>id</th>\n",
       "      <th>latitude</th>\n",
       "      <th>longitude</th>\n",
       "      <th>accuracy</th>\n",
       "      <th>city_state</th>\n",
       "    </tr>\n",
       "  </thead>\n",
       "  <tbody>\n",
       "    <tr>\n",
       "      <th>273</th>\n",
       "      <td>1421</td>\n",
       "      <td>DC Brau</td>\n",
       "      <td>3178-B Bladensburg Rd. NE</td>\n",
       "      <td>NaN</td>\n",
       "      <td>Washington</td>\n",
       "      <td>DC</td>\n",
       "      <td>20018</td>\n",
       "      <td>United States</td>\n",
       "      <td>NaN</td>\n",
       "      <td>http://www.dcbrau.com/</td>\n",
       "      <td>logo.png</td>\n",
       "      <td>The first brewery to open in the nation's capi...</td>\n",
       "      <td>2011-08-08 19:02:40</td>\n",
       "      <td>NaN</td>\n",
       "      <td>NaN</td>\n",
       "      <td>NaN</td>\n",
       "      <td>NaN</td>\n",
       "      <td>Washington DC</td>\n",
       "    </tr>\n",
       "    <tr>\n",
       "      <th>380</th>\n",
       "      <td>381</td>\n",
       "      <td>City Brewing Company, LLC</td>\n",
       "      <td>925 South Third Street</td>\n",
       "      <td>NaN</td>\n",
       "      <td>La Crosse</td>\n",
       "      <td>Wisconsin</td>\n",
       "      <td>54601</td>\n",
       "      <td>United States</td>\n",
       "      <td>1-608-785-4200</td>\n",
       "      <td>http://www.citybrewery.com/</td>\n",
       "      <td>NaN</td>\n",
       "      <td>City Brewing Company is a premier, state-of-th...</td>\n",
       "      <td>2010-07-22 20:00:20</td>\n",
       "      <td>NaN</td>\n",
       "      <td>NaN</td>\n",
       "      <td>NaN</td>\n",
       "      <td>NaN</td>\n",
       "      <td>La Crosse Wisconsin</td>\n",
       "    </tr>\n",
       "  </tbody>\n",
       "</table>\n",
       "</div>"
      ],
      "text/plain": [
       "     brewery_id                       name                   address1  \\\n",
       "273        1421                    DC Brau  3178-B Bladensburg Rd. NE   \n",
       "380         381  City Brewing Company, LLC     925 South Third Street   \n",
       "\n",
       "    address2        city      state   code        country           phone  \\\n",
       "273      NaN  Washington         DC  20018  United States             NaN   \n",
       "380      NaN   La Crosse  Wisconsin  54601  United States  1-608-785-4200   \n",
       "\n",
       "                         website  filepath  \\\n",
       "273       http://www.dcbrau.com/  logo.png   \n",
       "380  http://www.citybrewery.com/       NaN   \n",
       "\n",
       "                                              descript             last_mod  \\\n",
       "273  The first brewery to open in the nation's capi...  2011-08-08 19:02:40   \n",
       "380  City Brewing Company is a premier, state-of-th...  2010-07-22 20:00:20   \n",
       "\n",
       "     id  latitude  longitude accuracy           city_state  \n",
       "273 NaN       NaN        NaN      NaN        Washington DC  \n",
       "380 NaN       NaN        NaN      NaN  La Crosse Wisconsin  "
      ]
     },
     "execution_count": 305,
     "metadata": {},
     "output_type": "execute_result"
    }
   ],
   "source": [
    "#combine city and state for find lat/long for the missing rows later on\n",
    "missingGEO['city_state'] = missingGEO['city'] + ' ' + missingGEO['state']\n",
    "missingGEO.head(2)"
   ]
  },
  {
   "cell_type": "code",
   "execution_count": 306,
   "metadata": {
    "collapsed": false
   },
   "outputs": [
    {
     "data": {
      "text/plain": [
       "273              Washington DC\n",
       "380        La Crosse Wisconsin\n",
       "419                 Belmont CA\n",
       "475        Mukilteo Washington\n",
       "702     Carpinteria California\n",
       "1033        Seattle Washington\n",
       "1153                Durango CO\n",
       "1387             Belfast Maine\n",
       "1398                  Aspen CO\n",
       "1399              Manhattan KS\n",
       "1400                Chicago IL\n",
       "1401           North Bergen NJ\n",
       "1402     Minneapolis Minnesota\n",
       "1404                Warwick NY\n",
       "1406              St. Louis MO\n",
       "1409            Glen Alpine NC\n",
       "1410                Boulder CO\n",
       "1411               Columbus OH\n",
       "1412                 Plover WI\n",
       "1413          Millers Falls MA\n",
       "1415              Asheville NC\n",
       "1418           Grand Rapids MI\n",
       "1419                 Eugene Or\n",
       "1420                 Eugene Or\n",
       "Name: city_state, dtype: object"
      ]
     },
     "execution_count": 306,
     "metadata": {},
     "output_type": "execute_result"
    }
   ],
   "source": [
    "# make an array of cities/states that need lat/long\n",
    "spot = []\n",
    "spot = missingGEO.iloc[:,17]\n",
    "spot"
   ]
  },
  {
   "cell_type": "code",
   "execution_count": 307,
   "metadata": {
    "collapsed": false
   },
   "outputs": [],
   "source": [
    "# keep track of index values for corresponding cities for recombining later on\n",
    "join = []\n",
    "join = missingGEO.index.values\n",
    "idIndex = pd.DataFrame(join, columns =['index'])"
   ]
  },
  {
   "cell_type": "code",
   "execution_count": 308,
   "metadata": {
    "collapsed": false
   },
   "outputs": [
    {
     "name": "stdout",
     "output_type": "stream",
     "text": [
      "Belmont, San Mateo County, California, United States of America\n",
      "(37.5202145, -122.2758007)\n"
     ]
    }
   ],
   "source": [
    "# test code to see if geolocator algorithm works for a particular city/state\n",
    "location = geolocator.geocode('belmont CA')\n",
    "print(location.address)\n",
    "print((location.latitude, location.longitude))"
   ]
  },
  {
   "cell_type": "code",
   "execution_count": 309,
   "metadata": {
    "collapsed": false
   },
   "outputs": [
    {
     "data": {
      "text/html": [
       "<div>\n",
       "<table border=\"1\" class=\"dataframe\">\n",
       "  <thead>\n",
       "    <tr style=\"text-align: right;\">\n",
       "      <th></th>\n",
       "      <th>latitude</th>\n",
       "      <th>longitude</th>\n",
       "      <th>index</th>\n",
       "    </tr>\n",
       "  </thead>\n",
       "  <tbody>\n",
       "    <tr>\n",
       "      <th>0</th>\n",
       "      <td>38.894955</td>\n",
       "      <td>-77.036646</td>\n",
       "      <td>273</td>\n",
       "    </tr>\n",
       "    <tr>\n",
       "      <th>1</th>\n",
       "      <td>43.801356</td>\n",
       "      <td>-91.239581</td>\n",
       "      <td>380</td>\n",
       "    </tr>\n",
       "    <tr>\n",
       "      <th>2</th>\n",
       "      <td>37.520215</td>\n",
       "      <td>-122.275801</td>\n",
       "      <td>419</td>\n",
       "    </tr>\n",
       "  </tbody>\n",
       "</table>\n",
       "</div>"
      ],
      "text/plain": [
       "    latitude   longitude  index\n",
       "0  38.894955  -77.036646    273\n",
       "1  43.801356  -91.239581    380\n",
       "2  37.520215 -122.275801    419"
      ]
     },
     "execution_count": 309,
     "metadata": {},
     "output_type": "execute_result"
    }
   ],
   "source": [
    "# loop through the list to get both latitude and longitude\n",
    "locations = []\n",
    "for row in spot:\n",
    "    location = geolocator.geocode([row])\n",
    "    locations.append({'latitude' : location.latitude,'longitude' : location.longitude})\n",
    "    \n",
    "coord = pd.DataFrame(locations, columns=['latitude', 'longitude'])\n",
    "coord = pd.concat([coord, idIndex], axis = 1)\n",
    "coord.head(3)"
   ]
  },
  {
   "cell_type": "code",
   "execution_count": 310,
   "metadata": {
    "collapsed": false
   },
   "outputs": [],
   "source": [
    "# set index to match the previous index from the original USA brewery list\n",
    "coord = coord.set_index('index')"
   ]
  },
  {
   "cell_type": "code",
   "execution_count": 311,
   "metadata": {
    "collapsed": false
   },
   "outputs": [
    {
     "data": {
      "text/html": [
       "<div>\n",
       "<table border=\"1\" class=\"dataframe\">\n",
       "  <thead>\n",
       "    <tr style=\"text-align: right;\">\n",
       "      <th></th>\n",
       "      <th>brewery_id</th>\n",
       "      <th>name</th>\n",
       "      <th>address1</th>\n",
       "      <th>address2</th>\n",
       "      <th>city</th>\n",
       "      <th>state</th>\n",
       "      <th>code</th>\n",
       "      <th>country</th>\n",
       "      <th>phone</th>\n",
       "      <th>website</th>\n",
       "      <th>filepath</th>\n",
       "      <th>descript</th>\n",
       "      <th>last_mod</th>\n",
       "      <th>id</th>\n",
       "    </tr>\n",
       "  </thead>\n",
       "  <tbody>\n",
       "    <tr>\n",
       "      <th>273</th>\n",
       "      <td>1421</td>\n",
       "      <td>DC Brau</td>\n",
       "      <td>3178-B Bladensburg Rd. NE</td>\n",
       "      <td>NaN</td>\n",
       "      <td>Washington</td>\n",
       "      <td>DC</td>\n",
       "      <td>20018</td>\n",
       "      <td>United States</td>\n",
       "      <td>NaN</td>\n",
       "      <td>http://www.dcbrau.com/</td>\n",
       "      <td>logo.png</td>\n",
       "      <td>The first brewery to open in the nation's capi...</td>\n",
       "      <td>2011-08-08 19:02:40</td>\n",
       "      <td>NaN</td>\n",
       "    </tr>\n",
       "    <tr>\n",
       "      <th>380</th>\n",
       "      <td>381</td>\n",
       "      <td>City Brewing Company, LLC</td>\n",
       "      <td>925 South Third Street</td>\n",
       "      <td>NaN</td>\n",
       "      <td>La Crosse</td>\n",
       "      <td>Wisconsin</td>\n",
       "      <td>54601</td>\n",
       "      <td>United States</td>\n",
       "      <td>1-608-785-4200</td>\n",
       "      <td>http://www.citybrewery.com/</td>\n",
       "      <td>NaN</td>\n",
       "      <td>City Brewing Company is a premier, state-of-th...</td>\n",
       "      <td>2010-07-22 20:00:20</td>\n",
       "      <td>NaN</td>\n",
       "    </tr>\n",
       "  </tbody>\n",
       "</table>\n",
       "</div>"
      ],
      "text/plain": [
       "     brewery_id                       name                   address1  \\\n",
       "273        1421                    DC Brau  3178-B Bladensburg Rd. NE   \n",
       "380         381  City Brewing Company, LLC     925 South Third Street   \n",
       "\n",
       "    address2        city      state   code        country           phone  \\\n",
       "273      NaN  Washington         DC  20018  United States             NaN   \n",
       "380      NaN   La Crosse  Wisconsin  54601  United States  1-608-785-4200   \n",
       "\n",
       "                         website  filepath  \\\n",
       "273       http://www.dcbrau.com/  logo.png   \n",
       "380  http://www.citybrewery.com/       NaN   \n",
       "\n",
       "                                              descript             last_mod  \\\n",
       "273  The first brewery to open in the nation's capi...  2011-08-08 19:02:40   \n",
       "380  City Brewing Company is a premier, state-of-th...  2010-07-22 20:00:20   \n",
       "\n",
       "     id  \n",
       "273 NaN  \n",
       "380 NaN  "
      ]
     },
     "execution_count": 311,
     "metadata": {},
     "output_type": "execute_result"
    }
   ],
   "source": [
    "# drop the columns of missing data so that new lat/long data can be merged in\n",
    "missingGEO = missingGEO.drop(missingGEO.columns[[14,15,16,17]], axis =1)\n",
    "missingGEO.head(2)"
   ]
  },
  {
   "cell_type": "code",
   "execution_count": 312,
   "metadata": {
    "collapsed": false
   },
   "outputs": [],
   "source": [
    "# concat in new lat/long data\n",
    "FixedmissingGEO = pd.concat([missingGEO, coord], axis = 1)"
   ]
  },
  {
   "cell_type": "code",
   "execution_count": 313,
   "metadata": {
    "collapsed": false
   },
   "outputs": [],
   "source": [
    "# get rid of any remaining breweries with NaN for lat/long.  these were determined to not be relevant\n",
    "notmissing = geobrewUSA['latitude'].notnull()\n",
    "geobrewUSAfixed = geobrewUSA[notmissing]"
   ]
  },
  {
   "cell_type": "code",
   "execution_count": 314,
   "metadata": {
    "collapsed": false
   },
   "outputs": [],
   "source": [
    "# make a new geobrewUSA dataframe that is complete with every brewery having latitude and longitude\n",
    "geobrewUSA = pd.concat([geobrewUSAfixed, FixedmissingGEO], axis = 0)"
   ]
  },
  {
   "cell_type": "code",
   "execution_count": 315,
   "metadata": {
    "collapsed": false
   },
   "outputs": [],
   "source": [
    "#drop the last redundant row\n",
    "geobrewUSA = geobrewUSA[:-1]"
   ]
  },
  {
   "cell_type": "code",
   "execution_count": 316,
   "metadata": {
    "collapsed": false
   },
   "outputs": [
    {
     "data": {
      "text/html": [
       "<div>\n",
       "<table border=\"1\" class=\"dataframe\">\n",
       "  <thead>\n",
       "    <tr style=\"text-align: right;\">\n",
       "      <th></th>\n",
       "      <th>accuracy</th>\n",
       "      <th>address1</th>\n",
       "      <th>address2</th>\n",
       "      <th>brewery_id</th>\n",
       "      <th>city</th>\n",
       "      <th>code</th>\n",
       "      <th>country</th>\n",
       "      <th>descript</th>\n",
       "      <th>filepath</th>\n",
       "      <th>id</th>\n",
       "      <th>last_mod</th>\n",
       "      <th>latitude</th>\n",
       "      <th>longitude</th>\n",
       "      <th>name</th>\n",
       "      <th>phone</th>\n",
       "      <th>state</th>\n",
       "      <th>website</th>\n",
       "    </tr>\n",
       "  </thead>\n",
       "  <tbody>\n",
       "  </tbody>\n",
       "</table>\n",
       "</div>"
      ],
      "text/plain": [
       "Empty DataFrame\n",
       "Columns: [accuracy, address1, address2, brewery_id, city, code, country, descript, filepath, id, last_mod, latitude, longitude, name, phone, state, website]\n",
       "Index: []"
      ]
     },
     "execution_count": 316,
     "metadata": {},
     "output_type": "execute_result"
    }
   ],
   "source": [
    "#Find stray data point in Europe.  This was corrected by changing \"Colorado\" to \"CO\"\n",
    "euro = geobrewUSA['longitude'] > 0\n",
    "europoint = geobrewUSA[euro]\n",
    "europoint"
   ]
  },
  {
   "cell_type": "code",
   "execution_count": 317,
   "metadata": {
    "collapsed": false
   },
   "outputs": [
    {
     "data": {
      "text/html": [
       "<div>\n",
       "<table border=\"1\" class=\"dataframe\">\n",
       "  <thead>\n",
       "    <tr style=\"text-align: right;\">\n",
       "      <th></th>\n",
       "      <th>accuracy</th>\n",
       "      <th>address1</th>\n",
       "      <th>address2</th>\n",
       "      <th>brewery_id</th>\n",
       "      <th>city</th>\n",
       "      <th>code</th>\n",
       "      <th>country</th>\n",
       "      <th>descript</th>\n",
       "      <th>filepath</th>\n",
       "      <th>id</th>\n",
       "      <th>last_mod</th>\n",
       "      <th>latitude</th>\n",
       "      <th>longitude</th>\n",
       "      <th>name</th>\n",
       "      <th>phone</th>\n",
       "      <th>state</th>\n",
       "      <th>website</th>\n",
       "    </tr>\n",
       "  </thead>\n",
       "  <tbody>\n",
       "    <tr>\n",
       "      <th>752</th>\n",
       "      <td>RANGE_INTERPOLATED</td>\n",
       "      <td>75-5629 Kuakini Highway</td>\n",
       "      <td>NaN</td>\n",
       "      <td>751</td>\n",
       "      <td>Kailua-Kona</td>\n",
       "      <td>96740</td>\n",
       "      <td>United States</td>\n",
       "      <td>NaN</td>\n",
       "      <td>NaN</td>\n",
       "      <td>705.0</td>\n",
       "      <td>2010-07-22 20:00:20</td>\n",
       "      <td>19.642</td>\n",
       "      <td>-155.996</td>\n",
       "      <td>Kona Brewing</td>\n",
       "      <td>1-808-334-1133</td>\n",
       "      <td>Hawaii</td>\n",
       "      <td>http://www.konabrewingco.com</td>\n",
       "    </tr>\n",
       "    <tr>\n",
       "      <th>847</th>\n",
       "      <td>ROOFTOP</td>\n",
       "      <td>275 East Kawili Street</td>\n",
       "      <td>NaN</td>\n",
       "      <td>846</td>\n",
       "      <td>Hilo</td>\n",
       "      <td>96720</td>\n",
       "      <td>United States</td>\n",
       "      <td>NaN</td>\n",
       "      <td>NaN</td>\n",
       "      <td>797.0</td>\n",
       "      <td>2010-07-22 20:00:20</td>\n",
       "      <td>19.706</td>\n",
       "      <td>-155.069</td>\n",
       "      <td>Mehana Brewing</td>\n",
       "      <td>1-808-934-8211</td>\n",
       "      <td>Hawaii</td>\n",
       "      <td>NaN</td>\n",
       "    </tr>\n",
       "  </tbody>\n",
       "</table>\n",
       "</div>"
      ],
      "text/plain": [
       "               accuracy                 address1 address2  brewery_id  \\\n",
       "752  RANGE_INTERPOLATED  75-5629 Kuakini Highway      NaN         751   \n",
       "847             ROOFTOP   275 East Kawili Street      NaN         846   \n",
       "\n",
       "            city   code        country descript filepath     id  \\\n",
       "752  Kailua-Kona  96740  United States      NaN      NaN  705.0   \n",
       "847         Hilo  96720  United States      NaN      NaN  797.0   \n",
       "\n",
       "                last_mod  latitude  longitude            name           phone  \\\n",
       "752  2010-07-22 20:00:20    19.642   -155.996    Kona Brewing  1-808-334-1133   \n",
       "847  2010-07-22 20:00:20    19.706   -155.069  Mehana Brewing  1-808-934-8211   \n",
       "\n",
       "      state                       website  \n",
       "752  Hawaii  http://www.konabrewingco.com  \n",
       "847  Hawaii                           NaN  "
      ]
     },
     "execution_count": 317,
     "metadata": {},
     "output_type": "execute_result"
    }
   ],
   "source": [
    "#Find stray data point in USVI, should not be included\n",
    "USVI = geobrewUSA['latitude'] < 20\n",
    "straypoint = geobrewUSA[USVI]\n",
    "straypoint"
   ]
  },
  {
   "cell_type": "code",
   "execution_count": 318,
   "metadata": {
    "collapsed": false
   },
   "outputs": [],
   "source": [
    "# remove data that is not needed from dataframe\n",
    "geobrewUSA = geobrewUSA.drop(geobrewUSA.columns[[0,1,2,4,5,6,7,8,9,10,14,15,16]], axis =1)"
   ]
  },
  {
   "cell_type": "code",
   "execution_count": 319,
   "metadata": {
    "collapsed": true
   },
   "outputs": [],
   "source": [
    "# create marker for map\n",
    "marker = {\"color\": \"crimson\",\n",
    "          \"size\": 5,\n",
    "          \"colorscale\": \"Red\"}"
   ]
  },
  {
   "cell_type": "code",
   "execution_count": 335,
   "metadata": {
    "collapsed": true
   },
   "outputs": [],
   "source": [
    "# create layout for map\n",
    "layout = dict(title = '2008 US Breweries<br>(hover over point for brewery name)', #title\n",
    "        showlegend = False,                          #remove legend\n",
    "        geo = dict(           \n",
    "            scope='usa',                              \n",
    "            projection=dict( type='albers usa' ),     #use built in USA map\n",
    "            showland = True,\n",
    "            landcolor = 'rgb(217, 217, 217)',          #set map/border colors annd sizes\n",
    "            subunitwidth=1,\n",
    "            countrywidth=1,\n",
    "            subunitcolor=\"rgb(255, 255, 255)\",\n",
    "            countrycolor=\"rgb(255, 255, 255)\"),\n",
    "            width=1050, height=750)        "
   ]
  },
  {
   "cell_type": "code",
   "execution_count": 336,
   "metadata": {
    "collapsed": true
   },
   "outputs": [],
   "source": [
    "# using lat/lon mode for map\n",
    "trace = dict(type=\"scattergeo\",     # trace type\n",
    "             mode=\"markers\",        # draw dots\n",
    "             lat=geobrewUSA[\"latitude\"],  # latitude coordinate\n",
    "             lon=geobrewUSA[\"longitude\"], # longitude coordinate\n",
    "             text = geobrewUSA['name'], # what shows up with hovering over data point\n",
    "             marker=marker          # marker settings (color, size...)\n",
    "            )"
   ]
  },
  {
   "cell_type": "code",
   "execution_count": 338,
   "metadata": {
    "collapsed": false
   },
   "outputs": [
    {
     "data": {
      "text/html": [
       "<div id=\"210e9222-8149-421d-8e53-4f83981be371\" style=\"height: 750; width: 1050px;\" class=\"plotly-graph-div\"></div><script type=\"text/javascript\">window.PLOTLYENV=window.PLOTLYENV || {};window.PLOTLYENV.BASE_URL=\"https://plot.ly\";Plotly.newPlot(\"210e9222-8149-421d-8e53-4f83981be371\", [{\"lat\": [30.2234, 37.7825, 41.2225, 41.4392, 30.5049, 41.2603, 45.5484, 58.3573, 43.1257, 32.891999999999996, 21.3069, 43.7028, 40.6016, 38.0501, 32.8355, 41.7605, 38.8966, 39.1551, 42.3763, 38.535, 48.5193, 37.7635, 39.0014, 44.3516, 43.0785, 38.5983, 40.2659, 44.2619, 42.321999999999996, 35.6221, 33.818000000000005, 44.3996, 42.3372, 44.2896, 38.5702, 40.0166, 41.6124, 39.5765, 44.0486, 44.4214, 32.7668, 39.42, 44.1636, 44.3875, 38.9169, 34.4702, 41.0523, 40.0453, 45.036, 39.9745, 39.9719, 36.0721, 47.5203, 39.1136, 39.9767, 41.238, 46.8726, 38.2546, 28.5383, 37.7694, 38.6112, 38.8916, 44.4295, 42.2843, 43.1947, 41.5059, 40.622, 40.1106, 37.7756, 35.8104, 45.0223, 42.9634, 36.2426, 45.7736, 42.1511, 46.9223, 47.6576, 45.8981, 37.8634, 45.5235, 33.9132, 41.8817, 37.23, 36.152, 38.8339, 45.5325, 39.1716, 43.0598, 41.5118, 35.0845, 40.7591, 34.8531, 38.253, 44.1332, 35.1584, 34.0532, 42.4311, 35.3733, 35.0868, 42.3144, 42.347, 42.8666, 40.0267, 39.0821, 48.7475, 44.4105, 41.254, 39.7236, 41.347, 37.3861, 39.3028, 41.4548, 42.8606, 42.6818, 42.5847, 37.5483, 42.4965, 45.5311, 39.3628, 38.8097, 39.8735, 40.7215, 45.638000000000005, 38.2554, 42.5083, 40.1119, 39.705, 36.7477, 41.2404, 39.7245, 36.7477, 41.5713, 41.1607, 42.6542, 42.1844, 35.931999999999995, 37.9735, 32.9147, 42.3664, 42.6102, 43.0949, 38.8999, 43.8042, 38.8411, 41.126000000000005, 42.2689, 36.6777, 35.6231, 35.9103, 37.2748, 43.7548, 43.648999999999994, 41.9625, 30.2672, 44.4419, 35.14, 28.2126, 40.7457, 44.8342, 39.8023, 36.1476, 27.9587, 39.7684, 33.8575, 41.4995, 40.6598, 39.2308, 35.2205, 30.396, 37.0013, 37.978, 47.6745, 45.4582, 42.417, 42.3584, 43.3177, 42.5893, 39.7599, 37.7273, 40.9222, 47.9454, 40.8942, 43.5323, 32.6976, 41.537, 41.5855, 44.0886, 40.2795, 40.4313, 34.1696, 40.8069, 29.9558, 38.8698, 40.8726, 41.4995, 40.6936, 41.8539, 38.2309, 43.7076, 42.2667, 29.8994, 39.5584, 39.2904, 32.7153, 43.0481, 38.2362, 44.3478, 39.7553, 44.0474, 39.1361, 34.7473, 47.9485, 41.4995, 46.7713, 39.6282, 38.5405, 29.9606, 39.7541, 39.9478, 38.7683, 39.8019, 45.71, 42.493, 37.7176, 35.0845, 42.5006, 35.6003, 39.2807, 28.014, 41.7075, 40.4553, 38.7814, 38.5725, 40.5793, 44.4489, 37.978, 37.1553, 40.8911, 38.4093, 47.8099, 39.2684, 47.5604, 42.9324, 47.614, 47.6688, 37.8313, 42.0981, 40.8155, 43.5325, 47.256, 36.6802, 42.1112, 43.1147, 40.3707, 41.4559, 43.1045, 47.6701, 43.0844, 37.387, 37.8855, 39.321999999999996, 41.0117, 44.0812, 37.3775, 35.5953, 34.2257, 47.0437, 46.7926, 41.6611, 35.1973, 38.95, 44.9084, 42.2031, 28.0707, 41.5433, 43.161, 48.2992, 42.9561, 39.7582, 39.9121, 36.0973, 38.9773, 40.5832, 38.8048, 42.9585, 41.8089, 33.4194, 44.0342, 44.2678, 39.3628, 38.9718, 41.5202, 41.5403, 45.7103, 43.8014, 40.7465, 46.518, 61.2179, 41.8775, 39.5476, 39.7546, 37.7749, 37.8716, 41.9273, 45.2104, 41.9137, 41.8871, 26.0745, 37.3526, 39.6441, 41.4295, 42.1779, 40.2518, 43.4988, 43.5984, 41.2672, 45.5498, 42.6793, 39.5349, 61.5816, 43.0745, 43.0177, 39.7539, 41.4844, 39.6042, 44.9467, 44.5189, 33.135999999999996, 44.9398, 44.0344, 35.7721, 38.2382, 42.2805, 43.0081, 45.4901, 47.6592, 37.4903, 35.6083, 20.7592, 43.3871, 47.2436, 42.3465, 43.513000000000005, 40.4962, 43.2165, 40.5853, 40.7323, 39.7392, 39.9653, 45.7458, 44.9518, 44.9491, 32.3096, 43.1646, 41.0016, 35.5716, 32.9618, 32.803000000000004, 38.9911, 40.6215, 41.0247, 38.5551, 39.7187, 43.7594, 37.677, 45.4969, 37.6345, 39.6403, 39.2651, 40.87, 43.4666, 40.4787, 39.9526, 30.2131, 35.6675, 40.461, 39.6834, 39.745, 37.986, 47.53, 42.4145, 38.7563, 49.1482, 37.5441, 44.9449, 41.2328, 45.0039, 39.3722, 46.5015, 40.5549, 41.254, 40.1707, 42.3037, 42.3724, 39.7458, 42.3375, 39.9529, 43.0519, 33.9533, 42.2949, 32.8969, 44.5236, 38.4405, 38.0317, 46.5958, 19.642, 41.0323, 44.5617, 42.5278, 32.8409, 33.8575, 48.3917, 40.4194, 38.2724, 43.1706, 44.2829, 46.7611, 43.0547, 40.0438, 48.013999999999996, 40.3212, 48.3003, 30.3764, 33.4577, 40.1587, 40.3256, 44.5534, 33.4484, 46.5977, 33.7187, 45.0565, 45.7786, 41.2557, 39.1456, 39.1836, 30.2541, 45.9172, 44.8516, 43.5882, 40.7843, 40.8032, 41.0677, 41.3145, 40.879, 40.8786, 44.4284, 37.7702, 45.5001, 37.543, 33.8835, 32.803000000000004, 36.1755, 43.2167, 37.6484, 40.0236, 33.8844, 35.0928, 30.3617, 37.9479, 47.6637, 46.5431, 36.152, 40.4234, 35.0707, 20.9721, 41.6432, 39.0534, 30.4181, 39.8658, 47.8774, 19.706, 38.9734, 43.0831, 39.1326, 42.6728, 41.975, 42.2249, 42.6616, 42.2872, 43.0389, 43.0508, 61.1473, 35.3, 46.0697, 39.611999999999995, 43.0445, 42.0855, 41.7972, 42.9945, 43.0334, 42.6001, 44.9732, 44.9442, 45.8722, 41.6931, 40.687, 38.5657, 35.2156, 45.7822, 36.1286, 32.080999999999996, 38.498000000000005, 61.1902, 43.5907, 40.019, 38.0941, 38.1074, 34.4686, 40.5843, 40.3978, 41.1339, 37.244, 38.3281, 40.5929, 42.3587, 42.8171, 42.79, 33.9089, 40.1857, 45.9222, 44.0569, 39.9502, 45.5235, 39.4466, 41.0638, 47.6815, 44.7776, 38.8058, 44.9458, 42.0884, 45.5539, 34.8661, 39.615, 40.015, 40.015, 43.1117, 40.5894, 33.2029, 41.1828, 30.2767, 39.154, 42.1682, 42.0248, 42.2936, 39.0472, 32.7153, 42.1865, 43.0389, 48.7596, 44.6365, 44.5613, 40.3532, 28.5265, 44.4284, 40.2246, 44.0197, 40.8098, 41.1475, 29.43, 32.7978, 37.8016, 47.5143, 32.8017, 43.1467, 42.2012, 40.496, 43.8344, 45.2152, 40.4569, 42.8368, 40.4569, 29.5761, 34.9251, 33.9176, 39.9827, 41.9104, 47.6081, 35.1315, 33.7268, 39.7369, 41.9455, 32.9908, 37.2283, 40.6954, 37.6645, 38.8814, 33.1406, 43.3872, 40.3341, 45.5415, 43.0781, 42.0347, 34.542, 39.6282, 43.6615, 40.1688, 43.6011, 47.5917, 37.8806, 47.5924, 33.4905, 45.4856, 41.5841, 32.7366, 45.0851, 61.2181, 41.1151, 42.832, 30.113000000000003, 33.6864, 33.037, 45.1913, 36.0613, 40.3044, 40.0187, 47.6062, 43.0117, 41.9234, 37.5356, 33.4148, 40.3688, 41.85, 40.638000000000005, 40.4465, 44.5693, 41.8915, 39.7472, 43.0399, 44.9765, 37.2886, 39.5678, 41.4623, 39.4091, 42.7875, 44.6202, 37.2869, 45.5118, 37.9871, 43.3178, 38.647, 32.789, 44.0291, 39.939, 38.5731, 44.8902, 38.4418, 38.6191, 29.8123, 38.633, 28.1646, 29.4241, 40.7626, 21.3069, 32.7922, 33.1345, 44.2929, 39.7557, 44.8007, 34.4166, 36.9741, 35.5966, 38.4405, 45.4207, 32.803000000000004, 37.9669, 47.9975, 44.7974, 36.9676, 35.6631, 40.801, 36.7582, 20.8947, 44.9133, 40.5684, 45.0495, 43.6619, 37.7749, 37.7481, 44.9763, 39.7246, 44.722, 64.9583, 38.5243, 43.55, 40.9491, 40.674, 48.4192, 44.7403, 61.2196, 40.1298, 40.1943, 35.9657, 43.0325, 43.4768, 46.3284, 37.9841, 43.6326, 34.0701, 33.7268, 39.7323, 46.5872, 40.8903, 32.7785, 30.3489, 42.1008, 47.6959, 37.7387, 40.5058, 29.426, 33.8575, 43.1, 39.9525, 37.2079, 37.6417, 42.1976, 37.2724, 32.5007, 35.994, 44.5104, 39.6318, 39.2904, 33.1157, 44.2536, 41.8072, 43.71, 44.1972, 42.3372, 40.2369, 43.0389, 41.4277, 27.9494, 44.8342, 38.5472, 43.3152, 44.9139, 45.0429, 39.0324, 33.8087, 42.8666, 38.8289, 43.3906, 32.8091, 40.1672, 43.6113, 32.7732, 27.9607, 43.8014, 41.8358, 32.7153, 36.2154, 45.4192, 33.9459, 44.3372, 40.8959, 33.8614, 41.9658, 40.4624, 37.7839, 42.1185, 33.1406, 41.818999999999996, 41.9211, 38.4398, 41.0689, 37.7855, 34.7968, 41.8087, 47.5924, 41.5354, 44.4771, 32.3407, 40.6966, 40.9259, 37.3362, 44.52, 39.7392, 39.7418, 35.9132, 20.8911, 42.351000000000006, 38.7745, 40.6892, 38.8967, 37.8734, 40.3659, 40.3507, 40.2559, 44.5203, 44.9442, 38.9735, 33.7496, 46.7208, 47.8559, 40.0201, 41.8206, 40.7964, 32.8545, 43.0862, 40.7326, 39.1498, 43.2165, 40.2118, 40.4233, 39.1733, 41.8445, 41.2331, 41.2553, 40.7322, 37.9551, 40.0439, 44.4773, 40.0061, 45.2585, 39.1126, 41.6372, 42.5586, 42.5739, 40.4616, 45.6922, 42.6488, 42.3718, 43.0448, 43.0525, 44.8652, 39.232, 35.8859, 41.8506, 41.4995, 40.6732, 39.2866, 39.3722, 45.3498, 47.3812, 45.5408, 44.0521, 39.3628, 42.2108, 42.1707, 45.2519, 41.6416, 34.2257, 43.0495, 44.6584, 39.9619, 39.7535, 46.6021, 45.5235, 39.9831, 29.9386, 32.821, 40.7, 45.7861, 36.150999999999996, 44.1004, 35.6197, 38.8949549, 43.8013556, 37.5202145, 47.9474034, 34.3988838, 47.6038321, 37.2753739, 44.4259092, 39.1911128, 39.1836082, 41.8755546, 40.8042674, 44.9772995, 41.256483, 38.6272733, 35.7290168, 40.102555, 39.9622601, 44.4563579, 42.5820307, 35.6009498, 42.9632405, 44.0505054], \"text\": [\"(512) Brewing Company\", \"21st Amendment Brewery Cafe\", \"Abbey Wright Brewing/Valley Inn\", \"Aberdeen Brewing\", \"Abita Brewing Company\", \"Aksarben Brewing (BOP)\", \"Alameda Brewhouse\", \"Alaskan Brewing\", \"Ale Asylum\", \"AleSmith Brewing\", \"Ali`i Brewing\", \"Allagash Brewing\", \"Allentown Brew Works\", \"Alltech's Lexington Brewing Company\", \"Alpine Beer Company\", \"America's Brewing\", \"American River Brewing\", \"Amerisports Brew Pub\", \"Amherst Brewing Company\", \"Amicas Pizza, Microbrews and More\", \"Anacortes Brewing\", \"Anchor Brewing\", \"Anderson Valley Brewing\", \"Andrew's Brewing\", \"Angelic Brewing\", \"Anheuser-Busch\", \"Appalachian Brewing Company\", \"Appleton Brewing\", \"Arcadia Brewing\", \"Asheville Pizza and Brewing Co.\", \"Atlanta Brewing Company\", \"Atlantic Brewing Company\", \"Atwater Block Brewing\", \"August Schell Brewing\", \"Augusta Brewing\", \"Avery Brewing Company\", \"Back Road Brewery\", \"Backcountry Brewery\", \"Backwater Brewing\", \"Bad Frog Brewery Company\", \"Ballast Point Brewing\", \"Baltimore-Washington Beer Works\", \"Bandana Brewery\", \"Bar Harbor Brewing Company\", \"Bard's Tale Beer Company\", \"Barley Brothers Brewery and Grill\", \"Barley Creek Brewing\", \"Barley Island Brewing\", \"Barley John's Brewpub\", \"Barley's #2 Smokehouse and Brewpub\", \"Barley's Brewing #1\", \"Barley's Casino & Brewing Company\", \"Baron Brewing Company\", \"Barrel House Brewing Co.\", \"Basil T's Brew Pub and Italian Grill\", \"Bavarian Barbarian Brewing Company\", \"Bayern Brewing\", \"BBC Brewing Co., LLC\", \"Beach Brewing\", \"Beach Chalet Brewery\", \"Bear Republic Brewery\", \"Beermann's Beerwerks BrewPub\", \"Belfast Bay Brewing Company\", \"Bell's Brewery Inc.\", \"Bellows Brew Crew\", \"Bent River Brewing\", \"Bethlehem Brew Works\", \"Bibiana Brewing\", \"Big Bang Brewery (Closed)\", \"Big Boss Brewing Company\", \"Big Buck Brewery\", \"Big Buck Brewery and Steakhouse #2\", \"Big Dog's Brewing Company\", \"Big Hole Brewing\", \"Big Horn Brewing @ The RAM 2\", \"Big Sky Brewing\", \"Big Time Brewing\", \"Bill's Tavern & Brewhouse\", \"Bison Brewing\", \"BJ's Pizza, Grill, and Brewery - Jantzen Beach\", \"BJ's Restaurant and Brewery\", \"Black Toad Brewing Company\", \"Blacksburg Brewing Company\", \"Blackstone Restaurant & Brewery\", \"Blicks Brewing\", \"Blitz-Weinhard Brewing\", \"Bloomington Brewing Company\", \"BluCreek Brewing Company\", \"Blue Cat Brew Pub\", \"Blue Corn Caf and Brewery - Albuquerque\", \"Blue Point Brewing\", \"Blue Ridge Brewing\", \"Bluegrass Brewing Company, Inc.\", \"Bobcat Cafe & Brewery\", \"Boiler Room Brewpub\", \"Bonaventure Brewing Co\", \"Bonfire Brewery\", \"Bootleggers Steakhouse and Brewery\", \"Boscos Memphis Brewing\", \"Boston Beer Company\", \"Boston Beer Works\", \"Bottom's Up Brewing\", \"Boulder Beer Company\", \"Boulevard Brewing Company\", \"Boundary Bay Brewery and Bistro\", \"Brauhaus Brew Hall\", \"Breckenridge BBQ of Omaha\", \"Breckenridge Brewery\", \"Brew Kettle Taproom & Smokehouse BOP\", \"Brew Makers\", \"Brewer's Art\", \"Brewery at Martha's Vineyard\", \"Brewery Creek Brewing\", \"Brewery Ommegang\", \"Brewmasters Restaurant and Brewery South\", \"Brewpub-on-the-Green\", \"Bricktown Brewery\", \"BridgePort Brewing\", \"Brimstone Brewing\", \"Bristol Brewing\", \"Broad Ripple Brewing\", \"Brooklyn Brewery\", \"Brown Street Brewery\", \"Brownings\", \"BT McClintic Beer Company\", \"Bube's Brewery\", \"Bull & Bush Pub & Brewery\", \"Bulldog Brewing\", \"Bullfrog Brewery\", \"Butte Creek Brewing\", \"Butterfield Brewing #1\", \"Buzzards Bay Brewing Inc.\", \"C.B. & Potts of Cheyenne\", \"C.H. Evans Brewing Company\", \"Caldera Brewing\", \"Calhoun's Microbrewery\", \"California Cider Company\", \"Callahan's Pub and Brewery\", \"Cambridge Brewing\", \"Cape Ann Brewing\", \"Capital Brewery\", \"Capital City Brewing Company\", \"Capital City Brewing Company\", \"Capitol City Brewing #4\", \"Captain Lawrence Brewing Company\", \"Carlyle Brewing\", \"Carmel Brewing\", \"Carolina Beer Company\", \"Carolina Brewery\", \"Carver Brewing Co.\", \"Castle Springs Brewery\", \"Catamount Brewing\", \"Cedar Brewing\", \"Celis Brewery\", \"Central Waters Brewing Company\", \"Chama River Brewing\", \"Charlie and Jake's Brewery and BBQ\", \"Chelsea Brewing Company\", \"Cherryland Brewing\", \"Cheshire Cat Brewery\", \"Chicago Brewing\", \"Cigar City Brewing\", \"Circle V Brewing\", \"CJ's Brewery & Grill\", \"Cleveland ChopHouse and Brewery\", \"Climax Brewing Copmany\", \"Clipper City Brewing Co.\", \"Coach's Norman\", \"Coast Brewing\", \"Coast Range Brewing\", \"Coastal Fog Brewing\", \"Coeur d'Alene Brewing Company\", \"Cold Spring Brewing\", \"Columbia Bay Brewery Restaurant and Pub\", \"Commonwealth Brewing #1\", \"Cooper's Cave Ale Company\", \"Cooperstown Brewing Company\", \"Coors Brewing - Golden Brewery\", \"Copper Dragon Brewing\", \"Copper Eagle Brewing\", \"Copper Eagle Brewing\", \"Copper Kettle Brewery\", \"Corner Pub\", \"Coronado Brewing Company\", \"Costal Extreme Brewing Company\", \"Court Avenue Brewing\", \"Courthouse Pub\", \"Crabby Larry's Brewpub Steak & Crab House\", \"Crabtree Brewery\", \"Craftsman Brewing\", \"Crane River Brewpub and Cafe\", \"Crescent City Brewhouse\", \"Crested Butte Brewery &  Pub\", \"Cricket Hill\", \"Crooked River Brewing\", \"Crooked Waters Brewing\", \"Cugino Brewing Company\", \"Cumberland Brewery\", \"D.L. Geary Brewing Company\", \"Dark Horse Brewing Co.\", \"Day Brewing\", \"Deep Creek Brewing\", \"DeGroen's Grill\", \"Del Mar Stuft Pizza and Brewing\", \"Delafield Brewhaus\", \"Dempsey's Restaurant & Brewery\", \"Denmark Brewing\", \"Denver ChopHouse and Brewery\", \"Deschutes Brewery\", \"Devil Mountain Brewing\", \"Diamond Bear Brewing Co.\", \"Diamond Knot Brewery & Alehouse\", \"Diamondback Brewery\", \"Dick's Brewing\", \"Dillon Dam Brewery\", \"Dirt Cheap Cigarettes and Beer\", \"Dixie Brewing\", \"Dixon's Downtown Grill\", \"Dock Street Beer\", \"Dogfish Head Craft Brewery\", \"Dostal Alley\", \"Double Mountain Brewery & Taproom\", \"Dragonmead Microbrewery\", \"Drake's Brewing\", \"Dry Gulch Brewing\", \"Dubuque Brewing and Bottling\", \"Duck-Rabbit Craft Brewery\", \"DuClaw\", \"Dunedin Brewery\", \"Duneland Brewhouse Pub and Restaurant\", \"East End Brewing Company\", \"Eastern Shore Brewing\", \"Eddie McStiff's Brewpub\", \"Eel River Brewing\", \"Egan Brewing\", \"EJ Phair Brewing Company and Alehouse\", \"El Toro Brewing Company\", \"Elk Creek Cafe and Aleworks\", \"Elk Grove Brewery & Restaurant\", \"Ellersick Brewing Big E Ales\", \"Ellicott Mills Brewing\", \"Elliott Bay Brewery and Pub\", \"Elm City Brewing Co\", \"Elysian Brewery & Public House\", \"Elysian Brewing - TangleTown\", \"Emery Pub\", \"Emmett's Tavern and Brewery\", \"Empyrean Brewing Company\", \"EndeHouse Brewery and Restaurant\", \"Engine House #9\", \"English Ales Brewery\", \"Erie Brewing Company\", \"Esser's Cross Plains Brewery\", \"Estes Park Brewery\", \"Etna Brewing\", \"F.X. Matt Brewing\", \"Far West Ireland Brewing\", \"Fauerbach Brewing Company\", \"Faultline Brewing #1\", \"Faultline Brewing #2\", \"Fifty Fifty Brewing Co.\", \"Firehouse Brewery & Restaurant\", \"Firehouse Brewing\", \"Firehouse Grill & Brewery\", \"Firestone Walker Brewing Company\", \"First Coast Brewing\", \"Fish Brewing Company & Fish Tail Brewpub\", \"Fitger's Brewhouse, Brewery and Grill\", \"Fitzpatrick's Brewing\", \"Flagstaff Brewing\", \"Flat Branch Pub & Brewing\", \"Flat Earth Brewing Company\", \"Flatlander's Restaurant & Brewery\", \"Florida Beer Company\", \"Flossmoor Station Brewery\", \"Flour City Brewing\", \"Flyers Restraunt and Brewery\", \"Flying Bison Brewing\", \"Flying Dog Brewery\", \"Flying Fish Brewing Company\", \"Foothills Brewing Company\", \"Fordham Brewing\", \"Fort Collins Brewery\", \"Founder's Restaurant & Brewing\", \"Founders Brewing\", \"Founders Hill Brewing\", \"Four Peaks Brewing\", \"Fox River Brewing #1\", \"Fratellos Restaurant and Brewery\", \"Frederick Brewing\", \"Free State Brewing\", \"Front Street Brewery\", \"Frontwaters Restaurant and Brewing\", \"Full Sail Brewing #1\", \"G. Heileman Brewing\", \"Gaslight Brewery\", \"Glacial Lakes Brewing\", \"Glacier Brewhouse\", \"Glen Ellyn Sports Brew\", \"Glenwood Canyon Brewing Company\", \"Golden City Brewery\", \"Golden Gate Park Brewery\", \"Golden Pacific Brewing\", \"Golden Prairie Brewing\", \"Golden Valley Brewery and Pub\", \"Goose Island Beer Company - Clybourn\", \"Goose Island Beer Company - Fulton Street\", \"Gordash Brewing Company\", \"Gordon Biersch Brewing\", \"Gore Range Brewery\", \"Gottberg Brew Pub\", \"Govnor's Public House\", \"Grand Lake Brewing\", \"Grand Teton Brewing #1\", \"Grand Teton Brewing #2\", \"Granite City Food & Brewery - Omaha\", \"Granite City Food & Brewery - Saint Cloud\", \"Gray Brewing\", \"Great Basin Brewing Company\", \"Great Bear Brewing\", \"Great Dane Pub and Brewing #1\", \"Great Dane Pub and Brewing #2\", \"Great Divide Brewing\", \"Great Lakes Brewing\", \"Great Northern Tavern and Brewery\", \"Great Waters Brewing Company\", \"Green Bay Brewing\", \"Green Flash Brewing\", \"Green Mill Brewing - Saint Paul\", \"Green Mountain Beverage\", \"Greenshields Brewery and Pub\", \"Grizzly Bay Brewing\", \"Grizzly Peak Brewing\", \"Grumpy Troll Restaurant and Brewery\", \"Hair of the Dog Brewing\", \"Hale's Ales #3\", \"Half Moon Bay Brewing\", \"Ham's Restaurant and Brewhouse\", \"Hapa*s Brew Haus and Restaurant\", \"Harbor City Brewing\", \"Harmon Brewing Company\", \"Harpoon Brewery - Boston\", \"Harpoon Brewery - Windsor\", \"Harvest Moon Brewery / Cafe\", \"Hawks Brewing\", \"HC Berger Brewing\", \"Heartland Brewery Union Square\", \"Heavenly Daze Brewery and Grill\", \"Heavyweight Brewing\", \"Hereford & Hops Restaurant and Brewpub #1\", \"Hereford & Hops Steakhouse and Brewpub #3\", \"Herkimer Pub & Brewery\", \"High Desert Brewing Co.\", \"High Falls Brewing\", \"High Point Wheat Beer Company\", \"Highland Brewing Company\", \"Hoffbrau Steaks Brewery #1\", \"Hoffbrau Steaks Brewery #2\", \"Hook & Ladder Brewing Company\", \"Hoppers Seafood & Grill\", \"Hoppin Frog Brewery\", \"Hoppy Brewing Company\", \"Hops Grillhouse & Brewery - Cherry Creek\", \"Hops Haven Brew Haus\", \"HopTown Brewing\", \"Hopworks Urban Brewery\", \"Hornsby's Pubdrafts Ltd.\", \"Hubcap Brewery and Kitchen\", \"Hudepohl-Schoenling Brewing\", \"Humboldt Brewing\", \"Idaho Brewing\", \"Illinois Brewing\", \"Independence Brew Pub\", \"Independence Brewing Co\", \"Indian Wells Brewing\", \"Iron City Brewing Co.\", \"Iron Hill Brewery - Newark\", \"Iron Hill Brewery - Wilmingon\", \"Iron Springs Pub & Brewery\", \"Issaquah Brewhouse\", \"Ithaca Beer Company\", \"Jack Russell Brewing\", \"Jack Russell Brewing\", \"Jack's Brewing\", \"Jacob Leinenkugel Brewing Company\", \"Jaipur Restaurant and Brewpub\", \"James Page Brewing\", \"Jarre Creek Ranch Brewing\", \"Jasper Ridge Brewery\", \"JJ Bitting Brewing\", \"Jobber's Canyon Restaurant & Brewery\", \"JoBoy's Brew Pub\", \"John Harvard's Brew House - Framingham\", \"John Harvard's Brew House - Harvard Square\", \"John Harvard's Brewhouse - Wilmington\", \"Jolly Pumpkin Artisan Ales\", \"Joshua Huddy's Brew Pub and Grill\", \"JT Whitney's Brewpub and Eatery\", \"Jurupa Valley Brewing\", \"Kalamazoo Brewing\", \"Karl Strauss Brewery Gardens - Sorrento Mesa\", \"Keg Microbrewery & Restaurant\", \"Kelmer's Brewhouse\", \"Kentucky Hemp Beer Company\", \"Kessler Brewing\", \"Kona Brewing\", \"Krogh's Restaurant and Brewpub\", \"Kross Brewing\", \"Kuhnhenn Brewing\", \"La Jolla Brew House\", \"La Jolla Brewing\", \"LaConner Brewing\", \"Lafayette Brewing\", \"Lagunitas Brewing Company\", \"Lake Louie Brewing\", \"Lake Placid Pub & Brewery\", \"Lake Superior Brewing\", \"Lakefront Brewery\", \"Lancaster Brewing Co.\", \"Lang Creek Brewry\", \"Latrobe Brewing\", \"Laughing Dog Brewing\", \"Lazy Magnolia Brewing Company\", \"Left Coast Brewing\", \"Left Hand Brewing Company\", \"Legacy Brewing Co.\", \"Legends Brewhouse & Eatery of Green Bay\", \"Leinenkugel's Ballyard Brewery\", \"Lewis & Clark Brewing Company\", \"Liberty Steakhouse and Brewery\", \"Lift Bridge Brewery\", \"Lightning Boy Brewery\", \"Lion Brewery Inc.\", \"Listermann Brewing Company\", \"Little Apple Brewing\", \"Live Oak Brewing\", \"Loaf and Stein Brewing\", \"Logjam Microbrewery\", \"Long Trail Brewing Co\", \"Long Valley Pub & Brewery\", \"Lost Coast Brewery\", \"Mad Anthony Brewing\", \"Mad Crab Restaurant and Brewery\", \"Mad River Brewing\", \"Mad River Brewing Company\", \"Magic Hat\", \"Magnolia Pub and Brewery\", \"Main Street Alehouse\", \"Main Street Beer Company #1\", \"Main Street Brewery\", \"Main Street Brewing\", \"Main Street Station Casino, Brewery and Hotel\", \"Mambo Beer\", \"Mammoth Brewing\", \"Manayunk Brewery and Restaurant\", \"Manhattan Beach Brewing\", \"Marble Brewery\", \"Margaritaville Brewing Company\", \"Marin Brewing\", \"Maritime Pacific Brewing\", \"Marquette Harbor Brewery and Restaurant\", \"Marshall Brewing Company\", \"Marzoni's Brick Oven & Brewing Co\", \"Mash House Restaurant and Brewery\", \"Maui Brewing Co.\", \"Maumee Bay Brewing\", \"McCoy's Public House and Brewkitchen\", \"McGuire's Irish Pub and Brewery - Pensacola\", \"McKenzie Brew House\", \"McMenamins Mill Creek\", \"Mehana Brewing\", \"Mendocino Brewing - Hopland\", \"Mendocino Brewing - Saratoga Springs\", \"Mendocino Brewing - Ukiah\", \"Mercury Brewing Company\", \"Metropolitan Brewing\", \"Mia and Pia's Pizzeria and Brewhouse\", \"Michigan Brewing\", \"Mickey Finn's Brewery\", \"Mickey's Brewing Co.\", \"Middle Ages Brewing\", \"Midnight Sun Brewing Co.\", \"Milagro Brewery and Grill\", \"Mill Creek Brewpub\", \"Mill Steakhouse\", \"Miller Brewing\", \"Millrose Brewing\", \"Millstream Brewing\", \"Milly's Tavern\", \"Milwaukee Ale House\", \"Minhas Craft Brewery\", \"Minneapolis Town Hall Brewery\", \"Minnesota Brewing\", \"Minocqua Brewing Company\", \"Mishawaka Brewing\", \"Mississippi Brewing Co.\", \"Moab Brewery\", \"Mogollon Brewing Company\", \"Montana Brewing\", \"Monte Carlo Casino and Brewpub\", \"Moon River Brewing Company\", \"Moonlight Brewing\", \"Moose's Tooth Pub and Pizzeria\", \"Moosejaw Pizza & Dells Brewing Company\", \"Mountain Sun Pub & Brewery\", \"Moylan's Brewery & Restaurant\", \"moylans Brewing company\", \"Mudshark Brewing\", \"Murphy's Wagon Wheel\", \"Namaqua Brewing\", \"Nebraska Brewing Company\", \"Nebraska Brewing Company\", \"New Albanian Brewing\", \"New Belgium Brewing\", \"New Century Brewing Company\", \"New Glarus Brewing Company\", \"New Holland Brewing Company\", \"New River Brewing\", \"New Road Brewhouse\", \"Nicolet Brewing\", \"Ninkasi Brewing\", \"Nodding Head Brewpub\", \"Nor'Wester Brewery and Public House\", \"North Coast Brewing Company\", \"North Country Brewery\", \"Northwest Brewwrks\", \"Northwoods Brewpub Grill\", \"O'Fallon Brewery\", \"O'Gara's Bar & Grill\", \"O'Grady's Brewery and Pub #1\", \"O'Hara's Brewpub and Restaurant\", \"Oak Creek Brewery\", \"Oaken Barrel Brewing\", \"Oasis Brewery and Restaurant\", \"Oasis Brewery Annex\", \"Oconomowoc Brewing\", \"Odell Brewing\", \"Oggi's Pizza and Brewing - Vista\", \"Ohio Brewing\", \"Old City Brewing\", \"Old Dominion Brewing Co.\", \"Old Hat Brewery\", \"Olde Main Brewing\", \"Olde Peninsula Brewpub and Restaurant\", \"Oldenberg Brewery\", \"On Tap Bistro & Brewery\", \"Onion Pub & Brewery\", \"Onopa Brewing\", \"Orchard Street Brewery\", \"Oregon Trader Brewing\", \"Oregon Trail Brewery\", \"Original Basil T's\", \"Orlando Brewing\", \"Orlio Organic\", \"Oskar Blues Grill and Brew\", \"Otter Creek Brewing & Wolaver's Organic Ales\", \"Otto's Pub and Brewery\", \"Oyster Bar Bistro and Brewery\", \"Pabst Brewing Company\", \"Pacific Beach Brewhouse\", \"Pacific Coast Brewing\", \"Pacific Rim Brewing\", \"Palmetto Brewing\", \"Panther Brewing Company\", \"Paper City Brewing Company\", \"Park City Brewing\", \"Pearl Street Brewery\", \"Pelican Pub & Brewery\", \"Penn Brewery\", \"Pennichuck Brewing Company\", \"Pennsylvania Brewing\", \"Pete's Brewing\", \"Pete's Place\", \"PH Woods Diner and Brewery\", \"Philadelphia Brewing Co\", \"Piece\", \"Pike Pub and Brewery\", \"Pinehurst Village Brewery\", \"Pinnacle Peak Patio Steakhouse & Microbrewery\", \"Pint's Pub Brewery and Freehouse\", \"Pizza Beer\", \"Pizza Port Brewing - Solana Beach\", \"Pizzeria Uno Chicago Grill & Brewery\", \"Platte Valley Brewing\", \"Pleasanton Main Street Brewery\", \"Pony Express Brewing\", \"Port Brewing Company\", \"Port Washington Brewing\", \"Porterhouse Restaurant and Brewpub\", \"Portland Brewing\", \"Portsmouth Brewery\", \"Prairie Rock Brewing - Elgin\", \"Prescott Brewing Company\", \"Pug Ryan's Steakhouse and Brewery\", \"Pugsley Brewing LLC\", \"Pumphouse Brewery & Restaurant\", \"Pumphouse Pizza and Brewing\", \"Pyramid Alehouse, Brewery and Restaurant - Berkeley\", \"Pyramid Alehouse, Brewery and Restaurant - Berkeley\", \"Pyramid Ales Brewery\", \"Quigleys\", \"Raccoon Lodge and Brewpub / Cascade Brewing\", \"Raccoon River Brewing\", \"Rahr & Sons Brewing Company\", \"Rail House Restaurant and Brewpub\", \"Railway Brewing\", \"Ramapo Valley Brewery\", \"Randy's Fun Hunters Brewery Restaurant and Banquet Center\", \"Real Ale Brewing Company\", \"ReaperAle\", \"Red Kettle Brewing\", \"Red Lodge Ales\", \"Red Oak Brewery\", \"Red Star Brewery & Grille\", \"RedFish New Orleans Brewhouse\", \"Redhook Ale Brewery\", \"Remington Watson Smith Brewing\", \"Revolution Brewing LLC\", \"Richbrau Brewing Company\", \"Rio Salado Brewing\", \"River Horse Brewing Company\", \"River West Brewing\", \"Rivers Effortless Dining\", \"Rivertowne Pour House\", \"Rock Art Brewery\", \"Rock Bottom Restaurant & Brewery - Chicago\", \"Rock Bottom Restaurant & Brewery - Denver\", \"Rock Bottom Restaurant & Brewery - Milwaukee\", \"Rock Bottom Restaurant & Brewery - Minneapolis\", \"Rock Bottom Restaurant & Brewery - San Jose\", \"Rock Bottom Restaurant & Brewery - South Denver\", \"Rocky River Brewing\", \"Rockyard Brewing\", \"Roffey Brewery\", \"Rogue Ales\", \"Roost Brewery\", \"Roots Organic Brewing\", \"Ross Valley Brewing\", \"Rothaus Brauerei\", \"Route 66 Brewery\", \"Routh Street Brewery and Grille\", \"Rowland's Calumet Brewery\", \"Roy Pitz Brewing Company\", \"Rubicon Brewing\", \"Rush River Brewing\", \"Russian River Brewing\", \"Sacramento Brewing Company\", \"Saint Arnold Brewing\", \"Saint Louis Brewery / Schlafy Tap Room\", \"Saint Somewhere Brewing Company\", \"Salado Creek Brewing Company\", \"Salt Lake Brewing - Squatters\", \"Sam Choy's Breakfast, Lunch, Crab & Big Aloha Brewery\", \"San Diego Brewing\", \"San Marcos Brewery & Grill\", \"Sand Creek Brewing Company\", \"SandLot Brewery at Coors Field\", \"Sanford's Grub and Pub\", \"Santa Barbara Brewing\", \"Santa Cruz Brewing\", \"Santa Fe Brewing Company\", \"Santa Rosa Brewing\", \"Saxer Brewing\", \"Schooner Brewery\", \"Schooner's Grille & Brewery\", \"Scuttlebutt Brewing\", \"Sea Dog Brewing Company\", \"Seabright Brewery\", \"Second Street Brewery\", \"Selin's Grove Brewing Co.\", \"Sequoia Brewing Conoabt\", \"Sharktooth Brewing\", \"Sherlock's Home\", \"Ship Inn Brewpub\", \"Shipwrecked Brew Pub\", \"Shipyard Brewing - Portland\", \"Shmaltz Brewing Company\", \"Shmaltz Enterprises\", \"Short's Brewing Company\", \"Sierra Nevada Brewing Co.\", \"Siletz Roadhouse & Brewery\", \"Silver Gulch Brewing Company\", \"Silverado Brewing\", \"Sioux Falls Brewing\", \"Six Rivers Brewery\", \"Sixpoint Craft Ales\", \"Skagit River Brewing\", \"Slab City Brewing\", \"Sleeping Lady Brewing Company\", \"Sly Fox Brewhouse and Eatery - Phoenixville\", \"Sly Fox Brewhouse and Eatery - Royersford\", \"Smoky Mountain Brewing\", \"Smuttynose Brewing Co.\", \"Snake River Brewing\", \"Snipes Mountain Microbrewery & Restaurant\", \"Snowshoe Brewing - Sonora\", \"Sockeye\", \"Socorro Springs Brewing\", \"Sonoran Brewing Company\", \"South County Brewing Co.\", \"South Shore Brewery\", \"Southampton Publick House\", \"Southend Brewery and Smokehouse - Charleston\", \"Southern Star Brewing Company\", \"Southern Tier Brewing Co\", \"Spanish Peaks Brewing\", \"Speakeasy Ales and Lagers\", \"Spilker Ales\", \"Spoetzl Brewery\", \"Sports City Cafe & Brewery\", \"Sprecher Brewing\", \"Spring House Brewing Company\", \"Springfield Brewing\", \"St. Stan's Brewing Co.\", \"Standing Stone Brewing Company\", \"Steamworks Brewing - Durango\", \"Steel Brewing\", \"Steve and Clark's Brew Pub and Sausage Co. #2\", \"Stevens Point Brewery\", \"Stewart's Brewing\", \"Stillwater Artisanal Ales\", \"Stone Brewing Co.\", \"Stone Cellar Brewpub & Restaurant\", \"Stone City Brewing\", \"Stone Coast Brewing - Portland\", \"Stonecutters Brewhouse\", \"Stoney Creek Brewing Company\", \"Stoudt's Brewery\", \"Stout Brothers Public House\", \"Straub Brewery\", \"Stroh Brewery Company\", \"Sturgeon Bay Brewing\", \"Sudwerk Privatbrauerei Hbsch\", \"Sullivan's Black Forest Brew Haus & Grill\", \"Summit Brewing\", \"Surly Brewing\", \"Sweet Water Tavern and Brewery\", \"Sweetwater Brewing - Atlanta\", \"Sweetwater Brewing - Casper\", \"Sweetwater Tavern - Centreville\", \"Switchback Brewing Co\", \"T-Bonz Gill, Grill and Brewery\", \"Tabernash Brewing\", \"Tablerock\", \"Tailgate Beer\", \"Tampa Bay Brewing\", \"Tap Room Brewing Company\", \"Taylor Brewing\", \"Taylor's Restaurant and Brewery\", \"Tenaya Creek Restaurant and Brewery\", \"Terminal Gravity Brewing\", \"Terrapin Beer Company\", \"The Alchemist\", \"The Blind Bat Brewery LLC\", \"The Bruery\", \"The Cambridge House\", \"The Church Brew Works\", \"The Hop Yard\", \"The Livery\", \"The Lost Abbey\", \"The Narragansett Brewing Company\", \"The Round Barn Winery & Brewery\", \"Third Street Ale Works\", \"Thirsty Dog Brewing\", \"ThirstyBear Brewing\", \"Thomas Creek Brewery\", \"Thomas Hooker Brewing\", \"Thomas Kemper Brewing\", \"Three Floyds Brewing\", \"Three Needs Brewery and Taproom\", \"Thunder Canyon Brewery\", \"Thunderhead Brewery\", \"Thunderhead Brewery #2\", \"Tied House Cafe & Brewery - San Jose\", \"Titletown Brewing\", \"Tivoli Brewing\", \"Tommyknocker Brewery and Pub\", \"Top of the Hill Restaurant and Brewery\", \"Trade Winds Brewing\", \"Traffic Jam and Snug\", \"Trailhead Brewing Company\", \"Trap Rock Restaurant and Brewery\", \"Trinity Brewing Company\", \"Triple Rock Brewery\", \"Triumph Brewing of New Hope\", \"Triumph Brewing of Princeton\", \"Troegs Brewing\", \"Trout River Brewing\", \"Tunner's Guild Brewing Systems\", \"Tuppers Hop Pocket Ale\", \"Tustin Brewing\", \"Twin Ports Brewing\", \"Twin Rivers Brewing\", \"Twisted Pine Brewing Company\", \"Two Brothers Brewing\", \"Two Dogs Beverage Company\", \"TwoRows Restaurant & Brewery - Dallas\", \"Tyranena Brewing\", \"Uinta Brewing Compnay\", \"Ukiah Brewing\", \"Umpqua Brewing\", \"Union Barrel Works\", \"Union Colony Brewery\", \"Upland Brewing\", \"Upper Mississippi Brewing\", \"Upstream Brewing Company at Legacy\", \"Upstream Brewing Old Market\", \"Utah Brewers Cooperative\", \"Valley Brewing Company\", \"Valley Forge Brewing\", \"Vermont Pub & Brewery\", \"Victory Brewing\", \"Viking Brewing\", \"Vintage 50 Restaurant and Brew Lounge\", \"Voodoo Brewing Co.,LLC\", \"Wachusetts Brewing Company\", \"Wagner Valley Brewing\", \"Wainwright Brewing\", \"Walking Man Brewery\", \"Walldorff Brew Pub\", \"Watch City Brewing\", \"Water Street Brewery\", \"Water Street Lake Country\", \"Water Tower Brewing\", \"Watson Brothers Brewhouse\", \"Weeping Radish Restaurant and Brewery - Manteo\", \"Weinkeller Brewery - Berwyn\", \"Western Reserve Brewing\", \"Weyerbacher Brewing Company\", \"Wharf Rat\", \"White Marsh Brewing Company\", \"White Oak Cider\", \"White Winter Winery\", \"Widmer Brothers Brewing\", \"Wild Duck Brewing\", \"Wild Goose Brewery, LLC\", \"Wild Onion Brewing\", \"Wild River Brewing and Pizza - Cave Junction\", \"William Kuether Brewing\", \"Willoughby Brewing\", \"Wilmington Brewing\", \"Wisconsin Brewing\", \"Wolf Pack Brewing\", \"Wolf Tongue Brewery\", \"Wynkoop Brewing\", \"Yakima Brewing and Malting / Grant's Ales\", \"Yamhill Brewing\", \"Yards Brewing\", \"Zea Rotisserie and Brewery\", \"Yegua Creek Brewing - Dallas\", \"Yuengling & Son Brewing\", \"Yellowstone Valley Brewing\", \"Yazoo Brewing\", \"Baxter Brewing\", \"Aviator Brewing Company\", \"DC Brau\", \"City Brewing Company, LLC\", \"Devil's Canyon\", \"Eagle Brewing\", \"Island Brewing Company\", \"Pyramid Alehouse, Brewery and Restaurant - Seattle\", \"Ska Brewing Company\", \"Marshall Wharf Brewing Company\", \"Aspen Brewing Company\", \"Tallgrass Brewing Co.\", \"Half Acre Beer Company\", \"New Jersey Beer Company\", \"FINNEGANS\", \"Warwick Valley Wine Co.\", \"The St. Louis Brewrey\", \"Catawba Valley Brewing Company\", \"Walnut Brewery\", \"Columbus Brewing Company\", \"Oso\", \"Element Brewing Company\", \"Wedge Brewery\", \"Brewery Vivant\", \"Oakshire\"], \"mode\": \"markers\", \"marker\": {\"size\": 5, \"color\": \"crimson\", \"colorscale\": \"Red\"}, \"type\": \"scattergeo\", \"lon\": [-97.7697, -122.39299999999999, -77.0369, -87.1078, -89.944, -96.0903, -122.619, -134.49, -89.3253, -117.14399999999999, -157.858, -70.3166, -75.47399999999999, -84.5088, -116.765, -88.309, -121.07700000000001, -94.48200000000001, -72.5199, -105.992, -122.613, -122.40100000000001, -123.35600000000001, -69.1401, -89.382, -90.209, -76.8753, -88.4154, -85.1851, -82.5536, -84.4353, -68.334, -83.0186, -94.449, -90.8802, -105.219, -86.7268, -106.094, -91.6774, -84.1167, -117.195, -76.54, -93.9994, -68.2046, -94.3943, -114.35, -75.3354, -86.0155, -93.1984, -83.04899999999999, -83.0027, -115.075, -122.31200000000001, -84.52600000000001, -74.1829, -77.0103, -114.02, -85.7401, -81.3792, -122.51, -122.87100000000001, -121.29299999999999, -68.975, -85.4538, -88.729, -90.5171, -75.382, -88.2073, -122.398, -78.6179, -84.6826, -85.6681, -115.236, -111.17200000000001, -87.9144, -114.073, -122.31299999999999, -123.961, -122.259, -122.676, -117.889, -87.6926, -80.41, -86.7989, -104.821, -122.686, -86.5104, -89.3085, -90.5746, -106.65100000000001, -73.0215, -82.3983, -85.654, -73.0784, -114.573, -118.256, -83.4833, -119.01899999999999, -89.8101, -71.1034, -71.0989, -109.866, -105.24799999999999, -94.5965, -122.48100000000001, -95.4107, -95.9993, -105.001, -81.8226, -122.084, -76.6164, -70.565, -90.1772, -74.9255, -87.8212, -121.98899999999999, -90.6652, -122.685, -77.4265, -104.82600000000001, -86.1427, -73.9575, -89.4127, -85.7441, -89.0318, -76.5031, -104.936, -119.772, -77.0057, -121.848, -119.772, -71.0571, -104.802, -73.7481, -122.663, -84.012, -122.531, -117.146, -71.0911, -70.6664, -89.5163, -77.0272, -91.2526, -77.0869, -73.7896, -89.0907, -121.656, -80.8011, -79.0632, -107.88, -71.3967, -72.3193, -91.6918, -97.7431, -89.2797, -106.6, -80.6734, -74.0086, -87.37700000000001, -105.084, -115.29799999999999, -82.5093, -86.15799999999999, -117.876, -81.6994, -74.283, -76.6751, -97.4439, -88.8853, -121.566, -122.031, -116.78399999999999, -94.4291, -88.074, -71.0598, -73.64, -74.9403, -105.219, -89.2168, -98.3581, -122.304, -77.1971, -90.0099, -117.17299999999999, -71.2796, -93.62100000000001, -87.6576, -75.2143, -104.68799999999999, -118.15899999999999, -96.6817, -90.0641, -106.98700000000001, -74.2964, -81.6954, -89.589, -88.2776, -85.7055, -70.3149, -84.9641, -90.1004, -79.3528, -76.6122, -117.15700000000001, -88.3553, -122.64, -87.8273, -104.99700000000001, -121.323, -84.5031, -92.2839, -122.305, -81.6954, -123.007, -106.059, -90.4607, -90.0871, -105.0, -75.2229, -75.3107, -105.514, -121.515, -82.9753, -122.182, -106.65100000000001, -90.6646, -77.5971, -76.5944, -82.7876, -86.895, -79.9043, -76.2222, -109.551, -124.15299999999999, -88.0604, -122.03399999999999, -121.676, -77.477, -121.363, -122.302, -76.7994, -122.387, -72.2867, -122.316, -122.334, -122.285, -88.2783, -96.7105, -90.0026, -122.473, -121.804, -80.113, -89.6531, -105.52600000000001, -122.846, -75.2452, -122.118, -89.4761, -121.993, -122.03299999999999, -120.163, -95.2272, -103.227, -122.03, -120.694, -77.9447, -122.897, -92.0909, -91.5302, -111.648, -92.3323, -93.1538, -87.9302, -80.6012, -87.6789, -77.6109, -122.652, -78.8966, -104.99, -74.9701, -80.2509, -76.4948, -105.042, -77.0469, -85.6735, -88.0112, -111.916, -88.5608, -88.4731, -77.4265, -95.2357, -90.5725, -82.7355, -121.515, -91.2396, -74.2594, -95.3761, -149.89600000000002, -88.06700000000001, -107.323, -105.22399999999999, -122.419, -122.273, -87.6807, -123.189, -87.6543, -87.6721, -80.1806, -121.89299999999999, -106.596, -97.3623, -88.3377, -105.82, -110.87700000000001, -111.10799999999999, -96.0714, -94.2067, -89.0498, -119.75399999999999, -149.439, -89.3802, -89.4232, -104.98899999999999, -81.7042, -105.948, -93.09700000000001, -88.0196, -117.225, -93.1568, -73.1735, -78.6386, -122.04, -83.749, -89.7383, -122.64299999999999, -122.366, -122.435, -77.3732, -156.457, -87.8795, -122.43700000000001, -71.0338, -72.4015, -74.4441, -123.34200000000001, -105.084, -73.9874, -104.985, -74.3118, -87.056, -89.6657, -93.2885, -106.79299999999999, -77.6155, -74.3403, -82.4991, -96.8292, -96.7699, -77.0237, -111.866, -81.4676, -121.43, -104.95, -87.7228, -121.898, -122.635, -120.98200000000001, -106.374, -84.3799, -124.087, -112.03399999999999, -88.9946, -75.1594, -97.7358, -117.874, -79.9653, -75.7467, -75.5561, -122.584, -122.037, -76.5315, -120.679, -122.86200000000001, -121.988, -91.3968, -96.0825, -93.2502, -104.85600000000001, -87.679, -74.2771, -95.9993, -76.3838, -71.3966, -71.1193, -75.5467, -83.8895, -74.20100000000001, -89.4737, -117.396, -85.5788, -117.20100000000001, -89.5746, -122.714, -84.4951, -112.027, -155.996, -74.6407, -72.5984, -83.0472, -117.274, -117.876, -122.495, -86.89, -122.662, -89.9324, -73.9813, -92.1319, -87.9053, -76.2984, -115.01100000000001, -79.3795, -116.538, -89.4497, -117.589, -105.113, -75.9283, -88.0977, -112.074, -112.037, -78.8831, -92.8222, -111.179, -75.8583, -84.4741, -96.5717, -97.7055, -89.2443, -90.3165, -72.6563, -74.78, -124.165, -85.1524, -81.8357, -123.993, -123.992, -73.2131, -122.445, -122.431, -77.4691, -117.565, -96.7699, -115.145, -87.92399999999999, -118.98299999999999, -75.2202, -118.411, -106.647, -81.6966, -122.51100000000001, -122.37700000000001, -87.3929, -95.9647, -78.4339, -78.9545, -156.67700000000002, -83.5384, -94.5919, -87.2024, -75.5442, -122.211, -155.069, -123.116, -73.7846, -123.20100000000001, -70.844, -87.67399999999999, -121.78200000000001, -84.1946, -87.9538, -87.9065, -76.1617, -149.844, -106.551, -118.336, -105.01899999999999, -87.9626, -88.1411, -91.8652, -71.4674, -87.9093, -89.6422, -93.2479, -93.0861, -89.7097, -86.1818, -73.708, -109.55, -111.59, -108.506, -115.171, -81.0915, -122.78, -149.869, -89.7939, -105.275, -122.557, -122.57, -114.34100000000001, -98.3912, -105.075, -96.0307, -107.87899999999999, -85.8171, -105.07, -71.0574, -89.6306, -86.1041, -84.3056, -75.4516, -88.2518, -123.11, -75.1666, -122.676, -123.806, -80.0556, -122.209, -91.4433, -90.7532, -93.167, -87.9806, -94.1703, -111.796, -86.0901, -105.271, -105.271, -88.4993, -105.06299999999999, -117.255, -80.7654, -97.7463, -75.4884, -85.8497, -93.6147, -85.5778, -84.5599, -117.15700000000001, -88.1835, -87.9065, -122.488, -123.10600000000001, -123.26100000000001, -74.0747, -81.3827, -73.2131, -105.26799999999999, -73.1693, -77.9101, -85.1168, -98.49, -117.24, -122.274, -122.353, -79.9455, -75.1779, -72.6104, -111.42, -91.2362, -123.97, -79.9915, -71.6626, -79.9915, -98.4772, -95.7253, -117.26, -75.1275, -87.6761, -122.34, -79.4295, -111.853, -104.991, -88.4507, -117.272, -77.3903, -99.0812, -121.87299999999999, -94.8191, -117.15, -87.8756, -75.012, -122.713, -70.7575, -88.2819, -112.47, -106.04700000000001, -70.2553, -105.102, -89.7937, -122.335, -122.3, -122.334, -79.116, -122.75399999999999, -93.6296, -97.3274, -87.6544, -149.9, -74.14699999999999, -88.714, -98.4156, -117.66, -117.292, -109.24700000000001, -79.5695, -79.5471, -105.279, -122.33200000000001, -88.2315, -87.6982, -77.4338, -111.90899999999999, -74.9477, -87.6501, -111.69, -79.7642, -72.6034, -87.6284, -104.995, -87.9117, -93.2747, -121.93299999999999, -104.874, -81.85600000000001, -104.87, -86.1089, -124.052, -121.946, -122.65899999999999, -122.589, -88.37899999999999, -90.225, -96.7989, -88.1629, -77.6566, -121.48100000000001, -92.6378, -122.712, -121.4, -95.4675, -90.21, -82.7717, -98.4936, -111.895, -157.858, -117.09899999999999, -117.191, -90.8511, -104.993, -106.956, -119.696, -122.031, -106.052, -122.714, -122.671, -96.7699, -121.78299999999999, -122.214, -68.77, -122.008, -105.96600000000001, -76.8614, -119.802, -156.47, -93.5033, -75.0954, -87.2802, -70.2489, -122.419, -122.419, -85.2104, -121.816, -123.91799999999999, -147.622, -122.49700000000001, -96.7003, -124.102, -74.0118, -122.335, -88.4448, -149.89600000000002, -75.5499, -75.53399999999999, -83.9181, -70.7948, -110.765, -120.008, -120.382, -116.275, -106.89299999999999, -111.853, -76.4496, -90.8921, -72.3927, -79.9273, -95.4427, -79.3357, -114.176, -122.381, -96.70700000000001, -97.1607, -117.876, -87.9198, -76.3295, -93.2955, -121.00399999999999, -122.715, -107.88, -94.7405, -78.8986, -89.5734, -75.6628, -76.6122, -117.12, -88.4037, -91.4941, -70.305, -72.5019, -83.0186, -76.072, -87.9065, -78.5539, -82.4651, -87.37700000000001, -121.726, -83.7314, -93.1396, -93.3246, -77.4097, -84.3813, -106.31299999999999, -77.4393, -79.8049, -79.875, -105.102, -116.206, -117.055, -82.4433, -91.2396, -88.0091, -117.15700000000001, -115.251, -117.272, -83.4105, -72.756, -73.3811, -117.88, -72.793, -79.9645, -122.001, -86.4537, -117.15, -71.4097, -86.4583, -122.713, -81.5172, -122.4, -82.4245, -72.7108, -122.334, -87.5158, -73.2115, -111.015, -99.0815, -98.3397, -121.89399999999999, -88.0173, -104.985, -105.51799999999999, -79.0558, -156.505, -83.0665, -90.484, -74.4349, -104.855, -122.26899999999999, -74.9544, -74.6583, -76.8715, -72.0014, -93.0861, -77.1272, -117.81200000000001, -92.1041, -121.971, -105.251, -88.2068, -73.699, -96.7687, -88.8967, -111.954, -123.208, -123.34200000000001, -76.1232, -104.709, -86.5369, -90.1887, -96.1811, -95.9306, -111.9, -121.322, -75.3881, -73.2144, -75.6942, -91.8181, -77.5537, -80.1549, -71.8715, -76.8582, -79.9653, -121.885, -85.2875, -71.2367, -87.9114, -88.3663, -93.4095, -84.3783, -75.6697, -87.7937, -81.6954, -75.2249, -76.6182, -76.4638, -123.073, -94.6669, -122.676, -123.087, -77.4265, -88.1652, -123.645, -92.2713, -81.4066, -77.9447, -88.0076, -111.1, -105.51, -104.99799999999999, -120.506, -122.676, -75.1274, -90.07600000000001, -96.7848, -76.1747, -108.49799999999999, -86.7821, -70.2148, -78.8085, -77.0366455, -91.2395806, -122.2758007, -122.3036991, -119.5184563, -122.3300623, -107.8799421, -69.0064233, -106.8235605, -96.5716693, -87.6244211, -74.0120839, -93.2654691, -74.3598754, -90.1978888, -81.779266, -105.3632078, -83.0007064, -89.5440069, -72.4925875, -82.554016, -85.6678638, -123.0950505]}], {\"title\": \"2008 US Breweries<br>(hover over point for brewery name)\", \"height\": 750, \"width\": 1050, \"showlegend\": false, \"geo\": {\"showland\": true, \"subunitcolor\": \"rgb(255, 255, 255)\", \"countrywidth\": 1, \"projection\": {\"type\": \"albers usa\"}, \"landcolor\": \"rgb(217, 217, 217)\", \"subunitwidth\": 1, \"countrycolor\": \"rgb(255, 255, 255)\", \"scope\": \"usa\"}}, {\"showLink\": true, \"linkText\": \"\"})</script>"
      ],
      "text/plain": [
       "<IPython.core.display.HTML object>"
      ]
     },
     "metadata": {},
     "output_type": "display_data"
    }
   ],
   "source": [
    "# plot all the breweries in the US from data\n",
    "iplot(go.Figure(data=[trace], layout=layout), link_text=\"\")"
   ]
  },
  {
   "cell_type": "markdown",
   "metadata": {},
   "source": [
    "# Import Remaining Data\n",
    "The remainder of the data I am using is provided only to dues paying members of the Brewer's Association, I downloaded the data in .xls files and uploaded them into my project.  I have attached the files in my email."
   ]
  },
  {
   "cell_type": "code",
   "execution_count": 323,
   "metadata": {
    "collapsed": false
   },
   "outputs": [
    {
     "data": {
      "text/html": [
       "<div>\n",
       "<table border=\"1\" class=\"dataframe\">\n",
       "  <thead>\n",
       "    <tr style=\"text-align: right;\">\n",
       "      <th></th>\n",
       "      <th>name</th>\n",
       "      <th>State</th>\n",
       "      <th>Estimate</th>\n",
       "      <th>2014 Barrels</th>\n",
       "    </tr>\n",
       "  </thead>\n",
       "  <tbody>\n",
       "    <tr>\n",
       "      <th>0</th>\n",
       "      <td>#FREEDOM Craft Brewery</td>\n",
       "      <td>NY</td>\n",
       "      <td>y</td>\n",
       "      <td>25</td>\n",
       "    </tr>\n",
       "    <tr>\n",
       "      <th>1</th>\n",
       "      <td>(512) Brewing Co</td>\n",
       "      <td>TX</td>\n",
       "      <td>NaN</td>\n",
       "      <td>10500</td>\n",
       "    </tr>\n",
       "  </tbody>\n",
       "</table>\n",
       "</div>"
      ],
      "text/plain": [
       "                     name State Estimate 2014 Barrels\n",
       "0  #FREEDOM Craft Brewery    NY        y           25\n",
       "1        (512) Brewing Co    TX      NaN        10500"
      ]
     },
     "execution_count": 323,
     "metadata": {},
     "output_type": "execute_result"
    }
   ],
   "source": [
    "# import full list of brewery production data: file name = Brewers_Association_Data_2014.xls\n",
    "localURL = 'http://localhost:8888/files/Documents/NYU%20Stern/Spring%202016/Data%20Boot%20Camp/Brewers_Association_Data_2014.xls'\n",
    "BAdata = pd.read_excel(localURL)\n",
    "BAdata = BAdata.rename(columns={'Craft Brewer Name': 'name'})  #rename 'name' column to match other dataframes\n",
    "BAdata.head(2)"
   ]
  },
  {
   "cell_type": "code",
   "execution_count": 324,
   "metadata": {
    "collapsed": false
   },
   "outputs": [],
   "source": [
    "# import data on craft beer production by state: file name = Brewers_Association_Data_2014_States.xls\n",
    "localURL = 'http://localhost:8888/files/Documents/NYU%20Stern/Spring%202016/Data%20Boot%20Camp/Brewers_Association_Data_2014_States.xls'\n",
    "BAdata_states = pd.read_excel(localURL)"
   ]
  },
  {
   "cell_type": "code",
   "execution_count": 325,
   "metadata": {
    "collapsed": false
   },
   "outputs": [
    {
     "data": {
      "text/html": [
       "<div>\n",
       "<table border=\"1\" class=\"dataframe\">\n",
       "  <thead>\n",
       "    <tr style=\"text-align: right;\">\n",
       "      <th></th>\n",
       "      <th>Rank</th>\n",
       "      <th></th>\n",
       "      <th>2014 Craft Barrels</th>\n",
       "      <th>2013 Craft Barrels</th>\n",
       "      <th>2012 Craft Barrels</th>\n",
       "      <th>2011 Craft Barrels</th>\n",
       "      <th>Unnamed: 7</th>\n",
       "      <th>21+ Population</th>\n",
       "      <th>Gallons Produced /21+ Adult</th>\n",
       "    </tr>\n",
       "    <tr>\n",
       "      <th>State</th>\n",
       "      <th></th>\n",
       "      <th></th>\n",
       "      <th></th>\n",
       "      <th></th>\n",
       "      <th></th>\n",
       "      <th></th>\n",
       "      <th></th>\n",
       "      <th></th>\n",
       "      <th></th>\n",
       "    </tr>\n",
       "  </thead>\n",
       "  <tbody>\n",
       "    <tr>\n",
       "      <th>West Virginia</th>\n",
       "      <td>49</td>\n",
       "      <td>NaN</td>\n",
       "      <td>7923.31</td>\n",
       "      <td>5147.0</td>\n",
       "      <td>3752.0</td>\n",
       "      <td>3055.0</td>\n",
       "      <td>NaN</td>\n",
       "      <td>1.388300e+06</td>\n",
       "      <td>0.176923</td>\n",
       "    </tr>\n",
       "    <tr>\n",
       "      <th>Arkansas</th>\n",
       "      <td>48</td>\n",
       "      <td>NaN</td>\n",
       "      <td>14640.75</td>\n",
       "      <td>10417.0</td>\n",
       "      <td>5639.0</td>\n",
       "      <td>4079.0</td>\n",
       "      <td>NaN</td>\n",
       "      <td>2.115911e+06</td>\n",
       "      <td>0.214500</td>\n",
       "    </tr>\n",
       "  </tbody>\n",
       "</table>\n",
       "</div>"
      ],
      "text/plain": [
       "              Rank      2014 Craft Barrels  2013 Craft Barrels  \\\n",
       "State                                                            \n",
       "West Virginia   49 NaN             7923.31              5147.0   \n",
       "Arkansas        48 NaN            14640.75             10417.0   \n",
       "\n",
       "               2012 Craft Barrels  2011 Craft Barrels  Unnamed: 7  \\\n",
       "State                                                               \n",
       "West Virginia              3752.0              3055.0         NaN   \n",
       "Arkansas                   5639.0              4079.0         NaN   \n",
       "\n",
       "               21+ Population  Gallons Produced /21+ Adult  \n",
       "State                                                       \n",
       "West Virginia    1.388300e+06                     0.176923  \n",
       "Arkansas         2.115911e+06                     0.214500  "
      ]
     },
     "execution_count": 325,
     "metadata": {},
     "output_type": "execute_result"
    }
   ],
   "source": [
    "# clean up data by state for plotting: sort by production, drop rows without data, set index for labeling\n",
    "BAdata_states.drop(BAdata_states.index[52:57], inplace=True)\n",
    "BAdata_states = BAdata_states.sort_values(by=['Gallons Produced /21+ Adult'], ascending=[True])\n",
    "BAdata_states = BAdata_states[BAdata_states.State != 'U.S. Territories']\n",
    "BAdata_states = BAdata_states.set_index('State')\n",
    "BAdata_states.head(2)"
   ]
  },
  {
   "cell_type": "code",
   "execution_count": 326,
   "metadata": {
    "collapsed": false
   },
   "outputs": [
    {
     "data": {
      "text/plain": [
       "<matplotlib.text.Text at 0x11ba88a90>"
      ]
     },
     "execution_count": 326,
     "metadata": {},
     "output_type": "execute_result"
    },
    {
     "data": {
      "image/png": "[encoded data removed]",
      "text/plain": [
       "<matplotlib.figure.Figure at 0x122a89400>"
      ]
     },
     "metadata": {},
     "output_type": "display_data"
    }
   ],
   "source": [
    "# plot beer produced with labels and titles\n",
    "plt.style.use('fivethirtyeight')\n",
    "fig, ax = plt.subplots()\n",
    "BAdata_states['Gallons Produced /21+ Adult'].plot(ax=ax, kind='barh', alpha=0.5, figsize=(6,13))\n",
    "ax.set_title('Beer Produced per Capita', loc='left', fontsize=16)\n",
    "ax.set_xlabel('Beer Gallons per 21+ Adult')\n",
    "ax.set_ylabel('')"
   ]
  },
  {
   "cell_type": "code",
   "execution_count": 339,
   "metadata": {
    "collapsed": false
   },
   "outputs": [
    {
     "data": {
      "text/plain": [
       "<matplotlib.legend.Legend at 0x124511cc0>"
      ]
     },
     "execution_count": 339,
     "metadata": {},
     "output_type": "execute_result"
    },
    {
     "data": {
      "image/png": "[encoded data removed]",
      "text/plain": [
       "<matplotlib.figure.Figure at 0x123ebf7b8>"
      ]
     },
     "metadata": {},
     "output_type": "display_data"
    }
   ],
   "source": [
    "# rearrange production data for plotting total production information\n",
    "BAdata_states = BAdata_states.sort_values(by=['2014 Craft Barrels'], ascending=[False])\n",
    "\n",
    "plt.style.use('fivethirtyeight')\n",
    "fig, ax = plt.subplots()\n",
    "BAdata_states['2014 Craft Barrels'].plot(ax=ax, kind='bar', alpha=0.5, figsize=(13,5),color='m') #2014 data\n",
    "BAdata_states['2013 Craft Barrels'].plot(ax=ax, kind='bar', alpha=1, figsize=(13,5))             #2013 data\n",
    "ax.set_title('Total Craft Beer Produced by State', loc='center', fontsize=20)                    #set title\n",
    "ax.set_xlabel('')                                                                                #x-axis label\n",
    "ax.set_ylabel('Beer Gallons per Year')                                                           #y-axis label\n",
    "ax.legend(['2014 Craft Barrels', '2013 Craft Barrels'])                                          #legend"
   ]
  },
  {
   "cell_type": "code",
   "execution_count": null,
   "metadata": {
    "collapsed": true
   },
   "outputs": [],
   "source": []
  }
 ],
 "metadata": {
  "kernelspec": {
   "display_name": "Python 3",
   "language": "python",
   "name": "python3"
  },
  "language_info": {
   "codemirror_mode": {
    "name": "ipython",
    "version": 3
   },
   "file_extension": ".py",
   "mimetype": "text/x-python",
   "name": "python",
   "nbconvert_exporter": "python",
   "pygments_lexer": "ipython3",
   "version": "3.5.1"
  }
 },
 "nbformat": 4,
 "nbformat_minor": 0
}
