{
 "cells": [
  {
   "cell_type": "markdown",
   "metadata": {
    "collapsed": true
   },
   "source": [
    "# Data Bootcamp Final Project\n",
    "\n",
    "### Kavya Beheraj | May 13, 2016\n",
    "\n",
    "The goal of my final project for Data Bootcamp was to develop useful data visualizations for my current internship, Student Success Network (SSN). I took two typical datasets currently used by SSN, extracted two variables for both males and females, and created two graphs comparing the network average to an individual organization's outcome. The purpose of such a visualization is to allow SSN's clients, education organizations across New York, to see how well they are doing in their students' social-emotional learning and make decisions on where to distribute resources for targeted programs or interventions.\n",
    "\n",
    "\n",
    "** Contents:**\n",
    "1. Background\n",
    "2. About the Data\n",
    "    + 2.1 | Links to My Data\n",
    "    + 2.2 | Dataframes\n",
    "3. Organizational Data\n",
    "    + 3.1 | Slicing the Organizational Data\n",
    "    + 3.2 | Joining the Organizational Data\n",
    "4. Network Summary Data\n",
    "5. Creating the Final Output\n",
    "6. Visualizing the Data\n",
    "    + 6.1 | Visualizing the Percent Positive, Organization vs. Network\n",
    "    + 6.2 | Visualizing the Mean, Organization vs. Network"
   ]
  },
  {
   "cell_type": "code",
   "execution_count": 217,
   "metadata": {
    "collapsed": false,
    "scrolled": false
   },
   "outputs": [
    {
     "name": "stdout",
     "output_type": "stream",
     "text": [
      "Python version: 3.5.1 |Anaconda 2.4.1 (x86_64)| (default, Dec  7 2015, 11:24:55) \n",
      "[GCC 4.2.1 (Apple Inc. build 5577)]\n",
      "Pandas version:  0.17.1\n",
      "Today:  2016-05-13\n"
     ]
    }
   ],
   "source": [
    "import sys                             \n",
    "import pandas as pd                   \n",
    "import matplotlib.pyplot as plt    \n",
    "import datetime as dt                \n",
    "import seaborn as sns\n",
    "import numpy as np          \n",
    "\n",
    "%matplotlib inline                     \n",
    "\n",
    "print('Python version:', sys.version)\n",
    "print('Pandas version: ', pd.__version__)\n",
    "print('Today: ', dt.date.today())"
   ]
  },
  {
   "cell_type": "markdown",
   "metadata": {},
   "source": [
    "## 1 | Background\n",
    "\n",
    "Student Success Network (SSN) is a nonprofit that helps 40 partner organizations measure [seven indicators of social-emotional learning (SEL)](http://www.ssn-nyc.org/#!sel-competencies/c123q) in students using a survey:\n",
    "+ Academic Behaviors\n",
    "+ Academic Self-Efficacy\n",
    "+ Growth Mindset\n",
    "+ Interpersonal Skills\n",
    "+ Problem-Solving\n",
    "+ Self-Advocacy\n",
    "+ Belonging\n",
    "\n",
    "Social-emotional learning has a huge impact on student outcomes later in life, often comparable to academic outcomes like test scores. SSN has developed a survey to measure social-emotional learning, which they distribute to their partner organizations.\n",
    "\n",
    "SSN sends the survey responses to another company (the Research Alliance for NYC Schools) for the descriptive statistics, and what they receive is a large, unwieldy spreadsheet that they must translate into easy-to-understand and actionable visualizations. They also provide partner organizations with visualizations of specific subgroups like gender, race, and school, and compare the organization's results on SEL indicators to a network-wide average.\n",
    "\n",
    "With this project, I attempted to create a uniform method of taking those spreadsheets and turning them into helpful data visualizations.\n",
    "\n",
    "Source: [SSN Website](http://www.ssn-nyc.org/#!sel-competencies/c123q)"
   ]
  },
  {
   "cell_type": "markdown",
   "metadata": {},
   "source": [
    "## 2 | About the Data\n",
    "\n",
    "I received my data directly from Student Success Network, and as such, it is not online. They gave me two spreadsheets in .csv format: a sample organizational output (real data from a de-identified partner organization) and a network wide average.\n",
    "\n",
    "The most important outcomes to partner organizations are: \n",
    "+ **Percent positive:** the percentage of students whose responses are positive for that SEL indicator\n",
    "+ **Mean:** the average result on a scale of 1 to 5 for that SEL indicator\n",
    "\n",
    "These two variables provide are the most helpful for organizations to make decisions on resource allocation for student social-emotional learning.\n",
    "\n",
    "I decided to focus on the **gender subgroup** for the purposes of this project, to reduce the number of different variables at play. Since all of the descriptive statistics they receive for each partner organization are within the same format, I believe SSN can easily translate this program to different subgroups.\n",
    "\n",
    "\n",
    "### 2.1 | **Links to my data:**\n",
    "+ [Organizational Data - Males/Females](https://drive.google.com/open?id=0B_6ITYPFY6nTaENEYk5QTWVPelE)\n",
    "+ [Network Summary Data - Males/Females](https://drive.google.com/open?id=0B_6ITYPFY6nTTGtqZ3ZoTi01Xzg)\n",
    "\n",
    "\n",
    "### 2.2 | Dataframes\n",
    "\n",
    "These are the dataframes I created in order to extract percent positive and mean data for males and females at the organization and network-wide level. The final output is a dataframe summarizing the mean and percent positive for all variables at both levels.\n",
    "\n",
    "#### Organization Data\n",
    "\n",
    "| **Label**     | **Dataframe**                                 |\n",
    "|:---------------------------------------------------------------|\n",
    "| MaleFemale    | Total Organization Data for Males and Females |\n",
    "| mean          | Mean for Males and Females                    |\n",
    "| ppos          | Percent Positive for Males and Females        |\n",
    "| male          | Male Data (Mean and Percent Positive)         |\n",
    "| female        | Female Data (Mean and Percent Positive)       |\n",
    "| mlmean        | Mean Data for Males                           |\n",
    "| mlppos        | Percent Positive Data for Males               |\n",
    "| fmmean        | Mean Data for Females                         |\n",
    "| fmppos        | Percent Positive Data for Females             |\n",
    "\n",
    "\n",
    "#### Network Data\n",
    "\n",
    "| **Label**     | **Dataframe**                                      |\n",
    "|:--------------------------------------------------------------------|\n",
    "| network       | Total Network Data                                 |\n",
    "| mlnet         | Male Network Data (Mean and Percent Positive)      |\n",
    "| fmnet         | Female Network Data (Mean and Percent Positive)    |\n",
    "| output        | Network and Organizational Data, Males and Females |\n",
    "\n",
    "\n",
    "#### Total Data: Dataframes for both the organization and the network\n",
    " \n",
    "| **Label**     | **Dataframe**                                                         |\n",
    "|:--------------------------------------------------------------------------------------|\n",
    "| output        | Network and Organizational Data, Males and Females                    |\n",
    "| mean_output   | Mean Data for Network and Organization, Males and Females             |\n",
    "| pp_output     | Percent Positive Data for Network and Organization, Males and Females |\n",
    "| pp_net        | Mean Data for Network, Males and Females                              |\n",
    "| mean_net      | Percent Positive Data for Network, Males and Females                  |"
   ]
  },
  {
   "cell_type": "markdown",
   "metadata": {},
   "source": [
    "## 3 | Organizational Data\n",
    "\n",
    "I first focused on cleaning up the Sample Organizational Output for Males and Females. I wanted to extract the two outcomes (percent positive and mean) for both males and females along the seven SEL indicators.\n",
    "\n",
    "The results include data from 230 males and 334 females, or 564 students in total."
   ]
  },
  {
   "cell_type": "code",
   "execution_count": 47,
   "metadata": {
    "collapsed": false
   },
   "outputs": [],
   "source": [
    "MaleFemale = \"/Users/kavyabeheraj/Desktop/Current Classes/Data Bootcamp/Male_Female_Sample_Org_Output.csv\"\n",
    "\n",
    "# Sample organizational output for males and females\n",
    "\n",
    "df = pd.read_csv(MaleFemale)\n",
    "df"
   ]
  },
  {
   "cell_type": "markdown",
   "metadata": {},
   "source": [
    "### 3.1 | Slicing the Organizational Data\n",
    "\n",
    "I noticed that the male outcomes consisted of the first 14 rows of the spreadsheet, while the female outcomes consisted of the last 14. The 14 rows of outcomes were each divided into 7 rows for the mean and 7 rows for the percent positive (called percent perfect in the dataframe).\n",
    "\n",
    "I sliced the spreadsheet into **four separate dataframes:**\n",
    "+ Male Mean (mlmean)\n",
    "+ Male Percent Positive (mlpp)\n",
    "+ Female Mean (fmmean)\n",
    "+ Female Percent Positive (fmpp)\n",
    "\n",
    "I also set the SEL indicators as the index renamed all of them for consistency."
   ]
  },
  {
   "cell_type": "code",
   "execution_count": 56,
   "metadata": {
    "collapsed": false
   },
   "outputs": [],
   "source": [
    "male = pd.read_csv(MaleFemale).head(14)\n",
    "female = pd.read_csv(MaleFemale).tail(14)"
   ]
  },
  {
   "cell_type": "code",
   "execution_count": 4,
   "metadata": {
    "collapsed": false
   },
   "outputs": [
    {
     "data": {
      "text/html": [
       "<div>\n",
       "<table border=\"1\" class=\"dataframe\">\n",
       "  <thead>\n",
       "    <tr style=\"text-align: right;\">\n",
       "      <th></th>\n",
       "      <th>Male Mean</th>\n",
       "    </tr>\n",
       "    <tr>\n",
       "      <th>Label</th>\n",
       "      <th></th>\n",
       "    </tr>\n",
       "  </thead>\n",
       "  <tbody>\n",
       "    <tr>\n",
       "      <th>AcaBeh</th>\n",
       "      <td>3.414368</td>\n",
       "    </tr>\n",
       "    <tr>\n",
       "      <th>AcaEf</th>\n",
       "      <td>2.770742</td>\n",
       "    </tr>\n",
       "    <tr>\n",
       "      <th>Growth</th>\n",
       "      <td>2.864493</td>\n",
       "    </tr>\n",
       "    <tr>\n",
       "      <th>Intp</th>\n",
       "      <td>4.733817</td>\n",
       "    </tr>\n",
       "    <tr>\n",
       "      <th>Prob</th>\n",
       "      <td>2.711232</td>\n",
       "    </tr>\n",
       "    <tr>\n",
       "      <th>SelfAd</th>\n",
       "      <td>2.791545</td>\n",
       "    </tr>\n",
       "    <tr>\n",
       "      <th>Belong</th>\n",
       "      <td>3.897101</td>\n",
       "    </tr>\n",
       "  </tbody>\n",
       "</table>\n",
       "</div>"
      ],
      "text/plain": [
       "        Male Mean\n",
       "Label            \n",
       "AcaBeh   3.414368\n",
       "AcaEf    2.770742\n",
       "Growth   2.864493\n",
       "Intp     4.733817\n",
       "Prob     2.711232\n",
       "SelfAd   2.791545\n",
       "Belong   3.897101"
      ]
     },
     "execution_count": 4,
     "metadata": {},
     "output_type": "execute_result"
    }
   ],
   "source": [
    "mlmean = male.head(7)                 # Reads the first seven lines of the dataframe\n",
    "mlmean = mlmean[[\"Label\",\"Mean\"]].set_index(\"Label\")     # Slices only two columns and sets the index to be \"Label\"\n",
    "mlmean = mlmean.rename(index={\"Academic Behavior\" : \"AcaBeh\", \n",
    "                              \"Academic Self-efficacy\" : \"AcaEf\", \n",
    "                              \"Growth Mindset\" : \"Growth\", \n",
    "                              \"Interpersonal Skills\" : \"Intp\", \n",
    "                              \"Problem Solving\" : \"Prob\", \n",
    "                              \"SELF-ADVOCACY\" : \"SelfAd\", \n",
    "                              \"BELONGING\" : \"Belong\"},\n",
    "                      columns={\"Mean\" : \"Male Mean\"})\n",
    "mlmean"
   ]
  },
  {
   "cell_type": "code",
   "execution_count": 5,
   "metadata": {
    "collapsed": false,
    "scrolled": false
   },
   "outputs": [
    {
     "data": {
      "text/html": [
       "<div>\n",
       "<table border=\"1\" class=\"dataframe\">\n",
       "  <thead>\n",
       "    <tr style=\"text-align: right;\">\n",
       "      <th></th>\n",
       "      <th>Male Percent Positive</th>\n",
       "    </tr>\n",
       "    <tr>\n",
       "      <th>Label</th>\n",
       "      <th></th>\n",
       "    </tr>\n",
       "  </thead>\n",
       "  <tbody>\n",
       "    <tr>\n",
       "      <th>AcaBeh</th>\n",
       "      <td>0.262009</td>\n",
       "    </tr>\n",
       "    <tr>\n",
       "      <th>AcaEf</th>\n",
       "      <td>0.432314</td>\n",
       "    </tr>\n",
       "    <tr>\n",
       "      <th>Growth</th>\n",
       "      <td>0.510917</td>\n",
       "    </tr>\n",
       "    <tr>\n",
       "      <th>Intp</th>\n",
       "      <td>0.456522</td>\n",
       "    </tr>\n",
       "    <tr>\n",
       "      <th>Prob</th>\n",
       "      <td>0.330435</td>\n",
       "    </tr>\n",
       "    <tr>\n",
       "      <th>SelfAd</th>\n",
       "      <td>0.333333</td>\n",
       "    </tr>\n",
       "    <tr>\n",
       "      <th>Belong</th>\n",
       "      <td>0.591304</td>\n",
       "    </tr>\n",
       "  </tbody>\n",
       "</table>\n",
       "</div>"
      ],
      "text/plain": [
       "        Male Percent Positive\n",
       "Label                        \n",
       "AcaBeh               0.262009\n",
       "AcaEf                0.432314\n",
       "Growth               0.510917\n",
       "Intp                 0.456522\n",
       "Prob                 0.330435\n",
       "SelfAd               0.333333\n",
       "Belong               0.591304"
      ]
     },
     "execution_count": 5,
     "metadata": {},
     "output_type": "execute_result"
    }
   ],
   "source": [
    "mlpp = male.tail(7)                 # Reads the first seven lines of the dataframe\n",
    "mlpp = mlpp[[\"Label\",\"Mean\"]].set_index(\"Label\")     # Slices only two columns and sets the index to be \"Label\"\n",
    "mlpp = mlpp.rename(index={\"Academic Behavior Percent Perfect\" : \"AcaBeh\", \n",
    "                          \"Academic Self-efficacy Percent Perfect\" : \"AcaEf\", \n",
    "                          \"Growth Mindset Percent Perfect\" : \"Growth\", \n",
    "                          \"Interpersonal Skills Percent Perfect\" : \"Intp\", \n",
    "                          \"Problem Solving Percent Perfect\" : \"Prob\", \n",
    "                          \"SELF ADVOCACY PERCENT PERFECT\" : \"SelfAd\", \n",
    "                          \"BELONGING PERCENT PERFECT ge 4\" : \"Belong\"},\n",
    "                   columns={\"Mean\" : \"Male Percent Positive\"})\n",
    "\n",
    "mlpp"
   ]
  },
  {
   "cell_type": "code",
   "execution_count": 57,
   "metadata": {
    "collapsed": false
   },
   "outputs": [
    {
     "data": {
      "text/html": [
       "<div>\n",
       "<table border=\"1\" class=\"dataframe\">\n",
       "  <thead>\n",
       "    <tr style=\"text-align: right;\">\n",
       "      <th></th>\n",
       "      <th>Female Mean</th>\n",
       "    </tr>\n",
       "    <tr>\n",
       "      <th>Label</th>\n",
       "      <th></th>\n",
       "    </tr>\n",
       "  </thead>\n",
       "  <tbody>\n",
       "    <tr>\n",
       "      <th>AcaBeh</th>\n",
       "      <td>3.519144</td>\n",
       "    </tr>\n",
       "    <tr>\n",
       "      <th>AcaEf</th>\n",
       "      <td>2.640891</td>\n",
       "    </tr>\n",
       "    <tr>\n",
       "      <th>Growth</th>\n",
       "      <td>2.825781</td>\n",
       "    </tr>\n",
       "    <tr>\n",
       "      <th>Intp</th>\n",
       "      <td>4.817563</td>\n",
       "    </tr>\n",
       "    <tr>\n",
       "      <th>Prob</th>\n",
       "      <td>2.672490</td>\n",
       "    </tr>\n",
       "    <tr>\n",
       "      <th>SelfAd</th>\n",
       "      <td>2.834629</td>\n",
       "    </tr>\n",
       "    <tr>\n",
       "      <th>Belong</th>\n",
       "      <td>3.927492</td>\n",
       "    </tr>\n",
       "  </tbody>\n",
       "</table>\n",
       "</div>"
      ],
      "text/plain": [
       "        Female Mean\n",
       "Label              \n",
       "AcaBeh     3.519144\n",
       "AcaEf      2.640891\n",
       "Growth     2.825781\n",
       "Intp       4.817563\n",
       "Prob       2.672490\n",
       "SelfAd     2.834629\n",
       "Belong     3.927492"
      ]
     },
     "execution_count": 57,
     "metadata": {},
     "output_type": "execute_result"
    }
   ],
   "source": [
    "fmmean = female.head(7)                 # Reads the first seven lines of the dataframe\n",
    "fmmean = fmmean[[\"Label\",\"Mean\"]].set_index(\"Label\")     # Slices only two columns and sets the index to be \"Label\"\n",
    "fmmean = fmmean.rename(index={\"Academic Behavior\" : \"AcaBeh\", \n",
    "                              \"Academic Self-efficacy\" : \"AcaEf\", \n",
    "                              \"Growth Mindset\" : \"Growth\", \n",
    "                              \"Interpersonal Skills\" : \"Intp\", \n",
    "                              \"Problem Solving\" : \"Prob\", \n",
    "                              \"SELF-ADVOCACY\" : \"SelfAd\", \n",
    "                              \"BELONGING\" : \"Belong\"},\n",
    "                      columns={\"Mean\" : \"Female Mean\"})\n",
    "fmmean"
   ]
  },
  {
   "cell_type": "code",
   "execution_count": 58,
   "metadata": {
    "collapsed": false,
    "scrolled": true
   },
   "outputs": [
    {
     "data": {
      "text/html": [
       "<div>\n",
       "<table border=\"1\" class=\"dataframe\">\n",
       "  <thead>\n",
       "    <tr style=\"text-align: right;\">\n",
       "      <th></th>\n",
       "      <th>Female Percent Positive</th>\n",
       "    </tr>\n",
       "    <tr>\n",
       "      <th>Label</th>\n",
       "      <th></th>\n",
       "    </tr>\n",
       "  </thead>\n",
       "  <tbody>\n",
       "    <tr>\n",
       "      <th>AcaBeh</th>\n",
       "      <td>0.293210</td>\n",
       "    </tr>\n",
       "    <tr>\n",
       "      <th>AcaEf</th>\n",
       "      <td>0.323263</td>\n",
       "    </tr>\n",
       "    <tr>\n",
       "      <th>Growth</th>\n",
       "      <td>0.506061</td>\n",
       "    </tr>\n",
       "    <tr>\n",
       "      <th>Intp</th>\n",
       "      <td>0.496988</td>\n",
       "    </tr>\n",
       "    <tr>\n",
       "      <th>Prob</th>\n",
       "      <td>0.322289</td>\n",
       "    </tr>\n",
       "    <tr>\n",
       "      <th>SelfAd</th>\n",
       "      <td>0.389058</td>\n",
       "    </tr>\n",
       "    <tr>\n",
       "      <th>Belong</th>\n",
       "      <td>0.567976</td>\n",
       "    </tr>\n",
       "  </tbody>\n",
       "</table>\n",
       "</div>"
      ],
      "text/plain": [
       "        Female Percent Positive\n",
       "Label                          \n",
       "AcaBeh                 0.293210\n",
       "AcaEf                  0.323263\n",
       "Growth                 0.506061\n",
       "Intp                   0.496988\n",
       "Prob                   0.322289\n",
       "SelfAd                 0.389058\n",
       "Belong                 0.567976"
      ]
     },
     "execution_count": 58,
     "metadata": {},
     "output_type": "execute_result"
    }
   ],
   "source": [
    "fmpp = female.tail(7)\n",
    "fmpp = fmpp[[\"Label\",\"Mean\"]].set_index(\"Label\")\n",
    "fmpp = fmpp.rename(index={\"Academic Behavior Percent Perfect\" : \"AcaBeh\", \n",
    "                          \"Academic Self-efficacy Percent Perfect\" : \"AcaEf\", \n",
    "                          \"Growth Mindset Percent Perfect\" : \"Growth\", \n",
    "                          \"Interpersonal Skills Percent Perfect\" : \"Intp\", \n",
    "                          \"Problem Solving Percent Perfect\" : \"Prob\", \n",
    "                          \"SELF ADVOCACY PERCENT PERFECT\" : \"SelfAd\", \n",
    "                          \"BELONGING PERCENT PERFECT ge 4\" : \"Belong\"},\n",
    "                   columns={\"Mean\" : \"Female Percent Positive\"}) \n",
    "fmpp"
   ]
  },
  {
   "cell_type": "markdown",
   "metadata": {},
   "source": [
    "### 3.2 | Joining the Organizational Data\n",
    "\n",
    "After creating four separate dataframes, I decided to concatenate them along the seven SEL indicators. I envisioned a problem in graphing both outcomes (mean and percent positive) within the same graph, since they had different scales, but seeing all of the data within one dataframe is easier to understand.\n",
    "\n",
    "I created two dataframes summarizing the mean and percent positive (ppos), as well as one with both outcomes (meanppos)."
   ]
  },
  {
   "cell_type": "code",
   "execution_count": 212,
   "metadata": {
    "collapsed": false
   },
   "outputs": [
    {
     "data": {
      "text/html": [
       "<div>\n",
       "<table border=\"1\" class=\"dataframe\">\n",
       "  <thead>\n",
       "    <tr style=\"text-align: right;\">\n",
       "      <th></th>\n",
       "      <th>Male Mean</th>\n",
       "      <th>Female Mean</th>\n",
       "    </tr>\n",
       "    <tr>\n",
       "      <th>Label</th>\n",
       "      <th></th>\n",
       "      <th></th>\n",
       "    </tr>\n",
       "  </thead>\n",
       "  <tbody>\n",
       "    <tr>\n",
       "      <th>AcaBeh</th>\n",
       "      <td>3.414368</td>\n",
       "      <td>3.519144</td>\n",
       "    </tr>\n",
       "    <tr>\n",
       "      <th>AcaEf</th>\n",
       "      <td>2.770742</td>\n",
       "      <td>2.640891</td>\n",
       "    </tr>\n",
       "    <tr>\n",
       "      <th>Growth</th>\n",
       "      <td>2.864493</td>\n",
       "      <td>2.825781</td>\n",
       "    </tr>\n",
       "    <tr>\n",
       "      <th>Intp</th>\n",
       "      <td>4.733817</td>\n",
       "      <td>4.817563</td>\n",
       "    </tr>\n",
       "    <tr>\n",
       "      <th>Prob</th>\n",
       "      <td>2.711232</td>\n",
       "      <td>2.672490</td>\n",
       "    </tr>\n",
       "    <tr>\n",
       "      <th>SelfAd</th>\n",
       "      <td>2.791545</td>\n",
       "      <td>2.834629</td>\n",
       "    </tr>\n",
       "    <tr>\n",
       "      <th>Belong</th>\n",
       "      <td>3.897101</td>\n",
       "      <td>3.927492</td>\n",
       "    </tr>\n",
       "  </tbody>\n",
       "</table>\n",
       "</div>"
      ],
      "text/plain": [
       "        Male Mean  Female Mean\n",
       "Label                         \n",
       "AcaBeh   3.414368     3.519144\n",
       "AcaEf    2.770742     2.640891\n",
       "Growth   2.864493     2.825781\n",
       "Intp     4.733817     4.817563\n",
       "Prob     2.711232     2.672490\n",
       "SelfAd   2.791545     2.834629\n",
       "Belong   3.897101     3.927492"
      ]
     },
     "execution_count": 212,
     "metadata": {},
     "output_type": "execute_result"
    }
   ],
   "source": [
    "mean = pd.concat([mlmean, fmmean], axis=1)\n",
    "mean"
   ]
  },
  {
   "cell_type": "code",
   "execution_count": 42,
   "metadata": {
    "collapsed": false
   },
   "outputs": [
    {
     "data": {
      "text/html": [
       "<div>\n",
       "<table border=\"1\" class=\"dataframe\">\n",
       "  <thead>\n",
       "    <tr style=\"text-align: right;\">\n",
       "      <th></th>\n",
       "      <th>Male Percent Positive</th>\n",
       "      <th>Female Percent Positive</th>\n",
       "    </tr>\n",
       "    <tr>\n",
       "      <th>Label</th>\n",
       "      <th></th>\n",
       "      <th></th>\n",
       "    </tr>\n",
       "  </thead>\n",
       "  <tbody>\n",
       "    <tr>\n",
       "      <th>AcaBeh</th>\n",
       "      <td>0.262009</td>\n",
       "      <td>0.293210</td>\n",
       "    </tr>\n",
       "    <tr>\n",
       "      <th>AcaEf</th>\n",
       "      <td>0.432314</td>\n",
       "      <td>0.323263</td>\n",
       "    </tr>\n",
       "    <tr>\n",
       "      <th>Growth</th>\n",
       "      <td>0.510917</td>\n",
       "      <td>0.506061</td>\n",
       "    </tr>\n",
       "    <tr>\n",
       "      <th>Intp</th>\n",
       "      <td>0.456522</td>\n",
       "      <td>0.496988</td>\n",
       "    </tr>\n",
       "    <tr>\n",
       "      <th>Prob</th>\n",
       "      <td>0.330435</td>\n",
       "      <td>0.322289</td>\n",
       "    </tr>\n",
       "    <tr>\n",
       "      <th>SelfAd</th>\n",
       "      <td>0.333333</td>\n",
       "      <td>0.389058</td>\n",
       "    </tr>\n",
       "    <tr>\n",
       "      <th>Belong</th>\n",
       "      <td>0.591304</td>\n",
       "      <td>0.567976</td>\n",
       "    </tr>\n",
       "  </tbody>\n",
       "</table>\n",
       "</div>"
      ],
      "text/plain": [
       "        Male Percent Positive  Female Percent Positive\n",
       "Label                                                 \n",
       "AcaBeh               0.262009                 0.293210\n",
       "AcaEf                0.432314                 0.323263\n",
       "Growth               0.510917                 0.506061\n",
       "Intp                 0.456522                 0.496988\n",
       "Prob                 0.330435                 0.322289\n",
       "SelfAd               0.333333                 0.389058\n",
       "Belong               0.591304                 0.567976"
      ]
     },
     "execution_count": 42,
     "metadata": {},
     "output_type": "execute_result"
    }
   ],
   "source": [
    "ppos = pd.concat([mlpp, fmpp], axis=1)\n",
    "ppos"
   ]
  },
  {
   "cell_type": "code",
   "execution_count": 43,
   "metadata": {
    "collapsed": false
   },
   "outputs": [
    {
     "data": {
      "text/html": [
       "<div>\n",
       "<table border=\"1\" class=\"dataframe\">\n",
       "  <thead>\n",
       "    <tr style=\"text-align: right;\">\n",
       "      <th></th>\n",
       "      <th>Male Percent Positive</th>\n",
       "      <th>Female Percent Positive</th>\n",
       "      <th>Male Mean</th>\n",
       "      <th>Female Mean</th>\n",
       "    </tr>\n",
       "    <tr>\n",
       "      <th>Label</th>\n",
       "      <th></th>\n",
       "      <th></th>\n",
       "      <th></th>\n",
       "      <th></th>\n",
       "    </tr>\n",
       "  </thead>\n",
       "  <tbody>\n",
       "    <tr>\n",
       "      <th>AcaBeh</th>\n",
       "      <td>0.262009</td>\n",
       "      <td>0.293210</td>\n",
       "      <td>3.414368</td>\n",
       "      <td>3.414368</td>\n",
       "    </tr>\n",
       "    <tr>\n",
       "      <th>AcaEf</th>\n",
       "      <td>0.432314</td>\n",
       "      <td>0.323263</td>\n",
       "      <td>2.770742</td>\n",
       "      <td>2.770742</td>\n",
       "    </tr>\n",
       "    <tr>\n",
       "      <th>Growth</th>\n",
       "      <td>0.510917</td>\n",
       "      <td>0.506061</td>\n",
       "      <td>2.864493</td>\n",
       "      <td>2.864493</td>\n",
       "    </tr>\n",
       "    <tr>\n",
       "      <th>Intp</th>\n",
       "      <td>0.456522</td>\n",
       "      <td>0.496988</td>\n",
       "      <td>4.733817</td>\n",
       "      <td>4.733817</td>\n",
       "    </tr>\n",
       "    <tr>\n",
       "      <th>Prob</th>\n",
       "      <td>0.330435</td>\n",
       "      <td>0.322289</td>\n",
       "      <td>2.711232</td>\n",
       "      <td>2.711232</td>\n",
       "    </tr>\n",
       "    <tr>\n",
       "      <th>SelfAd</th>\n",
       "      <td>0.333333</td>\n",
       "      <td>0.389058</td>\n",
       "      <td>2.791545</td>\n",
       "      <td>2.791545</td>\n",
       "    </tr>\n",
       "    <tr>\n",
       "      <th>Belong</th>\n",
       "      <td>0.591304</td>\n",
       "      <td>0.567976</td>\n",
       "      <td>3.897101</td>\n",
       "      <td>3.897101</td>\n",
       "    </tr>\n",
       "  </tbody>\n",
       "</table>\n",
       "</div>"
      ],
      "text/plain": [
       "        Male Percent Positive  Female Percent Positive  Male Mean  Female Mean\n",
       "Label                                                                         \n",
       "AcaBeh               0.262009                 0.293210   3.414368     3.414368\n",
       "AcaEf                0.432314                 0.323263   2.770742     2.770742\n",
       "Growth               0.510917                 0.506061   2.864493     2.864493\n",
       "Intp                 0.456522                 0.496988   4.733817     4.733817\n",
       "Prob                 0.330435                 0.322289   2.711232     2.711232\n",
       "SelfAd               0.333333                 0.389058   2.791545     2.791545\n",
       "Belong               0.591304                 0.567976   3.897101     3.897101"
      ]
     },
     "execution_count": 43,
     "metadata": {},
     "output_type": "execute_result"
    }
   ],
   "source": [
    "meanppos = pd.concat([mlpp, fmpp, mlmean, fmmean], axis=1)\n",
    "meanppos"
   ]
  },
  {
   "cell_type": "code",
   "execution_count": null,
   "metadata": {
    "collapsed": false
   },
   "outputs": [],
   "source": [
    "mean.plot.barh(figsize = (10,7))"
   ]
  },
  {
   "cell_type": "markdown",
   "metadata": {},
   "source": [
    "## 4 | Network Summary Data\n",
    "I read in the male and female summary data for the entire network. I then extracted the data for males and females, avoiding the rows which had a blank for \"isFemale\". Unlike the organizational data, SSN network data has a separate column for percent positive, which meant that I did not have to create as many dataframes to get the same output.\n",
    "\n",
    "I created two dataframes, one summarizing male network data (mlnet) and one for female network data (fmnet)."
   ]
  },
  {
   "cell_type": "code",
   "execution_count": 80,
   "metadata": {
    "collapsed": false
   },
   "outputs": [],
   "source": [
    "df2 = \"/Users/kavyabeheraj/Desktop/Current Classes/Data Bootcamp/Network_Summary_Gender.csv\"\n",
    "\n",
    "network = pd.read_csv(df2)\n",
    "network"
   ]
  },
  {
   "cell_type": "code",
   "execution_count": 61,
   "metadata": {
    "collapsed": false
   },
   "outputs": [
    {
     "data": {
      "text/html": [
       "<div>\n",
       "<table border=\"1\" class=\"dataframe\">\n",
       "  <thead>\n",
       "    <tr style=\"text-align: right;\">\n",
       "      <th></th>\n",
       "      <th>Male Mean, Network</th>\n",
       "      <th>Male Percent Positive, Network</th>\n",
       "    </tr>\n",
       "    <tr>\n",
       "      <th>label</th>\n",
       "      <th></th>\n",
       "      <th></th>\n",
       "    </tr>\n",
       "  </thead>\n",
       "  <tbody>\n",
       "    <tr>\n",
       "      <th>AcaBeh</th>\n",
       "      <td>3.545661</td>\n",
       "      <td>0.285714</td>\n",
       "    </tr>\n",
       "    <tr>\n",
       "      <th>AcaEf</th>\n",
       "      <td>2.600877</td>\n",
       "      <td>0.263158</td>\n",
       "    </tr>\n",
       "    <tr>\n",
       "      <th>Belong</th>\n",
       "      <td>3.392157</td>\n",
       "      <td>0.055556</td>\n",
       "    </tr>\n",
       "    <tr>\n",
       "      <th>Growth</th>\n",
       "      <td>2.411111</td>\n",
       "      <td>0.200000</td>\n",
       "    </tr>\n",
       "    <tr>\n",
       "      <th>Intp</th>\n",
       "      <td>4.387238</td>\n",
       "      <td>0.294118</td>\n",
       "    </tr>\n",
       "    <tr>\n",
       "      <th>Prob</th>\n",
       "      <td>2.645614</td>\n",
       "      <td>0.190476</td>\n",
       "    </tr>\n",
       "    <tr>\n",
       "      <th>SelfAd</th>\n",
       "      <td>2.786946</td>\n",
       "      <td>0.222222</td>\n",
       "    </tr>\n",
       "  </tbody>\n",
       "</table>\n",
       "</div>"
      ],
      "text/plain": [
       "        Male Mean, Network  Male Percent Positive, Network\n",
       "label                                                     \n",
       "AcaBeh            3.545661                        0.285714\n",
       "AcaEf             2.600877                        0.263158\n",
       "Belong            3.392157                        0.055556\n",
       "Growth            2.411111                        0.200000\n",
       "Intp              4.387238                        0.294118\n",
       "Prob              2.645614                        0.190476\n",
       "SelfAd            2.786946                        0.222222"
      ]
     },
     "execution_count": 61,
     "metadata": {},
     "output_type": "execute_result"
    }
   ],
   "source": [
    "mlnet = network.tail(7)                 \n",
    "mlnet = mlnet[[\"label\",\"mean\", \"percentPositive\"]].set_index(\"label\")     \n",
    "mlnet = mlnet.rename(index={\"Academic Behavior\" : \"AcaBeh\", \n",
    "                          \"Academic Self-efficacy\" : \"AcaEf\", \n",
    "                          \"Growth Mindset\" : \"Growth\", \n",
    "                          \"Interpersonal Skills\" : \"Intp\", \n",
    "                          \"Problem Solving\" : \"Prob\", \n",
    "                          \"Self-Advocacy\" : \"SelfAd\", \n",
    "                          \"Belonging\" : \"Belong\"},\n",
    "                   columns={\"mean\" : \"Male Mean, Network\",\n",
    "                           \"percentPositive\" : \"Male Percent Positive, Network\"})\n",
    "mlnet"
   ]
  },
  {
   "cell_type": "code",
   "execution_count": 64,
   "metadata": {
    "collapsed": false
   },
   "outputs": [
    {
     "data": {
      "text/html": [
       "<div>\n",
       "<table border=\"1\" class=\"dataframe\">\n",
       "  <thead>\n",
       "    <tr style=\"text-align: right;\">\n",
       "      <th></th>\n",
       "      <th>Female Mean, Network</th>\n",
       "      <th>Female Percent Positive, Network</th>\n",
       "    </tr>\n",
       "    <tr>\n",
       "      <th>label</th>\n",
       "      <th></th>\n",
       "      <th></th>\n",
       "    </tr>\n",
       "  </thead>\n",
       "  <tbody>\n",
       "    <tr>\n",
       "      <th>AcaBeh</th>\n",
       "      <td>3.508376</td>\n",
       "      <td>0.221106</td>\n",
       "    </tr>\n",
       "    <tr>\n",
       "      <th>AcaEf</th>\n",
       "      <td>2.660160</td>\n",
       "      <td>0.228070</td>\n",
       "    </tr>\n",
       "    <tr>\n",
       "      <th>Belong</th>\n",
       "      <td>3.548576</td>\n",
       "      <td>0.187970</td>\n",
       "    </tr>\n",
       "    <tr>\n",
       "      <th>Growth</th>\n",
       "      <td>2.442761</td>\n",
       "      <td>0.188917</td>\n",
       "    </tr>\n",
       "    <tr>\n",
       "      <th>Intp</th>\n",
       "      <td>4.670432</td>\n",
       "      <td>0.384422</td>\n",
       "    </tr>\n",
       "    <tr>\n",
       "      <th>Prob</th>\n",
       "      <td>2.695707</td>\n",
       "      <td>0.203008</td>\n",
       "    </tr>\n",
       "    <tr>\n",
       "      <th>SelfAd</th>\n",
       "      <td>2.789838</td>\n",
       "      <td>0.195980</td>\n",
       "    </tr>\n",
       "  </tbody>\n",
       "</table>\n",
       "</div>"
      ],
      "text/plain": [
       "        Female Mean, Network  Female Percent Positive, Network\n",
       "label                                                         \n",
       "AcaBeh              3.508376                          0.221106\n",
       "AcaEf               2.660160                          0.228070\n",
       "Belong              3.548576                          0.187970\n",
       "Growth              2.442761                          0.188917\n",
       "Intp                4.670432                          0.384422\n",
       "Prob                2.695707                          0.203008\n",
       "SelfAd              2.789838                          0.195980"
      ]
     },
     "execution_count": 64,
     "metadata": {},
     "output_type": "execute_result"
    }
   ],
   "source": [
    "fmnet = network[7:14]              \n",
    "fmnet = fmnet[[\"label\",\"mean\", \"percentPositive\"]].set_index(\"label\")     \n",
    "fmnet = fmnet.rename(index={\"Academic Behavior\" : \"AcaBeh\", \n",
    "                          \"Academic Self-efficacy\" : \"AcaEf\", \n",
    "                          \"Growth Mindset\" : \"Growth\", \n",
    "                          \"Interpersonal Skills\" : \"Intp\", \n",
    "                          \"Problem Solving\" : \"Prob\", \n",
    "                          \"Self-Advocacy\" : \"SelfAd\", \n",
    "                          \"Belonging\" : \"Belong\"},\n",
    "                   columns={\"mean\" : \"Female Mean, Network\", \"percentPositive\" : \"Female Percent Positive, Network\"})\n",
    "fmnet"
   ]
  },
  {
   "cell_type": "markdown",
   "metadata": {},
   "source": [
    "## 5 | Slicing the Final Output\n",
    "After I cleaned and sliced both the organization and network-wide data, I joined them along the SEL indicators and created separate dataframes for mean and percent positive."
   ]
  },
  {
   "cell_type": "code",
   "execution_count": 66,
   "metadata": {
    "collapsed": false
   },
   "outputs": [
    {
     "data": {
      "text/html": [
       "<div>\n",
       "<table border=\"1\" class=\"dataframe\">\n",
       "  <thead>\n",
       "    <tr style=\"text-align: right;\">\n",
       "      <th></th>\n",
       "      <th>Male Percent Positive</th>\n",
       "      <th>Female Percent Positive</th>\n",
       "      <th>Male Mean</th>\n",
       "      <th>Female Mean</th>\n",
       "      <th>Female Mean, Network</th>\n",
       "      <th>Female Percent Positive, Network</th>\n",
       "      <th>Male Mean, Network</th>\n",
       "      <th>Male Percent Positive, Network</th>\n",
       "    </tr>\n",
       "  </thead>\n",
       "  <tbody>\n",
       "    <tr>\n",
       "      <th>AcaBeh</th>\n",
       "      <td>0.262009</td>\n",
       "      <td>0.293210</td>\n",
       "      <td>3.414368</td>\n",
       "      <td>3.414368</td>\n",
       "      <td>3.508376</td>\n",
       "      <td>0.221106</td>\n",
       "      <td>3.545661</td>\n",
       "      <td>0.285714</td>\n",
       "    </tr>\n",
       "    <tr>\n",
       "      <th>AcaEf</th>\n",
       "      <td>0.432314</td>\n",
       "      <td>0.323263</td>\n",
       "      <td>2.770742</td>\n",
       "      <td>2.770742</td>\n",
       "      <td>2.660160</td>\n",
       "      <td>0.228070</td>\n",
       "      <td>2.600877</td>\n",
       "      <td>0.263158</td>\n",
       "    </tr>\n",
       "    <tr>\n",
       "      <th>Belong</th>\n",
       "      <td>0.591304</td>\n",
       "      <td>0.567976</td>\n",
       "      <td>3.897101</td>\n",
       "      <td>3.897101</td>\n",
       "      <td>3.548576</td>\n",
       "      <td>0.187970</td>\n",
       "      <td>3.392157</td>\n",
       "      <td>0.055556</td>\n",
       "    </tr>\n",
       "    <tr>\n",
       "      <th>Growth</th>\n",
       "      <td>0.510917</td>\n",
       "      <td>0.506061</td>\n",
       "      <td>2.864493</td>\n",
       "      <td>2.864493</td>\n",
       "      <td>2.442761</td>\n",
       "      <td>0.188917</td>\n",
       "      <td>2.411111</td>\n",
       "      <td>0.200000</td>\n",
       "    </tr>\n",
       "    <tr>\n",
       "      <th>Intp</th>\n",
       "      <td>0.456522</td>\n",
       "      <td>0.496988</td>\n",
       "      <td>4.733817</td>\n",
       "      <td>4.733817</td>\n",
       "      <td>4.670432</td>\n",
       "      <td>0.384422</td>\n",
       "      <td>4.387238</td>\n",
       "      <td>0.294118</td>\n",
       "    </tr>\n",
       "    <tr>\n",
       "      <th>Prob</th>\n",
       "      <td>0.330435</td>\n",
       "      <td>0.322289</td>\n",
       "      <td>2.711232</td>\n",
       "      <td>2.711232</td>\n",
       "      <td>2.695707</td>\n",
       "      <td>0.203008</td>\n",
       "      <td>2.645614</td>\n",
       "      <td>0.190476</td>\n",
       "    </tr>\n",
       "    <tr>\n",
       "      <th>SelfAd</th>\n",
       "      <td>0.333333</td>\n",
       "      <td>0.389058</td>\n",
       "      <td>2.791545</td>\n",
       "      <td>2.791545</td>\n",
       "      <td>2.789838</td>\n",
       "      <td>0.195980</td>\n",
       "      <td>2.786946</td>\n",
       "      <td>0.222222</td>\n",
       "    </tr>\n",
       "  </tbody>\n",
       "</table>\n",
       "</div>"
      ],
      "text/plain": [
       "        Male Percent Positive  Female Percent Positive  Male Mean  \\\n",
       "AcaBeh               0.262009                 0.293210   3.414368   \n",
       "AcaEf                0.432314                 0.323263   2.770742   \n",
       "Belong               0.591304                 0.567976   3.897101   \n",
       "Growth               0.510917                 0.506061   2.864493   \n",
       "Intp                 0.456522                 0.496988   4.733817   \n",
       "Prob                 0.330435                 0.322289   2.711232   \n",
       "SelfAd               0.333333                 0.389058   2.791545   \n",
       "\n",
       "        Female Mean  Female Mean, Network  Female Percent Positive, Network  \\\n",
       "AcaBeh     3.414368              3.508376                          0.221106   \n",
       "AcaEf      2.770742              2.660160                          0.228070   \n",
       "Belong     3.897101              3.548576                          0.187970   \n",
       "Growth     2.864493              2.442761                          0.188917   \n",
       "Intp       4.733817              4.670432                          0.384422   \n",
       "Prob       2.711232              2.695707                          0.203008   \n",
       "SelfAd     2.791545              2.789838                          0.195980   \n",
       "\n",
       "        Male Mean, Network  Male Percent Positive, Network  \n",
       "AcaBeh            3.545661                        0.285714  \n",
       "AcaEf             2.600877                        0.263158  \n",
       "Belong            3.392157                        0.055556  \n",
       "Growth            2.411111                        0.200000  \n",
       "Intp              4.387238                        0.294118  \n",
       "Prob              2.645614                        0.190476  \n",
       "SelfAd            2.786946                        0.222222  "
      ]
     },
     "execution_count": 66,
     "metadata": {},
     "output_type": "execute_result"
    }
   ],
   "source": [
    "output = pd.concat([meanppos, fmnet, mlnet ], axis=1)\n",
    "output"
   ]
  },
  {
   "cell_type": "code",
   "execution_count": 74,
   "metadata": {
    "collapsed": false
   },
   "outputs": [
    {
     "data": {
      "text/html": [
       "<div>\n",
       "<table border=\"1\" class=\"dataframe\">\n",
       "  <thead>\n",
       "    <tr style=\"text-align: right;\">\n",
       "      <th></th>\n",
       "      <th>Male Mean</th>\n",
       "      <th>Female Mean</th>\n",
       "      <th>Male Mean, Network</th>\n",
       "      <th>Female Mean, Network</th>\n",
       "    </tr>\n",
       "  </thead>\n",
       "  <tbody>\n",
       "    <tr>\n",
       "      <th>AcaBeh</th>\n",
       "      <td>3.414368</td>\n",
       "      <td>3.414368</td>\n",
       "      <td>3.545661</td>\n",
       "      <td>3.508376</td>\n",
       "    </tr>\n",
       "    <tr>\n",
       "      <th>AcaEf</th>\n",
       "      <td>2.770742</td>\n",
       "      <td>2.770742</td>\n",
       "      <td>2.600877</td>\n",
       "      <td>2.660160</td>\n",
       "    </tr>\n",
       "    <tr>\n",
       "      <th>Belong</th>\n",
       "      <td>3.897101</td>\n",
       "      <td>3.897101</td>\n",
       "      <td>3.392157</td>\n",
       "      <td>3.548576</td>\n",
       "    </tr>\n",
       "    <tr>\n",
       "      <th>Growth</th>\n",
       "      <td>2.864493</td>\n",
       "      <td>2.864493</td>\n",
       "      <td>2.411111</td>\n",
       "      <td>2.442761</td>\n",
       "    </tr>\n",
       "    <tr>\n",
       "      <th>Intp</th>\n",
       "      <td>4.733817</td>\n",
       "      <td>4.733817</td>\n",
       "      <td>4.387238</td>\n",
       "      <td>4.670432</td>\n",
       "    </tr>\n",
       "    <tr>\n",
       "      <th>Prob</th>\n",
       "      <td>2.711232</td>\n",
       "      <td>2.711232</td>\n",
       "      <td>2.645614</td>\n",
       "      <td>2.695707</td>\n",
       "    </tr>\n",
       "    <tr>\n",
       "      <th>SelfAd</th>\n",
       "      <td>2.791545</td>\n",
       "      <td>2.791545</td>\n",
       "      <td>2.786946</td>\n",
       "      <td>2.789838</td>\n",
       "    </tr>\n",
       "  </tbody>\n",
       "</table>\n",
       "</div>"
      ],
      "text/plain": [
       "        Male Mean  Female Mean  Male Mean, Network  Female Mean, Network\n",
       "AcaBeh   3.414368     3.414368            3.545661              3.508376\n",
       "AcaEf    2.770742     2.770742            2.600877              2.660160\n",
       "Belong   3.897101     3.897101            3.392157              3.548576\n",
       "Growth   2.864493     2.864493            2.411111              2.442761\n",
       "Intp     4.733817     4.733817            4.387238              4.670432\n",
       "Prob     2.711232     2.711232            2.645614              2.695707\n",
       "SelfAd   2.791545     2.791545            2.786946              2.789838"
      ]
     },
     "execution_count": 74,
     "metadata": {},
     "output_type": "execute_result"
    }
   ],
   "source": [
    "mean_output = output[[\"Male Mean\", \n",
    "                      \"Female Mean\", \n",
    "                      \"Male Mean, Network\", \n",
    "                      \"Female Mean, Network\"]]\n",
    "mean_output"
   ]
  },
  {
   "cell_type": "code",
   "execution_count": 88,
   "metadata": {
    "collapsed": false
   },
   "outputs": [
    {
     "data": {
      "text/html": [
       "<div>\n",
       "<table border=\"1\" class=\"dataframe\">\n",
       "  <thead>\n",
       "    <tr style=\"text-align: right;\">\n",
       "      <th></th>\n",
       "      <th>Male Percent Positive</th>\n",
       "      <th>Male Percent Positive, Network</th>\n",
       "      <th>Female Percent Positive</th>\n",
       "      <th>Female Percent Positive, Network</th>\n",
       "    </tr>\n",
       "  </thead>\n",
       "  <tbody>\n",
       "    <tr>\n",
       "      <th>AcaBeh</th>\n",
       "      <td>0.262009</td>\n",
       "      <td>0.285714</td>\n",
       "      <td>0.293210</td>\n",
       "      <td>0.221106</td>\n",
       "    </tr>\n",
       "    <tr>\n",
       "      <th>AcaEf</th>\n",
       "      <td>0.432314</td>\n",
       "      <td>0.263158</td>\n",
       "      <td>0.323263</td>\n",
       "      <td>0.228070</td>\n",
       "    </tr>\n",
       "    <tr>\n",
       "      <th>Belong</th>\n",
       "      <td>0.591304</td>\n",
       "      <td>0.055556</td>\n",
       "      <td>0.567976</td>\n",
       "      <td>0.187970</td>\n",
       "    </tr>\n",
       "    <tr>\n",
       "      <th>Growth</th>\n",
       "      <td>0.510917</td>\n",
       "      <td>0.200000</td>\n",
       "      <td>0.506061</td>\n",
       "      <td>0.188917</td>\n",
       "    </tr>\n",
       "    <tr>\n",
       "      <th>Intp</th>\n",
       "      <td>0.456522</td>\n",
       "      <td>0.294118</td>\n",
       "      <td>0.496988</td>\n",
       "      <td>0.384422</td>\n",
       "    </tr>\n",
       "    <tr>\n",
       "      <th>Prob</th>\n",
       "      <td>0.330435</td>\n",
       "      <td>0.190476</td>\n",
       "      <td>0.322289</td>\n",
       "      <td>0.203008</td>\n",
       "    </tr>\n",
       "    <tr>\n",
       "      <th>SelfAd</th>\n",
       "      <td>0.333333</td>\n",
       "      <td>0.222222</td>\n",
       "      <td>0.389058</td>\n",
       "      <td>0.195980</td>\n",
       "    </tr>\n",
       "  </tbody>\n",
       "</table>\n",
       "</div>"
      ],
      "text/plain": [
       "        Male Percent Positive  Male Percent Positive, Network  \\\n",
       "AcaBeh               0.262009                        0.285714   \n",
       "AcaEf                0.432314                        0.263158   \n",
       "Belong               0.591304                        0.055556   \n",
       "Growth               0.510917                        0.200000   \n",
       "Intp                 0.456522                        0.294118   \n",
       "Prob                 0.330435                        0.190476   \n",
       "SelfAd               0.333333                        0.222222   \n",
       "\n",
       "        Female Percent Positive  Female Percent Positive, Network  \n",
       "AcaBeh                 0.293210                          0.221106  \n",
       "AcaEf                  0.323263                          0.228070  \n",
       "Belong                 0.567976                          0.187970  \n",
       "Growth                 0.506061                          0.188917  \n",
       "Intp                   0.496988                          0.384422  \n",
       "Prob                   0.322289                          0.203008  \n",
       "SelfAd                 0.389058                          0.195980  "
      ]
     },
     "execution_count": 88,
     "metadata": {},
     "output_type": "execute_result"
    }
   ],
   "source": [
    "pp_output = output[[\"Male Percent Positive\",  \n",
    "                    \"Male Percent Positive, Network\",\n",
    "                    \"Female Percent Positive\",\n",
    "                    \"Female Percent Positive, Network\"]]\n",
    "pp_output"
   ]
  },
  {
   "cell_type": "code",
   "execution_count": 152,
   "metadata": {
    "collapsed": false
   },
   "outputs": [
    {
     "data": {
      "text/html": [
       "<div>\n",
       "<table border=\"1\" class=\"dataframe\">\n",
       "  <thead>\n",
       "    <tr style=\"text-align: right;\">\n",
       "      <th></th>\n",
       "      <th>Male Mean, Network</th>\n",
       "      <th>Female Mean, Network</th>\n",
       "    </tr>\n",
       "  </thead>\n",
       "  <tbody>\n",
       "    <tr>\n",
       "      <th>AcaBeh</th>\n",
       "      <td>3.545661</td>\n",
       "      <td>3.508376</td>\n",
       "    </tr>\n",
       "    <tr>\n",
       "      <th>AcaEf</th>\n",
       "      <td>2.600877</td>\n",
       "      <td>2.660160</td>\n",
       "    </tr>\n",
       "    <tr>\n",
       "      <th>Belong</th>\n",
       "      <td>3.392157</td>\n",
       "      <td>3.548576</td>\n",
       "    </tr>\n",
       "    <tr>\n",
       "      <th>Growth</th>\n",
       "      <td>2.411111</td>\n",
       "      <td>2.442761</td>\n",
       "    </tr>\n",
       "    <tr>\n",
       "      <th>Intp</th>\n",
       "      <td>4.387238</td>\n",
       "      <td>4.670432</td>\n",
       "    </tr>\n",
       "    <tr>\n",
       "      <th>Prob</th>\n",
       "      <td>2.645614</td>\n",
       "      <td>2.695707</td>\n",
       "    </tr>\n",
       "    <tr>\n",
       "      <th>SelfAd</th>\n",
       "      <td>2.786946</td>\n",
       "      <td>2.789838</td>\n",
       "    </tr>\n",
       "  </tbody>\n",
       "</table>\n",
       "</div>"
      ],
      "text/plain": [
       "        Male Mean, Network  Female Mean, Network\n",
       "AcaBeh            3.545661              3.508376\n",
       "AcaEf             2.600877              2.660160\n",
       "Belong            3.392157              3.548576\n",
       "Growth            2.411111              2.442761\n",
       "Intp              4.387238              4.670432\n",
       "Prob              2.645614              2.695707\n",
       "SelfAd            2.786946              2.789838"
      ]
     },
     "execution_count": 152,
     "metadata": {},
     "output_type": "execute_result"
    }
   ],
   "source": [
    "mean_net = output[[\"Male Mean, Network\",\n",
    "                   \"Female Mean, Network\"]]\n",
    "mean_net"
   ]
  },
  {
   "cell_type": "code",
   "execution_count": 169,
   "metadata": {
    "collapsed": false
   },
   "outputs": [
    {
     "data": {
      "text/html": [
       "<div>\n",
       "<table border=\"1\" class=\"dataframe\">\n",
       "  <thead>\n",
       "    <tr style=\"text-align: right;\">\n",
       "      <th></th>\n",
       "      <th>Male Percent Positive, Network</th>\n",
       "      <th>Female Percent Positive, Network</th>\n",
       "    </tr>\n",
       "  </thead>\n",
       "  <tbody>\n",
       "    <tr>\n",
       "      <th>AcaBeh</th>\n",
       "      <td>0.285714</td>\n",
       "      <td>0.221106</td>\n",
       "    </tr>\n",
       "    <tr>\n",
       "      <th>AcaEf</th>\n",
       "      <td>0.263158</td>\n",
       "      <td>0.228070</td>\n",
       "    </tr>\n",
       "    <tr>\n",
       "      <th>Belong</th>\n",
       "      <td>0.055556</td>\n",
       "      <td>0.187970</td>\n",
       "    </tr>\n",
       "    <tr>\n",
       "      <th>Growth</th>\n",
       "      <td>0.200000</td>\n",
       "      <td>0.188917</td>\n",
       "    </tr>\n",
       "    <tr>\n",
       "      <th>Intp</th>\n",
       "      <td>0.294118</td>\n",
       "      <td>0.384422</td>\n",
       "    </tr>\n",
       "    <tr>\n",
       "      <th>Prob</th>\n",
       "      <td>0.190476</td>\n",
       "      <td>0.203008</td>\n",
       "    </tr>\n",
       "    <tr>\n",
       "      <th>SelfAd</th>\n",
       "      <td>0.222222</td>\n",
       "      <td>0.195980</td>\n",
       "    </tr>\n",
       "  </tbody>\n",
       "</table>\n",
       "</div>"
      ],
      "text/plain": [
       "        Male Percent Positive, Network  Female Percent Positive, Network\n",
       "AcaBeh                        0.285714                          0.221106\n",
       "AcaEf                         0.263158                          0.228070\n",
       "Belong                        0.055556                          0.187970\n",
       "Growth                        0.200000                          0.188917\n",
       "Intp                          0.294118                          0.384422\n",
       "Prob                          0.190476                          0.203008\n",
       "SelfAd                        0.222222                          0.195980"
      ]
     },
     "execution_count": 169,
     "metadata": {},
     "output_type": "execute_result"
    }
   ],
   "source": [
    "ppos_net = output[[\"Male Percent Positive, Network\",\n",
    "                   \"Female Percent Positive, Network\"]]\n",
    "ppos_net"
   ]
  },
  {
   "cell_type": "markdown",
   "metadata": {},
   "source": [
    "## 6 | Visualizing the Data\n",
    "\n",
    "I created two visualizations of the data, one for percent positive and another for the mean. I compared male vs. female and the organization's data vs. the network-wide outcome."
   ]
  },
  {
   "cell_type": "markdown",
   "metadata": {},
   "source": [
    "### 6.1 | Visualizing the Percent Positive, Organization vs. Network"
   ]
  },
  {
   "cell_type": "code",
   "execution_count": 354,
   "metadata": {
    "collapsed": false,
    "scrolled": false
   },
   "outputs": [
    {
     "data": {
      "text/plain": [
       "<matplotlib.text.Text at 0x13479ea90>"
      ]
     },
     "execution_count": 354,
     "metadata": {},
     "output_type": "execute_result"
    },
    {
     "data": {
      "image/png": "[encoded data removed]",
      "text/plain": [
       "<matplotlib.figure.Figure at 0x134539cf8>"
      ]
     },
     "metadata": {},
     "output_type": "display_data"
    }
   ],
   "source": [
    "plt.style.use('seaborn-pastel')\n",
    "\n",
    "ax = ppos_net.plot(linestyle='-', marker='o', colormap = \"Accent\")\n",
    "ppos.plot(kind='bar', colormap = \"Pastel2\",\n",
    "          ax=ax,\n",
    "         figsize = (10,7))\n",
    "\n",
    "ax.set_ylim(0, 0.8)\n",
    "ax.set_title(\"Percent Positive Male and Female SEL Outcomes, Organization vs. Network\")"
   ]
  },
  {
   "cell_type": "markdown",
   "metadata": {},
   "source": [
    "From the data above, we can see that this organization has a greater percentage of students who meet or exceed requirements for the 7 SEL indicators, except for Problem-Solving."
   ]
  },
  {
   "cell_type": "markdown",
   "metadata": {},
   "source": [
    "### 5.1 | Visualizing the Mean, Organization vs. Network"
   ]
  },
  {
   "cell_type": "code",
   "execution_count": 353,
   "metadata": {
    "collapsed": false
   },
   "outputs": [
    {
     "data": {
      "text/plain": [
       "<matplotlib.text.Text at 0x1346f2a90>"
      ]
     },
     "execution_count": 353,
     "metadata": {},
     "output_type": "execute_result"
    },
    {
     "data": {
      "image/png": "[encoded data removed]",
      "text/plain": [
       "<matplotlib.figure.Figure at 0x133bc5240>"
      ]
     },
     "metadata": {},
     "output_type": "display_data"
    }
   ],
   "source": [
    "plt.style.use('seaborn-pastel')\n",
    "\n",
    "ax = mean_net.plot(linestyle='-', marker='o', colormap = \"Accent\")\n",
    "mean.plot(kind='bar', colormap = \"Pastel2\",\n",
    "          ax=ax,\n",
    "         figsize = (10,7))\n",
    "\n",
    "ax.set_ylim(0, 5)\n",
    "ax.set_title(\"Mean Male and Female SEL Outcomes, Organization vs. Network\")"
   ]
  },
  {
   "cell_type": "markdown",
   "metadata": {},
   "source": [
    "Looking at the mean for the organization compared to the network, we see that the students at this organization generally perform below-average on SEL indicators, except for Interpersonal Skills. If I was advising this organization, I would suggest that they distribute more resources towards enhancing their students' problem-solving skills, as well as their academic behaviors in general."
   ]
  },
  {
   "cell_type": "code",
   "execution_count": null,
   "metadata": {
    "collapsed": true
   },
   "outputs": [],
   "source": []
  }
 ],
 "metadata": {
  "kernelspec": {
   "display_name": "Python 3",
   "language": "python",
   "name": "python3"
  },
  "language_info": {
   "codemirror_mode": {
    "name": "ipython",
    "version": 3
   },
   "file_extension": ".py",
   "mimetype": "text/x-python",
   "name": "python",
   "nbconvert_exporter": "python",
   "pygments_lexer": "ipython3",
   "version": "3.5.1"
  }
 },
 "nbformat": 4,
 "nbformat_minor": 0
}
