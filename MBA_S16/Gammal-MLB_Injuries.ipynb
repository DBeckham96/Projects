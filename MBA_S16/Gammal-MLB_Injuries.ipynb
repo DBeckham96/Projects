{
 "cells": [
  {
   "cell_type": "markdown",
   "metadata": {},
   "source": [
    "# Major League Baseball's Billion Dollar Problem\n",
    "A study of MLB pitching injuries at the NYU Stern School of Business\n",
    "\n",
    "Written by Isaac Gammal (isaac.gammal@stern.nyu.edu)"
   ]
  },
  {
   "cell_type": "markdown",
   "metadata": {},
   "source": [
    "### Background \n",
    "Since the first Tommy John surgery was performed in 1974, shoulder and elbow injuries have become priority issues for players, coaches and general managers. Recovery from shoulder and elbow soft tissue injury, particularly ulnar collateral ligament (UCL) tears and glenoid labrum tears, is often slow and greuling due to the drastic nature of surgical reconstruction and intense rehabilitation required. With 112 UCL injuries requiring reconstructive surgery in the 2015 season alone, the competitive costs, and substantial economic costs, continue to rise, prompting many to investigate risk factors associate with upper extremity injuries. Some have posited an association with rising fastball velocity, pitch counts, and pitch variability, however, due to the small sample sizes, few have found statistically significant relationships. Nevertheless, many professional and amateur organizations are taking conservative approaches to developing young pitchers, encouraging them to limit pitches counts, extend rest between starts, and delay the use of off-speed pitches.\n",
    "\n",
    "### Purpose\n",
    "In the first part of this paper, I used MLB disabled list culled by [Fangraphs](http://www.fangraphs.com/) writer [Jeff Zimmerman](http://www.baseballheatmaps.com/) and salary information provided by [Spotrac](http://www.fangraphs.com/) to compute the average length of playing time lost due to injury, and economic costs from lost salary over the past five seasons. In the second part, I used [pitchf/x](http://www.fangraphs.com/library/misc/pitch-fx/) data, a pitch tracking system created by Sportvision installed in every MLB stadium, to look at pitching characteristics leading up to an injury. "
   ]
  },
  {
   "cell_type": "code",
   "execution_count": 37,
   "metadata": {
    "collapsed": true
   },
   "outputs": [],
   "source": [
    "'''Data were imported from referenced sources and stored locally'''\n",
    "\n",
    "import sys                             # system module \n",
    "import pandas as pd                    # data package\n",
    "import matplotlib.pyplot as plt        # graphics module  \n",
    "import datetime as dt                  # date and time module\n",
    "import numpy as np                     # foundation for Pandas \n",
    "import statsmodels.formula.api as smf\n",
    "\n",
    "%matplotlib inline    \n",
    "\n",
    "file1 = '/Users/isaacgammal/Desktop/Sports data/pitchers.xlsx'\n",
    "df1 = pd.read_excel(file1, usecols=[0,1,2,3,4,5,6,7,8,9,10,11,12,13]) #injured pitchers and salaries\n",
    "\n",
    "\n",
    "file2 = '/Users/isaacgammal/Downloads/fx.xlsx' #pitchf/x data for injured and healthy pitchers\n",
    "df2 = fx = pd.read_excel(file2)"
   ]
  },
  {
   "cell_type": "code",
   "execution_count": 38,
   "metadata": {
    "collapsed": false
   },
   "outputs": [
    {
     "data": {
      "text/html": [
       "<div>\n",
       "<table border=\"1\" class=\"dataframe\">\n",
       "  <thead>\n",
       "    <tr style=\"text-align: right;\">\n",
       "      <th></th>\n",
       "      <th>Name</th>\n",
       "      <th>DL type</th>\n",
       "      <th>Season</th>\n",
       "      <th>Team</th>\n",
       "      <th>Position</th>\n",
       "      <th>Position type</th>\n",
       "      <th>Location</th>\n",
       "      <th>Injury</th>\n",
       "      <th>Side</th>\n",
       "      <th>Start date</th>\n",
       "      <th>End Date</th>\n",
       "      <th>Days on DL</th>\n",
       "      <th>Salary</th>\n",
       "      <th>Injury cost</th>\n",
       "    </tr>\n",
       "  </thead>\n",
       "  <tbody>\n",
       "    <tr>\n",
       "      <th>0</th>\n",
       "      <td>A.J. Burnett</td>\n",
       "      <td>15-day</td>\n",
       "      <td>2015</td>\n",
       "      <td>Pirates</td>\n",
       "      <td>RHP</td>\n",
       "      <td>P</td>\n",
       "      <td>elbow</td>\n",
       "      <td>inflammation</td>\n",
       "      <td>right</td>\n",
       "      <td>2015-07-31 00:00:00</td>\n",
       "      <td>2015-09-10 00:00:00</td>\n",
       "      <td>41</td>\n",
       "      <td>8500000.0</td>\n",
       "      <td>1.914835e+06</td>\n",
       "    </tr>\n",
       "    <tr>\n",
       "      <th>1</th>\n",
       "      <td>A.J. Griffin</td>\n",
       "      <td>60-day</td>\n",
       "      <td>2015</td>\n",
       "      <td>Athletics</td>\n",
       "      <td>RHP</td>\n",
       "      <td>P</td>\n",
       "      <td>shoulder</td>\n",
       "      <td>strain</td>\n",
       "      <td>right</td>\n",
       "      <td>2015-09-01 00:00:00</td>\n",
       "      <td>2015-10-04 00:00:00</td>\n",
       "      <td>33</td>\n",
       "      <td>517500.0</td>\n",
       "      <td>9.383242e+04</td>\n",
       "    </tr>\n",
       "    <tr>\n",
       "      <th>2</th>\n",
       "      <td>Aaron Barrett</td>\n",
       "      <td>15-day</td>\n",
       "      <td>2015</td>\n",
       "      <td>Nationals</td>\n",
       "      <td>RHP</td>\n",
       "      <td>P</td>\n",
       "      <td>arm</td>\n",
       "      <td>strain</td>\n",
       "      <td>right</td>\n",
       "      <td>2015-06-12 00:00:00</td>\n",
       "      <td>2015-07-10 00:00:00</td>\n",
       "      <td>28</td>\n",
       "      <td>514200.0</td>\n",
       "      <td>7.910769e+04</td>\n",
       "    </tr>\n",
       "    <tr>\n",
       "      <th>3</th>\n",
       "      <td>Aaron Barrett</td>\n",
       "      <td>15-day</td>\n",
       "      <td>2015</td>\n",
       "      <td>Nationals</td>\n",
       "      <td>RHP</td>\n",
       "      <td>P</td>\n",
       "      <td>elbow</td>\n",
       "      <td>sprain</td>\n",
       "      <td>right</td>\n",
       "      <td>2015-08-06 00:00:00</td>\n",
       "      <td>2015-10-04 00:00:00</td>\n",
       "      <td>59</td>\n",
       "      <td>514200.0</td>\n",
       "      <td>1.666912e+05</td>\n",
       "    </tr>\n",
       "    <tr>\n",
       "      <th>4</th>\n",
       "      <td>Aaron Crow</td>\n",
       "      <td>15-day</td>\n",
       "      <td>2015</td>\n",
       "      <td>Marlins</td>\n",
       "      <td>RHP</td>\n",
       "      <td>P</td>\n",
       "      <td>elbow</td>\n",
       "      <td>sprain</td>\n",
       "      <td>right</td>\n",
       "      <td>42099</td>\n",
       "      <td>42281</td>\n",
       "      <td>182</td>\n",
       "      <td>1975000.0</td>\n",
       "      <td>1.975000e+06</td>\n",
       "    </tr>\n",
       "  </tbody>\n",
       "</table>\n",
       "</div>"
      ],
      "text/plain": [
       "            Name DL type  Season       Team Position Position type  Location  \\\n",
       "0   A.J. Burnett  15-day    2015    Pirates      RHP             P     elbow   \n",
       "1   A.J. Griffin  60-day    2015  Athletics      RHP             P  shoulder   \n",
       "2  Aaron Barrett  15-day    2015  Nationals      RHP             P       arm   \n",
       "3  Aaron Barrett  15-day    2015  Nationals      RHP             P     elbow   \n",
       "4     Aaron Crow  15-day    2015    Marlins      RHP             P     elbow   \n",
       "\n",
       "         Injury   Side           Start date             End Date  Days on DL  \\\n",
       "0  inflammation  right  2015-07-31 00:00:00  2015-09-10 00:00:00          41   \n",
       "1        strain  right  2015-09-01 00:00:00  2015-10-04 00:00:00          33   \n",
       "2        strain  right  2015-06-12 00:00:00  2015-07-10 00:00:00          28   \n",
       "3        sprain  right  2015-08-06 00:00:00  2015-10-04 00:00:00          59   \n",
       "4        sprain  right                42099                42281         182   \n",
       "\n",
       "      Salary   Injury cost  \n",
       "0  8500000.0  1.914835e+06  \n",
       "1   517500.0  9.383242e+04  \n",
       "2   514200.0  7.910769e+04  \n",
       "3   514200.0  1.666912e+05  \n",
       "4  1975000.0  1.975000e+06  "
      ]
     },
     "execution_count": 38,
     "metadata": {},
     "output_type": "execute_result"
    }
   ],
   "source": [
    "df1.head()"
   ]
  },
  {
   "cell_type": "code",
   "execution_count": 39,
   "metadata": {
    "collapsed": false
   },
   "outputs": [
    {
     "data": {
      "image/png": "[encoded data removed]",
      "text/plain": [
       "<matplotlib.figure.Figure at 0x117962fd0>"
      ]
     },
     "metadata": {},
     "output_type": "display_data"
    }
   ],
   "source": [
    "#compute and plot mean length of time on disabled list by season\n",
    "\n",
    "x = df1['Days on DL'].groupby(df1['Location']).mean()\n",
    "\n",
    "fig, ax = plt.subplots()\n",
    "plt.style.use('fivethirtyeight')\n",
    "x.plot(kind='barh', ax=ax, legend=False)\n",
    "ax.set_title('Time Spent on Disabled List by Injury Location', fontsize=16)\n",
    "ax.set_xlabel('Average Days on DL')\n",
    "ax.set_ylabel('Injury Location')\n",
    "ax.get_children()[4].set_color('r')\n",
    "ax.get_children()[17].set_color('r')"
   ]
  },
  {
   "cell_type": "markdown",
   "metadata": {},
   "source": [
    "The graph above plots average length of disability due to injury, broken down by injury location. Shoulder and elbow injuries are far and away the most devastating and common pitching injuries. The aggregate number of days spent on the DL due to UCL injury is 10,414, representing a staggering 31% of the total number of days for all elbow injuries, and 12% for all pitching injuries."
   ]
  },
  {
   "cell_type": "code",
   "execution_count": 40,
   "metadata": {
    "collapsed": false,
    "scrolled": true
   },
   "outputs": [
    {
     "data": {
      "image/png": "[encoded data removed]",
      "text/plain": [
       "<matplotlib.figure.Figure at 0x11a960e10>"
      ]
     },
     "metadata": {},
     "output_type": "display_data"
    }
   ],
   "source": [
    "y = df1['Salary'].groupby(df1['Location']).mean()\n",
    "fig, ax = plt.subplots(figsize=(10,6))\n",
    "plt.style.use('fivethirtyeight')\n",
    "y.plot(kind='barh', ax=ax, legend=False)\n",
    "ax.set_title('Average Sunk Salary by Injury Location', fontsize=16)\n",
    "ax.set_xlabel('Average Salary')\n",
    "ax.set_ylabel('Injury Location')\n",
    "ax.get_children()[4].set_color('r')\n",
    "ax.get_children()[17].set_color('r')"
   ]
  },
  {
   "cell_type": "markdown",
   "metadata": {},
   "source": [
    "Interestingly, despite being the most severe injuries, shoulder and elbow injuries are middle-of-the-pack in terms of lost salary (~$4,000,000). There may be several possible explanations for this finding. Perhaps pitchers with a history of these injuries are labeled as such, and then offered lower salaries in contract negotiations.  "
   ]
  },
  {
   "cell_type": "markdown",
   "metadata": {},
   "source": [
    "Next I loaded the pitchf/x database and merged with the DL database. Because the databases were divided into injured and healthy pitchers, I first separated the two and then concatenated both to get a database of all pitchers. The variables in the pitchf/x database included maximum velocity (vFA), difference between maximum and minimum velocity pitch (delta), and number of unique pitches thrown (# pitches). These variables were used as predictors and regressed against innings pitched, a contnuous variable used as a proxy for injury, and scaled up for relievers vs starters."
   ]
  },
  {
   "cell_type": "code",
   "execution_count": 56,
   "metadata": {
    "collapsed": false
   },
   "outputs": [],
   "source": [
    "fx_injured = pd.merge(df1,df2,how='left',on=['Name','Season'])\n",
    "fx_healthy = pd.read_csv('/Users/isaacgammal/Downloads/healthy.csv')\n",
    "fx = pd.concat([fx_injured,fx_healthy],axis=0)"
   ]
  },
  {
   "cell_type": "code",
   "execution_count": 57,
   "metadata": {
    "collapsed": false
   },
   "outputs": [
    {
     "data": {
      "text/html": [
       "<div>\n",
       "<table border=\"1\" class=\"dataframe\">\n",
       "  <thead>\n",
       "    <tr style=\"text-align: right;\">\n",
       "      <th></th>\n",
       "      <th>Name</th>\n",
       "      <th>DL type</th>\n",
       "      <th>Season</th>\n",
       "      <th>Team</th>\n",
       "      <th>Position</th>\n",
       "      <th>Position type</th>\n",
       "      <th>Location</th>\n",
       "      <th>Injury</th>\n",
       "      <th>Side</th>\n",
       "      <th>Start date</th>\n",
       "      <th>End Date</th>\n",
       "      <th>Days on DL</th>\n",
       "      <th>Salary</th>\n",
       "      <th>Injury cost</th>\n",
       "      <th>IP</th>\n",
       "      <th>Delta</th>\n",
       "      <th># pitches</th>\n",
       "      <th>vFA</th>\n",
       "    </tr>\n",
       "  </thead>\n",
       "  <tbody>\n",
       "    <tr>\n",
       "      <th>0</th>\n",
       "      <td>A.J. Burnett</td>\n",
       "      <td>15-day</td>\n",
       "      <td>2015</td>\n",
       "      <td>Pirates</td>\n",
       "      <td>RHP</td>\n",
       "      <td>P</td>\n",
       "      <td>elbow</td>\n",
       "      <td>inflammation</td>\n",
       "      <td>right</td>\n",
       "      <td>2015-07-31 00:00:00</td>\n",
       "      <td>2015-09-10 00:00:00</td>\n",
       "      <td>41</td>\n",
       "      <td>8500000.0</td>\n",
       "      <td>1.914835e+06</td>\n",
       "      <td>164.0</td>\n",
       "      <td>9.4</td>\n",
       "      <td>4.0</td>\n",
       "      <td>91.1</td>\n",
       "    </tr>\n",
       "    <tr>\n",
       "      <th>1</th>\n",
       "      <td>A.J. Griffin</td>\n",
       "      <td>60-day</td>\n",
       "      <td>2015</td>\n",
       "      <td>Athletics</td>\n",
       "      <td>RHP</td>\n",
       "      <td>P</td>\n",
       "      <td>shoulder</td>\n",
       "      <td>strain</td>\n",
       "      <td>right</td>\n",
       "      <td>2015-09-01 00:00:00</td>\n",
       "      <td>2015-10-04 00:00:00</td>\n",
       "      <td>33</td>\n",
       "      <td>517500.0</td>\n",
       "      <td>9.383242e+04</td>\n",
       "      <td>NaN</td>\n",
       "      <td>NaN</td>\n",
       "      <td>NaN</td>\n",
       "      <td>NaN</td>\n",
       "    </tr>\n",
       "    <tr>\n",
       "      <th>2</th>\n",
       "      <td>Aaron Barrett</td>\n",
       "      <td>15-day</td>\n",
       "      <td>2015</td>\n",
       "      <td>Nationals</td>\n",
       "      <td>RHP</td>\n",
       "      <td>P</td>\n",
       "      <td>arm</td>\n",
       "      <td>strain</td>\n",
       "      <td>right</td>\n",
       "      <td>2015-06-12 00:00:00</td>\n",
       "      <td>2015-07-10 00:00:00</td>\n",
       "      <td>28</td>\n",
       "      <td>514200.0</td>\n",
       "      <td>7.910769e+04</td>\n",
       "      <td>29.1</td>\n",
       "      <td>8.7</td>\n",
       "      <td>4.0</td>\n",
       "      <td>94.1</td>\n",
       "    </tr>\n",
       "    <tr>\n",
       "      <th>3</th>\n",
       "      <td>Aaron Barrett</td>\n",
       "      <td>15-day</td>\n",
       "      <td>2015</td>\n",
       "      <td>Nationals</td>\n",
       "      <td>RHP</td>\n",
       "      <td>P</td>\n",
       "      <td>elbow</td>\n",
       "      <td>sprain</td>\n",
       "      <td>right</td>\n",
       "      <td>2015-08-06 00:00:00</td>\n",
       "      <td>2015-10-04 00:00:00</td>\n",
       "      <td>59</td>\n",
       "      <td>514200.0</td>\n",
       "      <td>1.666912e+05</td>\n",
       "      <td>29.1</td>\n",
       "      <td>8.7</td>\n",
       "      <td>4.0</td>\n",
       "      <td>94.1</td>\n",
       "    </tr>\n",
       "    <tr>\n",
       "      <th>4</th>\n",
       "      <td>Aaron Crow</td>\n",
       "      <td>15-day</td>\n",
       "      <td>2015</td>\n",
       "      <td>Marlins</td>\n",
       "      <td>RHP</td>\n",
       "      <td>P</td>\n",
       "      <td>elbow</td>\n",
       "      <td>sprain</td>\n",
       "      <td>right</td>\n",
       "      <td>42099</td>\n",
       "      <td>42281</td>\n",
       "      <td>182</td>\n",
       "      <td>1975000.0</td>\n",
       "      <td>1.975000e+06</td>\n",
       "      <td>NaN</td>\n",
       "      <td>NaN</td>\n",
       "      <td>NaN</td>\n",
       "      <td>NaN</td>\n",
       "    </tr>\n",
       "  </tbody>\n",
       "</table>\n",
       "</div>"
      ],
      "text/plain": [
       "            Name DL type  Season       Team Position Position type  Location  \\\n",
       "0   A.J. Burnett  15-day    2015    Pirates      RHP             P     elbow   \n",
       "1   A.J. Griffin  60-day    2015  Athletics      RHP             P  shoulder   \n",
       "2  Aaron Barrett  15-day    2015  Nationals      RHP             P       arm   \n",
       "3  Aaron Barrett  15-day    2015  Nationals      RHP             P     elbow   \n",
       "4     Aaron Crow  15-day    2015    Marlins      RHP             P     elbow   \n",
       "\n",
       "         Injury   Side           Start date             End Date  Days on DL  \\\n",
       "0  inflammation  right  2015-07-31 00:00:00  2015-09-10 00:00:00          41   \n",
       "1        strain  right  2015-09-01 00:00:00  2015-10-04 00:00:00          33   \n",
       "2        strain  right  2015-06-12 00:00:00  2015-07-10 00:00:00          28   \n",
       "3        sprain  right  2015-08-06 00:00:00  2015-10-04 00:00:00          59   \n",
       "4        sprain  right                42099                42281         182   \n",
       "\n",
       "      Salary   Injury cost     IP  Delta  # pitches   vFA  \n",
       "0  8500000.0  1.914835e+06  164.0    9.4        4.0  91.1  \n",
       "1   517500.0  9.383242e+04    NaN    NaN        NaN   NaN  \n",
       "2   514200.0  7.910769e+04   29.1    8.7        4.0  94.1  \n",
       "3   514200.0  1.666912e+05   29.1    8.7        4.0  94.1  \n",
       "4  1975000.0  1.975000e+06    NaN    NaN        NaN   NaN  "
      ]
     },
     "execution_count": 57,
     "metadata": {},
     "output_type": "execute_result"
    }
   ],
   "source": [
    "fx.head()"
   ]
  },
  {
   "cell_type": "code",
   "execution_count": 58,
   "metadata": {
    "collapsed": false
   },
   "outputs": [
    {
     "data": {
      "text/html": [
       "<table class=\"simpletable\">\n",
       "<caption>OLS Regression Results</caption>\n",
       "<tr>\n",
       "  <th>Dep. Variable:</th>           <td>vFA</td>       <th>  R-squared:         </th> <td>   0.000</td> \n",
       "</tr>\n",
       "<tr>\n",
       "  <th>Model:</th>                   <td>OLS</td>       <th>  Adj. R-squared:    </th> <td>  -0.000</td> \n",
       "</tr>\n",
       "<tr>\n",
       "  <th>Method:</th>             <td>Least Squares</td>  <th>  F-statistic:       </th> <td>0.007430</td> \n",
       "</tr>\n",
       "<tr>\n",
       "  <th>Date:</th>             <td>Fri, 13 May 2016</td> <th>  Prob (F-statistic):</th>  <td> 0.931</td>  \n",
       "</tr>\n",
       "<tr>\n",
       "  <th>Time:</th>                 <td>16:52:39</td>     <th>  Log-Likelihood:    </th> <td> -5568.4</td> \n",
       "</tr>\n",
       "<tr>\n",
       "  <th>No. Observations:</th>      <td>  2313</td>      <th>  AIC:               </th> <td>1.114e+04</td>\n",
       "</tr>\n",
       "<tr>\n",
       "  <th>Df Residuals:</th>          <td>  2311</td>      <th>  BIC:               </th> <td>1.115e+04</td>\n",
       "</tr>\n",
       "<tr>\n",
       "  <th>Df Model:</th>              <td>     1</td>      <th>                     </th>     <td> </td>    \n",
       "</tr>\n",
       "<tr>\n",
       "  <th>Covariance Type:</th>      <td>nonrobust</td>    <th>                     </th>     <td> </td>    \n",
       "</tr>\n",
       "</table>\n",
       "<table class=\"simpletable\">\n",
       "<tr>\n",
       "      <td></td>         <th>coef</th>     <th>std err</th>      <th>t</th>      <th>P>|t|</th> <th>[95.0% Conf. Int.]</th> \n",
       "</tr>\n",
       "<tr>\n",
       "  <th>Intercept</th> <td>   91.3715</td> <td>    0.079</td> <td> 1156.211</td> <td> 0.000</td> <td>   91.217    91.526</td>\n",
       "</tr>\n",
       "<tr>\n",
       "  <th>IP</th>        <td> -8.68e-05</td> <td>    0.001</td> <td>   -0.086</td> <td> 0.931</td> <td>   -0.002     0.002</td>\n",
       "</tr>\n",
       "</table>\n",
       "<table class=\"simpletable\">\n",
       "<tr>\n",
       "  <th>Omnibus:</th>       <td>148.360</td> <th>  Durbin-Watson:     </th> <td>   0.763</td>\n",
       "</tr>\n",
       "<tr>\n",
       "  <th>Prob(Omnibus):</th> <td> 0.000</td>  <th>  Jarque-Bera (JB):  </th> <td> 258.690</td>\n",
       "</tr>\n",
       "<tr>\n",
       "  <th>Skew:</th>          <td>-0.480</td>  <th>  Prob(JB):          </th> <td>6.70e-57</td>\n",
       "</tr>\n",
       "<tr>\n",
       "  <th>Kurtosis:</th>      <td> 4.327</td>  <th>  Cond. No.          </th> <td>    111.</td>\n",
       "</tr>\n",
       "</table>"
      ],
      "text/plain": [
       "<class 'statsmodels.iolib.summary.Summary'>\n",
       "\"\"\"\n",
       "                            OLS Regression Results                            \n",
       "==============================================================================\n",
       "Dep. Variable:                    vFA   R-squared:                       0.000\n",
       "Model:                            OLS   Adj. R-squared:                 -0.000\n",
       "Method:                 Least Squares   F-statistic:                  0.007430\n",
       "Date:                Fri, 13 May 2016   Prob (F-statistic):              0.931\n",
       "Time:                        16:52:39   Log-Likelihood:                -5568.4\n",
       "No. Observations:                2313   AIC:                         1.114e+04\n",
       "Df Residuals:                    2311   BIC:                         1.115e+04\n",
       "Df Model:                           1                                         \n",
       "Covariance Type:            nonrobust                                         \n",
       "==============================================================================\n",
       "                 coef    std err          t      P>|t|      [95.0% Conf. Int.]\n",
       "------------------------------------------------------------------------------\n",
       "Intercept     91.3715      0.079   1156.211      0.000        91.217    91.526\n",
       "IP          -8.68e-05      0.001     -0.086      0.931        -0.002     0.002\n",
       "==============================================================================\n",
       "Omnibus:                      148.360   Durbin-Watson:                   0.763\n",
       "Prob(Omnibus):                  0.000   Jarque-Bera (JB):              258.690\n",
       "Skew:                          -0.480   Prob(JB):                     6.70e-57\n",
       "Kurtosis:                       4.327   Cond. No.                         111.\n",
       "==============================================================================\n",
       "\n",
       "Warnings:\n",
       "[1] Standard Errors assume that the covariance matrix of the errors is correctly specified.\n",
       "\"\"\""
      ]
     },
     "execution_count": 58,
     "metadata": {},
     "output_type": "execute_result"
    }
   ],
   "source": [
    "lm = smf.ols(formula='vFA ~ IP', data=fx).fit()\n",
    "lm.params\n",
    "lm.summary()"
   ]
  },
  {
   "cell_type": "code",
   "execution_count": 59,
   "metadata": {
    "collapsed": false
   },
   "outputs": [
    {
     "data": {
      "text/html": [
       "<table class=\"simpletable\">\n",
       "<caption>OLS Regression Results</caption>\n",
       "<tr>\n",
       "  <th>Dep. Variable:</th>          <td>Delta</td>      <th>  R-squared:         </th> <td>   0.037</td> \n",
       "</tr>\n",
       "<tr>\n",
       "  <th>Model:</th>                   <td>OLS</td>       <th>  Adj. R-squared:    </th> <td>   0.037</td> \n",
       "</tr>\n",
       "<tr>\n",
       "  <th>Method:</th>             <td>Least Squares</td>  <th>  F-statistic:       </th> <td>   94.58</td> \n",
       "</tr>\n",
       "<tr>\n",
       "  <th>Date:</th>             <td>Fri, 13 May 2016</td> <th>  Prob (F-statistic):</th> <td>5.85e-22</td> \n",
       "</tr>\n",
       "<tr>\n",
       "  <th>Time:</th>                 <td>16:52:55</td>     <th>  Log-Likelihood:    </th> <td> -6755.5</td> \n",
       "</tr>\n",
       "<tr>\n",
       "  <th>No. Observations:</th>      <td>  2447</td>      <th>  AIC:               </th> <td>1.351e+04</td>\n",
       "</tr>\n",
       "<tr>\n",
       "  <th>Df Residuals:</th>          <td>  2445</td>      <th>  BIC:               </th> <td>1.353e+04</td>\n",
       "</tr>\n",
       "<tr>\n",
       "  <th>Df Model:</th>              <td>     1</td>      <th>                     </th>     <td> </td>    \n",
       "</tr>\n",
       "<tr>\n",
       "  <th>Covariance Type:</th>      <td>nonrobust</td>    <th>                     </th>     <td> </td>    \n",
       "</tr>\n",
       "</table>\n",
       "<table class=\"simpletable\">\n",
       "<tr>\n",
       "      <td></td>         <th>coef</th>     <th>std err</th>      <th>t</th>      <th>P>|t|</th> <th>[95.0% Conf. Int.]</th> \n",
       "</tr>\n",
       "<tr>\n",
       "  <th>Intercept</th> <td>   11.9136</td> <td>    0.108</td> <td>  109.852</td> <td> 0.000</td> <td>   11.701    12.126</td>\n",
       "</tr>\n",
       "<tr>\n",
       "  <th>IP</th>        <td>    0.0137</td> <td>    0.001</td> <td>    9.725</td> <td> 0.000</td> <td>    0.011     0.016</td>\n",
       "</tr>\n",
       "</table>\n",
       "<table class=\"simpletable\">\n",
       "<tr>\n",
       "  <th>Omnibus:</th>       <td>346.478</td> <th>  Durbin-Watson:     </th> <td>   1.865</td>\n",
       "</tr>\n",
       "<tr>\n",
       "  <th>Prob(Omnibus):</th> <td> 0.000</td>  <th>  Jarque-Bera (JB):  </th> <td>1543.344</td>\n",
       "</tr>\n",
       "<tr>\n",
       "  <th>Skew:</th>          <td> 0.613</td>  <th>  Prob(JB):          </th> <td>    0.00</td>\n",
       "</tr>\n",
       "<tr>\n",
       "  <th>Kurtosis:</th>      <td> 6.693</td>  <th>  Cond. No.          </th> <td>    108.</td>\n",
       "</tr>\n",
       "</table>"
      ],
      "text/plain": [
       "<class 'statsmodels.iolib.summary.Summary'>\n",
       "\"\"\"\n",
       "                            OLS Regression Results                            \n",
       "==============================================================================\n",
       "Dep. Variable:                  Delta   R-squared:                       0.037\n",
       "Model:                            OLS   Adj. R-squared:                  0.037\n",
       "Method:                 Least Squares   F-statistic:                     94.58\n",
       "Date:                Fri, 13 May 2016   Prob (F-statistic):           5.85e-22\n",
       "Time:                        16:52:55   Log-Likelihood:                -6755.5\n",
       "No. Observations:                2447   AIC:                         1.351e+04\n",
       "Df Residuals:                    2445   BIC:                         1.353e+04\n",
       "Df Model:                           1                                         \n",
       "Covariance Type:            nonrobust                                         \n",
       "==============================================================================\n",
       "                 coef    std err          t      P>|t|      [95.0% Conf. Int.]\n",
       "------------------------------------------------------------------------------\n",
       "Intercept     11.9136      0.108    109.852      0.000        11.701    12.126\n",
       "IP             0.0137      0.001      9.725      0.000         0.011     0.016\n",
       "==============================================================================\n",
       "Omnibus:                      346.478   Durbin-Watson:                   1.865\n",
       "Prob(Omnibus):                  0.000   Jarque-Bera (JB):             1543.344\n",
       "Skew:                           0.613   Prob(JB):                         0.00\n",
       "Kurtosis:                       6.693   Cond. No.                         108.\n",
       "==============================================================================\n",
       "\n",
       "Warnings:\n",
       "[1] Standard Errors assume that the covariance matrix of the errors is correctly specified.\n",
       "\"\"\""
      ]
     },
     "execution_count": 59,
     "metadata": {},
     "output_type": "execute_result"
    }
   ],
   "source": [
    "lm2 = smf.ols(formula='Delta ~ IP', data=fx).fit()\n",
    "lm2.params\n",
    "lm2.summary()"
   ]
  },
  {
   "cell_type": "markdown",
   "metadata": {},
   "source": [
    "Regressing max velocity and delta against innings pitches did not yield accurate results. The R^2 is low in both models, however, delta against innings pitches revealed a positive signifcant relationship, indicating that pitchers who vary speeds are more likely to avoid injury."
   ]
  },
  {
   "cell_type": "markdown",
   "metadata": {},
   "source": [
    "## Conclusion\n",
    "Pitching injuries are widespread and contributed to nearly $1.4 billion dollars in lost salary over the past 5 seasons. Despite the ubiquity of these injuries, we are still limited in our knowledge of associated risk factors. Further work should focus on developing models to predict pitching injuries, before we can implement effective preventative measures. "
   ]
  },
  {
   "cell_type": "code",
   "execution_count": null,
   "metadata": {
    "collapsed": true
   },
   "outputs": [],
   "source": []
  }
 ],
 "metadata": {
  "kernelspec": {
   "display_name": "Python 3",
   "language": "python",
   "name": "python3"
  },
  "language_info": {
   "codemirror_mode": {
    "name": "ipython",
    "version": 3
   },
   "file_extension": ".py",
   "mimetype": "text/x-python",
   "name": "python",
   "nbconvert_exporter": "python",
   "pygments_lexer": "ipython3",
   "version": "3.5.1"
  }
 },
 "nbformat": 4,
 "nbformat_minor": 0
}
