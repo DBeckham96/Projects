{
 "cells": [
  {
   "cell_type": "markdown",
   "metadata": {},
   "source": [
    "# “The Steroid Era” in Major League Baseball: A Look at the statistics\n",
    "\n",
    "\n",
    "May 2016\n",
    "\n",
    "Written by Anthony Riccio at NYU Stern \n",
    "\n",
    "Contact: ajr587@stern.nyu.edu\n",
    "\n",
    "\n",
    "## Overview\n",
    "\n",
    "Mark McGwire & Sammy Sosa, the two names that come to mind I think about the steroid era in Major League Baseball (MLB). The steroid era refers to a period of time in the MLB where a number of players were believed to have used performance enhancing drugs (PEDs) to improve offensive performance.  David Wells stated that “25 to 40 percent of all Major Leaguers used PEDs.” Jose Canseco stated in his tell-all book ‘Juiced’ that as many as 80 percent of Major Leaguers used PEDs.\n",
    "\n",
    "Although steroids where banned in the MLB in 1991, the league did not implement league wide testing until 2003.  The steroid era is generally considered to have run from the late ‘80s through the late 2000s. The one thing that baseball has a lot of is data, so I wanted to take a deeper drive into to offensive statistics around baseball in what was considered the steroid era and see if I can draw any conclusions based on the data.\n",
    "\n"
   ]
  },
  {
   "cell_type": "code",
   "execution_count": 29,
   "metadata": {
    "collapsed": false
   },
   "outputs": [
    {
     "name": "stdout",
     "output_type": "stream",
     "text": [
      "Python version: 3.5.1 |Anaconda 2.4.1 (64-bit)| (default, Feb 16 2016, 09:49:46) [MSC v.1900 64 bit (AMD64)]\n",
      "Pandas version:  0.18.0\n",
      "Today:  2016-05-10\n"
     ]
    }
   ],
   "source": [
    "import sys                             # system module \n",
    "import pandas as pd                    # data package\n",
    "import matplotlib.pyplot as plt        # graphics module  \n",
    "import datetime as dt                  # date and time module\n",
    "import numpy as np                     # foundation for Pandas \n",
    "\n",
    "%matplotlib inline                     \n",
    "\n",
    "# check versions\n",
    "print('Python version:', sys.version)\n",
    "print('Pandas version: ', pd.__version__)\n",
    "print('Today: ', dt.date.today())\n",
    "\n",
    "    "
   ]
  },
  {
   "cell_type": "markdown",
   "metadata": {},
   "source": [
    "**Packages Imported**\n",
    "\n",
    "I imported pandas, a Python package that allows for data manipulation and analysis; Matplotlib.pyplot for graphing; Numpy for scientific computing "
   ]
  },
  {
   "cell_type": "markdown",
   "metadata": {},
   "source": [
    "## Creating the Data Set\n",
    "\n",
    "I wanted to get a data set with an extensive amount of baseball statistics on the most common offensive statistics (i.e. Home Runs, Hits) but also in a format the I can break down into easily managable pieces.\n",
    "\n",
    "After some research, I stumbled upon Sean Lahman's archive of baseball statistics (http://www.seanlahman.com/baseball-archive/statistics/)\n",
    "\n",
    "This is the data set I will be using for my project.\n"
   ]
  },
  {
   "cell_type": "code",
   "execution_count": 2,
   "metadata": {
    "collapsed": false
   },
   "outputs": [
    {
     "data": {
      "text/html": [
       "<div>\n",
       "<table border=\"1\" class=\"dataframe\">\n",
       "  <thead>\n",
       "    <tr style=\"text-align: right;\">\n",
       "      <th></th>\n",
       "      <th>playerID</th>\n",
       "      <th>yearID</th>\n",
       "      <th>stint</th>\n",
       "      <th>teamID</th>\n",
       "      <th>lgID</th>\n",
       "      <th>G</th>\n",
       "      <th>G_batting</th>\n",
       "      <th>AB</th>\n",
       "      <th>R</th>\n",
       "      <th>H</th>\n",
       "      <th>...</th>\n",
       "      <th>SB</th>\n",
       "      <th>CS</th>\n",
       "      <th>BB</th>\n",
       "      <th>SO</th>\n",
       "      <th>IBB</th>\n",
       "      <th>HBP</th>\n",
       "      <th>SH</th>\n",
       "      <th>SF</th>\n",
       "      <th>GIDP</th>\n",
       "      <th>G_old</th>\n",
       "    </tr>\n",
       "  </thead>\n",
       "  <tbody>\n",
       "    <tr>\n",
       "      <th>0</th>\n",
       "      <td>aardsda01</td>\n",
       "      <td>2004</td>\n",
       "      <td>1</td>\n",
       "      <td>SFN</td>\n",
       "      <td>NL</td>\n",
       "      <td>11</td>\n",
       "      <td>11</td>\n",
       "      <td>0.0</td>\n",
       "      <td>0.0</td>\n",
       "      <td>0.0</td>\n",
       "      <td>...</td>\n",
       "      <td>0.0</td>\n",
       "      <td>0.0</td>\n",
       "      <td>0.0</td>\n",
       "      <td>0.0</td>\n",
       "      <td>0.0</td>\n",
       "      <td>0.0</td>\n",
       "      <td>0.0</td>\n",
       "      <td>0.0</td>\n",
       "      <td>0.0</td>\n",
       "      <td>11.0</td>\n",
       "    </tr>\n",
       "    <tr>\n",
       "      <th>1</th>\n",
       "      <td>aardsda01</td>\n",
       "      <td>2006</td>\n",
       "      <td>1</td>\n",
       "      <td>CHN</td>\n",
       "      <td>NL</td>\n",
       "      <td>45</td>\n",
       "      <td>43</td>\n",
       "      <td>2.0</td>\n",
       "      <td>0.0</td>\n",
       "      <td>0.0</td>\n",
       "      <td>...</td>\n",
       "      <td>0.0</td>\n",
       "      <td>0.0</td>\n",
       "      <td>0.0</td>\n",
       "      <td>0.0</td>\n",
       "      <td>0.0</td>\n",
       "      <td>0.0</td>\n",
       "      <td>1.0</td>\n",
       "      <td>0.0</td>\n",
       "      <td>0.0</td>\n",
       "      <td>45.0</td>\n",
       "    </tr>\n",
       "    <tr>\n",
       "      <th>2</th>\n",
       "      <td>aardsda01</td>\n",
       "      <td>2007</td>\n",
       "      <td>1</td>\n",
       "      <td>CHA</td>\n",
       "      <td>AL</td>\n",
       "      <td>25</td>\n",
       "      <td>2</td>\n",
       "      <td>0.0</td>\n",
       "      <td>0.0</td>\n",
       "      <td>0.0</td>\n",
       "      <td>...</td>\n",
       "      <td>0.0</td>\n",
       "      <td>0.0</td>\n",
       "      <td>0.0</td>\n",
       "      <td>0.0</td>\n",
       "      <td>0.0</td>\n",
       "      <td>0.0</td>\n",
       "      <td>0.0</td>\n",
       "      <td>0.0</td>\n",
       "      <td>0.0</td>\n",
       "      <td>2.0</td>\n",
       "    </tr>\n",
       "    <tr>\n",
       "      <th>3</th>\n",
       "      <td>aardsda01</td>\n",
       "      <td>2008</td>\n",
       "      <td>1</td>\n",
       "      <td>BOS</td>\n",
       "      <td>AL</td>\n",
       "      <td>47</td>\n",
       "      <td>5</td>\n",
       "      <td>1.0</td>\n",
       "      <td>0.0</td>\n",
       "      <td>0.0</td>\n",
       "      <td>...</td>\n",
       "      <td>0.0</td>\n",
       "      <td>0.0</td>\n",
       "      <td>0.0</td>\n",
       "      <td>1.0</td>\n",
       "      <td>0.0</td>\n",
       "      <td>0.0</td>\n",
       "      <td>0.0</td>\n",
       "      <td>0.0</td>\n",
       "      <td>0.0</td>\n",
       "      <td>5.0</td>\n",
       "    </tr>\n",
       "    <tr>\n",
       "      <th>4</th>\n",
       "      <td>aardsda01</td>\n",
       "      <td>2009</td>\n",
       "      <td>1</td>\n",
       "      <td>SEA</td>\n",
       "      <td>AL</td>\n",
       "      <td>73</td>\n",
       "      <td>3</td>\n",
       "      <td>0.0</td>\n",
       "      <td>0.0</td>\n",
       "      <td>0.0</td>\n",
       "      <td>...</td>\n",
       "      <td>0.0</td>\n",
       "      <td>0.0</td>\n",
       "      <td>0.0</td>\n",
       "      <td>0.0</td>\n",
       "      <td>0.0</td>\n",
       "      <td>0.0</td>\n",
       "      <td>0.0</td>\n",
       "      <td>0.0</td>\n",
       "      <td>0.0</td>\n",
       "      <td>NaN</td>\n",
       "    </tr>\n",
       "  </tbody>\n",
       "</table>\n",
       "<p>5 rows × 24 columns</p>\n",
       "</div>"
      ],
      "text/plain": [
       "    playerID  yearID  stint teamID lgID   G  G_batting   AB    R    H  ...    \\\n",
       "0  aardsda01    2004      1    SFN   NL  11         11  0.0  0.0  0.0  ...     \n",
       "1  aardsda01    2006      1    CHN   NL  45         43  2.0  0.0  0.0  ...     \n",
       "2  aardsda01    2007      1    CHA   AL  25          2  0.0  0.0  0.0  ...     \n",
       "3  aardsda01    2008      1    BOS   AL  47          5  1.0  0.0  0.0  ...     \n",
       "4  aardsda01    2009      1    SEA   AL  73          3  0.0  0.0  0.0  ...     \n",
       "\n",
       "    SB   CS   BB   SO  IBB  HBP   SH   SF  GIDP  G_old  \n",
       "0  0.0  0.0  0.0  0.0  0.0  0.0  0.0  0.0   0.0   11.0  \n",
       "1  0.0  0.0  0.0  0.0  0.0  0.0  1.0  0.0   0.0   45.0  \n",
       "2  0.0  0.0  0.0  0.0  0.0  0.0  0.0  0.0   0.0    2.0  \n",
       "3  0.0  0.0  0.0  1.0  0.0  0.0  0.0  0.0   0.0    5.0  \n",
       "4  0.0  0.0  0.0  0.0  0.0  0.0  0.0  0.0   0.0    NaN  \n",
       "\n",
       "[5 rows x 24 columns]"
      ]
     },
     "execution_count": 2,
     "metadata": {},
     "output_type": "execute_result"
    }
   ],
   "source": [
    "url = 'https://raw.githubusercontent.com/maxtoki/baseball_R/master/data/Batting.csv' # importing our data\n",
    "bs = pd.read_csv(url)\n",
    "bs.head() # taking a look at the data "
   ]
  },
  {
   "cell_type": "code",
   "execution_count": 3,
   "metadata": {
    "collapsed": false
   },
   "outputs": [
    {
     "name": "stdout",
     "output_type": "stream",
     "text": [
      "Dimensions:  (95195, 24)\n",
      "Column labels:  Index(['playerID', 'yearID', 'stint', 'teamID', 'lgID', 'G', 'G_batting', 'AB',\n",
      "       'R', 'H', '2B', '3B', 'HR', 'RBI', 'SB', 'CS', 'BB', 'SO', 'IBB', 'HBP',\n",
      "       'SH', 'SF', 'GIDP', 'G_old'],\n",
      "      dtype='object')\n",
      "Row labels:  RangeIndex(start=0, stop=95195, step=1)\n"
     ]
    }
   ],
   "source": [
    "print('Dimensions: ', bs.shape)  # looking at the categories I can work with\n",
    "print('Column labels: ', bs.columns)\n",
    "print('Row labels: ', bs.index)"
   ]
  },
  {
   "cell_type": "code",
   "execution_count": 4,
   "metadata": {
    "collapsed": false
   },
   "outputs": [
    {
     "data": {
      "text/html": [
       "<div>\n",
       "<table border=\"1\" class=\"dataframe\">\n",
       "  <thead>\n",
       "    <tr style=\"text-align: right;\">\n",
       "      <th></th>\n",
       "      <th>playerID</th>\n",
       "      <th>Year</th>\n",
       "      <th>stint</th>\n",
       "      <th>teamID</th>\n",
       "      <th>lgID</th>\n",
       "      <th>G</th>\n",
       "      <th>G_batting</th>\n",
       "      <th>AB</th>\n",
       "      <th>R</th>\n",
       "      <th>H</th>\n",
       "      <th>...</th>\n",
       "      <th>SB</th>\n",
       "      <th>CS</th>\n",
       "      <th>BB</th>\n",
       "      <th>SO</th>\n",
       "      <th>IBB</th>\n",
       "      <th>HBP</th>\n",
       "      <th>SH</th>\n",
       "      <th>SF</th>\n",
       "      <th>GIDP</th>\n",
       "      <th>G_old</th>\n",
       "    </tr>\n",
       "  </thead>\n",
       "  <tbody>\n",
       "    <tr>\n",
       "      <th>0</th>\n",
       "      <td>aardsda01</td>\n",
       "      <td>2004</td>\n",
       "      <td>1</td>\n",
       "      <td>SFN</td>\n",
       "      <td>NL</td>\n",
       "      <td>11</td>\n",
       "      <td>11</td>\n",
       "      <td>0.0</td>\n",
       "      <td>0.0</td>\n",
       "      <td>0.0</td>\n",
       "      <td>...</td>\n",
       "      <td>0.0</td>\n",
       "      <td>0.0</td>\n",
       "      <td>0.0</td>\n",
       "      <td>0.0</td>\n",
       "      <td>0.0</td>\n",
       "      <td>0.0</td>\n",
       "      <td>0.0</td>\n",
       "      <td>0.0</td>\n",
       "      <td>0.0</td>\n",
       "      <td>11.0</td>\n",
       "    </tr>\n",
       "    <tr>\n",
       "      <th>1</th>\n",
       "      <td>aardsda01</td>\n",
       "      <td>2006</td>\n",
       "      <td>1</td>\n",
       "      <td>CHN</td>\n",
       "      <td>NL</td>\n",
       "      <td>45</td>\n",
       "      <td>43</td>\n",
       "      <td>2.0</td>\n",
       "      <td>0.0</td>\n",
       "      <td>0.0</td>\n",
       "      <td>...</td>\n",
       "      <td>0.0</td>\n",
       "      <td>0.0</td>\n",
       "      <td>0.0</td>\n",
       "      <td>0.0</td>\n",
       "      <td>0.0</td>\n",
       "      <td>0.0</td>\n",
       "      <td>1.0</td>\n",
       "      <td>0.0</td>\n",
       "      <td>0.0</td>\n",
       "      <td>45.0</td>\n",
       "    </tr>\n",
       "  </tbody>\n",
       "</table>\n",
       "<p>2 rows × 24 columns</p>\n",
       "</div>"
      ],
      "text/plain": [
       "    playerID  Year  stint teamID lgID   G  G_batting   AB    R    H  ...    \\\n",
       "0  aardsda01  2004      1    SFN   NL  11         11  0.0  0.0  0.0  ...     \n",
       "1  aardsda01  2006      1    CHN   NL  45         43  2.0  0.0  0.0  ...     \n",
       "\n",
       "    SB   CS   BB   SO  IBB  HBP   SH   SF  GIDP  G_old  \n",
       "0  0.0  0.0  0.0  0.0  0.0  0.0  0.0  0.0   0.0   11.0  \n",
       "1  0.0  0.0  0.0  0.0  0.0  0.0  1.0  0.0   0.0   45.0  \n",
       "\n",
       "[2 rows x 24 columns]"
      ]
     },
     "execution_count": 4,
     "metadata": {},
     "output_type": "execute_result"
    }
   ],
   "source": [
    "names = list(bs) # Changing the year label\n",
    "bs = bs.rename(columns={names[1]: 'Year'})\n",
    "bs.head(2)"
   ]
  },
  {
   "cell_type": "code",
   "execution_count": 5,
   "metadata": {
    "collapsed": false
   },
   "outputs": [
    {
     "data": {
      "text/html": [
       "<div>\n",
       "<table border=\"1\" class=\"dataframe\">\n",
       "  <thead>\n",
       "    <tr style=\"text-align: right;\">\n",
       "      <th></th>\n",
       "      <th>playerID</th>\n",
       "      <th>Year</th>\n",
       "      <th>stint</th>\n",
       "      <th>teamID</th>\n",
       "      <th>lgID</th>\n",
       "      <th>G</th>\n",
       "      <th>G_batting</th>\n",
       "      <th>AB</th>\n",
       "      <th>R</th>\n",
       "      <th>H</th>\n",
       "      <th>...</th>\n",
       "      <th>SB</th>\n",
       "      <th>CS</th>\n",
       "      <th>BB</th>\n",
       "      <th>SO</th>\n",
       "      <th>IBB</th>\n",
       "      <th>HBP</th>\n",
       "      <th>SH</th>\n",
       "      <th>SF</th>\n",
       "      <th>GIDP</th>\n",
       "      <th>G_old</th>\n",
       "    </tr>\n",
       "  </thead>\n",
       "  <tbody>\n",
       "    <tr>\n",
       "      <th>0</th>\n",
       "      <td>aardsda01</td>\n",
       "      <td>2004</td>\n",
       "      <td>1</td>\n",
       "      <td>SFN</td>\n",
       "      <td>NL</td>\n",
       "      <td>11</td>\n",
       "      <td>11</td>\n",
       "      <td>0.0</td>\n",
       "      <td>0.0</td>\n",
       "      <td>0.0</td>\n",
       "      <td>...</td>\n",
       "      <td>0.0</td>\n",
       "      <td>0.0</td>\n",
       "      <td>0.0</td>\n",
       "      <td>0.0</td>\n",
       "      <td>0.0</td>\n",
       "      <td>0.0</td>\n",
       "      <td>0.0</td>\n",
       "      <td>0.0</td>\n",
       "      <td>0.0</td>\n",
       "      <td>11.0</td>\n",
       "    </tr>\n",
       "    <tr>\n",
       "      <th>1</th>\n",
       "      <td>aardsda01</td>\n",
       "      <td>2006</td>\n",
       "      <td>1</td>\n",
       "      <td>CHN</td>\n",
       "      <td>NL</td>\n",
       "      <td>45</td>\n",
       "      <td>43</td>\n",
       "      <td>2.0</td>\n",
       "      <td>0.0</td>\n",
       "      <td>0.0</td>\n",
       "      <td>...</td>\n",
       "      <td>0.0</td>\n",
       "      <td>0.0</td>\n",
       "      <td>0.0</td>\n",
       "      <td>0.0</td>\n",
       "      <td>0.0</td>\n",
       "      <td>0.0</td>\n",
       "      <td>1.0</td>\n",
       "      <td>0.0</td>\n",
       "      <td>0.0</td>\n",
       "      <td>45.0</td>\n",
       "    </tr>\n",
       "    <tr>\n",
       "      <th>2</th>\n",
       "      <td>aardsda01</td>\n",
       "      <td>2007</td>\n",
       "      <td>1</td>\n",
       "      <td>CHA</td>\n",
       "      <td>AL</td>\n",
       "      <td>25</td>\n",
       "      <td>2</td>\n",
       "      <td>0.0</td>\n",
       "      <td>0.0</td>\n",
       "      <td>0.0</td>\n",
       "      <td>...</td>\n",
       "      <td>0.0</td>\n",
       "      <td>0.0</td>\n",
       "      <td>0.0</td>\n",
       "      <td>0.0</td>\n",
       "      <td>0.0</td>\n",
       "      <td>0.0</td>\n",
       "      <td>0.0</td>\n",
       "      <td>0.0</td>\n",
       "      <td>0.0</td>\n",
       "      <td>2.0</td>\n",
       "    </tr>\n",
       "    <tr>\n",
       "      <th>3</th>\n",
       "      <td>aardsda01</td>\n",
       "      <td>2008</td>\n",
       "      <td>1</td>\n",
       "      <td>BOS</td>\n",
       "      <td>AL</td>\n",
       "      <td>47</td>\n",
       "      <td>5</td>\n",
       "      <td>1.0</td>\n",
       "      <td>0.0</td>\n",
       "      <td>0.0</td>\n",
       "      <td>...</td>\n",
       "      <td>0.0</td>\n",
       "      <td>0.0</td>\n",
       "      <td>0.0</td>\n",
       "      <td>1.0</td>\n",
       "      <td>0.0</td>\n",
       "      <td>0.0</td>\n",
       "      <td>0.0</td>\n",
       "      <td>0.0</td>\n",
       "      <td>0.0</td>\n",
       "      <td>5.0</td>\n",
       "    </tr>\n",
       "    <tr>\n",
       "      <th>4</th>\n",
       "      <td>aardsda01</td>\n",
       "      <td>2009</td>\n",
       "      <td>1</td>\n",
       "      <td>SEA</td>\n",
       "      <td>AL</td>\n",
       "      <td>73</td>\n",
       "      <td>3</td>\n",
       "      <td>0.0</td>\n",
       "      <td>0.0</td>\n",
       "      <td>0.0</td>\n",
       "      <td>...</td>\n",
       "      <td>0.0</td>\n",
       "      <td>0.0</td>\n",
       "      <td>0.0</td>\n",
       "      <td>0.0</td>\n",
       "      <td>0.0</td>\n",
       "      <td>0.0</td>\n",
       "      <td>0.0</td>\n",
       "      <td>0.0</td>\n",
       "      <td>0.0</td>\n",
       "      <td>NaN</td>\n",
       "    </tr>\n",
       "  </tbody>\n",
       "</table>\n",
       "<p>5 rows × 24 columns</p>\n",
       "</div>"
      ],
      "text/plain": [
       "    playerID  Year  stint teamID lgID   G  G_batting   AB    R    H  ...    \\\n",
       "0  aardsda01  2004      1    SFN   NL  11         11  0.0  0.0  0.0  ...     \n",
       "1  aardsda01  2006      1    CHN   NL  45         43  2.0  0.0  0.0  ...     \n",
       "2  aardsda01  2007      1    CHA   AL  25          2  0.0  0.0  0.0  ...     \n",
       "3  aardsda01  2008      1    BOS   AL  47          5  1.0  0.0  0.0  ...     \n",
       "4  aardsda01  2009      1    SEA   AL  73          3  0.0  0.0  0.0  ...     \n",
       "\n",
       "    SB   CS   BB   SO  IBB  HBP   SH   SF  GIDP  G_old  \n",
       "0  0.0  0.0  0.0  0.0  0.0  0.0  0.0  0.0   0.0   11.0  \n",
       "1  0.0  0.0  0.0  0.0  0.0  0.0  1.0  0.0   0.0   45.0  \n",
       "2  0.0  0.0  0.0  0.0  0.0  0.0  0.0  0.0   0.0    2.0  \n",
       "3  0.0  0.0  0.0  1.0  0.0  0.0  0.0  0.0   0.0    5.0  \n",
       "4  0.0  0.0  0.0  0.0  0.0  0.0  0.0  0.0   0.0    NaN  \n",
       "\n",
       "[5 rows x 24 columns]"
      ]
     },
     "execution_count": 5,
     "metadata": {},
     "output_type": "execute_result"
    }
   ],
   "source": [
    "bsmall = bs.head()  #inspecting the data\n",
    "bsmall"
   ]
  },
  {
   "cell_type": "code",
   "execution_count": 6,
   "metadata": {
    "collapsed": false
   },
   "outputs": [
    {
     "data": {
      "text/plain": [
       "(5, 24)"
      ]
     },
     "execution_count": 6,
     "metadata": {},
     "output_type": "execute_result"
    }
   ],
   "source": [
    "bsmall.shape"
   ]
  },
  {
   "cell_type": "code",
   "execution_count": 7,
   "metadata": {
    "collapsed": false
   },
   "outputs": [
    {
     "data": {
      "text/plain": [
       "<bound method NDFrame.describe of     playerID  Year  stint teamID lgID   G  G_batting   AB    R    H  ...    \\\n",
       "0  aardsda01  2004      1    SFN   NL  11         11  0.0  0.0  0.0  ...     \n",
       "1  aardsda01  2006      1    CHN   NL  45         43  2.0  0.0  0.0  ...     \n",
       "2  aardsda01  2007      1    CHA   AL  25          2  0.0  0.0  0.0  ...     \n",
       "3  aardsda01  2008      1    BOS   AL  47          5  1.0  0.0  0.0  ...     \n",
       "4  aardsda01  2009      1    SEA   AL  73          3  0.0  0.0  0.0  ...     \n",
       "\n",
       "    SB   CS   BB   SO  IBB  HBP   SH   SF  GIDP  G_old  \n",
       "0  0.0  0.0  0.0  0.0  0.0  0.0  0.0  0.0   0.0   11.0  \n",
       "1  0.0  0.0  0.0  0.0  0.0  0.0  1.0  0.0   0.0   45.0  \n",
       "2  0.0  0.0  0.0  0.0  0.0  0.0  0.0  0.0   0.0    2.0  \n",
       "3  0.0  0.0  0.0  1.0  0.0  0.0  0.0  0.0   0.0    5.0  \n",
       "4  0.0  0.0  0.0  0.0  0.0  0.0  0.0  0.0   0.0    NaN  \n",
       "\n",
       "[5 rows x 24 columns]>"
      ]
     },
     "execution_count": 7,
     "metadata": {},
     "output_type": "execute_result"
    }
   ],
   "source": [
    "bsmall.describe  # inspecting the data"
   ]
  },
  {
   "cell_type": "markdown",
   "metadata": {},
   "source": [
    "**Number of Home Runs by Year**\n",
    "\n",
    "Taking a look at home runs over a 25 year period shows us something interesting - the number of home runs per season really begin to spike over the 94'-00' season. This period lines up with what has been determined to be the steroid era. This is a substantial piece of evidence to help us draw our conclusions. The number of home runs spike up during the proclaimed home run period, but then begin to dip down as the league became more stringent around testing. "
   ]
  },
  {
   "cell_type": "code",
   "execution_count": 8,
   "metadata": {
    "collapsed": false
   },
   "outputs": [],
   "source": [
    "hrs_by_year = bs.groupby(['Year'])['HR'].sum()  # grouping data by year and hrs"
   ]
  },
  {
   "cell_type": "code",
   "execution_count": 9,
   "metadata": {
    "collapsed": false
   },
   "outputs": [
    {
     "data": {
      "text/plain": [
       "5451.0"
      ]
     },
     "execution_count": 9,
     "metadata": {},
     "output_type": "execute_result"
    }
   ],
   "source": [
    "hrs_by_year[2004]  # check a data point"
   ]
  },
  {
   "cell_type": "code",
   "execution_count": 10,
   "metadata": {
    "collapsed": false
   },
   "outputs": [
    {
     "data": {
      "text/plain": [
       "Year\n",
       "1987    4458.0\n",
       "1988    3180.0\n",
       "1989    3083.0\n",
       "1990    3317.0\n",
       "1991    3383.0\n",
       "1992    3038.0\n",
       "1993    4030.0\n",
       "1994    3306.0\n",
       "1995    4081.0\n",
       "1996    4962.0\n",
       "1997    4640.0\n",
       "1998    5064.0\n",
       "1999    5528.0\n",
       "2000    5693.0\n",
       "2001    5458.0\n",
       "2002    5059.0\n",
       "2003    5207.0\n",
       "2004    5451.0\n",
       "2005    5017.0\n",
       "2006    5386.0\n",
       "2007    4957.0\n",
       "2008    4878.0\n",
       "2009    5042.0\n",
       "2010    4613.0\n",
       "2011    4552.0\n",
       "Name: HR, dtype: float64"
      ]
     },
     "execution_count": 10,
     "metadata": {},
     "output_type": "execute_result"
    }
   ],
   "source": [
    "hrs_by_year.tail(25)"
   ]
  },
  {
   "cell_type": "code",
   "execution_count": 11,
   "metadata": {
    "collapsed": false
   },
   "outputs": [
    {
     "data": {
      "text/plain": [
       "<matplotlib.text.Text at 0x93db390>"
      ]
     },
     "execution_count": 11,
     "metadata": {},
     "output_type": "execute_result"
    },
    {
     "data": {
      "image/png": "[encoded data removed]",
      "text/plain": [
       "<matplotlib.figure.Figure at 0x8e89358>"
      ]
     },
     "metadata": {},
     "output_type": "display_data"
    }
   ],
   "source": [
    "plt.figure(figsize = (16,7))\n",
    "plt.plot(hrs_by_year.tail(25), color = 'red', marker= '*')\n",
    "plt.suptitle('Total Home Runs by Year', fontsize=18)\n",
    "plt.xlabel('Year', fontsize=12)\n",
    "plt.ylabel('Home Runs', fontsize=12)"
   ]
  },
  {
   "cell_type": "markdown",
   "metadata": {},
   "source": [
    "**Number of Stolen Bases by Year**\n",
    "\n",
    "Next, I wanted to look at the number of stolen bases by season to see how that compared to home runs and doubles. I would think that because the players were bulking up and getting bigger that in essence they wouldn't be as fast and ultimately wouldn't steal as many bases. The data supports this conclusion or that the increase in home runs and doubles decreased the need for players to steal bases. "
   ]
  },
  {
   "cell_type": "code",
   "execution_count": 12,
   "metadata": {
    "collapsed": false
   },
   "outputs": [],
   "source": [
    "sb_by_year = bs.groupby(['Year'])['SB'].sum()  # grouping data by year and stolen bases"
   ]
  },
  {
   "cell_type": "code",
   "execution_count": 13,
   "metadata": {
    "collapsed": false
   },
   "outputs": [
    {
     "data": {
      "text/plain": [
       "Year\n",
       "1987    3585.0\n",
       "1988    3301.0\n",
       "1989    3116.0\n",
       "1990    3290.0\n",
       "1991    3120.0\n",
       "1992    3264.0\n",
       "1993    3263.0\n",
       "1994    2258.0\n",
       "1995    2933.0\n",
       "1996    3239.0\n",
       "1997    3308.0\n",
       "1998    3284.0\n",
       "1999    3421.0\n",
       "2000    2924.0\n",
       "2001    3103.0\n",
       "2002    2750.0\n",
       "2003    2573.0\n",
       "2004    2589.0\n",
       "2005    2566.0\n",
       "2006    2767.0\n",
       "2007    2918.0\n",
       "2008    2799.0\n",
       "2009    2970.0\n",
       "2010    2959.0\n",
       "2011    3279.0\n",
       "Name: SB, dtype: float64"
      ]
     },
     "execution_count": 13,
     "metadata": {},
     "output_type": "execute_result"
    }
   ],
   "source": [
    "sb_by_year.tail(25)"
   ]
  },
  {
   "cell_type": "code",
   "execution_count": 14,
   "metadata": {
    "collapsed": false
   },
   "outputs": [
    {
     "data": {
      "text/plain": [
       "<matplotlib.text.Text at 0x9a52d30>"
      ]
     },
     "execution_count": 14,
     "metadata": {},
     "output_type": "execute_result"
    },
    {
     "data": {
      "image/png": "[encoded data removed]",
      "text/plain": [
       "<matplotlib.figure.Figure at 0x8e89d30>"
      ]
     },
     "metadata": {},
     "output_type": "display_data"
    }
   ],
   "source": [
    "plt.figure(figsize = (16,7)) # plotting the data\n",
    "plt.plot(sb_by_year.tail(25), color = 'blue', marker= '*')\n",
    "plt.suptitle('Stolen Bases by Year', fontsize=18)\n",
    "plt.xlabel('Year', fontsize=12)\n",
    "plt.ylabel('Stolen Bases', fontsize=12)"
   ]
  },
  {
   "cell_type": "markdown",
   "metadata": {},
   "source": [
    "**Number of Doubles by Year**\n",
    "\n",
    "I also wanted to look the number of doubles by season over the same time period to see if it was somehow correlated to home runs. I would would expect to see a positive correlation between the two because a high percentage of doubles are all most home runs that just didn't have the height or distance to make it out of the park. By looking at the data, we do see a spike in doubles around the same time as home runs. "
   ]
  },
  {
   "cell_type": "code",
   "execution_count": 15,
   "metadata": {
    "collapsed": false
   },
   "outputs": [
    {
     "data": {
      "text/plain": [
       "Year\n",
       "1987    6793.0\n",
       "1988    6386.0\n",
       "1989    6307.0\n",
       "1990    6526.0\n",
       "1991    6499.0\n",
       "1992    6563.0\n",
       "1993    7449.0\n",
       "1994    5723.0\n",
       "1995    6958.0\n",
       "1996    7987.0\n",
       "1997    8004.0\n",
       "1998    8741.0\n",
       "1999    8740.0\n",
       "2000    8902.0\n",
       "2001    8813.0\n",
       "2002    8700.0\n",
       "2003    8827.0\n",
       "2004    8919.0\n",
       "2005    8863.0\n",
       "2006    9135.0\n",
       "2007    9197.0\n",
       "2008    9014.0\n",
       "2009    8737.0\n",
       "2010    8486.0\n",
       "2011    8399.0\n",
       "Name: 2B, dtype: float64"
      ]
     },
     "execution_count": 15,
     "metadata": {},
     "output_type": "execute_result"
    }
   ],
   "source": [
    "scndbase_by_year = bs.groupby(['Year'])['2B'].sum()  # grouping data by year and doubles\n",
    "scndbase_by_year.tail(25)"
   ]
  },
  {
   "cell_type": "code",
   "execution_count": 16,
   "metadata": {
    "collapsed": false
   },
   "outputs": [
    {
     "data": {
      "text/plain": [
       "<matplotlib.text.Text at 0x9d7c7f0>"
      ]
     },
     "execution_count": 16,
     "metadata": {},
     "output_type": "execute_result"
    },
    {
     "data": {
      "image/png": "[encoded data removed]",
      "text/plain": [
       "<matplotlib.figure.Figure at 0x9a63208>"
      ]
     },
     "metadata": {},
     "output_type": "display_data"
    }
   ],
   "source": [
    "plt.figure(figsize = (16,7)) # plotting our data\n",
    "plt.plot(scndbase_by_year.tail(25), color = 'green', marker= '*')\n",
    "plt.suptitle('Doubles by Year', fontsize=18)\n",
    "plt.xlabel('Year', fontsize=12)\n",
    "plt.ylabel('Doubles', fontsize=12)"
   ]
  },
  {
   "cell_type": "markdown",
   "metadata": {},
   "source": [
    "**Number of Hits by Year**\n",
    "\n",
    "I wanted to also plot the number of hits because the number of hits could have increased at the same time as home runs. Meaning that the increase hits could have drove up the number of home runs in proportion, not supporting our assumption. The data shows a postive correlation between hits with home runs, and hits and doubles. "
   ]
  },
  {
   "cell_type": "code",
   "execution_count": 17,
   "metadata": {
    "collapsed": false
   },
   "outputs": [
    {
     "data": {
      "text/plain": [
       "Year\n",
       "1987    37895.0\n",
       "1988    36244.0\n",
       "1989    36293.0\n",
       "1990    36817.0\n",
       "1991    36558.0\n",
       "1992    36544.0\n",
       "1993    41088.0\n",
       "1994    29743.0\n",
       "1995    36975.0\n",
       "1996    42320.0\n",
       "1997    41471.0\n",
       "1998    44489.0\n",
       "1999    45327.0\n",
       "2000    45246.0\n",
       "2001    43879.0\n",
       "2002    43272.0\n",
       "2003    44057.0\n",
       "2004    44522.0\n",
       "2005    43991.0\n",
       "2006    45073.0\n",
       "2007    44977.0\n",
       "2008    43972.0\n",
       "2009    43524.0\n",
       "2010    42554.0\n",
       "2011    42267.0\n",
       "Name: H, dtype: float64"
      ]
     },
     "execution_count": 17,
     "metadata": {},
     "output_type": "execute_result"
    }
   ],
   "source": [
    "hits_by_year = bs.groupby(['Year'])['H'].sum() # grouping data by year and hits\n",
    "hits_by_year.tail(25)"
   ]
  },
  {
   "cell_type": "code",
   "execution_count": 18,
   "metadata": {
    "collapsed": false
   },
   "outputs": [
    {
     "data": {
      "text/plain": [
       "<matplotlib.text.Text at 0x9de7be0>"
      ]
     },
     "execution_count": 18,
     "metadata": {},
     "output_type": "execute_result"
    },
    {
     "data": {
      "image/png": "[encoded data removed]",
      "text/plain": [
       "<matplotlib.figure.Figure at 0x9df64e0>"
      ]
     },
     "metadata": {},
     "output_type": "display_data"
    }
   ],
   "source": [
    "plt.figure(figsize = (16,7))  # plotting our data\n",
    "plt.plot(hits_by_year.tail(25), color = 'blue', marker= '*',)\n",
    "plt.suptitle('Hits by Year', fontsize=18)\n",
    "plt.xlabel('Year', fontsize=12)\n",
    "plt.ylabel('Hits', fontsize=12)"
   ]
  },
  {
   "cell_type": "markdown",
   "metadata": {},
   "source": [
    "**Stacked Bar Graph of Hits**\n",
    "\n",
    "So let's dive a little deeper and break down the number of home runs and doubles as a percentage of hits.  Looking a this stack bar graph helps show the percentage increase in doubles and home runs, but it does not clearly displaying as accurate of a picture as I would like. "
   ]
  },
  {
   "cell_type": "code",
   "execution_count": 19,
   "metadata": {
    "collapsed": false
   },
   "outputs": [
    {
     "data": {
      "text/html": [
       "<div>\n",
       "<table border=\"1\" class=\"dataframe\">\n",
       "  <thead>\n",
       "    <tr style=\"text-align: right;\">\n",
       "      <th></th>\n",
       "      <th>% HR</th>\n",
       "      <th>% 2B</th>\n",
       "      <th>% Other</th>\n",
       "    </tr>\n",
       "    <tr>\n",
       "      <th>Year</th>\n",
       "      <th></th>\n",
       "      <th></th>\n",
       "      <th></th>\n",
       "    </tr>\n",
       "  </thead>\n",
       "  <tbody>\n",
       "    <tr>\n",
       "      <th>1987</th>\n",
       "      <td>0.117641</td>\n",
       "      <td>0.179258</td>\n",
       "      <td>0.703101</td>\n",
       "    </tr>\n",
       "    <tr>\n",
       "      <th>1988</th>\n",
       "      <td>0.087739</td>\n",
       "      <td>0.176195</td>\n",
       "      <td>0.736067</td>\n",
       "    </tr>\n",
       "    <tr>\n",
       "      <th>1989</th>\n",
       "      <td>0.084948</td>\n",
       "      <td>0.173780</td>\n",
       "      <td>0.741272</td>\n",
       "    </tr>\n",
       "    <tr>\n",
       "      <th>1990</th>\n",
       "      <td>0.090094</td>\n",
       "      <td>0.177255</td>\n",
       "      <td>0.732651</td>\n",
       "    </tr>\n",
       "    <tr>\n",
       "      <th>1991</th>\n",
       "      <td>0.092538</td>\n",
       "      <td>0.177772</td>\n",
       "      <td>0.729690</td>\n",
       "    </tr>\n",
       "    <tr>\n",
       "      <th>1992</th>\n",
       "      <td>0.083133</td>\n",
       "      <td>0.179592</td>\n",
       "      <td>0.737276</td>\n",
       "    </tr>\n",
       "    <tr>\n",
       "      <th>1993</th>\n",
       "      <td>0.098082</td>\n",
       "      <td>0.181294</td>\n",
       "      <td>0.720624</td>\n",
       "    </tr>\n",
       "    <tr>\n",
       "      <th>1994</th>\n",
       "      <td>0.111152</td>\n",
       "      <td>0.192415</td>\n",
       "      <td>0.696433</td>\n",
       "    </tr>\n",
       "    <tr>\n",
       "      <th>1995</th>\n",
       "      <td>0.110372</td>\n",
       "      <td>0.188181</td>\n",
       "      <td>0.701447</td>\n",
       "    </tr>\n",
       "    <tr>\n",
       "      <th>1996</th>\n",
       "      <td>0.117250</td>\n",
       "      <td>0.188729</td>\n",
       "      <td>0.694022</td>\n",
       "    </tr>\n",
       "    <tr>\n",
       "      <th>1997</th>\n",
       "      <td>0.111885</td>\n",
       "      <td>0.193002</td>\n",
       "      <td>0.695112</td>\n",
       "    </tr>\n",
       "    <tr>\n",
       "      <th>1998</th>\n",
       "      <td>0.113826</td>\n",
       "      <td>0.196476</td>\n",
       "      <td>0.689699</td>\n",
       "    </tr>\n",
       "    <tr>\n",
       "      <th>1999</th>\n",
       "      <td>0.121958</td>\n",
       "      <td>0.192821</td>\n",
       "      <td>0.685221</td>\n",
       "    </tr>\n",
       "    <tr>\n",
       "      <th>2000</th>\n",
       "      <td>0.125823</td>\n",
       "      <td>0.196747</td>\n",
       "      <td>0.677430</td>\n",
       "    </tr>\n",
       "    <tr>\n",
       "      <th>2001</th>\n",
       "      <td>0.124388</td>\n",
       "      <td>0.200848</td>\n",
       "      <td>0.674765</td>\n",
       "    </tr>\n",
       "    <tr>\n",
       "      <th>2002</th>\n",
       "      <td>0.116912</td>\n",
       "      <td>0.201054</td>\n",
       "      <td>0.682035</td>\n",
       "    </tr>\n",
       "    <tr>\n",
       "      <th>2003</th>\n",
       "      <td>0.118188</td>\n",
       "      <td>0.200354</td>\n",
       "      <td>0.681458</td>\n",
       "    </tr>\n",
       "    <tr>\n",
       "      <th>2004</th>\n",
       "      <td>0.122434</td>\n",
       "      <td>0.200328</td>\n",
       "      <td>0.677238</td>\n",
       "    </tr>\n",
       "    <tr>\n",
       "      <th>2005</th>\n",
       "      <td>0.114046</td>\n",
       "      <td>0.201473</td>\n",
       "      <td>0.684481</td>\n",
       "    </tr>\n",
       "    <tr>\n",
       "      <th>2006</th>\n",
       "      <td>0.119495</td>\n",
       "      <td>0.202671</td>\n",
       "      <td>0.677834</td>\n",
       "    </tr>\n",
       "    <tr>\n",
       "      <th>2007</th>\n",
       "      <td>0.110212</td>\n",
       "      <td>0.204482</td>\n",
       "      <td>0.685306</td>\n",
       "    </tr>\n",
       "    <tr>\n",
       "      <th>2008</th>\n",
       "      <td>0.110934</td>\n",
       "      <td>0.204994</td>\n",
       "      <td>0.684072</td>\n",
       "    </tr>\n",
       "    <tr>\n",
       "      <th>2009</th>\n",
       "      <td>0.115844</td>\n",
       "      <td>0.200740</td>\n",
       "      <td>0.683416</td>\n",
       "    </tr>\n",
       "    <tr>\n",
       "      <th>2010</th>\n",
       "      <td>0.108403</td>\n",
       "      <td>0.199417</td>\n",
       "      <td>0.692179</td>\n",
       "    </tr>\n",
       "    <tr>\n",
       "      <th>2011</th>\n",
       "      <td>0.107696</td>\n",
       "      <td>0.198713</td>\n",
       "      <td>0.693591</td>\n",
       "    </tr>\n",
       "  </tbody>\n",
       "</table>\n",
       "</div>"
      ],
      "text/plain": [
       "          % HR      % 2B   % Other\n",
       "Year                              \n",
       "1987  0.117641  0.179258  0.703101\n",
       "1988  0.087739  0.176195  0.736067\n",
       "1989  0.084948  0.173780  0.741272\n",
       "1990  0.090094  0.177255  0.732651\n",
       "1991  0.092538  0.177772  0.729690\n",
       "1992  0.083133  0.179592  0.737276\n",
       "1993  0.098082  0.181294  0.720624\n",
       "1994  0.111152  0.192415  0.696433\n",
       "1995  0.110372  0.188181  0.701447\n",
       "1996  0.117250  0.188729  0.694022\n",
       "1997  0.111885  0.193002  0.695112\n",
       "1998  0.113826  0.196476  0.689699\n",
       "1999  0.121958  0.192821  0.685221\n",
       "2000  0.125823  0.196747  0.677430\n",
       "2001  0.124388  0.200848  0.674765\n",
       "2002  0.116912  0.201054  0.682035\n",
       "2003  0.118188  0.200354  0.681458\n",
       "2004  0.122434  0.200328  0.677238\n",
       "2005  0.114046  0.201473  0.684481\n",
       "2006  0.119495  0.202671  0.677834\n",
       "2007  0.110212  0.204482  0.685306\n",
       "2008  0.110934  0.204994  0.684072\n",
       "2009  0.115844  0.200740  0.683416\n",
       "2010  0.108403  0.199417  0.692179\n",
       "2011  0.107696  0.198713  0.693591"
      ]
     },
     "execution_count": 19,
     "metadata": {},
     "output_type": "execute_result"
    }
   ],
   "source": [
    "df = bs.groupby(['Year'])['2B','HR','H'].sum()  #looking at the homeruns and doubles as a % of total hits\n",
    "df = df.tail(25) \n",
    "df['Other'] = df['H'] - df['HR'] - df['2B']\n",
    "df['% HR'] = df['HR'] / df['H']\n",
    "df['% 2B'] = df['2B'] / df['H']\n",
    "df['% Other'] = df['Other'] / df['H']\n",
    "df = df.drop ('2B', 1)\n",
    "df = df.drop ('HR', 1)\n",
    "df = df.drop ('H', 1)\n",
    "df = df.drop ('Other', 1)\n",
    "df"
   ]
  },
  {
   "cell_type": "code",
   "execution_count": 20,
   "metadata": {
    "collapsed": false
   },
   "outputs": [
    {
     "data": {
      "text/plain": [
       "<matplotlib.legend.Legend at 0xa419eb8>"
      ]
     },
     "execution_count": 20,
     "metadata": {},
     "output_type": "execute_result"
    },
    {
     "data": {
      "image/png": "[encoded data removed]",
      "text/plain": [
       "<matplotlib.figure.Figure at 0xa419a20>"
      ]
     },
     "metadata": {},
     "output_type": "display_data"
    }
   ],
   "source": [
    "my_plot = df.plot(kind='bar',stacked=True,figsize=(16,7), fontsize = (14))  # creating a stacked bar graph\n",
    "my_plot.set_title(\"Hits by Category\", fontsize = (16))\n",
    "my_plot.set_xlabel(\"Year\", fontsize = (14))\n",
    "my_plot.set_ylabel(\"Hits\", fontsize = (14))\n",
    "my_plot.legend([\"2B\",\"HR\",\"Other\"], loc=9,ncol=3)"
   ]
  },
  {
   "cell_type": "markdown",
   "metadata": {},
   "source": [
    "**% of Home Runs**\n",
    "\n",
    "So I decided to plot just the percentage of hits that were home runs to see if this can help us draw conclusions about the steroid era. Looking a the graph we can indeed see that even though hits increased, the percentage of home runs increased over the steroid period in baseball. "
   ]
  },
  {
   "cell_type": "code",
   "execution_count": 21,
   "metadata": {
    "collapsed": false
   },
   "outputs": [
    {
     "data": {
      "image/png": "[encoded data removed]",
      "text/plain": [
       "<matplotlib.figure.Figure at 0x9dad8d0>"
      ]
     },
     "metadata": {},
     "output_type": "display_data"
    }
   ],
   "source": [
    "df2 = df.plot(kind='barh', figsize=(16,7), fontsize = (14), y = '% HR', title = '% of Hits HRs')  # ploting hrs as a % of total hits"
   ]
  },
  {
   "cell_type": "markdown",
   "metadata": {},
   "source": [
    "## Conclusion \n",
    "\n",
    "In conclusion, there was a clear power surge in baseball offensive from the 1993 - 2004 period that increased that level of home runs hit in total and also as a percentage of hits. This power surge begins to decrease around the time when league increased their focus on testing for performance enhancing drugs. So all of the offensive records broken over this time period shouldn't be without and asterisk, because it seems like steroids were a major factor. "
   ]
  }
 ],
 "metadata": {
  "kernelspec": {
   "display_name": "Python 3",
   "language": "python",
   "name": "python3"
  },
  "language_info": {
   "codemirror_mode": {
    "name": "ipython",
    "version": 3
   },
   "file_extension": ".py",
   "mimetype": "text/x-python",
   "name": "python",
   "nbconvert_exporter": "python",
   "pygments_lexer": "ipython3",
   "version": "3.5.1"
  }
 },
 "nbformat": 4,
 "nbformat_minor": 0
}
