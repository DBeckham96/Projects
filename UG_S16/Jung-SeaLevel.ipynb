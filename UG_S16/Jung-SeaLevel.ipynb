{
 "cells": [
  {
   "cell_type": "markdown",
   "metadata": {},
   "source": [
    "### Sea Level Rise in New York City"
   ]
  },
  {
   "cell_type": "markdown",
   "metadata": {},
   "source": [
    "Data Bootcamp Final Project (Spring 2016)\n",
    "\n",
    "by Daniel Jung (dmj307@stern.nyu.edu)"
   ]
  },
  {
   "cell_type": "markdown",
   "metadata": {
    "collapsed": true
   },
   "source": [
    "** About This Project **\n",
    "\n",
    "The levels of ocean surfaces (henceforth referred to as the 'sea level') have been observed to be rising around the world. While sea levels are known to fluctuate due to natural processes, researchers have found a steady increase in the sea level during the past 100 years that is anomylous to historical natural fluctuations. This project will use historical monthly sea level data from the National Oceanic and Atmospheric Association in order to estimate the rate of sea level rise. Because sea levels are known to vary throughout localities, this project will focus on the sea level around New York City. We will then use our calculated rate to estimate how long it will take for key areas around the City to be flooded.\n",
    "\n",
    "** About Sea Levels **\n",
    "\n",
    "The sea level refers to the current level at which the ocean surface lies, above which land elevations can be measured. This means that the sea level will always have a level of elevation of 0. Sea levels are generally measured in millimeters relative to the point of measurement. For example, if the sea level lies 2mm below the measurement gauge, the measurement will be -2mm. If the sea level likes 5 mm below the measurement gauge, the measurement will be 5mm. A sea level of 0mm means that the sea is at the same level as where the measurement gauge sits.\n",
    "\n",
    "Our measurements are measured from the NOAA's station at The Battery in New York City. Our dataset begins in the first month of 1850 and goes all the way through to the present day, recording measurements from the high confidence interval, the low confidence interval and the average trend, labeled ' Linear_Trend' in our dataset. Our dataset measures the sea level in meters relative to the station. The first measurement in January 1850 has an average trend of -0.406m, that is, -0.406m or 406mm below the station's measuring gauge.\n",
    "\n",
    "** About Elevation **\n",
    "\n",
    "Elevation is often measured in feet or meters. Our dataset is obtained from NYC Open Data and measures the elevation at certain points in New York City in feet. It is important to remember that elevation is measured relative to the sea level, so the sea level is always at 0ft."
   ]
  },
  {
   "cell_type": "markdown",
   "metadata": {},
   "source": [
    "** Packages Used **\n",
    "\n",
    "For this project, we will be using the Python package, Pandas, for data manipulation. We will also be using NumPy for calculations and MatPlotLib for our graphics. We will also use %matplotlib inline to ensure that our graphics appear on this notebook:"
   ]
  },
  {
   "cell_type": "code",
   "execution_count": 11,
   "metadata": {
    "collapsed": true
   },
   "outputs": [],
   "source": [
    "%matplotlib inline\n",
    "import pandas as pd\n",
    "import numpy as np\n",
    "import matplotlib.pyplot as plt"
   ]
  },
  {
   "cell_type": "markdown",
   "metadata": {
    "collapsed": true
   },
   "source": [
    "## Part 1: Calculating Rate of Sea Level Rise\n",
    "\n",
    "We obtained our CSV dataset on sea levels from the NOAA at the following link: https://tidesandcurrents.noaa.gov/sltrends/downloadMeanSeaLevelTrendsCSV.htm;jsessionid=2D46B64BEEFE3215B19644B8B15DD432?stnid=8518750\n",
    "\n",
    "This dataset, as mentioned before, measures the sea level in meters from The Battery in Lower Manhattan every month beginning January 1850. Three measurement figures are given: The higher confidence interval, the lower confidence interval, and the linear trend, which is found by averaging the higher and lower confidence intervals. For this project, we are interested in the linear trend levels.\n",
    "\n",
    "Before we calculate our rate of sea level rise, we want to see if the rate at which the sea level has increased has changed throughout history (that is, if the sea level rise is accelerating or deccelerating). We can do this using two methods. First, we can simply plot the linear trend from the data and see if there is a curve in the line. We can also find acceleration manually by dividing our dataset into sections:\n",
    "    - Section 1: January 1850 - December 1900\n",
    "    - Section 2: January 1901 - December 1950\n",
    "    - Section 3: January 1951 - December 1992\n",
    "    - Section 4: January 1993 - February 2016\n",
    "These section have been determined according to what many climate scientists have found to be significantly different 'stages' of sea level rise. Section 1 represents pre-industrial levels, Section 2 represents early stage post-industrial levels. 1992 is considered a significant year to climate scientists as this is the year when the global consensus on climate change and sea level rise became mainstream and led to a large amount of climate-related studies being published as well as large-scale initiatives launched to combat climate change and its effects. Section 3 will therefore run from post-industrial levels to 1992, and section 4 will run from 1992 to the present day."
   ]
  },
  {
   "cell_type": "code",
   "execution_count": 12,
   "metadata": {
    "collapsed": false
   },
   "outputs": [],
   "source": [
    "# Importing the CSV link and assigning the dataset to the variable, 'clvl'\n",
    "url1 = 'https://tidesandcurrents.noaa.gov/sltrends/downloadMeanSeaLevelTrendsCSV.ht'\n",
    "url2 = 'm;jsessionid=D79899A1D9FCE54F6DC6A107F9439C5D?stnid=8518750'\n",
    "url = url1 + url2\n",
    "clvl = pd.read_csv(url)\n",
    "\n",
    "# Creating the four section by slicing the dataset\n",
    "t1 = clvl[:612]\n",
    "t2 = clvl[612:1212]\n",
    "t3 = clvl[1212:1716]\n",
    "t4 = clvl[1716:1994]\n",
    "\n",
    "# Calculating the trends for each section; We calculate the trend from difference as our data represents \n",
    "# Note: In this dataset the column label Linear_Trend is preceded by a black space so we must use ' Linear_Trend'\n",
    "# when calling the data.\n",
    "dif1 = clvl[' Linear_Trend'][611] - clvl[' Linear_Trend'][0]\n",
    "dif2 = clvl[' Linear_Trend'][1211] - clvl[' Linear_Trend'][612]\n",
    "dif3 = clvl[' Linear_Trend'][1715] - clvl[' Linear_Trend'][1212]\n",
    "dif4 = clvl[' Linear_Trend'][1993] - clvl[' Linear_Trend'][1716]\n",
    "\n",
    "trend1 = dif1 / len(t1[' Linear_Trend'])\n",
    "trend2 = dif2 / len(t2[' Linear_Trend'])\n",
    "trend3 = dif3 / len(t3[' Linear_Trend'])\n",
    "trend4 = dif4 / len(t4[' Linear_Trend'])"
   ]
  },
  {
   "cell_type": "code",
   "execution_count": 13,
   "metadata": {
    "collapsed": false
   },
   "outputs": [
    {
     "name": "stdout",
     "output_type": "stream",
     "text": [
      "0.000235294117647 0.000236666666667 0.000236111111111 0.000237410071942\n"
     ]
    }
   ],
   "source": [
    "# The results\n",
    "print(trend1, trend2, trend3, trend4)"
   ]
  },
  {
   "cell_type": "code",
   "execution_count": 14,
   "metadata": {
    "collapsed": false,
    "scrolled": true
   },
   "outputs": [
    {
     "data": {
      "text/plain": [
       "<matplotlib.text.Text at 0x109961f98>"
      ]
     },
     "execution_count": 14,
     "metadata": {},
     "output_type": "execute_result"
    },
    {
     "data": {
      "image/png": "[encoded data removed]",
      "text/plain": [
       "<matplotlib.figure.Figure at 0x109950400>"
      ]
     },
     "metadata": {},
     "output_type": "display_data"
    }
   ],
   "source": [
    "# Plotting Linear_Trend\n",
    "clvl = clvl.set_index(['Year'])\n",
    "plt.plot(clvl.index, clvl[' Linear_Trend'])\n",
    "plt.suptitle('Sea level over time', fontsize = 12)\n",
    "plt.ylabel('Sea Level (in meters from observer)', fontsize = 10)\n",
    "plt.xlabel('Year', fontsize = 10)"
   ]
  },
  {
   "cell_type": "markdown",
   "metadata": {},
   "source": [
    "Cutting the data to graph results from 1950 to the present day:"
   ]
  },
  {
   "cell_type": "code",
   "execution_count": 29,
   "metadata": {
    "collapsed": false
   },
   "outputs": [
    {
     "data": {
      "text/plain": [
       "<matplotlib.text.Text at 0x10a812048>"
      ]
     },
     "execution_count": 29,
     "metadata": {},
     "output_type": "execute_result"
    },
    {
     "data": {
      "image/png": "[encoded data removed]",
      "text/plain": [
       "<matplotlib.figure.Figure at 0x10a83fa58>"
      ]
     },
     "metadata": {},
     "output_type": "display_data"
    }
   ],
   "source": [
    "#newclvl = clvl.set_index(['Year'])\n",
    "newclvl = clvl[1200:1994]\n",
    "plt.plot(newclvl.index, newclvl[' Linear_Trend'])\n",
    "plt.suptitle('Sea level over time', fontsize = 12)\n",
    "plt.ylabel('Sea Level (in meters from observer)', fontsize = 10)\n",
    "plt.xlabel('Year', fontsize = 10)"
   ]
  },
  {
   "cell_type": "markdown",
   "metadata": {},
   "source": [
    "Both methods sufficiently show that, while there appears to be a steady rise in the sea level from the time the data collection began to the present day, there appears to be no significant acceleration or deceleration in the rate. It would therefore be appropriate to use a single rate when forecasting future sea level rise. Our second graphic attempts to zoom in on the past 50 years of data to see if a significant change in slope can be observed and there appears to be none.\n",
    "\n",
    "We will calculate the single rate using the entire dataset from January 1850 to February 2016:"
   ]
  },
  {
   "cell_type": "code",
   "execution_count": 21,
   "metadata": {
    "collapsed": false
   },
   "outputs": [
    {
     "data": {
      "text/plain": [
       "0.00023620862587763291"
      ]
     },
     "execution_count": 21,
     "metadata": {},
     "output_type": "execute_result"
    }
   ],
   "source": [
    "clvl2 = clvl.reset_index()\n",
    "total = clvl2[:1994]\n",
    "diff = clvl2[' Linear_Trend'][1993] - clvl2[' Linear_Trend'][0]\n",
    "rate = diff / len(total[' Linear_Trend'])\n",
    "rate"
   ]
  },
  {
   "cell_type": "markdown",
   "metadata": {},
   "source": [
    "We obtained a rate of 0.2362mm per month, or roughly 2.8344mm per year. Because our elevation data for Part 2 is expressed in feet, we must convert this rate into feet.\n",
    "\n",
    "Doing this gives us a rate of **0.0007750 ft per month** or **0.009300 ft per year**."
   ]
  },
  {
   "cell_type": "markdown",
   "metadata": {},
   "source": [
    "## Part 2: How Long Until Flooding?\n",
    "\n",
    "We obtained our CSV dataset on elevation from NYC Open Data at the following link:\n",
    "https://data.cityofnewyork.us/api/views/9uxf-ng6q/rows.csv?accessType=DOWNLOAD\n",
    "\n",
    "This dataset contains thousands of geographical locations, identified by geographic coordinates and their corresponding elevation, measured in feet.\n",
    "\n",
    "Using the rate we calculated in Part 1, we will determine how long it will take for seven key areas of the City to flood. These seven key areas were chosen to be:\n",
    "    1. The Battery\n",
    "    2. New York Stock Exchange building\n",
    "    3. Times Square\n",
    "    4. Brooklyn Navy Yards\n",
    "    5. LaGuardia Airport\n",
    "    6. John F. Kennedy Airport\n",
    "    7. Coney Island\n",
    "The above locations were chosen because they cover a large area of the City and are of cultural or economic importance.\n",
    "\n",
    "First we want to identify the geographical coordinates on the CSV file that correspond to our chosen locations. We will do this by creating a loop to search through the file for coordinates that match or are very close to coordinates that we will find through a search engine. Then, having obtained these coordinates, we will take their corresponding elevation data to find how high the sea must rise in order to flood that location."
   ]
  },
  {
   "cell_type": "code",
   "execution_count": null,
   "metadata": {
    "collapsed": false
   },
   "outputs": [],
   "source": [
    "# Importing the CSV link for our elevation data into a variable called 'elev'\n",
    "eurl = 'https://data.cityofnewyork.us/api/views/9uxf-ng6q/rows.csv?accessType=DOWNLOAD'\n",
    "elev = pd.read_csv(eurl)\n",
    "\n",
    "# Creating a loop to search the dataframe for our coordinates\n",
    "is_in = False\n",
    "# Where 'x' is the rough coordinate found through a search engine\n",
    "coord = 'x'\n",
    "\n",
    "for item in elev:\n",
    "    if coord in elev:\n",
    "        is_in = True\n",
    "        print(Year, Month)"
   ]
  },
  {
   "cell_type": "markdown",
   "metadata": {},
   "source": [
    "The elevation for our chosen seven coordinates are as follows:\n",
    "    1. The Battery - 7.858 ft\n",
    "    2. New York Stock Exchange building - 17.609 ft\n",
    "    3. Times Square - 53.503 ft\n",
    "    4. Brooklyn Navy Yards - 28.370 ft\n",
    "    5. LaGuardia Airport - 5.724 ft\n",
    "    6. John F. Kennedy Airport - 7.200 ft\n",
    "    7. Coney Island - 7.924"
   ]
  },
  {
   "cell_type": "code",
   "execution_count": 25,
   "metadata": {
    "collapsed": false
   },
   "outputs": [
    {
     "name": "stdout",
     "output_type": "stream",
     "text": [
      "10139.354838709678\n",
      "22721.290322580648\n",
      "69036.12903225806\n",
      "36606.45161290323\n",
      "7385.806451612903\n",
      "9290.322580645161\n",
      "10224.51612903226\n"
     ]
    }
   ],
   "source": [
    "# Calculating how long it will take for the sea level to reach each elevation\n",
    "# Using a simple mathematical script to convert a list of the seven elevations\n",
    "elevations = [7.858, 17.609, 53.503, 28.370, 5.724, 7.200, 7.924]\n",
    "\n",
    "for i in elevations:\n",
    "    timeinmonths = i / 0.0007750\n",
    "    print(timeinmonths)"
   ]
  },
  {
   "cell_type": "markdown",
   "metadata": {},
   "source": [
    "Here are our results:\n",
    "    1. The Battery - 7.858 ft; will take 10139 months or 845 years\n",
    "    2. New York Stock Exchange building - 17.609 ft; will take 22721 months or 1893 years\n",
    "    3. Times Square - 53.503 ft; will take 69036 months or 5755 years\n",
    "    4. Brooklyn Navy Yards - 28.370 ft; wil take 36606 months or 3050 years\n",
    "    5. LaGuardia Airport - 5.724 ft; will take 7385 months or 615 years\n",
    "    6. John F. Kennedy Airport - 7.200 ft; will take 9290 months or 774 years\n",
    "    7. Coney Island - 7.924; will take 10224 months or 852 years"
   ]
  },
  {
   "cell_type": "markdown",
   "metadata": {},
   "source": [
    "## Conclusion\n",
    "\n",
    "Our findings clearly show that there is a steady rise in the sea level that has existed since or before 1850. However, it is also quite surprisinging to see that there does not appear to be a significant change in the rate of sea level rise since 1850 and that the rise has been uniformly linear.\n",
    "\n",
    "We found that:\n",
    "    - The sea level in New York City is rising at about 0.2362 millimeters per month or 0.0007750 feet per month\n",
    "    - This is equivalent to about 2.8344 millimeters per year or 0.009300 feet per year\n",
    "    - At this rate, the sea level is expected to rise by 0.3131 ft by 2050\n",
    "    - It will take more than 500 years for the lowest lying areas of the city to flood at this rate\n",
    "\n",
    "While the threat of flooding is still realistic, our findings show that the city is not at risk of major flooding by 2050 as was previously thought. These findings, however, go against many major publications that argue that 1) The rate of sea level rise is increasing and 2) Parts of New York City are at risk of flooding as soon as 50-100 years from now.\n",
    "\n",
    "This discrepancy in findings is most likely due to the fact that our dataset only begins collecting data from 1850. Further investigation revealed that many climate researchers use sources that infer the sea level from as much as thousands of years ago when calculating their figures for sea level rise acceleration. Because we do not have access to a dataset that incorporates these historic geographical findings (our dataset contains only direct measurements from the NOAA's station), our rates of change from 1850 are likely to be much less dramatic and noticeable."
   ]
  },
  {
   "cell_type": "markdown",
   "metadata": {},
   "source": [
    "## Sources\n",
    "\n",
    "*For the technology required in this project, we used Spyder running Python 3.5. We also used the Python packages, Pandas, NumPy and MatPlotLib. In addition, we also used the information and data sources cited below.*\n",
    "\n",
    "** Information Sources **\n",
    "\n",
    "Information on how sea level is measured: http://www.global-greenhouse-warming.com/measuring-sea-level.html\n",
    "\n",
    "Information on how elevation is measured: http://www.maps-gps-info.com/how-elevation-is-determined.html\n",
    "\n",
    "Information on sea level acceleration: http://ocean.nationalgeographic.com/ocean/critical-issues-sea-level-rise/;\n",
    "https://judithcurry.com/2016/02/23/is-sea-level-rise-accelerating/\n",
    "\n",
    "** Data Sources **\n",
    "\n",
    "Sea level data (from NOAA): https://tidesandcurrents.noaa.gov/sltrends/downloadMeanSeaLevelTrendsCSV.htm;jsessionid=2D46B64BEEFE3215B19644B8B15DD432?stnid=8518750\n",
    "\n",
    "Elevation data (from NYC Open Data): https://data.cityofnewyork.us/api/views/9uxf-ng6q/rows.csv?accessType=DOWNLOAD"
   ]
  }
 ],
 "metadata": {
  "kernelspec": {
   "display_name": "Python 3",
   "language": "python",
   "name": "python3"
  },
  "language_info": {
   "codemirror_mode": {
    "name": "ipython",
    "version": 3
   },
   "file_extension": ".py",
   "mimetype": "text/x-python",
   "name": "python",
   "nbconvert_exporter": "python",
   "pygments_lexer": "ipython3",
   "version": "3.5.1"
  }
 },
 "nbformat": 4,
 "nbformat_minor": 0
}
