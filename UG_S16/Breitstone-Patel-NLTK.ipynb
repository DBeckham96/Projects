{
 "cells": [
  {
   "cell_type": "markdown",
   "metadata": {},
   "source": [
    "# Estimating Sentiment Orientation with SKLearn\n",
    "\n",
    "Jason Brietstone jb4562@nyu.edu & Amar Patel acp455@stern.nyu.edu"
   ]
  },
  {
   "cell_type": "markdown",
   "metadata": {},
   "source": [
    "Natural language processsing is a booming field in the finance industry because of the massive amounts of user generated data that has recently become avaiable for analysis. Websites such as Twitter, StockTwits and Facebook, if analyzed correctly, can yield very relevient insights for predictions. Natural language processing can be a very daunting task because of how many layers of analysis you can add and the immense size of the English language. NLTK is a Python module and data repository, which serves as a tool for easy language processing. This paper proposes a simple method of deriving either a positive or negative sentiment orientation and highlights a few of the useful tools NLTK offers. "
   ]
  },
  {
   "cell_type": "markdown",
   "metadata": {},
   "source": [
    "Firstly we need to download the NLTK repository, which is achieved by running nltk.download(). You can choose to download all text examples or download just the movie reviews which we use in this example into the corpus folder."
   ]
  },
  {
   "cell_type": "code",
   "execution_count": 125,
   "metadata": {
    "collapsed": false
   },
   "outputs": [],
   "source": [
    "import nltk\n",
    "#nltk.download()"
   ]
  },
  {
   "cell_type": "markdown",
   "metadata": {
    "collapsed": false
   },
   "source": [
    "Wordnet is a NLTK sub package that can be used to link togther words with their respective synonyms, antonyms, part of speech and definitions. This is a very powerful tool because creating a similar wordnet requires a significant amount of databasing and organization. "
   ]
  },
  {
   "cell_type": "code",
   "execution_count": 126,
   "metadata": {
    "collapsed": false,
    "scrolled": true
   },
   "outputs": [
    {
     "name": "stdout",
     "output_type": "stream",
     "text": [
      "goodness\n"
     ]
    }
   ],
   "source": [
    "from nltk.corpus import wordnet \n",
    "#example word: plan, you may change this word to anything that has synonyms and antonyms\n",
    "test_word = 'good'\n",
    "syns = wordnet.synsets(test_word)\n",
    "\n",
    "# Lemma is another word for something simialr to a synonym \n",
    "print(syns[1].lemmas()[1].name()) "
   ]
  },
  {
   "cell_type": "markdown",
   "metadata": {
    "collapsed": false
   },
   "source": [
    "Here we are going to verify that the we are using the version of the word we think we are using by pulling the definition"
   ]
  },
  {
   "cell_type": "code",
   "execution_count": 127,
   "metadata": {
    "collapsed": false
   },
   "outputs": [
    {
     "name": "stdout",
     "output_type": "stream",
     "text": [
      "benefit\n"
     ]
    }
   ],
   "source": [
    "print(syns[0].definition())"
   ]
  },
  {
   "cell_type": "markdown",
   "metadata": {},
   "source": [
    "We can also test test the word by using the .examples() method which will yield examples of the word in question "
   ]
  },
  {
   "cell_type": "code",
   "execution_count": 128,
   "metadata": {
    "collapsed": false
   },
   "outputs": [
    {
     "name": "stdout",
     "output_type": "stream",
     "text": [
      "['for your own good', \"what's the good of worrying?\"]\n"
     ]
    }
   ],
   "source": [
    "#examples\n",
    "print(syns[0].examples())"
   ]
  },
  {
   "cell_type": "markdown",
   "metadata": {},
   "source": [
    "For each word we can create a comprehensive list of all synonyms and antonyms by creating a for loop."
   ]
  },
  {
   "cell_type": "code",
   "execution_count": 129,
   "metadata": {
    "collapsed": false,
    "scrolled": false
   },
   "outputs": [
    {
     "name": "stdout",
     "output_type": "stream",
     "text": [
      "{'upright', 'unspoiled', 'full', 'estimable', 'well', 'good', 'unspoilt', 'soundly', 'beneficial', 'adept', 'skilful', 'serious', 'trade_good', 'honest', 'salutary', 'dependable', 'skillful', 'goodness', 'just', 'near', 'in_force', 'ripe', 'sound', 'thoroughly', 'commodity', 'safe', 'expert', 'dear', 'right', 'honorable', 'effective', 'proficient', 'secure', 'respectable', 'undecomposed', 'practiced', 'in_effect'}\n",
      "{'ill', 'evilness', 'evil', 'bad', 'badness'}\n"
     ]
    }
   ],
   "source": [
    "synonyms =[]\n",
    "antonyms=[]\n",
    "for syn in wordnet.synsets(test_word):\n",
    "    for l in syn.lemmas():\n",
    "        #gather all lemmas of each synonym in the synonym set\n",
    "        synonyms.append(l.name())\n",
    "        if l.antonyms():\n",
    "            #gather all antonyms of each lemma of each synonym in the synonym set\n",
    "            antonyms.append(l.antonyms()[0].name())\n",
    "            \n",
    "print(set(synonyms))    \n",
    "print(set(antonyms))"
   ]
  },
  {
   "cell_type": "markdown",
   "metadata": {},
   "source": [
    "### Wu and Palmer System\n",
    "In the English language, there are multiple different ways of expressing an idea. Very often, people think that by using a synonym, the meaning of the sentence is unchanged. Under many circumstances, this is true, however to the computer a slight word change can make a big difference in the returned list of lemmas and antonyms. One method we can use to determine the similarity between to words to make sure any syntax changes we make dont alter the meaning of the word is to use the Wu and Palmer system of determing semantic similarity by calling on the wup_similarity method."
   ]
  },
  {
   "cell_type": "code",
   "execution_count": 130,
   "metadata": {
    "collapsed": false
   },
   "outputs": [
    {
     "name": "stdout",
     "output_type": "stream",
     "text": [
      "word similarity is 90.9090909090909 %\n"
     ]
    }
   ],
   "source": [
    "# yields % similarity of the words \n",
    "w1 = wordnet.synset('ship.n.01') # ship , refrences that it is the noun ship, 1st entry of similar words\n",
    "w2 = wordnet.synset('boat.n.01')# boat\n",
    "print('word similarity is',w1.wup_similarity(w2)*100,'%') "
   ]
  },
  {
   "cell_type": "code",
   "execution_count": 131,
   "metadata": {
    "collapsed": false
   },
   "outputs": [
    {
     "name": "stdout",
     "output_type": "stream",
     "text": [
      "word similarity is 69.56521739130434 %\n"
     ]
    }
   ],
   "source": [
    "w1 = wordnet.synset('ship.n.01') # ship , the noun ship, 1st entry of similar word \n",
    "w2 = wordnet.synset('car.n.01')# boat\n",
    "print('word similarity is',w1.wup_similarity(w2)*100,'%') "
   ]
  },
  {
   "cell_type": "code",
   "execution_count": 132,
   "metadata": {
    "collapsed": false
   },
   "outputs": [
    {
     "name": "stdout",
     "output_type": "stream",
     "text": [
      "word similarity is 32.0 %\n"
     ]
    }
   ],
   "source": [
    "w1 = wordnet.synset('ship.n.01') # ship , the noun ship, 1st entry of similar word \n",
    "w2 = wordnet.synset('cat.n.01')# boat\n",
    "print('word similarity is',w1.wup_similarity(w2)*100,'%') "
   ]
  },
  {
   "cell_type": "markdown",
   "metadata": {},
   "source": [
    "***TurnItIn as a use case***\n",
    "\n",
    "Many students try to buy essays online. The services that sell those papers often use a form of natrual language processing to change the words with synonyms. The above method could determine if that has been occuring by gauging the similarities to other papers "
   ]
  },
  {
   "cell_type": "markdown",
   "metadata": {},
   "source": [
    "### Sentiment Analysis through Tokenization\n",
    "Now we are going to begin to develop our module for determining sentiment. We are going to achieve this by tokenizing the movie reviews in our set. Tokenizing is the process of splitting blocks of text in to list of individual words. By doing this we can determining if the occurence of a particular word can be used as an indicator for posotive or negative sentiment. When doing this, we hope to see results that do NOT use any non-substantial words such as conjuctions (i.e. 'the', 'an', 'or', 'and'). \n",
    "\n",
    "This method does not have to be used only for determining sentiment. Other potential use cases could include determining the subject of a block of text or determining the origin of the author by indicators that would represent local slangs. There are 2 main benefits to using this method:\n",
    "1. If we were to create our own list of positive or negative indicators to test against, we may risk missing out on words that could be impactful\n",
    "2. We remove a significant amount of statical bias by not assuming a words impact but by judging based on what has already occured"
   ]
  },
  {
   "cell_type": "code",
   "execution_count": 133,
   "metadata": {
    "collapsed": false
   },
   "outputs": [],
   "source": [
    "import random \n",
    "from nltk.corpus import movie_reviews #1000 labeled posotive or negative movie reviews \n",
    "documents = [(list(movie_reviews.words(fileid)), category) # list of tuples for features \n",
    "            for category in movie_reviews.categories()\n",
    "            for fileid in movie_reviews.fileids(category)]"
   ]
  },
  {
   "cell_type": "code",
   "execution_count": 134,
   "metadata": {
    "collapsed": true
   },
   "outputs": [],
   "source": [
    "#documents[1] # prints the first movie review in tokenized format"
   ]
  },
  {
   "cell_type": "code",
   "execution_count": 135,
   "metadata": {
    "collapsed": false
   },
   "outputs": [
    {
     "name": "stdout",
     "output_type": "stream",
     "text": [
      "[(',', 77717), ('the', 76529), ('.', 65876), ('a', 38106), ('and', 35576), ('of', 34123), ('to', 31937), (\"'\", 30585), ('is', 25195), ('in', 21822)]\n",
      "stupid occured  253 times\n"
     ]
    }
   ],
   "source": [
    "random.shuffle(documents)# removes bias by not training and testing on the same set\n",
    "\n",
    "all_words = []\n",
    "for w in movie_reviews.words():\n",
    "    all_words.append(w.lower())\n",
    "all_words = nltk.FreqDist(all_words)# makes frequency distrubution\n",
    "\n",
    "print(all_words.most_common(10)) # prints(10 most common words , frequency)\n",
    "print(\"stupid occured \",all_words['stupid'],'times') # prints frequency of stupid "
   ]
  },
  {
   "cell_type": "markdown",
   "metadata": {},
   "source": [
    "Above we created a list all_words of all the used words, then turned that into a frequency distrubution and printed the top 15 most common words, then we printed how many times the word 'stupid' occured in the list all_words. Notice how these are obviously all conjunctions, common prepositions, and words like \"the, that\" as well as a hyphen.\n",
    "\n",
    "Below, we are going to create our training set and testing set. First we pull out the keys from our all_words frequency distrubution. Considering all_words is a dictionary of (\"the word\", Frequency) we will now have each word. Our feature set, which is the raw data modified to show our distingushing feature, has the words that  what we are defining in our training and testing set. "
   ]
  },
  {
   "cell_type": "code",
   "execution_count": 136,
   "metadata": {
    "collapsed": false
   },
   "outputs": [
    {
     "data": {
      "text/plain": [
       "'pos'"
      ]
     },
     "execution_count": 136,
     "metadata": {},
     "output_type": "execute_result"
    }
   ],
   "source": [
    "word_features = list(all_words.keys())[:3000]\n",
    "def find_features(document):\n",
    "    words = set(document)    # converting list to set makes all the words not the amount \n",
    "    features ={}\n",
    "    for w in word_features:\n",
    "        features[w] = (w in words)\n",
    "    return features \n",
    "\n",
    "featuresets = [(find_features(rev),category) for (rev, category) in documents] \n",
    "\n",
    "'''\n",
    "Here we create a testing and training set by arbitrariy splitting up\n",
    "the 3000 words in word_features\n",
    "'''\n",
    "training_set =featuresets[1900:] \n",
    "testing_set = featuresets[:1900]\n",
    "\n",
    "featuresets[0][1]\n",
    "#here, we reference the dictionary (list of features, pos or neg) to give the second entry"
   ]
  },
  {
   "cell_type": "markdown",
   "metadata": {
    "collapsed": false,
    "scrolled": true
   },
   "source": [
    "First, we are going to test using a simple NaiveBayesClassifier provided by NLTK. We will have it return the prediction accuracy and the most informative features. We hope to see two things that will demonstrate the efficiency of this:\n",
    "1. No conjuctions (i.e. and, the, etc.) occur in the most informative feature set \n",
    "2. High algo accuracy "
   ]
  },
  {
   "cell_type": "code",
   "execution_count": 137,
   "metadata": {
    "collapsed": false,
    "scrolled": true
   },
   "outputs": [
    {
     "name": "stdout",
     "output_type": "stream",
     "text": [
      "original naieve bayes algo accuracy: 57.99999999999999\n",
      "Most Informative Features\n",
      "                supposed = True              neg : pos    =      5.2 : 1.0\n",
      "                 somehow = True              pos : neg    =      4.8 : 1.0\n",
      "                    sets = True              pos : neg    =      4.5 : 1.0\n",
      "                     six = True              pos : neg    =      4.5 : 1.0\n",
      "                    sees = True              pos : neg    =      3.8 : 1.0\n",
      "                   match = True              pos : neg    =      3.8 : 1.0\n",
      "             traditional = True              pos : neg    =      3.1 : 1.0\n",
      "                  proves = True              pos : neg    =      3.1 : 1.0\n",
      "                   girls = True              pos : neg    =      3.1 : 1.0\n",
      "                   campy = True              neg : pos    =      2.9 : 1.0\n",
      "                    both = True              pos : neg    =      2.8 : 1.0\n",
      "                   clear = True              pos : neg    =      2.8 : 1.0\n",
      "                   shows = True              pos : neg    =      2.7 : 1.0\n",
      "                  sounds = True              neg : pos    =      2.6 : 1.0\n",
      "                 friends = True              pos : neg    =      2.6 : 1.0\n"
     ]
    }
   ],
   "source": [
    "classifier =nltk.NaiveBayesClassifier.train(training_set)\n",
    "print(\"original naieve bayes algo accuracy:\", nltk.classify.accuracy(classifier,testing_set)*100)\n",
    "classifier.show_most_informative_features(15)"
   ]
  },
  {
   "cell_type": "markdown",
   "metadata": {},
   "source": [
    "As you can see above the Naive Bayes Classifier is not a very accurate algorithim. To increase accuracy, we are going to try to use as many diffrent classifier methods as possible to test the data on. From there we are going to define a function that creates a voting system where each classifier votes. The outcome is the average of the votes, for example if 5/8 classifiers say positive, we will vote positive. We are also going to print the classification and the confidence of the algo. "
   ]
  },
  {
   "cell_type": "code",
   "execution_count": 138,
   "metadata": {
    "collapsed": false
   },
   "outputs": [],
   "source": [
    "from sklearn.naive_bayes import MultinomialNB, GaussianNB , BernoulliNB\n",
    "from nltk.classify.scikitlearn import SklearnClassifier\n",
    "from sklearn.linear_model import LogisticRegression,SGDClassifier\n",
    "from sklearn.svm import SVC, LinearSVC, NuSVC\n",
    "from nltk.classify import ClassifierI\n",
    "from statistics import mode "
   ]
  },
  {
   "cell_type": "code",
   "execution_count": 139,
   "metadata": {
    "collapsed": false
   },
   "outputs": [],
   "source": [
    "class VoteClassifier(ClassifierI):\n",
    "    def __init__(self,*classifiers):\n",
    "        self._classifiers = classifiers\n",
    "    def classify(self, features):\n",
    "        votes = []\n",
    "        for c in self._classifiers:\n",
    "            v = c.classify(features)\n",
    "            votes.append(v)\n",
    "        return mode(votes)\n",
    "    def confidence(self, features):\n",
    "        \n",
    "        votes = []\n",
    "        for c in self._classifiers:\n",
    "            v = c.classify(features)\n",
    "            votes.append(v)\n",
    "\n",
    "        choice_votes = votes.count(mode(votes))\n",
    "        conf = choice_votes / len(votes)\n",
    "        return conf"
   ]
  },
  {
   "cell_type": "code",
   "execution_count": 140,
   "metadata": {
    "collapsed": false
   },
   "outputs": [
    {
     "name": "stdout",
     "output_type": "stream",
     "text": [
      "MNB_classifier accuracy percent: 56.89473684210527\n",
      "BernoulliNB_classifier accuracy percent: 56.21052631578948\n",
      "LogisticRegression_classifier accuracy percent: 56.84210526315789\n",
      "SGDClassifier_classifier accuracy percent: 57.263157894736835\n",
      "LinearSVC_classifier accuracy percent: 56.42105263157895\n",
      "NuSVC_classifier accuracy percent: 57.52631578947368\n"
     ]
    }
   ],
   "source": [
    "MNB_classifier = SklearnClassifier(MultinomialNB())\n",
    "MNB_classifier.train(training_set)\n",
    "print(\"MNB_classifier accuracy percent:\", (nltk.classify.accuracy(MNB_classifier, testing_set))*100)\n",
    "\n",
    "BernoulliNB_classifier = SklearnClassifier(BernoulliNB())\n",
    "BernoulliNB_classifier.train(training_set)\n",
    "print(\"BernoulliNB_classifier accuracy percent:\", (nltk.classify.accuracy(BernoulliNB_classifier, testing_set))*100)\n",
    "\n",
    "LogisticRegression_classifier = SklearnClassifier(LogisticRegression())\n",
    "LogisticRegression_classifier.train(training_set)\n",
    "print(\"LogisticRegression_classifier accuracy percent:\", (nltk.classify.accuracy(LogisticRegression_classifier, testing_set))*100)\n",
    "\n",
    "SGDClassifier_classifier = SklearnClassifier(SGDClassifier())\n",
    "SGDClassifier_classifier.train(training_set)\n",
    "print(\"SGDClassifier_classifier accuracy percent:\", (nltk.classify.accuracy(SGDClassifier_classifier, testing_set))*100)\n",
    "\n",
    "#Another possible test, but is known to be largely inaccurate\n",
    "#SVC_classifier = SklearnClassifier(SVC())\n",
    "#SVC_classifier.train(training_set)\n",
    "#print(\"SVC_classifier accuracy percent:\", (nltk.classify.accuracy(SVC_classifier, testing_set))*100)\n",
    "\n",
    "LinearSVC_classifier = SklearnClassifier(LinearSVC())\n",
    "LinearSVC_classifier.train(training_set)\n",
    "print(\"LinearSVC_classifier accuracy percent:\", (nltk.classify.accuracy(LinearSVC_classifier, testing_set))*100)\n",
    "\n",
    "NuSVC_classifier = SklearnClassifier(NuSVC())\n",
    "NuSVC_classifier.train(training_set)\n",
    "print(\"NuSVC_classifier accuracy percent:\", (nltk.classify.accuracy(NuSVC_classifier, testing_set))*100)"
   ]
  },
  {
   "cell_type": "markdown",
   "metadata": {},
   "source": [
    "Above we printed the accuracy for all the classifiers and their respective performance. Despite their individual accuracies, it is important to note that they were generally in agreement. Below, we are printing the confidence, which is calcualted by the amount of classifiers in agreement. This removes any time that individual classifeirs may have been lacking in their ability to predict a ceartin secenrio. However, it will more heavily weight any individual machine learning funcation that may have been more accurate than even the majority. \n",
    "\n",
    "Accuracy optimization depends on the data set in question. To optimize, you must try running all individual classifiers, and then selectively remove those that failed to meet sufficient accuracy. For further investigation, one could leverage a data set that is structured in a way that pos or neg reviews are grouped in order to test the accuracy for just posotive or negative reviews. You may find that some are biased towards one side and can be removed for better accuracy. Obviously, regardless of any investigation you make, you also likely be able to increase the accuracy and applicability of the algothim by using a larger training set. Remember, in practice, using a larger training set will increase the time and  processing power necissary for completion, which is relevant if the speed of execution is important."
   ]
  },
  {
   "cell_type": "code",
   "execution_count": 141,
   "metadata": {
    "collapsed": false
   },
   "outputs": [
    {
     "name": "stdout",
     "output_type": "stream",
     "text": [
      "voted_classifier accuracy percent: 57.315789473684205\n"
     ]
    }
   ],
   "source": [
    "voted_classifier = VoteClassifier(classifier,\n",
    "                                  NuSVC_classifier,\n",
    "                                  LinearSVC_classifier,\n",
    "                                  SGDClassifier_classifier,\n",
    "                                  MNB_classifier,\n",
    "                                  BernoulliNB_classifier,\n",
    "                                  LogisticRegression_classifier)\n",
    "\n",
    "print(\"voted_classifier accuracy percent:\", (nltk.classify.accuracy(voted_classifier, testing_set))*100)"
   ]
  },
  {
   "cell_type": "code",
   "execution_count": 142,
   "metadata": {
    "collapsed": false
   },
   "outputs": [
    {
     "name": "stdout",
     "output_type": "stream",
     "text": [
      "Classification 0: neg Confidence %: 85.71428571428571\n",
      "Classification 1: neg Confidence %: 71.42857142857143\n"
     ]
    }
   ],
   "source": [
    "#Example Classifications of the first two tests\n",
    "print(\"Classification 0:\", voted_classifier.classify(testing_set[0][0]), \"Confidence %:\",voted_classifier.confidence(testing_set[0][0])*100)\n",
    "print(\"Classification 1:\", voted_classifier.classify(testing_set[1][0]), \"Confidence %:\",voted_classifier.confidence(testing_set[1][0])*100)"
   ]
  },
  {
   "cell_type": "markdown",
   "metadata": {},
   "source": [
    "### Now, we will find out how confident each of these tests were:"
   ]
  },
  {
   "cell_type": "code",
   "execution_count": 143,
   "metadata": {
    "collapsed": false
   },
   "outputs": [],
   "source": [
    "def make_confidence(number_of_tests):\n",
    "    confidence = []\n",
    "    for x in range (0,number_of_tests):\n",
    "        confidence.append(voted_classifier.confidence(testing_set[x][0])*100)\n",
    "    return confidence \n",
    "\n",
    "import matplotlib.pyplot as plt\n",
    "import pandas as pd \n",
    "\n",
    "y = make_confidence(1000) #use all 1000 tests\n",
    "x = range(0, len(y))\n",
    "#create a dictionary to sort data\n",
    "count_data = dict((i, y.count(i)) for i in y)"
   ]
  },
  {
   "cell_type": "markdown",
   "metadata": {},
   "source": [
    "Now, we can figure out what is the distribution of confidence, what the average and standard deviation are, to get an idea of its true accuracy"
   ]
  },
  {
   "cell_type": "code",
   "execution_count": 144,
   "metadata": {
    "collapsed": false
   },
   "outputs": [
    {
     "data": {
      "image/png": "[encoded data removed]",
      "text/plain": [
       "<matplotlib.figure.Figure at 0x116b26160>"
      ]
     },
     "metadata": {},
     "output_type": "display_data"
    }
   ],
   "source": [
    "%matplotlib inline\n",
    "from decimal import Decimal\n",
    "import collections\n",
    "\n",
    "#Sort the Dictionary\n",
    "od = collections.OrderedDict(sorted(count_data.items()))\n",
    "\n",
    "plt.style.use('fivethirtyeight')\n",
    "plt.bar(range(len(od)), od.values(), align='center')\n",
    "plt.xticks(range(len(od)), [float(Decimal(\"%.2f\" % key)) for key in od.keys()])\n",
    "plt.show()"
   ]
  },
  {
   "cell_type": "markdown",
   "metadata": {},
   "source": [
    "This data is interesting.\n",
    "First, the x labels show four possible options\n",
    "That is because the voting process decides on a simple majority, which in this case, is best out of seven\n",
    "\n",
    "57.14% represents 4/7, 71.43% is 5/7, 85.71% is 6/7 and 100.0% is 7/7"
   ]
  },
  {
   "cell_type": "code",
   "execution_count": 145,
   "metadata": {
    "collapsed": false
   },
   "outputs": [
    {
     "data": {
      "image/png": "[encoded data removed]",
      "text/plain": [
       "<matplotlib.figure.Figure at 0x116d444a8>"
      ]
     },
     "metadata": {},
     "output_type": "display_data"
    }
   ],
   "source": [
    "labels = ['4/7','5/7','6/7','7/7']\n",
    "plt.pie(list(count_data.values()), labels = labels, autopct='%1.1f%%')\n",
    "plt.show()"
   ]
  },
  {
   "cell_type": "markdown",
   "metadata": {},
   "source": [
    "This shows us that only a smaller of the time do all 7 tests agree while the largest percentage of the time, only 5/7 tests agree. This points to the limitations of the tests we use in this example"
   ]
  },
  {
   "cell_type": "code",
   "execution_count": 146,
   "metadata": {
    "collapsed": false
   },
   "outputs": [
    {
     "name": "stdout",
     "output_type": "stream",
     "text": [
      "The mean confidence level is:  84.9428571429\n",
      "The standard deviation of the confidence is:  16.0552871322\n"
     ]
    }
   ],
   "source": [
    "import numpy as np\n",
    "mean = np.mean(y, dtype=np.float64)\n",
    "print(\"The mean confidence level is: \", mean)\n",
    "stdev = np.std(y, dtype = np.float64)\n",
    "print(\"The standard deviation of the confidence is: \", stdev)"
   ]
  },
  {
   "cell_type": "code",
   "execution_count": 147,
   "metadata": {
    "collapsed": true
   },
   "outputs": [],
   "source": [
    "#Linear Regression\n",
    "import statsmodels.api as sm\n",
    "from statsmodels import regression"
   ]
  },
  {
   "cell_type": "markdown",
   "metadata": {},
   "source": [
    "Factor models are a way of explaining the results via a linear combination of its inherent alpha as well as exposure to other indicators. The general form of a factor model is\n",
    "\n",
    "$$Y = \\alpha + \\beta_1 X_1 + \\beta_2 X_2 + \\dots + \\beta_n X_n$$"
   ]
  },
  {
   "cell_type": "code",
   "execution_count": 148,
   "metadata": {
    "collapsed": false
   },
   "outputs": [
    {
     "name": "stdout",
     "output_type": "stream",
     "text": [
      "alpha: 87.1876980163\n",
      "beta: -0.00449417592275\n"
     ]
    }
   ],
   "source": [
    "# Let's define everything in familiar regression terms\n",
    "X = x\n",
    "Y = y\n",
    "\n",
    "def linreg(x,y):\n",
    "    # We add a constant so that we can also fit an intercept (alpha) to the model\n",
    "    x = sm.add_constant(x)\n",
    "    model = regression.linear_model.OLS(y,x).fit()\n",
    "    # Remove the constant now that we're done\n",
    "    x = x[:, 1]\n",
    "    #print(model.params)\n",
    "    return model.params[0], model.params[1]\n",
    "\n",
    "#alpha and beta \n",
    "alpha, beta = linreg(X,Y)\n",
    "print ('alpha: ' + str(alpha))\n",
    "print ('beta: ' + str(beta))"
   ]
  },
  {
   "cell_type": "code",
   "execution_count": 149,
   "metadata": {
    "collapsed": false
   },
   "outputs": [
    {
     "data": {
      "image/png": "[encoded data removed]",
      "text/plain": [
       "<matplotlib.figure.Figure at 0x11a49f3c8>"
      ]
     },
     "metadata": {},
     "output_type": "display_data"
    }
   ],
   "source": [
    "X2 = np.linspace(X.start, X.stop)\n",
    "Y_hat = X2 * beta + alpha\n",
    "\n",
    "plt.scatter(X, Y, alpha=0.25) # Plot the raw data\n",
    "plt.xlabel(\"Number of Tests\", fontsize = \"16\")\n",
    "plt.ylabel(\"Confidence\", fontsize = \"16\")\n",
    "plt.axis('tight')\n",
    "\n",
    " # Add the regression line, colored in red\n",
    "plt.plot(X2, Y_hat, 'r', alpha=0.9);"
   ]
  },
  {
   "cell_type": "markdown",
   "metadata": {
    "collapsed": true
   },
   "source": [
    "## Conclusion\n",
    "\n",
    "In the future, we hope to process Twitter information, newspaper articles, and other public data that we can analyze for sentiment analysis regarding any topic. We can adjust the parameters of each machine learning classifier to optimize how the data is read through for the best results, which in turn exchanges processing power for better answers.\n",
    "\n",
    "We hope you learned something about natural language processing. We admit that there is definite room for improvement. These are only the beginning steps to use and implement machine learning and natural language processing. This represents a huge step toward how machines are able to understand the English language much like humans do, and most likely, even better than we do.\n",
    "\n",
    "Special thanks to pythonprogramming.com for online guidance through this project."
   ]
  }
 ],
 "metadata": {
  "kernelspec": {
   "display_name": "Python 3",
   "language": "python",
   "name": "python3"
  },
  "language_info": {
   "codemirror_mode": {
    "name": "ipython",
    "version": 3
   },
   "file_extension": ".py",
   "mimetype": "text/x-python",
   "name": "python",
   "nbconvert_exporter": "python",
   "pygments_lexer": "ipython3",
   "version": "3.5.1"
  }
 },
 "nbformat": 4,
 "nbformat_minor": 0
}
