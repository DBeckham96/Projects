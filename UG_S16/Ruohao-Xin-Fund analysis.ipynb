{
 "cells": [
  {
   "cell_type": "markdown",
   "metadata": {},
   "source": [
    "# Data Bootcamp Final Project -- Fund Evaluation using Python\n",
    "\n",
    "Data Bootcamp UG 2016 Spring\n",
    "\n",
    "Author: Ruohao Xin NYU Stern Class of 2016 \n",
    "\n",
    "**Project motivation: ** It is inefficient to perform fund evaluation with Excel. I want to automate most of the basic analysis & regression with Python.\n",
    "\n",
    "In this notebook, I am using **XOP** (SPDR Oil & Gas Production ETF)as an example. \n",
    "\n",
    "I thought it is interesting as an example given the high volatility in oil prices over the past year. \n",
    "\n",
    "At the end of the analysis, we can see if it is valuable to invest in oil related industry between the selected period. \n",
    "\n",
    "** Data Source:**\n",
    "1. Yahoo Finance for ETF information\n",
    "2. Ken French Library for fama-french U.S equity factors\n",
    "\n",
    "**Project Reference: **\n",
    "[Data Bootcamp Github](https://github.com/DaveBackus/Data_Bootcamp) by Professor Backus and Statsmodel notebook by Brian Leblanc"
   ]
  },
  {
   "cell_type": "code",
   "execution_count": 42,
   "metadata": {
    "collapsed": false
   },
   "outputs": [
    {
     "name": "stdout",
     "output_type": "stream",
     "text": [
      "Pandas version:  0.17.1\n",
      "Matplotlib version:  1.5.1\n",
      "Today:  2016-05-11\n"
     ]
    }
   ],
   "source": [
    "#installing packages to extract prices from Yahoo\n",
    "import pandas as pd\n",
    "from pandas.io.data import DataReader\n",
    "import datetime as dt\n",
    "import matplotlib as mpl\n",
    "\n",
    "print('Pandas version: ', pd.__version__)\n",
    "print('Matplotlib version: ', mpl.__version__)\n",
    "print('Today: ', dt.date.today())\n",
    "\n",
    "%matplotlib inline"
   ]
  },
  {
   "cell_type": "markdown",
   "metadata": {},
   "source": [
    "## Read in data from Yahoo Finance"
   ]
  },
  {
   "cell_type": "code",
   "execution_count": 59,
   "metadata": {
    "collapsed": false
   },
   "outputs": [
    {
     "data": {
      "text/html": [
       "<div>\n",
       "<table border=\"1\" class=\"dataframe\">\n",
       "  <thead>\n",
       "    <tr style=\"text-align: right;\">\n",
       "      <th></th>\n",
       "      <th>SPY</th>\n",
       "      <th>XOP</th>\n",
       "    </tr>\n",
       "    <tr>\n",
       "      <th>Date</th>\n",
       "      <th></th>\n",
       "      <th></th>\n",
       "    </tr>\n",
       "  </thead>\n",
       "  <tbody>\n",
       "    <tr>\n",
       "      <th>2012-01-01</th>\n",
       "      <td>4.15</td>\n",
       "      <td>7.54</td>\n",
       "    </tr>\n",
       "    <tr>\n",
       "      <th>2012-02-01</th>\n",
       "      <td>2.91</td>\n",
       "      <td>0.27</td>\n",
       "    </tr>\n",
       "    <tr>\n",
       "      <th>2012-03-01</th>\n",
       "      <td>-0.07</td>\n",
       "      <td>-7.53</td>\n",
       "    </tr>\n",
       "    <tr>\n",
       "      <th>2012-04-01</th>\n",
       "      <td>-3.08</td>\n",
       "      <td>-6.84</td>\n",
       "    </tr>\n",
       "    <tr>\n",
       "      <th>2012-05-01</th>\n",
       "      <td>-1.13</td>\n",
       "      <td>-7.17</td>\n",
       "    </tr>\n",
       "  </tbody>\n",
       "</table>\n",
       "</div>"
      ],
      "text/plain": [
       "             SPY   XOP\n",
       "Date                  \n",
       "2012-01-01  4.15  7.54\n",
       "2012-02-01  2.91  0.27\n",
       "2012-03-01 -0.07 -7.53\n",
       "2012-04-01 -3.08 -6.84\n",
       "2012-05-01 -1.13 -7.17"
      ]
     },
     "execution_count": 59,
     "metadata": {},
     "output_type": "execute_result"
    }
   ],
   "source": [
    "start = dt.datetime(2012, 1, 1)  \n",
    "end = dt.datetime(2015, 12, 31)    \n",
    "tickers = ['XOP','SPY']   \n",
    "# the time period need to long enough for the regression to work\n",
    "# SPY is the S&P 500 index ETF, I am using it as a proxy for market performance over the same period\n",
    "# I am using 3 years(36 months) of data from XOP and SPY, a lot of other ETFs don't go back longer than 3 years\n",
    "\n",
    "# if first argument is a list, this returns a panel\n",
    "p = DataReader(tickers, 'yahoo', start, end)\n",
    "\n",
    "df = p.to_frame().unstack()['Adj Close'] #unpack the data and only save the \"Adj Close\" column\n",
    "dm = df.resample('MS')                # this converts the data into first day of each month using resampling                    \n",
    "\n",
    "dmpct = dm.pct_change().shift(-1) #to fix the mismatch issue of the pct_change function, shift all the result up 1 unit\n",
    "dmpct1 = dmpct.round(4)*100       #multiplication to make it consistent with fama french factors  \n",
    "dmpct1.head(5)                    #Now we have the fund/ETF monthly return ready to go. "
   ]
  },
  {
   "cell_type": "code",
   "execution_count": 61,
   "metadata": {
    "collapsed": false
   },
   "outputs": [
    {
     "data": {
      "text/plain": [
       "<matplotlib.axes._subplots.AxesSubplot at 0x1c5ada23b38>"
      ]
     },
     "execution_count": 61,
     "metadata": {},
     "output_type": "execute_result"
    },
    {
     "data": {
      "image/png": "[encoded data removed]",
      "text/plain": [
       "<matplotlib.figure.Figure at 0x1c5adab3eb8>"
      ]
     },
     "metadata": {},
     "output_type": "display_data"
    }
   ],
   "source": [
    "#Basic visualization of the fund data -- daily price\n",
    "dm.plot(kind='line',figsize = (10,6), title = 'Daily Price')\n",
    "#now this chart doesn't really tell you anything useful as the price of two ETF deviates"
   ]
  },
  {
   "cell_type": "code",
   "execution_count": 60,
   "metadata": {
    "collapsed": false
   },
   "outputs": [
    {
     "data": {
      "text/plain": [
       "<matplotlib.axes._subplots.AxesSubplot at 0x1c5ad9e1940>"
      ]
     },
     "execution_count": 60,
     "metadata": {},
     "output_type": "execute_result"
    },
    {
     "data": {
      "image/png": "[encoded data removed]",
      "text/plain": [
       "<matplotlib.figure.Figure at 0x1c5ad931208>"
      ]
     },
     "metadata": {},
     "output_type": "display_data"
    }
   ],
   "source": [
    "#Basic visualization of the fund data -- monthly return\n",
    "dmpct1.plot(kind='line',figsize = (10,6), title='Monthly Return') \n",
    "#the monthly return chart is much more informative as it eliminates the level effect of prices \n",
    "#as you can see, XOP(green)is a lot more volatile comparing to the market return "
   ]
  },
  {
   "cell_type": "code",
   "execution_count": 65,
   "metadata": {
    "collapsed": false
   },
   "outputs": [
    {
     "data": {
      "text/plain": [
       "array([<matplotlib.axes._subplots.AxesSubplot object at 0x000001C5AEE80438>,\n",
       "       <matplotlib.axes._subplots.AxesSubplot object at 0x000001C5AF033400>], dtype=object)"
      ]
     },
     "execution_count": 65,
     "metadata": {},
     "output_type": "execute_result"
    },
    {
     "data": {
      "image/png": "[encoded data removed]",
      "text/plain": [
       "<matplotlib.figure.Figure at 0x1c5aeff6390>"
      ]
     },
     "metadata": {},
     "output_type": "display_data"
    }
   ],
   "source": [
    "dmpct1.plot(kind='hist',subplots=True, figsize = (8,4),bins = 25,title=\"histograph for SPY & XOP\")\n",
    "# we can use histogram to see the distribution of returns for the S&P 500 comparing to the fund we are using\n",
    "# It is clear that XOP has more losses than S&P 500 ...not a good sign if you want to make money "
   ]
  },
  {
   "cell_type": "markdown",
   "metadata": {},
   "source": [
    "## Basic performance analysis "
   ]
  },
  {
   "cell_type": "code",
   "execution_count": 49,
   "metadata": {
    "collapsed": false
   },
   "outputs": [
    {
     "name": "stdout",
     "output_type": "stream",
     "text": [
      "SPY    1.171915\n",
      "XOP   -0.791915\n",
      "dtype: float64\n",
      "SPY    2.262183\n",
      "XOP    7.251199\n",
      "dtype: float64\n"
     ]
    }
   ],
   "source": [
    "print(dmpct1.mean())  #average return for the fund\n",
    "print(dmpct1.std())   #average standard deviation for the fund"
   ]
  },
  {
   "cell_type": "markdown",
   "metadata": {},
   "source": [
    "## Read in data from Ken French data library \n",
    "\n",
    "Now we need to perform a basic factor regression to see how the ETF correlates with the factors (Market, SMB, HML)\n",
    "\n",
    "**Market(Market - Rf)**       --> excess return on the market \n",
    "\n",
    "**SMB: (Small minue Big)**    --> Trade on small firms versus big firms in market cap \n",
    "\n",
    "**HML: (High minus Low)**     --> Trade on high B/M ratio companies versus low B/M companies "
   ]
  },
  {
   "cell_type": "code",
   "execution_count": 50,
   "metadata": {
    "collapsed": false
   },
   "outputs": [
    {
     "data": {
      "text/html": [
       "<div>\n",
       "<table border=\"1\" class=\"dataframe\">\n",
       "  <thead>\n",
       "    <tr style=\"text-align: right;\">\n",
       "      <th></th>\n",
       "      <th>Market</th>\n",
       "      <th>SMB</th>\n",
       "      <th>HML</th>\n",
       "      <th>Rf</th>\n",
       "    </tr>\n",
       "  </thead>\n",
       "  <tbody>\n",
       "    <tr>\n",
       "      <th>201201</th>\n",
       "      <td>5.05</td>\n",
       "      <td>2.51</td>\n",
       "      <td>-2.14</td>\n",
       "      <td>0.00</td>\n",
       "    </tr>\n",
       "    <tr>\n",
       "      <th>201202</th>\n",
       "      <td>4.42</td>\n",
       "      <td>-1.65</td>\n",
       "      <td>0.01</td>\n",
       "      <td>0.00</td>\n",
       "    </tr>\n",
       "    <tr>\n",
       "      <th>201203</th>\n",
       "      <td>3.11</td>\n",
       "      <td>-0.27</td>\n",
       "      <td>-0.06</td>\n",
       "      <td>0.00</td>\n",
       "    </tr>\n",
       "    <tr>\n",
       "      <th>201204</th>\n",
       "      <td>-0.85</td>\n",
       "      <td>-0.63</td>\n",
       "      <td>-0.20</td>\n",
       "      <td>0.00</td>\n",
       "    </tr>\n",
       "    <tr>\n",
       "      <th>201205</th>\n",
       "      <td>-6.19</td>\n",
       "      <td>-0.11</td>\n",
       "      <td>0.08</td>\n",
       "      <td>0.01</td>\n",
       "    </tr>\n",
       "  </tbody>\n",
       "</table>\n",
       "</div>"
      ],
      "text/plain": [
       "        Market   SMB   HML    Rf\n",
       "201201    5.05  2.51 -2.14  0.00\n",
       "201202    4.42 -1.65  0.01  0.00\n",
       "201203    3.11 -0.27 -0.06  0.00\n",
       "201204   -0.85 -0.63 -0.20  0.00\n",
       "201205   -6.19 -0.11  0.08  0.01"
      ]
     },
     "execution_count": 50,
     "metadata": {},
     "output_type": "execute_result"
    }
   ],
   "source": [
    "ff = DataReader('F-F_Research_Data_Factors', 'famafrench')[0]\n",
    "ff.columns = ['Market', 'SMB', 'HML', 'Rf'] #rename the columns to make it easier to understand \n",
    "ff.head()\n",
    "\n",
    "ff1=ff[ff.index >= 201201]  #this is to keep the time series of factors and ETF returns consistent \n",
    "ff1.head()"
   ]
  },
  {
   "cell_type": "markdown",
   "metadata": {},
   "source": [
    "## Linear Regression"
   ]
  },
  {
   "cell_type": "code",
   "execution_count": 51,
   "metadata": {
    "collapsed": false
   },
   "outputs": [
    {
     "data": {
      "text/html": [
       "<div>\n",
       "<table border=\"1\" class=\"dataframe\">\n",
       "  <thead>\n",
       "    <tr style=\"text-align: right;\">\n",
       "      <th></th>\n",
       "      <th>SPY</th>\n",
       "      <th>XOP</th>\n",
       "      <th>Market</th>\n",
       "      <th>SMB</th>\n",
       "      <th>HML</th>\n",
       "      <th>Rf</th>\n",
       "    </tr>\n",
       "  </thead>\n",
       "  <tbody>\n",
       "    <tr>\n",
       "      <th>1</th>\n",
       "      <td>4.15</td>\n",
       "      <td>7.54</td>\n",
       "      <td>5.05</td>\n",
       "      <td>2.51</td>\n",
       "      <td>-2.14</td>\n",
       "      <td>0.00</td>\n",
       "    </tr>\n",
       "    <tr>\n",
       "      <th>2</th>\n",
       "      <td>2.91</td>\n",
       "      <td>0.27</td>\n",
       "      <td>4.42</td>\n",
       "      <td>-1.65</td>\n",
       "      <td>0.01</td>\n",
       "      <td>0.00</td>\n",
       "    </tr>\n",
       "    <tr>\n",
       "      <th>3</th>\n",
       "      <td>-0.07</td>\n",
       "      <td>-7.53</td>\n",
       "      <td>3.11</td>\n",
       "      <td>-0.27</td>\n",
       "      <td>-0.06</td>\n",
       "      <td>0.00</td>\n",
       "    </tr>\n",
       "    <tr>\n",
       "      <th>4</th>\n",
       "      <td>-3.08</td>\n",
       "      <td>-6.84</td>\n",
       "      <td>-0.85</td>\n",
       "      <td>-0.63</td>\n",
       "      <td>-0.20</td>\n",
       "      <td>0.00</td>\n",
       "    </tr>\n",
       "    <tr>\n",
       "      <th>5</th>\n",
       "      <td>-1.13</td>\n",
       "      <td>-7.17</td>\n",
       "      <td>-6.19</td>\n",
       "      <td>-0.11</td>\n",
       "      <td>0.08</td>\n",
       "      <td>0.01</td>\n",
       "    </tr>\n",
       "  </tbody>\n",
       "</table>\n",
       "</div>"
      ],
      "text/plain": [
       "    SPY   XOP  Market   SMB   HML    Rf\n",
       "1  4.15  7.54    5.05  2.51 -2.14  0.00\n",
       "2  2.91  0.27    4.42 -1.65  0.01  0.00\n",
       "3 -0.07 -7.53    3.11 -0.27 -0.06  0.00\n",
       "4 -3.08 -6.84   -0.85 -0.63 -0.20  0.00\n",
       "5 -1.13 -7.17   -6.19 -0.11  0.08  0.01"
      ]
     },
     "execution_count": 51,
     "metadata": {},
     "output_type": "execute_result"
    }
   ],
   "source": [
    "import statsmodels.formula.api as smf  #introduce the regression package \n",
    "ff1.index = range(1,len(ff1) + 1) \n",
    "dmpct1.index = range(1,len(dmpct1) + 1) #I need to reset the index of both to merge the databases corrrectly \n",
    "combine = pd.concat([dmpct1, ff1], axis=1) #This step allows me to have the returns and factors alligned nicely\n",
    "combine.head()"
   ]
  },
  {
   "cell_type": "code",
   "execution_count": 52,
   "metadata": {
    "collapsed": false
   },
   "outputs": [
    {
     "data": {
      "text/html": [
       "<div>\n",
       "<table border=\"1\" class=\"dataframe\">\n",
       "  <thead>\n",
       "    <tr style=\"text-align: right;\">\n",
       "      <th></th>\n",
       "      <th>SPY</th>\n",
       "      <th>XOP</th>\n",
       "      <th>Market</th>\n",
       "      <th>SMB</th>\n",
       "      <th>HML</th>\n",
       "      <th>Rf</th>\n",
       "      <th>Excess</th>\n",
       "    </tr>\n",
       "  </thead>\n",
       "  <tbody>\n",
       "    <tr>\n",
       "      <th>1</th>\n",
       "      <td>4.15</td>\n",
       "      <td>7.54</td>\n",
       "      <td>5.05</td>\n",
       "      <td>2.51</td>\n",
       "      <td>-2.14</td>\n",
       "      <td>0.00</td>\n",
       "      <td>7.54</td>\n",
       "    </tr>\n",
       "    <tr>\n",
       "      <th>2</th>\n",
       "      <td>2.91</td>\n",
       "      <td>0.27</td>\n",
       "      <td>4.42</td>\n",
       "      <td>-1.65</td>\n",
       "      <td>0.01</td>\n",
       "      <td>0.00</td>\n",
       "      <td>0.27</td>\n",
       "    </tr>\n",
       "    <tr>\n",
       "      <th>3</th>\n",
       "      <td>-0.07</td>\n",
       "      <td>-7.53</td>\n",
       "      <td>3.11</td>\n",
       "      <td>-0.27</td>\n",
       "      <td>-0.06</td>\n",
       "      <td>0.00</td>\n",
       "      <td>-7.53</td>\n",
       "    </tr>\n",
       "    <tr>\n",
       "      <th>4</th>\n",
       "      <td>-3.08</td>\n",
       "      <td>-6.84</td>\n",
       "      <td>-0.85</td>\n",
       "      <td>-0.63</td>\n",
       "      <td>-0.20</td>\n",
       "      <td>0.00</td>\n",
       "      <td>-6.84</td>\n",
       "    </tr>\n",
       "    <tr>\n",
       "      <th>5</th>\n",
       "      <td>-1.13</td>\n",
       "      <td>-7.17</td>\n",
       "      <td>-6.19</td>\n",
       "      <td>-0.11</td>\n",
       "      <td>0.08</td>\n",
       "      <td>0.01</td>\n",
       "      <td>-7.18</td>\n",
       "    </tr>\n",
       "  </tbody>\n",
       "</table>\n",
       "</div>"
      ],
      "text/plain": [
       "    SPY   XOP  Market   SMB   HML    Rf  Excess\n",
       "1  4.15  7.54    5.05  2.51 -2.14  0.00    7.54\n",
       "2  2.91  0.27    4.42 -1.65  0.01  0.00    0.27\n",
       "3 -0.07 -7.53    3.11 -0.27 -0.06  0.00   -7.53\n",
       "4 -3.08 -6.84   -0.85 -0.63 -0.20  0.00   -6.84\n",
       "5 -1.13 -7.17   -6.19 -0.11  0.08  0.01   -7.18"
      ]
     },
     "execution_count": 52,
     "metadata": {},
     "output_type": "execute_result"
    }
   ],
   "source": [
    "combine['Excess'] = combine['XOP']- combine['Rf']  \n",
    "# After combining two dataset, I need to get excess market return for the given fund/ETF\n",
    "combine.head()"
   ]
  },
  {
   "cell_type": "code",
   "execution_count": 53,
   "metadata": {
    "collapsed": false
   },
   "outputs": [
    {
     "name": "stdout",
     "output_type": "stream",
     "text": [
      "                            OLS Regression Results                            \n",
      "==============================================================================\n",
      "Dep. Variable:                 Excess   R-squared:                       0.061\n",
      "Model:                            OLS   Adj. R-squared:                 -0.005\n",
      "Method:                 Least Squares   F-statistic:                    0.9308\n",
      "Date:                Wed, 11 May 2016   Prob (F-statistic):              0.434\n",
      "Time:                        17:07:57   Log-Likelihood:                -157.82\n",
      "No. Observations:                  47   AIC:                             323.6\n",
      "Df Residuals:                      43   BIC:                             331.0\n",
      "Df Model:                           3                                         \n",
      "Covariance Type:            nonrobust                                         \n",
      "==============================================================================\n",
      "                 coef    std err          t      P>|t|      [95.0% Conf. Int.]\n",
      "------------------------------------------------------------------------------\n",
      "Intercept     -1.0319      1.155     -0.894      0.376        -3.360     1.297\n",
      "Market         0.2609      0.351      0.744      0.461        -0.446     0.968\n",
      "SMB            0.3192      0.503      0.635      0.529        -0.694     1.333\n",
      "HML            0.8241      0.589      1.400      0.169        -0.363     2.011\n",
      "==============================================================================\n",
      "Omnibus:                        1.327   Durbin-Watson:                   1.768\n",
      "Prob(Omnibus):                  0.515   Jarque-Bera (JB):                0.552\n",
      "Skew:                          -0.080   Prob(JB):                        0.759\n",
      "Kurtosis:                       3.506   Cond. No.                         3.72\n",
      "==============================================================================\n",
      "\n",
      "Warnings:\n",
      "[1] Standard Errors assume that the covariance matrix of the errors is correctly specified.\n"
     ]
    }
   ],
   "source": [
    "model = smf.ols(formula = 'Excess ~ Market + SMB + HML', data = combine).fit()     #Fits the linear regression model\n",
    "print(model.summary())  #Prints off a nice summary!"
   ]
  },
  {
   "cell_type": "code",
   "execution_count": 54,
   "metadata": {
    "collapsed": false
   },
   "outputs": [
    {
     "data": {
      "text/html": [
       "<div>\n",
       "<table border=\"1\" class=\"dataframe\">\n",
       "  <thead>\n",
       "    <tr style=\"text-align: right;\">\n",
       "      <th></th>\n",
       "      <th>XOP</th>\n",
       "    </tr>\n",
       "  </thead>\n",
       "  <tbody>\n",
       "    <tr>\n",
       "      <th>Intercept</th>\n",
       "      <td>-1.031915</td>\n",
       "    </tr>\n",
       "    <tr>\n",
       "      <th>Market</th>\n",
       "      <td>0.260921</td>\n",
       "    </tr>\n",
       "    <tr>\n",
       "      <th>SMB</th>\n",
       "      <td>0.319233</td>\n",
       "    </tr>\n",
       "    <tr>\n",
       "      <th>HML</th>\n",
       "      <td>0.824092</td>\n",
       "    </tr>\n",
       "  </tbody>\n",
       "</table>\n",
       "</div>"
      ],
      "text/plain": [
       "                XOP\n",
       "Intercept -1.031915\n",
       "Market     0.260921\n",
       "SMB        0.319233\n",
       "HML        0.824092"
      ]
     },
     "execution_count": 54,
     "metadata": {},
     "output_type": "execute_result"
    }
   ],
   "source": [
    "result = pd.DataFrame(model.params)\n",
    "result.columns = ['XOP']\n",
    "result"
   ]
  },
  {
   "cell_type": "markdown",
   "metadata": {},
   "source": [
    "## Calculate Sharpe Ratio\n",
    "The sharpe ratio is commonly used to measure risk-adjusted return for given asset\n",
    "\n",
    "** Sharpe ratio = (Mean asset return − Risk-free rate)/Standard deviation of asset return **\n",
    "\n",
    "It measure the excess return per unit of additional risk. It can be positive, negative or zero(risk free) given the underlying asset. "
   ]
  },
  {
   "cell_type": "code",
   "execution_count": 55,
   "metadata": {
    "collapsed": false
   },
   "outputs": [
    {
     "name": "stdout",
     "output_type": "stream",
     "text": [
      "Average excess return:  -0.7931914893617021\n",
      "Standard deviation:  7.251014953359222\n",
      "Sharpe Ratio:  -0.10939040871709076\n"
     ]
    }
   ],
   "source": [
    "print('Average excess return: ',combine['Excess'].mean())\n",
    "print('Standard deviation: ',combine['Excess'].std())\n",
    "Sharpe = combine['Excess'].mean()/combine['Excess'].std()  #we are using average excess return on the fund as calculated above\n",
    "print ('Sharpe Ratio: ',Sharpe)"
   ]
  },
  {
   "cell_type": "code",
   "execution_count": 56,
   "metadata": {
    "collapsed": false
   },
   "outputs": [
    {
     "data": {
      "text/html": [
       "<div>\n",
       "<table border=\"1\" class=\"dataframe\">\n",
       "  <thead>\n",
       "    <tr style=\"text-align: right;\">\n",
       "      <th></th>\n",
       "      <th>XOP</th>\n",
       "    </tr>\n",
       "  </thead>\n",
       "  <tbody>\n",
       "    <tr>\n",
       "      <th>Intercept</th>\n",
       "      <td>-1.031915</td>\n",
       "    </tr>\n",
       "    <tr>\n",
       "      <th>Market</th>\n",
       "      <td>0.260921</td>\n",
       "    </tr>\n",
       "    <tr>\n",
       "      <th>SMB</th>\n",
       "      <td>0.319233</td>\n",
       "    </tr>\n",
       "    <tr>\n",
       "      <th>HML</th>\n",
       "      <td>0.824092</td>\n",
       "    </tr>\n",
       "    <tr>\n",
       "      <th>Sharpe Ratio</th>\n",
       "      <td>-0.109390</td>\n",
       "    </tr>\n",
       "  </tbody>\n",
       "</table>\n",
       "</div>"
      ],
      "text/plain": [
       "                   XOP\n",
       "Intercept    -1.031915\n",
       "Market        0.260921\n",
       "SMB           0.319233\n",
       "HML           0.824092\n",
       "Sharpe Ratio -0.109390"
      ]
     },
     "execution_count": 56,
     "metadata": {},
     "output_type": "execute_result"
    }
   ],
   "source": [
    "result.loc['Sharpe Ratio']= Sharpe    # now we can use loc to add sharpe ratio into our regression result dataframe\n",
    "result"
   ]
  },
  {
   "cell_type": "markdown",
   "metadata": {},
   "source": [
    "## Conclusion\n",
    "\n",
    "**For XOP:  **\n",
    "\n",
    "This ETF is not a very good investment as indicated by the negative sharpe ratio and -1% alpha. \n",
    "\n",
    "A negative sharpe ratio would suggest that you are better off investing in a risk free bond than putting your money into the ETF. \n",
    "\n",
    "However, the ETF may still have diverfication value in a portfolio context given its low correlation to the overall market. \n",
    "\n",
    "\n",
    "**For the project: **\n",
    "\n",
    "The code above can efficiently run fund regression one at a time. The next step would be to re-model the code into a loop strcture so it can reads in a list of tickers and perform the same function repeatedly. It will provide a similar table like the final result above but with more columns. \n",
    "\n",
    "The idea is that you can quickly screen a set of mutual funds with similar strategy and investment scope. The result table would allow you to screen for the best performing fund in the subset easily.\n",
    "\n",
    "**More on the subject: **\n",
    "\n",
    "Theoractically, this can also be replicated for the Chinese fund analysis without the use of proprietary database CSMARS.\n",
    "\n",
    "You can extract mutual fund data from: [Chinese Securities Regulatory Commission Fund Disclosure](http://fund.csrc.gov.cn/web/list_net.daily_report?1=1&fundCode=000001&limit=20&start=0) with a web-scraping loop. \n",
    "\n",
    "I cannot perform the analysis because I didn't know how to constrcut the fama-french factors for Chinese stock market"
   ]
  }
 ],
 "metadata": {
  "kernelspec": {
   "display_name": "Python 3",
   "language": "python",
   "name": "python3"
  },
  "language_info": {
   "codemirror_mode": {
    "name": "ipython",
    "version": 3
   },
   "file_extension": ".py",
   "mimetype": "text/x-python",
   "name": "python",
   "nbconvert_exporter": "python",
   "pygments_lexer": "ipython3",
   "version": "3.5.1"
  }
 },
 "nbformat": 4,
 "nbformat_minor": 0
}
