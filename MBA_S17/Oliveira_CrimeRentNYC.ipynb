{
 "cells": [
  {
   "cell_type": "markdown",
   "metadata": {},
   "source": [
    "# The Relationship between Crime and Airbnb Prices in New York City\n",
    "\n",
    "## Felipe Oliveira | May 8, 2017\n",
    "\n",
    "The housing market is known to be very volatile and is well regarded to be dependant on several factors, such as  supply and demand,location, as well as demographics of the local region. New York City has one of the highest median rent in the U.S., but also one of the highest crime rates in the country. The goal of my final project for Data Bootcamp is to understand the relationship between crime rate and rent prices in New York City, and see if rent in different areas of manhattan is actually affected by the crime rate. \n",
    "\n",
    "Using property data scraped from the Airbnb, as well as public government data on recent crime activity, I hope to be able to quantify and visualize the impact of crime activity on rent prices.\n",
    "\n",
    "\n",
    "** Contents:**\n",
    "1. About the Data\n",
    "    + 1.1 | Links to My Data\n",
    "    + 1.2 | Explanation of Data\n",
    "2. Import and Clean Data\n",
    "    + 2.1 | Housing Data\n",
    "        - 2.1.1 Import Housing Data\n",
    "        - 2.1.2 Clean Housing Data\n",
    "    + 2.2 | Crime Data\n",
    "        - 2.2.1 Import Crime Data\n",
    "        - 2.2.1 Clean Crime Data\n",
    "3. Visualizing the Data\n",
    "    + 3.1 | Visualizing Housing Data\n",
    "    + 3.2 | Visualizing Housing Data vs. Crime Data\n",
    "4. Conclusion"
   ]
  },
  {
   "cell_type": "markdown",
   "metadata": {},
   "source": [
    "#### 1. About the Data\n",
    "\n",
    "### 1.1 Links to Data\n",
    "\n",
    "The data has been extracted from 4 sources :\n",
    "\n",
    "Airbnb's data between January 1st and January 3rd, 2015: \n",
    "http://data.beta.nyc//dataset/e91bde48-dbd0-4724-a433-a34bf0140e66/resource/9d64399b-36d6-40a9-b0bb-f26ae0d9c53f/download/listings.csv\n",
    "\n",
    "New York Police Department data for 2015: \n",
    "http://data.beta.nyc//dataset/c874f72e-23a6-404f-ad83-fdd2aaa104bb/resource/3377cc50-044b-4806-b062-7b0c14351457/download/vol2351.csv\n",
    "\n",
    "Department of Health, Neighborhoods, Boroughs and Zipcodes:\n",
    "https://www.health.ny.gov/statistics/cancer/registry/appendix/neighborhoods.htm\n",
    "\n",
    "Department of Education, Zipcodes and Precincts:\n",
    "https://data.cityofnewyork.us/api/views/u553-m549/rows.csv?accessType=DOWNLOAD\n",
    "\n",
    "\n",
    "### 1.2 Data Explanation\n",
    "#### Housing\n",
    "\n",
    "   At first, I wanted to use Zillow's data for this project, as it seemed very promising. After taking a deeper look into it, I figured that it didn't have good data by areas of the city. Given that, I switched to the Airbnb API, as it had much more detailed data by different zip codes. Also, since Airbnb provides mostly short-term rentals, I believed it was more sensitive to changes in the given area.\n",
    "    \n",
    "#### Crime Data\n",
    "\n",
    "   The NYPD releases weekly data on the crimes of each Precinct in the city. Fortunetely, each weeks data also has the cumulative numbers for the year. So we will use the data for the last week of 2016 and then only use the YearToDate columns, so we can get the full picture for the year.\n",
    "  \n",
    "#### Boroughs and Neighborhoods\n",
    "\n",
    "   The Neighborhood and Borough Data from Airbnb was not accurate. Apartment owners are free to write their Neighborhood and Borough how ever they want. There were 180 Boroughs listed in the data, while in fact, we know there are only 5. To normalize this data, we used data from the health department and matched each zipcode to its correct neighborhood and Borough.\n",
    "    \n",
    "#### Zipcodes and Precincts\n",
    "\n",
    "   The NYPD aggregates its data by Precinct, which is basically arbitrary areas of the city. So I had to use a dataset from the department of education that had school information, but also the zipcode and precinct that each school is located in. This is not completely accurate, becuase a precinct might have more that one zipcode contained in it, but it was the best way I found to match the housing data to the crime date.\n",
    "   \n",
    "   \n",
    "   \n",
    "   \n"
   ]
  },
  {
   "cell_type": "markdown",
   "metadata": {},
   "source": [
    "## 2. Import and Clean Data"
   ]
  },
  {
   "cell_type": "code",
   "execution_count": 2,
   "metadata": {
    "collapsed": false
   },
   "outputs": [
    {
     "name": "stdout",
     "output_type": "stream",
     "text": [
      "Python version:  3.5.2 |Anaconda custom (x86_64)| (default, Jul  2 2016, 17:52:12) \n",
      "[GCC 4.2.1 Compatible Apple LLVM 4.2 (clang-425.0.28)]\n",
      "Pandas version:  0.19.2\n"
     ]
    }
   ],
   "source": [
    "import sys                             # system module \n",
    "import pandas as pd                    # data package\n",
    "import matplotlib.pyplot as plt        # graphics module  \n",
    "import datetime as dt                  # date and time module\n",
    "import numpy as np                     # foundation for pandas \n",
    "import csv\n",
    "import re\n",
    "import math\n",
    "import urllib.request as ul \n",
    "from bs4 import BeautifulSoup\n",
    "\n",
    "%matplotlib inline                     \n",
    "\n",
    "#check versions\n",
    "print('Python version: ', sys.version)\n",
    "print('Pandas version: ', pd.__version__)\n",
    "# print('Today: ', dt.date.today())"
   ]
  },
  {
   "cell_type": "markdown",
   "metadata": {},
   "source": [
    "### 2.1 Housing Data"
   ]
  },
  {
   "cell_type": "markdown",
   "metadata": {},
   "source": [
    "#### 2.1.1 Import the housing data from Airbnb:"
   ]
  },
  {
   "cell_type": "code",
   "execution_count": 3,
   "metadata": {
    "collapsed": false,
    "scrolled": false
   },
   "outputs": [
    {
     "data": {
      "text/html": [
       "<div>\n",
       "<table border=\"1\" class=\"dataframe\">\n",
       "  <thead>\n",
       "    <tr style=\"text-align: right;\">\n",
       "      <th></th>\n",
       "      <th>id</th>\n",
       "      <th>scrape_id</th>\n",
       "      <th>last_scraped</th>\n",
       "      <th>name</th>\n",
       "      <th>picture_url</th>\n",
       "      <th>host_id</th>\n",
       "      <th>host_name</th>\n",
       "      <th>host_since</th>\n",
       "      <th>host_picture_url</th>\n",
       "      <th>street</th>\n",
       "      <th>...</th>\n",
       "      <th>first_review</th>\n",
       "      <th>last_review</th>\n",
       "      <th>review_scores_rating</th>\n",
       "      <th>review_scores_accuracy</th>\n",
       "      <th>review_scores_cleanliness</th>\n",
       "      <th>review_scores_checkin</th>\n",
       "      <th>review_scores_communication</th>\n",
       "      <th>review_scores_location</th>\n",
       "      <th>review_scores_value</th>\n",
       "      <th>host_listing_count</th>\n",
       "    </tr>\n",
       "  </thead>\n",
       "  <tbody>\n",
       "    <tr>\n",
       "      <th>0</th>\n",
       "      <td>1069266</td>\n",
       "      <td>2.015010e+13</td>\n",
       "      <td>1/2/15</td>\n",
       "      <td>Stay like a real New Yorker!</td>\n",
       "      <td>https://a0.muscache.com/pictures/50276484/larg...</td>\n",
       "      <td>5867023</td>\n",
       "      <td>Michael</td>\n",
       "      <td>4/10/13</td>\n",
       "      <td>https://a2.muscache.com/ic/users/5867023/profi...</td>\n",
       "      <td>East 53rd Street, New York, NY 10022, United S...</td>\n",
       "      <td>...</td>\n",
       "      <td>4/28/13</td>\n",
       "      <td>12/17/14</td>\n",
       "      <td>86.0</td>\n",
       "      <td>9.0</td>\n",
       "      <td>7.0</td>\n",
       "      <td>9.0</td>\n",
       "      <td>9.0</td>\n",
       "      <td>10.0</td>\n",
       "      <td>9.0</td>\n",
       "      <td>1</td>\n",
       "    </tr>\n",
       "    <tr>\n",
       "      <th>1</th>\n",
       "      <td>1846722</td>\n",
       "      <td>2.015010e+13</td>\n",
       "      <td>1/2/15</td>\n",
       "      <td>Apartment 20 Minutes Times Square</td>\n",
       "      <td>https://a1.muscache.com/pictures/35865039/larg...</td>\n",
       "      <td>2631556</td>\n",
       "      <td>Denise</td>\n",
       "      <td>6/13/12</td>\n",
       "      <td>https://a2.muscache.com/ic/users/2631556/profi...</td>\n",
       "      <td>West 155th Street, New York, NY, United States</td>\n",
       "      <td>...</td>\n",
       "      <td>1/5/14</td>\n",
       "      <td>12/29/14</td>\n",
       "      <td>85.0</td>\n",
       "      <td>8.0</td>\n",
       "      <td>8.0</td>\n",
       "      <td>9.0</td>\n",
       "      <td>8.0</td>\n",
       "      <td>7.0</td>\n",
       "      <td>8.0</td>\n",
       "      <td>2</td>\n",
       "    </tr>\n",
       "  </tbody>\n",
       "</table>\n",
       "<p>2 rows × 52 columns</p>\n",
       "</div>"
      ],
      "text/plain": [
       "        id     scrape_id last_scraped                               name  \\\n",
       "0  1069266  2.015010e+13       1/2/15      Stay like a real New Yorker!    \n",
       "1  1846722  2.015010e+13       1/2/15  Apartment 20 Minutes Times Square   \n",
       "\n",
       "                                         picture_url  host_id host_name  \\\n",
       "0  https://a0.muscache.com/pictures/50276484/larg...  5867023   Michael   \n",
       "1  https://a1.muscache.com/pictures/35865039/larg...  2631556    Denise   \n",
       "\n",
       "  host_since                                   host_picture_url  \\\n",
       "0    4/10/13  https://a2.muscache.com/ic/users/5867023/profi...   \n",
       "1    6/13/12  https://a2.muscache.com/ic/users/2631556/profi...   \n",
       "\n",
       "                                              street        ...          \\\n",
       "0  East 53rd Street, New York, NY 10022, United S...        ...           \n",
       "1     West 155th Street, New York, NY, United States        ...           \n",
       "\n",
       "  first_review last_review review_scores_rating review_scores_accuracy  \\\n",
       "0      4/28/13    12/17/14                 86.0                    9.0   \n",
       "1       1/5/14    12/29/14                 85.0                    8.0   \n",
       "\n",
       "  review_scores_cleanliness review_scores_checkin review_scores_communication  \\\n",
       "0                       7.0                   9.0                         9.0   \n",
       "1                       8.0                   9.0                         8.0   \n",
       "\n",
       "   review_scores_location  review_scores_value host_listing_count  \n",
       "0                    10.0                  9.0                  1  \n",
       "1                     7.0                  8.0                  2  \n",
       "\n",
       "[2 rows x 52 columns]"
      ]
     },
     "execution_count": 3,
     "metadata": {},
     "output_type": "execute_result"
    }
   ],
   "source": [
    "url = 'http://data.beta.nyc//dataset/e91bde48-dbd0-4724-a433-a34bf0140e66/resource/9d64399b-36d6-40a9-b0bb-f26ae0d9c53f/download/listings.csv'\n",
    "Rent = pd.read_csv(url, sep=',')               # tab (\\t) separated values \n",
    "# print('Variable dtypes:\\n', Rent.dtypes, sep=',')\n",
    "Rent.head(2)"
   ]
  },
  {
   "cell_type": "markdown",
   "metadata": {},
   "source": [
    "#### 2.1.2 Cleaning Housing Data"
   ]
  },
  {
   "cell_type": "markdown",
   "metadata": {},
   "source": [
    "#### Select Relevant Variables"
   ]
  },
  {
   "cell_type": "code",
   "execution_count": 4,
   "metadata": {
    "collapsed": false
   },
   "outputs": [
    {
     "data": {
      "text/plain": [
       "array(['id', 'scrape_id', 'last_scraped', 'name', 'picture_url', 'host_id',\n",
       "       'host_name', 'host_since', 'host_picture_url', 'street',\n",
       "       'neighbourhood', 'neighbourhood_cleansed', 'city', 'state',\n",
       "       'zipcode', 'market', 'country', 'latitude', 'longitude',\n",
       "       'is_location_exact', 'property_type', 'room_type', 'accommodates',\n",
       "       'bathrooms', 'bedrooms', 'beds', 'bed_type', 'square_feet', 'price',\n",
       "       'weekly_price', 'monthly_price', 'guests_included', 'extra_people',\n",
       "       'minimum_nights', 'maximum_nights', 'calendar_updated',\n",
       "       'availability_30', 'availability_60', 'availability_90',\n",
       "       'availability_365', 'calendar_last_scraped', 'number_of_reviews',\n",
       "       'first_review', 'last_review', 'review_scores_rating',\n",
       "       'review_scores_accuracy', 'review_scores_cleanliness',\n",
       "       'review_scores_checkin', 'review_scores_communication',\n",
       "       'review_scores_location', 'review_scores_value',\n",
       "       'host_listing_count'], dtype=object)"
      ]
     },
     "execution_count": 4,
     "metadata": {},
     "output_type": "execute_result"
    }
   ],
   "source": [
    "# list of all variables\n",
    "Rent.columns.values"
   ]
  },
  {
   "cell_type": "code",
   "execution_count": 5,
   "metadata": {
    "collapsed": false
   },
   "outputs": [],
   "source": [
    "# Select Only relevant data\n",
    "\n",
    "Rent = Rent[['name', 'neighbourhood_cleansed', 'city', 'zipcode', 'latitude', 'longitude',\n",
    "          'property_type', 'room_type', 'accommodates','bathrooms', 'bedrooms', 'beds', 'square_feet', 'price',\n",
    "           'weekly_price', 'monthly_price', 'review_scores_value']]"
   ]
  },
  {
   "cell_type": "code",
   "execution_count": 6,
   "metadata": {
    "collapsed": false,
    "scrolled": true
   },
   "outputs": [
    {
     "data": {
      "text/html": [
       "<div>\n",
       "<table border=\"1\" class=\"dataframe\">\n",
       "  <thead>\n",
       "    <tr style=\"text-align: right;\">\n",
       "      <th></th>\n",
       "      <th>name</th>\n",
       "      <th>neighbourhood_cleansed</th>\n",
       "      <th>city</th>\n",
       "      <th>zipcode</th>\n",
       "      <th>latitude</th>\n",
       "      <th>longitude</th>\n",
       "      <th>property_type</th>\n",
       "      <th>room_type</th>\n",
       "      <th>accommodates</th>\n",
       "      <th>bathrooms</th>\n",
       "      <th>bedrooms</th>\n",
       "      <th>beds</th>\n",
       "      <th>square_feet</th>\n",
       "      <th>price</th>\n",
       "      <th>weekly_price</th>\n",
       "      <th>monthly_price</th>\n",
       "      <th>review_scores_value</th>\n",
       "    </tr>\n",
       "  </thead>\n",
       "  <tbody>\n",
       "    <tr>\n",
       "      <th>0</th>\n",
       "      <td>Stay like a real New Yorker!</td>\n",
       "      <td>Midtown East</td>\n",
       "      <td>New York</td>\n",
       "      <td>10022-4175</td>\n",
       "      <td>40.756852</td>\n",
       "      <td>-73.964754</td>\n",
       "      <td>Apartment</td>\n",
       "      <td>Entire home/apt</td>\n",
       "      <td>2</td>\n",
       "      <td>1.0</td>\n",
       "      <td>1.0</td>\n",
       "      <td>1.0</td>\n",
       "      <td>NaN</td>\n",
       "      <td>$160.00</td>\n",
       "      <td>$1,000.00</td>\n",
       "      <td>NaN</td>\n",
       "      <td>9.0</td>\n",
       "    </tr>\n",
       "    <tr>\n",
       "      <th>1</th>\n",
       "      <td>Apartment 20 Minutes Times Square</td>\n",
       "      <td>Hamilton Heights</td>\n",
       "      <td>New York</td>\n",
       "      <td>NaN</td>\n",
       "      <td>40.830599</td>\n",
       "      <td>-73.941014</td>\n",
       "      <td>Apartment</td>\n",
       "      <td>Entire home/apt</td>\n",
       "      <td>10</td>\n",
       "      <td>1.0</td>\n",
       "      <td>3.0</td>\n",
       "      <td>3.0</td>\n",
       "      <td>NaN</td>\n",
       "      <td>$105.00</td>\n",
       "      <td>NaN</td>\n",
       "      <td>NaN</td>\n",
       "      <td>8.0</td>\n",
       "    </tr>\n",
       "  </tbody>\n",
       "</table>\n",
       "</div>"
      ],
      "text/plain": [
       "                                name neighbourhood_cleansed      city  \\\n",
       "0      Stay like a real New Yorker!            Midtown East  New York   \n",
       "1  Apartment 20 Minutes Times Square       Hamilton Heights  New York   \n",
       "\n",
       "      zipcode   latitude  longitude property_type        room_type  \\\n",
       "0  10022-4175  40.756852 -73.964754     Apartment  Entire home/apt   \n",
       "1         NaN  40.830599 -73.941014     Apartment  Entire home/apt   \n",
       "\n",
       "   accommodates  bathrooms  bedrooms  beds  square_feet    price weekly_price  \\\n",
       "0             2        1.0       1.0   1.0          NaN  $160.00    $1,000.00   \n",
       "1            10        1.0       3.0   3.0          NaN  $105.00          NaN   \n",
       "\n",
       "  monthly_price  review_scores_value  \n",
       "0           NaN                  9.0  \n",
       "1           NaN                  8.0  "
      ]
     },
     "execution_count": 6,
     "metadata": {},
     "output_type": "execute_result"
    }
   ],
   "source": [
    "Rent.head(2)"
   ]
  },
  {
   "cell_type": "code",
   "execution_count": 7,
   "metadata": {
    "collapsed": false
   },
   "outputs": [
    {
     "data": {
      "text/plain": [
       "27392"
      ]
     },
     "execution_count": 7,
     "metadata": {},
     "output_type": "execute_result"
    }
   ],
   "source": [
    "nrow = len(Rent.index)\n",
    "nrow"
   ]
  },
  {
   "cell_type": "markdown",
   "metadata": {},
   "source": [
    "#### Import Data to normalize the borough and neighbourhood data"
   ]
  },
  {
   "cell_type": "markdown",
   "metadata": {},
   "source": [
    "Since the only reliable information, in terms of location, from Airbnb is the zipcode, we need to import a list of zipcodes and neighborhoods to normalize the data"
   ]
  },
  {
   "cell_type": "code",
   "execution_count": 9,
   "metadata": {
    "collapsed": false,
    "scrolled": true
   },
   "outputs": [],
   "source": [
    "url = \"https://www.health.ny.gov/statistics/cancer/registry/appendix/neighborhoods.htm\"\n",
    "\n",
    "url_response=ul.urlopen(url, timeout=5)\n",
    "soup = BeautifulSoup(url_response,'lxml')\n",
    "\n",
    "#table we are looking into\n",
    "table = soup.find_all('table')[0]\n",
    "\n",
    "#borough: list of boroughs, neighborhood: list of neighborhoods, zip_code: list of zip codes\n",
    "borough = list()\n",
    "neighborhood = list()\n",
    "zip_code = list()\n",
    "zip_code_unique = list()\n",
    "length = list()\n",
    "\n",
    "#patterns for regular expressions - found printing table.find_all('tr')\n",
    "pattern_borough = '\"header1.+>(.+)</td>' \n",
    "pattern_neighborhood = '\"header2\">\\s(.+)</td>'\n",
    "pattern_zip = '\"header3\">\\s(.+)</td>'\n",
    "\n",
    "for line in table.find_all('td'):\n",
    "    regex_borough = re.compile(pattern_borough) \n",
    "    borough.extend(regex_borough.findall(str(line)))\n",
    "    \n",
    "    regex_neighborhood = re.compile(pattern_neighborhood) \n",
    "    neighborhood.extend(regex_neighborhood.findall(str(line)))\n",
    "    \n",
    "    if len(neighborhood) > len(borough):\n",
    "        borough.append(borough[-1])\n",
    "        \n",
    "    regex_zip = re.compile(pattern_zip) \n",
    "    zip_code.extend(regex_zip.findall(str(line)))  \n",
    "    \n",
    "#print(borough)\n",
    "#print(neighborhood)\n",
    "#print(zip_code)\n",
    "\n",
    "#code to split the zip codes\n",
    "for i in range(len(zip_code)):\n",
    "    regex_zip2 = re.compile('(\\s*[,]\\s*)')\n",
    "    zip_ext = regex_zip.sub(',', zip_code[i]).split(',')\n",
    "    \n",
    "    #list of unique zip codes\n",
    "    zip_code_unique.extend(zip_ext)\n",
    "    #number of split realized to get the corresponding borough and neighborhood\n",
    "    length.append(len(zip_ext))\n",
    "    \n",
    "#code to duplicate the borough and neighborhood so that one given index gives both information\n",
    "#must have a reverse loop to insert at the appropriate location\n",
    "for i in range(len(borough))[::-1]:\n",
    "    j = 0\n",
    "    #j is a counter to insert the same borough/neighborhood at the given index\n",
    "    while length[i] - j > 1:\n",
    "        borough.insert(i, borough[i])\n",
    "        neighborhood.insert(i, neighborhood[i])\n",
    "        j += 1\n"
   ]
  },
  {
   "cell_type": "code",
   "execution_count": 10,
   "metadata": {
    "collapsed": false
   },
   "outputs": [],
   "source": [
    "#cleaning the zip_code_unique list to avoid \" \"\n",
    "\n",
    "for i in range(len(zip_code_unique)):\n",
    "    if len(zip_code_unique[i]) == 6:\n",
    "        zip_code_unique[i] = zip_code_unique[i][1:6]\n"
   ]
  },
  {
   "cell_type": "markdown",
   "metadata": {},
   "source": [
    "#### Remove any row with a missing zipcode"
   ]
  },
  {
   "cell_type": "code",
   "execution_count": 11,
   "metadata": {
    "collapsed": false
   },
   "outputs": [],
   "source": [
    "# list of indices where zipcode is missing\n",
    "non_missing_zip = [ind for ind in range(nrow) if pd.isnull(Rent.zipcode)[ind] == False] "
   ]
  },
  {
   "cell_type": "code",
   "execution_count": 12,
   "metadata": {
    "collapsed": true
   },
   "outputs": [],
   "source": [
    "# Keep only rows where non_missing is True\n",
    "Rent = Rent.ix[non_missing_zip,]"
   ]
  },
  {
   "cell_type": "code",
   "execution_count": 13,
   "metadata": {
    "collapsed": true
   },
   "outputs": [],
   "source": [
    "# reset indices\n",
    "Rent = Rent.reset_index()"
   ]
  },
  {
   "cell_type": "code",
   "execution_count": 14,
   "metadata": {
    "collapsed": false
   },
   "outputs": [
    {
     "data": {
      "text/plain": [
       "27230"
      ]
     },
     "execution_count": 14,
     "metadata": {},
     "output_type": "execute_result"
    }
   ],
   "source": [
    "nrow = len(Rent.zipcode)\n",
    "nrow"
   ]
  },
  {
   "cell_type": "markdown",
   "metadata": {},
   "source": [
    "#### Create New columns to store the correct Borough and Neighborhood data"
   ]
  },
  {
   "cell_type": "code",
   "execution_count": 15,
   "metadata": {
    "collapsed": false
   },
   "outputs": [],
   "source": [
    "# Create new list and insert Borough and Neighborhood data based on index\n",
    "\n",
    "borough_table = list()\n",
    "neighborhood_table = list()\n",
    "for i in range(nrow):\n",
    "    if Rent.zipcode[i] in zip_code_unique:\n",
    "        borough_table.append(borough[zip_code_unique.index(Rent.zipcode[i])])\n",
    "        neighborhood_table.append(neighborhood[zip_code_unique.index(Rent.zipcode[i])])\n",
    "    else:\n",
    "        borough_table.append(\"N/A\")\n",
    "        neighborhood_table.append(\"N/A\")\n",
    "    "
   ]
  },
  {
   "cell_type": "code",
   "execution_count": 16,
   "metadata": {
    "collapsed": false
   },
   "outputs": [],
   "source": [
    "Rent['borough'] = borough_table\n",
    "Rent['Neighborhood'] = neighborhood_table"
   ]
  },
  {
   "cell_type": "code",
   "execution_count": 17,
   "metadata": {
    "collapsed": false
   },
   "outputs": [],
   "source": [
    "# Drop rows that have borough or Neighborhood N/A\n",
    "\n",
    "# Remove row if borough is N/A\n",
    "Rent = Rent.loc[Rent['borough'] != 'N/A']"
   ]
  },
  {
   "cell_type": "code",
   "execution_count": 18,
   "metadata": {
    "collapsed": true
   },
   "outputs": [],
   "source": [
    "# reset indices\n",
    "Rent = Rent.reset_index()"
   ]
  },
  {
   "cell_type": "code",
   "execution_count": 19,
   "metadata": {
    "collapsed": false
   },
   "outputs": [
    {
     "data": {
      "text/plain": [
       "26753"
      ]
     },
     "execution_count": 19,
     "metadata": {},
     "output_type": "execute_result"
    }
   ],
   "source": [
    "# reset nrow\n",
    "nrow = len(Rent.index)\n",
    "nrow"
   ]
  },
  {
   "cell_type": "markdown",
   "metadata": {},
   "source": [
    "#### Clean Price"
   ]
  },
  {
   "cell_type": "code",
   "execution_count": 20,
   "metadata": {
    "collapsed": true
   },
   "outputs": [],
   "source": [
    "day_price = []\n",
    "for i in range(nrow):\n",
    "# remove commas ans $ sign, convert into float\n",
    "    day_price.append((float(Rent.price[i].replace(',','')[1:])))\n",
    "\n",
    "# Drop old price column\n",
    "Rent = Rent.drop(['price'], axis = 1)\n",
    "\n",
    "# Add new column with calculated data\n",
    "Rent['day_price'] = day_price"
   ]
  },
  {
   "cell_type": "code",
   "execution_count": 21,
   "metadata": {
    "collapsed": false,
    "scrolled": false
   },
   "outputs": [
    {
     "data": {
      "text/html": [
       "<div>\n",
       "<table border=\"1\" class=\"dataframe\">\n",
       "  <thead>\n",
       "    <tr style=\"text-align: right;\">\n",
       "      <th></th>\n",
       "      <th>level_0</th>\n",
       "      <th>index</th>\n",
       "      <th>name</th>\n",
       "      <th>neighbourhood_cleansed</th>\n",
       "      <th>city</th>\n",
       "      <th>zipcode</th>\n",
       "      <th>latitude</th>\n",
       "      <th>longitude</th>\n",
       "      <th>property_type</th>\n",
       "      <th>room_type</th>\n",
       "      <th>...</th>\n",
       "      <th>bathrooms</th>\n",
       "      <th>bedrooms</th>\n",
       "      <th>beds</th>\n",
       "      <th>square_feet</th>\n",
       "      <th>weekly_price</th>\n",
       "      <th>monthly_price</th>\n",
       "      <th>review_scores_value</th>\n",
       "      <th>borough</th>\n",
       "      <th>Neighborhood</th>\n",
       "      <th>day_price</th>\n",
       "    </tr>\n",
       "  </thead>\n",
       "  <tbody>\n",
       "    <tr>\n",
       "      <th>0</th>\n",
       "      <td>1</td>\n",
       "      <td>2</td>\n",
       "      <td>Option of 2 Beds w Private Bathroom</td>\n",
       "      <td>Bushwick</td>\n",
       "      <td>Brooklyn</td>\n",
       "      <td>11221</td>\n",
       "      <td>40.692189</td>\n",
       "      <td>-73.924120</td>\n",
       "      <td>Apartment</td>\n",
       "      <td>Private room</td>\n",
       "      <td>...</td>\n",
       "      <td>1.0</td>\n",
       "      <td>1.0</td>\n",
       "      <td>2.0</td>\n",
       "      <td>NaN</td>\n",
       "      <td>NaN</td>\n",
       "      <td>NaN</td>\n",
       "      <td>10.0</td>\n",
       "      <td>Brooklyn</td>\n",
       "      <td>Bushwick and Williamsburg</td>\n",
       "      <td>58.0</td>\n",
       "    </tr>\n",
       "    <tr>\n",
       "      <th>1</th>\n",
       "      <td>2</td>\n",
       "      <td>3</td>\n",
       "      <td>Charming Bright West Village Studio</td>\n",
       "      <td>West Village</td>\n",
       "      <td>New York</td>\n",
       "      <td>10011</td>\n",
       "      <td>40.734751</td>\n",
       "      <td>-74.002592</td>\n",
       "      <td>Apartment</td>\n",
       "      <td>Entire home/apt</td>\n",
       "      <td>...</td>\n",
       "      <td>1.0</td>\n",
       "      <td>1.0</td>\n",
       "      <td>1.0</td>\n",
       "      <td>NaN</td>\n",
       "      <td>NaN</td>\n",
       "      <td>$3,400.00</td>\n",
       "      <td>9.0</td>\n",
       "      <td>Manhattan</td>\n",
       "      <td>Chelsea and Clinton</td>\n",
       "      <td>185.0</td>\n",
       "    </tr>\n",
       "  </tbody>\n",
       "</table>\n",
       "<p>2 rows × 21 columns</p>\n",
       "</div>"
      ],
      "text/plain": [
       "   level_0  index                                 name neighbourhood_cleansed  \\\n",
       "0        1      2  Option of 2 Beds w Private Bathroom               Bushwick   \n",
       "1        2      3  Charming Bright West Village Studio           West Village   \n",
       "\n",
       "       city zipcode   latitude  longitude property_type        room_type  \\\n",
       "0  Brooklyn   11221  40.692189 -73.924120     Apartment     Private room   \n",
       "1  New York   10011  40.734751 -74.002592     Apartment  Entire home/apt   \n",
       "\n",
       "     ...     bathrooms  bedrooms  beds  square_feet  weekly_price  \\\n",
       "0    ...           1.0       1.0   2.0          NaN           NaN   \n",
       "1    ...           1.0       1.0   1.0          NaN           NaN   \n",
       "\n",
       "  monthly_price review_scores_value    borough               Neighborhood  \\\n",
       "0           NaN                10.0   Brooklyn  Bushwick and Williamsburg   \n",
       "1     $3,400.00                 9.0  Manhattan        Chelsea and Clinton   \n",
       "\n",
       "  day_price  \n",
       "0      58.0  \n",
       "1     185.0  \n",
       "\n",
       "[2 rows x 21 columns]"
      ]
     },
     "execution_count": 21,
     "metadata": {},
     "output_type": "execute_result"
    }
   ],
   "source": [
    "Rent.head(2)"
   ]
  },
  {
   "cell_type": "markdown",
   "metadata": {},
   "source": [
    "#### Create New Dataframe with just the Private Rooms available to rent"
   ]
  },
  {
   "cell_type": "code",
   "execution_count": 22,
   "metadata": {
    "collapsed": false,
    "scrolled": true
   },
   "outputs": [
    {
     "data": {
      "text/html": [
       "<div>\n",
       "<table border=\"1\" class=\"dataframe\">\n",
       "  <thead>\n",
       "    <tr style=\"text-align: right;\">\n",
       "      <th></th>\n",
       "      <th>level_0</th>\n",
       "      <th>index</th>\n",
       "      <th>name</th>\n",
       "      <th>neighbourhood_cleansed</th>\n",
       "      <th>city</th>\n",
       "      <th>zipcode</th>\n",
       "      <th>latitude</th>\n",
       "      <th>longitude</th>\n",
       "      <th>property_type</th>\n",
       "      <th>room_type</th>\n",
       "      <th>...</th>\n",
       "      <th>bathrooms</th>\n",
       "      <th>bedrooms</th>\n",
       "      <th>beds</th>\n",
       "      <th>square_feet</th>\n",
       "      <th>weekly_price</th>\n",
       "      <th>monthly_price</th>\n",
       "      <th>review_scores_value</th>\n",
       "      <th>borough</th>\n",
       "      <th>Neighborhood</th>\n",
       "      <th>day_price</th>\n",
       "    </tr>\n",
       "  </thead>\n",
       "  <tbody>\n",
       "    <tr>\n",
       "      <th>0</th>\n",
       "      <td>1</td>\n",
       "      <td>2</td>\n",
       "      <td>Option of 2 Beds w Private Bathroom</td>\n",
       "      <td>Bushwick</td>\n",
       "      <td>Brooklyn</td>\n",
       "      <td>11221</td>\n",
       "      <td>40.692189</td>\n",
       "      <td>-73.924120</td>\n",
       "      <td>Apartment</td>\n",
       "      <td>Private room</td>\n",
       "      <td>...</td>\n",
       "      <td>1.0</td>\n",
       "      <td>1.0</td>\n",
       "      <td>2.0</td>\n",
       "      <td>NaN</td>\n",
       "      <td>NaN</td>\n",
       "      <td>NaN</td>\n",
       "      <td>10.0</td>\n",
       "      <td>Brooklyn</td>\n",
       "      <td>Bushwick and Williamsburg</td>\n",
       "      <td>58.0</td>\n",
       "    </tr>\n",
       "    <tr>\n",
       "      <th>1</th>\n",
       "      <td>5</td>\n",
       "      <td>6</td>\n",
       "      <td>Large furnished sunny room</td>\n",
       "      <td>Bushwick</td>\n",
       "      <td>Brooklyn</td>\n",
       "      <td>11207</td>\n",
       "      <td>40.684422</td>\n",
       "      <td>-73.909882</td>\n",
       "      <td>Apartment</td>\n",
       "      <td>Private room</td>\n",
       "      <td>...</td>\n",
       "      <td>1.0</td>\n",
       "      <td>1.0</td>\n",
       "      <td>1.0</td>\n",
       "      <td>NaN</td>\n",
       "      <td>NaN</td>\n",
       "      <td>NaN</td>\n",
       "      <td>NaN</td>\n",
       "      <td>Brooklyn</td>\n",
       "      <td>East New York and New Lots</td>\n",
       "      <td>80.0</td>\n",
       "    </tr>\n",
       "  </tbody>\n",
       "</table>\n",
       "<p>2 rows × 21 columns</p>\n",
       "</div>"
      ],
      "text/plain": [
       "   level_0  index                                 name neighbourhood_cleansed  \\\n",
       "0        1      2  Option of 2 Beds w Private Bathroom               Bushwick   \n",
       "1        5      6           Large furnished sunny room               Bushwick   \n",
       "\n",
       "       city zipcode   latitude  longitude property_type     room_type  \\\n",
       "0  Brooklyn   11221  40.692189 -73.924120     Apartment  Private room   \n",
       "1  Brooklyn   11207  40.684422 -73.909882     Apartment  Private room   \n",
       "\n",
       "     ...     bathrooms  bedrooms  beds  square_feet  weekly_price  \\\n",
       "0    ...           1.0       1.0   2.0          NaN           NaN   \n",
       "1    ...           1.0       1.0   1.0          NaN           NaN   \n",
       "\n",
       "  monthly_price review_scores_value   borough                Neighborhood  \\\n",
       "0           NaN                10.0  Brooklyn   Bushwick and Williamsburg   \n",
       "1           NaN                 NaN  Brooklyn  East New York and New Lots   \n",
       "\n",
       "  day_price  \n",
       "0      58.0  \n",
       "1      80.0  \n",
       "\n",
       "[2 rows x 21 columns]"
      ]
     },
     "execution_count": 22,
     "metadata": {},
     "output_type": "execute_result"
    }
   ],
   "source": [
    "# Filter table based on room_type Column\n",
    "Rent_Private = Rent.loc[Rent['room_type'] == 'Private room']\n",
    "\n",
    "# Reset index in the new table\n",
    "Rent_Private.reset_index(inplace=True, drop = True)\n",
    "\n",
    "# Remove outliers to keep data clean. I set ouliers as any private room above $300\n",
    "Rent_Private = Rent_Private.loc[Rent_Private['day_price'] < 300]\n",
    "\n",
    "Rent_Private.head(2)\n",
    "#Rent_Private.dtypes"
   ]
  },
  {
   "cell_type": "markdown",
   "metadata": {},
   "source": [
    "### 2.2 Crime Data "
   ]
  },
  {
   "cell_type": "markdown",
   "metadata": {},
   "source": [
    "#### 2.2.1 Import Crime Data from NYPD:"
   ]
  },
  {
   "cell_type": "code",
   "execution_count": 23,
   "metadata": {
    "collapsed": false,
    "scrolled": false
   },
   "outputs": [
    {
     "data": {
      "text/html": [
       "<div>\n",
       "<table border=\"1\" class=\"dataframe\">\n",
       "  <thead>\n",
       "    <tr style=\"text-align: right;\">\n",
       "      <th></th>\n",
       "      <th>Start_Date</th>\n",
       "      <th>End_Date</th>\n",
       "      <th>Crime</th>\n",
       "      <th>Current</th>\n",
       "      <th>Prior</th>\n",
       "      <th>Ratio</th>\n",
       "      <th>28Day_Current</th>\n",
       "      <th>28Day_Prior</th>\n",
       "      <th>28Day_Ratio</th>\n",
       "      <th>YTD_Current</th>\n",
       "      <th>YTD_Prior</th>\n",
       "      <th>YTD_Ratio</th>\n",
       "      <th>2YR</th>\n",
       "      <th>5YR</th>\n",
       "      <th>22YR</th>\n",
       "      <th>Volume_Number</th>\n",
       "      <th>Number_number</th>\n",
       "      <th>Mayor</th>\n",
       "      <th>Commissioner</th>\n",
       "      <th>Precinct</th>\n",
       "    </tr>\n",
       "  </thead>\n",
       "  <tbody>\n",
       "    <tr>\n",
       "      <th>0</th>\n",
       "      <td>12/12/2016</td>\n",
       "      <td>12/18/2016</td>\n",
       "      <td>Murder</td>\n",
       "      <td>0</td>\n",
       "      <td>0</td>\n",
       "      <td>***.*</td>\n",
       "      <td>0</td>\n",
       "      <td>1</td>\n",
       "      <td>-100.0</td>\n",
       "      <td>2</td>\n",
       "      <td>1</td>\n",
       "      <td>100.0</td>\n",
       "      <td>100.0</td>\n",
       "      <td>0.0</td>\n",
       "      <td>100.0</td>\n",
       "      <td>23</td>\n",
       "      <td>50</td>\n",
       "      <td>Bill de Blasio</td>\n",
       "      <td>James P. O�Neill</td>\n",
       "      <td>123rd Precinct</td>\n",
       "    </tr>\n",
       "    <tr>\n",
       "      <th>1</th>\n",
       "      <td>12/12/2016</td>\n",
       "      <td>12/18/2016</td>\n",
       "      <td>Rape</td>\n",
       "      <td>0</td>\n",
       "      <td>0</td>\n",
       "      <td>***.*</td>\n",
       "      <td>1</td>\n",
       "      <td>0</td>\n",
       "      <td>***.*</td>\n",
       "      <td>4</td>\n",
       "      <td>3</td>\n",
       "      <td>33.3</td>\n",
       "      <td>***.*</td>\n",
       "      <td>100.0</td>\n",
       "      <td>0.0</td>\n",
       "      <td>23</td>\n",
       "      <td>50</td>\n",
       "      <td>Bill de Blasio</td>\n",
       "      <td>James P. O�Neill</td>\n",
       "      <td>123rd Precinct</td>\n",
       "    </tr>\n",
       "    <tr>\n",
       "      <th>2</th>\n",
       "      <td>12/12/2016</td>\n",
       "      <td>12/18/2016</td>\n",
       "      <td>Robbery</td>\n",
       "      <td>1</td>\n",
       "      <td>0</td>\n",
       "      <td>***.*</td>\n",
       "      <td>3</td>\n",
       "      <td>1</td>\n",
       "      <td>200.0</td>\n",
       "      <td>19</td>\n",
       "      <td>28</td>\n",
       "      <td>-32.1</td>\n",
       "      <td>26.7</td>\n",
       "      <td>-13.6</td>\n",
       "      <td>-70.3</td>\n",
       "      <td>23</td>\n",
       "      <td>50</td>\n",
       "      <td>Bill de Blasio</td>\n",
       "      <td>James P. O�Neill</td>\n",
       "      <td>123rd Precinct</td>\n",
       "    </tr>\n",
       "    <tr>\n",
       "      <th>3</th>\n",
       "      <td>12/12/2016</td>\n",
       "      <td>12/18/2016</td>\n",
       "      <td>Fel. Assault</td>\n",
       "      <td>0</td>\n",
       "      <td>1</td>\n",
       "      <td>-100.0</td>\n",
       "      <td>2</td>\n",
       "      <td>4</td>\n",
       "      <td>-50.0</td>\n",
       "      <td>46</td>\n",
       "      <td>53</td>\n",
       "      <td>-13.2</td>\n",
       "      <td>2.2</td>\n",
       "      <td>-6.1</td>\n",
       "      <td>-56.6</td>\n",
       "      <td>23</td>\n",
       "      <td>50</td>\n",
       "      <td>Bill de Blasio</td>\n",
       "      <td>James P. O�Neill</td>\n",
       "      <td>123rd Precinct</td>\n",
       "    </tr>\n",
       "    <tr>\n",
       "      <th>4</th>\n",
       "      <td>12/12/2016</td>\n",
       "      <td>12/18/2016</td>\n",
       "      <td>Burglary</td>\n",
       "      <td>1</td>\n",
       "      <td>1</td>\n",
       "      <td>0.0</td>\n",
       "      <td>3</td>\n",
       "      <td>7</td>\n",
       "      <td>-57.1</td>\n",
       "      <td>59</td>\n",
       "      <td>75</td>\n",
       "      <td>-21.3</td>\n",
       "      <td>-31.4</td>\n",
       "      <td>-43.3</td>\n",
       "      <td>-82.0</td>\n",
       "      <td>23</td>\n",
       "      <td>50</td>\n",
       "      <td>Bill de Blasio</td>\n",
       "      <td>James P. O�Neill</td>\n",
       "      <td>123rd Precinct</td>\n",
       "    </tr>\n",
       "  </tbody>\n",
       "</table>\n",
       "</div>"
      ],
      "text/plain": [
       "     Start_Date      End_Date         Crime  Current  Prior   Ratio  \\\n",
       "0    12/12/2016    12/18/2016        Murder        0      0   ***.*   \n",
       "1    12/12/2016    12/18/2016          Rape        0      0   ***.*   \n",
       "2    12/12/2016    12/18/2016       Robbery        1      0   ***.*   \n",
       "3    12/12/2016    12/18/2016  Fel. Assault        0      1  -100.0   \n",
       "4    12/12/2016    12/18/2016      Burglary        1      1     0.0   \n",
       "\n",
       "   28Day_Current  28Day_Prior 28Day_Ratio  YTD_Current  YTD_Prior YTD_Ratio  \\\n",
       "0              0            1      -100.0            2          1     100.0   \n",
       "1              1            0       ***.*            4          3      33.3   \n",
       "2              3            1       200.0           19         28     -32.1   \n",
       "3              2            4       -50.0           46         53     -13.2   \n",
       "4              3            7       -57.1           59         75     -21.3   \n",
       "\n",
       "     2YR    5YR   22YR  Volume_Number  Number_number           Mayor  \\\n",
       "0  100.0    0.0  100.0             23             50  Bill de Blasio   \n",
       "1  ***.*  100.0    0.0             23             50  Bill de Blasio   \n",
       "2   26.7  -13.6  -70.3             23             50  Bill de Blasio   \n",
       "3    2.2   -6.1  -56.6             23             50  Bill de Blasio   \n",
       "4  -31.4  -43.3  -82.0             23             50  Bill de Blasio   \n",
       "\n",
       "       Commissioner        Precinct  \n",
       "0  James P. O�Neill  123rd Precinct  \n",
       "1  James P. O�Neill  123rd Precinct  \n",
       "2  James P. O�Neill  123rd Precinct  \n",
       "3  James P. O�Neill  123rd Precinct  \n",
       "4  James P. O�Neill  123rd Precinct  "
      ]
     },
     "execution_count": 23,
     "metadata": {},
     "output_type": "execute_result"
    }
   ],
   "source": [
    "url = 'http://data.beta.nyc//dataset/c874f72e-23a6-404f-ad83-fdd2aaa104bb/resource/3377cc50-044b-4806-b062-7b0c14351457/download/vol2351.csv'\n",
    "Crime = pd.read_csv(url, sep=',', thousands=',')              # tab (\\t) separated values \n",
    "#print('Variable dtypes:\\n', Crime.dtypes, sep=',')\n",
    "Crime.head()"
   ]
  },
  {
   "cell_type": "markdown",
   "metadata": {},
   "source": [
    "#### 2.2.2 Cleaning Crime Data"
   ]
  },
  {
   "cell_type": "markdown",
   "metadata": {},
   "source": [
    "#### Select Relevant Values"
   ]
  },
  {
   "cell_type": "code",
   "execution_count": 24,
   "metadata": {
    "collapsed": false,
    "scrolled": true
   },
   "outputs": [
    {
     "data": {
      "text/plain": [
       "array(['Start_Date', 'End_Date', 'Crime', 'Current', 'Prior', 'Ratio',\n",
       "       '28Day_Current', '28Day_Prior', '28Day_Ratio', 'YTD_Current',\n",
       "       'YTD_Prior', 'YTD_Ratio', '2YR', '5YR', '22YR', 'Volume_Number',\n",
       "       'Number_number', 'Mayor', 'Commissioner', 'Precinct'], dtype=object)"
      ]
     },
     "execution_count": 24,
     "metadata": {},
     "output_type": "execute_result"
    }
   ],
   "source": [
    "# list of all variables\n",
    "\n",
    "Crime.columns.values"
   ]
  },
  {
   "cell_type": "code",
   "execution_count": 25,
   "metadata": {
    "collapsed": false
   },
   "outputs": [],
   "source": [
    "# Select only relevant data\n",
    "\n",
    "Crime = Crime [['Crime', 'YTD_Current', 'YTD_Prior', 'Precinct']]"
   ]
  },
  {
   "cell_type": "code",
   "execution_count": 26,
   "metadata": {
    "collapsed": false
   },
   "outputs": [
    {
     "data": {
      "text/html": [
       "<div>\n",
       "<table border=\"1\" class=\"dataframe\">\n",
       "  <thead>\n",
       "    <tr style=\"text-align: right;\">\n",
       "      <th></th>\n",
       "      <th>Crime</th>\n",
       "      <th>YTD_Current</th>\n",
       "      <th>YTD_Prior</th>\n",
       "      <th>Precinct</th>\n",
       "    </tr>\n",
       "  </thead>\n",
       "  <tbody>\n",
       "    <tr>\n",
       "      <th>0</th>\n",
       "      <td>Murder</td>\n",
       "      <td>2</td>\n",
       "      <td>1</td>\n",
       "      <td>123</td>\n",
       "    </tr>\n",
       "    <tr>\n",
       "      <th>1</th>\n",
       "      <td>Rape</td>\n",
       "      <td>4</td>\n",
       "      <td>3</td>\n",
       "      <td>123</td>\n",
       "    </tr>\n",
       "    <tr>\n",
       "      <th>2</th>\n",
       "      <td>Robbery</td>\n",
       "      <td>19</td>\n",
       "      <td>28</td>\n",
       "      <td>123</td>\n",
       "    </tr>\n",
       "    <tr>\n",
       "      <th>3</th>\n",
       "      <td>Fel. Assault</td>\n",
       "      <td>46</td>\n",
       "      <td>53</td>\n",
       "      <td>123</td>\n",
       "    </tr>\n",
       "    <tr>\n",
       "      <th>4</th>\n",
       "      <td>Burglary</td>\n",
       "      <td>59</td>\n",
       "      <td>75</td>\n",
       "      <td>123</td>\n",
       "    </tr>\n",
       "  </tbody>\n",
       "</table>\n",
       "</div>"
      ],
      "text/plain": [
       "          Crime  YTD_Current  YTD_Prior Precinct\n",
       "0        Murder            2          1      123\n",
       "1          Rape            4          3      123\n",
       "2       Robbery           19         28      123\n",
       "3  Fel. Assault           46         53      123\n",
       "4      Burglary           59         75      123"
      ]
     },
     "execution_count": 26,
     "metadata": {},
     "output_type": "execute_result"
    }
   ],
   "source": [
    "# Remove non-numeric characters from Precinct column\n",
    "\n",
    "Crime['Precinct'].replace(regex=True,inplace=True,to_replace=r'\\D',value=r'')\n",
    "Crime.head()"
   ]
  },
  {
   "cell_type": "markdown",
   "metadata": {},
   "source": [
    "#### Make sure columns have correct data type"
   ]
  },
  {
   "cell_type": "code",
   "execution_count": 27,
   "metadata": {
    "collapsed": false
   },
   "outputs": [],
   "source": [
    "# update new number rows\n",
    "nrow = len(Crime.index)"
   ]
  },
  {
   "cell_type": "code",
   "execution_count": 28,
   "metadata": {
    "collapsed": false,
    "scrolled": false
   },
   "outputs": [
    {
     "data": {
      "text/html": [
       "<div>\n",
       "<table border=\"1\" class=\"dataframe\">\n",
       "  <thead>\n",
       "    <tr style=\"text-align: right;\">\n",
       "      <th></th>\n",
       "      <th>Crime</th>\n",
       "      <th>YTD_Current</th>\n",
       "      <th>YTD_Prior</th>\n",
       "      <th>Precinct</th>\n",
       "    </tr>\n",
       "  </thead>\n",
       "  <tbody>\n",
       "    <tr>\n",
       "      <th>0</th>\n",
       "      <td>Murder</td>\n",
       "      <td>2</td>\n",
       "      <td>1</td>\n",
       "      <td>123</td>\n",
       "    </tr>\n",
       "    <tr>\n",
       "      <th>1</th>\n",
       "      <td>Rape</td>\n",
       "      <td>4</td>\n",
       "      <td>3</td>\n",
       "      <td>123</td>\n",
       "    </tr>\n",
       "    <tr>\n",
       "      <th>2</th>\n",
       "      <td>Robbery</td>\n",
       "      <td>19</td>\n",
       "      <td>28</td>\n",
       "      <td>123</td>\n",
       "    </tr>\n",
       "    <tr>\n",
       "      <th>3</th>\n",
       "      <td>Fel. Assault</td>\n",
       "      <td>46</td>\n",
       "      <td>53</td>\n",
       "      <td>123</td>\n",
       "    </tr>\n",
       "    <tr>\n",
       "      <th>4</th>\n",
       "      <td>Burglary</td>\n",
       "      <td>59</td>\n",
       "      <td>75</td>\n",
       "      <td>123</td>\n",
       "    </tr>\n",
       "  </tbody>\n",
       "</table>\n",
       "</div>"
      ],
      "text/plain": [
       "          Crime  YTD_Current  YTD_Prior Precinct\n",
       "0        Murder            2          1      123\n",
       "1          Rape            4          3      123\n",
       "2       Robbery           19         28      123\n",
       "3  Fel. Assault           46         53      123\n",
       "4      Burglary           59         75      123"
      ]
     },
     "execution_count": 28,
     "metadata": {},
     "output_type": "execute_result"
    }
   ],
   "source": [
    "# Precinct dtype should be str\n",
    "Crime.Precinct = Crime.Precinct.astype(np.str)\n",
    "\n",
    "# Remove commas and periods fron number of crimes\n",
    "Crime.YTD_Current.append(Crime.YTD_Current.replace(\",\",\"\"))\n",
    "Crime.YTD_Prior.append(Crime.YTD_Prior.replace(\",\",\"\"))\n",
    "\n",
    "Crime.head()"
   ]
  },
  {
   "cell_type": "markdown",
   "metadata": {},
   "source": [
    "#### Connect each Precinct to a zipcode"
   ]
  },
  {
   "cell_type": "code",
   "execution_count": 29,
   "metadata": {
    "collapsed": false
   },
   "outputs": [],
   "source": [
    "# Using school data that has both Zipcodes and Precincts in the same table\n",
    "\n",
    "url = 'https://data.cityofnewyork.us/api/views/u553-m549/rows.csv?accessType=DOWNLOAD'\n",
    "Precinct = pd.read_csv(url, sep = ',')\n",
    "#print('Variable dtypes:\\n', Precinct.dtypes, sep=',')"
   ]
  },
  {
   "cell_type": "code",
   "execution_count": 30,
   "metadata": {
    "collapsed": false
   },
   "outputs": [],
   "source": [
    "# Select only relevant data\n",
    "\n",
    "Precinct = Precinct [['Zip', 'precinct']]"
   ]
  },
  {
   "cell_type": "code",
   "execution_count": 31,
   "metadata": {
    "collapsed": true
   },
   "outputs": [],
   "source": [
    "# Update Column name\n",
    "\n",
    "Precinct = Precinct.rename(columns = {'precinct':'Precinct'})"
   ]
  },
  {
   "cell_type": "code",
   "execution_count": 32,
   "metadata": {
    "collapsed": false
   },
   "outputs": [],
   "source": [
    "# Remove Duplicates from the list\n",
    "\n",
    "Precinct = Precinct.drop_duplicates (['Precinct'])"
   ]
  },
  {
   "cell_type": "code",
   "execution_count": 33,
   "metadata": {
    "collapsed": false
   },
   "outputs": [],
   "source": [
    "# Remove any trailing spaces\n",
    "\n",
    "Precinct.Precinct = Precinct.Precinct.replace(\" \", \"\")\n",
    "\n",
    "Precinct.Zip = Precinct.Zip.astype(str)"
   ]
  },
  {
   "cell_type": "code",
   "execution_count": 34,
   "metadata": {
    "collapsed": false
   },
   "outputs": [],
   "source": [
    "# Make sure Precinct dtype is str\n",
    "\n",
    "Precinct.Precinct = Precinct.Precinct.astype(np.str)\n",
    "#Precinct.dtypes"
   ]
  },
  {
   "cell_type": "code",
   "execution_count": 35,
   "metadata": {
    "collapsed": false,
    "scrolled": true
   },
   "outputs": [
    {
     "data": {
      "text/html": [
       "<div>\n",
       "<table border=\"1\" class=\"dataframe\">\n",
       "  <thead>\n",
       "    <tr style=\"text-align: right;\">\n",
       "      <th></th>\n",
       "      <th>Zip</th>\n",
       "      <th>Precinct</th>\n",
       "    </tr>\n",
       "  </thead>\n",
       "  <tbody>\n",
       "    <tr>\n",
       "      <th>0</th>\n",
       "      <td>10002</td>\n",
       "      <td>7</td>\n",
       "    </tr>\n",
       "    <tr>\n",
       "      <th>2</th>\n",
       "      <td>10009</td>\n",
       "      <td>9</td>\n",
       "    </tr>\n",
       "    <tr>\n",
       "      <th>6</th>\n",
       "      <td>10010</td>\n",
       "      <td>13</td>\n",
       "    </tr>\n",
       "    <tr>\n",
       "      <th>7</th>\n",
       "      <td>10019</td>\n",
       "      <td>18</td>\n",
       "    </tr>\n",
       "    <tr>\n",
       "      <th>10</th>\n",
       "      <td>10002</td>\n",
       "      <td>5</td>\n",
       "    </tr>\n",
       "  </tbody>\n",
       "</table>\n",
       "</div>"
      ],
      "text/plain": [
       "      Zip Precinct\n",
       "0   10002        7\n",
       "2   10009        9\n",
       "6   10010       13\n",
       "7   10019       18\n",
       "10  10002        5"
      ]
     },
     "execution_count": 35,
     "metadata": {},
     "output_type": "execute_result"
    }
   ],
   "source": [
    "Precinct.head()"
   ]
  },
  {
   "cell_type": "markdown",
   "metadata": {},
   "source": [
    "#### Add Borough and Neighborhood Data"
   ]
  },
  {
   "cell_type": "code",
   "execution_count": 36,
   "metadata": {
    "collapsed": false
   },
   "outputs": [],
   "source": [
    "# reset indices\n",
    "Precinct = Precinct.reset_index()"
   ]
  },
  {
   "cell_type": "code",
   "execution_count": 37,
   "metadata": {
    "collapsed": false
   },
   "outputs": [
    {
     "data": {
      "text/plain": [
       "70"
      ]
     },
     "execution_count": 37,
     "metadata": {},
     "output_type": "execute_result"
    }
   ],
   "source": [
    "nrow = len(Precinct.Zip)\n",
    "nrow"
   ]
  },
  {
   "cell_type": "markdown",
   "metadata": {},
   "source": [
    "#### Create New columns to store the correct Borough and Neighborhood data"
   ]
  },
  {
   "cell_type": "code",
   "execution_count": 38,
   "metadata": {
    "collapsed": false
   },
   "outputs": [],
   "source": [
    "# Create new list and insert Borough and Neighborhood data based on index\n",
    "\n",
    "borough_table = list()\n",
    "neighborhood_table = list()\n",
    "for i in range(nrow):\n",
    "    if Precinct.Zip[i] in zip_code_unique:\n",
    "        borough_table.append(borough[zip_code_unique.index(Precinct.Zip[i])])\n",
    "        neighborhood_table.append(neighborhood[zip_code_unique.index(Precinct.Zip[i])])\n",
    "    else:\n",
    "        borough_table.append(\"N/A\")\n",
    "        neighborhood_table.append(\"N/A\")\n",
    "    "
   ]
  },
  {
   "cell_type": "code",
   "execution_count": 39,
   "metadata": {
    "collapsed": false
   },
   "outputs": [],
   "source": [
    "Precinct['borough'] = borough_table\n",
    "Precinct['Neighborhood'] = neighborhood_table"
   ]
  },
  {
   "cell_type": "code",
   "execution_count": 40,
   "metadata": {
    "collapsed": false
   },
   "outputs": [],
   "source": [
    "# Drop rows that have borough or Neighborhood N/A\n",
    "\n",
    "# Remove row if borough is N/A\n",
    "Precinct = Precinct.loc[Rent['borough'] != 'N/A']"
   ]
  },
  {
   "cell_type": "code",
   "execution_count": 41,
   "metadata": {
    "collapsed": false
   },
   "outputs": [
    {
     "data": {
      "text/html": [
       "<div>\n",
       "<table border=\"1\" class=\"dataframe\">\n",
       "  <thead>\n",
       "    <tr style=\"text-align: right;\">\n",
       "      <th></th>\n",
       "      <th>index</th>\n",
       "      <th>Zip</th>\n",
       "      <th>Precinct</th>\n",
       "      <th>borough</th>\n",
       "      <th>Neighborhood</th>\n",
       "    </tr>\n",
       "  </thead>\n",
       "  <tbody>\n",
       "    <tr>\n",
       "      <th>0</th>\n",
       "      <td>0</td>\n",
       "      <td>10002</td>\n",
       "      <td>7</td>\n",
       "      <td>Manhattan</td>\n",
       "      <td>Lower East Side</td>\n",
       "    </tr>\n",
       "    <tr>\n",
       "      <th>1</th>\n",
       "      <td>2</td>\n",
       "      <td>10009</td>\n",
       "      <td>9</td>\n",
       "      <td>Manhattan</td>\n",
       "      <td>Lower East Side</td>\n",
       "    </tr>\n",
       "    <tr>\n",
       "      <th>2</th>\n",
       "      <td>6</td>\n",
       "      <td>10010</td>\n",
       "      <td>13</td>\n",
       "      <td>Manhattan</td>\n",
       "      <td>Gramercy Park and Murray Hill</td>\n",
       "    </tr>\n",
       "    <tr>\n",
       "      <th>3</th>\n",
       "      <td>7</td>\n",
       "      <td>10019</td>\n",
       "      <td>18</td>\n",
       "      <td>Manhattan</td>\n",
       "      <td>Chelsea and Clinton</td>\n",
       "    </tr>\n",
       "    <tr>\n",
       "      <th>4</th>\n",
       "      <td>10</td>\n",
       "      <td>10002</td>\n",
       "      <td>5</td>\n",
       "      <td>Manhattan</td>\n",
       "      <td>Lower East Side</td>\n",
       "    </tr>\n",
       "  </tbody>\n",
       "</table>\n",
       "</div>"
      ],
      "text/plain": [
       "   index    Zip Precinct    borough                   Neighborhood\n",
       "0      0  10002        7  Manhattan                Lower East Side\n",
       "1      2  10009        9  Manhattan                Lower East Side\n",
       "2      6  10010       13  Manhattan  Gramercy Park and Murray Hill\n",
       "3      7  10019       18  Manhattan            Chelsea and Clinton\n",
       "4     10  10002        5  Manhattan                Lower East Side"
      ]
     },
     "execution_count": 41,
     "metadata": {},
     "output_type": "execute_result"
    }
   ],
   "source": [
    "Precinct.head()"
   ]
  },
  {
   "cell_type": "markdown",
   "metadata": {},
   "source": [
    "#### Merge Crime and Precinct Data"
   ]
  },
  {
   "cell_type": "code",
   "execution_count": 42,
   "metadata": {
    "collapsed": false,
    "scrolled": true
   },
   "outputs": [
    {
     "data": {
      "text/plain": [
       "Crime             object\n",
       "YTD_Current        int64\n",
       "YTD_Prior          int64\n",
       "Precinct          object\n",
       "index              int64\n",
       "Zip               object\n",
       "borough           object\n",
       "Neighborhood      object\n",
       "_merge          category\n",
       "dtype: object"
      ]
     },
     "execution_count": 42,
     "metadata": {},
     "output_type": "execute_result"
    }
   ],
   "source": [
    "# Merge the two Dataframes to include Zipcode\n",
    "\n",
    "Combo = pd.merge(Crime, Precinct,          # left and right df's\n",
    "                 how='inner',              # Inner Merge \n",
    "                 left_on='Precinct',       # link with this variable/column \n",
    "                 right_on='Precinct',      # link with this variable/column\n",
    "                indicator = True)\n",
    "\n",
    "Combo.dtypes"
   ]
  },
  {
   "cell_type": "code",
   "execution_count": 43,
   "metadata": {
    "collapsed": false
   },
   "outputs": [
    {
     "data": {
      "text/html": [
       "<div>\n",
       "<table border=\"1\" class=\"dataframe\">\n",
       "  <thead>\n",
       "    <tr style=\"text-align: right;\">\n",
       "      <th></th>\n",
       "      <th>Crime</th>\n",
       "      <th>YTD_Current</th>\n",
       "      <th>YTD_Prior</th>\n",
       "      <th>Precinct</th>\n",
       "      <th>index</th>\n",
       "      <th>Zip</th>\n",
       "      <th>borough</th>\n",
       "      <th>Neighborhood</th>\n",
       "      <th>_merge</th>\n",
       "    </tr>\n",
       "  </thead>\n",
       "  <tbody>\n",
       "    <tr>\n",
       "      <th>0</th>\n",
       "      <td>Murder</td>\n",
       "      <td>2</td>\n",
       "      <td>1</td>\n",
       "      <td>123</td>\n",
       "      <td>387</td>\n",
       "      <td>10312</td>\n",
       "      <td>Staten Island</td>\n",
       "      <td>South Shore</td>\n",
       "      <td>both</td>\n",
       "    </tr>\n",
       "    <tr>\n",
       "      <th>1</th>\n",
       "      <td>Rape</td>\n",
       "      <td>4</td>\n",
       "      <td>3</td>\n",
       "      <td>123</td>\n",
       "      <td>387</td>\n",
       "      <td>10312</td>\n",
       "      <td>Staten Island</td>\n",
       "      <td>South Shore</td>\n",
       "      <td>both</td>\n",
       "    </tr>\n",
       "    <tr>\n",
       "      <th>2</th>\n",
       "      <td>Robbery</td>\n",
       "      <td>19</td>\n",
       "      <td>28</td>\n",
       "      <td>123</td>\n",
       "      <td>387</td>\n",
       "      <td>10312</td>\n",
       "      <td>Staten Island</td>\n",
       "      <td>South Shore</td>\n",
       "      <td>both</td>\n",
       "    </tr>\n",
       "    <tr>\n",
       "      <th>3</th>\n",
       "      <td>Fel. Assault</td>\n",
       "      <td>46</td>\n",
       "      <td>53</td>\n",
       "      <td>123</td>\n",
       "      <td>387</td>\n",
       "      <td>10312</td>\n",
       "      <td>Staten Island</td>\n",
       "      <td>South Shore</td>\n",
       "      <td>both</td>\n",
       "    </tr>\n",
       "    <tr>\n",
       "      <th>4</th>\n",
       "      <td>Burglary</td>\n",
       "      <td>59</td>\n",
       "      <td>75</td>\n",
       "      <td>123</td>\n",
       "      <td>387</td>\n",
       "      <td>10312</td>\n",
       "      <td>Staten Island</td>\n",
       "      <td>South Shore</td>\n",
       "      <td>both</td>\n",
       "    </tr>\n",
       "  </tbody>\n",
       "</table>\n",
       "</div>"
      ],
      "text/plain": [
       "          Crime  YTD_Current  YTD_Prior Precinct  index    Zip        borough  \\\n",
       "0        Murder            2          1      123    387  10312  Staten Island   \n",
       "1          Rape            4          3      123    387  10312  Staten Island   \n",
       "2       Robbery           19         28      123    387  10312  Staten Island   \n",
       "3  Fel. Assault           46         53      123    387  10312  Staten Island   \n",
       "4      Burglary           59         75      123    387  10312  Staten Island   \n",
       "\n",
       "  Neighborhood _merge  \n",
       "0  South Shore   both  \n",
       "1  South Shore   both  \n",
       "2  South Shore   both  \n",
       "3  South Shore   both  \n",
       "4  South Shore   both  "
      ]
     },
     "execution_count": 43,
     "metadata": {},
     "output_type": "execute_result"
    }
   ],
   "source": [
    "Combo.head()"
   ]
  },
  {
   "cell_type": "code",
   "execution_count": 44,
   "metadata": {
    "collapsed": false
   },
   "outputs": [],
   "source": [
    "# Update Crime df with data from Combo and remove indicator\n",
    "\n",
    "Crime = Combo [['Crime', 'YTD_Current', 'YTD_Prior', 'Precinct', 'Zip', 'borough','Neighborhood']]"
   ]
  },
  {
   "cell_type": "code",
   "execution_count": 45,
   "metadata": {
    "collapsed": false
   },
   "outputs": [
    {
     "data": {
      "text/html": [
       "<div>\n",
       "<table border=\"1\" class=\"dataframe\">\n",
       "  <thead>\n",
       "    <tr style=\"text-align: right;\">\n",
       "      <th></th>\n",
       "      <th>Crime</th>\n",
       "      <th>YTD_Current</th>\n",
       "      <th>YTD_Prior</th>\n",
       "      <th>Precinct</th>\n",
       "      <th>Zip</th>\n",
       "      <th>borough</th>\n",
       "      <th>Neighborhood</th>\n",
       "    </tr>\n",
       "  </thead>\n",
       "  <tbody>\n",
       "    <tr>\n",
       "      <th>0</th>\n",
       "      <td>Murder</td>\n",
       "      <td>2</td>\n",
       "      <td>1</td>\n",
       "      <td>123</td>\n",
       "      <td>10312</td>\n",
       "      <td>Staten Island</td>\n",
       "      <td>South Shore</td>\n",
       "    </tr>\n",
       "    <tr>\n",
       "      <th>1</th>\n",
       "      <td>Rape</td>\n",
       "      <td>4</td>\n",
       "      <td>3</td>\n",
       "      <td>123</td>\n",
       "      <td>10312</td>\n",
       "      <td>Staten Island</td>\n",
       "      <td>South Shore</td>\n",
       "    </tr>\n",
       "    <tr>\n",
       "      <th>2</th>\n",
       "      <td>Robbery</td>\n",
       "      <td>19</td>\n",
       "      <td>28</td>\n",
       "      <td>123</td>\n",
       "      <td>10312</td>\n",
       "      <td>Staten Island</td>\n",
       "      <td>South Shore</td>\n",
       "    </tr>\n",
       "    <tr>\n",
       "      <th>3</th>\n",
       "      <td>Fel. Assault</td>\n",
       "      <td>46</td>\n",
       "      <td>53</td>\n",
       "      <td>123</td>\n",
       "      <td>10312</td>\n",
       "      <td>Staten Island</td>\n",
       "      <td>South Shore</td>\n",
       "    </tr>\n",
       "    <tr>\n",
       "      <th>4</th>\n",
       "      <td>Burglary</td>\n",
       "      <td>59</td>\n",
       "      <td>75</td>\n",
       "      <td>123</td>\n",
       "      <td>10312</td>\n",
       "      <td>Staten Island</td>\n",
       "      <td>South Shore</td>\n",
       "    </tr>\n",
       "  </tbody>\n",
       "</table>\n",
       "</div>"
      ],
      "text/plain": [
       "          Crime  YTD_Current  YTD_Prior Precinct    Zip        borough  \\\n",
       "0        Murder            2          1      123  10312  Staten Island   \n",
       "1          Rape            4          3      123  10312  Staten Island   \n",
       "2       Robbery           19         28      123  10312  Staten Island   \n",
       "3  Fel. Assault           46         53      123  10312  Staten Island   \n",
       "4      Burglary           59         75      123  10312  Staten Island   \n",
       "\n",
       "  Neighborhood  \n",
       "0  South Shore  \n",
       "1  South Shore  \n",
       "2  South Shore  \n",
       "3  South Shore  \n",
       "4  South Shore  "
      ]
     },
     "execution_count": 45,
     "metadata": {},
     "output_type": "execute_result"
    }
   ],
   "source": [
    "Crime.head()"
   ]
  },
  {
   "cell_type": "markdown",
   "metadata": {},
   "source": [
    "#### Remove any row with a missing Zipcode or Precinct"
   ]
  },
  {
   "cell_type": "code",
   "execution_count": 46,
   "metadata": {
    "collapsed": true
   },
   "outputs": [],
   "source": [
    "# update new number rows\n",
    "nrow = len(Crime.index)"
   ]
  },
  {
   "cell_type": "code",
   "execution_count": 47,
   "metadata": {
    "collapsed": false
   },
   "outputs": [],
   "source": [
    "# list of indices where zipcode is missing\n",
    "non_missing_zip = [ind for ind in range(nrow) if pd.isnull(Crime.Zip)[ind] == False] \n",
    "\n",
    "# list of indices where Precinct is missing\n",
    "non_missing_Pre = [ind for ind in range(nrow) if pd.isnull(Crime.Precinct)[ind] == False] \n"
   ]
  },
  {
   "cell_type": "code",
   "execution_count": 48,
   "metadata": {
    "collapsed": true
   },
   "outputs": [],
   "source": [
    "# Keep only rows where non_missing is True\n",
    "Crime = Crime.ix[non_missing_zip,]\n",
    "\n",
    "Crime = Crime.ix[non_missing_Pre,]\n"
   ]
  },
  {
   "cell_type": "markdown",
   "metadata": {},
   "source": [
    "#### Create New Dataframe with just the total crimes row for each Precinct"
   ]
  },
  {
   "cell_type": "code",
   "execution_count": 49,
   "metadata": {
    "collapsed": false,
    "scrolled": true
   },
   "outputs": [
    {
     "data": {
      "text/html": [
       "<div>\n",
       "<table border=\"1\" class=\"dataframe\">\n",
       "  <thead>\n",
       "    <tr style=\"text-align: right;\">\n",
       "      <th></th>\n",
       "      <th>Crime</th>\n",
       "      <th>YTD_Current</th>\n",
       "      <th>YTD_Prior</th>\n",
       "      <th>Precinct</th>\n",
       "      <th>Zip</th>\n",
       "      <th>borough</th>\n",
       "      <th>Neighborhood</th>\n",
       "    </tr>\n",
       "  </thead>\n",
       "  <tbody>\n",
       "    <tr>\n",
       "      <th>0</th>\n",
       "      <td>TOTAL</td>\n",
       "      <td>294</td>\n",
       "      <td>349</td>\n",
       "      <td>123</td>\n",
       "      <td>10312</td>\n",
       "      <td>Staten Island</td>\n",
       "      <td>South Shore</td>\n",
       "    </tr>\n",
       "    <tr>\n",
       "      <th>1</th>\n",
       "      <td>TOTAL</td>\n",
       "      <td>718</td>\n",
       "      <td>647</td>\n",
       "      <td>122</td>\n",
       "      <td>10314</td>\n",
       "      <td>Staten Island</td>\n",
       "      <td>Mid-Island</td>\n",
       "    </tr>\n",
       "    <tr>\n",
       "      <th>2</th>\n",
       "      <td>TOTAL</td>\n",
       "      <td>1099</td>\n",
       "      <td>1112</td>\n",
       "      <td>120</td>\n",
       "      <td>10302</td>\n",
       "      <td>Staten Island</td>\n",
       "      <td>Port Richmond</td>\n",
       "    </tr>\n",
       "    <tr>\n",
       "      <th>3</th>\n",
       "      <td>TOTAL</td>\n",
       "      <td>1765</td>\n",
       "      <td>1716</td>\n",
       "      <td>114</td>\n",
       "      <td>11102</td>\n",
       "      <td>Queens</td>\n",
       "      <td>Northwest Queens</td>\n",
       "    </tr>\n",
       "    <tr>\n",
       "      <th>4</th>\n",
       "      <td>TOTAL</td>\n",
       "      <td>1363</td>\n",
       "      <td>1541</td>\n",
       "      <td>113</td>\n",
       "      <td>11434</td>\n",
       "      <td>Queens</td>\n",
       "      <td>Jamaica</td>\n",
       "    </tr>\n",
       "  </tbody>\n",
       "</table>\n",
       "</div>"
      ],
      "text/plain": [
       "   Crime  YTD_Current  YTD_Prior Precinct    Zip        borough  \\\n",
       "0  TOTAL          294        349      123  10312  Staten Island   \n",
       "1  TOTAL          718        647      122  10314  Staten Island   \n",
       "2  TOTAL         1099       1112      120  10302  Staten Island   \n",
       "3  TOTAL         1765       1716      114  11102         Queens   \n",
       "4  TOTAL         1363       1541      113  11434         Queens   \n",
       "\n",
       "       Neighborhood  \n",
       "0       South Shore  \n",
       "1        Mid-Island  \n",
       "2     Port Richmond  \n",
       "3  Northwest Queens  \n",
       "4           Jamaica  "
      ]
     },
     "execution_count": 49,
     "metadata": {},
     "output_type": "execute_result"
    }
   ],
   "source": [
    "# Filter table based on Crime Column\n",
    "Crime_Total = Crime.loc[Crime['Crime'] == 'TOTAL']\n",
    "\n",
    "# Reset index in the new table\n",
    "Crime_Total.reset_index(inplace=True, drop = True)\n",
    "\n",
    "Crime_Total.head()\n",
    "#Crime_Total.dtypes"
   ]
  },
  {
   "cell_type": "markdown",
   "metadata": {
    "collapsed": true
   },
   "source": [
    "After cleaning the data we finished with four dataframes: Rent, Rent_Private, Crime and Crime_Total. We will use these three to produce visual aids to better understand how they relate.\n"
   ]
  },
  {
   "cell_type": "markdown",
   "metadata": {},
   "source": [
    "## 3. Visualizing the Data"
   ]
  },
  {
   "cell_type": "markdown",
   "metadata": {},
   "source": [
    "### 3.1 Housing Data\n",
    "In here we will just look into the housing data, and see how different are the prices in the different boroughs and different neighborhoods of Manhattan"
   ]
  },
  {
   "cell_type": "code",
   "execution_count": 50,
   "metadata": {
    "collapsed": true
   },
   "outputs": [],
   "source": [
    "# Import seaborn package\n",
    "\n",
    "import seaborn as sns"
   ]
  },
  {
   "cell_type": "markdown",
   "metadata": {},
   "source": [
    "#### Boxplot of Daily prices per Borough"
   ]
  },
  {
   "cell_type": "code",
   "execution_count": 116,
   "metadata": {
    "collapsed": false,
    "scrolled": false
   },
   "outputs": [
    {
     "data": {
      "text/plain": [
       "<matplotlib.text.Text at 0x125fa5da0>"
      ]
     },
     "execution_count": 116,
     "metadata": {},
     "output_type": "execute_result"
    },
    {
     "data": {
      "image/png": "[encoded data removed]",
      "text/plain": [
       "<matplotlib.figure.Figure at 0x124490358>"
      ]
     },
     "metadata": {},
     "output_type": "display_data"
    }
   ],
   "source": [
    "sns.set(style=\"whitegrid\", \n",
    "        color_codes=True)\n",
    "\n",
    "# Manually set color palette\n",
    "col = [\"#9b59b6\", \"#3498db\", \"#e74c3c\", \"#34495e\", \"#2ecc71\"]\n",
    "\n",
    "# Plot graph\n",
    "sns.boxplot(x=\"borough\", \n",
    "            y=\"day_price\", \n",
    "            data=Rent_Private,\n",
    "            palette=col)\n",
    "\n",
    "# Add title and labels\n",
    "plt.title('Airbnb Rentals for Private Rooms \\n 2015 - New York City')\n",
    "plt.xlabel('Neighborhood')\n",
    "plt.ylabel('Airbnb Price per Day')"
   ]
  },
  {
   "cell_type": "markdown",
   "metadata": {},
   "source": [
    "Not suprisingly, Manhattan has the most expensive rentals in NYC."
   ]
  },
  {
   "cell_type": "markdown",
   "metadata": {},
   "source": [
    "#### StripPlot of Daily Prices by Neighborhoods in Manhattan"
   ]
  },
  {
   "cell_type": "code",
   "execution_count": 115,
   "metadata": {
    "collapsed": false,
    "scrolled": false
   },
   "outputs": [
    {
     "data": {
      "text/plain": [
       "<matplotlib.text.Text at 0x125f96908>"
      ]
     },
     "execution_count": 115,
     "metadata": {},
     "output_type": "execute_result"
    },
    {
     "data": {
      "image/png": "[encoded data removed]",
      "text/plain": [
       "<matplotlib.figure.Figure at 0x1261df208>"
      ]
     },
     "metadata": {},
     "output_type": "display_data"
    }
   ],
   "source": [
    "# Plot graph\n",
    "g = sns.stripplot(x=\"Neighborhood\", \n",
    "              y=\"day_price\", \n",
    "              data=Rent_Private[Rent_Private['borough'] == 'Manhattan'],\n",
    "              palette='YlGnBu',\n",
    "              jitter=True);\n",
    "\n",
    "# rotate labels 90 degrees\n",
    "for item in g.get_xticklabels():\n",
    "    item.set_rotation(90)\n",
    "\n",
    "# Add title and labels\n",
    "plt.title('Airbnb Rentals for Private Rooms \\n 2015 - Manhattan')\n",
    "plt.xlabel('Neighborhood')\n",
    "plt.ylabel('Airbnb Price per Day')"
   ]
  },
  {
   "cell_type": "markdown",
   "metadata": {},
   "source": [
    "Within Manhattan, Chelseas seems to have the most expensive rentals"
   ]
  },
  {
   "cell_type": "code",
   "execution_count": 108,
   "metadata": {
    "collapsed": false,
    "scrolled": false
   },
   "outputs": [
    {
     "data": {
      "text/plain": [
       "<matplotlib.text.Text at 0x1238aa198>"
      ]
     },
     "execution_count": 108,
     "metadata": {},
     "output_type": "execute_result"
    },
    {
     "data": {
      "image/png": "[encoded data removed]",
      "text/plain": [
       "<matplotlib.figure.Figure at 0x115e5d2b0>"
      ]
     },
     "metadata": {},
     "output_type": "display_data"
    }
   ],
   "source": [
    "# Plot bar chart with total rentals available by Borough\n",
    "sns.countplot(x=\"borough\", \n",
    "              data=Rent_Private,\n",
    "              palette='dark')\n",
    "\n",
    "# Add title and lables\n",
    "plt.title('Total Airbnb Rentals Available \\n 2015 - New York')\n",
    "plt.xlabel('Borough')\n",
    "plt.ylabel('Rooms Available')"
   ]
  },
  {
   "cell_type": "markdown",
   "metadata": {},
   "source": [
    "### 3.2 Housing Data vs Crime Data"
   ]
  },
  {
   "cell_type": "markdown",
   "metadata": {},
   "source": [
    "#### Average Price for Private Rooms Grouped by Neighborhood"
   ]
  },
  {
   "cell_type": "code",
   "execution_count": 54,
   "metadata": {
    "collapsed": false,
    "scrolled": false
   },
   "outputs": [
    {
     "data": {
      "text/html": [
       "<div>\n",
       "<table border=\"1\" class=\"dataframe\">\n",
       "  <thead>\n",
       "    <tr style=\"text-align: right;\">\n",
       "      <th></th>\n",
       "      <th>Neighborhood</th>\n",
       "      <th>day_price</th>\n",
       "    </tr>\n",
       "  </thead>\n",
       "  <tbody>\n",
       "    <tr>\n",
       "      <th>0</th>\n",
       "      <td>Borough Park</td>\n",
       "      <td>70.389381</td>\n",
       "    </tr>\n",
       "    <tr>\n",
       "      <th>1</th>\n",
       "      <td>Bronx Park and Fordham</td>\n",
       "      <td>65.736842</td>\n",
       "    </tr>\n",
       "  </tbody>\n",
       "</table>\n",
       "</div>"
      ],
      "text/plain": [
       "             Neighborhood  day_price\n",
       "0            Borough Park  70.389381\n",
       "1  Bronx Park and Fordham  65.736842"
      ]
     },
     "execution_count": 54,
     "metadata": {},
     "output_type": "execute_result"
    }
   ],
   "source": [
    "Price_Neighborhood=Rent_Private.groupby(by=['Neighborhood'],as_index=False)['day_price'].mean()\n",
    "Price_Neighborhood.head(2)"
   ]
  },
  {
   "cell_type": "markdown",
   "metadata": {},
   "source": [
    "#### Total Number of Apartments Available in New York Grouped by Neighborhood"
   ]
  },
  {
   "cell_type": "code",
   "execution_count": 55,
   "metadata": {
    "collapsed": false,
    "scrolled": false
   },
   "outputs": [
    {
     "data": {
      "text/html": [
       "<div>\n",
       "<table border=\"1\" class=\"dataframe\">\n",
       "  <thead>\n",
       "    <tr style=\"text-align: right;\">\n",
       "      <th></th>\n",
       "      <th>Neighborhood</th>\n",
       "      <th>Total</th>\n",
       "    </tr>\n",
       "  </thead>\n",
       "  <tbody>\n",
       "    <tr>\n",
       "      <th>0</th>\n",
       "      <td>Borough Park</td>\n",
       "      <td>113</td>\n",
       "    </tr>\n",
       "    <tr>\n",
       "      <th>1</th>\n",
       "      <td>Bronx Park and Fordham</td>\n",
       "      <td>19</td>\n",
       "    </tr>\n",
       "  </tbody>\n",
       "</table>\n",
       "</div>"
      ],
      "text/plain": [
       "             Neighborhood  Total\n",
       "0            Borough Park    113\n",
       "1  Bronx Park and Fordham     19"
      ]
     },
     "execution_count": 55,
     "metadata": {},
     "output_type": "execute_result"
    }
   ],
   "source": [
    "# New table with total number of rentals available\n",
    "Total_Neighborhood=Rent_Private.groupby(by=['Neighborhood'],as_index=False)['day_price'].count()\n",
    "Total_Neighborhood.rename(columns={'day_price': 'Total'}, inplace=True)\n",
    "Total_Neighborhood.head(2)"
   ]
  },
  {
   "cell_type": "markdown",
   "metadata": {},
   "source": [
    "#### Total Number of Crimes Grouped by Neighborhood"
   ]
  },
  {
   "cell_type": "code",
   "execution_count": 56,
   "metadata": {
    "collapsed": false
   },
   "outputs": [
    {
     "data": {
      "text/html": [
       "<div>\n",
       "<table border=\"1\" class=\"dataframe\">\n",
       "  <thead>\n",
       "    <tr style=\"text-align: right;\">\n",
       "      <th></th>\n",
       "      <th>Neighborhood</th>\n",
       "      <th>YTD_Current</th>\n",
       "    </tr>\n",
       "  </thead>\n",
       "  <tbody>\n",
       "    <tr>\n",
       "      <th>0</th>\n",
       "      <td>Borough Park</td>\n",
       "      <td>997</td>\n",
       "    </tr>\n",
       "    <tr>\n",
       "      <th>1</th>\n",
       "      <td>Bronx Park and Fordham</td>\n",
       "      <td>4209</td>\n",
       "    </tr>\n",
       "  </tbody>\n",
       "</table>\n",
       "</div>"
      ],
      "text/plain": [
       "             Neighborhood  YTD_Current\n",
       "0            Borough Park          997\n",
       "1  Bronx Park and Fordham         4209"
      ]
     },
     "execution_count": 56,
     "metadata": {},
     "output_type": "execute_result"
    }
   ],
   "source": [
    "Crime_Neighborhood=Crime_Total.groupby(by=['Neighborhood'],as_index=False)['YTD_Current'].sum()\n",
    "Crime_Neighborhood.head(2)"
   ]
  },
  {
   "cell_type": "markdown",
   "metadata": {},
   "source": [
    "#### Merge the three tables to get Average Price,Total Crimes and Total Apartments on the same table"
   ]
  },
  {
   "cell_type": "code",
   "execution_count": 102,
   "metadata": {
    "collapsed": false,
    "scrolled": false
   },
   "outputs": [
    {
     "data": {
      "text/html": [
       "<div>\n",
       "<table border=\"1\" class=\"dataframe\">\n",
       "  <thead>\n",
       "    <tr style=\"text-align: right;\">\n",
       "      <th></th>\n",
       "      <th>Neighborhood</th>\n",
       "      <th>day_price</th>\n",
       "      <th>YTD_Current</th>\n",
       "      <th>Total</th>\n",
       "    </tr>\n",
       "  </thead>\n",
       "  <tbody>\n",
       "    <tr>\n",
       "      <th>0</th>\n",
       "      <td>Borough Park</td>\n",
       "      <td>70.389381</td>\n",
       "      <td>997</td>\n",
       "      <td>113</td>\n",
       "    </tr>\n",
       "    <tr>\n",
       "      <th>1</th>\n",
       "      <td>Bronx Park and Fordham</td>\n",
       "      <td>65.736842</td>\n",
       "      <td>4209</td>\n",
       "      <td>19</td>\n",
       "    </tr>\n",
       "  </tbody>\n",
       "</table>\n",
       "</div>"
      ],
      "text/plain": [
       "             Neighborhood  day_price  YTD_Current  Total\n",
       "0            Borough Park  70.389381          997    113\n",
       "1  Bronx Park and Fordham  65.736842         4209     19"
      ]
     },
     "execution_count": 102,
     "metadata": {},
     "output_type": "execute_result"
    }
   ],
   "source": [
    "# Create New table with merged data from three dataframes\n",
    "Combined = pd.merge(pd.merge(Price_Neighborhood,Crime_Neighborhood,how='inner',on='Neighborhood'),\n",
    "                     Total_Neighborhood,how='inner',on='Neighborhood')\n",
    "labels=Combined['Neighborhood'].tolist()\n",
    "\n",
    "Combined.head(2)"
   ]
  },
  {
   "cell_type": "markdown",
   "metadata": {},
   "source": [
    "#### Plot Average Price by Total Crimes, with Total Apartments as the size of the markers"
   ]
  },
  {
   "cell_type": "code",
   "execution_count": 101,
   "metadata": {
    "collapsed": false,
    "scrolled": false
   },
   "outputs": [
    {
     "data": {
      "text/plain": [
       "<matplotlib.text.Text at 0x12321a358>"
      ]
     },
     "execution_count": 101,
     "metadata": {},
     "output_type": "execute_result"
    },
    {
     "data": {
      "image/png": "[encoded data removed]",
      "text/plain": [
       "<matplotlib.figure.Figure at 0x122772320>"
      ]
     },
     "metadata": {},
     "output_type": "display_data"
    }
   ],
   "source": [
    "sns.set(style=\"whitegrid\", \n",
    "        color_codes=True)\n",
    "\n",
    "# Plot graph\n",
    "g = sns.lmplot('YTD_Current', 'day_price',\n",
    "           data=Combined,\n",
    "           fit_reg=False,\n",
    "           scatter=True,\n",
    "           palette=\"Red\",\n",
    "           size = 6,\n",
    "           aspect = 1.5,\n",
    "           scatter_kws={\"marker\": \"D\", \"s\": Combined.Total,\"color\": \"steelblue\"})\n",
    "\n",
    "\n",
    "# Annotate some Neighborhoods based on their data coordinates\n",
    "plt.annotate('Lower East Side', xy=(3123,107), xytext = (-20, 10), xycoords = 'data',\n",
    "                    textcoords = 'offset points', ha = 'right', va = 'bottom', fontsize=8,\n",
    "                    bbox = dict(boxstyle = 'round,pad=0.5', fc = 'grey', alpha = 0.5),\n",
    "                    arrowprops = dict(arrowstyle = '->', connectionstyle = 'arc3,rad=0'))\n",
    "\n",
    "plt.annotate('Chelsea', xy=(2335,127), xytext = (40, 20), xycoords = 'data',\n",
    "                    textcoords = 'offset points', ha = 'right', va = 'bottom', fontsize=8,\n",
    "                    bbox = dict(boxstyle = 'round,pad=0.5', fc = 'yellow', alpha = 0.5),\n",
    "                    arrowprops = dict(arrowstyle = '->', connectionstyle = 'arc3,rad=0'))\n",
    "\n",
    "plt.annotate('Gramercy Park', xy=(1811,124), xytext = (-15, 12), xycoords = 'data',\n",
    "                    textcoords = 'offset points', ha = 'right', va = 'bottom', fontsize=8,\n",
    "                    bbox = dict(boxstyle = 'round,pad=0.5', fc = 'grey', alpha = 0.5),\n",
    "                    arrowprops = dict(arrowstyle = '->', connectionstyle = 'arc3,rad=0'))\n",
    "\n",
    "plt.annotate('Greenpoint', xy=(960,88.5), xytext = (-30, 10), xycoords = 'data',\n",
    "                    textcoords = 'offset points', ha = 'right', va = 'bottom', fontsize=8,\n",
    "                    bbox = dict(boxstyle = 'round,pad=0.5', fc = 'yellowgreen', alpha = 0.5),\n",
    "                    arrowprops = dict(arrowstyle = '->', connectionstyle = 'arc3,rad=0'))\n",
    "\n",
    "plt.annotate('Northwest Brooklyn', xy=(4700,98), xytext = (-20, 10), xycoords = 'data',\n",
    "                    textcoords = 'offset points', ha = 'right', va = 'bottom', fontsize=8,\n",
    "                    bbox = dict(boxstyle = 'round,pad=0.5', fc = 'indianred', alpha = 0.5),\n",
    "                    arrowprops = dict(arrowstyle = '->', connectionstyle = 'arc3,rad=0'))\n",
    "\n",
    "plt.annotate('Upper East Side', xy=(1853,116), xytext = (-15, -20), xycoords = 'data',\n",
    "                    textcoords = 'offset points', ha = 'right', va = 'bottom', fontsize=8,\n",
    "                    bbox = dict(boxstyle = 'round,pad=0.5', fc = 'grey', alpha = 0.5),\n",
    "                    arrowprops = dict(arrowstyle = '->', connectionstyle = 'arc3,rad=0'))\n",
    "\n",
    "plt.annotate('Upper West Side', xy=(821,109), xytext = (-15, 10), xycoords = 'data',\n",
    "                    textcoords = 'offset points', ha = 'right', va = 'bottom', fontsize=8,\n",
    "                    bbox = dict(boxstyle = 'round,pad=0.5', fc = 'grey', alpha = 0.5),\n",
    "                    arrowprops = dict(arrowstyle = '->', connectionstyle = 'arc3,rad=0'))\n",
    "plt.annotate('Central Bronx', xy=(3354,55), xytext = (-15, 10), xycoords = 'data',\n",
    "                    textcoords = 'offset points', ha = 'right', va = 'bottom', fontsize=8,\n",
    "                    bbox = dict(boxstyle = 'round,pad=0.5', fc = 'grey', alpha = 0.5),\n",
    "                    arrowprops = dict(arrowstyle = '->', connectionstyle = 'arc3,rad=0'))\n",
    "plt.annotate('Lower Manhattan', xy=(1336,120), xytext = (-15, 8), xycoords = 'data',\n",
    "                    textcoords = 'offset points', ha = 'right', va = 'bottom', fontsize=8,\n",
    "                    bbox = dict(boxstyle = 'round,pad=0.5', fc = 'grey', alpha = 0.5),\n",
    "                    arrowprops = dict(arrowstyle = '->', connectionstyle = 'arc3,rad=0'))\n",
    "plt.annotate('South Shore', xy=(294,64), xytext = (-15, 10), xycoords = 'data',\n",
    "                    textcoords = 'offset points', ha = 'right', va = 'bottom', fontsize=8,\n",
    "                    bbox = dict(boxstyle = 'round,pad=0.5', fc = 'grey', alpha = 0.5),\n",
    "                    arrowprops = dict(arrowstyle = '->', connectionstyle = 'arc3,rad=0'))\n",
    "\n",
    "\n",
    "# Add title and labels\n",
    "plt.title('Daily prices of appartments and number of crimes \\n 2015 - New York City')\n",
    "plt.xlabel('Total Crimes')\n",
    "plt.ylabel('Airbnb Average Daily Price')"
   ]
  },
  {
   "cell_type": "markdown",
   "metadata": {},
   "source": [
    "We can point out a few outliers from this graph:\n",
    "\n",
    "1) Northwest Brooklyn has a high crime rate and also a relatevily high average daily price\n",
    "\n",
    "2) Chelsea has the highest average daily price, and also a median cime rate\n",
    "\n",
    "3) Greenpoint seems like a good neighborhood. Low crime rate and also a low daily price"
   ]
  },
  {
   "cell_type": "markdown",
   "metadata": {},
   "source": [
    "### 4. Conclusion"
   ]
  },
  {
   "cell_type": "markdown",
   "metadata": {},
   "source": [
    "As said in the introduction, rent prices is a function of several factors. Undoubtly, crime is one of those factors. Even though we were not able to see a specific pattern in the Airbnb prices with relation to crime rates, I think we were able to point out a few outliers. Unfortunetely, the neighborhoods areas are not the same size, so looking at total crimes is not a fair assesment when comparing different areas. We would probably need to look at total crime divided by population to get a more accurate picture. For example, according to this data, Greenpoint neighborhood has a very low crime rate and a reasonably affordable rent. In contrast, the area called Northwest Brooklyn (Which is actually the area of Brooklyn Hights, Park Slope, Bed-Stuy, Williamsberg, and Redhook) has a high crime rate. There areas are actually very close to each other, but Northwest Brookly is a much larger area. \n",
    "\n"
   ]
  }
 ],
 "metadata": {
  "anaconda-cloud": {},
  "kernelspec": {
   "display_name": "Python [conda root]",
   "language": "python",
   "name": "conda-root-py"
  },
  "language_info": {
   "codemirror_mode": {
    "name": "ipython",
    "version": 3
   },
   "file_extension": ".py",
   "mimetype": "text/x-python",
   "name": "python",
   "nbconvert_exporter": "python",
   "pygments_lexer": "ipython3",
   "version": "3.5.2"
  }
 },
 "nbformat": 4,
 "nbformat_minor": 2
}
