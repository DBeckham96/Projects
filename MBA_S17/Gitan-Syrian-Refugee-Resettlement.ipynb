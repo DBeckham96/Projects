{
 "cells": [
  {
   "cell_type": "markdown",
   "metadata": {},
   "source": [
    "# Syrian Refugee Resettlement, March 2011 - April 2017\n",
    "\n",
    "[Ionut Gitan](http://www.ionutgitan.com/) • Data Bootcamp • Balint Szoke • 5 May 2017\n"
   ]
  },
  {
   "cell_type": "markdown",
   "metadata": {},
   "source": [
    "## Project Summary\n",
    "---\n",
    "\n",
    "**Introduction.** The project discusses an historical overview of Syrian refugee admission to the United States since the start of the Syrian Civil War in March 2011 to April 2017. It investigates where refugees settle in the United States by state and city, and the top receiving states and cities by population share. The project explores the questions: Where in the United States do Syrian refugees resettle? How many Syrian refugees have settled? What are top receive states and their population of share of refugees? What factors influece Syrian refugee resettlement? \n",
    "\n",
    "The project uses data from the Department of State Bureau of Population, Refugees, and Migration, Office of Admissions - Refugee Processing Center reporting [website](http://ireports.wrapsnet.org/). A report was ran of refugee arrivals from Syria by destination from March 1, 2011 to April 30, 2017.\n",
    "\n",
    "---\n",
    "\n",
    "## Explainer - Syrian Refugee Resettlement\n",
    "---\n",
    "About 3 million refugees have resettled in the U.S. since Congress passed the [Refugee Act of 1980](https://www.acf.hhs.gov/orr/resource/the-refugee-act) according to [Pew Research Center](http://www.pewresearch.org/fact-tank/2017/01/30/key-facts-about-refugees-to-the-u-s/). According to this project's research using the Department of State Bureau of Population, Refugees, and Migration's data, the U.S. has resettled 20,525 Syrian refugees since the outbreak of the Syrian Civil War in March 2011\n",
    "\n",
    "This number is very low when compared to European countries, like Germany that has accepted 1 million Syrian refugees, or [55 times](https://www.washingtonpost.com/news/worldviews/wp/2016/05/04/germany-welcomed-more-than-1-million-refugees-in-2015-now-the-country-is-searching-for-its-soul/?utm_term=.a9edac37f736) more than the U.S. It is even lower when compared to countries neighboring Syria, like Turkey, Lebanon, and Jordan that have accepted nearly 5 million Syrian refugees according to the [UN refugee agency](http://data.unhcr.org/syrianrefugees/regional.php)."
   ]
  },
  {
   "cell_type": "code",
   "execution_count": 17,
   "metadata": {
    "collapsed": false
   },
   "outputs": [
    {
     "data": {
      "text/html": [
       "<iframe id=\"igraph\" scrolling=\"no\" style=\"border:none;\" seamless=\"seamless\" src=\"https://plot.ly/~ionutgitan/14.embed\" height=\"525px\" width=\"100%\"></iframe>"
      ],
      "text/plain": [
       "<plotly.tools.PlotlyDisplay object>"
      ]
     },
     "execution_count": 17,
     "metadata": {},
     "output_type": "execute_result"
    }
   ],
   "source": [
    "import plotly \n",
    "plotly.tools.set_credentials_file(username='ionutgitan', api_key='d0QXm30QhDEcnGMQcE5c')\n",
    "\n",
    "import plotly.plotly as py\n",
    "import pandas as pd\n",
    "\n",
    "df = pd.read_csv('https://ionutgitan.com/s/Gitan_Data.csv')\n",
    "df.head()\n",
    "\n",
    "df['text'] = df['name'] + '<br>Syrian Refugees ' + (df['pop']).astype(str)\n",
    "limits = [(0,5),(6,15),(16,50),(51,135),(136,300)]\n",
    "colors = [\"rgb(0,145,115)\",\"rgb(133,20,75)\",\"rgb(24,113,141)\",\"rgb(244,150,6)\",\"rgb(240,86,83)\"]\n",
    "cities = []\n",
    "scale = 600\n",
    "\n",
    "for i in range(len(limits)):\n",
    "    lim = limits[i]\n",
    "    df_sub = df[lim[0]:lim[1]]\n",
    "    city = dict(\n",
    "        type = 'scattergeo',\n",
    "        locationmode = 'USA-states',\n",
    "        lon = df_sub['lon'],\n",
    "        lat = df_sub['lat'],\n",
    "        text = df_sub['text'],\n",
    "        marker = dict(\n",
    "            size = df_sub['pop'],\n",
    "            color = colors[i],\n",
    "            line = dict(width=0.5, color='rgb(40,40,40)'),\n",
    "            sizemode = 'area'\n",
    "        ),\n",
    "        name = '{0} - {1}'.format(lim[0],lim[1]) )\n",
    "    cities.append(city)\n",
    "    \n",
    "layout = dict(\n",
    "        title = 'Syrian Refugee Arrivals by City, March 2011 - April 2017',\n",
    "        showlegend = True,\n",
    "        geo = dict(\n",
    "            scope='usa',\n",
    "            projection=dict( type='albers usa' ),\n",
    "            showland = True,\n",
    "            landcolor = 'rgb(217, 217, 217)',\n",
    "            subunitwidth=1,\n",
    "            countrywidth=1,\n",
    "            subunitcolor=\"rgb(255, 255, 255)\",\n",
    "            countrycolor=\"rgb(255, 255, 255)\"\n",
    "        ),\n",
    "    )\n",
    "\n",
    "fig = dict( data=cities, layout=layout )\n",
    "py.iplot( fig, validate=False, filename='d3-bubble-map-populations' )"
   ]
  },
  {
   "cell_type": "markdown",
   "metadata": {},
   "source": [
    "---\n",
    "**Crisis Background** \n",
    "\n",
    "The Syrian refugee crisis is an outgrowth of the Syrian civil war that began in 2011. The multi-sided war between the President Bashar al-Assad regime and rebels is complicated by the [fracturing of militaries into militias](https://warontherocks.com/2016/08/the-decay-of-the-syrian-regime-is-much-worse-than-you-think/), an [emerging ethnic Kurdish federal state](https://www.nytimes.com/2016/03/17/world/middleeast/syria-kurds.html), [intervening foreign powers](https://www.nytimes.com/2016/08/27/world/middleeast/syria-civil-war-why-get-worse.html?hp&action=click&pgtype=Homepage&clickSource=story-heading&module=first-column-region&region=top-news&WT.nav=top-news&_r=2), and the Islamic State emboldening [international terror plots](https://www.nytimes.com/interactive/2017/02/04/world/isis-remote-control-enabled-attack.html) and [crimes against humanity](https://www.nytimes.com/2016/06/17/world/middleeast/isis-genocide-yazidi-un.html).\n"
   ]
  },
  {
   "cell_type": "code",
   "execution_count": 24,
   "metadata": {
    "collapsed": false
   },
   "outputs": [
    {
     "data": {
      "text/html": [
       "<img src=\"https://static1.squarespace.com/static/5766abc259cc682f752f1425/t/590ca6793a04111a3cbe1b53/1494001277169/?format=750w\"/>"
      ],
      "text/plain": [
       "<IPython.core.display.Image object>"
      ]
     },
     "execution_count": 24,
     "metadata": {},
     "output_type": "execute_result"
    }
   ],
   "source": [
    "from IPython.display import Image\n",
    "from IPython.core.display import HTML \n",
    "Image(url= \"https://static1.squarespace.com/static/5766abc259cc682f752f1425/t/590ca6793a04111a3cbe1b53/1494001277169/?format=750w\")"
   ]
  },
  {
   "cell_type": "markdown",
   "metadata": {},
   "source": [
    "The Syrian refugee crisis has been called one of the [greatest humanitarian crisis](http://www.pbs.org/newshour/updates/worst-humanitarian-crisis-since-world-war-ii/) since World War II. Half of the population – [11 million Syrians](https://www.theguardian.com/global-development/2017/jan/21/how-meet-urgent-needs-11-million-syrians-fleeing-conflict) – have been killed or forced to flee. More than [200,000 Syrians](https://www.nytimes.com/interactive/2015/09/14/world/middleeast/syria-war-deaths.html) have died. [6.3 million](http://www.unhcr.org/en-us/syria-emergency.html) Syrians have been internally displaced, and 5 million Syrians have fled – the [combined populations](https://www.nytimes.com/2017/03/30/world/middleeast/a-quarter-of-syrias-population-has-fled-what-does-that-look-like.html) of California, New York and Florida. [4 out of 5 Syrians live in poverty and the life expectancy has dropped by 20 years](https://www.theguardian.com/world/2015/mar/12/syrias-war-80-in-poverty-life-expectancy-cut-by-20-years-200bn-lost). School attendance [has dropped](https://www.humanitarianresponse.info/en/operations/syria) over 50 percent, with more than 2 million children now out of school. \n",
    "\n",
    "In addition to resettlement, the international community has responded to the crisis by providing aid. Syrian refugees have received record aid, including 6 billion USD in 2016 at the London Syria Conference – the highest raised in a single day for a single cause by the United Nations High Commissioner for Refugees (UNHCR). Despite fundraising efforts, the UNHCR requires nearly [2 billion USD](http://www.unhcr.org/en-us/publications/fundraising/564da0e20/unhcr-global-appeal-2016-2017-needs-funding-requirements.html) in 2017 for the Middle East and North Africa. The US has contributed [6.5 billion USD](https://www.state.gov/j/prm/releases/factsheets/2017/269469.htm) in aid since the beginning of the crisis, including 3.3 billion USD for aid inside Syria. "
   ]
  },
  {
   "cell_type": "markdown",
   "metadata": {},
   "source": [
    "**U.S. Resettlement Factors** \n",
    "\n",
    "Many factors limit refugee resettlement to the U.S., including wavering political commitment from the White House between Obama and Trump administrations. The Obama administration [committed](https://www.nytimes.com/2015/09/11/world/middleeast/obama-directs-administration-to-accept-10000-syrian-refugees.html) to resettle 10,000 refugees in September 2015 -- a goal surpassed. On the other hand, the Trump administration signed two executive orders to ban Syrian refugees -- [both](https://www.nytimes.com/2017/01/28/us/refugees-detained-at-us-airports-prompting-legal-challenges-to-trumps-immigration-order.html) [orders](https://www.nytimes.com/2017/03/15/us/politics/trump-travel-ban.html) were blocked by federal courts. \n",
    "\n",
    "But the U.S. refugee resettlement process is also a major factor. Unlike Europe, the U.S. admits refugees into the country only after processing. Europe processes refugees once they arrive on European soil. In the U.S., Refugees undergo an [‘extreme’](https://www.nytimes.com/2016/01/24/magazine/why-is-it-so-difficult-for-syrian-refugees-to-get-into-the-us.html) [vetting process](https://www.rescue.org/article/how-us-refugee-vetting-and-resettlement-process-really-works) that can take [more than two years](https://www.nytimes.com/interactive/2015/11/20/us/why-it-takes-two-years-for-syrian-refugees-to-apply-to-enter-the-united-states.html). They go through multiple agency background checks, finger print screenings, reviews, and interviews. It is a difficult process to resettle in the U.S. as a refugee.\n",
    "\n",
    "---\n",
    "\n",
    "**U.S. Resettlement** \n",
    "\n",
    "Since March 20011, the top three resettlement states for Syrian refugees are California, Michigan, and Texas. In California, Syrian refugees have mainly resettled in San Diego and Sacramento. In Texas, resettlement is more distributed across the major cities Houston, Austin, and Fort Worth. \n",
    "\n",
    "Michigan is a unique state for Syrian refugee resettlement because of its demographics. The city of Dearborn, 9 miles from Detroit, is home to one of the largest [Arab populations](http://michiganradio.org/post/what-explains-michigans-large-arab-american-community) in the U.S. According to the [2000 Census](https://www.census.gov/prod/2003pubs/c2kbr-23.pdf),  29.85 per cent of the city is Arab, or 29,181 people of the city’s 97,775 total population. The metro-Detroit cities, like Sterling Heights, Warren, and Livonia, all have Arab populations of 100,000 or more. As Arab people migrate to Michigan and build communities, the network ties increase and social capital accumulates making the area receptive for resettlement for other Arab migrants, like Syrian refugees."
   ]
  },
  {
   "cell_type": "code",
   "execution_count": 20,
   "metadata": {
    "collapsed": false,
    "scrolled": false
   },
   "outputs": [
    {
     "data": {
      "text/html": [
       "<iframe id=\"igraph\" scrolling=\"no\" style=\"border:none;\" seamless=\"seamless\" src=\"https://plot.ly/~ionutgitan/12.embed\" height=\"525px\" width=\"100%\"></iframe>"
      ],
      "text/plain": [
       "<plotly.tools.PlotlyDisplay object>"
      ]
     },
     "execution_count": 20,
     "metadata": {},
     "output_type": "execute_result"
    }
   ],
   "source": [
    "import plotly.plotly as py\n",
    "import pandas as pd\n",
    "\n",
    "df = pd.read_csv('https://ionutgitan.com/s/Gitan_Data_State.csv')\n",
    "\n",
    "for col in df.columns:\n",
    "    df[col] = df[col].astype(str)\n",
    "\n",
    "scl = [[0.0, 'rgb(242,240,247)'],[0.2, 'rgb(191,174,211)'],[0.4, 'rgb(165,142,193)'],\\\n",
    "            [0.6, 'rgb(140,109,176)'],[0.8, 'rgb(114,76,158)'],[1.0, 'rgb(89,43,140)']]\n",
    "\n",
    "df['text'] = df['state'] + '<br>' +\\\n",
    "    'Total Refugees '+df['total refugees']\n",
    "\n",
    "data = [ dict(\n",
    "        type='choropleth',\n",
    "        colorscale = scl,\n",
    "        autocolorscale = False,\n",
    "        locations = df['code'],\n",
    "        z = df['total refugees'].astype(float),\n",
    "        locationmode = 'USA-states',\n",
    "        text = df['text'],\n",
    "        marker = dict(\n",
    "            line = dict (\n",
    "                color = 'rgb(255,255,255)',\n",
    "                width = 2\n",
    "            ) ),\n",
    "        colorbar = dict(\n",
    "            title = \"Refugee Population\")\n",
    "        ) ]\n",
    "\n",
    "layout = dict(\n",
    "        title = 'Syrian Refugee Arrivals by State, March 2011 - April 2017',\n",
    "        geo = dict(\n",
    "            scope='usa',\n",
    "            projection=dict( type='albers usa' ),\n",
    "            showlakes = True,\n",
    "            lakecolor = 'rgb(255, 255, 255)'),\n",
    "             )\n",
    "    \n",
    "fig = dict( data=data, layout=layout )\n",
    "py.iplot( fig, filename='d3-cloropleth-map' )"
   ]
  },
  {
   "cell_type": "markdown",
   "metadata": {},
   "source": [
    "---\n",
    "\n",
    "**4. Resettlement Facts** \n",
    "\n",
    "**1. THE U.S. HAS RESETTLED 20,525 SYRIAN REFUGES SINCE MARCH 2011**\n",
    "\n",
    "The majority of Syrian refugees settled in a single year was 15,479 in 2016 after the Obama administration’s commitment to resettle 10,000 Syrian refugees. In the first five years of the Syrian civil war between 2011 to 2015, only 2,547 Syrian refugees resettled in the U.S.\n",
    "\n",
    "**2. SYRIAN REFUGEES ACCOUNT FOR ONLY 4.81% OF ALL RESETTLED REFUGEES FROM MARCH 2011 – APRIL**\n",
    "\n",
    "The five highest refugee sending nations include Burma (20.95% or 89,300), Iraq (19.62% or 83,635), Bhutan (13.03% or 55,568), Somalia (10.95% or 46,701), and the Democratic Republic of Congo (9.61% or 40,998).\n"
   ]
  },
  {
   "cell_type": "code",
   "execution_count": 22,
   "metadata": {
    "collapsed": false
   },
   "outputs": [
    {
     "data": {
      "text/html": [
       "<iframe id=\"igraph\" scrolling=\"no\" style=\"border:none;\" seamless=\"seamless\" src=\"https://plot.ly/~ionutgitan/18.embed\" height=\"525px\" width=\"100%\"></iframe>"
      ],
      "text/plain": [
       "<plotly.tools.PlotlyDisplay object>"
      ]
     },
     "execution_count": 22,
     "metadata": {},
     "output_type": "execute_result"
    }
   ],
   "source": [
    "import plotly.plotly as py\n",
    "import plotly.graph_objs as go\n",
    "\n",
    "trace0 = go.Bar(\n",
    "    x=['2011', '2012', '2013', '2014', '2015', '2016', '2017'],\n",
    "    y=[40904, 66251, 59817, 70628, 64325, 81395, 14244],\n",
    "    name='Other Refugees',\n",
    "    marker=dict(\n",
    "        color='rgb(89,43,140)'\n",
    "    )\n",
    ")\n",
    "trace1 = go.Bar(\n",
    "    x=['2011', '2012', '2013', '2014', '2015', '2016', '2017'],\n",
    "    y=[20, 41, 45, 249, 2192, 15479, 2499],\n",
    "    name='Syrian Refugees',\n",
    "    marker=dict(\n",
    "        color='rgb(163,166,168)',\n",
    "    )\n",
    ")\n",
    "\n",
    "data = [trace0, trace1]\n",
    "layout = go.Layout(\n",
    "    title='Refugee Arrivals, March 2011 - April 2017',\n",
    "    xaxis=dict(tickangle=-45),\n",
    "    barmode='group',\n",
    ")\n",
    "\n",
    "fig = go.Figure(data=data, layout=layout)\n",
    "py.iplot(fig, filename='angled-text-bar')"
   ]
  },
  {
   "cell_type": "markdown",
   "metadata": {
    "collapsed": false
   },
   "source": [
    "**3. THE MAJORITY OF SYRIAN REFUGEES SETTLE IN URBAN AREAS**\n",
    "\n",
    "San Diego, Chicago, and Troy have resettled the most Syrian refugees -- almost 13%. No Syrian refugees have resettled in Alabama, Alaska, Hawaii, Mississippi, and Wyoming. Montana, North Dakota, South Dakota, Vermont, and West Virginia have resettled less than ten Syrian refugees each. The majority of Syrian refugees resettled in Midwestern states (27.95%). \n",
    "\n",
    "**4. REFUGEES IMPACT COMMUNITIES**\n",
    "\n",
    "Refugees help create jobs, raise wages and [boost the economy overall](https://www.washingtonpost.com/news/wonk/wp/2015/09/10/the-big-myth-about-refugees/?utm_term=.38f1642cf111) – paying back the upfront costs associated with resettlement. Refugees revive small towns and cities from [Vermont](https://www.nytimes.com/2017/01/02/us/syria-iraq-refugees-vermont-rutland-plan.html) and [New York](https://www.nytimes.com/2017/02/20/nyregion/a-surprising-salve-for-new-yorks-beleaguered-cities-refugees.html), to [Pennsylvania](https://www.nytimes.com/2016/12/24/us/syrian-refugees.html) and [Michigan](https://www.nytimes.com/2015/11/24/us/syrian-refugees-cling-to-a-longtime-haven-in-michigan.html) by becoming active members in their communities."
   ]
  },
  {
   "cell_type": "code",
   "execution_count": 23,
   "metadata": {
    "collapsed": false
   },
   "outputs": [
    {
     "data": {
      "text/html": [
       "<iframe id=\"igraph\" scrolling=\"no\" style=\"border:none;\" seamless=\"seamless\" src=\"https://plot.ly/~ionutgitan/16.embed\" height=\"525px\" width=\"100%\"></iframe>"
      ],
      "text/plain": [
       "<plotly.tools.PlotlyDisplay object>"
      ]
     },
     "execution_count": 23,
     "metadata": {},
     "output_type": "execute_result"
    }
   ],
   "source": [
    "import plotly.plotly as py\n",
    "import plotly.graph_objs as go\n",
    "\n",
    "trace0 = go.Bar(\n",
    "    x=['California', 'Michigan', 'Texas', 'Pennsylvania', 'Arizona', 'Illinois', 'Florida', 'New York', 'Ohio', 'North Carolina'],\n",
    "    y=[2260, 2168, 1547, 1267, 1252, 1203, 1112, 1042, 906, 895],\n",
    "    text=['11.01% Share', '10.56% Share', '7.53% Share', '6.17% Share', '6.09% Share', '5.86% Share', '5.41% Share', '5.07% Share', '4.41% Share', '4.36% Share'],\n",
    "    marker=dict(\n",
    "        color='rgb(89,43,140)',\n",
    "        line=dict(\n",
    "            color='rgb(89,43,140)',\n",
    "            width=1.5,\n",
    "        )\n",
    "    ),\n",
    "    opacity=0.8\n",
    ")\n",
    "\n",
    "data = [trace0]\n",
    "layout = go.Layout(\n",
    "    title='Syrian Refugee Arrivals by State, March 2011 - April 2017'\n",
    ")\n",
    "\n",
    "fig = go.Figure(data=data, layout=layout)\n",
    "py.iplot(fig, filename='text-hover-bar')"
   ]
  }
 ],
 "metadata": {
  "anaconda-cloud": {},
  "kernelspec": {
   "display_name": "Python [conda root]",
   "language": "python",
   "name": "conda-root-py"
  },
  "language_info": {
   "codemirror_mode": {
    "name": "ipython",
    "version": 3
   },
   "file_extension": ".py",
   "mimetype": "text/x-python",
   "name": "python",
   "nbconvert_exporter": "python",
   "pygments_lexer": "ipython3",
   "version": "3.5.2"
  }
 },
 "nbformat": 4,
 "nbformat_minor": 0
}
