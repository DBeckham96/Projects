{
 "cells": [
  {
   "cell_type": "markdown",
   "metadata": {},
   "source": [
    "# Where Should Renewable Energy Go Next?\n",
    "\n",
    "May 5, 2017\n",
    "\n",
    "Written by Katharine Pittman\n",
    "\n",
    "Contact: klp398@nyu.edu\n",
    "\n",
    "## Overview\n",
    "\n",
    "Since 2011, the advocation and utilization of renewable energy has gained exponential momentum as the effect of climate change and global warming has become increasingly acknowledged. However, state legislation is the primary factor as to where renewable energy is implemented. Large energy companies that provide renewable energy options, such as SunPower and NRG, only provide these services in certain states. At the moment these states include: CA, CO, GA, MA, MD, MN, NJ, NM, PA, RI, and VT. These states will be referred to as the \"Key 11 States\" throughout this project.\n",
    "\n",
    "The object of this project is to investigate which states should be targeted next based on various avenues."
   ]
  },
  {
   "cell_type": "code",
   "execution_count": 543,
   "metadata": {
    "collapsed": false
   },
   "outputs": [
    {
     "name": "stdout",
     "output_type": "stream",
     "text": [
      "Python version: 3.6.0 |Anaconda custom (x86_64)| (default, Dec 23 2016, 13:19:00) \n",
      "[GCC 4.2.1 Compatible Apple LLVM 6.0 (clang-600.0.57)]\n",
      "Pandas version:  0.19.2\n",
      "Today:  2017-05-04\n"
     ]
    }
   ],
   "source": [
    "import sys                             # system module \n",
    "import pandas as pd                    # data package\n",
    "import matplotlib.pyplot as plt        # graphics module  \n",
    "import datetime as dt                  # date and time module\n",
    "import numpy as np                     # foundation for Pandas \n",
    "\n",
    "%matplotlib inline\n",
    "\n",
    "# check versions\n",
    "print('Python version:', sys.version)\n",
    "print('Pandas version: ', pd.__version__)\n",
    "print('Today: ', dt.date.today())"
   ]
  },
  {
   "cell_type": "markdown",
   "metadata": {},
   "source": [
    "## Selecting and Accessing Data Set #1\n",
    "\n",
    "One of my main priorities for selecting a data set was that it contained all of the information I needed for that particular part of my project, and I wouldn't have to \"piece together\" different files to create a graph.\n",
    "\n",
    "The U.S. Energy Information Administration (https://www.eia.gov/) has an innumerable amount of data, some files more detailed, while others are more holistic in nature. \n",
    "\n",
    "For the first part of my project, I am looking at the electricity prices for each state in 2015 for the Residential sector. From this I will identify the Top 5 Most Expensive States in terms of electricity prices that are **NOT** part of the Key 11 States, and then look at the average price of electricity per state from 2000 to 2015 for these Top 5 States.\n",
    "\n"
   ]
  },
  {
   "cell_type": "code",
   "execution_count": 544,
   "metadata": {
    "collapsed": false,
    "scrolled": true
   },
   "outputs": [
    {
     "data": {
      "text/html": [
       "<div>\n",
       "<table border=\"1\" class=\"dataframe\">\n",
       "  <thead>\n",
       "    <tr style=\"text-align: right;\">\n",
       "      <th></th>\n",
       "      <th>Average Price (Cents/kilowatthour) by State by Provider, 1990-2015</th>\n",
       "      <th>Unnamed: 1</th>\n",
       "      <th>Unnamed: 2</th>\n",
       "      <th>Unnamed: 3</th>\n",
       "      <th>Unnamed: 4</th>\n",
       "      <th>Unnamed: 5</th>\n",
       "      <th>Unnamed: 6</th>\n",
       "      <th>Unnamed: 7</th>\n",
       "      <th>Unnamed: 8</th>\n",
       "    </tr>\n",
       "  </thead>\n",
       "  <tbody>\n",
       "    <tr>\n",
       "      <th>0</th>\n",
       "      <td>Year</td>\n",
       "      <td>State</td>\n",
       "      <td>Industry Sector Category</td>\n",
       "      <td>Residential</td>\n",
       "      <td>Commercial</td>\n",
       "      <td>Industrial</td>\n",
       "      <td>Transportation</td>\n",
       "      <td>Other</td>\n",
       "      <td>Total</td>\n",
       "    </tr>\n",
       "    <tr>\n",
       "      <th>1</th>\n",
       "      <td>2015</td>\n",
       "      <td>AK</td>\n",
       "      <td>Total Electric Industry</td>\n",
       "      <td>19.83</td>\n",
       "      <td>17.44</td>\n",
       "      <td>14.53</td>\n",
       "      <td>0</td>\n",
       "      <td>NaN</td>\n",
       "      <td>17.59</td>\n",
       "    </tr>\n",
       "    <tr>\n",
       "      <th>2</th>\n",
       "      <td>2015</td>\n",
       "      <td>AL</td>\n",
       "      <td>Total Electric Industry</td>\n",
       "      <td>11.7</td>\n",
       "      <td>10.83</td>\n",
       "      <td>6.03</td>\n",
       "      <td>0</td>\n",
       "      <td>NaN</td>\n",
       "      <td>9.33</td>\n",
       "    </tr>\n",
       "    <tr>\n",
       "      <th>3</th>\n",
       "      <td>2015</td>\n",
       "      <td>AR</td>\n",
       "      <td>Total Electric Industry</td>\n",
       "      <td>9.82</td>\n",
       "      <td>8.32</td>\n",
       "      <td>6.23</td>\n",
       "      <td>11.21</td>\n",
       "      <td>NaN</td>\n",
       "      <td>8.19</td>\n",
       "    </tr>\n",
       "    <tr>\n",
       "      <th>4</th>\n",
       "      <td>2015</td>\n",
       "      <td>AZ</td>\n",
       "      <td>Total Electric Industry</td>\n",
       "      <td>12.13</td>\n",
       "      <td>10.39</td>\n",
       "      <td>6.26</td>\n",
       "      <td>9.4</td>\n",
       "      <td>NaN</td>\n",
       "      <td>10.34</td>\n",
       "    </tr>\n",
       "  </tbody>\n",
       "</table>\n",
       "</div>"
      ],
      "text/plain": [
       "  Average Price (Cents/kilowatthour) by State by Provider, 1990-2015  \\\n",
       "0                                               Year                   \n",
       "1                                               2015                   \n",
       "2                                               2015                   \n",
       "3                                               2015                   \n",
       "4                                               2015                   \n",
       "\n",
       "  Unnamed: 1                Unnamed: 2   Unnamed: 3  Unnamed: 4  Unnamed: 5  \\\n",
       "0      State  Industry Sector Category  Residential  Commercial  Industrial   \n",
       "1         AK   Total Electric Industry        19.83       17.44       14.53   \n",
       "2         AL   Total Electric Industry         11.7       10.83        6.03   \n",
       "3         AR   Total Electric Industry         9.82        8.32        6.23   \n",
       "4         AZ   Total Electric Industry        12.13       10.39        6.26   \n",
       "\n",
       "       Unnamed: 6 Unnamed: 7 Unnamed: 8  \n",
       "0  Transportation      Other      Total  \n",
       "1               0        NaN      17.59  \n",
       "2               0        NaN       9.33  \n",
       "3           11.21        NaN       8.19  \n",
       "4             9.4        NaN      10.34  "
      ]
     },
     "execution_count": 544,
     "metadata": {},
     "output_type": "execute_result"
    }
   ],
   "source": [
    "url = 'https://www.eia.gov/electricity/data/state/avgprice_annual.xlsx' # importing the data\n",
    "price = pd.read_excel(url)        \n",
    "price.head() # looking at the beginning of the data"
   ]
  },
  {
   "cell_type": "code",
   "execution_count": 545,
   "metadata": {
    "collapsed": false
   },
   "outputs": [
    {
     "data": {
      "text/html": [
       "<div>\n",
       "<table border=\"1\" class=\"dataframe\">\n",
       "  <thead>\n",
       "    <tr style=\"text-align: right;\">\n",
       "      <th></th>\n",
       "      <th>Average Price (Cents/kilowatthour) by State by Provider, 1990-2015</th>\n",
       "      <th>Unnamed: 1</th>\n",
       "      <th>Unnamed: 2</th>\n",
       "      <th>Unnamed: 3</th>\n",
       "      <th>Unnamed: 4</th>\n",
       "      <th>Unnamed: 5</th>\n",
       "      <th>Unnamed: 6</th>\n",
       "      <th>Unnamed: 7</th>\n",
       "      <th>Unnamed: 8</th>\n",
       "    </tr>\n",
       "  </thead>\n",
       "  <tbody>\n",
       "    <tr>\n",
       "      <th>3766</th>\n",
       "      <td>1990</td>\n",
       "      <td>WA</td>\n",
       "      <td>Full-Service Providers</td>\n",
       "      <td>4.39</td>\n",
       "      <td>4.15</td>\n",
       "      <td>2.39</td>\n",
       "      <td>NaN</td>\n",
       "      <td>3.13</td>\n",
       "      <td>3.4</td>\n",
       "    </tr>\n",
       "    <tr>\n",
       "      <th>3767</th>\n",
       "      <td>1990</td>\n",
       "      <td>WI</td>\n",
       "      <td>Full-Service Providers</td>\n",
       "      <td>6.63</td>\n",
       "      <td>5.78</td>\n",
       "      <td>3.99</td>\n",
       "      <td>NaN</td>\n",
       "      <td>6.47</td>\n",
       "      <td>5.37</td>\n",
       "    </tr>\n",
       "    <tr>\n",
       "      <th>3768</th>\n",
       "      <td>1990</td>\n",
       "      <td>WV</td>\n",
       "      <td>Full-Service Providers</td>\n",
       "      <td>5.9</td>\n",
       "      <td>5.36</td>\n",
       "      <td>3.56</td>\n",
       "      <td>NaN</td>\n",
       "      <td>8.19</td>\n",
       "      <td>4.73</td>\n",
       "    </tr>\n",
       "    <tr>\n",
       "      <th>3769</th>\n",
       "      <td>1990</td>\n",
       "      <td>WY</td>\n",
       "      <td>Full-Service Providers</td>\n",
       "      <td>5.97</td>\n",
       "      <td>5.17</td>\n",
       "      <td>3.47</td>\n",
       "      <td>NaN</td>\n",
       "      <td>7.9</td>\n",
       "      <td>4.21</td>\n",
       "    </tr>\n",
       "    <tr>\n",
       "      <th>3770</th>\n",
       "      <td>1990</td>\n",
       "      <td>US</td>\n",
       "      <td>Full-Service Providers</td>\n",
       "      <td>7.83</td>\n",
       "      <td>7.34</td>\n",
       "      <td>4.74</td>\n",
       "      <td>NaN</td>\n",
       "      <td>6.4</td>\n",
       "      <td>6.57</td>\n",
       "    </tr>\n",
       "  </tbody>\n",
       "</table>\n",
       "</div>"
      ],
      "text/plain": [
       "     Average Price (Cents/kilowatthour) by State by Provider, 1990-2015  \\\n",
       "3766                                               1990                   \n",
       "3767                                               1990                   \n",
       "3768                                               1990                   \n",
       "3769                                               1990                   \n",
       "3770                                               1990                   \n",
       "\n",
       "     Unnamed: 1              Unnamed: 2 Unnamed: 3 Unnamed: 4 Unnamed: 5  \\\n",
       "3766         WA  Full-Service Providers       4.39       4.15       2.39   \n",
       "3767         WI  Full-Service Providers       6.63       5.78       3.99   \n",
       "3768         WV  Full-Service Providers        5.9       5.36       3.56   \n",
       "3769         WY  Full-Service Providers       5.97       5.17       3.47   \n",
       "3770         US  Full-Service Providers       7.83       7.34       4.74   \n",
       "\n",
       "     Unnamed: 6 Unnamed: 7 Unnamed: 8  \n",
       "3766        NaN       3.13        3.4  \n",
       "3767        NaN       6.47       5.37  \n",
       "3768        NaN       8.19       4.73  \n",
       "3769        NaN        7.9       4.21  \n",
       "3770        NaN        6.4       6.57  "
      ]
     },
     "execution_count": 545,
     "metadata": {},
     "output_type": "execute_result"
    }
   ],
   "source": [
    "price.tail() # looking at the end of the data"
   ]
  },
  {
   "cell_type": "markdown",
   "metadata": {},
   "source": [
    "## Cleaning Up Data Set #1\n",
    "\n",
    "\n",
    "After looking at the head of the data, I don't need the first row and I only need the first four columns, since I am only interested in prices for Residential. After looking at the tail of the data, I don't need any of the data prior to 2000, since I am focusing on 2000-2015.\n",
    "\n",
    "After looking at the data from the url in full, I also am only interested in the Full-Service Provider prices for each state, so I will pull only this data from the dataset."
   ]
  },
  {
   "cell_type": "code",
   "execution_count": 546,
   "metadata": {
    "collapsed": false
   },
   "outputs": [
    {
     "name": "stdout",
     "output_type": "stream",
     "text": [
      "      Year State Industry Sector Category  Residential\n",
      "52    2015    AK   Full-Service Providers        19.83\n",
      "53    2015    AL   Full-Service Providers        11.70\n",
      "54    2015    AR   Full-Service Providers         9.82\n",
      "55    2015    AZ   Full-Service Providers        12.13\n",
      "56    2015    CA   Full-Service Providers        16.97\n",
      "57    2015    CO   Full-Service Providers        12.12\n",
      "58    2015    CT   Full-Service Providers        20.38\n",
      "59    2015    DC   Full-Service Providers        12.30\n",
      "60    2015    DE   Full-Service Providers        13.29\n",
      "61    2015    FL   Full-Service Providers        11.58\n",
      "62    2015    GA   Full-Service Providers        11.54\n",
      "63    2015    HI   Full-Service Providers        29.60\n",
      "64    2015    IA   Full-Service Providers        11.63\n",
      "65    2015    ID   Full-Service Providers         9.93\n",
      "66    2015    IL   Full-Service Providers        12.55\n",
      "67    2015    IN   Full-Service Providers        11.57\n",
      "68    2015    KS   Full-Service Providers        12.34\n",
      "69    2015    KY   Full-Service Providers        10.24\n",
      "70    2015    LA   Full-Service Providers         9.33\n",
      "71    2015    MA   Full-Service Providers        19.40\n",
      "72    2015    MD   Full-Service Providers        13.43\n",
      "73    2015    ME   Full-Service Providers        14.84\n",
      "74    2015    MI   Full-Service Providers        14.42\n",
      "75    2015    MN   Full-Service Providers        12.12\n",
      "76    2015    MO   Full-Service Providers        11.21\n",
      "77    2015    MS   Full-Service Providers        11.27\n",
      "78    2015    MT   Full-Service Providers        10.88\n",
      "79    2015    NC   Full-Service Providers        11.28\n",
      "80    2015    ND   Full-Service Providers         9.62\n",
      "81    2015    NE   Full-Service Providers        10.60\n",
      "...    ...   ...                      ...          ...\n",
      "2562  2000    MI   Full-Service Providers         8.53\n",
      "2563  2000    MN   Full-Service Providers         7.52\n",
      "2564  2000    MO   Full-Service Providers         7.04\n",
      "2565  2000    MS   Full-Service Providers         6.93\n",
      "2566  2000    MT   Full-Service Providers         6.48\n",
      "2567  2000    NC   Full-Service Providers         7.97\n",
      "2568  2000    ND   Full-Service Providers         6.44\n",
      "2569  2000    NE   Full-Service Providers         6.53\n",
      "2570  2000    NH   Full-Service Providers        13.14\n",
      "2571  2000    NJ   Full-Service Providers        10.29\n",
      "2572  2000    NM   Full-Service Providers         8.36\n",
      "2573  2000    NV   Full-Service Providers         7.28\n",
      "2574  2000    NY   Full-Service Providers        14.03\n",
      "2575  2000    OH   Full-Service Providers         8.61\n",
      "2576  2000    OK   Full-Service Providers         7.03\n",
      "2577  2000    OR   Full-Service Providers         5.88\n",
      "2578  2000    PA   Full-Service Providers         9.35\n",
      "2579  2000    RI   Full-Service Providers        11.28\n",
      "2580  2000    SC   Full-Service Providers         7.58\n",
      "2581  2000    SD   Full-Service Providers         7.42\n",
      "2582  2000    TN   Full-Service Providers         6.33\n",
      "2583  2000    TX   Full-Service Providers         7.96\n",
      "2584  2000    UT   Full-Service Providers         6.29\n",
      "2585  2000    VA   Full-Service Providers         7.52\n",
      "2586  2000    VT   Full-Service Providers        12.30\n",
      "2587  2000    WA   Full-Service Providers         5.13\n",
      "2588  2000    WI   Full-Service Providers         7.53\n",
      "2589  2000    WV   Full-Service Providers         6.27\n",
      "2590  2000    WY   Full-Service Providers         6.50\n",
      "2591  2000    US   Full-Service Providers         8.21\n",
      "\n",
      "[832 rows x 4 columns]\n"
     ]
    }
   ],
   "source": [
    "url = 'https://www.eia.gov/electricity/data/state/avgprice_annual.xlsx' # importing our data\n",
    "price = pd.read_excel(url, \n",
    "                      skiprows=1, # skipping the first row\n",
    "                      usecols=range(4), # only interested in the first four columns\n",
    "                      skipfooter=1126) # skipping data for years 1990-1999\n",
    "\n",
    "sector = ['Full-Service Providers'] # specifying what sector I want\n",
    "price.isin(sector)\n",
    "cleaned_price = price[price['Industry Sector Category'].isin(sector)]\n",
    "print(cleaned_price)"
   ]
  },
  {
   "cell_type": "code",
   "execution_count": 547,
   "metadata": {
    "collapsed": false
   },
   "outputs": [
    {
     "name": "stdout",
     "output_type": "stream",
     "text": [
      "Dimensions:  (832, 4) \n",
      "\n",
      "Column labels:  Index(['Year', 'State', 'Industry Sector Category', 'Residential'], dtype='object') \n",
      "\n",
      "Row labels:  Int64Index([  52,   53,   54,   55,   56,   57,   58,   59,   60,   61,\n",
      "            ...\n",
      "            2582, 2583, 2584, 2585, 2586, 2587, 2588, 2589, 2590, 2591],\n",
      "           dtype='int64', length=832) \n",
      "\n",
      "Type:  Year                          int64\n",
      "State                        object\n",
      "Industry Sector Category     object\n",
      "Residential                 float64\n",
      "dtype: object \n",
      "\n"
     ]
    }
   ],
   "source": [
    "# Inspecting the cleaned up data\n",
    "\n",
    "print('Dimensions: ', cleaned_price.shape, '\\n')  \n",
    "print('Column labels: ', cleaned_price.columns, '\\n')\n",
    "print('Row labels: ', cleaned_price.index, '\\n')\n",
    "print('Type: ', cleaned_price.dtypes, '\\n') # '\\n' adds a blank line and makes the output easier to read"
   ]
  },
  {
   "cell_type": "markdown",
   "metadata": {},
   "source": [
    "### Price of Electricity for Each State in 2015\n",
    "\n",
    "The five states with the highest electricity prices as of 2015 - that are not part of the Key 11 States - are HI, CT, AK, NH, and NY."
   ]
  },
  {
   "cell_type": "code",
   "execution_count": 548,
   "metadata": {
    "collapsed": false,
    "scrolled": true
   },
   "outputs": [
    {
     "name": "stdout",
     "output_type": "stream",
     "text": [
      "     Year State Industry Sector Category  Residential\n",
      "99   2015    WA   Full-Service Providers         9.09\n",
      "70   2015    LA   Full-Service Providers         9.33\n",
      "80   2015    ND   Full-Service Providers         9.62\n",
      "54   2015    AR   Full-Service Providers         9.82\n",
      "65   2015    ID   Full-Service Providers         9.93\n",
      "101  2015    WV   Full-Service Providers        10.08\n",
      "88   2015    OK   Full-Service Providers        10.14\n",
      "69   2015    KY   Full-Service Providers        10.24\n",
      "94   2015    TN   Full-Service Providers        10.30\n",
      "81   2015    NE   Full-Service Providers        10.60\n",
      "89   2015    OR   Full-Service Providers        10.66\n",
      "78   2015    MT   Full-Service Providers        10.88\n",
      "96   2015    UT   Full-Service Providers        10.88\n",
      "102  2015    WY   Full-Service Providers        10.97\n",
      "93   2015    SD   Full-Service Providers        11.08\n",
      "76   2015    MO   Full-Service Providers        11.21\n",
      "77   2015    MS   Full-Service Providers        11.27\n",
      "79   2015    NC   Full-Service Providers        11.28\n",
      "97   2015    VA   Full-Service Providers        11.37\n",
      "62   2015    GA   Full-Service Providers        11.54\n",
      "95   2015    TX   Full-Service Providers        11.56\n",
      "67   2015    IN   Full-Service Providers        11.57\n",
      "61   2015    FL   Full-Service Providers        11.58\n",
      "64   2015    IA   Full-Service Providers        11.63\n",
      "53   2015    AL   Full-Service Providers        11.70\n",
      "75   2015    MN   Full-Service Providers        12.12\n",
      "57   2015    CO   Full-Service Providers        12.12\n",
      "55   2015    AZ   Full-Service Providers        12.13\n",
      "59   2015    DC   Full-Service Providers        12.30\n",
      "68   2015    KS   Full-Service Providers        12.34\n",
      "103  2015    US   Full-Service Providers        12.45\n",
      "84   2015    NM   Full-Service Providers        12.47\n",
      "66   2015    IL   Full-Service Providers        12.55\n",
      "92   2015    SC   Full-Service Providers        12.57\n",
      "85   2015    NV   Full-Service Providers        12.76\n",
      "87   2015    OH   Full-Service Providers        12.77\n",
      "90   2015    PA   Full-Service Providers        13.16\n",
      "60   2015    DE   Full-Service Providers        13.29\n",
      "72   2015    MD   Full-Service Providers        13.43\n",
      "100  2015    WI   Full-Service Providers        14.11\n",
      "74   2015    MI   Full-Service Providers        14.42\n",
      "73   2015    ME   Full-Service Providers        14.84\n",
      "83   2015    NJ   Full-Service Providers        15.61\n",
      "56   2015    CA   Full-Service Providers        16.97\n",
      "98   2015    VT   Full-Service Providers        17.09\n",
      "86   2015    NY   Full-Service Providers        17.80\n",
      "82   2015    NH   Full-Service Providers        18.62\n",
      "91   2015    RI   Full-Service Providers        19.20\n",
      "71   2015    MA   Full-Service Providers        19.40\n",
      "52   2015    AK   Full-Service Providers        19.83\n",
      "58   2015    CT   Full-Service Providers        20.38\n",
      "63   2015    HI   Full-Service Providers        29.60\n"
     ]
    }
   ],
   "source": [
    "year = [2015] # specifying the year I want\n",
    "cleaned_price.isin(year)\n",
    "price2015 = cleaned_price[cleaned_price['Year'].isin(year)]\n",
    "price2015_sorted = price2015.sort_values('Residential') # sorts the prices in ascending order\n",
    "print(price2015_sorted)"
   ]
  },
  {
   "cell_type": "markdown",
   "metadata": {
    "collapsed": true
   },
   "source": [
    "### Price of Electricity from 2000-2015 for HI, CT, AK, NH, and NY"
   ]
  },
  {
   "cell_type": "code",
   "execution_count": 549,
   "metadata": {
    "collapsed": false
   },
   "outputs": [
    {
     "name": "stdout",
     "output_type": "stream",
     "text": [
      "      Year State Industry Sector Category  Residential\n",
      "2551  2000    HI   Full-Service Providers        16.41\n",
      "2387  2001    HI   Full-Service Providers        16.34\n",
      "2226  2002    HI   Full-Service Providers        15.63\n",
      "2065  2003    HI   Full-Service Providers        16.73\n",
      "1897  2004    HI   Full-Service Providers        18.06\n",
      "1730  2005    HI   Full-Service Providers        20.70\n",
      "1563  2006    HI   Full-Service Providers        23.35\n",
      "1396  2007    HI   Full-Service Providers        24.12\n",
      "1226  2008    HI   Full-Service Providers        32.50\n",
      "1056  2009    HI   Full-Service Providers        24.20\n",
      "889   2010    HI   Full-Service Providers        28.10\n",
      "725   2011    HI   Full-Service Providers        34.68\n",
      "561   2012    HI   Full-Service Providers        37.34\n",
      "397   2013    HI   Full-Service Providers        36.98\n",
      "230   2014    HI   Full-Service Providers        37.04\n",
      "63    2015    HI   Full-Service Providers        29.60\n"
     ]
    }
   ],
   "source": [
    "# Showing the prices of electricity from 2000-2015 for just one state as a reference\n",
    "\n",
    "state = ['HI'] # specifying what state I want\n",
    "cleaned_price.isin(state)\n",
    "HI_price = cleaned_price[cleaned_price['State'].isin(state)].iloc[::-1] # reverses the order \n",
    "                                                                        # of the rows\n",
    "print(HI_price) # showing how the data looks"
   ]
  },
  {
   "cell_type": "code",
   "execution_count": 550,
   "metadata": {
    "collapsed": false
   },
   "outputs": [
    {
     "data": {
      "text/plain": [
       "<matplotlib.text.Text at 0x121c35e48>"
      ]
     },
     "execution_count": 550,
     "metadata": {},
     "output_type": "execute_result"
    },
    {
     "data": {
      "image/png": "[encoded data removed]",
      "text/plain": [
       "<matplotlib.figure.Figure at 0x11d57c278>"
      ]
     },
     "metadata": {},
     "output_type": "display_data"
    }
   ],
   "source": [
    "# Showing a graph for just one state as a reference\n",
    "\n",
    "plt.figure(figsize = (16,7))\n",
    "plt.plot(HI_price['Year'], HI_price['Residential'], color = 'red')\n",
    "plt.suptitle('Price of Electricity in HI by Year', fontsize=18)\n",
    "plt.xlabel('Year', fontsize=12)\n",
    "plt.ylabel('Residential', fontsize=12)\n"
   ]
  },
  {
   "cell_type": "code",
   "execution_count": 551,
   "metadata": {
    "collapsed": true
   },
   "outputs": [],
   "source": [
    "# Pulling the price by year data for the additional four states I'm interested in \n",
    "\n",
    "state = ['CT'] # specifying what state I want\n",
    "cleaned_price.isin(state)\n",
    "CT_price = cleaned_price[cleaned_price['State'].isin(state)].iloc[::-1] # reverses the order\n",
    "\n",
    "state = ['AK'] # specifying what state I want\n",
    "cleaned_price.isin(state)\n",
    "AK_price = cleaned_price[cleaned_price['State'].isin(state)].iloc[::-1] # reverses the order\n",
    "\n",
    "state = ['NH'] # specifying what state I want\n",
    "cleaned_price.isin(state)\n",
    "NH_price = cleaned_price[cleaned_price['State'].isin(state)].iloc[::-1] # reverses the order\n",
    "\n",
    "state = ['NY'] # specifying what state I want\n",
    "cleaned_price.isin(state)\n",
    "NY_price = cleaned_price[cleaned_price['State'].isin(state)].iloc[::-1] # reverses the order"
   ]
  },
  {
   "cell_type": "code",
   "execution_count": 552,
   "metadata": {
    "collapsed": false
   },
   "outputs": [
    {
     "data": {
      "image/png": "[encoded data removed]",
      "text/plain": [
       "<matplotlib.figure.Figure at 0x11f83f358>"
      ]
     },
     "metadata": {},
     "output_type": "display_data"
    }
   ],
   "source": [
    "# Plotting a line graph with data from all five states I'm interested in\n",
    "\n",
    "plt.figure(figsize = (17,10))\n",
    "\n",
    "plt.plot(HI_price['Year'], HI_price['Residential'], color = 'red', label = \"Hawaii\")\n",
    "plt.plot(CT_price['Year'], CT_price['Residential'], color = 'blue', label = \"Connecticut\")\n",
    "plt.plot(AK_price['Year'], AK_price['Residential'], color = 'green', label = \"Arkansas\")\n",
    "plt.plot(NH_price['Year'], NH_price['Residential'], color = 'purple', label = \"New Hampshire\")\n",
    "plt.plot(NY_price['Year'], NY_price['Residential'], color = 'cyan', label = \"New York\")\n",
    "\n",
    "plt.legend(bbox_to_anchor=(1.05, 1), loc=2, borderaxespad=0.)\n",
    "\n",
    "plt.suptitle('Price of Electricity in HI, CT, AK, NH, & NY by Year', fontsize=18)\n",
    "plt.xlabel('Year', fontsize=12)\n",
    "plt.ylabel('Residential', fontsize=12)\n",
    "\n",
    "plt.show()"
   ]
  },
  {
   "cell_type": "markdown",
   "metadata": {},
   "source": [
    "## Selecting and Accessing Data Set #2\n",
    "\n",
    "Besides cost, another avenue to investigate which states should consider adopting renewable energy is coal consumption. Data Set #2 will be looking at the Consumption of Coal for Electricity Generation by State in 2014 and 2015 for All Sectors. The Top 5 Coal Consuming states will be identified and graphically represented."
   ]
  },
  {
   "cell_type": "code",
   "execution_count": 553,
   "metadata": {
    "collapsed": false
   },
   "outputs": [
    {
     "data": {
      "text/html": [
       "<div>\n",
       "<table border=\"1\" class=\"dataframe\">\n",
       "  <thead>\n",
       "    <tr style=\"text-align: right;\">\n",
       "      <th></th>\n",
       "      <th>Table 5.9. Consumption of Coal for Electricity Generation by State by Sector,</th>\n",
       "      <th>Unnamed: 1</th>\n",
       "      <th>Unnamed: 2</th>\n",
       "      <th>Unnamed: 3</th>\n",
       "      <th>Unnamed: 4</th>\n",
       "      <th>Unnamed: 5</th>\n",
       "      <th>Unnamed: 6</th>\n",
       "      <th>Unnamed: 7</th>\n",
       "      <th>Unnamed: 8</th>\n",
       "      <th>Unnamed: 9</th>\n",
       "      <th>Unnamed: 10</th>\n",
       "      <th>Unnamed: 11</th>\n",
       "    </tr>\n",
       "  </thead>\n",
       "  <tbody>\n",
       "    <tr>\n",
       "      <th>0</th>\n",
       "      <td>2015 and 2014 (Thousand Tons)</td>\n",
       "      <td>NaN</td>\n",
       "      <td>NaN</td>\n",
       "      <td>NaN</td>\n",
       "      <td>NaN</td>\n",
       "      <td>NaN</td>\n",
       "      <td>NaN</td>\n",
       "      <td>NaN</td>\n",
       "      <td>NaN</td>\n",
       "      <td>NaN</td>\n",
       "      <td>NaN</td>\n",
       "      <td>NaN</td>\n",
       "    </tr>\n",
       "    <tr>\n",
       "      <th>1</th>\n",
       "      <td>NaN</td>\n",
       "      <td>NaN</td>\n",
       "      <td>NaN</td>\n",
       "      <td>NaN</td>\n",
       "      <td>Electric Power Sector</td>\n",
       "      <td>NaN</td>\n",
       "      <td>NaN</td>\n",
       "      <td>NaN</td>\n",
       "      <td>NaN</td>\n",
       "      <td>NaN</td>\n",
       "      <td>NaN</td>\n",
       "      <td>NaN</td>\n",
       "    </tr>\n",
       "    <tr>\n",
       "      <th>2</th>\n",
       "      <td>Census Division\\nand State</td>\n",
       "      <td>All Sectors</td>\n",
       "      <td>NaN</td>\n",
       "      <td>NaN</td>\n",
       "      <td>Electric Utilities</td>\n",
       "      <td>NaN</td>\n",
       "      <td>Independent Power Producers</td>\n",
       "      <td>NaN</td>\n",
       "      <td>Commercial Sector</td>\n",
       "      <td>NaN</td>\n",
       "      <td>Industrial Sector</td>\n",
       "      <td>NaN</td>\n",
       "    </tr>\n",
       "    <tr>\n",
       "      <th>3</th>\n",
       "      <td>NaN</td>\n",
       "      <td>Year 2015</td>\n",
       "      <td>Year 2014</td>\n",
       "      <td>Percentage Change</td>\n",
       "      <td>Year 2015</td>\n",
       "      <td>Year 2014</td>\n",
       "      <td>Year 2015</td>\n",
       "      <td>Year 2014</td>\n",
       "      <td>Year 2015</td>\n",
       "      <td>Year 2014</td>\n",
       "      <td>Year 2015</td>\n",
       "      <td>Year 2014</td>\n",
       "    </tr>\n",
       "    <tr>\n",
       "      <th>4</th>\n",
       "      <td>New England</td>\n",
       "      <td>1795</td>\n",
       "      <td>2310</td>\n",
       "      <td>-0.22</td>\n",
       "      <td>406</td>\n",
       "      <td>544</td>\n",
       "      <td>1377</td>\n",
       "      <td>1753</td>\n",
       "      <td>0</td>\n",
       "      <td>0</td>\n",
       "      <td>12</td>\n",
       "      <td>13</td>\n",
       "    </tr>\n",
       "  </tbody>\n",
       "</table>\n",
       "</div>"
      ],
      "text/plain": [
       "  Table 5.9. Consumption of Coal for Electricity Generation by State by Sector,  \\\n",
       "0                      2015 and 2014 (Thousand Tons)                              \n",
       "1                                                NaN                              \n",
       "2                         Census Division\\nand State                              \n",
       "3                                                NaN                              \n",
       "4                                        New England                              \n",
       "\n",
       "    Unnamed: 1 Unnamed: 2         Unnamed: 3             Unnamed: 4  \\\n",
       "0          NaN        NaN                NaN                    NaN   \n",
       "1          NaN        NaN                NaN  Electric Power Sector   \n",
       "2  All Sectors        NaN                NaN     Electric Utilities   \n",
       "3    Year 2015  Year 2014  Percentage Change              Year 2015   \n",
       "4         1795       2310              -0.22                    406   \n",
       "\n",
       "  Unnamed: 5                   Unnamed: 6 Unnamed: 7         Unnamed: 8  \\\n",
       "0        NaN                          NaN        NaN                NaN   \n",
       "1        NaN                          NaN        NaN                NaN   \n",
       "2        NaN  Independent Power Producers        NaN  Commercial Sector   \n",
       "3  Year 2014                    Year 2015  Year 2014          Year 2015   \n",
       "4        544                         1377       1753                  0   \n",
       "\n",
       "  Unnamed: 9        Unnamed: 10 Unnamed: 11  \n",
       "0        NaN                NaN         NaN  \n",
       "1        NaN                NaN         NaN  \n",
       "2        NaN  Industrial Sector         NaN  \n",
       "3  Year 2014          Year 2015   Year 2014  \n",
       "4          0                 12          13  "
      ]
     },
     "execution_count": 553,
     "metadata": {},
     "output_type": "execute_result"
    }
   ],
   "source": [
    "url2 = 'https://www.eia.gov/electricity/annual/xls/epa_05_09.xlsx' # importing our data\n",
    "coal_consumption = pd.read_excel(url2)        \n",
    "coal_consumption.head() # looking at the beginning of the data"
   ]
  },
  {
   "cell_type": "code",
   "execution_count": 554,
   "metadata": {
    "collapsed": false
   },
   "outputs": [
    {
     "data": {
      "text/html": [
       "<div>\n",
       "<table border=\"1\" class=\"dataframe\">\n",
       "  <thead>\n",
       "    <tr style=\"text-align: right;\">\n",
       "      <th></th>\n",
       "      <th>Table 5.9. Consumption of Coal for Electricity Generation by State by Sector,</th>\n",
       "      <th>Unnamed: 1</th>\n",
       "      <th>Unnamed: 2</th>\n",
       "      <th>Unnamed: 3</th>\n",
       "      <th>Unnamed: 4</th>\n",
       "      <th>Unnamed: 5</th>\n",
       "      <th>Unnamed: 6</th>\n",
       "      <th>Unnamed: 7</th>\n",
       "      <th>Unnamed: 8</th>\n",
       "      <th>Unnamed: 9</th>\n",
       "      <th>Unnamed: 10</th>\n",
       "      <th>Unnamed: 11</th>\n",
       "    </tr>\n",
       "  </thead>\n",
       "  <tbody>\n",
       "    <tr>\n",
       "      <th>62</th>\n",
       "      <td>Pacific Noncontiguous</td>\n",
       "      <td>1209</td>\n",
       "      <td>1231</td>\n",
       "      <td>-0.018</td>\n",
       "      <td>292</td>\n",
       "      <td>230</td>\n",
       "      <td>858</td>\n",
       "      <td>936</td>\n",
       "      <td>44</td>\n",
       "      <td>44</td>\n",
       "      <td>15</td>\n",
       "      <td>20</td>\n",
       "    </tr>\n",
       "    <tr>\n",
       "      <th>63</th>\n",
       "      <td>Alaska</td>\n",
       "      <td>556</td>\n",
       "      <td>487</td>\n",
       "      <td>0.14</td>\n",
       "      <td>292</td>\n",
       "      <td>230</td>\n",
       "      <td>220</td>\n",
       "      <td>213</td>\n",
       "      <td>44</td>\n",
       "      <td>44</td>\n",
       "      <td>0</td>\n",
       "      <td>0</td>\n",
       "    </tr>\n",
       "    <tr>\n",
       "      <th>64</th>\n",
       "      <td>Hawaii</td>\n",
       "      <td>653</td>\n",
       "      <td>744</td>\n",
       "      <td>-0.12</td>\n",
       "      <td>0</td>\n",
       "      <td>0</td>\n",
       "      <td>638</td>\n",
       "      <td>724</td>\n",
       "      <td>0</td>\n",
       "      <td>0</td>\n",
       "      <td>15</td>\n",
       "      <td>20</td>\n",
       "    </tr>\n",
       "    <tr>\n",
       "      <th>65</th>\n",
       "      <td>U.S. Total</td>\n",
       "      <td>739594</td>\n",
       "      <td>853634</td>\n",
       "      <td>-0.13</td>\n",
       "      <td>539506</td>\n",
       "      <td>624235</td>\n",
       "      <td>195927</td>\n",
       "      <td>224568</td>\n",
       "      <td>163</td>\n",
       "      <td>202</td>\n",
       "      <td>3999</td>\n",
       "      <td>4629</td>\n",
       "    </tr>\n",
       "    <tr>\n",
       "      <th>66</th>\n",
       "      <td>Displayed values of zero may represent small v...</td>\n",
       "      <td>NaN</td>\n",
       "      <td>NaN</td>\n",
       "      <td>NaN</td>\n",
       "      <td>NaN</td>\n",
       "      <td>NaN</td>\n",
       "      <td>NaN</td>\n",
       "      <td>NaN</td>\n",
       "      <td>NaN</td>\n",
       "      <td>NaN</td>\n",
       "      <td>NaN</td>\n",
       "      <td>NaN</td>\n",
       "    </tr>\n",
       "  </tbody>\n",
       "</table>\n",
       "</div>"
      ],
      "text/plain": [
       "   Table 5.9. Consumption of Coal for Electricity Generation by State by Sector,  \\\n",
       "62                              Pacific Noncontiguous                              \n",
       "63                                             Alaska                              \n",
       "64                                             Hawaii                              \n",
       "65                                         U.S. Total                              \n",
       "66  Displayed values of zero may represent small v...                              \n",
       "\n",
       "   Unnamed: 1 Unnamed: 2 Unnamed: 3 Unnamed: 4 Unnamed: 5 Unnamed: 6  \\\n",
       "62       1209       1231     -0.018        292        230        858   \n",
       "63        556        487       0.14        292        230        220   \n",
       "64        653        744      -0.12          0          0        638   \n",
       "65     739594     853634      -0.13     539506     624235     195927   \n",
       "66        NaN        NaN        NaN        NaN        NaN        NaN   \n",
       "\n",
       "   Unnamed: 7 Unnamed: 8 Unnamed: 9 Unnamed: 10 Unnamed: 11  \n",
       "62        936         44         44          15          20  \n",
       "63        213         44         44           0           0  \n",
       "64        724          0          0          15          20  \n",
       "65     224568        163        202        3999        4629  \n",
       "66        NaN        NaN        NaN         NaN         NaN  "
      ]
     },
     "execution_count": 554,
     "metadata": {},
     "output_type": "execute_result"
    }
   ],
   "source": [
    "coal_consumption.tail() # looking at the end of the data"
   ]
  },
  {
   "cell_type": "markdown",
   "metadata": {},
   "source": [
    "## Cleaning Up Data Set #2\n",
    "\n",
    "Data Set #2 lists the amount of coal consumed (in thousand tons) for electricity generation for each state, however it also divides the states into regions and provides the region total of coal consumed. As I am only focusing on the indvidiual states (and D.C.), I will have to specify that I just want the data for these rows."
   ]
  },
  {
   "cell_type": "code",
   "execution_count": 555,
   "metadata": {
    "collapsed": false
   },
   "outputs": [
    {
     "name": "stdout",
     "output_type": "stream",
     "text": [
      "                    State    2015    2014\n",
      "0             New England    1795    2310\n",
      "1             Connecticut     359     499\n",
      "2                   Maine      22      19\n",
      "3           Massachusetts    1009    1248\n",
      "4           New Hampshire     406     544\n",
      "5            Rhode Island       0       0\n",
      "6                 Vermont       0       0\n",
      "7         Middle Atlantic   32755   41408\n",
      "8              New Jersey     753    1061\n",
      "9                New York    1104    2221\n",
      "10           Pennsylvania   30898   38127\n",
      "11     East North Central  164983  190107\n",
      "12               Illinois   44030   52198\n",
      "13                Indiana   39116   48560\n",
      "14               Michigan   29568   29530\n",
      "15                   Ohio   30576   38486\n",
      "16              Wisconsin   21692   21334\n",
      "17     West North Central  125028  138064\n",
      "18                   Iowa   17659   20549\n",
      "19                 Kansas   15851   18199\n",
      "20              Minnesota   14649   16800\n",
      "21               Missouri   38277   42967\n",
      "22               Nebraska   14862   15427\n",
      "23           North Dakota   22739   22342\n",
      "24           South Dakota     990    1780\n",
      "25         South Atlantic  105370  125890\n",
      "26               Delaware     276     397\n",
      "27   District of Columbia       0       0\n",
      "28                Florida   19053   22835\n",
      "29                Georgia   19354   22760\n",
      "..                    ...     ...     ...\n",
      "31         North Carolina   15634   19496\n",
      "32         South Carolina    9238   11752\n",
      "33               Virginia    7587    9281\n",
      "34          West Virginia   28181   31918\n",
      "35     East South Central   75121   87424\n",
      "36                Alabama   21049   23913\n",
      "37               Kentucky   34381   39214\n",
      "38            Mississippi    4830    6550\n",
      "39              Tennessee   14862   17747\n",
      "40     West South Central  126189  152519\n",
      "41               Arkansas   12830   19295\n",
      "42              Louisiana   10755   12632\n",
      "43               Oklahoma   15825   18934\n",
      "44                  Texas   86779  101658\n",
      "45               Mountain  102261  108050\n",
      "46                Arizona   19812   22911\n",
      "47               Colorado   17461   17769\n",
      "48                  Idaho      16      18\n",
      "49                Montana   10283   10187\n",
      "50                 Nevada    1507    3446\n",
      "51             New Mexico   11882   11913\n",
      "52                   Utah   14814   15312\n",
      "53                Wyoming   26486   26493\n",
      "54     Pacific Contiguous    4882    6630\n",
      "55             California      67     290\n",
      "56                 Oregon    1401    1853\n",
      "57             Washington    3414    4486\n",
      "58  Pacific Noncontiguous    1209    1231\n",
      "59                 Alaska     556     487\n",
      "60                 Hawaii     653     744\n",
      "\n",
      "[61 rows x 3 columns]\n"
     ]
    }
   ],
   "source": [
    "url2 = 'https://www.eia.gov/electricity/annual/xls/epa_05_09.xlsx' # importing our data\n",
    "coal_consumption = pd.read_excel(url2,       \n",
    "                                 skiprows=4,\n",
    "                                 usecols=range(3),\n",
    "                                 skipfooter=2)\n",
    "\n",
    "coal_consumption.columns = ['State', '2015', '2014']  \n",
    "print(coal_consumption)"
   ]
  },
  {
   "cell_type": "code",
   "execution_count": 556,
   "metadata": {
    "collapsed": false
   },
   "outputs": [
    {
     "name": "stdout",
     "output_type": "stream",
     "text": [
      "Dimensions:  (61, 3) \n",
      "\n",
      "Column labels:  Index(['State', '2015', '2014'], dtype='object') \n",
      "\n",
      "Row labels:  RangeIndex(start=0, stop=61, step=1) \n",
      "\n",
      "Type:  State    object\n",
      "2015      int64\n",
      "2014      int64\n",
      "dtype: object \n",
      "\n"
     ]
    }
   ],
   "source": [
    "# Inspecting the cleaned up data\n",
    "\n",
    "print('Dimensions: ', coal_consumption.shape, '\\n') \n",
    "print('Column labels: ', coal_consumption.columns, '\\n')\n",
    "print('Row labels: ', coal_consumption.index, '\\n')\n",
    "print('Type: ', coal_consumption.dtypes, '\\n') # '\\n' adds a blank line and makes the output easier to read"
   ]
  },
  {
   "cell_type": "markdown",
   "metadata": {},
   "source": [
    "### Coal Consumption \n",
    "\n",
    "The five states with the highest coal comsumtipn in 2015 - that are not part of the Key 11 States - are TX, IL, IN, MO, and KY."
   ]
  },
  {
   "cell_type": "code",
   "execution_count": 557,
   "metadata": {
    "collapsed": false
   },
   "outputs": [
    {
     "name": "stdout",
     "output_type": "stream",
     "text": [
      "                   State   2015    2014\n",
      "5           Rhode Island      0       0\n",
      "6                Vermont      0       0\n",
      "27  District of Columbia      0       0\n",
      "48                 Idaho     16      18\n",
      "2                  Maine     22      19\n",
      "55            California     67     290\n",
      "26              Delaware    276     397\n",
      "1            Connecticut    359     499\n",
      "4          New Hampshire    406     544\n",
      "59                Alaska    556     487\n",
      "60                Hawaii    653     744\n",
      "8             New Jersey    753    1061\n",
      "24          South Dakota    990    1780\n",
      "3          Massachusetts   1009    1248\n",
      "9               New York   1104    2221\n",
      "56                Oregon   1401    1853\n",
      "50                Nevada   1507    3446\n",
      "57            Washington   3414    4486\n",
      "38           Mississippi   4830    6550\n",
      "30              Maryland   6046    7451\n",
      "33              Virginia   7587    9281\n",
      "32        South Carolina   9238   11752\n",
      "49               Montana  10283   10187\n",
      "42             Louisiana  10755   12632\n",
      "51            New Mexico  11882   11913\n",
      "41              Arkansas  12830   19295\n",
      "20             Minnesota  14649   16800\n",
      "52                  Utah  14814   15312\n",
      "22              Nebraska  14862   15427\n",
      "39             Tennessee  14862   17747\n",
      "31        North Carolina  15634   19496\n",
      "43              Oklahoma  15825   18934\n",
      "19                Kansas  15851   18199\n",
      "47              Colorado  17461   17769\n",
      "18                  Iowa  17659   20549\n",
      "28               Florida  19053   22835\n",
      "29               Georgia  19354   22760\n",
      "46               Arizona  19812   22911\n",
      "36               Alabama  21049   23913\n",
      "16             Wisconsin  21692   21334\n",
      "23          North Dakota  22739   22342\n",
      "53               Wyoming  26486   26493\n",
      "34         West Virginia  28181   31918\n",
      "14              Michigan  29568   29530\n",
      "15                  Ohio  30576   38486\n",
      "10          Pennsylvania  30898   38127\n",
      "37              Kentucky  34381   39214\n",
      "21              Missouri  38277   42967\n",
      "13               Indiana  39116   48560\n",
      "12              Illinois  44030   52198\n",
      "44                 Texas  86779  101658\n"
     ]
    }
   ],
   "source": [
    "# I don't want data for the different regions, so I'm specifying what rows I do want data for\n",
    "\n",
    "state_list = ['Alabama', 'Alaska', 'Arizona', 'Arkansas', 'California', 'Colorado', \n",
    "              'Connecticut', 'Delaware', 'Florida', 'Georgia', 'Hawaii', 'Idaho', 'Illinois', \n",
    "              'Indiana', 'Iowa', 'Kansas', 'Kentucky', 'Louisiana', 'Maine', 'Maryland', \n",
    "              'Massachusetts', 'Michigan', 'Minnesota', 'Mississippi', 'Missouri', 'Montana', \n",
    "              'Nebraska', 'Nevada', 'New Hampshire', 'New Jersey', 'New Mexico', 'New York', \n",
    "              'North Carolina', 'North Dakota', 'Ohio', 'Oklahoma', 'Oregon', 'Pennsylvania', \n",
    "              'Rhode Island', 'South Carolina', 'South Dakota', 'Tennessee', 'Texas', 'Utah', \n",
    "              'Vermont', 'Virginia', 'Washington', 'West Virginia', 'Wisconsin', 'Wyoming', \n",
    "              'District of Columbia']\n",
    "\n",
    "coal_consumption.isin(state_list)\n",
    "state_coal_consumption = coal_consumption[coal_consumption['State'].isin(state_list)].sort_values('2015')\n",
    "# sorts the values in ascending order, so I can pick out which states have the highest consumption \n",
    "\n",
    "print(state_coal_consumption)"
   ]
  },
  {
   "cell_type": "code",
   "execution_count": 558,
   "metadata": {
    "collapsed": false
   },
   "outputs": [
    {
     "data": {
      "image/png": "[encoded data removed]",
      "text/plain": [
       "<matplotlib.figure.Figure at 0x1212c14a8>"
      ]
     },
     "metadata": {},
     "output_type": "display_data"
    }
   ],
   "source": [
    "# Here I can use nlargest to graph the top 5 states, but this is only because one of the Key 11 States \n",
    "# is not included in the Top 5.\n",
    "\n",
    "my_plot = state_coal_consumption.nlargest(5, '2015').plot(x = 'State', kind='bar')"
   ]
  },
  {
   "cell_type": "markdown",
   "metadata": {},
   "source": [
    "## Selecting and Accessing Data Set #3\n",
    "\n",
    "The final avenue I will take into addressing which states renewable energy should take over next may actually be the most important - emissions. This data set specifies the Carbon Dioxide, Sulfur Dioxide, and Nitrogen Oxides emitted from energy consumption at conventional power plants and combined-heat-and-power plants for 2014 and 2015. One must keep in mind that identified states from this section are likely similiar to states that consumed a vast amount of coal.\n",
    "\n"
   ]
  },
  {
   "cell_type": "code",
   "execution_count": 559,
   "metadata": {
    "collapsed": false
   },
   "outputs": [
    {
     "data": {
      "text/html": [
       "<div>\n",
       "<table border=\"1\" class=\"dataframe\">\n",
       "  <thead>\n",
       "    <tr style=\"text-align: right;\">\n",
       "      <th></th>\n",
       "      <th>Table 9.5. Emissions from Energy Consumption at</th>\n",
       "      <th>Unnamed: 1</th>\n",
       "      <th>Unnamed: 2</th>\n",
       "      <th>Unnamed: 3</th>\n",
       "      <th>Unnamed: 4</th>\n",
       "      <th>Unnamed: 5</th>\n",
       "      <th>Unnamed: 6</th>\n",
       "    </tr>\n",
       "  </thead>\n",
       "  <tbody>\n",
       "    <tr>\n",
       "      <th>0</th>\n",
       "      <td>Conventional Power Plants and Combined-Heat-an...</td>\n",
       "      <td>NaN</td>\n",
       "      <td>NaN</td>\n",
       "      <td>NaN</td>\n",
       "      <td>NaN</td>\n",
       "      <td>NaN</td>\n",
       "      <td>NaN</td>\n",
       "    </tr>\n",
       "    <tr>\n",
       "      <th>1</th>\n",
       "      <td>by State, 2014 and 2015 (Thousand Metric Tons)</td>\n",
       "      <td>NaN</td>\n",
       "      <td>NaN</td>\n",
       "      <td>NaN</td>\n",
       "      <td>NaN</td>\n",
       "      <td>NaN</td>\n",
       "      <td>NaN</td>\n",
       "    </tr>\n",
       "    <tr>\n",
       "      <th>2</th>\n",
       "      <td>Census Division\\nand State</td>\n",
       "      <td>Carbon Dioxide (CO2)</td>\n",
       "      <td>NaN</td>\n",
       "      <td>Sulfur Dioxide (SO2)</td>\n",
       "      <td>NaN</td>\n",
       "      <td>Nitrogen Oxides (NOx)</td>\n",
       "      <td>NaN</td>\n",
       "    </tr>\n",
       "    <tr>\n",
       "      <th>3</th>\n",
       "      <td>\\n</td>\n",
       "      <td>Year 2015</td>\n",
       "      <td>Year 2014</td>\n",
       "      <td>Year 2015</td>\n",
       "      <td>Year 2014</td>\n",
       "      <td>Year 2015</td>\n",
       "      <td>Year 2014</td>\n",
       "    </tr>\n",
       "    <tr>\n",
       "      <th>4</th>\n",
       "      <td>New England</td>\n",
       "      <td>31965</td>\n",
       "      <td>30810</td>\n",
       "      <td>19</td>\n",
       "      <td>21</td>\n",
       "      <td>31</td>\n",
       "      <td>33</td>\n",
       "    </tr>\n",
       "  </tbody>\n",
       "</table>\n",
       "</div>"
      ],
      "text/plain": [
       "     Table 9.5. Emissions from Energy Consumption at            Unnamed: 1  \\\n",
       "0  Conventional Power Plants and Combined-Heat-an...                   NaN   \n",
       "1     by State, 2014 and 2015 (Thousand Metric Tons)                   NaN   \n",
       "2                         Census Division\\nand State  Carbon Dioxide (CO2)   \n",
       "3                                                 \\n             Year 2015   \n",
       "4                                        New England                 31965   \n",
       "\n",
       "  Unnamed: 2            Unnamed: 3 Unnamed: 4             Unnamed: 5  \\\n",
       "0        NaN                   NaN        NaN                    NaN   \n",
       "1        NaN                   NaN        NaN                    NaN   \n",
       "2        NaN  Sulfur Dioxide (SO2)        NaN  Nitrogen Oxides (NOx)   \n",
       "3  Year 2014             Year 2015  Year 2014              Year 2015   \n",
       "4      30810                    19         21                     31   \n",
       "\n",
       "  Unnamed: 6  \n",
       "0        NaN  \n",
       "1        NaN  \n",
       "2        NaN  \n",
       "3  Year 2014  \n",
       "4         33  "
      ]
     },
     "execution_count": 559,
     "metadata": {},
     "output_type": "execute_result"
    }
   ],
   "source": [
    "url3 = 'https://www.eia.gov/electricity/annual/xls/epa_09_05.xlsx' # importing our data\n",
    "emissions = pd.read_excel(url3)        \n",
    "emissions.head() # looking at the beginning of the data"
   ]
  },
  {
   "cell_type": "code",
   "execution_count": 560,
   "metadata": {
    "collapsed": false
   },
   "outputs": [
    {
     "data": {
      "text/html": [
       "<div>\n",
       "<table border=\"1\" class=\"dataframe\">\n",
       "  <thead>\n",
       "    <tr style=\"text-align: right;\">\n",
       "      <th></th>\n",
       "      <th>Table 9.5. Emissions from Energy Consumption at</th>\n",
       "      <th>Unnamed: 1</th>\n",
       "      <th>Unnamed: 2</th>\n",
       "      <th>Unnamed: 3</th>\n",
       "      <th>Unnamed: 4</th>\n",
       "      <th>Unnamed: 5</th>\n",
       "      <th>Unnamed: 6</th>\n",
       "    </tr>\n",
       "  </thead>\n",
       "  <tbody>\n",
       "    <tr>\n",
       "      <th>62</th>\n",
       "      <td>Pacific Noncontiguous</td>\n",
       "      <td>11033</td>\n",
       "      <td>11006</td>\n",
       "      <td>23</td>\n",
       "      <td>20</td>\n",
       "      <td>37</td>\n",
       "      <td>32</td>\n",
       "    </tr>\n",
       "    <tr>\n",
       "      <th>63</th>\n",
       "      <td>Alaska</td>\n",
       "      <td>3676</td>\n",
       "      <td>3558</td>\n",
       "      <td>4</td>\n",
       "      <td>4</td>\n",
       "      <td>19</td>\n",
       "      <td>14</td>\n",
       "    </tr>\n",
       "    <tr>\n",
       "      <th>64</th>\n",
       "      <td>Hawaii</td>\n",
       "      <td>7356</td>\n",
       "      <td>7448</td>\n",
       "      <td>20</td>\n",
       "      <td>17</td>\n",
       "      <td>17</td>\n",
       "      <td>18</td>\n",
       "    </tr>\n",
       "    <tr>\n",
       "      <th>65</th>\n",
       "      <td>U.S. Total</td>\n",
       "      <td>2031452</td>\n",
       "      <td>2168284</td>\n",
       "      <td>2548</td>\n",
       "      <td>3454</td>\n",
       "      <td>1824</td>\n",
       "      <td>2100</td>\n",
       "    </tr>\n",
       "    <tr>\n",
       "      <th>66</th>\n",
       "      <td>Notes:\\nThe emissions data presented include t...</td>\n",
       "      <td>NaN</td>\n",
       "      <td>NaN</td>\n",
       "      <td>NaN</td>\n",
       "      <td>NaN</td>\n",
       "      <td>NaN</td>\n",
       "      <td>NaN</td>\n",
       "    </tr>\n",
       "  </tbody>\n",
       "</table>\n",
       "</div>"
      ],
      "text/plain": [
       "      Table 9.5. Emissions from Energy Consumption at Unnamed: 1 Unnamed: 2  \\\n",
       "62                              Pacific Noncontiguous      11033      11006   \n",
       "63                                             Alaska       3676       3558   \n",
       "64                                             Hawaii       7356       7448   \n",
       "65                                         U.S. Total    2031452    2168284   \n",
       "66  Notes:\\nThe emissions data presented include t...        NaN        NaN   \n",
       "\n",
       "   Unnamed: 3 Unnamed: 4 Unnamed: 5 Unnamed: 6  \n",
       "62         23         20         37         32  \n",
       "63          4          4         19         14  \n",
       "64         20         17         17         18  \n",
       "65       2548       3454       1824       2100  \n",
       "66        NaN        NaN        NaN        NaN  "
      ]
     },
     "execution_count": 560,
     "metadata": {},
     "output_type": "execute_result"
    }
   ],
   "source": [
    "emissions.tail() # looking at the end of the data"
   ]
  },
  {
   "cell_type": "markdown",
   "metadata": {},
   "source": [
    "## Cleaning Up Data Set #3\n",
    "\n",
    "For Data Set #3 I will be looking at the 5 Highest Emitting States for each of the three categories (CO2, SO2, NOx) for Total emissions between 2014 and 2015."
   ]
  },
  {
   "cell_type": "code",
   "execution_count": 561,
   "metadata": {
    "collapsed": false,
    "scrolled": true
   },
   "outputs": [
    {
     "name": "stdout",
     "output_type": "stream",
     "text": [
      "                      CO2 Total  SO2 Total  NOx Total\n",
      "State                                                \n",
      "District of Columbia         84       0.00       0.36\n",
      "Rhode Island               5440       0.19       2.00\n",
      "Vermont                      25       0.12       2.00\n",
      "Delaware                   8367       2.00       5.00\n",
      "New Hampshire              7111       5.00       7.00\n",
      "South Dakota               5034      17.00      13.00\n",
      "Connecticut               17501       3.00      15.00\n",
      "Maine                      6359      21.00      16.00\n",
      "Massachusetts             26339      11.00      24.00\n",
      "Nevada                    30974      14.00      25.00\n",
      "New Jersey                37791       6.00      26.00\n",
      "Oregon                    17357      19.00      27.00\n",
      "Washington                24070      24.00      29.00\n",
      "Idaho                      3358       9.00      30.00\n",
      "Alaska                     7234       8.00      33.00\n",
      "Maryland                  39015      69.00      34.00\n",
      "Hawaii                    14804      37.00      35.00\n",
      "Mississippi               49208     125.00      37.00\n",
      "Montana                   35814      26.00      38.00\n",
      "South Carolina            62932      66.00      38.00\n",
      "Tennessee                 79382     160.00      43.00\n",
      "Kansas                    59135      42.00      45.00\n",
      "Nebraska                  51674     117.00      48.00\n",
      "Minnesota                 62984      63.00      63.00\n",
      "Iowa                      74355     113.00      69.00\n",
      "Oklahoma                  85689     132.00      70.00\n",
      "Wisconsin                 88955     128.00      70.00\n",
      "Virginia                  68632      93.00      71.00\n",
      "Arkansas                  65876     135.00      72.00\n",
      "New York                  66803      51.00      75.00\n",
      "Colorado                  75887      48.00      75.00\n",
      "New Mexico                49562      22.00      84.00\n",
      "North Dakota              61666      91.00      86.00\n",
      "Wyoming                   94813      81.00      90.00\n",
      "Arizona                  103885      36.00      91.00\n",
      "Illinois                 180899     309.00      95.00\n",
      "Utah                      68892      37.00     100.00\n",
      "Georgia                  121790     164.00     101.00\n",
      "North Carolina           112402     110.00     106.00\n",
      "Alabama                  132077     256.00     108.00\n",
      "Missouri                 143730     250.00     115.00\n",
      "West Virginia            139876     154.00     123.00\n",
      "Michigan                 131383     294.00     131.00\n",
      "Louisiana                113436     156.00     141.00\n",
      "Kentucky                 162222     308.00     143.00\n",
      "California               112988       4.00     147.00\n",
      "Florida                  225009     192.00     158.00\n",
      "Ohio                     182372     536.00     172.00\n",
      "Indiana                  193681     427.00     212.00\n",
      "Pennsylvania             192995     471.00     232.00\n",
      "Texas                    497874     564.00     359.00\n"
     ]
    }
   ],
   "source": [
    "url3 = 'https://www.eia.gov/electricity/annual/xls/epa_09_05.xlsx' # importing our data\n",
    "\n",
    "emissions = pd.read_excel(url3,\n",
    "                          skiprows=4,\n",
    "                          skipfooter=2)\n",
    "\n",
    "emissions.columns = ['State', 'CO2 2015', 'CO2 2014', 'SO2 2015', 'SO2 2014', 'NOx 2015', 'NOx 2014'] \n",
    "                                                                                        # renaming the columns\n",
    "\n",
    "emissions['CO2 Total'] = emissions['CO2 2015'] + emissions['CO2 2014'] # adding CO2 emissions for 2014 + 2015\n",
    "emissions['SO2 Total'] = emissions['SO2 2015'] + emissions['SO2 2014'] # adding SO2 emissions for 2014 + 2015\n",
    "emissions['NOx Total'] = emissions['NOx 2015'] + emissions['NOx 2014'] # adding NOx emissions for 2014 + 2015\n",
    "\n",
    "totals = ['State','CO2 Total', 'SO2 Total', 'NOx Total']\n",
    "small_emissions = state_emissions[totals] # creating a new dataframe with just the total emissions\n",
    "\n",
    "small_emissions = small_emissions.set_index(['State']) # setting the index to the State name\n",
    "print(small_emissions) # checking to make sure it looks good"
   ]
  },
  {
   "cell_type": "code",
   "execution_count": 562,
   "metadata": {
    "collapsed": false
   },
   "outputs": [
    {
     "name": "stdout",
     "output_type": "stream",
     "text": [
      "Dimensions:  (51, 3) \n",
      "\n",
      "Column labels:  Index(['CO2 Total', 'SO2 Total', 'NOx Total'], dtype='object') \n",
      "\n",
      "Row labels:  Index(['District of Columbia', 'Rhode Island', 'Vermont', 'Delaware',\n",
      "       'New Hampshire', 'South Dakota', 'Connecticut', 'Maine',\n",
      "       'Massachusetts', 'Nevada', 'New Jersey', 'Oregon', 'Washington',\n",
      "       'Idaho', 'Alaska', 'Maryland', 'Hawaii', 'Mississippi', 'Montana',\n",
      "       'South Carolina', 'Tennessee', 'Kansas', 'Nebraska', 'Minnesota',\n",
      "       'Iowa', 'Oklahoma', 'Wisconsin', 'Virginia', 'Arkansas', 'New York',\n",
      "       'Colorado', 'New Mexico', 'North Dakota', 'Wyoming', 'Arizona',\n",
      "       'Illinois', 'Utah', 'Georgia', 'North Carolina', 'Alabama', 'Missouri',\n",
      "       'West Virginia', 'Michigan', 'Louisiana', 'Kentucky', 'California',\n",
      "       'Florida', 'Ohio', 'Indiana', 'Pennsylvania', 'Texas'],\n",
      "      dtype='object', name='State') \n",
      "\n",
      "Type:  CO2 Total      int64\n",
      "SO2 Total    float64\n",
      "NOx Total    float64\n",
      "dtype: object \n",
      "\n"
     ]
    }
   ],
   "source": [
    "# Inspecting the cleaned up data\n",
    "\n",
    "print('Dimensions: ', small_emissions.shape, '\\n') \n",
    "print('Column labels: ', small_emissions.columns, '\\n')\n",
    "print('Row labels: ', small_emissions.index, '\\n')\n",
    "print('Type: ', small_emissions.dtypes, '\\n') # '\\n' adds a blank line and makes the output easier to read"
   ]
  },
  {
   "cell_type": "markdown",
   "metadata": {},
   "source": [
    "### CO2 Emissions\n",
    "\n",
    "Below are the sorted values for CO2 Emissions. You can see that the 5 Highest Emitting States - not including any of the Key 11 States - are TX, FL, IN, OH, and IL."
   ]
  },
  {
   "cell_type": "code",
   "execution_count": 563,
   "metadata": {
    "collapsed": false
   },
   "outputs": [
    {
     "name": "stdout",
     "output_type": "stream",
     "text": [
      "                      CO2 Total  SO2 Total  NOx Total\n",
      "State                                                \n",
      "Vermont                      25       0.12       2.00\n",
      "District of Columbia         84       0.00       0.36\n",
      "Idaho                      3358       9.00      30.00\n",
      "South Dakota               5034      17.00      13.00\n",
      "Rhode Island               5440       0.19       2.00\n",
      "Maine                      6359      21.00      16.00\n",
      "New Hampshire              7111       5.00       7.00\n",
      "Alaska                     7234       8.00      33.00\n",
      "Delaware                   8367       2.00       5.00\n",
      "Hawaii                    14804      37.00      35.00\n",
      "Oregon                    17357      19.00      27.00\n",
      "Connecticut               17501       3.00      15.00\n",
      "Washington                24070      24.00      29.00\n",
      "Massachusetts             26339      11.00      24.00\n",
      "Nevada                    30974      14.00      25.00\n",
      "Montana                   35814      26.00      38.00\n",
      "New Jersey                37791       6.00      26.00\n",
      "Maryland                  39015      69.00      34.00\n",
      "Mississippi               49208     125.00      37.00\n",
      "New Mexico                49562      22.00      84.00\n",
      "Nebraska                  51674     117.00      48.00\n",
      "Kansas                    59135      42.00      45.00\n",
      "North Dakota              61666      91.00      86.00\n",
      "South Carolina            62932      66.00      38.00\n",
      "Minnesota                 62984      63.00      63.00\n",
      "Arkansas                  65876     135.00      72.00\n",
      "New York                  66803      51.00      75.00\n",
      "Virginia                  68632      93.00      71.00\n",
      "Utah                      68892      37.00     100.00\n",
      "Iowa                      74355     113.00      69.00\n",
      "Colorado                  75887      48.00      75.00\n",
      "Tennessee                 79382     160.00      43.00\n",
      "Oklahoma                  85689     132.00      70.00\n",
      "Wisconsin                 88955     128.00      70.00\n",
      "Wyoming                   94813      81.00      90.00\n",
      "Arizona                  103885      36.00      91.00\n",
      "North Carolina           112402     110.00     106.00\n",
      "California               112988       4.00     147.00\n",
      "Louisiana                113436     156.00     141.00\n",
      "Georgia                  121790     164.00     101.00\n",
      "Michigan                 131383     294.00     131.00\n",
      "Alabama                  132077     256.00     108.00\n",
      "West Virginia            139876     154.00     123.00\n",
      "Missouri                 143730     250.00     115.00\n",
      "Kentucky                 162222     308.00     143.00\n",
      "Illinois                 180899     309.00      95.00\n",
      "Ohio                     182372     536.00     172.00\n",
      "Pennsylvania             192995     471.00     232.00\n",
      "Indiana                  193681     427.00     212.00\n",
      "Florida                  225009     192.00     158.00\n",
      "Texas                    497874     564.00     359.00\n"
     ]
    }
   ],
   "source": [
    "print(small_emissions.sort_values('CO2 Total'))"
   ]
  },
  {
   "cell_type": "markdown",
   "metadata": {},
   "source": [
    "### SO2 Emissions\n",
    "\n",
    "Below are the sorted values for SO2 Emissions. You can see that the 5 Highest Emitting States - not including any of the Key 11 States - are TX, OH, IN, IL, and KY."
   ]
  },
  {
   "cell_type": "code",
   "execution_count": 564,
   "metadata": {
    "collapsed": false
   },
   "outputs": [
    {
     "name": "stdout",
     "output_type": "stream",
     "text": [
      "                      CO2 Total  SO2 Total  NOx Total\n",
      "State                                                \n",
      "District of Columbia         84       0.00       0.36\n",
      "Vermont                      25       0.12       2.00\n",
      "Rhode Island               5440       0.19       2.00\n",
      "Delaware                   8367       2.00       5.00\n",
      "Connecticut               17501       3.00      15.00\n",
      "California               112988       4.00     147.00\n",
      "New Hampshire              7111       5.00       7.00\n",
      "New Jersey                37791       6.00      26.00\n",
      "Alaska                     7234       8.00      33.00\n",
      "Idaho                      3358       9.00      30.00\n",
      "Massachusetts             26339      11.00      24.00\n",
      "Nevada                    30974      14.00      25.00\n",
      "South Dakota               5034      17.00      13.00\n",
      "Oregon                    17357      19.00      27.00\n",
      "Maine                      6359      21.00      16.00\n",
      "New Mexico                49562      22.00      84.00\n",
      "Washington                24070      24.00      29.00\n",
      "Montana                   35814      26.00      38.00\n",
      "Arizona                  103885      36.00      91.00\n",
      "Hawaii                    14804      37.00      35.00\n",
      "Utah                      68892      37.00     100.00\n",
      "Kansas                    59135      42.00      45.00\n",
      "Colorado                  75887      48.00      75.00\n",
      "New York                  66803      51.00      75.00\n",
      "Minnesota                 62984      63.00      63.00\n",
      "South Carolina            62932      66.00      38.00\n",
      "Maryland                  39015      69.00      34.00\n",
      "Wyoming                   94813      81.00      90.00\n",
      "North Dakota              61666      91.00      86.00\n",
      "Virginia                  68632      93.00      71.00\n",
      "North Carolina           112402     110.00     106.00\n",
      "Iowa                      74355     113.00      69.00\n",
      "Nebraska                  51674     117.00      48.00\n",
      "Mississippi               49208     125.00      37.00\n",
      "Wisconsin                 88955     128.00      70.00\n",
      "Oklahoma                  85689     132.00      70.00\n",
      "Arkansas                  65876     135.00      72.00\n",
      "West Virginia            139876     154.00     123.00\n",
      "Louisiana                113436     156.00     141.00\n",
      "Tennessee                 79382     160.00      43.00\n",
      "Georgia                  121790     164.00     101.00\n",
      "Florida                  225009     192.00     158.00\n",
      "Missouri                 143730     250.00     115.00\n",
      "Alabama                  132077     256.00     108.00\n",
      "Michigan                 131383     294.00     131.00\n",
      "Kentucky                 162222     308.00     143.00\n",
      "Illinois                 180899     309.00      95.00\n",
      "Indiana                  193681     427.00     212.00\n",
      "Pennsylvania             192995     471.00     232.00\n",
      "Ohio                     182372     536.00     172.00\n",
      "Texas                    497874     564.00     359.00\n"
     ]
    }
   ],
   "source": [
    "print(small_emissions.sort_values('SO2 Total'))"
   ]
  },
  {
   "cell_type": "markdown",
   "metadata": {},
   "source": [
    "### NOx Emissions\n",
    "\n",
    "Below are the sorted values for NOx Emissions. You can see that the 5 Highest Emitting States - not including any of the Key 11 States - are TX, IN, OH, FL, and KY."
   ]
  },
  {
   "cell_type": "code",
   "execution_count": 565,
   "metadata": {
    "collapsed": false
   },
   "outputs": [
    {
     "name": "stdout",
     "output_type": "stream",
     "text": [
      "                      CO2 Total  SO2 Total  NOx Total\n",
      "State                                                \n",
      "District of Columbia         84       0.00       0.36\n",
      "Rhode Island               5440       0.19       2.00\n",
      "Vermont                      25       0.12       2.00\n",
      "Delaware                   8367       2.00       5.00\n",
      "New Hampshire              7111       5.00       7.00\n",
      "South Dakota               5034      17.00      13.00\n",
      "Connecticut               17501       3.00      15.00\n",
      "Maine                      6359      21.00      16.00\n",
      "Massachusetts             26339      11.00      24.00\n",
      "Nevada                    30974      14.00      25.00\n",
      "New Jersey                37791       6.00      26.00\n",
      "Oregon                    17357      19.00      27.00\n",
      "Washington                24070      24.00      29.00\n",
      "Idaho                      3358       9.00      30.00\n",
      "Alaska                     7234       8.00      33.00\n",
      "Maryland                  39015      69.00      34.00\n",
      "Hawaii                    14804      37.00      35.00\n",
      "Mississippi               49208     125.00      37.00\n",
      "Montana                   35814      26.00      38.00\n",
      "South Carolina            62932      66.00      38.00\n",
      "Tennessee                 79382     160.00      43.00\n",
      "Kansas                    59135      42.00      45.00\n",
      "Nebraska                  51674     117.00      48.00\n",
      "Minnesota                 62984      63.00      63.00\n",
      "Iowa                      74355     113.00      69.00\n",
      "Wisconsin                 88955     128.00      70.00\n",
      "Oklahoma                  85689     132.00      70.00\n",
      "Virginia                  68632      93.00      71.00\n",
      "Arkansas                  65876     135.00      72.00\n",
      "New York                  66803      51.00      75.00\n",
      "Colorado                  75887      48.00      75.00\n",
      "New Mexico                49562      22.00      84.00\n",
      "North Dakota              61666      91.00      86.00\n",
      "Wyoming                   94813      81.00      90.00\n",
      "Arizona                  103885      36.00      91.00\n",
      "Illinois                 180899     309.00      95.00\n",
      "Utah                      68892      37.00     100.00\n",
      "Georgia                  121790     164.00     101.00\n",
      "North Carolina           112402     110.00     106.00\n",
      "Alabama                  132077     256.00     108.00\n",
      "Missouri                 143730     250.00     115.00\n",
      "West Virginia            139876     154.00     123.00\n",
      "Michigan                 131383     294.00     131.00\n",
      "Louisiana                113436     156.00     141.00\n",
      "Kentucky                 162222     308.00     143.00\n",
      "California               112988       4.00     147.00\n",
      "Florida                  225009     192.00     158.00\n",
      "Ohio                     182372     536.00     172.00\n",
      "Indiana                  193681     427.00     212.00\n",
      "Pennsylvania             192995     471.00     232.00\n",
      "Texas                    497874     564.00     359.00\n"
     ]
    }
   ],
   "source": [
    "print(small_emissions.sort_values('NOx Total'))"
   ]
  },
  {
   "cell_type": "markdown",
   "metadata": {},
   "source": [
    "## Emission Graphs\n",
    "\n",
    "Because CO2 emission levels are tremednenously larger than SO2 or NOx levels it does not make sense to plot the three different emissions all on the same graph. Therefore, I will plot CO2 levels separately and then on a different graph plot SO2 and NOx together."
   ]
  },
  {
   "cell_type": "markdown",
   "metadata": {},
   "source": [
    "### CO2 Graph"
   ]
  },
  {
   "cell_type": "code",
   "execution_count": 566,
   "metadata": {
    "collapsed": false
   },
   "outputs": [
    {
     "name": "stdout",
     "output_type": "stream",
     "text": [
      "State\n",
      "Texas       497874.0\n",
      "Florida     225009.0\n",
      "Indiana     193681.0\n",
      "Ohio        182372.0\n",
      "Illinois    180899.0\n",
      "Name: CO2 Total, dtype: float64\n"
     ]
    },
    {
     "data": {
      "image/png": "[encoded data removed]",
      "text/plain": [
       "<matplotlib.figure.Figure at 0x1219f5b38>"
      ]
     },
     "metadata": {},
     "output_type": "display_data"
    }
   ],
   "source": [
    "CO2_states = ['Texas', 'Florida','Indiana','Ohio','Illinois']\n",
    "CO2_small = small_emissions.T[CO2_states] # creating a new dataframe with just the total emissions and\n",
    "                                            # translating the dataframe so the State names will be in the Index\n",
    "    \n",
    "print(CO2_small.T['CO2 Total']) # only want to show the CO2 Totals because the SO2 and NOx are below\n",
    "\n",
    "CO2_plot = CO2_small.T['CO2 Total'].plot(kind='bar') # translating it again so I can specify \n",
    "                                                        # that I only want 'CO2 Total' in the plot"
   ]
  },
  {
   "cell_type": "markdown",
   "metadata": {},
   "source": [
    "### SO2 & NOx Graph\n",
    "\n",
    "The 5 Highest Emitting States for SO2 and NOx have 4 overlapping states, so I will be plotting the **combined** highest 5 states, which makes a total of 6 states."
   ]
  },
  {
   "cell_type": "code",
   "execution_count": 567,
   "metadata": {
    "collapsed": false
   },
   "outputs": [
    {
     "name": "stdout",
     "output_type": "stream",
     "text": [
      "          SO2 Total  NOx Total\n",
      "State                         \n",
      "Texas         564.0      359.0\n",
      "Indiana       427.0      212.0\n",
      "Ohio          536.0      172.0\n",
      "Florida       192.0      158.0\n",
      "Kentucky      308.0      143.0\n",
      "Illinois      309.0       95.0\n"
     ]
    },
    {
     "data": {
      "text/plain": [
       "<matplotlib.axes._subplots.AxesSubplot at 0x12188f780>"
      ]
     },
     "execution_count": 567,
     "metadata": {},
     "output_type": "execute_result"
    },
    {
     "data": {
      "image/png": "[encoded data removed]",
      "text/plain": [
       "<matplotlib.figure.Figure at 0x121de24a8>"
      ]
     },
     "metadata": {},
     "output_type": "display_data"
    }
   ],
   "source": [
    "SO2_NOx_states = ['Texas','Indiana','Ohio','Florida','Kentucky','Illinois']\n",
    "intermediate = small_emissions.T[SO2_NOx_states] # creating a new dataframe with just the total emissions and\n",
    "                                                # translating the dataframe so the State names will be in the Index\n",
    "\n",
    "SO2_NOx = ['SO2 Total', 'NOx Total'] # specifying that I just want these two columns for my new df, not CO2\n",
    "final_SO2_NOx = intermediate.T[SO2_NOx] #creating a new dataframe with just the SO2 Total and NOx Total and\n",
    "                                            # translating again so the SO2 Total and NOx Total will be in the Index\n",
    "print(final_SO2_NOx)\n",
    "\n",
    "final_SO2_NOx.plot(kind='bar')"
   ]
  },
  {
   "cell_type": "markdown",
   "metadata": {},
   "source": [
    "## Conculsions\n",
    "\n",
    "The three avenues I investigated to see which states renewable energy should expand to next included 1) Electricity Cost, 2) Coal Consumption, and 3) CO2, SO2, and NOx Emissions.\n",
    "\n",
    "Not including the 11 Key States....\n",
    "* The 5 Most Expensive States for Electricity are: HI, CT, AK, NH, and NY.\n",
    "* The 5 Highest Coal Consuming States for Electricity are: TX, IN, MO, KY, and IL.\n",
    "* The 5 Highest CO2 Emitting States are: TX, IN, OH, FL, and IL.\n",
    "* The 5 Highest SO2 Emitting States are: TX, IN, OH, KY, and IL.\n",
    "* The 5 Highest NOx Emitting States are: TX, IN, OH, KY, and FL.\n",
    "\n",
    "                                           \n",
    "\n",
    "Unfortunately, there was not a single state that appeared in all 5 categories. It seems the states with the highest consumptions and emissions have lower electricity prices.\n",
    "\n",
    "Based on this data, the next states that I believe would have the most profound effect and should consider implementing renewable energy projects are Texas and Indiana.\n",
    "\n"
   ]
  }
 ],
 "metadata": {
  "kernelspec": {
   "display_name": "Python 3",
   "language": "python",
   "name": "python3"
  },
  "language_info": {
   "codemirror_mode": {
    "name": "ipython",
    "version": 3
   },
   "file_extension": ".py",
   "mimetype": "text/x-python",
   "name": "python",
   "nbconvert_exporter": "python",
   "pygments_lexer": "ipython3",
   "version": "3.6.0"
  }
 },
 "nbformat": 4,
 "nbformat_minor": 2
}
