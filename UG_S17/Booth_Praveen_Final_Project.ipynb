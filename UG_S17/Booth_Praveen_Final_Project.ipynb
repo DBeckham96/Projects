{
 "cells": [
  {
   "cell_type": "markdown",
   "metadata": {},
   "source": [
    "# Data Bootcamp Final Project: Who deserves to be NBA MVP?\n",
    "## Vincent Booth & Sam Praveen"
   ]
  },
  {
   "cell_type": "markdown",
   "metadata": {},
   "source": [
    "Background:\n",
    "    The topic of which NBA player is most deserving of the MVP is always a contentious one. Fans will endlessly debate which of their favorite players has had a more tangible impact on their respective teams as well as who has the better stat lines. We recognize that statistics such as points, assists, and rebounds do not tell enough of a story or give enough information to definitively decide who is more deserving of the award."
   ]
  },
  {
   "cell_type": "markdown",
   "metadata": {},
   "source": [
    "Process:\n",
    "    For simplicity sake, we will focus on four players who we believe have earned the right to be in the conversation for MVP: James Harden, Lebron James, Kawhi Leonard, and Russell Westbrook. We will use the advanced statistics that we gather from sources such as espn.com and basketball-reference.com to compare the performance of these four players to see who is in fact more valuable. In addition, we will go back to 1980 and take the stats for each MVP from that season onwards and try to look for any patterns or trends that will be able to serve as predictors for who will win the award this season. "
   ]
  },
  {
   "cell_type": "markdown",
   "metadata": {},
   "source": [
    "## James Harden\n",
    "\n",
    "James Harden is a guard for the Houston Rockets. He joined the Rockets in 2012 and has been a leader for the team ever since. He is known as a prolific scorer, being able to score in the paint and from three-point range alike. He lead the Rockets to a 3rd place finish in the Western Conference with a record of 55-27, and are currently in the conference semi-finals against the San Antonio Spurs"
   ]
  },
  {
   "cell_type": "markdown",
   "metadata": {},
   "source": [
    "## Kawhi Leonard\n",
    "\n",
    "Kawhi Leonard is a forward for the San Antonio Spurs. He was drafted by San Antonio in 2011 and broke out as a star after the 2014 Finals, in which he lead his team to victory over the LeBron James led Miami Heat. Since then Kawhi has been known for being a very complete, consistent, and humble player - a reflection of the team and coach he plays for. Leonard led the Spurs to a 2nd place finish in the West with a record of 61-21 and is currently in the conference semis against the Houston Rockets"
   ]
  },
  {
   "cell_type": "markdown",
   "metadata": {},
   "source": [
    "## LeBron James\n",
    "\n",
    "LeBron James is a forward for the Cleveland Cavaliers. He was drafted by the Cavaliers in 2003, and after a stint with the Miami Heat, returned to Cleveland in 2014. James excels in nearly every aspect of the game, as he has already put together a Hall of Fame career and put his name in the conversation for greatest player of all time, although there is some debate about that. James lead the Cavaliers to a 2nd place finish in the Eastern Conference, and is currently in the conference semi's agaisnt the Toronto Raptors."
   ]
  },
  {
   "cell_type": "markdown",
   "metadata": {},
   "source": [
    "## Russell Westbrook\n",
    "\n",
    "Russell Westbrook is a guard for the Oklahoma City Thunder. He was drafted by OKC in 2008, and become the sole leader of the team this season when Kevin Durant left for the Golden State Warriors. Westbrook is known for his athleticism as well as passion on the court. Westbrook has taken an expanded role on the court for the Thunder this year, and lead them in almost every statistical category. He lead OKC to a 6th place finish in the West with a record of 47-35. They were eliminated in the first round in 5 games to the Houston Rockets."
   ]
  },
  {
   "cell_type": "code",
   "execution_count": 1,
   "metadata": {
    "collapsed": true
   },
   "outputs": [],
   "source": [
    "import pandas as pd             # data package\n",
    "import matplotlib.pyplot as plt # graphics \n",
    "import datetime as dt           # date tools, used to note current date  \n",
    "import requests\n",
    "from bs4 import BeautifulSoup\n",
    "import urllib.request\n",
    "from matplotlib.offsetbox import  OffsetImage\n",
    "\n",
    "%matplotlib inline"
   ]
  },
  {
   "cell_type": "code",
   "execution_count": 2,
   "metadata": {
    "collapsed": true
   },
   "outputs": [],
   "source": [
    "#per game statistics for MVP candidates\n",
    "url = 'http://www.basketball-reference.com/play-index/pcm_finder.fcgi?request=1&sum=0&player_id1_hint=James+Harden&player_id1_select=James+Harden&player_id1=hardeja01&y1=2017&player_id2_hint=LeBron+James&player_id2_select=LeBron+James&y2=2017&player_id2=jamesle01&player_id3_hint=Kawhi+Leonard&player_id3_select=Kawhi+Leonard&y3=2017&player_id3=leonaka01&player_id4_hint=Russell+Westbrook&player_id4_select=Russell+Westbrook&y4=2017&player_id4=westbru01'\n",
    "cl = requests.get(url)"
   ]
  },
  {
   "cell_type": "code",
   "execution_count": 3,
   "metadata": {
    "collapsed": false
   },
   "outputs": [],
   "source": [
    "soup = BeautifulSoup(cl.content, 'html.parser')"
   ]
  },
  {
   "cell_type": "code",
   "execution_count": 4,
   "metadata": {
    "collapsed": false
   },
   "outputs": [],
   "source": [
    "column_headers = [th.getText() for th in \n",
    "                  soup.findAll('tr')[0].findAll('th')]"
   ]
  },
  {
   "cell_type": "code",
   "execution_count": 5,
   "metadata": {
    "collapsed": true
   },
   "outputs": [],
   "source": [
    "data_rows = soup.findAll('tr')[1:]"
   ]
  },
  {
   "cell_type": "code",
   "execution_count": 6,
   "metadata": {
    "collapsed": true
   },
   "outputs": [],
   "source": [
    "player_data = [[td.getText() for td in data_rows[i].findAll('td')]\n",
    "            for i in range(len(data_rows))]"
   ]
  },
  {
   "cell_type": "code",
   "execution_count": 7,
   "metadata": {
    "collapsed": false
   },
   "outputs": [],
   "source": [
    "df = pd.DataFrame(player_data, columns=column_headers[1:])"
   ]
  },
  {
   "cell_type": "code",
   "execution_count": 8,
   "metadata": {
    "collapsed": false
   },
   "outputs": [],
   "source": [
    "df = df.set_index('Player')"
   ]
  },
  {
   "cell_type": "code",
   "execution_count": 9,
   "metadata": {
    "collapsed": false
   },
   "outputs": [],
   "source": [
    "df = df.sort_index(ascending = True)"
   ]
  },
  {
   "cell_type": "code",
   "execution_count": 10,
   "metadata": {
    "collapsed": true
   },
   "outputs": [],
   "source": [
    "#getting advanced statistics for MVP candidates\n",
    "url1 = 'http://www.basketball-reference.com/play-index/psl_finder.cgi?request=1&match=single&per_minute_base=36&per_poss_base=100&type=advanced&season_start=1&season_end=-1&lg_id=NBA&age_min=0&age_max=99&is_playoffs=N&height_min=0&height_max=99&year_min=2017&year_max=2017&birth_country_is=Y&as_comp=gt&pos_is_g=Y&pos_is_gf=Y&pos_is_f=Y&pos_is_fg=Y&pos_is_fc=Y&pos_is_c=Y&pos_is_cf=Y&force%3Apos_is=1&c6mult=1.0&order_by=ws'\n",
    "bl = requests.get(url1)"
   ]
  },
  {
   "cell_type": "code",
   "execution_count": 11,
   "metadata": {
    "collapsed": true
   },
   "outputs": [],
   "source": [
    "soup1 = BeautifulSoup(bl.content, 'html.parser')"
   ]
  },
  {
   "cell_type": "code",
   "execution_count": 12,
   "metadata": {
    "collapsed": true
   },
   "outputs": [],
   "source": [
    "column_headers_adv = [th.getText() for th in \n",
    "                  soup1.findAll('tr')[1].findAll('th')]"
   ]
  },
  {
   "cell_type": "code",
   "execution_count": 13,
   "metadata": {
    "collapsed": true
   },
   "outputs": [],
   "source": [
    "data_rows_adv = soup1.findAll('tr')[2:8]"
   ]
  },
  {
   "cell_type": "code",
   "execution_count": 14,
   "metadata": {
    "collapsed": true
   },
   "outputs": [],
   "source": [
    "player_data_adv = [[td.getText() for td in data_rows_adv[i].findAll('td')]\n",
    "            for i in range(len(data_rows_adv))]"
   ]
  },
  {
   "cell_type": "code",
   "execution_count": 15,
   "metadata": {
    "collapsed": false
   },
   "outputs": [],
   "source": [
    "df_adv = pd.DataFrame(player_data_adv, columns=column_headers_adv[1:])"
   ]
  },
  {
   "cell_type": "code",
   "execution_count": 16,
   "metadata": {
    "collapsed": true
   },
   "outputs": [],
   "source": [
    "df_adv = df_adv.set_index('Player')"
   ]
  },
  {
   "cell_type": "code",
   "execution_count": 17,
   "metadata": {
    "collapsed": true
   },
   "outputs": [],
   "source": [
    "#drop other players from list\n",
    "df_adv = df_adv.drop(['Rudy Gobert', 'Jimmy Butler'])"
   ]
  },
  {
   "cell_type": "code",
   "execution_count": 18,
   "metadata": {
    "collapsed": true
   },
   "outputs": [],
   "source": [
    "#sort players alphabetically\n",
    "df_adv = df_adv.sort_index(ascending = True)"
   ]
  },
  {
   "cell_type": "code",
   "execution_count": 19,
   "metadata": {
    "collapsed": true
   },
   "outputs": [],
   "source": [
    "#drop duplicate and unnecessary columns\n",
    "df_adv = df_adv.drop(['Season', 'Age', 'Tm', 'Lg', 'G', 'GS', 'MP'], axis=1)"
   ]
  },
  {
   "cell_type": "code",
   "execution_count": 20,
   "metadata": {
    "collapsed": false
   },
   "outputs": [
    {
     "data": {
      "text/html": [
       "<div>\n",
       "<table border=\"1\" class=\"dataframe\">\n",
       "  <thead>\n",
       "    <tr style=\"text-align: right;\">\n",
       "      <th></th>\n",
       "      <th>Season</th>\n",
       "      <th>Age</th>\n",
       "      <th>G</th>\n",
       "      <th>GS</th>\n",
       "      <th>MP</th>\n",
       "      <th>FG</th>\n",
       "      <th>FGA</th>\n",
       "      <th>FG%</th>\n",
       "      <th>3P</th>\n",
       "      <th>3PA</th>\n",
       "      <th>...</th>\n",
       "      <th>USG%</th>\n",
       "      <th>ORtg</th>\n",
       "      <th>DRtg</th>\n",
       "      <th>OWS</th>\n",
       "      <th>DWS</th>\n",
       "      <th>WS/48</th>\n",
       "      <th>OBPM</th>\n",
       "      <th>DBPM</th>\n",
       "      <th>BPM</th>\n",
       "      <th>VORP</th>\n",
       "    </tr>\n",
       "    <tr>\n",
       "      <th>Player</th>\n",
       "      <th></th>\n",
       "      <th></th>\n",
       "      <th></th>\n",
       "      <th></th>\n",
       "      <th></th>\n",
       "      <th></th>\n",
       "      <th></th>\n",
       "      <th></th>\n",
       "      <th></th>\n",
       "      <th></th>\n",
       "      <th></th>\n",
       "      <th></th>\n",
       "      <th></th>\n",
       "      <th></th>\n",
       "      <th></th>\n",
       "      <th></th>\n",
       "      <th></th>\n",
       "      <th></th>\n",
       "      <th></th>\n",
       "      <th></th>\n",
       "      <th></th>\n",
       "    </tr>\n",
       "  </thead>\n",
       "  <tbody>\n",
       "    <tr>\n",
       "      <th>James Harden</th>\n",
       "      <td>2016-17</td>\n",
       "      <td>27</td>\n",
       "      <td>81</td>\n",
       "      <td>81</td>\n",
       "      <td>36.4</td>\n",
       "      <td>8.3</td>\n",
       "      <td>18.9</td>\n",
       "      <td>.440</td>\n",
       "      <td>3.2</td>\n",
       "      <td>9.3</td>\n",
       "      <td>...</td>\n",
       "      <td>34.2</td>\n",
       "      <td>118</td>\n",
       "      <td>107</td>\n",
       "      <td>11.5</td>\n",
       "      <td>3.6</td>\n",
       "      <td>.245</td>\n",
       "      <td>8.7</td>\n",
       "      <td>1.5</td>\n",
       "      <td>10.1</td>\n",
       "      <td>9.0</td>\n",
       "    </tr>\n",
       "    <tr>\n",
       "      <th>Kawhi Leonard</th>\n",
       "      <td>2016-17</td>\n",
       "      <td>25</td>\n",
       "      <td>74</td>\n",
       "      <td>74</td>\n",
       "      <td>33.4</td>\n",
       "      <td>8.6</td>\n",
       "      <td>17.7</td>\n",
       "      <td>.485</td>\n",
       "      <td>2.0</td>\n",
       "      <td>5.2</td>\n",
       "      <td>...</td>\n",
       "      <td>31.1</td>\n",
       "      <td>121</td>\n",
       "      <td>102</td>\n",
       "      <td>8.9</td>\n",
       "      <td>4.7</td>\n",
       "      <td>.264</td>\n",
       "      <td>6.4</td>\n",
       "      <td>1.5</td>\n",
       "      <td>7.9</td>\n",
       "      <td>6.2</td>\n",
       "    </tr>\n",
       "    <tr>\n",
       "      <th>LeBron James</th>\n",
       "      <td>2016-17</td>\n",
       "      <td>32</td>\n",
       "      <td>74</td>\n",
       "      <td>74</td>\n",
       "      <td>37.8</td>\n",
       "      <td>9.9</td>\n",
       "      <td>18.2</td>\n",
       "      <td>.548</td>\n",
       "      <td>1.7</td>\n",
       "      <td>4.6</td>\n",
       "      <td>...</td>\n",
       "      <td>30.0</td>\n",
       "      <td>119</td>\n",
       "      <td>108</td>\n",
       "      <td>9.8</td>\n",
       "      <td>3.0</td>\n",
       "      <td>.221</td>\n",
       "      <td>6.8</td>\n",
       "      <td>1.6</td>\n",
       "      <td>8.4</td>\n",
       "      <td>7.3</td>\n",
       "    </tr>\n",
       "    <tr>\n",
       "      <th>Russell Westbrook</th>\n",
       "      <td>2016-17</td>\n",
       "      <td>28</td>\n",
       "      <td>81</td>\n",
       "      <td>81</td>\n",
       "      <td>34.6</td>\n",
       "      <td>10.2</td>\n",
       "      <td>24.0</td>\n",
       "      <td>.425</td>\n",
       "      <td>2.5</td>\n",
       "      <td>7.2</td>\n",
       "      <td>...</td>\n",
       "      <td>41.7</td>\n",
       "      <td>112</td>\n",
       "      <td>104</td>\n",
       "      <td>8.5</td>\n",
       "      <td>4.6</td>\n",
       "      <td>.224</td>\n",
       "      <td>10.9</td>\n",
       "      <td>4.7</td>\n",
       "      <td>15.6</td>\n",
       "      <td>12.4</td>\n",
       "    </tr>\n",
       "  </tbody>\n",
       "</table>\n",
       "<p>4 rows × 48 columns</p>\n",
       "</div>"
      ],
      "text/plain": [
       "                    Season Age   G  GS    MP    FG   FGA   FG%   3P  3PA  \\\n",
       "Player                                                                     \n",
       "James Harden       2016-17  27  81  81  36.4   8.3  18.9  .440  3.2  9.3   \n",
       "Kawhi Leonard      2016-17  25  74  74  33.4   8.6  17.7  .485  2.0  5.2   \n",
       "LeBron James       2016-17  32  74  74  37.8   9.9  18.2  .548  1.7  4.6   \n",
       "Russell Westbrook  2016-17  28  81  81  34.6  10.2  24.0  .425  2.5  7.2   \n",
       "\n",
       "                   ...   USG% ORtg DRtg   OWS  DWS WS/48  OBPM DBPM   BPM  \\\n",
       "Player             ...                                                      \n",
       "James Harden       ...   34.2  118  107  11.5  3.6  .245   8.7  1.5  10.1   \n",
       "Kawhi Leonard      ...   31.1  121  102   8.9  4.7  .264   6.4  1.5   7.9   \n",
       "LeBron James       ...   30.0  119  108   9.8  3.0  .221   6.8  1.6   8.4   \n",
       "Russell Westbrook  ...   41.7  112  104   8.5  4.6  .224  10.9  4.7  15.6   \n",
       "\n",
       "                   VORP  \n",
       "Player                   \n",
       "James Harden        9.0  \n",
       "Kawhi Leonard       6.2  \n",
       "LeBron James        7.3  \n",
       "Russell Westbrook  12.4  \n",
       "\n",
       "[4 rows x 48 columns]"
      ]
     },
     "execution_count": 20,
     "metadata": {},
     "output_type": "execute_result"
    }
   ],
   "source": [
    "#combined table of per game and andvanced statistics\n",
    "MVP = pd.concat([df, df_adv], axis=1)\n",
    "MVP"
   ]
  },
  {
   "cell_type": "code",
   "execution_count": 21,
   "metadata": {
    "collapsed": false,
    "scrolled": false
   },
   "outputs": [],
   "source": [
    "#convert to proper dtypes\n",
    "MVP = MVP.apply(pd.to_numeric, errors='ignore')"
   ]
  },
  {
   "cell_type": "code",
   "execution_count": 22,
   "metadata": {
    "collapsed": true
   },
   "outputs": [],
   "source": [
    "#get per game statistics for MVP winners since 1980\n",
    "url2 = 'http://www.basketball-reference.com/play-index/psl_finder.cgi?request=1&match=single&type=per_game&per_minute_base=36&per_poss_base=100&season_start=1&season_end=-1&lg_id=NBA&age_min=0&age_max=99&is_playoffs=N&height_min=0&height_max=99&year_min=1981&year_max=2017&birth_country_is=Y&as_comp=gt&pos_is_g=Y&pos_is_gf=Y&pos_is_f=Y&pos_is_fg=Y&pos_is_fc=Y&pos_is_c=Y&pos_is_cf=Y&force%3Apos_is=1&award=mvp&c6mult=1.0&order_by=season'\n",
    "al = requests.get(url2)"
   ]
  },
  {
   "cell_type": "code",
   "execution_count": 23,
   "metadata": {
    "collapsed": true
   },
   "outputs": [],
   "source": [
    "soup2 = BeautifulSoup(al.content, 'html.parser')"
   ]
  },
  {
   "cell_type": "code",
   "execution_count": 24,
   "metadata": {
    "collapsed": true
   },
   "outputs": [],
   "source": [
    "column_headers_past = [th.getText() for th in \n",
    "                  soup2.findAll('tr')[1].findAll('th')]"
   ]
  },
  {
   "cell_type": "code",
   "execution_count": 25,
   "metadata": {
    "collapsed": true
   },
   "outputs": [],
   "source": [
    "data_rows_past = soup2.findAll('tr')[2:]"
   ]
  },
  {
   "cell_type": "code",
   "execution_count": 26,
   "metadata": {
    "collapsed": true
   },
   "outputs": [],
   "source": [
    "player_data_past = [[td.getText() for td in data_rows_past[i].findAll('td')]\n",
    "            for i in range(len(data_rows_past))]"
   ]
  },
  {
   "cell_type": "code",
   "execution_count": 27,
   "metadata": {
    "collapsed": true
   },
   "outputs": [],
   "source": [
    "df_past = pd.DataFrame(player_data_past, columns=column_headers_past[1:])"
   ]
  },
  {
   "cell_type": "code",
   "execution_count": 28,
   "metadata": {
    "collapsed": true
   },
   "outputs": [],
   "source": [
    "df_past = df_past.set_index('Player')"
   ]
  },
  {
   "cell_type": "code",
   "execution_count": 29,
   "metadata": {
    "collapsed": false
   },
   "outputs": [],
   "source": [
    "df_past = df_past.drop(['Tm', 'Lg'], axis=1)"
   ]
  },
  {
   "cell_type": "code",
   "execution_count": 30,
   "metadata": {
    "collapsed": false
   },
   "outputs": [],
   "source": [
    "#drop row of null values, which was used to separate decades on the Basketball Reference website\n",
    "df_past = df_past.dropna(axis=0)"
   ]
  },
  {
   "cell_type": "code",
   "execution_count": 31,
   "metadata": {
    "collapsed": true
   },
   "outputs": [],
   "source": [
    "#get advanced statistics for MVP winners since 1980\n",
    "url3 = 'http://www.basketball-reference.com/play-index/psl_finder.cgi?request=1&match=single&per_minute_base=36&per_poss_base=100&type=advanced&season_start=1&season_end=-1&lg_id=NBA&age_min=0&age_max=99&is_playoffs=N&height_min=0&height_max=99&year_min=1981&year_max=2017&birth_country_is=Y&as_comp=gt&pos_is_g=Y&pos_is_gf=Y&pos_is_f=Y&pos_is_fg=Y&pos_is_fc=Y&pos_is_c=Y&pos_is_cf=Y&force%3Apos_is=1&award=mvp&c6mult=1.0&order_by=season'\n",
    "dl = requests.get(url3)"
   ]
  },
  {
   "cell_type": "code",
   "execution_count": 32,
   "metadata": {
    "collapsed": true
   },
   "outputs": [],
   "source": [
    "soup3 = BeautifulSoup(dl.content, 'html.parser')"
   ]
  },
  {
   "cell_type": "code",
   "execution_count": 33,
   "metadata": {
    "collapsed": true
   },
   "outputs": [],
   "source": [
    "column_headers_past_adv = [th.getText() for th in \n",
    "                  soup3.findAll('tr')[1].findAll('th')]"
   ]
  },
  {
   "cell_type": "code",
   "execution_count": 34,
   "metadata": {
    "collapsed": true
   },
   "outputs": [],
   "source": [
    "data_rows_past_adv = soup3.findAll('tr')[2:]"
   ]
  },
  {
   "cell_type": "code",
   "execution_count": 35,
   "metadata": {
    "collapsed": true
   },
   "outputs": [],
   "source": [
    "player_data_past_adv = [[td.getText() for td in data_rows_past_adv[i].findAll('td')]\n",
    "            for i in range(len(data_rows_past_adv))]"
   ]
  },
  {
   "cell_type": "code",
   "execution_count": 36,
   "metadata": {
    "collapsed": true
   },
   "outputs": [],
   "source": [
    "df_past_adv = pd.DataFrame(player_data_past_adv, columns=column_headers_past_adv[1:])"
   ]
  },
  {
   "cell_type": "code",
   "execution_count": 37,
   "metadata": {
    "collapsed": true
   },
   "outputs": [],
   "source": [
    "df_past_adv = df_past_adv.set_index('Player')"
   ]
  },
  {
   "cell_type": "code",
   "execution_count": 38,
   "metadata": {
    "collapsed": true
   },
   "outputs": [],
   "source": [
    "#drop duplicate and unnecessary columns\n",
    "df_past_adv = df_past_adv.drop(['Age', 'Tm', 'Lg', 'Season', 'G', 'GS', 'MP'], axis=1)"
   ]
  },
  {
   "cell_type": "code",
   "execution_count": 39,
   "metadata": {
    "collapsed": true
   },
   "outputs": [],
   "source": [
    "#drop row of null values\n",
    "df_past_adv = df_past_adv.dropna(axis=0)"
   ]
  },
  {
   "cell_type": "code",
   "execution_count": 40,
   "metadata": {
    "collapsed": false,
    "scrolled": true
   },
   "outputs": [
    {
     "data": {
      "text/html": [
       "<div>\n",
       "<table border=\"1\" class=\"dataframe\">\n",
       "  <thead>\n",
       "    <tr style=\"text-align: right;\">\n",
       "      <th></th>\n",
       "      <th>Age</th>\n",
       "      <th>Season</th>\n",
       "      <th>G</th>\n",
       "      <th>GS</th>\n",
       "      <th>MP</th>\n",
       "      <th>FG</th>\n",
       "      <th>FGA</th>\n",
       "      <th>2P</th>\n",
       "      <th>2PA</th>\n",
       "      <th>3P</th>\n",
       "      <th>...</th>\n",
       "      <th>ORtg</th>\n",
       "      <th>DRtg</th>\n",
       "      <th>OWS</th>\n",
       "      <th>DWS</th>\n",
       "      <th>WS</th>\n",
       "      <th>WS/48</th>\n",
       "      <th>OBPM</th>\n",
       "      <th>DBPM</th>\n",
       "      <th>BPM</th>\n",
       "      <th>VORP</th>\n",
       "    </tr>\n",
       "    <tr>\n",
       "      <th>Player</th>\n",
       "      <th></th>\n",
       "      <th></th>\n",
       "      <th></th>\n",
       "      <th></th>\n",
       "      <th></th>\n",
       "      <th></th>\n",
       "      <th></th>\n",
       "      <th></th>\n",
       "      <th></th>\n",
       "      <th></th>\n",
       "      <th></th>\n",
       "      <th></th>\n",
       "      <th></th>\n",
       "      <th></th>\n",
       "      <th></th>\n",
       "      <th></th>\n",
       "      <th></th>\n",
       "      <th></th>\n",
       "      <th></th>\n",
       "      <th></th>\n",
       "      <th></th>\n",
       "    </tr>\n",
       "  </thead>\n",
       "  <tbody>\n",
       "    <tr>\n",
       "      <th>Stephen Curry</th>\n",
       "      <td>27</td>\n",
       "      <td>2015-16</td>\n",
       "      <td>79</td>\n",
       "      <td>79</td>\n",
       "      <td>34.2</td>\n",
       "      <td>10.2</td>\n",
       "      <td>20.2</td>\n",
       "      <td>5.1</td>\n",
       "      <td>9.0</td>\n",
       "      <td>5.1</td>\n",
       "      <td>...</td>\n",
       "      <td>125</td>\n",
       "      <td>103</td>\n",
       "      <td>13.8</td>\n",
       "      <td>4.1</td>\n",
       "      <td>17.9</td>\n",
       "      <td>.318</td>\n",
       "      <td>12.4</td>\n",
       "      <td>0.1</td>\n",
       "      <td>12.5</td>\n",
       "      <td>9.8</td>\n",
       "    </tr>\n",
       "    <tr>\n",
       "      <th>Stephen Curry</th>\n",
       "      <td>26</td>\n",
       "      <td>2014-15</td>\n",
       "      <td>80</td>\n",
       "      <td>80</td>\n",
       "      <td>32.7</td>\n",
       "      <td>8.2</td>\n",
       "      <td>16.8</td>\n",
       "      <td>4.6</td>\n",
       "      <td>8.7</td>\n",
       "      <td>3.6</td>\n",
       "      <td>...</td>\n",
       "      <td>122</td>\n",
       "      <td>101</td>\n",
       "      <td>11.5</td>\n",
       "      <td>4.1</td>\n",
       "      <td>15.7</td>\n",
       "      <td>.288</td>\n",
       "      <td>9.6</td>\n",
       "      <td>0.3</td>\n",
       "      <td>9.9</td>\n",
       "      <td>7.9</td>\n",
       "    </tr>\n",
       "    <tr>\n",
       "      <th>Kevin Durant</th>\n",
       "      <td>25</td>\n",
       "      <td>2013-14</td>\n",
       "      <td>81</td>\n",
       "      <td>81</td>\n",
       "      <td>38.5</td>\n",
       "      <td>10.5</td>\n",
       "      <td>20.8</td>\n",
       "      <td>8.1</td>\n",
       "      <td>14.8</td>\n",
       "      <td>2.4</td>\n",
       "      <td>...</td>\n",
       "      <td>123</td>\n",
       "      <td>104</td>\n",
       "      <td>14.8</td>\n",
       "      <td>4.4</td>\n",
       "      <td>19.2</td>\n",
       "      <td>.295</td>\n",
       "      <td>8.4</td>\n",
       "      <td>0.4</td>\n",
       "      <td>8.8</td>\n",
       "      <td>8.5</td>\n",
       "    </tr>\n",
       "    <tr>\n",
       "      <th>LeBron James</th>\n",
       "      <td>28</td>\n",
       "      <td>2012-13</td>\n",
       "      <td>76</td>\n",
       "      <td>76</td>\n",
       "      <td>37.9</td>\n",
       "      <td>10.1</td>\n",
       "      <td>17.8</td>\n",
       "      <td>8.7</td>\n",
       "      <td>14.5</td>\n",
       "      <td>1.4</td>\n",
       "      <td>...</td>\n",
       "      <td>125</td>\n",
       "      <td>101</td>\n",
       "      <td>14.6</td>\n",
       "      <td>4.7</td>\n",
       "      <td>19.3</td>\n",
       "      <td>.322</td>\n",
       "      <td>9.2</td>\n",
       "      <td>2.4</td>\n",
       "      <td>11.6</td>\n",
       "      <td>9.8</td>\n",
       "    </tr>\n",
       "    <tr>\n",
       "      <th>LeBron James</th>\n",
       "      <td>27</td>\n",
       "      <td>2011-12</td>\n",
       "      <td>62</td>\n",
       "      <td>62</td>\n",
       "      <td>37.5</td>\n",
       "      <td>10.0</td>\n",
       "      <td>18.9</td>\n",
       "      <td>9.1</td>\n",
       "      <td>16.5</td>\n",
       "      <td>0.9</td>\n",
       "      <td>...</td>\n",
       "      <td>118</td>\n",
       "      <td>97</td>\n",
       "      <td>10.0</td>\n",
       "      <td>4.5</td>\n",
       "      <td>14.5</td>\n",
       "      <td>.298</td>\n",
       "      <td>8.3</td>\n",
       "      <td>2.7</td>\n",
       "      <td>11.0</td>\n",
       "      <td>7.6</td>\n",
       "    </tr>\n",
       "    <tr>\n",
       "      <th>Derrick Rose</th>\n",
       "      <td>22</td>\n",
       "      <td>2010-11</td>\n",
       "      <td>81</td>\n",
       "      <td>81</td>\n",
       "      <td>37.4</td>\n",
       "      <td>8.8</td>\n",
       "      <td>19.7</td>\n",
       "      <td>7.2</td>\n",
       "      <td>15.0</td>\n",
       "      <td>1.6</td>\n",
       "      <td>...</td>\n",
       "      <td>113</td>\n",
       "      <td>103</td>\n",
       "      <td>8.3</td>\n",
       "      <td>4.8</td>\n",
       "      <td>13.1</td>\n",
       "      <td>.208</td>\n",
       "      <td>5.8</td>\n",
       "      <td>0.1</td>\n",
       "      <td>5.9</td>\n",
       "      <td>6.0</td>\n",
       "    </tr>\n",
       "    <tr>\n",
       "      <th>LeBron James</th>\n",
       "      <td>25</td>\n",
       "      <td>2009-10</td>\n",
       "      <td>76</td>\n",
       "      <td>76</td>\n",
       "      <td>39.0</td>\n",
       "      <td>10.1</td>\n",
       "      <td>20.1</td>\n",
       "      <td>8.4</td>\n",
       "      <td>15.0</td>\n",
       "      <td>1.7</td>\n",
       "      <td>...</td>\n",
       "      <td>121</td>\n",
       "      <td>102</td>\n",
       "      <td>13.3</td>\n",
       "      <td>5.2</td>\n",
       "      <td>18.5</td>\n",
       "      <td>.299</td>\n",
       "      <td>9.7</td>\n",
       "      <td>2.8</td>\n",
       "      <td>12.5</td>\n",
       "      <td>10.9</td>\n",
       "    </tr>\n",
       "    <tr>\n",
       "      <th>LeBron James</th>\n",
       "      <td>24</td>\n",
       "      <td>2008-09</td>\n",
       "      <td>81</td>\n",
       "      <td>81</td>\n",
       "      <td>37.7</td>\n",
       "      <td>9.7</td>\n",
       "      <td>19.9</td>\n",
       "      <td>8.1</td>\n",
       "      <td>15.2</td>\n",
       "      <td>1.6</td>\n",
       "      <td>...</td>\n",
       "      <td>122</td>\n",
       "      <td>99</td>\n",
       "      <td>13.7</td>\n",
       "      <td>6.5</td>\n",
       "      <td>20.3</td>\n",
       "      <td>.318</td>\n",
       "      <td>9.4</td>\n",
       "      <td>3.6</td>\n",
       "      <td>13.0</td>\n",
       "      <td>11.6</td>\n",
       "    </tr>\n",
       "    <tr>\n",
       "      <th>Kobe Bryant</th>\n",
       "      <td>29</td>\n",
       "      <td>2007-08</td>\n",
       "      <td>82</td>\n",
       "      <td>82</td>\n",
       "      <td>38.9</td>\n",
       "      <td>9.5</td>\n",
       "      <td>20.6</td>\n",
       "      <td>7.6</td>\n",
       "      <td>15.5</td>\n",
       "      <td>1.8</td>\n",
       "      <td>...</td>\n",
       "      <td>115</td>\n",
       "      <td>105</td>\n",
       "      <td>9.5</td>\n",
       "      <td>4.3</td>\n",
       "      <td>13.8</td>\n",
       "      <td>.208</td>\n",
       "      <td>5.1</td>\n",
       "      <td>0.3</td>\n",
       "      <td>5.4</td>\n",
       "      <td>6.0</td>\n",
       "    </tr>\n",
       "    <tr>\n",
       "      <th>Dirk Nowitzki</th>\n",
       "      <td>28</td>\n",
       "      <td>2006-07</td>\n",
       "      <td>78</td>\n",
       "      <td>78</td>\n",
       "      <td>36.2</td>\n",
       "      <td>8.6</td>\n",
       "      <td>17.2</td>\n",
       "      <td>7.7</td>\n",
       "      <td>15.0</td>\n",
       "      <td>0.9</td>\n",
       "      <td>...</td>\n",
       "      <td>123</td>\n",
       "      <td>102</td>\n",
       "      <td>11.8</td>\n",
       "      <td>4.5</td>\n",
       "      <td>16.3</td>\n",
       "      <td>.278</td>\n",
       "      <td>5.4</td>\n",
       "      <td>1.3</td>\n",
       "      <td>6.7</td>\n",
       "      <td>6.2</td>\n",
       "    </tr>\n",
       "    <tr>\n",
       "      <th>Steve Nash</th>\n",
       "      <td>31</td>\n",
       "      <td>2005-06</td>\n",
       "      <td>79</td>\n",
       "      <td>79</td>\n",
       "      <td>35.4</td>\n",
       "      <td>6.8</td>\n",
       "      <td>13.4</td>\n",
       "      <td>4.9</td>\n",
       "      <td>9.0</td>\n",
       "      <td>1.9</td>\n",
       "      <td>...</td>\n",
       "      <td>121</td>\n",
       "      <td>109</td>\n",
       "      <td>10.3</td>\n",
       "      <td>2.1</td>\n",
       "      <td>12.4</td>\n",
       "      <td>.212</td>\n",
       "      <td>5.4</td>\n",
       "      <td>-1.6</td>\n",
       "      <td>3.7</td>\n",
       "      <td>4.0</td>\n",
       "    </tr>\n",
       "    <tr>\n",
       "      <th>Steve Nash</th>\n",
       "      <td>30</td>\n",
       "      <td>2004-05</td>\n",
       "      <td>75</td>\n",
       "      <td>75</td>\n",
       "      <td>34.3</td>\n",
       "      <td>5.7</td>\n",
       "      <td>11.4</td>\n",
       "      <td>4.5</td>\n",
       "      <td>8.5</td>\n",
       "      <td>1.3</td>\n",
       "      <td>...</td>\n",
       "      <td>123</td>\n",
       "      <td>111</td>\n",
       "      <td>9.7</td>\n",
       "      <td>1.2</td>\n",
       "      <td>10.9</td>\n",
       "      <td>.203</td>\n",
       "      <td>4.5</td>\n",
       "      <td>-2.9</td>\n",
       "      <td>1.7</td>\n",
       "      <td>2.4</td>\n",
       "    </tr>\n",
       "    <tr>\n",
       "      <th>Kevin Garnett</th>\n",
       "      <td>27</td>\n",
       "      <td>2003-04</td>\n",
       "      <td>82</td>\n",
       "      <td>82</td>\n",
       "      <td>39.4</td>\n",
       "      <td>9.8</td>\n",
       "      <td>19.6</td>\n",
       "      <td>9.7</td>\n",
       "      <td>19.1</td>\n",
       "      <td>0.1</td>\n",
       "      <td>...</td>\n",
       "      <td>112</td>\n",
       "      <td>92</td>\n",
       "      <td>10.4</td>\n",
       "      <td>8.0</td>\n",
       "      <td>18.3</td>\n",
       "      <td>.272</td>\n",
       "      <td>4.9</td>\n",
       "      <td>5.0</td>\n",
       "      <td>9.9</td>\n",
       "      <td>9.8</td>\n",
       "    </tr>\n",
       "    <tr>\n",
       "      <th>Tim Duncan</th>\n",
       "      <td>26</td>\n",
       "      <td>2002-03</td>\n",
       "      <td>81</td>\n",
       "      <td>81</td>\n",
       "      <td>39.3</td>\n",
       "      <td>8.8</td>\n",
       "      <td>17.2</td>\n",
       "      <td>8.7</td>\n",
       "      <td>16.9</td>\n",
       "      <td>0.1</td>\n",
       "      <td>...</td>\n",
       "      <td>112</td>\n",
       "      <td>94</td>\n",
       "      <td>9.5</td>\n",
       "      <td>6.9</td>\n",
       "      <td>16.5</td>\n",
       "      <td>.248</td>\n",
       "      <td>3.3</td>\n",
       "      <td>4.2</td>\n",
       "      <td>7.4</td>\n",
       "      <td>7.6</td>\n",
       "    </tr>\n",
       "    <tr>\n",
       "      <th>Tim Duncan</th>\n",
       "      <td>25</td>\n",
       "      <td>2001-02</td>\n",
       "      <td>82</td>\n",
       "      <td>82</td>\n",
       "      <td>40.6</td>\n",
       "      <td>9.3</td>\n",
       "      <td>18.3</td>\n",
       "      <td>9.3</td>\n",
       "      <td>18.2</td>\n",
       "      <td>0.0</td>\n",
       "      <td>...</td>\n",
       "      <td>114</td>\n",
       "      <td>96</td>\n",
       "      <td>10.7</td>\n",
       "      <td>7.1</td>\n",
       "      <td>17.8</td>\n",
       "      <td>.257</td>\n",
       "      <td>3.9</td>\n",
       "      <td>3.8</td>\n",
       "      <td>7.6</td>\n",
       "      <td>8.1</td>\n",
       "    </tr>\n",
       "    <tr>\n",
       "      <th>Allen Iverson</th>\n",
       "      <td>25</td>\n",
       "      <td>2000-01</td>\n",
       "      <td>71</td>\n",
       "      <td>71</td>\n",
       "      <td>42.0</td>\n",
       "      <td>10.7</td>\n",
       "      <td>25.5</td>\n",
       "      <td>9.4</td>\n",
       "      <td>21.2</td>\n",
       "      <td>1.4</td>\n",
       "      <td>...</td>\n",
       "      <td>106</td>\n",
       "      <td>99</td>\n",
       "      <td>7.3</td>\n",
       "      <td>4.5</td>\n",
       "      <td>11.8</td>\n",
       "      <td>.190</td>\n",
       "      <td>5.0</td>\n",
       "      <td>-0.1</td>\n",
       "      <td>4.8</td>\n",
       "      <td>5.1</td>\n",
       "    </tr>\n",
       "    <tr>\n",
       "      <th>Shaquille O'Neal</th>\n",
       "      <td>27</td>\n",
       "      <td>1999-00</td>\n",
       "      <td>79</td>\n",
       "      <td>79</td>\n",
       "      <td>40.0</td>\n",
       "      <td>12.1</td>\n",
       "      <td>21.1</td>\n",
       "      <td>12.1</td>\n",
       "      <td>21.1</td>\n",
       "      <td>0.0</td>\n",
       "      <td>...</td>\n",
       "      <td>115</td>\n",
       "      <td>95</td>\n",
       "      <td>11.7</td>\n",
       "      <td>7.0</td>\n",
       "      <td>18.6</td>\n",
       "      <td>.283</td>\n",
       "      <td>6.2</td>\n",
       "      <td>3.5</td>\n",
       "      <td>9.7</td>\n",
       "      <td>9.3</td>\n",
       "    </tr>\n",
       "    <tr>\n",
       "      <th>Karl Malone</th>\n",
       "      <td>35</td>\n",
       "      <td>1998-99</td>\n",
       "      <td>49</td>\n",
       "      <td>49</td>\n",
       "      <td>37.4</td>\n",
       "      <td>8.0</td>\n",
       "      <td>16.3</td>\n",
       "      <td>8.0</td>\n",
       "      <td>16.2</td>\n",
       "      <td>0.0</td>\n",
       "      <td>...</td>\n",
       "      <td>112</td>\n",
       "      <td>96</td>\n",
       "      <td>6.2</td>\n",
       "      <td>3.4</td>\n",
       "      <td>9.6</td>\n",
       "      <td>.252</td>\n",
       "      <td>4.5</td>\n",
       "      <td>2.3</td>\n",
       "      <td>6.8</td>\n",
       "      <td>4.1</td>\n",
       "    </tr>\n",
       "    <tr>\n",
       "      <th>Michael Jordan</th>\n",
       "      <td>34</td>\n",
       "      <td>1997-98</td>\n",
       "      <td>82</td>\n",
       "      <td>82</td>\n",
       "      <td>38.8</td>\n",
       "      <td>10.7</td>\n",
       "      <td>23.1</td>\n",
       "      <td>10.4</td>\n",
       "      <td>21.5</td>\n",
       "      <td>0.4</td>\n",
       "      <td>...</td>\n",
       "      <td>114</td>\n",
       "      <td>100</td>\n",
       "      <td>10.4</td>\n",
       "      <td>5.4</td>\n",
       "      <td>15.8</td>\n",
       "      <td>.238</td>\n",
       "      <td>4.6</td>\n",
       "      <td>0.0</td>\n",
       "      <td>4.6</td>\n",
       "      <td>5.3</td>\n",
       "    </tr>\n",
       "    <tr>\n",
       "      <th>Karl Malone</th>\n",
       "      <td>33</td>\n",
       "      <td>1996-97</td>\n",
       "      <td>82</td>\n",
       "      <td>82</td>\n",
       "      <td>36.6</td>\n",
       "      <td>10.5</td>\n",
       "      <td>19.2</td>\n",
       "      <td>10.5</td>\n",
       "      <td>19.0</td>\n",
       "      <td>0.0</td>\n",
       "      <td>...</td>\n",
       "      <td>118</td>\n",
       "      <td>101</td>\n",
       "      <td>11.6</td>\n",
       "      <td>5.1</td>\n",
       "      <td>16.7</td>\n",
       "      <td>.268</td>\n",
       "      <td>6.2</td>\n",
       "      <td>2.2</td>\n",
       "      <td>8.5</td>\n",
       "      <td>7.9</td>\n",
       "    </tr>\n",
       "    <tr>\n",
       "      <th>Michael Jordan</th>\n",
       "      <td>32</td>\n",
       "      <td>1995-96</td>\n",
       "      <td>82</td>\n",
       "      <td>82</td>\n",
       "      <td>37.7</td>\n",
       "      <td>11.2</td>\n",
       "      <td>22.6</td>\n",
       "      <td>9.8</td>\n",
       "      <td>19.4</td>\n",
       "      <td>1.4</td>\n",
       "      <td>...</td>\n",
       "      <td>124</td>\n",
       "      <td>100</td>\n",
       "      <td>14.2</td>\n",
       "      <td>6.2</td>\n",
       "      <td>20.4</td>\n",
       "      <td>.317</td>\n",
       "      <td>7.2</td>\n",
       "      <td>1.4</td>\n",
       "      <td>8.6</td>\n",
       "      <td>8.3</td>\n",
       "    </tr>\n",
       "    <tr>\n",
       "      <th>David Robinson</th>\n",
       "      <td>29</td>\n",
       "      <td>1994-95</td>\n",
       "      <td>81</td>\n",
       "      <td>81</td>\n",
       "      <td>38.0</td>\n",
       "      <td>9.7</td>\n",
       "      <td>18.4</td>\n",
       "      <td>9.7</td>\n",
       "      <td>18.1</td>\n",
       "      <td>0.1</td>\n",
       "      <td>...</td>\n",
       "      <td>120</td>\n",
       "      <td>99</td>\n",
       "      <td>10.7</td>\n",
       "      <td>6.7</td>\n",
       "      <td>17.5</td>\n",
       "      <td>.273</td>\n",
       "      <td>4.1</td>\n",
       "      <td>4.3</td>\n",
       "      <td>8.4</td>\n",
       "      <td>8.1</td>\n",
       "    </tr>\n",
       "    <tr>\n",
       "      <th>Hakeem Olajuwon</th>\n",
       "      <td>31</td>\n",
       "      <td>1993-94</td>\n",
       "      <td>80</td>\n",
       "      <td>80</td>\n",
       "      <td>41.0</td>\n",
       "      <td>11.2</td>\n",
       "      <td>21.2</td>\n",
       "      <td>11.1</td>\n",
       "      <td>20.9</td>\n",
       "      <td>0.1</td>\n",
       "      <td>...</td>\n",
       "      <td>109</td>\n",
       "      <td>95</td>\n",
       "      <td>6.4</td>\n",
       "      <td>7.9</td>\n",
       "      <td>14.3</td>\n",
       "      <td>.210</td>\n",
       "      <td>2.2</td>\n",
       "      <td>4.7</td>\n",
       "      <td>7.0</td>\n",
       "      <td>7.5</td>\n",
       "    </tr>\n",
       "    <tr>\n",
       "      <th>Charles Barkley</th>\n",
       "      <td>29</td>\n",
       "      <td>1992-93</td>\n",
       "      <td>76</td>\n",
       "      <td>76</td>\n",
       "      <td>37.6</td>\n",
       "      <td>9.4</td>\n",
       "      <td>18.1</td>\n",
       "      <td>8.5</td>\n",
       "      <td>15.2</td>\n",
       "      <td>0.9</td>\n",
       "      <td>...</td>\n",
       "      <td>120</td>\n",
       "      <td>103</td>\n",
       "      <td>9.6</td>\n",
       "      <td>4.8</td>\n",
       "      <td>14.4</td>\n",
       "      <td>.242</td>\n",
       "      <td>5.9</td>\n",
       "      <td>2.4</td>\n",
       "      <td>8.3</td>\n",
       "      <td>7.5</td>\n",
       "    </tr>\n",
       "    <tr>\n",
       "      <th>Michael Jordan</th>\n",
       "      <td>28</td>\n",
       "      <td>1991-92</td>\n",
       "      <td>80</td>\n",
       "      <td>80</td>\n",
       "      <td>38.8</td>\n",
       "      <td>11.8</td>\n",
       "      <td>22.7</td>\n",
       "      <td>11.5</td>\n",
       "      <td>21.5</td>\n",
       "      <td>0.3</td>\n",
       "      <td>...</td>\n",
       "      <td>121</td>\n",
       "      <td>102</td>\n",
       "      <td>12.1</td>\n",
       "      <td>5.6</td>\n",
       "      <td>17.7</td>\n",
       "      <td>.274</td>\n",
       "      <td>6.9</td>\n",
       "      <td>1.7</td>\n",
       "      <td>8.6</td>\n",
       "      <td>8.3</td>\n",
       "    </tr>\n",
       "    <tr>\n",
       "      <th>Michael Jordan</th>\n",
       "      <td>27</td>\n",
       "      <td>1990-91</td>\n",
       "      <td>82</td>\n",
       "      <td>82</td>\n",
       "      <td>37.0</td>\n",
       "      <td>12.1</td>\n",
       "      <td>22.4</td>\n",
       "      <td>11.7</td>\n",
       "      <td>21.3</td>\n",
       "      <td>0.4</td>\n",
       "      <td>...</td>\n",
       "      <td>125</td>\n",
       "      <td>102</td>\n",
       "      <td>14.9</td>\n",
       "      <td>5.4</td>\n",
       "      <td>20.3</td>\n",
       "      <td>.321</td>\n",
       "      <td>8.9</td>\n",
       "      <td>1.8</td>\n",
       "      <td>10.8</td>\n",
       "      <td>9.8</td>\n",
       "    </tr>\n",
       "    <tr>\n",
       "      <th>Magic Johnson</th>\n",
       "      <td>30</td>\n",
       "      <td>1989-90</td>\n",
       "      <td>79</td>\n",
       "      <td>79</td>\n",
       "      <td>37.2</td>\n",
       "      <td>6.9</td>\n",
       "      <td>14.4</td>\n",
       "      <td>5.6</td>\n",
       "      <td>10.9</td>\n",
       "      <td>1.3</td>\n",
       "      <td>...</td>\n",
       "      <td>126</td>\n",
       "      <td>106</td>\n",
       "      <td>12.8</td>\n",
       "      <td>3.8</td>\n",
       "      <td>16.5</td>\n",
       "      <td>.270</td>\n",
       "      <td>8.6</td>\n",
       "      <td>1.0</td>\n",
       "      <td>9.5</td>\n",
       "      <td>8.5</td>\n",
       "    </tr>\n",
       "    <tr>\n",
       "      <th>Magic Johnson</th>\n",
       "      <td>29</td>\n",
       "      <td>1988-89</td>\n",
       "      <td>77</td>\n",
       "      <td>77</td>\n",
       "      <td>37.5</td>\n",
       "      <td>7.5</td>\n",
       "      <td>14.8</td>\n",
       "      <td>6.8</td>\n",
       "      <td>12.3</td>\n",
       "      <td>0.8</td>\n",
       "      <td>...</td>\n",
       "      <td>125</td>\n",
       "      <td>105</td>\n",
       "      <td>12.1</td>\n",
       "      <td>4.0</td>\n",
       "      <td>16.1</td>\n",
       "      <td>.267</td>\n",
       "      <td>7.9</td>\n",
       "      <td>1.4</td>\n",
       "      <td>9.3</td>\n",
       "      <td>8.2</td>\n",
       "    </tr>\n",
       "    <tr>\n",
       "      <th>Michael Jordan</th>\n",
       "      <td>24</td>\n",
       "      <td>1987-88</td>\n",
       "      <td>82</td>\n",
       "      <td>82</td>\n",
       "      <td>40.4</td>\n",
       "      <td>13.0</td>\n",
       "      <td>24.4</td>\n",
       "      <td>13.0</td>\n",
       "      <td>23.7</td>\n",
       "      <td>0.1</td>\n",
       "      <td>...</td>\n",
       "      <td>123</td>\n",
       "      <td>101</td>\n",
       "      <td>15.2</td>\n",
       "      <td>6.1</td>\n",
       "      <td>21.2</td>\n",
       "      <td>.308</td>\n",
       "      <td>9.8</td>\n",
       "      <td>2.3</td>\n",
       "      <td>12.2</td>\n",
       "      <td>11.8</td>\n",
       "    </tr>\n",
       "    <tr>\n",
       "      <th>Magic Johnson</th>\n",
       "      <td>27</td>\n",
       "      <td>1986-87</td>\n",
       "      <td>80</td>\n",
       "      <td>80</td>\n",
       "      <td>36.3</td>\n",
       "      <td>8.5</td>\n",
       "      <td>16.4</td>\n",
       "      <td>8.4</td>\n",
       "      <td>15.9</td>\n",
       "      <td>0.1</td>\n",
       "      <td>...</td>\n",
       "      <td>124</td>\n",
       "      <td>106</td>\n",
       "      <td>12.1</td>\n",
       "      <td>3.8</td>\n",
       "      <td>15.9</td>\n",
       "      <td>.263</td>\n",
       "      <td>7.2</td>\n",
       "      <td>0.9</td>\n",
       "      <td>8.1</td>\n",
       "      <td>7.4</td>\n",
       "    </tr>\n",
       "    <tr>\n",
       "      <th>Larry Bird</th>\n",
       "      <td>29</td>\n",
       "      <td>1985-86</td>\n",
       "      <td>82</td>\n",
       "      <td>81</td>\n",
       "      <td>38.0</td>\n",
       "      <td>9.7</td>\n",
       "      <td>19.6</td>\n",
       "      <td>8.7</td>\n",
       "      <td>17.2</td>\n",
       "      <td>1.0</td>\n",
       "      <td>...</td>\n",
       "      <td>117</td>\n",
       "      <td>99</td>\n",
       "      <td>9.6</td>\n",
       "      <td>6.2</td>\n",
       "      <td>15.8</td>\n",
       "      <td>.244</td>\n",
       "      <td>6.4</td>\n",
       "      <td>2.8</td>\n",
       "      <td>9.1</td>\n",
       "      <td>8.7</td>\n",
       "    </tr>\n",
       "    <tr>\n",
       "      <th>Larry Bird</th>\n",
       "      <td>28</td>\n",
       "      <td>1984-85</td>\n",
       "      <td>80</td>\n",
       "      <td>77</td>\n",
       "      <td>39.5</td>\n",
       "      <td>11.5</td>\n",
       "      <td>22.0</td>\n",
       "      <td>10.8</td>\n",
       "      <td>20.4</td>\n",
       "      <td>0.7</td>\n",
       "      <td>...</td>\n",
       "      <td>119</td>\n",
       "      <td>103</td>\n",
       "      <td>10.5</td>\n",
       "      <td>5.2</td>\n",
       "      <td>15.7</td>\n",
       "      <td>.238</td>\n",
       "      <td>6.1</td>\n",
       "      <td>2.4</td>\n",
       "      <td>8.5</td>\n",
       "      <td>8.4</td>\n",
       "    </tr>\n",
       "    <tr>\n",
       "      <th>Larry Bird</th>\n",
       "      <td>27</td>\n",
       "      <td>1983-84</td>\n",
       "      <td>79</td>\n",
       "      <td>77</td>\n",
       "      <td>38.3</td>\n",
       "      <td>9.6</td>\n",
       "      <td>19.5</td>\n",
       "      <td>9.4</td>\n",
       "      <td>18.6</td>\n",
       "      <td>0.2</td>\n",
       "      <td>...</td>\n",
       "      <td>115</td>\n",
       "      <td>101</td>\n",
       "      <td>7.9</td>\n",
       "      <td>5.6</td>\n",
       "      <td>13.6</td>\n",
       "      <td>.215</td>\n",
       "      <td>4.7</td>\n",
       "      <td>3.0</td>\n",
       "      <td>7.8</td>\n",
       "      <td>7.4</td>\n",
       "    </tr>\n",
       "    <tr>\n",
       "      <th>Moses Malone</th>\n",
       "      <td>27</td>\n",
       "      <td>1982-83</td>\n",
       "      <td>78</td>\n",
       "      <td>78</td>\n",
       "      <td>37.5</td>\n",
       "      <td>8.4</td>\n",
       "      <td>16.7</td>\n",
       "      <td>8.4</td>\n",
       "      <td>16.7</td>\n",
       "      <td>0.0</td>\n",
       "      <td>...</td>\n",
       "      <td>116</td>\n",
       "      <td>97</td>\n",
       "      <td>9.1</td>\n",
       "      <td>6.0</td>\n",
       "      <td>15.1</td>\n",
       "      <td>.248</td>\n",
       "      <td>2.9</td>\n",
       "      <td>0.5</td>\n",
       "      <td>3.4</td>\n",
       "      <td>4.0</td>\n",
       "    </tr>\n",
       "    <tr>\n",
       "      <th>Moses Malone</th>\n",
       "      <td>26</td>\n",
       "      <td>1981-82</td>\n",
       "      <td>81</td>\n",
       "      <td>81</td>\n",
       "      <td>42.0</td>\n",
       "      <td>11.7</td>\n",
       "      <td>22.5</td>\n",
       "      <td>11.7</td>\n",
       "      <td>22.4</td>\n",
       "      <td>0.0</td>\n",
       "      <td>...</td>\n",
       "      <td>118</td>\n",
       "      <td>106</td>\n",
       "      <td>11.7</td>\n",
       "      <td>3.7</td>\n",
       "      <td>15.4</td>\n",
       "      <td>.218</td>\n",
       "      <td>5.4</td>\n",
       "      <td>-1.1</td>\n",
       "      <td>4.3</td>\n",
       "      <td>5.4</td>\n",
       "    </tr>\n",
       "    <tr>\n",
       "      <th>Julius Erving</th>\n",
       "      <td>30</td>\n",
       "      <td>1980-81</td>\n",
       "      <td>82</td>\n",
       "      <td></td>\n",
       "      <td>35.0</td>\n",
       "      <td>9.7</td>\n",
       "      <td>18.6</td>\n",
       "      <td>9.6</td>\n",
       "      <td>18.4</td>\n",
       "      <td>0.0</td>\n",
       "      <td>...</td>\n",
       "      <td>113</td>\n",
       "      <td>97</td>\n",
       "      <td>7.8</td>\n",
       "      <td>6.1</td>\n",
       "      <td>13.8</td>\n",
       "      <td>.231</td>\n",
       "      <td>4.9</td>\n",
       "      <td>3.1</td>\n",
       "      <td>8.0</td>\n",
       "      <td>7.2</td>\n",
       "    </tr>\n",
       "  </tbody>\n",
       "</table>\n",
       "<p>36 rows × 49 columns</p>\n",
       "</div>"
      ],
      "text/plain": [
       "                 Age   Season   G  GS    MP    FG   FGA    2P   2PA   3P  \\\n",
       "Player                                                                     \n",
       "Stephen Curry     27  2015-16  79  79  34.2  10.2  20.2   5.1   9.0  5.1   \n",
       "Stephen Curry     26  2014-15  80  80  32.7   8.2  16.8   4.6   8.7  3.6   \n",
       "Kevin Durant      25  2013-14  81  81  38.5  10.5  20.8   8.1  14.8  2.4   \n",
       "LeBron James      28  2012-13  76  76  37.9  10.1  17.8   8.7  14.5  1.4   \n",
       "LeBron James      27  2011-12  62  62  37.5  10.0  18.9   9.1  16.5  0.9   \n",
       "Derrick Rose      22  2010-11  81  81  37.4   8.8  19.7   7.2  15.0  1.6   \n",
       "LeBron James      25  2009-10  76  76  39.0  10.1  20.1   8.4  15.0  1.7   \n",
       "LeBron James      24  2008-09  81  81  37.7   9.7  19.9   8.1  15.2  1.6   \n",
       "Kobe Bryant       29  2007-08  82  82  38.9   9.5  20.6   7.6  15.5  1.8   \n",
       "Dirk Nowitzki     28  2006-07  78  78  36.2   8.6  17.2   7.7  15.0  0.9   \n",
       "Steve Nash        31  2005-06  79  79  35.4   6.8  13.4   4.9   9.0  1.9   \n",
       "Steve Nash        30  2004-05  75  75  34.3   5.7  11.4   4.5   8.5  1.3   \n",
       "Kevin Garnett     27  2003-04  82  82  39.4   9.8  19.6   9.7  19.1  0.1   \n",
       "Tim Duncan        26  2002-03  81  81  39.3   8.8  17.2   8.7  16.9  0.1   \n",
       "Tim Duncan        25  2001-02  82  82  40.6   9.3  18.3   9.3  18.2  0.0   \n",
       "Allen Iverson     25  2000-01  71  71  42.0  10.7  25.5   9.4  21.2  1.4   \n",
       "Shaquille O'Neal  27  1999-00  79  79  40.0  12.1  21.1  12.1  21.1  0.0   \n",
       "Karl Malone       35  1998-99  49  49  37.4   8.0  16.3   8.0  16.2  0.0   \n",
       "Michael Jordan    34  1997-98  82  82  38.8  10.7  23.1  10.4  21.5  0.4   \n",
       "Karl Malone       33  1996-97  82  82  36.6  10.5  19.2  10.5  19.0  0.0   \n",
       "Michael Jordan    32  1995-96  82  82  37.7  11.2  22.6   9.8  19.4  1.4   \n",
       "David Robinson    29  1994-95  81  81  38.0   9.7  18.4   9.7  18.1  0.1   \n",
       "Hakeem Olajuwon   31  1993-94  80  80  41.0  11.2  21.2  11.1  20.9  0.1   \n",
       "Charles Barkley   29  1992-93  76  76  37.6   9.4  18.1   8.5  15.2  0.9   \n",
       "Michael Jordan    28  1991-92  80  80  38.8  11.8  22.7  11.5  21.5  0.3   \n",
       "Michael Jordan    27  1990-91  82  82  37.0  12.1  22.4  11.7  21.3  0.4   \n",
       "Magic Johnson     30  1989-90  79  79  37.2   6.9  14.4   5.6  10.9  1.3   \n",
       "Magic Johnson     29  1988-89  77  77  37.5   7.5  14.8   6.8  12.3  0.8   \n",
       "Michael Jordan    24  1987-88  82  82  40.4  13.0  24.4  13.0  23.7  0.1   \n",
       "Magic Johnson     27  1986-87  80  80  36.3   8.5  16.4   8.4  15.9  0.1   \n",
       "Larry Bird        29  1985-86  82  81  38.0   9.7  19.6   8.7  17.2  1.0   \n",
       "Larry Bird        28  1984-85  80  77  39.5  11.5  22.0  10.8  20.4  0.7   \n",
       "Larry Bird        27  1983-84  79  77  38.3   9.6  19.5   9.4  18.6  0.2   \n",
       "Moses Malone      27  1982-83  78  78  37.5   8.4  16.7   8.4  16.7  0.0   \n",
       "Moses Malone      26  1981-82  81  81  42.0  11.7  22.5  11.7  22.4  0.0   \n",
       "Julius Erving     30  1980-81  82      35.0   9.7  18.6   9.6  18.4  0.0   \n",
       "\n",
       "                  ...  ORtg DRtg   OWS  DWS    WS WS/48  OBPM  DBPM   BPM  \\\n",
       "Player            ...                                                       \n",
       "Stephen Curry     ...   125  103  13.8  4.1  17.9  .318  12.4   0.1  12.5   \n",
       "Stephen Curry     ...   122  101  11.5  4.1  15.7  .288   9.6   0.3   9.9   \n",
       "Kevin Durant      ...   123  104  14.8  4.4  19.2  .295   8.4   0.4   8.8   \n",
       "LeBron James      ...   125  101  14.6  4.7  19.3  .322   9.2   2.4  11.6   \n",
       "LeBron James      ...   118   97  10.0  4.5  14.5  .298   8.3   2.7  11.0   \n",
       "Derrick Rose      ...   113  103   8.3  4.8  13.1  .208   5.8   0.1   5.9   \n",
       "LeBron James      ...   121  102  13.3  5.2  18.5  .299   9.7   2.8  12.5   \n",
       "LeBron James      ...   122   99  13.7  6.5  20.3  .318   9.4   3.6  13.0   \n",
       "Kobe Bryant       ...   115  105   9.5  4.3  13.8  .208   5.1   0.3   5.4   \n",
       "Dirk Nowitzki     ...   123  102  11.8  4.5  16.3  .278   5.4   1.3   6.7   \n",
       "Steve Nash        ...   121  109  10.3  2.1  12.4  .212   5.4  -1.6   3.7   \n",
       "Steve Nash        ...   123  111   9.7  1.2  10.9  .203   4.5  -2.9   1.7   \n",
       "Kevin Garnett     ...   112   92  10.4  8.0  18.3  .272   4.9   5.0   9.9   \n",
       "Tim Duncan        ...   112   94   9.5  6.9  16.5  .248   3.3   4.2   7.4   \n",
       "Tim Duncan        ...   114   96  10.7  7.1  17.8  .257   3.9   3.8   7.6   \n",
       "Allen Iverson     ...   106   99   7.3  4.5  11.8  .190   5.0  -0.1   4.8   \n",
       "Shaquille O'Neal  ...   115   95  11.7  7.0  18.6  .283   6.2   3.5   9.7   \n",
       "Karl Malone       ...   112   96   6.2  3.4   9.6  .252   4.5   2.3   6.8   \n",
       "Michael Jordan    ...   114  100  10.4  5.4  15.8  .238   4.6   0.0   4.6   \n",
       "Karl Malone       ...   118  101  11.6  5.1  16.7  .268   6.2   2.2   8.5   \n",
       "Michael Jordan    ...   124  100  14.2  6.2  20.4  .317   7.2   1.4   8.6   \n",
       "David Robinson    ...   120   99  10.7  6.7  17.5  .273   4.1   4.3   8.4   \n",
       "Hakeem Olajuwon   ...   109   95   6.4  7.9  14.3  .210   2.2   4.7   7.0   \n",
       "Charles Barkley   ...   120  103   9.6  4.8  14.4  .242   5.9   2.4   8.3   \n",
       "Michael Jordan    ...   121  102  12.1  5.6  17.7  .274   6.9   1.7   8.6   \n",
       "Michael Jordan    ...   125  102  14.9  5.4  20.3  .321   8.9   1.8  10.8   \n",
       "Magic Johnson     ...   126  106  12.8  3.8  16.5  .270   8.6   1.0   9.5   \n",
       "Magic Johnson     ...   125  105  12.1  4.0  16.1  .267   7.9   1.4   9.3   \n",
       "Michael Jordan    ...   123  101  15.2  6.1  21.2  .308   9.8   2.3  12.2   \n",
       "Magic Johnson     ...   124  106  12.1  3.8  15.9  .263   7.2   0.9   8.1   \n",
       "Larry Bird        ...   117   99   9.6  6.2  15.8  .244   6.4   2.8   9.1   \n",
       "Larry Bird        ...   119  103  10.5  5.2  15.7  .238   6.1   2.4   8.5   \n",
       "Larry Bird        ...   115  101   7.9  5.6  13.6  .215   4.7   3.0   7.8   \n",
       "Moses Malone      ...   116   97   9.1  6.0  15.1  .248   2.9   0.5   3.4   \n",
       "Moses Malone      ...   118  106  11.7  3.7  15.4  .218   5.4  -1.1   4.3   \n",
       "Julius Erving     ...   113   97   7.8  6.1  13.8  .231   4.9   3.1   8.0   \n",
       "\n",
       "                  VORP  \n",
       "Player                  \n",
       "Stephen Curry      9.8  \n",
       "Stephen Curry      7.9  \n",
       "Kevin Durant       8.5  \n",
       "LeBron James       9.8  \n",
       "LeBron James       7.6  \n",
       "Derrick Rose       6.0  \n",
       "LeBron James      10.9  \n",
       "LeBron James      11.6  \n",
       "Kobe Bryant        6.0  \n",
       "Dirk Nowitzki      6.2  \n",
       "Steve Nash         4.0  \n",
       "Steve Nash         2.4  \n",
       "Kevin Garnett      9.8  \n",
       "Tim Duncan         7.6  \n",
       "Tim Duncan         8.1  \n",
       "Allen Iverson      5.1  \n",
       "Shaquille O'Neal   9.3  \n",
       "Karl Malone        4.1  \n",
       "Michael Jordan     5.3  \n",
       "Karl Malone        7.9  \n",
       "Michael Jordan     8.3  \n",
       "David Robinson     8.1  \n",
       "Hakeem Olajuwon    7.5  \n",
       "Charles Barkley    7.5  \n",
       "Michael Jordan     8.3  \n",
       "Michael Jordan     9.8  \n",
       "Magic Johnson      8.5  \n",
       "Magic Johnson      8.2  \n",
       "Michael Jordan    11.8  \n",
       "Magic Johnson      7.4  \n",
       "Larry Bird         8.7  \n",
       "Larry Bird         8.4  \n",
       "Larry Bird         7.4  \n",
       "Moses Malone       4.0  \n",
       "Moses Malone       5.4  \n",
       "Julius Erving      7.2  \n",
       "\n",
       "[36 rows x 49 columns]"
      ]
     },
     "execution_count": 40,
     "metadata": {},
     "output_type": "execute_result"
    }
   ],
   "source": [
    "historical = pd.concat([df_past, df_past_adv], axis=1)\n",
    "historical"
   ]
  },
  {
   "cell_type": "code",
   "execution_count": 41,
   "metadata": {
    "collapsed": false
   },
   "outputs": [],
   "source": [
    "#convert to proper data types\n",
    "historical = historical.apply(pd.to_numeric, errors='ignore')"
   ]
  },
  {
   "cell_type": "code",
   "execution_count": 42,
   "metadata": {
    "collapsed": false
   },
   "outputs": [
    {
     "data": {
      "text/plain": [
       "<matplotlib.text.Text at 0x1a9a8ef0438>"
      ]
     },
     "execution_count": 42,
     "metadata": {},
     "output_type": "execute_result"
    },
    {
     "data": {
      "image/png": "[encoded data removed]",
      "text/plain": [
       "<matplotlib.figure.Figure at 0x1a9a8a9acc0>"
      ]
     },
     "metadata": {},
     "output_type": "display_data"
    }
   ],
   "source": [
    "fig, axes = plt.subplots(nrows = 2, ncols = 2, figsize = (12,12), sharex=True, sharey=False)\n",
    "MVP['PTS'].plot.bar(ax=axes[0,0], color = ['b', 'b', 'b', 'r']); axes[0,0].set_title('Points per Game')\n",
    "MVP['eFG%'].plot.bar(ax=axes[1,0], color = ['b', 'b', 'r', 'b']); axes[1,0].set_title('Effective Field Goal Percentage')\n",
    "MVP['AST'].plot.bar(ax=axes[0,1], color = ['r', 'b', 'b', 'b']); axes[0,1].set_title('Assists per Game')\n",
    "MVP['TRB'].plot.bar(ax=axes[1,1], color = ['b', 'b', 'b', 'r']); axes[1,1].set_title('Rebounds per Game')"
   ]
  },
  {
   "cell_type": "markdown",
   "metadata": {},
   "source": [
    "Here we have displayed the most basic statistics for each of the MVP canidates, such as points, assists, steals and rebounds a game. As we can see, Westbrook had some of the highests totals in these categories. Westbrook was the second player in histroy to average double digits numbers in points, rebounds and assists in NBA histroy. Many believe that this fact alone should award him the title of MVP. However it is important to know that players who are renowned for their defense, such as Kawhi Leonard arent usually the leaders in these categories, so these statistics can paint an imcomplete picture of how good a player is."
   ]
  },
  {
   "cell_type": "code",
   "execution_count": 43,
   "metadata": {
    "collapsed": false,
    "scrolled": false
   },
   "outputs": [
    {
     "data": {
      "text/plain": [
       "<matplotlib.lines.Line2D at 0x1a9ab355c50>"
      ]
     },
     "execution_count": 43,
     "metadata": {},
     "output_type": "execute_result"
    },
    {
     "data": {
      "image/png": "[encoded data removed]",
      "text/plain": [
       "<matplotlib.figure.Figure at 0x1a9a8a9d390>"
      ]
     },
     "metadata": {},
     "output_type": "display_data"
    }
   ],
   "source": [
    "import seaborn as sns\n",
    "fig, ax = plt.subplots()\n",
    "MVP['PER'].plot(ax=ax, kind = 'bar', color = ['b', 'b', 'b', 'r'])\n",
    "ax.set_ylabel('PER')\n",
    "ax.set_xlabel('')\n",
    "ax.axhline(historical['PER'].mean(), color = 'k', linestyle = '--', alpha = .4)"
   ]
  },
  {
   "cell_type": "markdown",
   "metadata": {},
   "source": [
    "Player efficiency rating (PER) is a statistic meant to capture all aspects of a player's game to give a measure of overall performance. It is adjusted for pace and minutes and the league average is always 15.0 for comparison. Russell Westbrook leads all MVP candidates with a PER of 30.6. All candidates just about meet or surpass the historical MVP average of 27.42. However, PER is a little flawed as it is much more heavily weighted to offensive statistics. It only takes into account blocks and steals on the defensive side. This favors Westbrook and Harden, who put up stronger offensive numbers than Leonard and James. On the other hand, Westbrook and Harden are not known for being great defenders, while James, and especially Kawhi Leonard (who is a two-time Defensive Player of the Year winner), are two of the top defenders in the NBA."
   ]
  },
  {
   "cell_type": "code",
   "execution_count": 44,
   "metadata": {
    "collapsed": false
   },
   "outputs": [
    {
     "data": {
      "text/plain": [
       "<matplotlib.lines.Line2D at 0x1a9ab59f278>"
      ]
     },
     "execution_count": 44,
     "metadata": {},
     "output_type": "execute_result"
    },
    {
     "data": {
      "image/png": "[encoded data removed]",
      "text/plain": [
       "<matplotlib.figure.Figure at 0x1a9ab355fd0>"
      ]
     },
     "metadata": {},
     "output_type": "display_data"
    }
   ],
   "source": [
    "fig, ax = plt.subplots()\n",
    "MVP['VORP'].plot(ax=ax, kind = 'bar', color = ['b', 'b', 'b', 'r'])\n",
    "ax.set_ylabel('Value Over Replacement Player')\n",
    "ax.set_xlabel('')\n",
    "ax.axhline(historical['VORP'].mean(), color = 'k', linestyle = '--', alpha = .4)"
   ]
  },
  {
   "cell_type": "markdown",
   "metadata": {},
   "source": [
    "According to Basketball Reference, Value over Replacement Player (VORP) provides an \"estimate of each player's overall contribution to the team, measured vs. what a theoretical 'replacement player' would provide\", where the 'replacement player' is defined as a player with a box plus/minus of -2. By this metric, Russell Westbrook contributes the most to his team, with a VORP of 12.4. Westbrook and James Harden are the only candidates with a VORP above the historical MVP average of 7.62."
   ]
  },
  {
   "cell_type": "code",
   "execution_count": 45,
   "metadata": {
    "collapsed": false
   },
   "outputs": [
    {
     "data": {
      "text/plain": [
       "<matplotlib.lines.Line2D at 0x1a9ab4145f8>"
      ]
     },
     "execution_count": 45,
     "metadata": {},
     "output_type": "execute_result"
    },
    {
     "data": {
      "image/png": "[encoded data removed]",
      "text/plain": [
       "<matplotlib.figure.Figure at 0x1a9ab56fcc0>"
      ]
     },
     "metadata": {},
     "output_type": "display_data"
    }
   ],
   "source": [
    "fig, ax = plt.subplots()\n",
    "MVP['WS'].plot(ax=ax, kind = 'bar', color = ['r', 'b', 'b', 'b'])\n",
    "ax.set_ylabel('Win Shares')\n",
    "ax.set_xlabel('')\n",
    "ax.axhline(historical['WS'].mean(), color = 'k', linestyle = '--', alpha = .4)"
   ]
  },
  {
   "cell_type": "markdown",
   "metadata": {},
   "source": [
    "Win shares is a measure of wins a player produces for his team. This statistic is calculated by taking into account how many wins a player has contributed to their team based off of their offensive play, as well as their defensive play.\n",
    "\n",
    "We can see that this past season, none of the MVP canidates genereated as many wins for their teams as the average MVP has, which is 16.13 games. James Harden was the closest with a Win share value of just over 15. To understand how meaninful this statisitc this, we also have to keep in mind the production that the rest of the MVP canidates team is putting up. We have to ask the question that if a player is putting up great statistics, but so are other players on the same team, how much impact is that one player really having."
   ]
  },
  {
   "cell_type": "code",
   "execution_count": 46,
   "metadata": {
    "collapsed": false,
    "scrolled": true
   },
   "outputs": [
    {
     "data": {
      "text/plain": [
       "<matplotlib.lines.Line2D at 0x1a9ab48da58>"
      ]
     },
     "execution_count": 46,
     "metadata": {},
     "output_type": "execute_result"
    },
    {
     "data": {
      "image/png": "[encoded data removed]",
      "text/plain": [
       "<matplotlib.figure.Figure at 0x1a9ab42c208>"
      ]
     },
     "metadata": {},
     "output_type": "display_data"
    }
   ],
   "source": [
    "fig, ax = plt.subplots()\n",
    "MVP['DWS'].plot(ax=ax, kind = 'bar', color = ['b', 'r', 'b', 'b'])\n",
    "ax.set_ylabel('Defensive Win Share')\n",
    "ax.set_xlabel('')\n",
    "ax.axhline(historical['DWS'].mean(), color = 'k', linestyle = '--', alpha = .4)\n"
   ]
  },
  {
   "cell_type": "markdown",
   "metadata": {},
   "source": [
    "Here we try to compare the defensive proudction of each of the MVP canidates. Defensive Win Share is calculated by looking at how a player's respective defensive production translates to wins for a team. A player's estimated points allowed per 100 possesions, marginal defense added, as well as points added in a win are all taken into account to calculate this number. Because points added in a win is used in this calculation, even though it is supposed to be a defensive statistic, there is still some offensive bias. So players that score more points, and win more games could get higher values for this statistic. Despite these possible flaws, we see that Leonard and Westbrook lead the way with DWS of 4.7 and 4.6 respectively. All players, still fall short of the historical MVP average of 5.1."
   ]
  },
  {
   "cell_type": "code",
   "execution_count": 47,
   "metadata": {
    "collapsed": false,
    "scrolled": false
   },
   "outputs": [
    {
     "name": "stdout",
     "output_type": "stream",
     "text": [
      "0.2609444444444444\n"
     ]
    },
    {
     "data": {
      "image/png": "[encoded data removed]",
      "text/plain": [
       "<matplotlib.figure.Figure at 0x1a9ab48de10>"
      ]
     },
     "metadata": {},
     "output_type": "display_data"
    }
   ],
   "source": [
    "fig, ax = plt.subplots()\n",
    "MVP['WS/48'].plot(ax=ax, kind = 'bar', color = ['b', 'r', 'b', 'b'])\n",
    "ax.set_ylabel('Win Share/48 Minutes')\n",
    "ax.set_xlabel('')\n",
    "ax.axhline(historical['WS/48'].mean(), color = 'k', linestyle = '--', alpha = .4)\n",
    "print(historical['WS/48'].mean())"
   ]
  },
  {
   "cell_type": "markdown",
   "metadata": {},
   "source": [
    "Win Shares/ 48 Minutes is another statistic used to measure the wins attributed to a certain player. This statistic is slightly different because instead of just taking in to account how many games the team actually wins over the course of a season, this stat attempts to control for actual minutes played by the player. Here we see that Kawhi Leonard has the highest Win Share, and not Harden. We believe that this is due to the fact that Leonard plays significantly fewer minutes than the other canidates. Leonard is the only player whose WS/48 of .264 surpasses the MVP average of .261\n"
   ]
  },
  {
   "cell_type": "code",
   "execution_count": 48,
   "metadata": {
    "collapsed": false
   },
   "outputs": [
    {
     "name": "stdout",
     "output_type": "stream",
     "text": [
      "29.77777777777778\n"
     ]
    },
    {
     "data": {
      "image/png": "[encoded data removed]",
      "text/plain": [
       "<matplotlib.figure.Figure at 0x1a9ab4d7ac8>"
      ]
     },
     "metadata": {},
     "output_type": "display_data"
    }
   ],
   "source": [
    "fig, ax = plt.subplots()\n",
    "MVP['USG%'].plot(ax=ax, kind = 'bar', color = ['b', 'b', 'b', 'r'])\n",
    "ax.set_ylabel('Usage Percentage')\n",
    "ax.set_xlabel('')\n",
    "ax.axhline(historical['USG%'].mean(), color = 'k', linestyle = '--', alpha = .4)\n",
    "print(historical['USG%'].mean())"
   ]
  },
  {
   "cell_type": "markdown",
   "metadata": {},
   "source": [
    "Usage percentage is a measure of the percentage of team possessions a player uses per game. A higher percentage means a player handles the ball more per game. High usage percentages by one player can often lead to decreased overall efficiency for the team, as it means the offense is ran more through one player. In this case, Russell Westbrook's usage percentage is considerably higher than the other candidates and is the highest usage percentage in NBA history by about 3%. The other candidates are much closer to the historical average MVP usage percentage of 29.77%."
   ]
  },
  {
   "cell_type": "code",
   "execution_count": 49,
   "metadata": {
    "collapsed": false
   },
   "outputs": [],
   "source": [
    "url4 ='http://www.basketball-reference.com/play-index/tsl_finder.cgi?request=1&match=single&type=team_totals&lg_id=NBA&year_min=2017&year_max=2017&order_by=wins'\n",
    "e1 = requests.get(url4)"
   ]
  },
  {
   "cell_type": "code",
   "execution_count": 50,
   "metadata": {
    "collapsed": true
   },
   "outputs": [],
   "source": [
    "soup4 = BeautifulSoup(e1.content, 'html.parser')"
   ]
  },
  {
   "cell_type": "code",
   "execution_count": 51,
   "metadata": {
    "collapsed": true
   },
   "outputs": [],
   "source": [
    "column_headers_past_adv = [th.getText() for th in \n",
    "                  soup4.findAll('tr')[1].findAll('th')]"
   ]
  },
  {
   "cell_type": "code",
   "execution_count": 52,
   "metadata": {
    "collapsed": true
   },
   "outputs": [],
   "source": [
    "data_rows_past_adv = soup4.findAll('tr')[2:]"
   ]
  },
  {
   "cell_type": "code",
   "execution_count": 53,
   "metadata": {
    "collapsed": true
   },
   "outputs": [],
   "source": [
    "column_headers_team = [th.getText() for th in \n",
    "                  soup4.findAll('tr')[1].findAll('th')]"
   ]
  },
  {
   "cell_type": "code",
   "execution_count": 54,
   "metadata": {
    "collapsed": true
   },
   "outputs": [],
   "source": [
    "data_rows_team = soup4.findAll('tr')[3:12]"
   ]
  },
  {
   "cell_type": "code",
   "execution_count": 55,
   "metadata": {
    "collapsed": true
   },
   "outputs": [],
   "source": [
    "team_wins = [[td.getText() for td in data_rows_team[i].findAll('td')]\n",
    "            for i in range(len(data_rows_team))]"
   ]
  },
  {
   "cell_type": "code",
   "execution_count": 56,
   "metadata": {
    "collapsed": true
   },
   "outputs": [],
   "source": [
    "df_team = pd.DataFrame(team_wins, columns=column_headers_team[1:])"
   ]
  },
  {
   "cell_type": "code",
   "execution_count": 57,
   "metadata": {
    "collapsed": false
   },
   "outputs": [],
   "source": [
    "df_team = df_team.set_index('Tm')"
   ]
  },
  {
   "cell_type": "code",
   "execution_count": 58,
   "metadata": {
    "collapsed": false
   },
   "outputs": [],
   "source": [
    "df_team =df_team.drop(['TOR*','UTA*','LAC*','WAS*'])"
   ]
  },
  {
   "cell_type": "code",
   "execution_count": 59,
   "metadata": {
    "collapsed": true
   },
   "outputs": [],
   "source": [
    "Team =df_team"
   ]
  },
  {
   "cell_type": "code",
   "execution_count": 60,
   "metadata": {
    "collapsed": false
   },
   "outputs": [
    {
     "data": {
      "text/html": [
       "<div>\n",
       "<table border=\"1\" class=\"dataframe\">\n",
       "  <thead>\n",
       "    <tr style=\"text-align: right;\">\n",
       "      <th></th>\n",
       "      <th>Season</th>\n",
       "      <th>Lg</th>\n",
       "      <th>G</th>\n",
       "      <th>W</th>\n",
       "      <th>L</th>\n",
       "      <th>W/L%</th>\n",
       "      <th>MP</th>\n",
       "      <th>FG</th>\n",
       "      <th>FGA</th>\n",
       "      <th>2P</th>\n",
       "      <th>...</th>\n",
       "      <th>FTA</th>\n",
       "      <th>ORB</th>\n",
       "      <th>DRB</th>\n",
       "      <th>TRB</th>\n",
       "      <th>AST</th>\n",
       "      <th>STL</th>\n",
       "      <th>BLK</th>\n",
       "      <th>TOV</th>\n",
       "      <th>PF</th>\n",
       "      <th>PTS</th>\n",
       "    </tr>\n",
       "    <tr>\n",
       "      <th>Tm</th>\n",
       "      <th></th>\n",
       "      <th></th>\n",
       "      <th></th>\n",
       "      <th></th>\n",
       "      <th></th>\n",
       "      <th></th>\n",
       "      <th></th>\n",
       "      <th></th>\n",
       "      <th></th>\n",
       "      <th></th>\n",
       "      <th></th>\n",
       "      <th></th>\n",
       "      <th></th>\n",
       "      <th></th>\n",
       "      <th></th>\n",
       "      <th></th>\n",
       "      <th></th>\n",
       "      <th></th>\n",
       "      <th></th>\n",
       "      <th></th>\n",
       "      <th></th>\n",
       "    </tr>\n",
       "  </thead>\n",
       "  <tbody>\n",
       "    <tr>\n",
       "      <th>SAS*</th>\n",
       "      <td>2016-17</td>\n",
       "      <td>NBA</td>\n",
       "      <td>82</td>\n",
       "      <td>61</td>\n",
       "      <td>21</td>\n",
       "      <td>.744</td>\n",
       "      <td>19805</td>\n",
       "      <td>3222</td>\n",
       "      <td>6864</td>\n",
       "      <td>2469</td>\n",
       "      <td>...</td>\n",
       "      <td>1806</td>\n",
       "      <td>822</td>\n",
       "      <td>2777</td>\n",
       "      <td>3599</td>\n",
       "      <td>1954</td>\n",
       "      <td>654</td>\n",
       "      <td>486</td>\n",
       "      <td>1101</td>\n",
       "      <td>1498</td>\n",
       "      <td>8637</td>\n",
       "    </tr>\n",
       "    <tr>\n",
       "      <th>HOU*</th>\n",
       "      <td>2016-17</td>\n",
       "      <td>NBA</td>\n",
       "      <td>82</td>\n",
       "      <td>55</td>\n",
       "      <td>27</td>\n",
       "      <td>.671</td>\n",
       "      <td>19780</td>\n",
       "      <td>3305</td>\n",
       "      <td>7152</td>\n",
       "      <td>2124</td>\n",
       "      <td>...</td>\n",
       "      <td>2177</td>\n",
       "      <td>892</td>\n",
       "      <td>2747</td>\n",
       "      <td>3639</td>\n",
       "      <td>2070</td>\n",
       "      <td>670</td>\n",
       "      <td>351</td>\n",
       "      <td>1241</td>\n",
       "      <td>1634</td>\n",
       "      <td>9458</td>\n",
       "    </tr>\n",
       "    <tr>\n",
       "      <th>BOS*</th>\n",
       "      <td>2016-17</td>\n",
       "      <td>NBA</td>\n",
       "      <td>82</td>\n",
       "      <td>53</td>\n",
       "      <td>29</td>\n",
       "      <td>.646</td>\n",
       "      <td>19755</td>\n",
       "      <td>3168</td>\n",
       "      <td>6978</td>\n",
       "      <td>2183</td>\n",
       "      <td>...</td>\n",
       "      <td>1903</td>\n",
       "      <td>744</td>\n",
       "      <td>2698</td>\n",
       "      <td>3442</td>\n",
       "      <td>2069</td>\n",
       "      <td>617</td>\n",
       "      <td>341</td>\n",
       "      <td>1088</td>\n",
       "      <td>1686</td>\n",
       "      <td>8857</td>\n",
       "    </tr>\n",
       "    <tr>\n",
       "      <th>CLE*</th>\n",
       "      <td>2016-17</td>\n",
       "      <td>NBA</td>\n",
       "      <td>82</td>\n",
       "      <td>51</td>\n",
       "      <td>31</td>\n",
       "      <td>.622</td>\n",
       "      <td>19880</td>\n",
       "      <td>3275</td>\n",
       "      <td>6963</td>\n",
       "      <td>2208</td>\n",
       "      <td>...</td>\n",
       "      <td>1913</td>\n",
       "      <td>767</td>\n",
       "      <td>2822</td>\n",
       "      <td>3589</td>\n",
       "      <td>1858</td>\n",
       "      <td>540</td>\n",
       "      <td>329</td>\n",
       "      <td>1122</td>\n",
       "      <td>1486</td>\n",
       "      <td>9048</td>\n",
       "    </tr>\n",
       "    <tr>\n",
       "      <th>OKC*</th>\n",
       "      <td>2016-17</td>\n",
       "      <td>NBA</td>\n",
       "      <td>82</td>\n",
       "      <td>47</td>\n",
       "      <td>35</td>\n",
       "      <td>.573</td>\n",
       "      <td>19805</td>\n",
       "      <td>3237</td>\n",
       "      <td>7169</td>\n",
       "      <td>2545</td>\n",
       "      <td>...</td>\n",
       "      <td>2113</td>\n",
       "      <td>1002</td>\n",
       "      <td>2821</td>\n",
       "      <td>3823</td>\n",
       "      <td>1721</td>\n",
       "      <td>648</td>\n",
       "      <td>408</td>\n",
       "      <td>1230</td>\n",
       "      <td>1715</td>\n",
       "      <td>8741</td>\n",
       "    </tr>\n",
       "  </tbody>\n",
       "</table>\n",
       "<p>5 rows × 24 columns</p>\n",
       "</div>"
      ],
      "text/plain": [
       "       Season   Lg   G   W   L  W/L%     MP    FG   FGA    2P  ...    FTA  \\\n",
       "Tm                                                             ...          \n",
       "SAS*  2016-17  NBA  82  61  21  .744  19805  3222  6864  2469  ...   1806   \n",
       "HOU*  2016-17  NBA  82  55  27  .671  19780  3305  7152  2124  ...   2177   \n",
       "BOS*  2016-17  NBA  82  53  29  .646  19755  3168  6978  2183  ...   1903   \n",
       "CLE*  2016-17  NBA  82  51  31  .622  19880  3275  6963  2208  ...   1913   \n",
       "OKC*  2016-17  NBA  82  47  35  .573  19805  3237  7169  2545  ...   2113   \n",
       "\n",
       "       ORB   DRB   TRB   AST  STL  BLK   TOV    PF   PTS  \n",
       "Tm                                                        \n",
       "SAS*   822  2777  3599  1954  654  486  1101  1498  8637  \n",
       "HOU*   892  2747  3639  2070  670  351  1241  1634  9458  \n",
       "BOS*   744  2698  3442  2069  617  341  1088  1686  8857  \n",
       "CLE*   767  2822  3589  1858  540  329  1122  1486  9048  \n",
       "OKC*  1002  2821  3823  1721  648  408  1230  1715  8741  \n",
       "\n",
       "[5 rows x 24 columns]"
      ]
     },
     "execution_count": 60,
     "metadata": {},
     "output_type": "execute_result"
    }
   ],
   "source": [
    "Team"
   ]
  },
  {
   "cell_type": "code",
   "execution_count": 61,
   "metadata": {
    "collapsed": false
   },
   "outputs": [
    {
     "data": {
      "text/plain": [
       "'61'"
      ]
     },
     "execution_count": 61,
     "metadata": {},
     "output_type": "execute_result"
    }
   ],
   "source": [
    "Team['W']['SAS*']"
   ]
  },
  {
   "cell_type": "code",
   "execution_count": 62,
   "metadata": {
    "collapsed": false
   },
   "outputs": [],
   "source": [
    "Hou_wins = int((Team['W']['HOU*']))\n",
    "Harden_Wins = int(MVP['WS']['James Harden'])\n",
    "Harden_winpct = Harden_Wins/Hou_wins\n",
    "Harden_nonwin = 1 - Harden_winpct\n",
    "\n",
    "SAS_wins = int((Team['W']['SAS*']))\n",
    "Leo_Wins = int(MVP['WS']['Kawhi Leonard'])\n",
    "Leo_winpct = Leo_Wins/SAS_wins\n",
    "Leo_nonwin = 1 - Leo_winpct\n",
    "\n",
    "Cle_wins = int((Team['W']['CLE*']))\n",
    "LeBron_Wins = int(MVP['WS']['LeBron James'])\n",
    "LeBron_winpct = LeBron_Wins/Cle_wins\n",
    "LeBron_nonwin = 1 - LeBron_winpct\n",
    "\n",
    "OKC_wins = int((Team['W']['OKC*']))\n",
    "Westbrook_Wins = int(MVP['WS']['Russell Westbrook'])\n",
    "Westbrook_winpct = Westbrook_Wins/OKC_wins\n",
    "Westbrook_nonwin = 1 - Westbrook_winpct"
   ]
  },
  {
   "cell_type": "code",
   "execution_count": 63,
   "metadata": {
    "collapsed": false
   },
   "outputs": [],
   "source": [
    "df1 = ([Harden_winpct, Leo_winpct, LeBron_winpct, Westbrook_winpct])\n",
    "df2 = ([Harden_nonwin, Leo_nonwin, LeBron_nonwin, Westbrook_nonwin])"
   ]
  },
  {
   "cell_type": "code",
   "execution_count": 64,
   "metadata": {
    "collapsed": false
   },
   "outputs": [],
   "source": [
    "df3 = pd.DataFrame(df1)\n",
    "df4 = pd.DataFrame(df2)"
   ]
  },
  {
   "cell_type": "code",
   "execution_count": 65,
   "metadata": {
    "collapsed": false
   },
   "outputs": [],
   "source": [
    "Win_Share_Per = pd.concat([df3, df4], axis =1)"
   ]
  },
  {
   "cell_type": "code",
   "execution_count": 66,
   "metadata": {
    "collapsed": false
   },
   "outputs": [],
   "source": [
    "Win_Share_Per.columns = ['% Wins Accounted For', 'Rest of Team']\n",
    "Win_Share_Per = Win_Share_Per.T\n",
    "Win_Share_Per.columns = ['James Harden', 'Kawhi Leonard', 'LeBron James', 'Russell Westbrook']"
   ]
  },
  {
   "cell_type": "code",
   "execution_count": 67,
   "metadata": {
    "collapsed": true
   },
   "outputs": [],
   "source": [
    "pic1 = urllib.request.urlretrieve(\"http://stats.nba.com/media/players/230x185/201935.png\", \"201935.png\")\n",
    "pic2 = urllib.request.urlretrieve(\"http://stats.nba.com/media/players/230x185/202695.png\", \"202695.png\")\n",
    "pic3 = urllib.request.urlretrieve(\"http://stats.nba.com/media/players/230x185/2544.png\", \"2544.png\")\n",
    "pic4 = urllib.request.urlretrieve(\"http://stats.nba.com/media/players/230x185/201566.png\", \"201566.png\")\n",
    "pic5 = urllib.request.urlretrieve(\"https://upload.wikimedia.org/wikipedia/en/thumb/2/28/Houston_Rockets.svg/410px-Houston_Rockets.svg.png\", \"410px-Houston_Rockets.svg.png\")\n",
    "pic6 = urllib.request.urlretrieve(\"https://upload.wikimedia.org/wikipedia/en/thumb/a/a2/San_Antonio_Spurs.svg/512px-San_Antonio_Spurs.svg.png\", \"512px-San_Antonio_Spurs.svg.png\")\n",
    "pic7 = urllib.request.urlretrieve(\"https://upload.wikimedia.org/wikipedia/en/thumb/f/f7/Cleveland_Cavaliers_2010.svg/295px-Cleveland_Cavaliers_2010.svg.png\", \"295px-Cleveland_Cavaliers_2010.svg.png\")\n",
    "pic8 = urllib.request.urlretrieve(\"https://upload.wikimedia.org/wikipedia/en/thumb/5/5d/Oklahoma_City_Thunder.svg/250px-Oklahoma_City_Thunder.svg.png\", \"250px-Oklahoma_City_Thunder.svg.png\")"
   ]
  },
  {
   "cell_type": "code",
   "execution_count": 68,
   "metadata": {
    "collapsed": false
   },
   "outputs": [],
   "source": [
    "harden_pic = plt.imread(pic1[0])\n",
    "leonard_pic = plt.imread(pic2[0])\n",
    "james_pic = plt.imread(pic3[0])\n",
    "westbrook_pic = plt.imread(pic4[0])\n",
    "rockets_pic = plt.imread(pic5[0])\n",
    "spurs_pic = plt.imread(pic6[0])\n",
    "cavaliers_pic = plt.imread(pic7[0])\n",
    "thunder_pic = plt.imread(pic8[0])"
   ]
  },
  {
   "cell_type": "code",
   "execution_count": 69,
   "metadata": {
    "collapsed": false
   },
   "outputs": [
    {
     "data": {
      "image/png": "[encoded data removed]",
      "text/plain": [
       "<matplotlib.figure.Figure at 0x1a9abfda748>"
      ]
     },
     "metadata": {},
     "output_type": "display_data"
    }
   ],
   "source": [
    "fig, axes = plt.subplots(nrows = 2, ncols = 2, figsize = (12,12))\n",
    "Win_Share_Per['James Harden'].plot.pie(ax=axes[0,0], colors = ['r', 'yellow'])\n",
    "Win_Share_Per['Kawhi Leonard'].plot.pie(ax=axes[0,1], colors = ['black', 'silver'])\n",
    "Win_Share_Per['LeBron James'].plot.pie(ax=axes[1,0], colors = ['maroon', 'navy'])\n",
    "Win_Share_Per['Russell Westbrook'].plot.pie(ax=axes[1,1], colors = ['blue', 'orangered'])\n",
    "img1 = OffsetImage(harden_pic, zoom=0.4)\n",
    "img1.set_offset((290,800))\n",
    "a = axes[0,0].add_artist(img1)\n",
    "a.set_zorder(10)\n",
    "img2 = OffsetImage(leonard_pic, zoom=0.4)\n",
    "img2.set_offset((800,800))\n",
    "b= axes[0,1].add_artist(img2)\n",
    "b.set_zorder(10)\n",
    "img3 = OffsetImage(james_pic, zoom=0.4)\n",
    "img3.set_offset((290,290))\n",
    "c = axes[1,0].add_artist(img3)\n",
    "c.set_zorder(10)\n",
    "img4 = OffsetImage(westbrook_pic, zoom=0.4)\n",
    "img4.set_offset((790,290))\n",
    "d = axes[1,1].add_artist(img4)\n",
    "d.set_zorder(10)\n",
    "img5 = OffsetImage(rockets_pic, zoom=0.4)\n",
    "img5.set_offset((150,620))\n",
    "e = axes[1,1].add_artist(img5)\n",
    "e.set_zorder(10)\n",
    "img6 = OffsetImage(spurs_pic, zoom=0.3)\n",
    "img6.set_offset((650,620))\n",
    "f = axes[1,1].add_artist(img6)\n",
    "f.set_zorder(10)\n",
    "img7 = OffsetImage(cavaliers_pic, zoom=0.4)\n",
    "img7.set_offset((150,130))\n",
    "g = axes[1,1].add_artist(img7)\n",
    "g.set_zorder(10)\n",
    "img8 = OffsetImage(thunder_pic, zoom=0.4)\n",
    "img8.set_offset((650,130))\n",
    "h = axes[1,1].add_artist(img8)\n",
    "h.set_zorder(10)\n",
    "plt.show()"
   ]
  },
  {
   "cell_type": "markdown",
   "metadata": {},
   "source": [
    "This graphic is meant to demonstrate what percentage of a team's win the respective MVP canidates are responsible for. We did this by taking the win shares for each player, and then diving by the number of wins the team had this season. Considering the fact that an NBA team has a roster of 12-14 players, each of the canidates accounted for an extremely high percentage of the teams wins, anywhere from 20%-30%. We see that Russell Westbrook and James Harden, the two leading canidates, accounted for the highest percentage of wins for their team."
   ]
  },
  {
   "cell_type": "markdown",
   "metadata": {
    "collapsed": true
   },
   "source": [
    "## Conclusion\n",
    "\n",
    "The data we have observed confirms that all four of these players have had amazing seasons, each excelling in different ways. All these players have had MVP-caliber seasons in their own ways, but only one can win the award. We believe that Harden and Westbrook have separated themselves from the other two players in therms of their win share percentage, as well as value added over replacement. Choosing between Harden and Westbrook is difficult because they have both put up incredible numbers this year. They were very comprabable in terms of the basic statistics such as points, assists and rebound, as well as value added to the team, but what differentiates Harden is how he put up those numbers compared to Westbook. While both players have the ability to take over and control the game, Harden had a much lower usage percentage, meaning he was able to get his teammates involved more and able to put up similar numbers in a much more efficient manner. In addition, Harden's team won more games, and in the playoffs, Harden has been able to take his team further than Westbrook has. An MVP is a player who is a difference maker who can continually win games for his team, and we believe that James Harden did a better job of that this year."
   ]
  }
 ],
 "metadata": {
  "anaconda-cloud": {},
  "kernelspec": {
   "display_name": "Python [conda root]",
   "language": "python",
   "name": "conda-root-py"
  },
  "language_info": {
   "codemirror_mode": {
    "name": "ipython",
    "version": 3
   },
   "file_extension": ".py",
   "mimetype": "text/x-python",
   "name": "python",
   "nbconvert_exporter": "python",
   "pygments_lexer": "ipython3",
   "version": "3.5.2"
  }
 },
 "nbformat": 4,
 "nbformat_minor": 2
}
