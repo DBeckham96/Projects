{
 "cells": [
  {
   "cell_type": "markdown",
   "metadata": {},
   "source": [
    "# Skyscraper Index and Recession \n",
    "\n",
    "# Data Bootcamp Final Report\n",
    "\n",
    "## Zhenyu Chen (zc676) & Yue Zheng (yz3152)\n",
    "5/5/2017"
   ]
  },
  {
   "cell_type": "code",
   "execution_count": 1,
   "metadata": {
    "collapsed": true
   },
   "outputs": [],
   "source": [
    "%matplotlib inline                     \n",
    "\n",
    "import pandas as pd                    # data package\n",
    "import matplotlib.pyplot as plt        # graphics module  \n",
    "import datetime as dt                  # date and time module\n",
    "import numpy as np                     # foundation for Pandas\n",
    "import xlwt                            # package to create a new excel\n",
    "import seaborn as sns                  # package for better graph look\n",
    "import statsmodels.api as sm           # package for statical analysis \n",
    "import statsmodels.formula.api as smf  # package for statical analysis that specifying formula\n",
    "from patsy import dmatrices            # package for transforming matrix"
   ]
  },
  {
   "cell_type": "markdown",
   "metadata": {},
   "source": [
    "## 1. Project Overview "
   ]
  },
  {
   "cell_type": "markdown",
   "metadata": {},
   "source": [
    "### 1.1 Background and justification of the project\n",
    "Humans are ambitious of getting closer to the sky, so breaking the record of “the tallest\n",
    "skyscraper” seems to be a heated competition worldwide. For now, the winner goes to Burj\n",
    "Khalifa, a megatall skyscraper in Dubai.\n",
    "A whimsical concept called the **“skyscraper index”** proposed by Andrew Lawrence in 1999 has\n",
    "caught the attention of economists. According to Lawrence, “Business cycles and skyscraper\n",
    "construction correlate in such a way that investment in skyscrapers peaks when cyclical growth\n",
    "is exhausted and the economy is ready for recession”. For this project, we are interested in\n",
    "exploring the correlation between skyscraper construction and recession.\n",
    "Taking a step further to fulfill Lawrence’s idea, the Barclay Capital actually calculate their own skyscraper index and use it as an index for real estate and microeconomics analysis. \n",
    "\n",
    "Given that the Barclay Skyscraper Index is unreleased, we decide to organize the database of skyscraper index by ourselves, with information obtained from www.skyscraper.com and Penn World Table. By exploring the topics discussed in the following section, we want to find out answer for the big question: whether the skyscraper index is a good indicator for recession?...."
   ]
  },
  {
   "cell_type": "markdown",
   "metadata": {},
   "source": [
    "### 1.2 Objectives and Methods of the project\n",
    "The skyscrapercenter.com website contains useful information about the skyscrapers in the\n",
    "world, including building name, city and its country code, height, completed year, etc. We transfrom data in the website to excel since the dataset is in manageable size (Scrapping doesn't work out nicely in our case). At the same time, countries’ macro statistical numbers are easy to get (GDP, inflation, etc.). \n",
    "\n",
    "As introduced above, we would like to find out the correlations between the skyscraper data and macroeconomics data by graphing and doing data analysis. **For better presentation purpose, we mainly focus on country Japan. ** It is known that Japan had a recession period starting 1980s. Also, its record of skyscraper construction is complete and eaily to obtain. We assume that such strong recession in Japan will give more explanatory power to the “skyscraper theorem” if it holds. Of course, using our data, we can easily analyze other countires by changing the country code."
   ]
  },
  {
   "cell_type": "markdown",
   "metadata": {},
   "source": [
    "### 1.3  Expected results of the project\n",
    "We expect to see that the “skyscraper theorem” will hold during the recession period. Countries that built more skyscrapers may have more severe period of recession.\n",
    "\n",
    "By running through detailed topics, we expect to see that the skyscraper index has correlation\n",
    "with recession. However, whether the correlation implies strong predicting power for future\n",
    "recession needs further research."
   ]
  },
  {
   "cell_type": "markdown",
   "metadata": {},
   "source": [
    "# 2. Clean Data\n",
    "### 2.1 Clean the Skyscrapers Data\n",
    "The skyscrapers data comes from [Skyscraper Center](http://www.skyscrapercenter.com/). The website is written in JavaScript so that we cannot use the method we learned in class to scrap the data. We still tried to scrap it but we failed to do so. However, the website allows us to download the data in pdf format. We then manually copy and paste the data into the excel. The data is well tabulated so the process is actually not complicated."
   ]
  },
  {
   "cell_type": "code",
   "execution_count": 2,
   "metadata": {
    "collapsed": false
   },
   "outputs": [],
   "source": [
    "data_clean = 'C:\\\\Users\\\\lenovo\\\\Documents\\\\Data_Bootcamp\\\\Project\\\\data_clean.xlsx'"
   ]
  },
  {
   "cell_type": "code",
   "execution_count": 3,
   "metadata": {
    "collapsed": false
   },
   "outputs": [
    {
     "data": {
      "text/html": [
       "<div>\n",
       "<table border=\"1\" class=\"dataframe\">\n",
       "  <thead>\n",
       "    <tr style=\"text-align: right;\">\n",
       "      <th></th>\n",
       "      <th>Building Name</th>\n",
       "      <th>City</th>\n",
       "      <th>Country</th>\n",
       "      <th>Height</th>\n",
       "      <th>Floors</th>\n",
       "      <th>Completed</th>\n",
       "      <th>Material</th>\n",
       "      <th>Use</th>\n",
       "    </tr>\n",
       "  </thead>\n",
       "  <tbody>\n",
       "    <tr>\n",
       "      <th>0</th>\n",
       "      <td>Tokyo Sky Tree</td>\n",
       "      <td>Tokyo</td>\n",
       "      <td>Japan</td>\n",
       "      <td>634</td>\n",
       "      <td>-</td>\n",
       "      <td>2012</td>\n",
       "      <td>steel</td>\n",
       "      <td>telecommunications / observation</td>\n",
       "    </tr>\n",
       "    <tr>\n",
       "      <th>1</th>\n",
       "      <td>Tokyo Tower</td>\n",
       "      <td>Tokyo</td>\n",
       "      <td>Japan</td>\n",
       "      <td>333</td>\n",
       "      <td>-</td>\n",
       "      <td>1958</td>\n",
       "      <td>steel</td>\n",
       "      <td>telecommunications / observation</td>\n",
       "    </tr>\n",
       "    <tr>\n",
       "      <th>2</th>\n",
       "      <td>Abeno Harukas</td>\n",
       "      <td>Osaka</td>\n",
       "      <td>Japan</td>\n",
       "      <td>300</td>\n",
       "      <td>60</td>\n",
       "      <td>2014</td>\n",
       "      <td>steel</td>\n",
       "      <td>hotel / office / retail</td>\n",
       "    </tr>\n",
       "    <tr>\n",
       "      <th>3</th>\n",
       "      <td>Landmark Tower</td>\n",
       "      <td>Yokohama</td>\n",
       "      <td>Japan</td>\n",
       "      <td>296</td>\n",
       "      <td>73</td>\n",
       "      <td>1993</td>\n",
       "      <td>steel</td>\n",
       "      <td>hotel / office</td>\n",
       "    </tr>\n",
       "    <tr>\n",
       "      <th>4</th>\n",
       "      <td>Rinku Gate Tower</td>\n",
       "      <td>Izumisano</td>\n",
       "      <td>Japan</td>\n",
       "      <td>256</td>\n",
       "      <td>56</td>\n",
       "      <td>1996</td>\n",
       "      <td>concrete/steel</td>\n",
       "      <td>hotel / office</td>\n",
       "    </tr>\n",
       "  </tbody>\n",
       "</table>\n",
       "</div>"
      ],
      "text/plain": [
       "      Building Name       City Country  Height Floors  Completed  \\\n",
       "0    Tokyo Sky Tree      Tokyo   Japan     634      -       2012   \n",
       "1       Tokyo Tower      Tokyo   Japan     333      -       1958   \n",
       "2     Abeno Harukas      Osaka   Japan     300     60       2014   \n",
       "3    Landmark Tower   Yokohama   Japan     296     73       1993   \n",
       "4  Rinku Gate Tower  Izumisano   Japan     256     56       1996   \n",
       "\n",
       "         Material                               Use  \n",
       "0           steel  telecommunications / observation  \n",
       "1           steel  telecommunications / observation  \n",
       "2           steel           hotel / office / retail  \n",
       "3           steel                    hotel / office  \n",
       "4  concrete/steel                    hotel / office  "
      ]
     },
     "execution_count": 3,
     "metadata": {},
     "output_type": "execute_result"
    }
   ],
   "source": [
    "df1 = pd.read_excel(data_clean)\n",
    "df1.head()"
   ]
  },
  {
   "cell_type": "markdown",
   "metadata": {},
   "source": [
    "We want to know for each country, how many Skyscrapers were built in each year. We found a package called 'xlwt' which help us create a new excel file and clean the data more efficiently. By saving our output into a new excel, we do not need to re-run the code every time we open the jupyter notebook. "
   ]
  },
  {
   "cell_type": "code",
   "execution_count": 4,
   "metadata": {
    "collapsed": false,
    "scrolled": true
   },
   "outputs": [],
   "source": [
    "sheet_range = list(range(0, 5))           # There are 5 sheets in the file, and we convert the range into a list for future use.\n",
    "year_range = list(range(1909, 2018))      # The earliest skyscrapers data was built in 1909 in New York according to our data."
   ]
  },
  {
   "cell_type": "code",
   "execution_count": 5,
   "metadata": {
    "collapsed": false
   },
   "outputs": [],
   "source": [
    "# Create a new excel to record the counts, using the xlwt package.\n",
    "file = xlwt.Workbook() \n",
    "table = file.add_sheet('sheet_1', cell_overwrite_ok=True)\n",
    "\n",
    "# \"cell_overwrite_ok=True\" allows Python to overwrite the cells. In our practice we found it useful to prevent errors.\n",
    "\n",
    "# Set the column names for the new excel, using the function table.write(row, column, text).\n",
    "table.write(0, 0, 'Country')\n",
    "table.write(0, 1, 'Year')\n",
    "table.write(0, 2, 'Count')"
   ]
  },
  {
   "cell_type": "markdown",
   "metadata": {},
   "source": [
    "The skyscrapers data excel have 5 sheets, and each of them contains the skyscrapers data for a specific contury (Japan, Singarpore, China, US and UAE). The idea is that, we first go through all the 5 sheets, and within a sheet, we count the number of skyscrapers built in each year. By using the \"groupby\" function and boolean selection we could also achieve this. However, when we wrote those codes, those concepts were not introduced, so we used two loops to get the same result. The method works great so we decide to keep those codes. As we mentioned, we will focus on the Japanese data in this project, but we clean the data for all 5 countries in case of future use."
   ]
  },
  {
   "cell_type": "code",
   "execution_count": 6,
   "metadata": {
    "collapsed": false
   },
   "outputs": [
    {
     "name": "stdout",
     "output_type": "stream",
     "text": [
      "Japan 1909 0\n",
      "Japan 1910 0\n",
      "Japan 1911 0\n",
      "Japan 1912 0\n",
      "Japan 1913 0\n",
      "Japan 1914 0\n",
      "Japan 1915 0\n",
      "Japan 1916 0\n",
      "Japan 1917 0\n",
      "Japan 1918 0\n",
      "Japan 1919 0\n",
      "Japan 1920 0\n",
      "Japan 1921 0\n",
      "Japan 1922 0\n",
      "Japan 1923 0\n",
      "Japan 1924 0\n",
      "Japan 1925 0\n",
      "Japan 1926 0\n",
      "Japan 1927 0\n",
      "Japan 1928 0\n",
      "Japan 1929 0\n",
      "Japan 1930 0\n",
      "Japan 1931 0\n",
      "Japan 1932 0\n",
      "Japan 1933 0\n",
      "Japan 1934 0\n",
      "Japan 1935 0\n",
      "Japan 1936 0\n",
      "Japan 1937 0\n",
      "Japan 1938 0\n",
      "Japan 1939 0\n",
      "Japan 1940 0\n",
      "Japan 1941 0\n",
      "Japan 1942 0\n",
      "Japan 1943 0\n",
      "Japan 1944 0\n",
      "Japan 1945 0\n",
      "Japan 1946 0\n",
      "Japan 1947 0\n",
      "Japan 1948 0\n",
      "Japan 1949 0\n",
      "Japan 1950 0\n",
      "Japan 1951 0\n",
      "Japan 1952 0\n",
      "Japan 1953 0\n",
      "Japan 1954 1\n",
      "Japan 1955 0\n",
      "Japan 1956 0\n",
      "Japan 1957 0\n",
      "Japan 1958 1\n",
      "Japan 1959 0\n",
      "Japan 1960 0\n",
      "Japan 1961 1\n",
      "Japan 1962 0\n",
      "Japan 1963 1\n",
      "Japan 1964 1\n",
      "Japan 1965 1\n",
      "Japan 1966 0\n",
      "Japan 1967 0\n",
      "Japan 1968 1\n",
      "Japan 1969 0\n",
      "Japan 1970 2\n",
      "Japan 1971 2\n",
      "Japan 1972 0\n",
      "Japan 1973 0\n",
      "Japan 1974 6\n",
      "Japan 1975 1\n",
      "Japan 1976 2\n",
      "Japan 1977 1\n",
      "Japan 1978 2\n",
      "Japan 1979 1\n",
      "Japan 1980 5\n",
      "Japan 1981 0\n",
      "Japan 1982 1\n",
      "Japan 1983 3\n",
      "Japan 1984 2\n",
      "Japan 1985 0\n",
      "Japan 1986 7\n",
      "Japan 1987 0\n",
      "Japan 1988 3\n",
      "Japan 1989 9\n",
      "Japan 1990 7\n",
      "Japan 1991 8\n",
      "Japan 1992 7\n",
      "Japan 1993 13\n",
      "Japan 1994 14\n",
      "Japan 1995 10\n",
      "Japan 1996 11\n",
      "Japan 1997 12\n",
      "Japan 1998 10\n",
      "Japan 1999 10\n",
      "Japan 2000 21\n",
      "Japan 2001 9\n",
      "Japan 2002 17\n",
      "Japan 2003 40\n",
      "Japan 2004 22\n",
      "Japan 2005 15\n",
      "Japan 2006 16\n",
      "Japan 2007 39\n",
      "Japan 2008 29\n",
      "Japan 2009 30\n",
      "Japan 2010 19\n",
      "Japan 2011 13\n",
      "Japan 2012 18\n",
      "Japan 2013 14\n",
      "Japan 2014 12\n",
      "Japan 2015 15\n",
      "Japan 2016 14\n",
      "Japan 2017 1\n",
      "Singapore 1909 0\n",
      "Singapore 1910 0\n",
      "Singapore 1911 0\n",
      "Singapore 1912 0\n",
      "Singapore 1913 0\n",
      "Singapore 1914 0\n",
      "Singapore 1915 0\n",
      "Singapore 1916 0\n",
      "Singapore 1917 0\n",
      "Singapore 1918 0\n",
      "Singapore 1919 0\n",
      "Singapore 1920 0\n",
      "Singapore 1921 0\n",
      "Singapore 1922 0\n",
      "Singapore 1923 0\n",
      "Singapore 1924 0\n",
      "Singapore 1925 0\n",
      "Singapore 1926 0\n",
      "Singapore 1927 0\n",
      "Singapore 1928 0\n",
      "Singapore 1929 0\n",
      "Singapore 1930 0\n",
      "Singapore 1931 0\n",
      "Singapore 1932 0\n",
      "Singapore 1933 0\n",
      "Singapore 1934 0\n",
      "Singapore 1935 0\n",
      "Singapore 1936 0\n",
      "Singapore 1937 0\n",
      "Singapore 1938 0\n",
      "Singapore 1939 0\n",
      "Singapore 1940 0\n",
      "Singapore 1941 0\n",
      "Singapore 1942 0\n",
      "Singapore 1943 0\n",
      "Singapore 1944 0\n",
      "Singapore 1945 0\n",
      "Singapore 1946 0\n",
      "Singapore 1947 0\n",
      "Singapore 1948 0\n",
      "Singapore 1949 0\n",
      "Singapore 1950 0\n",
      "Singapore 1951 0\n",
      "Singapore 1952 0\n",
      "Singapore 1953 0\n",
      "Singapore 1954 0\n",
      "Singapore 1955 0\n",
      "Singapore 1956 0\n",
      "Singapore 1957 0\n",
      "Singapore 1958 0\n",
      "Singapore 1959 0\n",
      "Singapore 1960 0\n",
      "Singapore 1961 0\n",
      "Singapore 1962 0\n",
      "Singapore 1963 0\n",
      "Singapore 1964 0\n",
      "Singapore 1965 0\n",
      "Singapore 1966 0\n",
      "Singapore 1967 0\n",
      "Singapore 1968 0\n",
      "Singapore 1969 0\n",
      "Singapore 1970 0\n",
      "Singapore 1971 1\n",
      "Singapore 1972 0\n",
      "Singapore 1973 2\n",
      "Singapore 1974 3\n",
      "Singapore 1975 1\n",
      "Singapore 1976 5\n",
      "Singapore 1977 0\n",
      "Singapore 1978 0\n",
      "Singapore 1979 0\n",
      "Singapore 1980 2\n",
      "Singapore 1981 0\n",
      "Singapore 1982 1\n",
      "Singapore 1983 1\n",
      "Singapore 1984 0\n",
      "Singapore 1985 2\n",
      "Singapore 1986 7\n",
      "Singapore 1987 0\n",
      "Singapore 1988 0\n",
      "Singapore 1989 1\n",
      "Singapore 1990 3\n",
      "Singapore 1991 0\n",
      "Singapore 1992 1\n",
      "Singapore 1993 3\n",
      "Singapore 1994 1\n",
      "Singapore 1995 5\n",
      "Singapore 1996 4\n",
      "Singapore 1997 1\n",
      "Singapore 1998 1\n",
      "Singapore 1999 2\n",
      "Singapore 2000 2\n",
      "Singapore 2001 1\n",
      "Singapore 2002 3\n",
      "Singapore 2003 1\n",
      "Singapore 2004 2\n",
      "Singapore 2005 4\n",
      "Singapore 2006 2\n",
      "Singapore 2007 5\n",
      "Singapore 2008 7\n",
      "Singapore 2009 14\n",
      "Singapore 2010 8\n",
      "Singapore 2011 19\n",
      "Singapore 2012 8\n",
      "Singapore 2013 29\n",
      "Singapore 2014 19\n",
      "Singapore 2015 15\n",
      "Singapore 2016 3\n",
      "Singapore 2017 0\n",
      "China 1909 0\n",
      "China 1910 0\n",
      "China 1911 0\n",
      "China 1912 0\n",
      "China 1913 0\n",
      "China 1914 0\n",
      "China 1915 0\n",
      "China 1916 0\n",
      "China 1917 0\n",
      "China 1918 0\n",
      "China 1919 0\n",
      "China 1920 0\n",
      "China 1921 0\n",
      "China 1922 0\n",
      "China 1923 0\n",
      "China 1924 0\n",
      "China 1925 0\n",
      "China 1926 0\n",
      "China 1927 0\n",
      "China 1928 0\n",
      "China 1929 0\n",
      "China 1930 0\n",
      "China 1931 0\n",
      "China 1932 0\n",
      "China 1933 0\n",
      "China 1934 0\n",
      "China 1935 0\n",
      "China 1936 0\n",
      "China 1937 0\n",
      "China 1938 0\n",
      "China 1939 0\n",
      "China 1940 0\n",
      "China 1941 0\n",
      "China 1942 0\n",
      "China 1943 0\n",
      "China 1944 0\n",
      "China 1945 0\n",
      "China 1946 0\n",
      "China 1947 0\n",
      "China 1948 0\n",
      "China 1949 0\n",
      "China 1950 0\n",
      "China 1951 0\n",
      "China 1952 0\n",
      "China 1953 0\n",
      "China 1954 0\n",
      "China 1955 0\n",
      "China 1956 0\n",
      "China 1957 0\n",
      "China 1958 0\n",
      "China 1959 0\n",
      "China 1960 0\n",
      "China 1961 0\n",
      "China 1962 0\n",
      "China 1963 0\n",
      "China 1964 0\n",
      "China 1965 0\n",
      "China 1966 0\n",
      "China 1967 0\n",
      "China 1968 0\n",
      "China 1969 0\n",
      "China 1970 0\n",
      "China 1971 0\n",
      "China 1972 0\n",
      "China 1973 0\n",
      "China 1974 0\n",
      "China 1975 0\n",
      "China 1976 0\n",
      "China 1977 0\n",
      "China 1978 0\n",
      "China 1979 0\n",
      "China 1980 0\n",
      "China 1981 1\n",
      "China 1982 0\n",
      "China 1983 0\n",
      "China 1984 1\n",
      "China 1985 0\n",
      "China 1986 1\n",
      "China 1987 0\n",
      "China 1988 0\n",
      "China 1989 1\n",
      "China 1990 3\n",
      "China 1991 3\n",
      "China 1992 4\n",
      "China 1993 1\n",
      "China 1994 2\n",
      "China 1995 3\n",
      "China 1996 6\n",
      "China 1997 6\n",
      "China 1998 13\n",
      "China 1999 6\n",
      "China 2000 13\n",
      "China 2001 15\n",
      "China 2002 6\n",
      "China 2003 20\n",
      "China 2004 9\n",
      "China 2005 20\n",
      "China 2006 13\n",
      "China 2007 13\n",
      "China 2008 15\n",
      "China 2009 22\n",
      "China 2010 27\n",
      "China 2011 20\n",
      "China 2012 20\n",
      "China 2013 34\n",
      "China 2014 57\n",
      "China 2015 62\n",
      "China 2016 78\n",
      "China 2017 5\n",
      "US 1909 1\n",
      "US 1910 0\n",
      "US 1911 0\n",
      "US 1912 1\n",
      "US 1913 1\n",
      "US 1914 1\n",
      "US 1915 1\n",
      "US 1916 0\n",
      "US 1917 0\n",
      "US 1918 0\n",
      "US 1919 0\n",
      "US 1920 0\n",
      "US 1921 0\n",
      "US 1922 0\n",
      "US 1923 0\n",
      "US 1924 1\n",
      "US 1925 0\n",
      "US 1926 1\n",
      "US 1927 4\n",
      "US 1928 5\n",
      "US 1929 4\n",
      "US 1930 4\n",
      "US 1931 8\n",
      "US 1932 4\n",
      "US 1933 1\n",
      "US 1934 0\n",
      "US 1935 0\n",
      "US 1936 1\n",
      "US 1937 0\n",
      "US 1938 0\n",
      "US 1939 1\n",
      "US 1940 0\n",
      "US 1941 0\n",
      "US 1942 0\n",
      "US 1943 0\n",
      "US 1944 0\n",
      "US 1945 0\n",
      "US 1946 0\n",
      "US 1947 0\n",
      "US 1948 0\n",
      "US 1949 0\n",
      "US 1950 0\n",
      "US 1951 0\n",
      "US 1952 0\n",
      "US 1953 0\n",
      "US 1954 1\n",
      "US 1955 1\n",
      "US 1956 1\n",
      "US 1957 0\n",
      "US 1958 0\n",
      "US 1959 2\n",
      "US 1960 2\n",
      "US 1961 1\n",
      "US 1962 3\n",
      "US 1963 6\n",
      "US 1964 7\n",
      "US 1965 2\n",
      "US 1966 1\n",
      "US 1967 7\n",
      "US 1968 3\n",
      "US 1969 7\n",
      "US 1970 8\n",
      "US 1971 7\n",
      "US 1972 13\n",
      "US 1973 11\n",
      "US 1974 10\n",
      "US 1975 9\n",
      "US 1976 6\n",
      "US 1977 2\n",
      "US 1978 3\n",
      "US 1979 2\n",
      "US 1980 3\n",
      "US 1981 6\n",
      "US 1982 12\n",
      "US 1983 23\n",
      "US 1984 15\n",
      "US 1985 15\n",
      "US 1986 14\n",
      "US 1987 13\n",
      "US 1988 11\n",
      "US 1989 13\n",
      "US 1990 17\n",
      "US 1991 12\n",
      "US 1992 17\n",
      "US 1993 2\n",
      "US 1994 2\n",
      "US 1995 0\n",
      "US 1996 2\n",
      "US 1997 0\n",
      "US 1998 3\n",
      "US 1999 2\n",
      "US 2000 5\n",
      "US 2001 6\n",
      "US 2002 7\n",
      "US 2003 10\n",
      "US 2004 7\n",
      "US 2005 7\n",
      "US 2006 5\n",
      "US 2007 12\n",
      "US 2008 18\n",
      "US 2009 25\n",
      "US 2010 16\n",
      "US 2011 6\n",
      "US 2012 2\n",
      "US 2013 6\n",
      "US 2014 7\n",
      "US 2015 8\n",
      "US 2016 11\n",
      "US 2017 6\n",
      "UAE 1909 0\n",
      "UAE 1910 0\n",
      "UAE 1911 0\n",
      "UAE 1912 0\n",
      "UAE 1913 0\n",
      "UAE 1914 0\n",
      "UAE 1915 0\n",
      "UAE 1916 0\n",
      "UAE 1917 0\n",
      "UAE 1918 0\n",
      "UAE 1919 0\n",
      "UAE 1920 0\n",
      "UAE 1921 0\n",
      "UAE 1922 0\n",
      "UAE 1923 0\n",
      "UAE 1924 0\n",
      "UAE 1925 0\n",
      "UAE 1926 0\n",
      "UAE 1927 0\n",
      "UAE 1928 0\n",
      "UAE 1929 0\n",
      "UAE 1930 0\n",
      "UAE 1931 0\n",
      "UAE 1932 0\n",
      "UAE 1933 0\n",
      "UAE 1934 0\n",
      "UAE 1935 0\n",
      "UAE 1936 0\n",
      "UAE 1937 0\n",
      "UAE 1938 0\n",
      "UAE 1939 0\n",
      "UAE 1940 0\n",
      "UAE 1941 0\n",
      "UAE 1942 0\n",
      "UAE 1943 0\n",
      "UAE 1944 0\n",
      "UAE 1945 0\n",
      "UAE 1946 0\n",
      "UAE 1947 0\n",
      "UAE 1948 0\n",
      "UAE 1949 0\n",
      "UAE 1950 0\n",
      "UAE 1951 0\n",
      "UAE 1952 0\n",
      "UAE 1953 0\n",
      "UAE 1954 0\n",
      "UAE 1955 0\n",
      "UAE 1956 0\n",
      "UAE 1957 0\n",
      "UAE 1958 0\n",
      "UAE 1959 0\n",
      "UAE 1960 0\n",
      "UAE 1961 0\n",
      "UAE 1962 0\n",
      "UAE 1963 0\n",
      "UAE 1964 0\n",
      "UAE 1965 0\n",
      "UAE 1966 0\n",
      "UAE 1967 0\n",
      "UAE 1968 0\n",
      "UAE 1969 0\n",
      "UAE 1970 0\n",
      "UAE 1971 0\n",
      "UAE 1972 0\n",
      "UAE 1973 0\n",
      "UAE 1974 0\n",
      "UAE 1975 0\n",
      "UAE 1976 0\n",
      "UAE 1977 0\n",
      "UAE 1978 0\n",
      "UAE 1979 1\n",
      "UAE 1980 1\n",
      "UAE 1981 0\n",
      "UAE 1982 0\n",
      "UAE 1983 0\n",
      "UAE 1984 0\n",
      "UAE 1985 0\n",
      "UAE 1986 0\n",
      "UAE 1987 0\n",
      "UAE 1988 0\n",
      "UAE 1989 0\n",
      "UAE 1990 0\n",
      "UAE 1991 0\n",
      "UAE 1992 1\n",
      "UAE 1993 1\n",
      "UAE 1994 1\n",
      "UAE 1995 2\n",
      "UAE 1996 0\n",
      "UAE 1997 2\n",
      "UAE 1998 5\n",
      "UAE 1999 2\n",
      "UAE 2000 4\n",
      "UAE 2001 6\n",
      "UAE 2002 4\n",
      "UAE 2003 9\n",
      "UAE 2004 3\n",
      "UAE 2005 4\n",
      "UAE 2006 21\n",
      "UAE 2007 48\n",
      "UAE 2008 45\n",
      "UAE 2009 43\n",
      "UAE 2010 38\n",
      "UAE 2011 49\n",
      "UAE 2012 24\n",
      "UAE 2013 24\n",
      "UAE 2014 21\n",
      "UAE 2015 22\n",
      "UAE 2016 9\n",
      "UAE 2017 1\n"
     ]
    }
   ],
   "source": [
    "row = 1\n",
    "for sheetnumber in sheet_range:\n",
    "    df1 = pd.read_excel(data_clean, sheetname=sheetnumber) # Read a sheet, from the first one to the fifth.\n",
    "    country = df1.iat[1, 2]                                # Get the country name by reading the specific value in cell (2, 3).\n",
    "    for year in year_range:\n",
    "        Years = [year]\n",
    "        year_data = df1[df1['Completed'].isin(Years)] # Group all the skyscrapers that were built in the same year.\n",
    "        count = len(year_data.index)                  # Count how many skyscrapers were built in each year group, using the length of the index.\n",
    "        print(country, year, count)                   # To show the result and check if the results are correct.\n",
    "        table.write(row, 0, country)                  # Record the county, year and count data in the new excel we created.\n",
    "        table.write(row, 1, year)\n",
    "        table.write(row, 2, count)\n",
    "        row += 1\n",
    "    file.save('year_count_data.xls')                  \n",
    "    # Save the file. Next time we can directly use the data from this excel without re-running all the code again."
   ]
  },
  {
   "cell_type": "markdown",
   "metadata": {
    "collapsed": true
   },
   "source": [
    "### 2.2 Clean the PWT90 Data"
   ]
  },
  {
   "cell_type": "markdown",
   "metadata": {},
   "source": [
    "The GDP data comes from Penn World Table. Here we clean the data for Japan as an example. For other countries, it is easy to repeat the same process by changing the country code."
   ]
  },
  {
   "cell_type": "code",
   "execution_count": 7,
   "metadata": {
    "collapsed": false
   },
   "outputs": [],
   "source": [
    "url = \"http://www.rug.nl/ggdc/docs/pwt90.xlsx\"    # The url link from PWT\n",
    "pwt = pd.read_excel(url, sheetname='Data',        # Use data from the sheet named 'Data'\n",
    "                   parse_cols=[0,1,2,3,4])        # Extarct the 1-5 collums of the data"
   ]
  },
  {
   "cell_type": "code",
   "execution_count": 8,
   "metadata": {
    "collapsed": false,
    "scrolled": true
   },
   "outputs": [
    {
     "data": {
      "text/html": [
       "<div>\n",
       "<table border=\"1\" class=\"dataframe\">\n",
       "  <thead>\n",
       "    <tr style=\"text-align: right;\">\n",
       "      <th></th>\n",
       "      <th>countrycode</th>\n",
       "      <th>country</th>\n",
       "      <th>currency_unit</th>\n",
       "      <th>year</th>\n",
       "      <th>rgdpe</th>\n",
       "    </tr>\n",
       "  </thead>\n",
       "  <tbody>\n",
       "    <tr>\n",
       "      <th>0</th>\n",
       "      <td>ABW</td>\n",
       "      <td>Aruba</td>\n",
       "      <td>Aruban Guilder</td>\n",
       "      <td>1950</td>\n",
       "      <td>NaN</td>\n",
       "    </tr>\n",
       "    <tr>\n",
       "      <th>1</th>\n",
       "      <td>ABW</td>\n",
       "      <td>Aruba</td>\n",
       "      <td>Aruban Guilder</td>\n",
       "      <td>1951</td>\n",
       "      <td>NaN</td>\n",
       "    </tr>\n",
       "    <tr>\n",
       "      <th>2</th>\n",
       "      <td>ABW</td>\n",
       "      <td>Aruba</td>\n",
       "      <td>Aruban Guilder</td>\n",
       "      <td>1952</td>\n",
       "      <td>NaN</td>\n",
       "    </tr>\n",
       "    <tr>\n",
       "      <th>3</th>\n",
       "      <td>ABW</td>\n",
       "      <td>Aruba</td>\n",
       "      <td>Aruban Guilder</td>\n",
       "      <td>1953</td>\n",
       "      <td>NaN</td>\n",
       "    </tr>\n",
       "    <tr>\n",
       "      <th>4</th>\n",
       "      <td>ABW</td>\n",
       "      <td>Aruba</td>\n",
       "      <td>Aruban Guilder</td>\n",
       "      <td>1954</td>\n",
       "      <td>NaN</td>\n",
       "    </tr>\n",
       "  </tbody>\n",
       "</table>\n",
       "</div>"
      ],
      "text/plain": [
       "  countrycode country   currency_unit  year  rgdpe\n",
       "0         ABW   Aruba  Aruban Guilder  1950    NaN\n",
       "1         ABW   Aruba  Aruban Guilder  1951    NaN\n",
       "2         ABW   Aruba  Aruban Guilder  1952    NaN\n",
       "3         ABW   Aruba  Aruban Guilder  1953    NaN\n",
       "4         ABW   Aruba  Aruban Guilder  1954    NaN"
      ]
     },
     "execution_count": 8,
     "metadata": {},
     "output_type": "execute_result"
    }
   ],
   "source": [
    "pwt.head()"
   ]
  },
  {
   "cell_type": "markdown",
   "metadata": {},
   "source": [
    "So now we hava a data that contans information of countrycode, country name, curreny_unit, year and real GDP."
   ]
  },
  {
   "cell_type": "code",
   "execution_count": 9,
   "metadata": {
    "collapsed": false
   },
   "outputs": [
    {
     "data": {
      "text/html": [
       "<div>\n",
       "<table border=\"1\" class=\"dataframe\">\n",
       "  <thead>\n",
       "    <tr style=\"text-align: right;\">\n",
       "      <th></th>\n",
       "      <th>countrycode</th>\n",
       "      <th>country</th>\n",
       "      <th>currency_unit</th>\n",
       "      <th>year</th>\n",
       "      <th>rgdpe</th>\n",
       "    </tr>\n",
       "  </thead>\n",
       "  <tbody>\n",
       "    <tr>\n",
       "      <th>5610</th>\n",
       "      <td>JPN</td>\n",
       "      <td>Japan</td>\n",
       "      <td>Yen</td>\n",
       "      <td>1970</td>\n",
       "      <td>1343607.75</td>\n",
       "    </tr>\n",
       "    <tr>\n",
       "      <th>5611</th>\n",
       "      <td>JPN</td>\n",
       "      <td>Japan</td>\n",
       "      <td>Yen</td>\n",
       "      <td>1971</td>\n",
       "      <td>1430099.75</td>\n",
       "    </tr>\n",
       "    <tr>\n",
       "      <th>5612</th>\n",
       "      <td>JPN</td>\n",
       "      <td>Japan</td>\n",
       "      <td>Yen</td>\n",
       "      <td>1972</td>\n",
       "      <td>1562533.00</td>\n",
       "    </tr>\n",
       "    <tr>\n",
       "      <th>5613</th>\n",
       "      <td>JPN</td>\n",
       "      <td>Japan</td>\n",
       "      <td>Yen</td>\n",
       "      <td>1973</td>\n",
       "      <td>1687001.75</td>\n",
       "    </tr>\n",
       "    <tr>\n",
       "      <th>5614</th>\n",
       "      <td>JPN</td>\n",
       "      <td>Japan</td>\n",
       "      <td>Yen</td>\n",
       "      <td>1974</td>\n",
       "      <td>1640737.00</td>\n",
       "    </tr>\n",
       "  </tbody>\n",
       "</table>\n",
       "</div>"
      ],
      "text/plain": [
       "     countrycode country currency_unit  year       rgdpe\n",
       "5610         JPN   Japan           Yen  1970  1343607.75\n",
       "5611         JPN   Japan           Yen  1971  1430099.75\n",
       "5612         JPN   Japan           Yen  1972  1562533.00\n",
       "5613         JPN   Japan           Yen  1973  1687001.75\n",
       "5614         JPN   Japan           Yen  1974  1640737.00"
      ]
     },
     "execution_count": 9,
     "metadata": {},
     "output_type": "execute_result"
    }
   ],
   "source": [
    "pwt1=pwt.loc[pwt['countrycode'] == ('JPN')]         # Extract data of Japan by using boolean\n",
    "pwt2=pwt1.loc[pwt1['year'].isin(range(1970,2017))]  # Change the year range, from 1970 to 2016\n",
    "pwt2.head()"
   ]
  },
  {
   "cell_type": "markdown",
   "metadata": {},
   "source": [
    "We further extract information of Japan by setting boolean statement, and set year to range from 1970 to 1974. The number of skyscrapers built in each year is an annual change, so it makes more sense to compare it with the annual change of GDP, which is the GDP growth rate. See section 2.3，2.4 for calculation of GDP growth rate and combinaiton of data."
   ]
  },
  {
   "cell_type": "markdown",
   "metadata": {
    "collapsed": true
   },
   "source": [
    "### 2.3 Combine the Two Data Set"
   ]
  },
  {
   "cell_type": "markdown",
   "metadata": {},
   "source": [
    "Again, we use Japan as an example to combine the skyscrapers data and the GDP data into one data set."
   ]
  },
  {
   "cell_type": "code",
   "execution_count": 10,
   "metadata": {
    "collapsed": false
   },
   "outputs": [
    {
     "data": {
      "text/html": [
       "<div>\n",
       "<table border=\"1\" class=\"dataframe\">\n",
       "  <thead>\n",
       "    <tr style=\"text-align: right;\">\n",
       "      <th></th>\n",
       "      <th>Country</th>\n",
       "      <th>Year</th>\n",
       "      <th>Count</th>\n",
       "    </tr>\n",
       "  </thead>\n",
       "  <tbody>\n",
       "    <tr>\n",
       "      <th>0</th>\n",
       "      <td>Japan</td>\n",
       "      <td>1909</td>\n",
       "      <td>0</td>\n",
       "    </tr>\n",
       "    <tr>\n",
       "      <th>1</th>\n",
       "      <td>Japan</td>\n",
       "      <td>1910</td>\n",
       "      <td>0</td>\n",
       "    </tr>\n",
       "    <tr>\n",
       "      <th>2</th>\n",
       "      <td>Japan</td>\n",
       "      <td>1911</td>\n",
       "      <td>0</td>\n",
       "    </tr>\n",
       "    <tr>\n",
       "      <th>3</th>\n",
       "      <td>Japan</td>\n",
       "      <td>1912</td>\n",
       "      <td>0</td>\n",
       "    </tr>\n",
       "    <tr>\n",
       "      <th>4</th>\n",
       "      <td>Japan</td>\n",
       "      <td>1913</td>\n",
       "      <td>0</td>\n",
       "    </tr>\n",
       "  </tbody>\n",
       "</table>\n",
       "</div>"
      ],
      "text/plain": [
       "  Country  Year  Count\n",
       "0   Japan  1909      0\n",
       "1   Japan  1910      0\n",
       "2   Japan  1911      0\n",
       "3   Japan  1912      0\n",
       "4   Japan  1913      0"
      ]
     },
     "execution_count": 10,
     "metadata": {},
     "output_type": "execute_result"
    }
   ],
   "source": [
    "year_count_data = 'C:\\\\Users\\\\lenovo\\\\Documents\\\\Data_Bootcamp\\\\Project\\\\year_count_data.xls'\n",
    "df2 = pd.read_excel(year_count_data)\n",
    "df2.head()"
   ]
  },
  {
   "cell_type": "code",
   "execution_count": 11,
   "metadata": {
    "collapsed": false,
    "scrolled": true
   },
   "outputs": [
    {
     "data": {
      "text/html": [
       "<div>\n",
       "<table border=\"1\" class=\"dataframe\">\n",
       "  <thead>\n",
       "    <tr style=\"text-align: right;\">\n",
       "      <th></th>\n",
       "      <th>Country</th>\n",
       "      <th>Year</th>\n",
       "      <th>Count</th>\n",
       "      <th>countrycode</th>\n",
       "      <th>country</th>\n",
       "      <th>currency_unit</th>\n",
       "      <th>year</th>\n",
       "      <th>GDP</th>\n",
       "    </tr>\n",
       "  </thead>\n",
       "  <tbody>\n",
       "    <tr>\n",
       "      <th>104</th>\n",
       "      <td>Japan</td>\n",
       "      <td>2013</td>\n",
       "      <td>14</td>\n",
       "      <td>JPN</td>\n",
       "      <td>Japan</td>\n",
       "      <td>Yen</td>\n",
       "      <td>2013.0</td>\n",
       "      <td>4497593.5</td>\n",
       "    </tr>\n",
       "    <tr>\n",
       "      <th>105</th>\n",
       "      <td>Japan</td>\n",
       "      <td>2014</td>\n",
       "      <td>12</td>\n",
       "      <td>JPN</td>\n",
       "      <td>Japan</td>\n",
       "      <td>Yen</td>\n",
       "      <td>2014.0</td>\n",
       "      <td>4483260.5</td>\n",
       "    </tr>\n",
       "    <tr>\n",
       "      <th>106</th>\n",
       "      <td>Japan</td>\n",
       "      <td>2015</td>\n",
       "      <td>15</td>\n",
       "      <td>NaN</td>\n",
       "      <td>NaN</td>\n",
       "      <td>NaN</td>\n",
       "      <td>NaN</td>\n",
       "      <td>NaN</td>\n",
       "    </tr>\n",
       "    <tr>\n",
       "      <th>107</th>\n",
       "      <td>Japan</td>\n",
       "      <td>2016</td>\n",
       "      <td>14</td>\n",
       "      <td>NaN</td>\n",
       "      <td>NaN</td>\n",
       "      <td>NaN</td>\n",
       "      <td>NaN</td>\n",
       "      <td>NaN</td>\n",
       "    </tr>\n",
       "    <tr>\n",
       "      <th>108</th>\n",
       "      <td>Japan</td>\n",
       "      <td>2017</td>\n",
       "      <td>1</td>\n",
       "      <td>NaN</td>\n",
       "      <td>NaN</td>\n",
       "      <td>NaN</td>\n",
       "      <td>NaN</td>\n",
       "      <td>NaN</td>\n",
       "    </tr>\n",
       "  </tbody>\n",
       "</table>\n",
       "</div>"
      ],
      "text/plain": [
       "    Country  Year  Count countrycode country currency_unit    year        GDP\n",
       "104   Japan  2013     14         JPN   Japan           Yen  2013.0  4497593.5\n",
       "105   Japan  2014     12         JPN   Japan           Yen  2014.0  4483260.5\n",
       "106   Japan  2015     15         NaN     NaN           NaN     NaN        NaN\n",
       "107   Japan  2016     14         NaN     NaN           NaN     NaN        NaN\n",
       "108   Japan  2017      1         NaN     NaN           NaN     NaN        NaN"
      ]
     },
     "execution_count": 11,
     "metadata": {},
     "output_type": "execute_result"
    }
   ],
   "source": [
    "df_JPN = df2[df2['Country']=='Japan']\n",
    "combo_1 = df_JPN.merge(pwt2, how='left', left_on='Year', right_on='year')\n",
    "combo_1 = combo_1.rename(columns={'rgdpe':'GDP'})\n",
    "combo_1.tail()"
   ]
  },
  {
   "cell_type": "code",
   "execution_count": 12,
   "metadata": {
    "collapsed": false,
    "scrolled": true
   },
   "outputs": [
    {
     "data": {
      "text/html": [
       "<div>\n",
       "<table border=\"1\" class=\"dataframe\">\n",
       "  <thead>\n",
       "    <tr style=\"text-align: right;\">\n",
       "      <th></th>\n",
       "      <th>Country</th>\n",
       "      <th>Year</th>\n",
       "      <th>Count</th>\n",
       "      <th>GDP</th>\n",
       "      <th>currency_unit</th>\n",
       "    </tr>\n",
       "  </thead>\n",
       "  <tbody>\n",
       "    <tr>\n",
       "      <th>104</th>\n",
       "      <td>Japan</td>\n",
       "      <td>2013</td>\n",
       "      <td>14</td>\n",
       "      <td>4497593.5</td>\n",
       "      <td>Yen</td>\n",
       "    </tr>\n",
       "    <tr>\n",
       "      <th>105</th>\n",
       "      <td>Japan</td>\n",
       "      <td>2014</td>\n",
       "      <td>12</td>\n",
       "      <td>4483260.5</td>\n",
       "      <td>Yen</td>\n",
       "    </tr>\n",
       "    <tr>\n",
       "      <th>106</th>\n",
       "      <td>Japan</td>\n",
       "      <td>2015</td>\n",
       "      <td>15</td>\n",
       "      <td>NaN</td>\n",
       "      <td>NaN</td>\n",
       "    </tr>\n",
       "    <tr>\n",
       "      <th>107</th>\n",
       "      <td>Japan</td>\n",
       "      <td>2016</td>\n",
       "      <td>14</td>\n",
       "      <td>NaN</td>\n",
       "      <td>NaN</td>\n",
       "    </tr>\n",
       "    <tr>\n",
       "      <th>108</th>\n",
       "      <td>Japan</td>\n",
       "      <td>2017</td>\n",
       "      <td>1</td>\n",
       "      <td>NaN</td>\n",
       "      <td>NaN</td>\n",
       "    </tr>\n",
       "  </tbody>\n",
       "</table>\n",
       "</div>"
      ],
      "text/plain": [
       "    Country  Year  Count        GDP currency_unit\n",
       "104   Japan  2013     14  4497593.5           Yen\n",
       "105   Japan  2014     12  4483260.5           Yen\n",
       "106   Japan  2015     15        NaN           NaN\n",
       "107   Japan  2016     14        NaN           NaN\n",
       "108   Japan  2017      1        NaN           NaN"
      ]
     },
     "execution_count": 12,
     "metadata": {},
     "output_type": "execute_result"
    }
   ],
   "source": [
    "combo_JPN = combo_1[['Country', 'Year', 'Count', 'GDP', 'currency_unit']]\n",
    "combo_JPN.tail()"
   ]
  },
  {
   "cell_type": "markdown",
   "metadata": {},
   "source": [
    "There is an error saying that \"A value is trying to be set on a copy of a slice from a DataFrame\" and there is a better way to do it. However, the current method works well. So far we get the clean data we need to continue our project. "
   ]
  },
  {
   "cell_type": "markdown",
   "metadata": {},
   "source": [
    "### 2.4 Calculate GDP Growth from PWT90"
   ]
  },
  {
   "cell_type": "markdown",
   "metadata": {},
   "source": [
    "Since we have the cleaned PWT90 data, we can calculate GDP growth by dividing a year's GDP by the previous year's GDP and minus 1. The loop gives us a list. We have to convert it into a series in order to concat it with dataframes."
   ]
  },
  {
   "cell_type": "code",
   "execution_count": 13,
   "metadata": {
    "collapsed": false,
    "scrolled": true
   },
   "outputs": [],
   "source": [
    "i = 0\n",
    "GDP_growth = []\n",
    "\n",
    "for i in range(0, 109):\n",
    "    if i == 0:\n",
    "        c = 0  # set 0 as our first year's GDP growth since we do not have previous year's information. We are not likely to use the first year's GDP growth anyways.\n",
    "        GDP_growth.append(c)\n",
    "    else:\n",
    "        a = combo_JPN.loc[i-1, 'GDP']\n",
    "        b = combo_JPN.loc[i, 'GDP']\n",
    "        c = b/a-1\n",
    "        GDP_growth.append(c)\n",
    "        i += 1\n",
    "    \n",
    "GDP_growth = pd.Series(GDP_growth)"
   ]
  },
  {
   "cell_type": "code",
   "execution_count": 14,
   "metadata": {
    "collapsed": false
   },
   "outputs": [
    {
     "data": {
      "text/plain": [
       "104    0.010385\n",
       "105   -0.003187\n",
       "106         NaN\n",
       "107         NaN\n",
       "108         NaN\n",
       "dtype: float64"
      ]
     },
     "execution_count": 14,
     "metadata": {},
     "output_type": "execute_result"
    }
   ],
   "source": [
    "GDP_growth.tail()"
   ]
  },
  {
   "cell_type": "markdown",
   "metadata": {},
   "source": [
    "Combine the GDP_growth series and the combo_JPN dataframe together."
   ]
  },
  {
   "cell_type": "code",
   "execution_count": 15,
   "metadata": {
    "collapsed": false,
    "scrolled": true
   },
   "outputs": [],
   "source": [
    "combo_JPN = pd.concat([combo_JPN, GDP_growth], axis=1, join_axes=[combo_JPN.index])"
   ]
  },
  {
   "cell_type": "code",
   "execution_count": 16,
   "metadata": {
    "collapsed": false
   },
   "outputs": [
    {
     "data": {
      "text/html": [
       "<div>\n",
       "<table border=\"1\" class=\"dataframe\">\n",
       "  <thead>\n",
       "    <tr style=\"text-align: right;\">\n",
       "      <th></th>\n",
       "      <th>Country</th>\n",
       "      <th>Count</th>\n",
       "      <th>GDP</th>\n",
       "      <th>currency_unit</th>\n",
       "      <th>GDP_growth</th>\n",
       "    </tr>\n",
       "    <tr>\n",
       "      <th>Year</th>\n",
       "      <th></th>\n",
       "      <th></th>\n",
       "      <th></th>\n",
       "      <th></th>\n",
       "      <th></th>\n",
       "    </tr>\n",
       "  </thead>\n",
       "  <tbody>\n",
       "    <tr>\n",
       "      <th>2013</th>\n",
       "      <td>Japan</td>\n",
       "      <td>14</td>\n",
       "      <td>4497593.5</td>\n",
       "      <td>Yen</td>\n",
       "      <td>0.010385</td>\n",
       "    </tr>\n",
       "    <tr>\n",
       "      <th>2014</th>\n",
       "      <td>Japan</td>\n",
       "      <td>12</td>\n",
       "      <td>4483260.5</td>\n",
       "      <td>Yen</td>\n",
       "      <td>-0.003187</td>\n",
       "    </tr>\n",
       "    <tr>\n",
       "      <th>2015</th>\n",
       "      <td>Japan</td>\n",
       "      <td>15</td>\n",
       "      <td>NaN</td>\n",
       "      <td>NaN</td>\n",
       "      <td>NaN</td>\n",
       "    </tr>\n",
       "    <tr>\n",
       "      <th>2016</th>\n",
       "      <td>Japan</td>\n",
       "      <td>14</td>\n",
       "      <td>NaN</td>\n",
       "      <td>NaN</td>\n",
       "      <td>NaN</td>\n",
       "    </tr>\n",
       "    <tr>\n",
       "      <th>2017</th>\n",
       "      <td>Japan</td>\n",
       "      <td>1</td>\n",
       "      <td>NaN</td>\n",
       "      <td>NaN</td>\n",
       "      <td>NaN</td>\n",
       "    </tr>\n",
       "  </tbody>\n",
       "</table>\n",
       "</div>"
      ],
      "text/plain": [
       "     Country  Count        GDP currency_unit  GDP_growth\n",
       "Year                                                    \n",
       "2013   Japan     14  4497593.5           Yen    0.010385\n",
       "2014   Japan     12  4483260.5           Yen   -0.003187\n",
       "2015   Japan     15        NaN           NaN         NaN\n",
       "2016   Japan     14        NaN           NaN         NaN\n",
       "2017   Japan      1        NaN           NaN         NaN"
      ]
     },
     "execution_count": 16,
     "metadata": {},
     "output_type": "execute_result"
    }
   ],
   "source": [
    "combo_JPN = combo_JPN.rename(columns={0: 'GDP_growth'})\n",
    "combo_JPN = combo_JPN.set_index('Year')\n",
    "combo_JPN.tail()"
   ]
  },
  {
   "cell_type": "markdown",
   "metadata": {},
   "source": [
    "### 2.5 Clean the GDP and Inflation Data"
   ]
  },
  {
   "cell_type": "markdown",
   "metadata": {},
   "source": [
    "In order to better understand the information about recession, we obtain data from IMF,specifically its [World Economic Outlook database](https://www.imf.org/external/ns/cs.aspx?id=28). By using selective variables related to GDP and inflation rates, we extract information within certain countries that are reasonable for our purpose of doing analysis."
   ]
  },
  {
   "cell_type": "code",
   "execution_count": 17,
   "metadata": {
    "collapsed": false
   },
   "outputs": [],
   "source": [
    "url = 'https://www.imf.org/external/pubs/ft/weo/2016/02/weodata/WEOOct2016all.xls' ###weo link"
   ]
  },
  {
   "cell_type": "code",
   "execution_count": 18,
   "metadata": {
    "collapsed": false
   },
   "outputs": [],
   "source": [
    "weo = pd.read_csv(url, sep='\\t',                          # read csv document fron url\n",
    "                  usecols = [1, 2] + list(range(19,46)),  # use the 2nd, 3rd and 20-47 columns\n",
    "                  thousands=',',                          # change thousands\n",
    "                  na_values=['n/a', '--'])                # change NA values"
   ]
  },
  {
   "cell_type": "markdown",
   "metadata": {},
   "source": [
    "Now we obtain the dataFrame called weo. It contains information from different countries from Year 1990 to Year 2011. This year range is sufficient for now considered our puropose of doing simple recession analysis. To continue, we extraxt specific vairiables and countires that we are looking for."
   ]
  },
  {
   "cell_type": "code",
   "execution_count": 19,
   "metadata": {
    "collapsed": false
   },
   "outputs": [
    {
     "data": {
      "text/plain": [
       "1990    3438915.262\n",
       "1991    3539187.399\n",
       "1992    3555591.144\n",
       "1993    3550176.546\n",
       "1994    3570915.868\n",
       "1995    3630991.041\n",
       "1996    3717614.850\n",
       "1997    3767948.941\n",
       "1998    3682600.793\n",
       "1999    3668341.141\n",
       "2000    3743926.580\n",
       "2001    3748339.132\n",
       "2002    3751283.749\n",
       "2003    3807502.026\n",
       "2004    3894336.491\n",
       "2005    3944525.330\n",
       "2006    4011483.703\n",
       "2007    4099063.786\n",
       "2008    4058433.944\n",
       "2009    3838386.209\n",
       "2010    4017848.494\n",
       "2011    3992197.240\n",
       "2012    4070635.644\n",
       "2013    4132964.919\n",
       "2014    4138742.679\n",
       "2015    4165595.314\n",
       "2016    4192686.527\n",
       "Name: (NGDPRPC, JPN), dtype: float64"
      ]
     },
     "execution_count": 19,
     "metadata": {},
     "output_type": "execute_result"
    }
   ],
   "source": [
    "variables1 = ['NGDPRPC','NGDPD','PCPIPCH','PCPIE']  # Define a list of variables1\n",
    "df = weo[weo['WEO Subject Code'].isin(variables1)]  # Find variables1 in this column\n",
    "variables2 = ['JPN','USA','CHN','ARE','SGP']        # Define a list of variables12\n",
    "df = weo[weo['ISO'].isin(variables2)]               # Find variables2 in this column\n",
    "df = df[0:-5]                                       # Extract only Data without additional info\n",
    "\n",
    "pv2 = pd.pivot_table(df,index=['WEO Subject Code','ISO'], dropna=False, fill_value=0.0)\n",
    "                                                    # reindex teh table to a pivot view\n",
    "pv2.columns= np.arange(1990,2017)                   # set year range\n",
    "\n",
    "import seaborn as sns                               # import seaborn package\n",
    "palette = sns.color_palette(\"Paired\", 10)           # set palette style\n",
    "sns.set_palette(palette)\n",
    "\n",
    "pv2.loc['NGDPRPC', 'JPN']                            # Test data by get GDP from Japan"
   ]
  },
  {
   "cell_type": "markdown",
   "metadata": {},
   "source": [
    "Now we have the data ready for inflation and GDP analysis, see the next section for graphs."
   ]
  },
  {
   "cell_type": "markdown",
   "metadata": {},
   "source": [
    "# 3. Data Analysis\n",
    "### 3.1 Understanding Recession"
   ]
  },
  {
   "cell_type": "markdown",
   "metadata": {},
   "source": [
    "Before we get in to the analysis of skycraper index and recession, we want to show that the time period and countries that we selected are valid for the purpose of illustration. For the purpose of simplicity, **we focus mainly on the country Japan, and the time frame 1990-2016**. We choose Japan as our main research target for two reaons. On the one hand, Japan goes through great recession period as Japan government tighted their monetary policy during 1985-1990, the market collapsed from then on, so the signs for recession should be clear. On the other hand, Japan have relativly sufficent record of construction of skycrapers. We choose other control countires such as United States, China, Singpapre and United Arab Emirates for comparison and illustration purpose (Extraction of countries shown in part 2.5). "
   ]
  },
  {
   "cell_type": "code",
   "execution_count": 20,
   "metadata": {
    "collapsed": false
   },
   "outputs": [
    {
     "data": {
      "text/plain": [
       "<matplotlib.axes._subplots.AxesSubplot at 0x2cc151ec780>"
      ]
     },
     "execution_count": 20,
     "metadata": {},
     "output_type": "execute_result"
    },
    {
     "data": {
      "image/png": "[encoded data removed]",
      "text/plain": [
       "<matplotlib.figure.Figure at 0x2cc1522d588>"
      ]
     },
     "metadata": {},
     "output_type": "display_data"
    }
   ],
   "source": [
    "pv2.loc['NGDPD'].T.plot(alpha=0.75, rot=45, title=\"Real GDP per capita (current US$)\")"
   ]
  },
  {
   "cell_type": "markdown",
   "metadata": {},
   "source": [
    "This graph demonstrates real GDP per capita across different countires (scaled through US dollar). In this graph , it is clear that Japan (Labelld in Green)goes through decline in GDP starting around Year1995, while other countries in the same period had increasing GDP. The volatility of Japan GDP is also relatively large, implying that the economy of Japan was not stable over time."
   ]
  },
  {
   "cell_type": "code",
   "execution_count": 21,
   "metadata": {
    "collapsed": false
   },
   "outputs": [
    {
     "data": {
      "text/plain": [
       "<matplotlib.axes._subplots.AxesSubplot at 0x2cc160842e8>"
      ]
     },
     "execution_count": 21,
     "metadata": {},
     "output_type": "execute_result"
    },
    {
     "data": {
      "image/png": "[encoded data removed]",
      "text/plain": [
       "<matplotlib.figure.Figure at 0x2cc155d55f8>"
      ]
     },
     "metadata": {},
     "output_type": "display_data"
    }
   ],
   "source": [
    "pv2.loc['PCPIPCH'].T.plot(alpha=0.75, rot=45, title=\"Inflation (% change)\")"
   ]
  },
  {
   "cell_type": "markdown",
   "metadata": {},
   "source": [
    "This graph demonstrates information about inflation.It can be seen that starting Year 1990, Japan had decreasing rate of change in CPI. Compared with other countries, it had a relatively long peiord of deflation, the inflation (negative) index is lower in value compared with other countries. Japan seems to be influenced by this recession shock and finds it hard to recover."
   ]
  },
  {
   "cell_type": "code",
   "execution_count": 22,
   "metadata": {
    "collapsed": false
   },
   "outputs": [
    {
     "data": {
      "text/plain": [
       "<seaborn.axisgrid.FacetGrid at 0x2cc15882cf8>"
      ]
     },
     "execution_count": 22,
     "metadata": {},
     "output_type": "execute_result"
    },
    {
     "data": {
      "image/png": "[encoded data removed]",
      "text/plain": [
       "<matplotlib.figure.Figure at 0x2cc15885390>"
      ]
     },
     "metadata": {},
     "output_type": "display_data"
    }
   ],
   "source": [
    "plot_data = pv2.loc['NGDPD'].T.reset_index()                          # focus on real GDP data\n",
    "plot_data.rename(columns={'index':'Years'}, inplace=True)             # rename the index\n",
    "melt_data = pd.melt(plot_data, id_vars=['Years'],var_name='Country')  # x value: Year\n",
    "melt_data.rename(columns={'value':'GDP'}, inplace=True)               # y value: Country GDP\n",
    "sns.lmplot(x=\"Years\", y=\"GDP\", hue=\"Country\", data=melt_data, palette=\"Set1\")"
   ]
  },
  {
   "cell_type": "markdown",
   "metadata": {},
   "source": [
    "By running out a linear regression, we see that the regression line of Japan for GDP over years are relatively flat. After fluctuations around Year 1995, the downward trending GDP restrain economic growth of Japan, while other countires have faster increase."
   ]
  },
  {
   "cell_type": "code",
   "execution_count": 23,
   "metadata": {
    "collapsed": false
   },
   "outputs": [
    {
     "data": {
      "image/png": "[encoded data removed]",
      "text/plain": [
       "<matplotlib.figure.Figure at 0x2cc1539ccf8>"
      ]
     },
     "metadata": {},
     "output_type": "display_data"
    }
   ],
   "source": [
    "pv2T = pv2.T                                        # Transpose\n",
    "f, ax = plt.subplots(figsize=(16, 5))               # Set fig size\n",
    "sns.barplot(x='Years',y='JPN', data=plot_data,label=\"JPN\", color=sns.xkcd_rgb[\"lime\"])\n",
    "ax.legend(ncol=2, loc=\"upper left\", frameon=True)   # Set legend \n",
    "ax.set(xlim=(-1, 28), ylabel=\"\",xlabel=\"gdp\")       # Set label\n",
    "plt.xticks(rotation=90)                             # rotate the year on x value for better look\n",
    "sns.despine(left=True, bottom=True)                 # Adjust size\n",
    "plt.show()"
   ]
  },
  {
   "cell_type": "markdown",
   "metadata": {},
   "source": [
    "At last, we are plotting a histogram to show the real GDP of Japan from year 1990 to 2016. With a clearer distribution, we will go into details about whether Skycraper index relates to recession in the following section."
   ]
  },
  {
   "cell_type": "markdown",
   "metadata": {},
   "source": [
    "### 3.2 Skyscraper, GDP, and Recession"
   ]
  },
  {
   "cell_type": "markdown",
   "metadata": {},
   "source": [
    "The data we use for 3.2 starts from 1980, which is the year before the recession happened."
   ]
  },
  {
   "cell_type": "code",
   "execution_count": 24,
   "metadata": {
    "collapsed": false,
    "scrolled": true
   },
   "outputs": [
    {
     "data": {
      "text/html": [
       "<div>\n",
       "<table border=\"1\" class=\"dataframe\">\n",
       "  <thead>\n",
       "    <tr style=\"text-align: right;\">\n",
       "      <th></th>\n",
       "      <th>Country</th>\n",
       "      <th>Count</th>\n",
       "      <th>GDP</th>\n",
       "      <th>currency_unit</th>\n",
       "      <th>GDP_growth</th>\n",
       "    </tr>\n",
       "    <tr>\n",
       "      <th>Year</th>\n",
       "      <th></th>\n",
       "      <th></th>\n",
       "      <th></th>\n",
       "      <th></th>\n",
       "      <th></th>\n",
       "    </tr>\n",
       "  </thead>\n",
       "  <tbody>\n",
       "    <tr>\n",
       "      <th>1980</th>\n",
       "      <td>Japan</td>\n",
       "      <td>5</td>\n",
       "      <td>2255564.75</td>\n",
       "      <td>Yen</td>\n",
       "      <td>0.026778</td>\n",
       "    </tr>\n",
       "    <tr>\n",
       "      <th>1981</th>\n",
       "      <td>Japan</td>\n",
       "      <td>0</td>\n",
       "      <td>2245812.25</td>\n",
       "      <td>Yen</td>\n",
       "      <td>-0.004324</td>\n",
       "    </tr>\n",
       "    <tr>\n",
       "      <th>1982</th>\n",
       "      <td>Japan</td>\n",
       "      <td>1</td>\n",
       "      <td>2208583.50</td>\n",
       "      <td>Yen</td>\n",
       "      <td>-0.016577</td>\n",
       "    </tr>\n",
       "    <tr>\n",
       "      <th>1983</th>\n",
       "      <td>Japan</td>\n",
       "      <td>3</td>\n",
       "      <td>2176807.25</td>\n",
       "      <td>Yen</td>\n",
       "      <td>-0.014388</td>\n",
       "    </tr>\n",
       "    <tr>\n",
       "      <th>1984</th>\n",
       "      <td>Japan</td>\n",
       "      <td>2</td>\n",
       "      <td>2193488.75</td>\n",
       "      <td>Yen</td>\n",
       "      <td>0.007663</td>\n",
       "    </tr>\n",
       "  </tbody>\n",
       "</table>\n",
       "</div>"
      ],
      "text/plain": [
       "     Country  Count         GDP currency_unit  GDP_growth\n",
       "Year                                                     \n",
       "1980   Japan      5  2255564.75           Yen    0.026778\n",
       "1981   Japan      0  2245812.25           Yen   -0.004324\n",
       "1982   Japan      1  2208583.50           Yen   -0.016577\n",
       "1983   Japan      3  2176807.25           Yen   -0.014388\n",
       "1984   Japan      2  2193488.75           Yen    0.007663"
      ]
     },
     "execution_count": 24,
     "metadata": {},
     "output_type": "execute_result"
    }
   ],
   "source": [
    "combo_JPN_subset = combo_JPN[combo_JPN.index.isin(range(1980, 2015))]\n",
    "combo_JPN_subset.head()"
   ]
  },
  {
   "cell_type": "markdown",
   "metadata": {},
   "source": [
    "We multiply GDP growth by 1000 and then divide GDP by a 100000, so that they can be shown in the same graph with skyscrapers counts. By observing the graph we can have a basic idea of the relationship between skyscrapers index and GDP."
   ]
  },
  {
   "cell_type": "code",
   "execution_count": 25,
   "metadata": {
    "collapsed": false
   },
   "outputs": [
    {
     "data": {
      "text/plain": [
       "<matplotlib.legend.Legend at 0x2cc15249518>"
      ]
     },
     "execution_count": 25,
     "metadata": {},
     "output_type": "execute_result"
    },
    {
     "data": {
      "image/png": "[encoded data removed]",
      "text/plain": [
       "<matplotlib.figure.Figure at 0x2cc15b0e400>"
      ]
     },
     "metadata": {},
     "output_type": "display_data"
    }
   ],
   "source": [
    "fix, ax = plt.subplots()\n",
    "\n",
    "x1 = combo_JPN_subset['GDP']/100000\n",
    "x2 = combo_JPN_subset['GDP_growth']*1000\n",
    " \n",
    "combo_JPN_subset['Count'].plot(ax=ax, label='Skyscrapers Built in Each Year')\n",
    "x1.plot(ax=ax, label='GDP, 100 Thousand Yen')\n",
    "x2.plot(ax=ax, label='GDP Growth, 1000%')\n",
    "\n",
    "ax.set_title('GDP, Growth and Numbers of Skyscrapers Built', fontsize=16, loc='left')\n",
    "ax.legend(loc='best')"
   ]
  },
  {
   "cell_type": "markdown",
   "metadata": {},
   "source": [
    "Given skyscraper count, GDP and GDP growth are measured in different units (1 for count, 100k for GDP and 1000% for growth), it is not reasonable to compare them on the value basis. From the graph we may still say there is some kind of correlation between skyscrapers index and GDP growth, because in some years, they move up and down together. For example, during 2000 and 2005, this correlation is very strong. However, this is our intuition thus we cannot make this argument without further quantitative analysis."
   ]
  },
  {
   "cell_type": "markdown",
   "metadata": {},
   "source": [
    "### 3.3 Correlation Analysis"
   ]
  },
  {
   "cell_type": "markdown",
   "metadata": {},
   "source": [
    "Correlation analysis is the simplest model but it may offer us some useful information. If the “skyscraper theorem” holds, then there might be a negative correlation between skyscrapers count and GDP growth in the long run. The correlation is -0.27 using the data from 1980 to 2014. This negative correlation somehow meets our expectation. At the same time, however, the absolute value of which is not large, indicating that the correlation is not that strong."
   ]
  },
  {
   "cell_type": "code",
   "execution_count": 26,
   "metadata": {
    "collapsed": false
   },
   "outputs": [
    {
     "data": {
      "text/plain": [
       "-0.27172035424347474"
      ]
     },
     "execution_count": 26,
     "metadata": {},
     "output_type": "execute_result"
    }
   ],
   "source": [
    "combo_JPN_subset['Count'].corr(combo_JPN_subset['GDP_growth'])"
   ]
  },
  {
   "cell_type": "markdown",
   "metadata": {},
   "source": [
    "We also notice that the correlation results are various when we split the data into several subsets. Here we split the data in to pre-crisis time (1980-1985), crisis time (1986-1991) and post-crisis time (1992-2014). We see there is a strong positive correlation during pre-crisis time. This may result from Japan's rapid economic growth before crisis. During the crisis time and post-crisis time, the correlations between skyscrapers count and GDP growth are weak. "
   ]
  },
  {
   "cell_type": "code",
   "execution_count": 27,
   "metadata": {
    "collapsed": false
   },
   "outputs": [
    {
     "data": {
      "text/plain": [
       "0.66463090399002034"
      ]
     },
     "execution_count": 27,
     "metadata": {},
     "output_type": "execute_result"
    }
   ],
   "source": [
    "combo_JPN_subset_1 = combo_JPN[combo_JPN.index.isin(range(1980, 1985))]\n",
    "combo_JPN_subset_1['Count'].corr(combo_JPN_subset_1['GDP_growth'])"
   ]
  },
  {
   "cell_type": "code",
   "execution_count": 28,
   "metadata": {
    "collapsed": false
   },
   "outputs": [
    {
     "data": {
      "text/plain": [
       "0.076568300062661312"
      ]
     },
     "execution_count": 28,
     "metadata": {},
     "output_type": "execute_result"
    }
   ],
   "source": [
    "combo_JPN_subset_2 = combo_JPN[combo_JPN.index.isin(range(1986, 1991))]\n",
    "combo_JPN_subset_2['Count'].corr(combo_JPN_subset_2['GDP_growth'])"
   ]
  },
  {
   "cell_type": "code",
   "execution_count": 29,
   "metadata": {
    "collapsed": false
   },
   "outputs": [
    {
     "data": {
      "text/plain": [
       "-0.17537769220951219"
      ]
     },
     "execution_count": 29,
     "metadata": {},
     "output_type": "execute_result"
    }
   ],
   "source": [
    "combo_JPN_subset_3 = combo_JPN[combo_JPN.index.isin(range(1992, 2014))]\n",
    "combo_JPN_subset_3['Count'].corr(combo_JPN_subset_3['GDP_growth'])"
   ]
  },
  {
   "cell_type": "markdown",
   "metadata": {},
   "source": [
    "The numbers make sense to us, but correlation cannot show the predictive power of skyscrapers index towards recession. Thus, further analysis is needed."
   ]
  },
  {
   "cell_type": "markdown",
   "metadata": {},
   "source": [
    "### 3.4 Regression Analysis"
   ]
  },
  {
   "cell_type": "markdown",
   "metadata": {},
   "source": [
    "Since the correlation result does not seem to have much explanatory power, we now take a step further to do a simple regression. We want to conduct a linear regression model, setting the independent varialble (x) to be count, and the dependent variable (y) to be GDP growth. "
   ]
  },
  {
   "cell_type": "code",
   "execution_count": 30,
   "metadata": {
    "collapsed": false
   },
   "outputs": [
    {
     "data": {
      "text/html": [
       "<div>\n",
       "<table border=\"1\" class=\"dataframe\">\n",
       "  <thead>\n",
       "    <tr style=\"text-align: right;\">\n",
       "      <th></th>\n",
       "      <th>Count</th>\n",
       "      <th>GDP_growth</th>\n",
       "    </tr>\n",
       "    <tr>\n",
       "      <th>Year</th>\n",
       "      <th></th>\n",
       "      <th></th>\n",
       "    </tr>\n",
       "  </thead>\n",
       "  <tbody>\n",
       "    <tr>\n",
       "      <th>2010</th>\n",
       "      <td>19</td>\n",
       "      <td>0.043792</td>\n",
       "    </tr>\n",
       "    <tr>\n",
       "      <th>2011</th>\n",
       "      <td>13</td>\n",
       "      <td>-0.011910</td>\n",
       "    </tr>\n",
       "    <tr>\n",
       "      <th>2012</th>\n",
       "      <td>18</td>\n",
       "      <td>0.015380</td>\n",
       "    </tr>\n",
       "    <tr>\n",
       "      <th>2013</th>\n",
       "      <td>14</td>\n",
       "      <td>0.010385</td>\n",
       "    </tr>\n",
       "    <tr>\n",
       "      <th>2014</th>\n",
       "      <td>12</td>\n",
       "      <td>-0.003187</td>\n",
       "    </tr>\n",
       "  </tbody>\n",
       "</table>\n",
       "</div>"
      ],
      "text/plain": [
       "      Count  GDP_growth\n",
       "Year                   \n",
       "2010     19    0.043792\n",
       "2011     13   -0.011910\n",
       "2012     18    0.015380\n",
       "2013     14    0.010385\n",
       "2014     12   -0.003187"
      ]
     },
     "execution_count": 30,
     "metadata": {},
     "output_type": "execute_result"
    }
   ],
   "source": [
    "combo_JPN_subset1 = combo_JPN_subset [['Count','GDP_growth']] # Extract the two varaibles we need\n",
    "combo_JPN_subset1.tail()"
   ]
  },
  {
   "cell_type": "code",
   "execution_count": 31,
   "metadata": {
    "collapsed": false
   },
   "outputs": [
    {
     "name": "stdout",
     "output_type": "stream",
     "text": [
      "      GDP_growth\n",
      "Year            \n",
      "1980    0.026778\n",
      "1981   -0.004324\n",
      "1982   -0.016577\n",
      "1983   -0.014388\n",
      "1984    0.007663\n",
      "      Intercept  Count\n",
      "Year                  \n",
      "1980        1.0    5.0\n",
      "1981        1.0    0.0\n",
      "1982        1.0    1.0\n",
      "1983        1.0    3.0\n",
      "1984        1.0    2.0\n"
     ]
    }
   ],
   "source": [
    "# Now tarnsform the variables into matrix for clearer presentation\n",
    "y,X = dmatrices('GDP_growth~Count', data=combo_JPN_subset1, return_type = 'dataframe')\n",
    "print (y.head())   # printting y variable to be GDP_growth\n",
    "print (X.head())   # printting X variable to be Count"
   ]
  },
  {
   "cell_type": "code",
   "execution_count": 32,
   "metadata": {
    "collapsed": false
   },
   "outputs": [
    {
     "name": "stdout",
     "output_type": "stream",
     "text": [
      "                            OLS Regression Results                            \n",
      "==============================================================================\n",
      "Dep. Variable:             GDP_growth   R-squared:                       0.074\n",
      "Model:                            OLS   Adj. R-squared:                  0.046\n",
      "Method:                 Least Squares   F-statistic:                     2.631\n",
      "Date:                Fri, 05 May 2017   Prob (F-statistic):              0.114\n",
      "Time:                        22:31:47   Log-Likelihood:                 71.628\n",
      "No. Observations:                  35   AIC:                            -139.3\n",
      "Df Residuals:                      33   BIC:                            -136.1\n",
      "Df Model:                           1                                         \n",
      "Covariance Type:            nonrobust                                         \n",
      "==============================================================================\n",
      "                 coef    std err          t      P>|t|      [95.0% Conf. Int.]\n",
      "------------------------------------------------------------------------------\n",
      "Intercept      0.0325      0.009      3.658      0.001         0.014     0.051\n",
      "Count         -0.0009      0.001     -1.622      0.114        -0.002     0.000\n",
      "==============================================================================\n",
      "Omnibus:                        1.501   Durbin-Watson:                   0.832\n",
      "Prob(Omnibus):                  0.472   Jarque-Bera (JB):                1.418\n",
      "Skew:                           0.394   Prob(JB):                        0.492\n",
      "Kurtosis:                       2.408   Cond. No.                         26.4\n",
      "==============================================================================\n",
      "\n",
      "Warnings:\n",
      "[1] Standard Errors assume that the covariance matrix of the errors is correctly specified.\n"
     ]
    }
   ],
   "source": [
    "mod = sm.OLS(y,X)         # choosing to run OLS estimation\n",
    "res = mod.fit()           # setting the residual value\n",
    "print (res.summary())     # print out the OLS result"
   ]
  },
  {
   "cell_type": "markdown",
   "metadata": {
    "collapsed": true
   },
   "source": [
    "This regression result gives us more insight about our hypothesis. First of all, the independent variable (count) has negative coefficient, and this is significant in the 95% Confidence Level. That is to say, the skyscraper index is indeed negatively related to to GDP growth In Japan from Year 1980 to year 2014. However, the R-Square and adjusted R-square is extremely low, this makes sense since we only  regress on one dependent variable, while there are many other factors influencing the change in GDP growth. Another thing that we notice is the Durbin_Watson result. The value 0.832 is between (0,2), indicating that there is a positive auto correlation. That is to say, there is probably a time lag in the count seires data. Also, it can be assumed that when economy is generally good, more buildings are built within these years, while recession might lead to decrease in constructions of skyscrapers in following years.  "
   ]
  },
  {
   "cell_type": "markdown",
   "metadata": {},
   "source": [
    "# 4. Conclusion"
   ]
  },
  {
   "cell_type": "markdown",
   "metadata": {
    "collapsed": true
   },
   "source": [
    "1. In our specific example of Japan, we can draw a conclusion that skyscrapers index can be used as an indicator of GDP growth. Therefore, it is a good indicator for recession since recession is tightly connnected to GDP growth. However, it is inappropriate to use it as the only indicator. The reasons are given in 3.4.\n",
    "2. For better presentation purpose, we are not showing the analysis for the other 4 countries here because it only requires us to change the country name and code based on our current code. However, we find that in some other countries, for example in China, the coefficient for skyscrapers count in the regression is actually positive: skyscrapers count and GDP growth move in the same direction.  So, the skyscrapers index does not have predicting power in those conutries. We come up with two possible explanations for China. The first explanation is China has never suffered from a \"real\" recession even in 2008. The economic growth allows the country to build more and more skyscrapers. If it is true, we can add China into a validation set to check if the huge number of skyscrapers built will lead to China's future recession. The second explanation is the country has a tradition of \"showing off\". People build skyscrapers even in bad years. If it is ture, we may confirm skyscrapers index is not a good indicator of recession for China and similar countries.\n",
    "3. To figure out the features for countries in which the skyscrapers index has a strong predictive power for recession is a topic worth further researching. The further research requires more countries' data in more dimensions. Principal component analysis, cluster analysis and some machine learning models would help."
   ]
  }
 ],
 "metadata": {
  "anaconda-cloud": {},
  "kernelspec": {
   "display_name": "Python [conda root]",
   "language": "python",
   "name": "conda-root-py"
  },
  "language_info": {
   "codemirror_mode": {
    "name": "ipython",
    "version": 3
   },
   "file_extension": ".py",
   "mimetype": "text/x-python",
   "name": "python",
   "nbconvert_exporter": "python",
   "pygments_lexer": "ipython3",
   "version": "3.5.2"
  }
 },
 "nbformat": 4,
 "nbformat_minor": 1
}
