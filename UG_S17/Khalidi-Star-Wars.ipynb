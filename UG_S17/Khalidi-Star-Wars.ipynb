{
 "cells": [
  {
   "cell_type": "markdown",
   "metadata": {},
   "source": [
    "<img src=\"NYUDB-01.png\">"
   ]
  },
  {
   "cell_type": "markdown",
   "metadata": {
    "collapsed": true
   },
   "source": [
    "# THE TRAGEDY OF THE PREQUELS\n",
    "## Does bandwagoning in the Star Wars community <em> plague </em> Episodes I, II, and III?\n",
    "\n",
    "### Feroz Khalidi, [*fk597@nyu.edu*](mailto:fk597@nyu.edu)\n"
   ]
  },
  {
   "cell_type": "markdown",
   "metadata": {},
   "source": [
    "## A long time ago, in a galaxy not so far away...\n",
    "\n",
    "...George Lucas created the epic space movie series called ***Star Wars***. Today there exists some agreement that the original trilogy (Episodes IV, V, and VI) were better than the prequels (Episodes I, II, and III). Fans deride the newer films' plots and redditors create memes out of their dialogue (see [r/prequelmemes](www.reddit.com/r/prequelmemes)). However, this project was inspired in part by an ex-girlfriend who after watching the entire Star Wars said she loved the character Jar Jar Binks, a token for many others of all that is wrong with the prequels (I should have known then that the relationship wouldn't last. We clearly had irreconcilable differences).\n",
    "\n",
    "But were the newer movies actually that much worse than those of the original trilogy? As a child, I loved the prequels; I grew up on them and became enthralled with their worlds. At some point though, I became wholly convinced that they were awful films. The characters seemed flat and fake and forced into roles they should have never filled. The wellspring of fantasy the CGI once provided dried up. *I freaking hated Jar Jar Binks.*\n",
    "\n",
    "I never thought poorly of them when I first saw them. Honestly, I probably hadn't begun to dislike them until a friend had mentioned disliking them to me. Maybe I was just a four-year-old being four years old, but at the time pod racing seemed like the most exciting sport ever. Darth Maul and Jango Fett were also the coolest.\n",
    "\n",
    "Public opinion tends to be shaped by elite cues, by individuals' relying heavily on the opinions of experts in order to form their own. The same soundbites can be parroted repeatedly. The feelings of others quickly become our own genuine sentiments. For my final project in the NYU Stern Data BootCamp course, I examined whether there might be a bandwagon effect within the Star Wars community. Additionally, I was interested in exploring some of the ways the prequels differed from the original trilogy in a quantifiably measurable way. Obviously there is much to a movie that cannot be analyzed from the data alone. Factors such as the actors' performances and the quality of special effects, for example, are highly subjective and qualitative. However, people's opinions and reactions to them can be measured and quantified. This also makes any significant differences that can arise solely on the basis of a movie's script and prescribed dialogue that much more interesting to explore. \n",
    "\n",
    "First, I look at survey data gathered on individuals' attitudes towards the different Star Wars movies and main characters. Next, I use the Star Wars helper API to examine which characters are in which movies. From there, I decided to get the script for each film and do some basic analysis of who's speaking in which movies. Lastly, just for fun, I conduct some basic natural language processing of the dialogue to tease out any patterns hidden in them. \n",
    "\n",
    "\n",
    "\n",
    "##### \"If many believe so, it is so\""
   ]
  },
  {
   "cell_type": "markdown",
   "metadata": {},
   "source": [
    "## INITIALIZATION\n",
    "\n",
    "First, let's load the libraries necessary. I'll need to be able to look at data frames and perform some basic mathematical and statistical manipulations. I will then need packages to generate graphics that can represent them well. Additional libraries are also needed to access the Star Wars API, to scrape and process the movie scripts, and to process the natural language contained within them.\n",
    "\n",
    "Note: I keep all the data sources linked directly and do all the data manipulation in the script such that someone could open up this notebook and run it. At times, it makes the notebook a bit cluttered, especially when parsing the scripts, but I think the benefits gained from reproducibility far outweigh the excess code.\n"
   ]
  },
  {
   "cell_type": "code",
   "execution_count": 1,
   "metadata": {
    "collapsed": false
   },
   "outputs": [
    {
     "data": {
      "text/html": [
       "<script>requirejs.config({paths: { 'plotly': ['https://cdn.plot.ly/plotly-latest.min']},});if(!window.Plotly) {{require(['plotly'],function(plotly) {window.Plotly=plotly;});}}</script>"
      ],
      "text/vnd.plotly.v1+html": [
       "<script>requirejs.config({paths: { 'plotly': ['https://cdn.plot.ly/plotly-latest.min']},});if(!window.Plotly) {{require(['plotly'],function(plotly) {window.Plotly=plotly;});}}</script>"
      ]
     },
     "metadata": {},
     "output_type": "display_data"
    }
   ],
   "source": [
    "import pandas as pd\n",
    "import numpy as np \n",
    "import math\n",
    "from collections import Counter\n",
    "\n",
    "import matplotlib.pyplot as plt \n",
    "import plotly \n",
    "from plotly import tools\n",
    "from plotly.offline import download_plotlyjs, init_notebook_mode, plot, iplot\n",
    "import plotly.graph_objs as go \n",
    "\n",
    "import swapi as sw\n",
    "\n",
    "import requests  \n",
    "from bs4 import BeautifulSoup\n",
    "import re\n",
    "\n",
    "import nltk\n",
    "import string\n",
    "from nltk.corpus import stopwords \n",
    "from nltk.stem.wordnet import WordNetLemmatizer\n",
    "\n",
    "%matplotlib inline   \n",
    "plotly.offline.init_notebook_mode(connected=True)"
   ]
  },
  {
   "cell_type": "markdown",
   "metadata": {},
   "source": [
    "## PART A\n",
    "### Gathering and Preparing the Survey Data\n",
    "\n",
    "The first dataset I look at comes from a FiveThirtyEight poll that the site had run through Survey Monkey Audience, surveying 1,186 respondents from June 3 to 6, 2014 (the data is available on [GitHub](https://github.com/fivethirtyeight/data/tree/master/star-wars-survey)). Seventy-nine percent (*n*=835) of those respondents said they had watched at least one of the “Star Wars” films. I am accessing it directly through the 538 Github repository and reading the csv with pandas. After cleaning and parsing the data, I will look at the participants' ratings of the different films and characters.\n",
    "\n"
   ]
  },
  {
   "cell_type": "code",
   "execution_count": 2,
   "metadata": {
    "collapsed": false
   },
   "outputs": [
    {
     "data": {
      "text/html": [
       "<div>\n",
       "<table border=\"1\" class=\"dataframe\">\n",
       "  <thead>\n",
       "    <tr style=\"text-align: right;\">\n",
       "      <th></th>\n",
       "      <th>Have you seen any of the 6 films in the Star Wars franchise?</th>\n",
       "      <th>Do you consider yourself to be a fan of the Star Wars film franchise?</th>\n",
       "      <th>Seen: Episode I  The Phantom Menace</th>\n",
       "      <th>Seen: Episode II  Attack of the Clones</th>\n",
       "      <th>Seen: Episode III  Revenge of the Sith</th>\n",
       "      <th>Seen: Episode IV  A New Hope</th>\n",
       "      <th>Seen: Episode V The Empire Strikes Back</th>\n",
       "      <th>Seen: Episode VI Return of the Jedi</th>\n",
       "      <th>Ranking: Episode I  The Phantom Menace</th>\n",
       "      <th>Ranking: Episode II  Attack of the Clones</th>\n",
       "      <th>...</th>\n",
       "      <th>Popularity: Yoda</th>\n",
       "      <th>Which character shot first?</th>\n",
       "      <th>Are you familiar with the Expanded Universe?</th>\n",
       "      <th>Do you consider yourself to be a fan of the Expanded Universe?</th>\n",
       "      <th>Do you consider yourself to be a fan of the Star Trek franchise?</th>\n",
       "      <th>Gender</th>\n",
       "      <th>Age</th>\n",
       "      <th>Household Income</th>\n",
       "      <th>Education</th>\n",
       "      <th>Location (Census Region)</th>\n",
       "    </tr>\n",
       "  </thead>\n",
       "  <tbody>\n",
       "    <tr>\n",
       "      <th>0</th>\n",
       "      <td>True</td>\n",
       "      <td>True</td>\n",
       "      <td>True</td>\n",
       "      <td>True</td>\n",
       "      <td>True</td>\n",
       "      <td>True</td>\n",
       "      <td>True</td>\n",
       "      <td>True</td>\n",
       "      <td>3.0</td>\n",
       "      <td>2.0</td>\n",
       "      <td>...</td>\n",
       "      <td>2.0</td>\n",
       "      <td>I don't understand this question</td>\n",
       "      <td>Yes</td>\n",
       "      <td>False</td>\n",
       "      <td>No</td>\n",
       "      <td>Male</td>\n",
       "      <td>18-29</td>\n",
       "      <td>NaN</td>\n",
       "      <td>High school degree</td>\n",
       "      <td>South Atlantic</td>\n",
       "    </tr>\n",
       "    <tr>\n",
       "      <th>1</th>\n",
       "      <td>False</td>\n",
       "      <td>NaN</td>\n",
       "      <td>False</td>\n",
       "      <td>False</td>\n",
       "      <td>False</td>\n",
       "      <td>False</td>\n",
       "      <td>False</td>\n",
       "      <td>False</td>\n",
       "      <td>NaN</td>\n",
       "      <td>NaN</td>\n",
       "      <td>...</td>\n",
       "      <td>NaN</td>\n",
       "      <td>NaN</td>\n",
       "      <td>NaN</td>\n",
       "      <td>NaN</td>\n",
       "      <td>Yes</td>\n",
       "      <td>Male</td>\n",
       "      <td>18-29</td>\n",
       "      <td>$0 - $24,999</td>\n",
       "      <td>Bachelor degree</td>\n",
       "      <td>West South Central</td>\n",
       "    </tr>\n",
       "    <tr>\n",
       "      <th>2</th>\n",
       "      <td>True</td>\n",
       "      <td>False</td>\n",
       "      <td>True</td>\n",
       "      <td>True</td>\n",
       "      <td>True</td>\n",
       "      <td>False</td>\n",
       "      <td>False</td>\n",
       "      <td>False</td>\n",
       "      <td>1.0</td>\n",
       "      <td>2.0</td>\n",
       "      <td>...</td>\n",
       "      <td>NaN</td>\n",
       "      <td>I don't understand this question</td>\n",
       "      <td>No</td>\n",
       "      <td>NaN</td>\n",
       "      <td>No</td>\n",
       "      <td>Male</td>\n",
       "      <td>18-29</td>\n",
       "      <td>$0 - $24,999</td>\n",
       "      <td>High school degree</td>\n",
       "      <td>West North Central</td>\n",
       "    </tr>\n",
       "    <tr>\n",
       "      <th>3</th>\n",
       "      <td>True</td>\n",
       "      <td>True</td>\n",
       "      <td>True</td>\n",
       "      <td>True</td>\n",
       "      <td>True</td>\n",
       "      <td>True</td>\n",
       "      <td>True</td>\n",
       "      <td>True</td>\n",
       "      <td>5.0</td>\n",
       "      <td>6.0</td>\n",
       "      <td>...</td>\n",
       "      <td>2.0</td>\n",
       "      <td>I don't understand this question</td>\n",
       "      <td>No</td>\n",
       "      <td>NaN</td>\n",
       "      <td>Yes</td>\n",
       "      <td>Male</td>\n",
       "      <td>18-29</td>\n",
       "      <td>$100,000 - $149,999</td>\n",
       "      <td>Some college or Associate degree</td>\n",
       "      <td>West North Central</td>\n",
       "    </tr>\n",
       "    <tr>\n",
       "      <th>4</th>\n",
       "      <td>True</td>\n",
       "      <td>True</td>\n",
       "      <td>True</td>\n",
       "      <td>True</td>\n",
       "      <td>True</td>\n",
       "      <td>True</td>\n",
       "      <td>True</td>\n",
       "      <td>True</td>\n",
       "      <td>5.0</td>\n",
       "      <td>4.0</td>\n",
       "      <td>...</td>\n",
       "      <td>1.0</td>\n",
       "      <td>Greedo</td>\n",
       "      <td>Yes</td>\n",
       "      <td>False</td>\n",
       "      <td>No</td>\n",
       "      <td>Male</td>\n",
       "      <td>18-29</td>\n",
       "      <td>$100,000 - $149,999</td>\n",
       "      <td>Some college or Associate degree</td>\n",
       "      <td>West North Central</td>\n",
       "    </tr>\n",
       "  </tbody>\n",
       "</table>\n",
       "<p>5 rows × 37 columns</p>\n",
       "</div>"
      ],
      "text/plain": [
       "  Have you seen any of the 6 films in the Star Wars franchise?  \\\n",
       "0                                               True             \n",
       "1                                              False             \n",
       "2                                               True             \n",
       "3                                               True             \n",
       "4                                               True             \n",
       "\n",
       "  Do you consider yourself to be a fan of the Star Wars film franchise?  \\\n",
       "0                                               True                      \n",
       "1                                                NaN                      \n",
       "2                                              False                      \n",
       "3                                               True                      \n",
       "4                                               True                      \n",
       "\n",
       "  Seen: Episode I  The Phantom Menace Seen: Episode II  Attack of the Clones  \\\n",
       "0                                True                                   True   \n",
       "1                               False                                  False   \n",
       "2                                True                                   True   \n",
       "3                                True                                   True   \n",
       "4                                True                                   True   \n",
       "\n",
       "  Seen: Episode III  Revenge of the Sith Seen: Episode IV  A New Hope  \\\n",
       "0                                   True                         True   \n",
       "1                                  False                        False   \n",
       "2                                   True                        False   \n",
       "3                                   True                         True   \n",
       "4                                   True                         True   \n",
       "\n",
       "  Seen: Episode V The Empire Strikes Back Seen: Episode VI Return of the Jedi  \\\n",
       "0                                    True                                True   \n",
       "1                                   False                               False   \n",
       "2                                   False                               False   \n",
       "3                                    True                                True   \n",
       "4                                    True                                True   \n",
       "\n",
       "   Ranking: Episode I  The Phantom Menace  \\\n",
       "0                                     3.0   \n",
       "1                                     NaN   \n",
       "2                                     1.0   \n",
       "3                                     5.0   \n",
       "4                                     5.0   \n",
       "\n",
       "   Ranking: Episode II  Attack of the Clones            ...             \\\n",
       "0                                        2.0            ...              \n",
       "1                                        NaN            ...              \n",
       "2                                        2.0            ...              \n",
       "3                                        6.0            ...              \n",
       "4                                        4.0            ...              \n",
       "\n",
       "   Popularity: Yoda       Which character shot first?  \\\n",
       "0               2.0  I don't understand this question   \n",
       "1               NaN                               NaN   \n",
       "2               NaN  I don't understand this question   \n",
       "3               2.0  I don't understand this question   \n",
       "4               1.0                            Greedo   \n",
       "\n",
       "   Are you familiar with the Expanded Universe?  \\\n",
       "0                                           Yes   \n",
       "1                                           NaN   \n",
       "2                                            No   \n",
       "3                                            No   \n",
       "4                                           Yes   \n",
       "\n",
       "   Do you consider yourself to be a fan of the Expanded Universe?  \\\n",
       "0                                              False                \n",
       "1                                                NaN                \n",
       "2                                                NaN                \n",
       "3                                                NaN                \n",
       "4                                              False                \n",
       "\n",
       "   Do you consider yourself to be a fan of the Star Trek franchise?  Gender  \\\n",
       "0                                                 No                   Male   \n",
       "1                                                Yes                   Male   \n",
       "2                                                 No                   Male   \n",
       "3                                                Yes                   Male   \n",
       "4                                                 No                   Male   \n",
       "\n",
       "     Age     Household Income                         Education  \\\n",
       "0  18-29                  NaN                High school degree   \n",
       "1  18-29         $0 - $24,999                   Bachelor degree   \n",
       "2  18-29         $0 - $24,999                High school degree   \n",
       "3  18-29  $100,000 - $149,999  Some college or Associate degree   \n",
       "4  18-29  $100,000 - $149,999  Some college or Associate degree   \n",
       "\n",
       "   Location (Census Region)  \n",
       "0            South Atlantic  \n",
       "1        West South Central  \n",
       "2        West North Central  \n",
       "3        West North Central  \n",
       "4        West North Central  \n",
       "\n",
       "[5 rows x 37 columns]"
      ]
     },
     "execution_count": 2,
     "metadata": {},
     "output_type": "execute_result"
    }
   ],
   "source": [
    "URL = 'https://raw.githubusercontent.com/fivethirtyeight/data/master/star-wars-survey/StarWars.csv' #data location\n",
    "    \n",
    "star_wars = pd.read_csv(URL, encoding=\"ISO-8859-1\")#accessing it\n",
    "\n",
    "star_wars.iloc[0:10, 9:] #retitle columns\n",
    "for index in range(3,9):\n",
    "    star_wars.rename(\n",
    "        columns={star_wars.columns[index]:'Seen: ' + star_wars.iloc[0,index][11:]},\n",
    "        inplace=True\n",
    "    )\n",
    "for index in range(9,15):\n",
    "    star_wars.rename(\n",
    "        columns={star_wars.columns[index]:'Ranking: ' + star_wars.iloc[0,index][11:]},\n",
    "        inplace=True\n",
    "    )    \n",
    "for index in range(15,29):\n",
    "    star_wars.rename(\n",
    "        columns={star_wars.columns[index]:'Popularity: ' + star_wars.iloc[0,index]},\n",
    "        inplace=True\n",
    "    )\n",
    "    \n",
    "#recode as booleans and set index\n",
    "\n",
    "star_wars.rename(columns={star_wars.columns[31]:'Do you consider yourself to be a fan of the Expanded Universe?'}, inplace=True)\n",
    "    \n",
    "star_wars.drop(0, inplace=True)\n",
    "\n",
    "star_wars.set_index('RespondentID', inplace=True)\n",
    "\n",
    "yes_no = {\n",
    "   'Yes': True,\n",
    "   'No': False \n",
    "}\n",
    "\n",
    "star_wars.iloc[:,0] = star_wars.iloc[:,0].map(yes_no)\n",
    "star_wars.iloc[:,1] = star_wars.iloc[:,1].map(yes_no)\n",
    "star_wars.iloc[:,30] = star_wars.iloc[:,30].map(yes_no)\n",
    "\n",
    "for index in range(2,8):\n",
    "    col_name = star_wars.columns[index]\n",
    "    star_wars[col_name] = pd.notnull(star_wars[col_name])\n",
    "    \n",
    "star_wars[star_wars.columns[8:14]] = star_wars[star_wars.columns[8:14]].astype(float)\n",
    "\n",
    "string_to_number = { #recode popularity data\n",
    "    'Very favorably' : 2,\n",
    "    'Somewhat favorably' : 1,\n",
    "    'Neither favorably nor unfavorably (neutral)' : 0,\n",
    "    'Somewhat unfavorably' : -1,\n",
    "    'Very unfavorably' : -2,\n",
    "    'Unfamiliar (N/A)' : None,\n",
    "    None : None\n",
    "}\n",
    "no_nan = star_wars[star_wars.columns[14:28]].fillna('Unfamiliar (N/A)')\n",
    "star_wars[star_wars.columns[14:28]] = no_nan.applymap(lambda x: string_to_number[x])\n",
    "star_wars.index = range(len(star_wars))\n",
    "\n",
    "star_wars.head() #preview the data"
   ]
  },
  {
   "cell_type": "markdown",
   "metadata": {},
   "source": [
    "## PART B\n",
    "### Plotting the Overall Rankings\n",
    "Now we want to look at people's rankings of each movie. This is taken from each participant's ranking the six movies from first to sixth such that the closer to 1 a rating is, the better."
   ]
  },
  {
   "cell_type": "code",
   "execution_count": 3,
   "metadata": {
    "collapsed": false
   },
   "outputs": [],
   "source": [
    "ranking = star_wars.iloc[:,8:14] #splice the ranking data into a seperate variable\n",
    "ranking_means = ranking.apply(np.mean) #calculate and store the means\n",
    "ranking_sem = ranking.apply(np.std) / np.sqrt(len(ranking)) #calculate and store the std errors"
   ]
  },
  {
   "cell_type": "code",
   "execution_count": 4,
   "metadata": {
    "collapsed": false,
    "scrolled": true
   },
   "outputs": [
    {
     "data": {
      "image/png": "[encoded data removed]",
      "text/plain": [
       "<matplotlib.figure.Figure at 0x1f200463208>"
      ]
     },
     "metadata": {},
     "output_type": "display_data"
    }
   ],
   "source": [
    "width = 0.2 #width of the bars\n",
    "index = np.arange(len(ranking_means)) #index for x_locations of bars\n",
    "\n",
    "fig, ax = plt.subplots() \n",
    "rects = ax.bar(index, ranking_means, width, color='grey', yerr=ranking_sem)\n",
    "ax.set_ylabel('Ranking(mean) [lower is better]')\n",
    "ax.set_title('Average ranking for the first six Star Wars movies')\n",
    "ax.set_xticks(index)\n",
    "ax.set_xticklabels([(x[9:]) for x in ranking.columns], rotation='vertical');"
   ]
  },
  {
   "cell_type": "markdown",
   "metadata": {},
   "source": [
    "Error bars represent the standard errors of the mean. The graph is a not very intuitive because higher bars represent lower rankings, but we can see that the original trilogy is ranked more highly among the six films on average than are the prequels. It's also does not look very nice. Here we'll replot it using the interactive plotly library."
   ]
  },
  {
   "cell_type": "code",
   "execution_count": 5,
   "metadata": {
    "collapsed": false,
    "scrolled": true
   },
   "outputs": [
    {
     "data": {
      "application/vnd.plotly.v1+json": {
       "data": [
        {
         "hoverinfo": "text",
         "marker": {
          "color": "rgb(252,223,0)"
         },
         "opacity": 1,
         "text": [
          "3.73293413174<br>Average Film Ranking (out of 6)<br>Episode I  The Phantom Menace",
          "4.08732057416<br>Average Film Ranking (out of 6)<br>Episode II  Attack of the Clones",
          "4.34131736527<br>Average Film Ranking (out of 6)<br>Episode III  Revenge of the Sith",
          "3.27272727273<br>Average Film Ranking (out of 6)<br>Episode IV  A New Hope",
          "2.51315789474<br>Average Film Ranking (out of 6)<br>Episode V The Empire Strikes Back",
          "3.04784688995<br>Average Film Ranking (out of 6)<br>Episode VI Return of the Jedi"
         ],
         "textfont": {
          "color": "#1f77b4",
          "family": "sans serif",
          "size": 18
         },
         "type": "bar",
         "width": 0.6,
         "x": [
          "Ep I",
          "Ep II",
          "Ep III",
          "Ep IV",
          "Ep V",
          "Ep VI"
         ],
         "y": [
          2.2670658682634732,
          1.9126794258373208,
          1.658682634730539,
          2.727272727272727,
          3.486842105263158,
          2.952153110047847
         ]
        }
       ],
       "layout": {
        "annotations": [],
        "height": 600,
        "paper_bgcolor": "rgba(10, 0, 0, 1)",
        "plot_bgcolor": "rgba(10, 0, 0, 1)",
        "title": "<b>Original Trilogy Reigns Supreme</b> <br> Average Films Rankings",
        "titlefont": {
         "color": "rgb(255,255,255)",
         "family": "open sans",
         "size": 21
        },
        "xaxis": {
         "linecolor": "rgb(255,255,255)",
         "linewidth": 1,
         "tickfont": {
          "color": "rgb(255,255,255)",
          "family": "open sans",
          "size": 14
         }
        },
        "yaxis": {
         "linecolor": "rgb(0,0,0)",
         "linewidth": 0,
         "range": [
          0,
          5
         ],
         "tickfont": {
          "color": "rgb(255,255,255)",
          "family": "open sans",
          "size": 14
         },
         "tickmode": "array",
         "ticktext": [
          6,
          5.5,
          5,
          4.5,
          4,
          3.5,
          3,
          2.5,
          2,
          1.5,
          1
         ],
         "tickvals": [
          0,
          0.5,
          1,
          1.5,
          2,
          2.5,
          3,
          3.5,
          4,
          4.5,
          5
         ]
        }
       }
      },
      "text/html": [
       "<div id=\"f82e20d4-59e3-4879-851b-c6a9358e7d1e\" style=\"height: 600px; width: 100%;\" class=\"plotly-graph-div\"></div><script type=\"text/javascript\">require([\"plotly\"], function(Plotly) { window.PLOTLYENV=window.PLOTLYENV || {};window.PLOTLYENV.BASE_URL=\"https://plot.ly\";Plotly.newPlot(\"f82e20d4-59e3-4879-851b-c6a9358e7d1e\", [{\"type\": \"bar\", \"hoverinfo\": \"text\", \"x\": [\"Ep I\", \"Ep II\", \"Ep III\", \"Ep IV\", \"Ep V\", \"Ep VI\"], \"textfont\": {\"family\": \"sans serif\", \"size\": 18, \"color\": \"#1f77b4\"}, \"y\": [2.2670658682634732, 1.9126794258373208, 1.658682634730539, 2.727272727272727, 3.486842105263158, 2.952153110047847], \"text\": [\"3.73293413174<br>Average Film Ranking (out of 6)<br>Episode I  The Phantom Menace\", \"4.08732057416<br>Average Film Ranking (out of 6)<br>Episode II  Attack of the Clones\", \"4.34131736527<br>Average Film Ranking (out of 6)<br>Episode III  Revenge of the Sith\", \"3.27272727273<br>Average Film Ranking (out of 6)<br>Episode IV  A New Hope\", \"2.51315789474<br>Average Film Ranking (out of 6)<br>Episode V The Empire Strikes Back\", \"3.04784688995<br>Average Film Ranking (out of 6)<br>Episode VI Return of the Jedi\"], \"marker\": {\"color\": \"rgb(252,223,0)\"}, \"opacity\": 1, \"width\": 0.6}], {\"title\": \"<b>Original Trilogy Reigns Supreme</b> <br> Average Films Rankings\", \"titlefont\": {\"color\": \"rgb(255,255,255)\", \"size\": 21, \"family\": \"open sans\"}, \"plot_bgcolor\": \"rgba(10, 0, 0, 1)\", \"paper_bgcolor\": \"rgba(10, 0, 0, 1)\", \"height\": 600, \"annotations\": [], \"xaxis\": {\"tickfont\": {\"family\": \"open sans\", \"size\": 14, \"color\": \"rgb(255,255,255)\"}, \"linecolor\": \"rgb(255,255,255)\", \"linewidth\": 1}, \"yaxis\": {\"range\": [0, 5], \"tickvals\": [0, 0.5, 1, 1.5, 2, 2.5, 3, 3.5, 4, 4.5, 5], \"tickmode\": \"array\", \"ticktext\": [6, 5.5, 5, 4.5, 4, 3.5, 3, 2.5, 2, 1.5, 1], \"tickfont\": {\"family\": \"open sans\", \"size\": 14, \"color\": \"rgb(255,255,255)\"}, \"linecolor\": \"rgb(0,0,0)\", \"linewidth\": 0}}, {\"showLink\": true, \"linkText\": \"Export to plot.ly\"})});</script>"
      ],
      "text/vnd.plotly.v1+html": [
       "<div id=\"f82e20d4-59e3-4879-851b-c6a9358e7d1e\" style=\"height: 600px; width: 100%;\" class=\"plotly-graph-div\"></div><script type=\"text/javascript\">require([\"plotly\"], function(Plotly) { window.PLOTLYENV=window.PLOTLYENV || {};window.PLOTLYENV.BASE_URL=\"https://plot.ly\";Plotly.newPlot(\"f82e20d4-59e3-4879-851b-c6a9358e7d1e\", [{\"type\": \"bar\", \"hoverinfo\": \"text\", \"x\": [\"Ep I\", \"Ep II\", \"Ep III\", \"Ep IV\", \"Ep V\", \"Ep VI\"], \"textfont\": {\"family\": \"sans serif\", \"size\": 18, \"color\": \"#1f77b4\"}, \"y\": [2.2670658682634732, 1.9126794258373208, 1.658682634730539, 2.727272727272727, 3.486842105263158, 2.952153110047847], \"text\": [\"3.73293413174<br>Average Film Ranking (out of 6)<br>Episode I  The Phantom Menace\", \"4.08732057416<br>Average Film Ranking (out of 6)<br>Episode II  Attack of the Clones\", \"4.34131736527<br>Average Film Ranking (out of 6)<br>Episode III  Revenge of the Sith\", \"3.27272727273<br>Average Film Ranking (out of 6)<br>Episode IV  A New Hope\", \"2.51315789474<br>Average Film Ranking (out of 6)<br>Episode V The Empire Strikes Back\", \"3.04784688995<br>Average Film Ranking (out of 6)<br>Episode VI Return of the Jedi\"], \"marker\": {\"color\": \"rgb(252,223,0)\"}, \"opacity\": 1, \"width\": 0.6}], {\"title\": \"<b>Original Trilogy Reigns Supreme</b> <br> Average Films Rankings\", \"titlefont\": {\"color\": \"rgb(255,255,255)\", \"size\": 21, \"family\": \"open sans\"}, \"plot_bgcolor\": \"rgba(10, 0, 0, 1)\", \"paper_bgcolor\": \"rgba(10, 0, 0, 1)\", \"height\": 600, \"annotations\": [], \"xaxis\": {\"tickfont\": {\"family\": \"open sans\", \"size\": 14, \"color\": \"rgb(255,255,255)\"}, \"linecolor\": \"rgb(255,255,255)\", \"linewidth\": 1}, \"yaxis\": {\"range\": [0, 5], \"tickvals\": [0, 0.5, 1, 1.5, 2, 2.5, 3, 3.5, 4, 4.5, 5], \"tickmode\": \"array\", \"ticktext\": [6, 5.5, 5, 4.5, 4, 3.5, 3, 2.5, 2, 1.5, 1], \"tickfont\": {\"family\": \"open sans\", \"size\": 14, \"color\": \"rgb(255,255,255)\"}, \"linecolor\": \"rgb(0,0,0)\", \"linewidth\": 0}}, {\"showLink\": true, \"linkText\": \"Export to plot.ly\"})});</script>"
      ]
     },
     "metadata": {},
     "output_type": "display_data"
    }
   ],
   "source": [
    "numerals = ['I', 'II', 'III', 'IV', 'V', 'VI']\n",
    "xdata = ['Ep ' + x for x in numerals] #create abreviations for x\n",
    "\n",
    "trace1 = go.Bar(  #Generating the bars\n",
    "    hoverinfo = 'text',\n",
    "    x = xdata,\n",
    "     textfont=dict(\n",
    "        family='sans serif',\n",
    "        size=18,\n",
    "        color='#1f77b4'\n",
    "    ),\n",
    "    y = [6 - x for x in ranking_means], #recoding such that shorter is worse, taller better\n",
    "    text = [str(ranking_means[x]) + '<br>Average Film Ranking (out of 6)<br>' + list(ranking.columns)[x][9:] for x in range(6)], #hover captions]\n",
    "      marker=dict(\n",
    "        color='rgb(252,223,0)'),\n",
    "    opacity=1,\n",
    "    width=.6,\n",
    ")\n",
    "\n",
    "data = [trace1]\n",
    "layout = go.Layout( #making it look and function well\n",
    "    title='<b>Original Trilogy Reigns Supreme</b> <br> Average Films Rankings',\n",
    "    titlefont =dict(color='rgb(255,255,255)', \n",
    "                   size =21,\n",
    "                   family = 'open sans'),          \n",
    "    plot_bgcolor='rgba(10, 0, 0, 1)',\n",
    "    paper_bgcolor ='rgba(10, 0, 0, 1)',\n",
    "    height=600, \n",
    "    annotations=[ ],\n",
    "    xaxis=dict(tickfont=dict(family='open sans', size=14,color='rgb(255,255,255)'), linecolor='rgb(255,255,255)', linewidth=1)\n",
    ",\n",
    "    yaxis=dict(range = [0, 5], tickvals = [0,.5,1,1.5,2,2.5,3,3.5,4, 4.5, 5],tickmode=\"array\", ticktext = [6, 5.5, 5, 4.5, 4, 3.5, 3, 2.5, 2, 1.5, 1], tickfont=dict(family='open sans', size=14,color='rgb(255,255,255)'), linecolor ='rgb(0,0,0)', linewidth=0),\n",
    "   \n",
    ")\n",
    "\n",
    "fig = go.Figure(data=data, layout=layout) #now let's plot it\n",
    "iplot(fig)\n",
    "    "
   ]
  },
  {
   "cell_type": "markdown",
   "metadata": {},
   "source": [
    "Much better. The prequels are clearly ranked lower among the six films than are the original films. But we need to explore the data further for a couple of reasons. First, this includes people who have not seen all six films, and so it might be better to exclude them because they cannot give a fair assessment. Second, this includes everyone, fans and non-fans. Obviously if you have seen all six star wars films you are more likely to be a fan than if you haven't, but there are still some people, like my Gungan loving ex, who have seen all six films but are not themselves fans."
   ]
  },
  {
   "cell_type": "markdown",
   "metadata": {},
   "source": [
    "## PART C\n",
    "### Looking for Film-Fanking Differences between Fans and Non-Fans"
   ]
  },
  {
   "cell_type": "code",
   "execution_count": 6,
   "metadata": {
    "collapsed": false,
    "scrolled": false
   },
   "outputs": [],
   "source": [
    "seen_all = star_wars[(star_wars['Seen: Episode I  The Phantom Menace'] == True) & #store seperately data for only individuals who have seen all the movies\n",
    "                     (star_wars['Seen: Episode II  Attack of the Clones'] == True) &\n",
    "                     (star_wars['Seen: Episode III  Revenge of the Sith'] == True) &\n",
    "                     (star_wars['Seen: Episode IV  A New Hope'] == True) &\n",
    "                     (star_wars['Seen: Episode V The Empire Strikes Back'] == True) &\n",
    "                     (star_wars['Seen: Episode V The Empire Strikes Back'] == True)]\n",
    " \n",
    "seen_all_ranking = seen_all.iloc[:,8:14] #get the rankings\n",
    "seen_all_ranking_means = seen_all_ranking.apply(np.mean) #get the means"
   ]
  },
  {
   "cell_type": "code",
   "execution_count": 7,
   "metadata": {
    "collapsed": false
   },
   "outputs": [
    {
     "name": "stdout",
     "output_type": "stream",
     "text": [
      "seen all:             n = 473\n",
      "seen all, fans:       n = 412\n",
      "seen all, non_fans:   n = 61\n"
     ]
    }
   ],
   "source": [
    "fan = seen_all[seen_all[\"Do you consider yourself to be a fan of the Star Wars film franchise?\"] == True]\n",
    "fan_rankings = fan.iloc[:,8:14] #get the fans' rankings\n",
    "\n",
    "non_fan = seen_all[seen_all[\"Do you consider yourself to be a fan of the Star Wars film franchise?\"] == False]\n",
    "non_fan_rankings = non_fan.iloc[:,8:14] #get the non-fans' rankings\n",
    "\n",
    "print('seen all:             n =', len(seen_all)) #how many have seen all the six films\n",
    "print('seen all, fans:       n =', len(fan))\n",
    "print('seen all, non_fans:   n =', len(non_fan))"
   ]
  },
  {
   "cell_type": "code",
   "execution_count": 8,
   "metadata": {
    "collapsed": false
   },
   "outputs": [],
   "source": [
    "fan_ranking_means = fan_rankings.apply(np.mean) #get the fans' means\n",
    "fan_ranking_sem = fan_rankings.apply(np.std) / np.sqrt(len(fan_rankings)) #std error\n",
    "\n",
    "non_fan_ranking_means = non_fan_rankings.apply(np.mean) #ditto for non-fans\n",
    "non_fan_ranking_sem = non_fan_rankings.apply(np.std) / np.sqrt(len(non_fan_rankings))"
   ]
  },
  {
   "cell_type": "code",
   "execution_count": 9,
   "metadata": {
    "collapsed": false,
    "scrolled": false
   },
   "outputs": [
    {
     "data": {
      "image/png": "[encoded data removed]",
      "text/plain": [
       "<matplotlib.figure.Figure at 0x1f20063ad30>"
      ]
     },
     "metadata": {},
     "output_type": "display_data"
    }
   ],
   "source": [
    "width = 0.2  #let's plot it all \n",
    "index = np.arange(len(ranking_means))\n",
    "\n",
    "fig, ax = plt.subplots()\n",
    "rects_fan = ax.bar(index, fan_ranking_means, width, color='blue', yerr=fan_ranking_sem)\n",
    "rects_non_fan = ax.bar(index + width, non_fan_ranking_means, width, color='green', yerr=non_fan_ranking_sem)\n",
    "\n",
    "ax.set_ylabel('Ranking (mean) [lower is better]')\n",
    "ax.set_title('Average rating for the first six Star Wars movies by group')\n",
    "ax.set_xticks(index + width/2)\n",
    "ax.set_xticklabels([(x[9:]) for x in ranking.columns], rotation='vertical');\n",
    "\n",
    "\n",
    "ax.legend((rects_fan[0], rects_non_fan[0]), ('Self-Identify as Fans', 'Do not Self-identify as Fans'));"
   ]
  },
  {
   "cell_type": "markdown",
   "metadata": {},
   "source": [
    "There it is! Even though the prequels are uniformly disliked by fans and the original trilogy revered, the trend is not as strong among the non-fans. Non-fans tend to rank Episode I almost as highly on average as Episodes IV and VI.\n",
    "\n",
    "But just as before, let's reconfigure and reconstruct the figure in plotly.\n"
   ]
  },
  {
   "cell_type": "code",
   "execution_count": 10,
   "metadata": {
    "collapsed": false
   },
   "outputs": [
    {
     "data": {
      "application/vnd.plotly.v1+json": {
       "data": [
        {
         "hoverinfo": "text",
         "marker": {
          "color": "fd972b"
         },
         "name": "Self-Identify as Fans",
         "opacity": 1,
         "text": [
          "4.34708737864<br>Average Fan Film Ranking (out of 6)<br>Episode I  The Phantom Menace",
          "4.41019417476<br>Average Fan Film Ranking (out of 6)<br>Episode II  Attack of the Clones",
          "4.2895377129<br>Average Fan Film Ranking (out of 6)<br>Episode III  Revenge of the Sith",
          "2.74514563107<br>Average Fan Film Ranking (out of 6)<br>Episode IV  A New Hope",
          "2.33980582524<br>Average Fan Film Ranking (out of 6)<br>Episode V The Empire Strikes Back",
          "2.8640776699<br>Average Fan Film Ranking (out of 6)<br>Episode VI Return of the Jedi"
         ],
         "textfont": {
          "color": "#1f77b4",
          "family": "sans serif",
          "size": 18
         },
         "type": "bar",
         "width": 0.4,
         "x": [
          "Ep I",
          "Ep II",
          "Ep III",
          "Ep IV",
          "Ep V",
          "Ep VI"
         ],
         "y": [
          1.6529126213592233,
          1.5898058252427187,
          1.7104622871046224,
          3.254854368932039,
          3.6601941747572817,
          3.1359223300970873
         ]
        },
        {
         "hoverinfo": "text",
         "marker": {
          "color": "1a75bc"
         },
         "name": "Do not Self-Identify as Fans",
         "opacity": 1,
         "text": [
          "3.47540983607<br>Average Non-Fan Film Ranking (out of 6)<br>Episode I  The Phantom Menace",
          "3.77049180328<br>Average Non-Fan Film Ranking (out of 6)<br>Episode II  Attack of the Clones",
          "4.04918032787<br>Average Non-Fan Film Ranking (out of 6)<br>Episode III  Revenge of the Sith",
          "3.62295081967<br>Average Non-Fan Film Ranking (out of 6)<br>Episode IV  A New Hope",
          "2.6393442623<br>Average Non-Fan Film Ranking (out of 6)<br>Episode V The Empire Strikes Back",
          "3.44262295082<br>Average Non-Fan Film Ranking (out of 6)<br>Episode VI Return of the Jedi"
         ],
         "textfont": {
          "color": "#1f77b4",
          "family": "sans serif",
          "size": 18
         },
         "type": "bar",
         "width": 0.4,
         "x": [
          "Ep I",
          "Ep II",
          "Ep III",
          "Ep IV",
          "Ep V",
          "Ep VI"
         ],
         "y": [
          2.5245901639344264,
          2.2295081967213113,
          1.9508196721311473,
          2.377049180327869,
          3.360655737704918,
          2.557377049180328
         ]
        }
       ],
       "layout": {
        "annotations": [],
        "barmode": "group",
        "height": 700,
        "legend": {
         "font": {
          "color": "rgb(255,255,255)"
         },
         "orientation": "h"
        },
        "paper_bgcolor": "rgba(10, 0, 0, 1)",
        "plot_bgcolor": "rgba(10, 0, 0, 1)",
        "title": "<b>Prequel-Hate among Fans</b> <br> Average Films Rankings by Self-Identified Fan Status",
        "titlefont": {
         "color": "rgb(255,255,255)",
         "family": "open sans",
         "size": 21
        },
        "xaxis": {
         "linecolor": "rgb(255,255,255)",
         "linewidth": 1,
         "tickfont": {
          "color": "rgb(255,255,255)",
          "family": "open sans",
          "size": 14
         }
        },
        "yaxis": {
         "linecolor": "rgb(0,0,0)",
         "linewidth": 0,
         "range": [
          0,
          5
         ],
         "tickfont": {
          "color": "rgb(255,255,255)",
          "family": "open sans",
          "size": 14
         },
         "tickmode": "array",
         "ticktext": [
          6,
          5.5,
          5,
          4.5,
          4,
          3.5,
          3,
          2.5,
          2,
          1.5,
          1
         ],
         "tickvals": [
          0,
          0.5,
          1,
          1.5,
          2,
          2.5,
          3,
          3.5,
          4,
          4.5,
          5
         ]
        }
       }
      },
      "text/html": [
       "<div id=\"f44d103a-ebda-44ee-9505-d43a84c95f44\" style=\"height: 700px; width: 100%;\" class=\"plotly-graph-div\"></div><script type=\"text/javascript\">require([\"plotly\"], function(Plotly) { window.PLOTLYENV=window.PLOTLYENV || {};window.PLOTLYENV.BASE_URL=\"https://plot.ly\";Plotly.newPlot(\"f44d103a-ebda-44ee-9505-d43a84c95f44\", [{\"type\": \"bar\", \"name\": \"Self-Identify as Fans\", \"hoverinfo\": \"text\", \"x\": [\"Ep I\", \"Ep II\", \"Ep III\", \"Ep IV\", \"Ep V\", \"Ep VI\"], \"textfont\": {\"family\": \"sans serif\", \"size\": 18, \"color\": \"#1f77b4\"}, \"y\": [1.6529126213592233, 1.5898058252427187, 1.7104622871046224, 3.254854368932039, 3.6601941747572817, 3.1359223300970873], \"text\": [\"4.34708737864<br>Average Fan Film Ranking (out of 6)<br>Episode I  The Phantom Menace\", \"4.41019417476<br>Average Fan Film Ranking (out of 6)<br>Episode II  Attack of the Clones\", \"4.2895377129<br>Average Fan Film Ranking (out of 6)<br>Episode III  Revenge of the Sith\", \"2.74514563107<br>Average Fan Film Ranking (out of 6)<br>Episode IV  A New Hope\", \"2.33980582524<br>Average Fan Film Ranking (out of 6)<br>Episode V The Empire Strikes Back\", \"2.8640776699<br>Average Fan Film Ranking (out of 6)<br>Episode VI Return of the Jedi\"], \"marker\": {\"color\": \"fd972b\"}, \"opacity\": 1, \"width\": 0.4}, {\"type\": \"bar\", \"name\": \"Do not Self-Identify as Fans\", \"hoverinfo\": \"text\", \"x\": [\"Ep I\", \"Ep II\", \"Ep III\", \"Ep IV\", \"Ep V\", \"Ep VI\"], \"textfont\": {\"family\": \"sans serif\", \"size\": 18, \"color\": \"#1f77b4\"}, \"y\": [2.5245901639344264, 2.2295081967213113, 1.9508196721311473, 2.377049180327869, 3.360655737704918, 2.557377049180328], \"text\": [\"3.47540983607<br>Average Non-Fan Film Ranking (out of 6)<br>Episode I  The Phantom Menace\", \"3.77049180328<br>Average Non-Fan Film Ranking (out of 6)<br>Episode II  Attack of the Clones\", \"4.04918032787<br>Average Non-Fan Film Ranking (out of 6)<br>Episode III  Revenge of the Sith\", \"3.62295081967<br>Average Non-Fan Film Ranking (out of 6)<br>Episode IV  A New Hope\", \"2.6393442623<br>Average Non-Fan Film Ranking (out of 6)<br>Episode V The Empire Strikes Back\", \"3.44262295082<br>Average Non-Fan Film Ranking (out of 6)<br>Episode VI Return of the Jedi\"], \"marker\": {\"color\": \"1a75bc\"}, \"opacity\": 1, \"width\": 0.4}], {\"barmode\": \"group\", \"title\": \"<b>Prequel-Hate among Fans</b> <br> Average Films Rankings by Self-Identified Fan Status\", \"titlefont\": {\"color\": \"rgb(255,255,255)\", \"size\": 21, \"family\": \"open sans\"}, \"plot_bgcolor\": \"rgba(10, 0, 0, 1)\", \"paper_bgcolor\": \"rgba(10, 0, 0, 1)\", \"height\": 700, \"annotations\": [], \"xaxis\": {\"tickfont\": {\"family\": \"open sans\", \"size\": 14, \"color\": \"rgb(255,255,255)\"}, \"linecolor\": \"rgb(255,255,255)\", \"linewidth\": 1}, \"yaxis\": {\"range\": [0, 5], \"tickvals\": [0, 0.5, 1, 1.5, 2, 2.5, 3, 3.5, 4, 4.5, 5], \"tickmode\": \"array\", \"ticktext\": [6, 5.5, 5, 4.5, 4, 3.5, 3, 2.5, 2, 1.5, 1], \"tickfont\": {\"family\": \"open sans\", \"size\": 14, \"color\": \"rgb(255,255,255)\"}, \"linecolor\": \"rgb(0,0,0)\", \"linewidth\": 0}, \"legend\": {\"orientation\": \"h\", \"font\": {\"color\": \"rgb(255,255,255)\"}}}, {\"showLink\": true, \"linkText\": \"Export to plot.ly\"})});</script>"
      ],
      "text/vnd.plotly.v1+html": [
       "<div id=\"f44d103a-ebda-44ee-9505-d43a84c95f44\" style=\"height: 700px; width: 100%;\" class=\"plotly-graph-div\"></div><script type=\"text/javascript\">require([\"plotly\"], function(Plotly) { window.PLOTLYENV=window.PLOTLYENV || {};window.PLOTLYENV.BASE_URL=\"https://plot.ly\";Plotly.newPlot(\"f44d103a-ebda-44ee-9505-d43a84c95f44\", [{\"type\": \"bar\", \"name\": \"Self-Identify as Fans\", \"hoverinfo\": \"text\", \"x\": [\"Ep I\", \"Ep II\", \"Ep III\", \"Ep IV\", \"Ep V\", \"Ep VI\"], \"textfont\": {\"family\": \"sans serif\", \"size\": 18, \"color\": \"#1f77b4\"}, \"y\": [1.6529126213592233, 1.5898058252427187, 1.7104622871046224, 3.254854368932039, 3.6601941747572817, 3.1359223300970873], \"text\": [\"4.34708737864<br>Average Fan Film Ranking (out of 6)<br>Episode I  The Phantom Menace\", \"4.41019417476<br>Average Fan Film Ranking (out of 6)<br>Episode II  Attack of the Clones\", \"4.2895377129<br>Average Fan Film Ranking (out of 6)<br>Episode III  Revenge of the Sith\", \"2.74514563107<br>Average Fan Film Ranking (out of 6)<br>Episode IV  A New Hope\", \"2.33980582524<br>Average Fan Film Ranking (out of 6)<br>Episode V The Empire Strikes Back\", \"2.8640776699<br>Average Fan Film Ranking (out of 6)<br>Episode VI Return of the Jedi\"], \"marker\": {\"color\": \"fd972b\"}, \"opacity\": 1, \"width\": 0.4}, {\"type\": \"bar\", \"name\": \"Do not Self-Identify as Fans\", \"hoverinfo\": \"text\", \"x\": [\"Ep I\", \"Ep II\", \"Ep III\", \"Ep IV\", \"Ep V\", \"Ep VI\"], \"textfont\": {\"family\": \"sans serif\", \"size\": 18, \"color\": \"#1f77b4\"}, \"y\": [2.5245901639344264, 2.2295081967213113, 1.9508196721311473, 2.377049180327869, 3.360655737704918, 2.557377049180328], \"text\": [\"3.47540983607<br>Average Non-Fan Film Ranking (out of 6)<br>Episode I  The Phantom Menace\", \"3.77049180328<br>Average Non-Fan Film Ranking (out of 6)<br>Episode II  Attack of the Clones\", \"4.04918032787<br>Average Non-Fan Film Ranking (out of 6)<br>Episode III  Revenge of the Sith\", \"3.62295081967<br>Average Non-Fan Film Ranking (out of 6)<br>Episode IV  A New Hope\", \"2.6393442623<br>Average Non-Fan Film Ranking (out of 6)<br>Episode V The Empire Strikes Back\", \"3.44262295082<br>Average Non-Fan Film Ranking (out of 6)<br>Episode VI Return of the Jedi\"], \"marker\": {\"color\": \"1a75bc\"}, \"opacity\": 1, \"width\": 0.4}], {\"barmode\": \"group\", \"title\": \"<b>Prequel-Hate among Fans</b> <br> Average Films Rankings by Self-Identified Fan Status\", \"titlefont\": {\"color\": \"rgb(255,255,255)\", \"size\": 21, \"family\": \"open sans\"}, \"plot_bgcolor\": \"rgba(10, 0, 0, 1)\", \"paper_bgcolor\": \"rgba(10, 0, 0, 1)\", \"height\": 700, \"annotations\": [], \"xaxis\": {\"tickfont\": {\"family\": \"open sans\", \"size\": 14, \"color\": \"rgb(255,255,255)\"}, \"linecolor\": \"rgb(255,255,255)\", \"linewidth\": 1}, \"yaxis\": {\"range\": [0, 5], \"tickvals\": [0, 0.5, 1, 1.5, 2, 2.5, 3, 3.5, 4, 4.5, 5], \"tickmode\": \"array\", \"ticktext\": [6, 5.5, 5, 4.5, 4, 3.5, 3, 2.5, 2, 1.5, 1], \"tickfont\": {\"family\": \"open sans\", \"size\": 14, \"color\": \"rgb(255,255,255)\"}, \"linecolor\": \"rgb(0,0,0)\", \"linewidth\": 0}, \"legend\": {\"orientation\": \"h\", \"font\": {\"color\": \"rgb(255,255,255)\"}}}, {\"showLink\": true, \"linkText\": \"Export to plot.ly\"})});</script>"
      ]
     },
     "metadata": {},
     "output_type": "display_data"
    }
   ],
   "source": [
    "trace1 = go.Bar( #Fans bar\n",
    "    name = 'Self-Identify as Fans',\n",
    "    hoverinfo = 'text',\n",
    "    x = xdata,\n",
    "     textfont=dict(\n",
    "        family='sans serif',\n",
    "        size=18,\n",
    "        color='#1f77b4'\n",
    "    ),\n",
    "    y = [6 - x for x in fan_ranking_means],\n",
    "    text = [str(fan_ranking_means[x]) + '<br>Average Fan Film Ranking (out of 6)<br>' + list(ranking.columns)[x][9:] for x in range(6)], #\n",
    "      marker=dict(\n",
    "        color='fd972b'),\n",
    "\n",
    "    opacity=1,\n",
    "    width=.4,\n",
    ")\n",
    "\n",
    "trace2 = go.Bar( #Non-Fans\n",
    "    name = 'Do not Self-Identify as Fans',\n",
    "    hoverinfo = 'text',\n",
    "    x = xdata,\n",
    "     textfont=dict(\n",
    "        family='sans serif',\n",
    "        size=18,\n",
    "        color='#1f77b4'\n",
    "    ),\n",
    "    y = [6 - x for x in non_fan_ranking_means], #recoding such that shorter is worse, taller better\n",
    "    text = [str(non_fan_ranking_means[x]) + '<br>Average Non-Fan Film Ranking (out of 6)<br>' + list(ranking.columns)[x][9:] for x in range(6)], #hover text\n",
    "      marker=dict(\n",
    "        color='1a75bc'),\n",
    "\n",
    "    opacity=1,\n",
    "    width=.4,\n",
    ")\n",
    "\n",
    "data = [trace1, trace2]\n",
    "\n",
    "layout = go.Layout( #make it look nice\n",
    "    barmode='group',\n",
    "    title='<b>Prequel-Hate among Fans</b> <br> Average Films Rankings by Self-Identified Fan Status',\n",
    "    titlefont =dict(color='rgb(255,255,255)', \n",
    "                   size =21,\n",
    "                   family = 'open sans'),          \n",
    "    plot_bgcolor='rgba(10, 0, 0, 1)',\n",
    "    paper_bgcolor ='rgba(10, 0, 0, 1)',\n",
    "    height=700, \n",
    "    annotations=[ ],\n",
    "    xaxis=dict(tickfont=dict(family='open sans', size=14,color='rgb(255,255,255)'), linecolor='rgb(255,255,255)', linewidth=1)\n",
    ",\n",
    "    yaxis=dict(range = [0, 5], tickvals = [0,.5,1,1.5,2,2.5,3,3.5,4, 4.5, 5],tickmode=\"array\", ticktext = [6, 5.5, 5, 4.5, 4, 3.5, 3, 2.5, 2, 1.5, 1], tickfont=dict(family='open sans', size=14,color='rgb(255,255,255)'), linecolor ='rgb(0,0,0)', linewidth=0), #making the ticks match the inverted values to preserve proportionality\n",
    "    legend=dict(orientation = 'h',font=dict(color='rgb(255,255,255)')),\n",
    ")\n",
    "\n",
    "fig = go.Figure(data=data, layout=layout)\n",
    "iplot(fig) #plot it\n",
    "\n",
    "\n",
    "\n",
    "    "
   ]
  },
  {
   "cell_type": "markdown",
   "metadata": {},
   "source": [
    "The above figure clearly shows that those surveyed who identified as fans ranked the prequels much lower relative to the non-fans. This suggests that there may be a bandwagon effect within the Star Wars community in which, as a member, it seems canon to love the original trilogy and sacrilege to like the prequels. One of the benefits of the Survey Monkey Audience is that there is probably less self-selection bias than through other advertised Star Wars related polls. Less than half of the participants had seen all six films and nearly a quarter had seen none. This strengthens the external validity of the data to the overall population. But at least everyone still hates Jar-Jar though, right?"
   ]
  },
  {
   "cell_type": "markdown",
   "metadata": {},
   "source": [
    "## Part D\n",
    "### Evaluating Character Popularity between Fans and Non-Fans\n",
    "\n",
    "This was an idea that has been sitting with me for a while. When did I start hating Jar Jar? Why did I find it so appalling that someone whose opinion I otherwise valued was so clearly wrong about something so clearly awful?\n",
    "\n",
    "Jar Jar Binks is possibly one of the most hated characters in a film series of all time. Despite his ostensibly loveable goofiness and being both caring and loyal, Jar Jar is almost universally despised. He is easy to hate. For many Star Wars fans, he represents everything that George Lucas did to ruin the series. He is a computer generated mess of nonsensical dialogue and concocted idiocy that at the same time forces the plot and is completely unnecessary to the story. But to someone initially unfamiliar with the series and also to my younger self, he wasn't that bad. *I think I might have even liked him...*\n",
    "\n",
    "To evaluate the possibly insidious effects of bandwagoning on individuals' views of the characters, I am again taking the data from only participants who had seen all 6 films and splitting it along fans and non-fans. From there I will plot the results.\n",
    "\n"
   ]
  },
  {
   "cell_type": "code",
   "execution_count": 13,
   "metadata": {
    "collapsed": true
   },
   "outputs": [],
   "source": [
    "seen_all_JJB = seen_all.iloc[:,14:28] #get character popularities from seen_all data\n",
    "seen_all_JJB_means = seen_all_JJB.apply(np.mean) #means\n",
    "seen_all_JJB_sem = seen_all_JJB.apply(np.std) / np.sqrt(len(seen_all_JJB)) #std err\n",
    "\n",
    "fan_JJB = fan.iloc[:,14:28] #now for fans\n",
    "fan_JJB_means = fan_JJB.apply(np.mean)\n",
    "fan_JJB_sem = fan_JJB.apply(np.std) / np.sqrt(len(fan_JJB))\n",
    "\n",
    "non_fan_JJB = non_fan.iloc[:,14:28] #ditto for non-fans\n",
    "non_fan_JJB_means = non_fan_JJB.apply(np.mean)\n",
    "non_fan_JJB_sem = non_fan_JJB.apply(np.std) / np.sqrt(len(non_fan_JJB))"
   ]
  },
  {
   "cell_type": "code",
   "execution_count": 14,
   "metadata": {
    "collapsed": false,
    "scrolled": true
   },
   "outputs": [
    {
     "data": {
      "image/png": "[encoded data removed]",
      "text/plain": [
       "<matplotlib.figure.Figure at 0x1f20137e8d0>"
      ]
     },
     "metadata": {},
     "output_type": "display_data"
    },
    {
     "data": {
      "image/png": "[encoded data removed]",
      "text/plain": [
       "<matplotlib.figure.Figure at 0x1f2023bc940>"
      ]
     },
     "metadata": {},
     "output_type": "display_data"
    },
    {
     "data": {
      "image/png": "[encoded data removed]",
      "text/plain": [
       "<matplotlib.figure.Figure at 0x1f2023ef240>"
      ]
     },
     "metadata": {},
     "output_type": "display_data"
    },
    {
     "data": {
      "image/png": "[encoded data removed]",
      "text/plain": [
       "<matplotlib.figure.Figure at 0x1f2024abd30>"
      ]
     },
     "metadata": {},
     "output_type": "display_data"
    },
    {
     "data": {
      "image/png": "[encoded data removed]",
      "text/plain": [
       "<matplotlib.figure.Figure at 0x1f202514fd0>"
      ]
     },
     "metadata": {},
     "output_type": "display_data"
    },
    {
     "data": {
      "image/png": "[encoded data removed]",
      "text/plain": [
       "<matplotlib.figure.Figure at 0x1f202598e10>"
      ]
     },
     "metadata": {},
     "output_type": "display_data"
    },
    {
     "data": {
      "image/png": "[encoded data removed]",
      "text/plain": [
       "<matplotlib.figure.Figure at 0x1f2026100b8>"
      ]
     },
     "metadata": {},
     "output_type": "display_data"
    },
    {
     "data": {
      "image/png": "[encoded data removed]",
      "text/plain": [
       "<matplotlib.figure.Figure at 0x1f202686dd8>"
      ]
     },
     "metadata": {},
     "output_type": "display_data"
    },
    {
     "data": {
      "image/png": "[encoded data removed]",
      "text/plain": [
       "<matplotlib.figure.Figure at 0x1f2026fafd0>"
      ]
     },
     "metadata": {},
     "output_type": "display_data"
    },
    {
     "data": {
      "image/png": "[encoded data removed]",
      "text/plain": [
       "<matplotlib.figure.Figure at 0x1f20277cd68>"
      ]
     },
     "metadata": {},
     "output_type": "display_data"
    },
    {
     "data": {
      "image/png": "[encoded data removed]",
      "text/plain": [
       "<matplotlib.figure.Figure at 0x1f2027f8320>"
      ]
     },
     "metadata": {},
     "output_type": "display_data"
    },
    {
     "data": {
      "image/png": "[encoded data removed]",
      "text/plain": [
       "<matplotlib.figure.Figure at 0x1f202877b38>"
      ]
     },
     "metadata": {},
     "output_type": "display_data"
    },
    {
     "data": {
      "image/png": "[encoded data removed]",
      "text/plain": [
       "<matplotlib.figure.Figure at 0x1f200f150f0>"
      ]
     },
     "metadata": {},
     "output_type": "display_data"
    },
    {
     "data": {
      "image/png": "[encoded data removed]",
      "text/plain": [
       "<matplotlib.figure.Figure at 0x1f201151a90>"
      ]
     },
     "metadata": {},
     "output_type": "display_data"
    }
   ],
   "source": [
    "for character in seen_all_JJB.columns: #plot each character's popularity among fans and non-fans using a for loop\n",
    "   \n",
    "    fig, ax = plt.subplots()\n",
    "    index = 1\n",
    "    width = 0.2\n",
    "    rects_fan_JJB = ax.bar(index, fan_JJB_means[character], width, color='blue', yerr=fan_JJB_sem[character])\n",
    "    rects_non_fan_JJB = ax.bar(index + width, non_fan_JJB_means[character], width, color='green', yerr=non_fan_JJB_sem[character])\n",
    "    ax.set_title(character);"
   ]
  },
  {
   "cell_type": "markdown",
   "metadata": {},
   "source": [
    "First, one can see a significant difference between the fans and non-fans with regards to their favorability of Jar Jar Binks. While non-fans don't mind or even like the oafish Gungan, fans actively dislike him. Second, aside from Jar Jar and also Padme, there is an almost constantly higher favorability among fans. This makes sense, as fans of a series are more likely to find its characters favorable than someone who had seen all six films and still does not consider themselves a fan. Interestingly, Padme is also ranked higher by non-fans than by fans. Padme, along with Jar Jar, appears exclusively in the prequels. Anakin also appears predominantly in the prequels, but because Darth Vader is Anakin Skywalker [SPOILER ALERT! I'm sorry], it is likely that the two are more or less imagined to be the same character. This is further supported by the almost equal rankings that fall within each other's standard error bars. This trend, however, is not seen among non-fans.\n",
    "\n",
    "I am interested in exploring this relationship between characters and their appearances in which trilogies further. But before that, let's create a nicer figure with plotly."
   ]
  },
  {
   "cell_type": "code",
   "execution_count": 15,
   "metadata": {
    "collapsed": false
   },
   "outputs": [
    {
     "data": {
      "application/vnd.plotly.v1+json": {
       "data": [
        {
         "hoverinfo": "text",
         "marker": {
          "color": "fd972b"
         },
         "name": "Self-Identify as Fans",
         "opacity": 1,
         "text": [
          "1.85401459854<br>Average Fan Character Rating<br>Han Solo",
          "1.69268292683<br>Average Fan Character Rating<br>Luke Skywalker",
          "1.69174757282<br>Average Fan Character Rating<br>Princess Leia Organa",
          "0.817073170732<br>Average Fan Character Rating<br>Anakin Skywalker",
          "1.77450980392<br>Average Fan Character Rating<br>Obi Wan Kenobi",
          "0.113695090439<br>Average Fan Character Rating<br>Emperor Palpatine",
          "0.789215686275<br>Average Fan Character Rating<br>Darth Vader",
          "0.780678851175<br>Average Fan Character Rating<br>Lando Calrissian",
          "0.497422680412<br>Average Fan Character Rating<br>Boba Fett",
          "1.45965770171<br>Average Fan Character Rating<br>C-3P0",
          "1.63746958637<br>Average Fan Character Rating<br>R2 D2",
          "-0.425641025641<br>Average Fan Character Rating<br>Jar Jar Binks",
          "0.702770780856<br>Average Fan Character Rating<br>Padme Amidala",
          "1.7756097561<br>Average Fan Character Rating<br>Yoda"
         ],
         "textfont": {
          "color": "#1f77b4",
          "family": "sans serif",
          "size": 18
         },
         "type": "bar",
         "width": 0.4,
         "x": [
          "Han Solo",
          "Luke Skywalker",
          "Princess Leia Organa",
          "Anakin Skywalker",
          "Obi Wan Kenobi",
          "Emperor Palpatine",
          "Darth Vader",
          "Lando Calrissian",
          "Boba Fett",
          "C-3P0",
          "R2 D2",
          "Jar Jar Binks",
          "Padme Amidala",
          "Yoda"
         ],
         "y": [
          1.854014598540146,
          1.6926829268292682,
          1.691747572815534,
          0.8170731707317073,
          1.7745098039215685,
          0.11369509043927649,
          0.7892156862745098,
          0.7806788511749347,
          0.49742268041237114,
          1.4596577017114913,
          1.637469586374696,
          -0.4256410256410256,
          0.7027707808564232,
          1.775609756097561
         ]
        },
        {
         "hoverinfo": "text",
         "marker": {
          "color": "1a75bc"
         },
         "name": "Do not Self-Identify as Fans",
         "opacity": 1,
         "text": [
          "1.35<br>Average Non-Fan Character Rating<br>Han Solo",
          "1.28813559322<br>Average Non-Fan Character Rating<br>Luke Skywalker",
          "1.30508474576<br>Average Non-Fan Character Rating<br>Princess Leia Organa",
          "0.610169491525<br>Average Non-Fan Character Rating<br>Anakin Skywalker",
          "1.33898305085<br>Average Non-Fan Character Rating<br>Obi Wan Kenobi",
          "0.0612244897959<br>Average Non-Fan Character Rating<br>Emperor Palpatine",
          "0.203389830508<br>Average Non-Fan Character Rating<br>Darth Vader",
          "0.354166666667<br>Average Non-Fan Character Rating<br>Lando Calrissian",
          "0.352941176471<br>Average Non-Fan Character Rating<br>Boba Fett",
          "1.05<br>Average Non-Fan Character Rating<br>C-3P0",
          "1.3606557377<br>Average Non-Fan Character Rating<br>R2 D2",
          "0.310344827586<br>Average Non-Fan Character Rating<br>Jar Jar Binks",
          "0.788461538462<br>Average Non-Fan Character Rating<br>Padme Amidala",
          "1.44262295082<br>Average Non-Fan Character Rating<br>Yoda"
         ],
         "textfont": {
          "color": "#1f77b4",
          "family": "sans serif",
          "size": 18
         },
         "type": "bar",
         "width": 0.4,
         "x": [
          "Han Solo",
          "Luke Skywalker",
          "Princess Leia Organa",
          "Anakin Skywalker",
          "Obi Wan Kenobi",
          "Emperor Palpatine",
          "Darth Vader",
          "Lando Calrissian",
          "Boba Fett",
          "C-3P0",
          "R2 D2",
          "Jar Jar Binks",
          "Padme Amidala",
          "Yoda"
         ],
         "y": [
          1.35,
          1.2881355932203389,
          1.305084745762712,
          0.6101694915254238,
          1.3389830508474576,
          0.061224489795918366,
          0.2033898305084746,
          0.3541666666666667,
          0.35294117647058826,
          1.05,
          1.360655737704918,
          0.3103448275862069,
          0.7884615384615384,
          1.4426229508196722
         ]
        }
       ],
       "layout": {
        "annotations": [],
        "barmode": "group",
        "height": 700,
        "legend": {
         "font": {
          "color": "rgb(255,255,255)"
         },
         "orientation": "h",
         "y": 0
        },
        "margin": {
         "t": 100
        },
        "paper_bgcolor": "rgba(10, 0, 0, 1)",
        "plot_bgcolor": "rgba(10, 0, 0, 1)",
        "title": "<b>The Jar Jar Effect</b> <br> Average Character Ratings by Self-Identified Fan Status",
        "titlefont": {
         "color": "rgb(255,255,255)",
         "family": "open sans",
         "size": 21
        },
        "xaxis": {
         "anchor": "free",
         "linecolor": "rgb(0,0,0)",
         "linewidth": 0,
         "position": 0.22,
         "tickfont": {
          "color": "rgb(255,255,255)",
          "family": "open sans",
          "size": 14
         }
        },
        "yaxis": {
         "linecolor": "rgb(0,0,0)",
         "linewidth": 0,
         "tickfont": {
          "color": "rgb(255,255,255)",
          "family": "open sans",
          "size": 14
         }
        }
       }
      },
      "text/html": [
       "<div id=\"d58ab147-4a66-4811-a1f3-2ee58d5990a6\" style=\"height: 700px; width: 100%;\" class=\"plotly-graph-div\"></div><script type=\"text/javascript\">require([\"plotly\"], function(Plotly) { window.PLOTLYENV=window.PLOTLYENV || {};window.PLOTLYENV.BASE_URL=\"https://plot.ly\";Plotly.newPlot(\"d58ab147-4a66-4811-a1f3-2ee58d5990a6\", [{\"type\": \"bar\", \"name\": \"Self-Identify as Fans\", \"hoverinfo\": \"text\", \"x\": [\"Han Solo\", \"Luke Skywalker\", \"Princess Leia Organa\", \"Anakin Skywalker\", \"Obi Wan Kenobi\", \"Emperor Palpatine\", \"Darth Vader\", \"Lando Calrissian\", \"Boba Fett\", \"C-3P0\", \"R2 D2\", \"Jar Jar Binks\", \"Padme Amidala\", \"Yoda\"], \"textfont\": {\"family\": \"sans serif\", \"size\": 18, \"color\": \"#1f77b4\"}, \"y\": [1.854014598540146, 1.6926829268292682, 1.691747572815534, 0.8170731707317073, 1.7745098039215685, 0.11369509043927649, 0.7892156862745098, 0.7806788511749347, 0.49742268041237114, 1.4596577017114913, 1.637469586374696, -0.4256410256410256, 0.7027707808564232, 1.775609756097561], \"text\": [\"1.85401459854<br>Average Fan Character Rating<br>Han Solo\", \"1.69268292683<br>Average Fan Character Rating<br>Luke Skywalker\", \"1.69174757282<br>Average Fan Character Rating<br>Princess Leia Organa\", \"0.817073170732<br>Average Fan Character Rating<br>Anakin Skywalker\", \"1.77450980392<br>Average Fan Character Rating<br>Obi Wan Kenobi\", \"0.113695090439<br>Average Fan Character Rating<br>Emperor Palpatine\", \"0.789215686275<br>Average Fan Character Rating<br>Darth Vader\", \"0.780678851175<br>Average Fan Character Rating<br>Lando Calrissian\", \"0.497422680412<br>Average Fan Character Rating<br>Boba Fett\", \"1.45965770171<br>Average Fan Character Rating<br>C-3P0\", \"1.63746958637<br>Average Fan Character Rating<br>R2 D2\", \"-0.425641025641<br>Average Fan Character Rating<br>Jar Jar Binks\", \"0.702770780856<br>Average Fan Character Rating<br>Padme Amidala\", \"1.7756097561<br>Average Fan Character Rating<br>Yoda\"], \"marker\": {\"color\": \"fd972b\"}, \"opacity\": 1, \"width\": 0.4}, {\"type\": \"bar\", \"name\": \"Do not Self-Identify as Fans\", \"hoverinfo\": \"text\", \"x\": [\"Han Solo\", \"Luke Skywalker\", \"Princess Leia Organa\", \"Anakin Skywalker\", \"Obi Wan Kenobi\", \"Emperor Palpatine\", \"Darth Vader\", \"Lando Calrissian\", \"Boba Fett\", \"C-3P0\", \"R2 D2\", \"Jar Jar Binks\", \"Padme Amidala\", \"Yoda\"], \"textfont\": {\"family\": \"sans serif\", \"size\": 18, \"color\": \"#1f77b4\"}, \"y\": [1.35, 1.2881355932203389, 1.305084745762712, 0.6101694915254238, 1.3389830508474576, 0.061224489795918366, 0.2033898305084746, 0.3541666666666667, 0.35294117647058826, 1.05, 1.360655737704918, 0.3103448275862069, 0.7884615384615384, 1.4426229508196722], \"text\": [\"1.35<br>Average Non-Fan Character Rating<br>Han Solo\", \"1.28813559322<br>Average Non-Fan Character Rating<br>Luke Skywalker\", \"1.30508474576<br>Average Non-Fan Character Rating<br>Princess Leia Organa\", \"0.610169491525<br>Average Non-Fan Character Rating<br>Anakin Skywalker\", \"1.33898305085<br>Average Non-Fan Character Rating<br>Obi Wan Kenobi\", \"0.0612244897959<br>Average Non-Fan Character Rating<br>Emperor Palpatine\", \"0.203389830508<br>Average Non-Fan Character Rating<br>Darth Vader\", \"0.354166666667<br>Average Non-Fan Character Rating<br>Lando Calrissian\", \"0.352941176471<br>Average Non-Fan Character Rating<br>Boba Fett\", \"1.05<br>Average Non-Fan Character Rating<br>C-3P0\", \"1.3606557377<br>Average Non-Fan Character Rating<br>R2 D2\", \"0.310344827586<br>Average Non-Fan Character Rating<br>Jar Jar Binks\", \"0.788461538462<br>Average Non-Fan Character Rating<br>Padme Amidala\", \"1.44262295082<br>Average Non-Fan Character Rating<br>Yoda\"], \"marker\": {\"color\": \"1a75bc\"}, \"opacity\": 1, \"width\": 0.4}], {\"barmode\": \"group\", \"title\": \"<b>The Jar Jar Effect</b> <br> Average Character Ratings by Self-Identified Fan Status\", \"titlefont\": {\"color\": \"rgb(255,255,255)\", \"size\": 21, \"family\": \"open sans\"}, \"plot_bgcolor\": \"rgba(10, 0, 0, 1)\", \"paper_bgcolor\": \"rgba(10, 0, 0, 1)\", \"height\": 700, \"annotations\": [], \"xaxis\": {\"anchor\": \"free\", \"position\": 0.22, \"tickfont\": {\"family\": \"open sans\", \"size\": 14, \"color\": \"rgb(255,255,255)\"}, \"linecolor\": \"rgb(0,0,0)\", \"linewidth\": 0}, \"yaxis\": {\"tickfont\": {\"family\": \"open sans\", \"size\": 14, \"color\": \"rgb(255,255,255)\"}, \"linecolor\": \"rgb(0,0,0)\", \"linewidth\": 0}, \"legend\": {\"orientation\": \"h\", \"font\": {\"color\": \"rgb(255,255,255)\"}, \"y\": 0}, \"margin\": {\"t\": 100}}, {\"showLink\": true, \"linkText\": \"Export to plot.ly\"})});</script>"
      ],
      "text/vnd.plotly.v1+html": [
       "<div id=\"d58ab147-4a66-4811-a1f3-2ee58d5990a6\" style=\"height: 700px; width: 100%;\" class=\"plotly-graph-div\"></div><script type=\"text/javascript\">require([\"plotly\"], function(Plotly) { window.PLOTLYENV=window.PLOTLYENV || {};window.PLOTLYENV.BASE_URL=\"https://plot.ly\";Plotly.newPlot(\"d58ab147-4a66-4811-a1f3-2ee58d5990a6\", [{\"type\": \"bar\", \"name\": \"Self-Identify as Fans\", \"hoverinfo\": \"text\", \"x\": [\"Han Solo\", \"Luke Skywalker\", \"Princess Leia Organa\", \"Anakin Skywalker\", \"Obi Wan Kenobi\", \"Emperor Palpatine\", \"Darth Vader\", \"Lando Calrissian\", \"Boba Fett\", \"C-3P0\", \"R2 D2\", \"Jar Jar Binks\", \"Padme Amidala\", \"Yoda\"], \"textfont\": {\"family\": \"sans serif\", \"size\": 18, \"color\": \"#1f77b4\"}, \"y\": [1.854014598540146, 1.6926829268292682, 1.691747572815534, 0.8170731707317073, 1.7745098039215685, 0.11369509043927649, 0.7892156862745098, 0.7806788511749347, 0.49742268041237114, 1.4596577017114913, 1.637469586374696, -0.4256410256410256, 0.7027707808564232, 1.775609756097561], \"text\": [\"1.85401459854<br>Average Fan Character Rating<br>Han Solo\", \"1.69268292683<br>Average Fan Character Rating<br>Luke Skywalker\", \"1.69174757282<br>Average Fan Character Rating<br>Princess Leia Organa\", \"0.817073170732<br>Average Fan Character Rating<br>Anakin Skywalker\", \"1.77450980392<br>Average Fan Character Rating<br>Obi Wan Kenobi\", \"0.113695090439<br>Average Fan Character Rating<br>Emperor Palpatine\", \"0.789215686275<br>Average Fan Character Rating<br>Darth Vader\", \"0.780678851175<br>Average Fan Character Rating<br>Lando Calrissian\", \"0.497422680412<br>Average Fan Character Rating<br>Boba Fett\", \"1.45965770171<br>Average Fan Character Rating<br>C-3P0\", \"1.63746958637<br>Average Fan Character Rating<br>R2 D2\", \"-0.425641025641<br>Average Fan Character Rating<br>Jar Jar Binks\", \"0.702770780856<br>Average Fan Character Rating<br>Padme Amidala\", \"1.7756097561<br>Average Fan Character Rating<br>Yoda\"], \"marker\": {\"color\": \"fd972b\"}, \"opacity\": 1, \"width\": 0.4}, {\"type\": \"bar\", \"name\": \"Do not Self-Identify as Fans\", \"hoverinfo\": \"text\", \"x\": [\"Han Solo\", \"Luke Skywalker\", \"Princess Leia Organa\", \"Anakin Skywalker\", \"Obi Wan Kenobi\", \"Emperor Palpatine\", \"Darth Vader\", \"Lando Calrissian\", \"Boba Fett\", \"C-3P0\", \"R2 D2\", \"Jar Jar Binks\", \"Padme Amidala\", \"Yoda\"], \"textfont\": {\"family\": \"sans serif\", \"size\": 18, \"color\": \"#1f77b4\"}, \"y\": [1.35, 1.2881355932203389, 1.305084745762712, 0.6101694915254238, 1.3389830508474576, 0.061224489795918366, 0.2033898305084746, 0.3541666666666667, 0.35294117647058826, 1.05, 1.360655737704918, 0.3103448275862069, 0.7884615384615384, 1.4426229508196722], \"text\": [\"1.35<br>Average Non-Fan Character Rating<br>Han Solo\", \"1.28813559322<br>Average Non-Fan Character Rating<br>Luke Skywalker\", \"1.30508474576<br>Average Non-Fan Character Rating<br>Princess Leia Organa\", \"0.610169491525<br>Average Non-Fan Character Rating<br>Anakin Skywalker\", \"1.33898305085<br>Average Non-Fan Character Rating<br>Obi Wan Kenobi\", \"0.0612244897959<br>Average Non-Fan Character Rating<br>Emperor Palpatine\", \"0.203389830508<br>Average Non-Fan Character Rating<br>Darth Vader\", \"0.354166666667<br>Average Non-Fan Character Rating<br>Lando Calrissian\", \"0.352941176471<br>Average Non-Fan Character Rating<br>Boba Fett\", \"1.05<br>Average Non-Fan Character Rating<br>C-3P0\", \"1.3606557377<br>Average Non-Fan Character Rating<br>R2 D2\", \"0.310344827586<br>Average Non-Fan Character Rating<br>Jar Jar Binks\", \"0.788461538462<br>Average Non-Fan Character Rating<br>Padme Amidala\", \"1.44262295082<br>Average Non-Fan Character Rating<br>Yoda\"], \"marker\": {\"color\": \"1a75bc\"}, \"opacity\": 1, \"width\": 0.4}], {\"barmode\": \"group\", \"title\": \"<b>The Jar Jar Effect</b> <br> Average Character Ratings by Self-Identified Fan Status\", \"titlefont\": {\"color\": \"rgb(255,255,255)\", \"size\": 21, \"family\": \"open sans\"}, \"plot_bgcolor\": \"rgba(10, 0, 0, 1)\", \"paper_bgcolor\": \"rgba(10, 0, 0, 1)\", \"height\": 700, \"annotations\": [], \"xaxis\": {\"anchor\": \"free\", \"position\": 0.22, \"tickfont\": {\"family\": \"open sans\", \"size\": 14, \"color\": \"rgb(255,255,255)\"}, \"linecolor\": \"rgb(0,0,0)\", \"linewidth\": 0}, \"yaxis\": {\"tickfont\": {\"family\": \"open sans\", \"size\": 14, \"color\": \"rgb(255,255,255)\"}, \"linecolor\": \"rgb(0,0,0)\", \"linewidth\": 0}, \"legend\": {\"orientation\": \"h\", \"font\": {\"color\": \"rgb(255,255,255)\"}, \"y\": 0}, \"margin\": {\"t\": 100}}, {\"showLink\": true, \"linkText\": \"Export to plot.ly\"})});</script>"
      ]
     },
     "metadata": {},
     "output_type": "display_data"
    }
   ],
   "source": [
    "trace1 = go.Bar(\n",
    "    name = 'Self-Identify as Fans',\n",
    "    hoverinfo = 'text',\n",
    "    x = [character[12:] for character in list(seen_all_JJB.columns)],\n",
    "     textfont=dict(\n",
    "        family='sans serif',\n",
    "        size=18,\n",
    "        color='#1f77b4'\n",
    "    ),\n",
    "    y = fan_JJB_means,\n",
    "    text = [str(fan_JJB_means[x]) + '<br>Average Fan Character Rating<br>' + seen_all_JJB.columns[x][12:] for x in range(len(seen_all_JJB.columns))], #\n",
    "      marker=dict(\n",
    "        color='fd972b'),\n",
    "\n",
    "    opacity=1,\n",
    "    width=.4,\n",
    ")\n",
    "\n",
    "trace2 = go.Bar(\n",
    "    name = 'Do not Self-Identify as Fans',\n",
    "    hoverinfo = 'text',\n",
    "    x = [character[12:] for character in list(seen_all_JJB.columns)],\n",
    "     textfont=dict(\n",
    "        family='sans serif',\n",
    "        size=18,\n",
    "        color='#1f77b4'\n",
    "    ),\n",
    "    y = non_fan_JJB_means,\n",
    "    text = [str(non_fan_JJB_means[x]) + '<br>Average Non-Fan Character Rating<br>' + seen_all_JJB.columns[x][12:] for x in range(len(seen_all_JJB.columns))],\n",
    "      marker=dict(\n",
    "        color='1a75bc'),\n",
    "\n",
    "    opacity=1,\n",
    "    width=.4,\n",
    ")\n",
    "\n",
    "data = [trace1, trace2]\n",
    "\n",
    "layout = go.Layout(\n",
    "    barmode='group',\n",
    "    title='<b>The Jar Jar Effect</b> <br> Average Character Ratings by Self-Identified Fan Status',\n",
    "    titlefont =dict(color='rgb(255,255,255)', \n",
    "                   size =21,\n",
    "                   family = 'open sans'),          \n",
    "    plot_bgcolor='rgba(10, 0, 0, 1)',\n",
    "    paper_bgcolor ='rgba(10, 0, 0, 1)',\n",
    "    height=700, \n",
    "    annotations=[ ],\n",
    "    xaxis=dict(anchor='free',position=0.22,tickfont=dict(family='open sans', size=14,color='rgb(255,255,255)'), linecolor='rgb(0,0,0)', linewidth=0)\n",
    ",\n",
    "    yaxis=dict(tickfont=dict(family='open sans', size=14,color='rgb(255,255,255)'), linecolor ='rgb(0,0,0)', linewidth=0),\n",
    "    legend=dict(orientation = 'h',font=dict(color='rgb(255,255,255)'), y = 0),\n",
    "    margin=dict(t = 100),\n",
    ")\n",
    "\n",
    "fig = go.Figure(data=data, layout=layout)\n",
    "iplot(fig)\n",
    "\n",
    "\n",
    "\n",
    "    "
   ]
  },
  {
   "cell_type": "markdown",
   "metadata": {},
   "source": [
    "## PART E\n",
    "### Creating a Venn Diagram of Characters Appearing in Each Trilogy"
   ]
  },
  {
   "cell_type": "markdown",
   "metadata": {},
   "source": [
    "The Star Wars API is the world's first quantified and programmatically-formatted set of Star Wars data.\n",
    "They've watched and re-watched each Star Wars film, collecting and formatting this data in JSON with its own Python helper library. [For more info, please see their documentation.](https://swapi.co/documentation)\n",
    "\n",
    "Here we use swapi to get the characters in each movie and create a responsive venn diagram with the information."
   ]
  },
  {
   "cell_type": "code",
   "execution_count": 16,
   "metadata": {
    "collapsed": false
   },
   "outputs": [],
   "source": [
    "x = {sw.get_film(movie): sw.get_film(movie).get_characters().items for movie in range(1,7)} #get all the character items for each film"
   ]
  },
  {
   "cell_type": "code",
   "execution_count": 17,
   "metadata": {
    "collapsed": false
   },
   "outputs": [],
   "source": [
    "d = [] #need to recode movies 0 = 4, 1=5,2=6, 3=1, 4=2, 5=3\n",
    "for movie in range(len(list(x.values()))): #this for loop creates the structure for a data frame that will contain the info\n",
    "    for person in list(x.values())[movie]:\n",
    "        d.append({'Person': str(person)[10:].rstrip('>'), 'Movie': (movie+4) if movie<3 else (movie-2)})\n",
    "df = pd.DataFrame(d)#.set_index(['Person'])\n",
    "df = df.groupby('Person')['Movie'].apply(list).reset_index()      \n",
    "df.set_value(8, 'Person', 'Beru Lars')\n",
    "df['VD Category'] = \"\" #VD = Venn Diagram"
   ]
  },
  {
   "cell_type": "code",
   "execution_count": 18,
   "metadata": {
    "collapsed": false,
    "scrolled": true
   },
   "outputs": [
    {
     "data": {
      "text/html": [
       "<div>\n",
       "<table border=\"1\" class=\"dataframe\">\n",
       "  <thead>\n",
       "    <tr style=\"text-align: right;\">\n",
       "      <th></th>\n",
       "      <th>Person</th>\n",
       "      <th>Movie</th>\n",
       "      <th>VD Category</th>\n",
       "    </tr>\n",
       "  </thead>\n",
       "  <tbody>\n",
       "    <tr>\n",
       "      <th>0</th>\n",
       "      <td>Ackbar</td>\n",
       "      <td>[6]</td>\n",
       "      <td>Original Trilogy</td>\n",
       "    </tr>\n",
       "    <tr>\n",
       "      <th>1</th>\n",
       "      <td>Adi Gallia</td>\n",
       "      <td>[1, 3]</td>\n",
       "      <td>Prequels</td>\n",
       "    </tr>\n",
       "    <tr>\n",
       "      <th>2</th>\n",
       "      <td>Anakin Skywalker</td>\n",
       "      <td>[1, 2, 3]</td>\n",
       "      <td>Prequels</td>\n",
       "    </tr>\n",
       "    <tr>\n",
       "      <th>3</th>\n",
       "      <td>Arvel Crynyd</td>\n",
       "      <td>[6]</td>\n",
       "      <td>Original Trilogy</td>\n",
       "    </tr>\n",
       "    <tr>\n",
       "      <th>4</th>\n",
       "      <td>Ayla Secura</td>\n",
       "      <td>[1, 2, 3]</td>\n",
       "      <td>Prequels</td>\n",
       "    </tr>\n",
       "    <tr>\n",
       "      <th>5</th>\n",
       "      <td>Bail Prestor Organa</td>\n",
       "      <td>[2, 3]</td>\n",
       "      <td>Prequels</td>\n",
       "    </tr>\n",
       "    <tr>\n",
       "      <th>6</th>\n",
       "      <td>Barriss Offee</td>\n",
       "      <td>[2]</td>\n",
       "      <td>Prequels</td>\n",
       "    </tr>\n",
       "    <tr>\n",
       "      <th>7</th>\n",
       "      <td>Ben Quadinaros</td>\n",
       "      <td>[1]</td>\n",
       "      <td>Prequels</td>\n",
       "    </tr>\n",
       "    <tr>\n",
       "      <th>8</th>\n",
       "      <td>Beru Lars</td>\n",
       "      <td>[4, 2, 3]</td>\n",
       "      <td>Both</td>\n",
       "    </tr>\n",
       "    <tr>\n",
       "      <th>9</th>\n",
       "      <td>Bib Fortuna</td>\n",
       "      <td>[6]</td>\n",
       "      <td>Original Trilogy</td>\n",
       "    </tr>\n",
       "  </tbody>\n",
       "</table>\n",
       "</div>"
      ],
      "text/plain": [
       "                Person      Movie       VD Category\n",
       "0               Ackbar        [6]  Original Trilogy\n",
       "1           Adi Gallia     [1, 3]          Prequels\n",
       "2     Anakin Skywalker  [1, 2, 3]          Prequels\n",
       "3         Arvel Crynyd        [6]  Original Trilogy\n",
       "4          Ayla Secura  [1, 2, 3]          Prequels\n",
       "5  Bail Prestor Organa     [2, 3]          Prequels\n",
       "6        Barriss Offee        [2]          Prequels\n",
       "7       Ben Quadinaros        [1]          Prequels\n",
       "8            Beru Lars  [4, 2, 3]              Both\n",
       "9          Bib Fortuna        [6]  Original Trilogy"
      ]
     },
     "execution_count": 18,
     "metadata": {},
     "output_type": "execute_result"
    }
   ],
   "source": [
    "#parse through it, sorting whether it's a prequel or sequel \n",
    "preq_only = [] #initialize a bunch of variables for the following loop\n",
    "both = []\n",
    "ot_only = []\n",
    "preq_only_count = 0\n",
    "both_count = 0\n",
    "ot_only_count = 0\n",
    "preq_lbls = []\n",
    "ot_lbls = []\n",
    "both_lbls = []\n",
    "\n",
    "for index, row in df.iterrows():\n",
    "    if (any(i in [1,2,3]  for i in row[1])) and (not any(i in [4,5,6]  for i in row[1])): #if in prequels but not ot\n",
    "        row[2] = \"Prequels\" #categorizes it in df\n",
    "        preq_only.append(row[0]) #adds name to list of characters in prequels only\n",
    "        preq_only_count += 1 #adds to a counter (len of the above variable could have worked to but it's nice to have the int as its own variable)\n",
    "        preq_lbls.append(row[1])  #store which movies theyre in for hovertext\n",
    "    elif (not any(i in [1,2,3]  for i in row[1])) and (any(i in [4,5,6]  for i in row[1])): #if ot but not prequels\n",
    "        row[2] = \"Original Trilogy\"\n",
    "        ot_only.append(row[0])\n",
    "        ot_only_count += 1\n",
    "        ot_lbls.append(row[1])\n",
    "    elif (any(i in [1,2,3]  for i in row[1])) and (any(i in [4,5,6]  for i in row[1])): #if in both, (an 'else' may have sufficed but I always prefer to specify conditions where I have one in mind)\n",
    "        row[2] = \"Both\"\n",
    "        both.append(row[0])\n",
    "        both_count += 1\n",
    "        both_lbls.append(row[1])\n",
    "df.head(10) #preview it"
   ]
  },
  {
   "cell_type": "markdown",
   "metadata": {},
   "source": [
    "Now that it's been initially parsed, let's combine them in an order such that they can go into the venn diagram"
   ]
  },
  {
   "cell_type": "code",
   "execution_count": 19,
   "metadata": {
    "collapsed": false
   },
   "outputs": [],
   "source": [
    "#note: coordinates are hard coded, but changing the height and width of the layout resizes proportionally, effectively achieving the same result\n",
    "ot_x= [2.42 for x in range(ot_only_count)]  #x coordinates for left VD \n",
    "ot_y=np.linspace(1.9,.1, ot_only_count) #y coordinates for left vd\n",
    "preq_x = [.74 for x in range(math.ceil((preq_only_count / 2)))] + [1.14 for x in range(math.floor((preq_only_count / 2)))]\n",
    "preq_y=np.concatenate((np.linspace(1.9,.1, math.ceil((preq_only_count / 2))),np.linspace(1.9,.1, math.floor((preq_only_count / 2)))))\n",
    "both_x = [1.68 for x in range(both_count)]\n",
    "both_y = (np.linspace(1.6,.4, both_count))\n",
    "all_x = ot_x + preq_x + both_x\n",
    "all_y = np.concatenate((ot_y, preq_y, both_y))\n",
    "all_text = ot_only+preq_only+both\n",
    "lbls = ot_lbls + preq_lbls + both_lbls\n",
    "\n",
    "labels=['' for x in all_text] #generate hover text\n",
    "for i in range(len(all_text)):\n",
    "    lbl = ''\n",
    "    for movie in lbls[i]:\n",
    "        lbl += numerals[movie-1] + ' '\n",
    "    labels[i] = all_text[i] + '<br>Movies: ' + lbl.rstrip()\n",
    "    \n",
    "annotations = []\n",
    "\n",
    "for i in range(len(all_text)):#generate the words to be plotted on the VD\n",
    "    annotations.append(dict(x=all_x[i], y=all_y[i], text=all_text[i],\n",
    "                                  font=dict(family='Arial', size=14,\n",
    "                                  color='black'),\n",
    "                                  showarrow=False,))\n",
    "annotations.append(dict(x=2.42, y=-.1, text='Original Trilogy Only', #label right vd\n",
    "                                  font=dict(family='Arial', size=18,\n",
    "                                  color='white'),\n",
    "                                  showarrow=False,))\n",
    "annotations.append(dict(x=1, y=-.1, text='Prequels Only', #label right vd\n",
    "                                  font=dict(family='Arial', size=18,\n",
    "                                  color='white'),\n",
    "                                  showarrow=False,))\n",
    "annotations.append(dict(x=1.68, y=.1, text='Both', #label right vd\n",
    "                                  font=dict(family='Arial', size=18,\n",
    "                                  color='white'),\n",
    "                                  showarrow=False,))\n",
    "    "
   ]
  },
  {
   "cell_type": "code",
   "execution_count": 20,
   "metadata": {
    "collapsed": false,
    "scrolled": false
   },
   "outputs": [
    {
     "data": {
      "application/vnd.plotly.v1+json": {
       "data": [
        {
         "hoverinfo": "text",
         "hoveron": "points",
         "mode": "none",
         "text": [
          "Ackbar<br>Movies: VI",
          "Arvel Crynyd<br>Movies: VI",
          "Bib Fortuna<br>Movies: VI",
          "Biggs Darklighter<br>Movies: IV",
          "Bossk<br>Movies: V",
          "Greedo<br>Movies: IV",
          "Han Solo<br>Movies: IV V VI",
          "IG-88<br>Movies: V",
          "Jek Tono Porkins<br>Movies: IV",
          "Lando Calrissian<br>Movies: V VI",
          "Lobot<br>Movies: V",
          "Mon Mothma<br>Movies: VI",
          "Nien Nunb<br>Movies: VI",
          "R5-D4<br>Movies: IV",
          "Wedge Antilles<br>Movies: IV V VI",
          "Wicket Systri Warrick<br>Movies: VI",
          "Adi Gallia<br>Movies: I III",
          "Anakin Skywalker<br>Movies: I II III",
          "Ayla Secura<br>Movies: I II III",
          "Bail Prestor Organa<br>Movies: II III",
          "Barriss Offee<br>Movies: II",
          "Ben Quadinaros<br>Movies: I",
          "Cliegg Lars<br>Movies: II",
          "Cordé<br>Movies: II",
          "Darth Maul<br>Movies: I",
          "Dexter Jettster<br>Movies: II",
          "Dooku<br>Movies: II III",
          "Dormé<br>Movies: II",
          "Dud Bolt<br>Movies: I",
          "Eeth Koth<br>Movies: I III",
          "Finis Valorum<br>Movies: I",
          "Gasgano<br>Movies: I",
          "Gregar Typho<br>Movies: II",
          "Grievous<br>Movies: III",
          "Jango Fett<br>Movies: II",
          "Jar Jar Binks<br>Movies: I II",
          "Jocasta Nu<br>Movies: II",
          "Ki-Adi-Mundi<br>Movies: I II III",
          "Kit Fisto<br>Movies: I II III",
          "Lama Su<br>Movies: II",
          "Luminara Unduli<br>Movies: II III",
          "Mace Windu<br>Movies: I II III",
          "Mas Amedda<br>Movies: I II",
          "Nute Gunray<br>Movies: I II III",
          "Padmé Amidala<br>Movies: I II III",
          "Plo Koon<br>Movies: I II III",
          "Poggle the Lesser<br>Movies: II III",
          "Quarsh Panaka<br>Movies: I",
          "Qui-Gon Jinn<br>Movies: I",
          "R4-P17<br>Movies: II III",
          "Ratts Tyerell<br>Movies: I",
          "Ric Olié<br>Movies: I",
          "Roos Tarpals<br>Movies: I",
          "Rugor Nass<br>Movies: I",
          "Saesee Tiin<br>Movies: I III",
          "San Hill<br>Movies: II",
          "Sebulba<br>Movies: I",
          "Shaak Ti<br>Movies: II III",
          "Shmi Skywalker<br>Movies: I II",
          "Sly Moore<br>Movies: II III",
          "Tarfful<br>Movies: III",
          "Taun We<br>Movies: II",
          "Tion Medon<br>Movies: III",
          "Wat Tambor<br>Movies: II",
          "Watto<br>Movies: I II",
          "Yarael Poof<br>Movies: I",
          "Zam Wesell<br>Movies: II",
          "Beru Lars<br>Movies: IV II III",
          "Boba Fett<br>Movies: V VI II",
          "C-3PO<br>Movies: IV V VI I II III",
          "Chewbacca<br>Movies: IV V VI III",
          "Darth Vader<br>Movies: IV V VI III",
          "Jabba Desilijic Tiure<br>Movies: IV VI I",
          "Leia Organa<br>Movies: IV V VI III",
          "Luke Skywalker<br>Movies: IV V VI III",
          "Obi-Wan Kenobi<br>Movies: IV V VI I II III",
          "Owen Lars<br>Movies: IV II III",
          "Palpatine<br>Movies: V VI I II III",
          "R2-D2<br>Movies: IV V VI I II III",
          "Raymus Antilles<br>Movies: IV III",
          "Wilhuff Tarkin<br>Movies: IV III",
          "Yoda<br>Movies: V VI I II III"
         ],
         "textfont": {
          "color": "black",
          "family": "Arial",
          "size": 12
         },
         "type": "scatter",
         "x": [
          2.42,
          2.42,
          2.42,
          2.42,
          2.42,
          2.42,
          2.42,
          2.42,
          2.42,
          2.42,
          2.42,
          2.42,
          2.42,
          2.42,
          2.42,
          2.42,
          0.74,
          0.74,
          0.74,
          0.74,
          0.74,
          0.74,
          0.74,
          0.74,
          0.74,
          0.74,
          0.74,
          0.74,
          0.74,
          0.74,
          0.74,
          0.74,
          0.74,
          0.74,
          0.74,
          0.74,
          0.74,
          0.74,
          0.74,
          0.74,
          0.74,
          0.74,
          1.14,
          1.14,
          1.14,
          1.14,
          1.14,
          1.14,
          1.14,
          1.14,
          1.14,
          1.14,
          1.14,
          1.14,
          1.14,
          1.14,
          1.14,
          1.14,
          1.14,
          1.14,
          1.14,
          1.14,
          1.14,
          1.14,
          1.14,
          1.14,
          1.14,
          1.68,
          1.68,
          1.68,
          1.68,
          1.68,
          1.68,
          1.68,
          1.68,
          1.68,
          1.68,
          1.68,
          1.68,
          1.68,
          1.68,
          1.68
         ],
         "y": [
          1.9,
          1.78,
          1.66,
          1.54,
          1.42,
          1.3,
          1.1800000000000002,
          1.06,
          0.9400000000000001,
          0.8200000000000001,
          0.7000000000000002,
          0.5800000000000001,
          0.4600000000000002,
          0.3400000000000001,
          0.2200000000000002,
          0.1,
          1.9,
          1.8279999999999998,
          1.756,
          1.684,
          1.6119999999999999,
          1.54,
          1.468,
          1.396,
          1.3239999999999998,
          1.252,
          1.18,
          1.108,
          1.036,
          0.964,
          0.8919999999999999,
          0.8200000000000001,
          0.748,
          0.6759999999999999,
          0.6040000000000001,
          0.532,
          0.45999999999999996,
          0.3880000000000001,
          0.31600000000000006,
          0.244,
          0.17200000000000015,
          0.1,
          1.9,
          1.825,
          1.75,
          1.6749999999999998,
          1.5999999999999999,
          1.525,
          1.45,
          1.375,
          1.2999999999999998,
          1.225,
          1.15,
          1.075,
          1,
          0.9249999999999999,
          0.8499999999999999,
          0.7749999999999999,
          0.7,
          0.625,
          0.55,
          0.47499999999999987,
          0.3999999999999999,
          0.32499999999999996,
          0.25,
          0.17500000000000004,
          0.1,
          1.6,
          1.5142857142857145,
          1.4285714285714286,
          1.342857142857143,
          1.2571428571428571,
          1.1714285714285715,
          1.0857142857142859,
          1,
          0.9142857142857143,
          0.8285714285714285,
          0.7428571428571428,
          0.657142857142857,
          0.5714285714285714,
          0.48571428571428554,
          0.4
         ]
        }
       ],
       "layout": {
        "annotations": [
         {
          "font": {
           "color": "black",
           "family": "Arial",
           "size": 14
          },
          "showarrow": false,
          "text": "Ackbar",
          "x": 2.42,
          "y": 1.9
         },
         {
          "font": {
           "color": "black",
           "family": "Arial",
           "size": 14
          },
          "showarrow": false,
          "text": "Arvel Crynyd",
          "x": 2.42,
          "y": 1.78
         },
         {
          "font": {
           "color": "black",
           "family": "Arial",
           "size": 14
          },
          "showarrow": false,
          "text": "Bib Fortuna",
          "x": 2.42,
          "y": 1.66
         },
         {
          "font": {
           "color": "black",
           "family": "Arial",
           "size": 14
          },
          "showarrow": false,
          "text": "Biggs Darklighter",
          "x": 2.42,
          "y": 1.54
         },
         {
          "font": {
           "color": "black",
           "family": "Arial",
           "size": 14
          },
          "showarrow": false,
          "text": "Bossk",
          "x": 2.42,
          "y": 1.42
         },
         {
          "font": {
           "color": "black",
           "family": "Arial",
           "size": 14
          },
          "showarrow": false,
          "text": "Greedo",
          "x": 2.42,
          "y": 1.3
         },
         {
          "font": {
           "color": "black",
           "family": "Arial",
           "size": 14
          },
          "showarrow": false,
          "text": "Han Solo",
          "x": 2.42,
          "y": 1.1800000000000002
         },
         {
          "font": {
           "color": "black",
           "family": "Arial",
           "size": 14
          },
          "showarrow": false,
          "text": "IG-88",
          "x": 2.42,
          "y": 1.06
         },
         {
          "font": {
           "color": "black",
           "family": "Arial",
           "size": 14
          },
          "showarrow": false,
          "text": "Jek Tono Porkins",
          "x": 2.42,
          "y": 0.9400000000000001
         },
         {
          "font": {
           "color": "black",
           "family": "Arial",
           "size": 14
          },
          "showarrow": false,
          "text": "Lando Calrissian",
          "x": 2.42,
          "y": 0.8200000000000001
         },
         {
          "font": {
           "color": "black",
           "family": "Arial",
           "size": 14
          },
          "showarrow": false,
          "text": "Lobot",
          "x": 2.42,
          "y": 0.7000000000000002
         },
         {
          "font": {
           "color": "black",
           "family": "Arial",
           "size": 14
          },
          "showarrow": false,
          "text": "Mon Mothma",
          "x": 2.42,
          "y": 0.5800000000000001
         },
         {
          "font": {
           "color": "black",
           "family": "Arial",
           "size": 14
          },
          "showarrow": false,
          "text": "Nien Nunb",
          "x": 2.42,
          "y": 0.4600000000000002
         },
         {
          "font": {
           "color": "black",
           "family": "Arial",
           "size": 14
          },
          "showarrow": false,
          "text": "R5-D4",
          "x": 2.42,
          "y": 0.3400000000000001
         },
         {
          "font": {
           "color": "black",
           "family": "Arial",
           "size": 14
          },
          "showarrow": false,
          "text": "Wedge Antilles",
          "x": 2.42,
          "y": 0.2200000000000002
         },
         {
          "font": {
           "color": "black",
           "family": "Arial",
           "size": 14
          },
          "showarrow": false,
          "text": "Wicket Systri Warrick",
          "x": 2.42,
          "y": 0.1
         },
         {
          "font": {
           "color": "black",
           "family": "Arial",
           "size": 14
          },
          "showarrow": false,
          "text": "Adi Gallia",
          "x": 0.74,
          "y": 1.9
         },
         {
          "font": {
           "color": "black",
           "family": "Arial",
           "size": 14
          },
          "showarrow": false,
          "text": "Anakin Skywalker",
          "x": 0.74,
          "y": 1.8279999999999998
         },
         {
          "font": {
           "color": "black",
           "family": "Arial",
           "size": 14
          },
          "showarrow": false,
          "text": "Ayla Secura",
          "x": 0.74,
          "y": 1.756
         },
         {
          "font": {
           "color": "black",
           "family": "Arial",
           "size": 14
          },
          "showarrow": false,
          "text": "Bail Prestor Organa",
          "x": 0.74,
          "y": 1.684
         },
         {
          "font": {
           "color": "black",
           "family": "Arial",
           "size": 14
          },
          "showarrow": false,
          "text": "Barriss Offee",
          "x": 0.74,
          "y": 1.6119999999999999
         },
         {
          "font": {
           "color": "black",
           "family": "Arial",
           "size": 14
          },
          "showarrow": false,
          "text": "Ben Quadinaros",
          "x": 0.74,
          "y": 1.54
         },
         {
          "font": {
           "color": "black",
           "family": "Arial",
           "size": 14
          },
          "showarrow": false,
          "text": "Cliegg Lars",
          "x": 0.74,
          "y": 1.468
         },
         {
          "font": {
           "color": "black",
           "family": "Arial",
           "size": 14
          },
          "showarrow": false,
          "text": "Cordé",
          "x": 0.74,
          "y": 1.396
         },
         {
          "font": {
           "color": "black",
           "family": "Arial",
           "size": 14
          },
          "showarrow": false,
          "text": "Darth Maul",
          "x": 0.74,
          "y": 1.3239999999999998
         },
         {
          "font": {
           "color": "black",
           "family": "Arial",
           "size": 14
          },
          "showarrow": false,
          "text": "Dexter Jettster",
          "x": 0.74,
          "y": 1.252
         },
         {
          "font": {
           "color": "black",
           "family": "Arial",
           "size": 14
          },
          "showarrow": false,
          "text": "Dooku",
          "x": 0.74,
          "y": 1.18
         },
         {
          "font": {
           "color": "black",
           "family": "Arial",
           "size": 14
          },
          "showarrow": false,
          "text": "Dormé",
          "x": 0.74,
          "y": 1.108
         },
         {
          "font": {
           "color": "black",
           "family": "Arial",
           "size": 14
          },
          "showarrow": false,
          "text": "Dud Bolt",
          "x": 0.74,
          "y": 1.036
         },
         {
          "font": {
           "color": "black",
           "family": "Arial",
           "size": 14
          },
          "showarrow": false,
          "text": "Eeth Koth",
          "x": 0.74,
          "y": 0.964
         },
         {
          "font": {
           "color": "black",
           "family": "Arial",
           "size": 14
          },
          "showarrow": false,
          "text": "Finis Valorum",
          "x": 0.74,
          "y": 0.8919999999999999
         },
         {
          "font": {
           "color": "black",
           "family": "Arial",
           "size": 14
          },
          "showarrow": false,
          "text": "Gasgano",
          "x": 0.74,
          "y": 0.8200000000000001
         },
         {
          "font": {
           "color": "black",
           "family": "Arial",
           "size": 14
          },
          "showarrow": false,
          "text": "Gregar Typho",
          "x": 0.74,
          "y": 0.748
         },
         {
          "font": {
           "color": "black",
           "family": "Arial",
           "size": 14
          },
          "showarrow": false,
          "text": "Grievous",
          "x": 0.74,
          "y": 0.6759999999999999
         },
         {
          "font": {
           "color": "black",
           "family": "Arial",
           "size": 14
          },
          "showarrow": false,
          "text": "Jango Fett",
          "x": 0.74,
          "y": 0.6040000000000001
         },
         {
          "font": {
           "color": "black",
           "family": "Arial",
           "size": 14
          },
          "showarrow": false,
          "text": "Jar Jar Binks",
          "x": 0.74,
          "y": 0.532
         },
         {
          "font": {
           "color": "black",
           "family": "Arial",
           "size": 14
          },
          "showarrow": false,
          "text": "Jocasta Nu",
          "x": 0.74,
          "y": 0.45999999999999996
         },
         {
          "font": {
           "color": "black",
           "family": "Arial",
           "size": 14
          },
          "showarrow": false,
          "text": "Ki-Adi-Mundi",
          "x": 0.74,
          "y": 0.3880000000000001
         },
         {
          "font": {
           "color": "black",
           "family": "Arial",
           "size": 14
          },
          "showarrow": false,
          "text": "Kit Fisto",
          "x": 0.74,
          "y": 0.31600000000000006
         },
         {
          "font": {
           "color": "black",
           "family": "Arial",
           "size": 14
          },
          "showarrow": false,
          "text": "Lama Su",
          "x": 0.74,
          "y": 0.244
         },
         {
          "font": {
           "color": "black",
           "family": "Arial",
           "size": 14
          },
          "showarrow": false,
          "text": "Luminara Unduli",
          "x": 0.74,
          "y": 0.17200000000000015
         },
         {
          "font": {
           "color": "black",
           "family": "Arial",
           "size": 14
          },
          "showarrow": false,
          "text": "Mace Windu",
          "x": 0.74,
          "y": 0.1
         },
         {
          "font": {
           "color": "black",
           "family": "Arial",
           "size": 14
          },
          "showarrow": false,
          "text": "Mas Amedda",
          "x": 1.14,
          "y": 1.9
         },
         {
          "font": {
           "color": "black",
           "family": "Arial",
           "size": 14
          },
          "showarrow": false,
          "text": "Nute Gunray",
          "x": 1.14,
          "y": 1.825
         },
         {
          "font": {
           "color": "black",
           "family": "Arial",
           "size": 14
          },
          "showarrow": false,
          "text": "Padmé Amidala",
          "x": 1.14,
          "y": 1.75
         },
         {
          "font": {
           "color": "black",
           "family": "Arial",
           "size": 14
          },
          "showarrow": false,
          "text": "Plo Koon",
          "x": 1.14,
          "y": 1.6749999999999998
         },
         {
          "font": {
           "color": "black",
           "family": "Arial",
           "size": 14
          },
          "showarrow": false,
          "text": "Poggle the Lesser",
          "x": 1.14,
          "y": 1.5999999999999999
         },
         {
          "font": {
           "color": "black",
           "family": "Arial",
           "size": 14
          },
          "showarrow": false,
          "text": "Quarsh Panaka",
          "x": 1.14,
          "y": 1.525
         },
         {
          "font": {
           "color": "black",
           "family": "Arial",
           "size": 14
          },
          "showarrow": false,
          "text": "Qui-Gon Jinn",
          "x": 1.14,
          "y": 1.45
         },
         {
          "font": {
           "color": "black",
           "family": "Arial",
           "size": 14
          },
          "showarrow": false,
          "text": "R4-P17",
          "x": 1.14,
          "y": 1.375
         },
         {
          "font": {
           "color": "black",
           "family": "Arial",
           "size": 14
          },
          "showarrow": false,
          "text": "Ratts Tyerell",
          "x": 1.14,
          "y": 1.2999999999999998
         },
         {
          "font": {
           "color": "black",
           "family": "Arial",
           "size": 14
          },
          "showarrow": false,
          "text": "Ric Olié",
          "x": 1.14,
          "y": 1.225
         },
         {
          "font": {
           "color": "black",
           "family": "Arial",
           "size": 14
          },
          "showarrow": false,
          "text": "Roos Tarpals",
          "x": 1.14,
          "y": 1.15
         },
         {
          "font": {
           "color": "black",
           "family": "Arial",
           "size": 14
          },
          "showarrow": false,
          "text": "Rugor Nass",
          "x": 1.14,
          "y": 1.075
         },
         {
          "font": {
           "color": "black",
           "family": "Arial",
           "size": 14
          },
          "showarrow": false,
          "text": "Saesee Tiin",
          "x": 1.14,
          "y": 1
         },
         {
          "font": {
           "color": "black",
           "family": "Arial",
           "size": 14
          },
          "showarrow": false,
          "text": "San Hill",
          "x": 1.14,
          "y": 0.9249999999999999
         },
         {
          "font": {
           "color": "black",
           "family": "Arial",
           "size": 14
          },
          "showarrow": false,
          "text": "Sebulba",
          "x": 1.14,
          "y": 0.8499999999999999
         },
         {
          "font": {
           "color": "black",
           "family": "Arial",
           "size": 14
          },
          "showarrow": false,
          "text": "Shaak Ti",
          "x": 1.14,
          "y": 0.7749999999999999
         },
         {
          "font": {
           "color": "black",
           "family": "Arial",
           "size": 14
          },
          "showarrow": false,
          "text": "Shmi Skywalker",
          "x": 1.14,
          "y": 0.7
         },
         {
          "font": {
           "color": "black",
           "family": "Arial",
           "size": 14
          },
          "showarrow": false,
          "text": "Sly Moore",
          "x": 1.14,
          "y": 0.625
         },
         {
          "font": {
           "color": "black",
           "family": "Arial",
           "size": 14
          },
          "showarrow": false,
          "text": "Tarfful",
          "x": 1.14,
          "y": 0.55
         },
         {
          "font": {
           "color": "black",
           "family": "Arial",
           "size": 14
          },
          "showarrow": false,
          "text": "Taun We",
          "x": 1.14,
          "y": 0.47499999999999987
         },
         {
          "font": {
           "color": "black",
           "family": "Arial",
           "size": 14
          },
          "showarrow": false,
          "text": "Tion Medon",
          "x": 1.14,
          "y": 0.3999999999999999
         },
         {
          "font": {
           "color": "black",
           "family": "Arial",
           "size": 14
          },
          "showarrow": false,
          "text": "Wat Tambor",
          "x": 1.14,
          "y": 0.32499999999999996
         },
         {
          "font": {
           "color": "black",
           "family": "Arial",
           "size": 14
          },
          "showarrow": false,
          "text": "Watto",
          "x": 1.14,
          "y": 0.25
         },
         {
          "font": {
           "color": "black",
           "family": "Arial",
           "size": 14
          },
          "showarrow": false,
          "text": "Yarael Poof",
          "x": 1.14,
          "y": 0.17500000000000004
         },
         {
          "font": {
           "color": "black",
           "family": "Arial",
           "size": 14
          },
          "showarrow": false,
          "text": "Zam Wesell",
          "x": 1.14,
          "y": 0.1
         },
         {
          "font": {
           "color": "black",
           "family": "Arial",
           "size": 14
          },
          "showarrow": false,
          "text": "Beru Lars",
          "x": 1.68,
          "y": 1.6
         },
         {
          "font": {
           "color": "black",
           "family": "Arial",
           "size": 14
          },
          "showarrow": false,
          "text": "Boba Fett",
          "x": 1.68,
          "y": 1.5142857142857145
         },
         {
          "font": {
           "color": "black",
           "family": "Arial",
           "size": 14
          },
          "showarrow": false,
          "text": "C-3PO",
          "x": 1.68,
          "y": 1.4285714285714286
         },
         {
          "font": {
           "color": "black",
           "family": "Arial",
           "size": 14
          },
          "showarrow": false,
          "text": "Chewbacca",
          "x": 1.68,
          "y": 1.342857142857143
         },
         {
          "font": {
           "color": "black",
           "family": "Arial",
           "size": 14
          },
          "showarrow": false,
          "text": "Darth Vader",
          "x": 1.68,
          "y": 1.2571428571428571
         },
         {
          "font": {
           "color": "black",
           "family": "Arial",
           "size": 14
          },
          "showarrow": false,
          "text": "Jabba Desilijic Tiure",
          "x": 1.68,
          "y": 1.1714285714285715
         },
         {
          "font": {
           "color": "black",
           "family": "Arial",
           "size": 14
          },
          "showarrow": false,
          "text": "Leia Organa",
          "x": 1.68,
          "y": 1.0857142857142859
         },
         {
          "font": {
           "color": "black",
           "family": "Arial",
           "size": 14
          },
          "showarrow": false,
          "text": "Luke Skywalker",
          "x": 1.68,
          "y": 1
         },
         {
          "font": {
           "color": "black",
           "family": "Arial",
           "size": 14
          },
          "showarrow": false,
          "text": "Obi-Wan Kenobi",
          "x": 1.68,
          "y": 0.9142857142857143
         },
         {
          "font": {
           "color": "black",
           "family": "Arial",
           "size": 14
          },
          "showarrow": false,
          "text": "Owen Lars",
          "x": 1.68,
          "y": 0.8285714285714285
         },
         {
          "font": {
           "color": "black",
           "family": "Arial",
           "size": 14
          },
          "showarrow": false,
          "text": "Palpatine",
          "x": 1.68,
          "y": 0.7428571428571428
         },
         {
          "font": {
           "color": "black",
           "family": "Arial",
           "size": 14
          },
          "showarrow": false,
          "text": "R2-D2",
          "x": 1.68,
          "y": 0.657142857142857
         },
         {
          "font": {
           "color": "black",
           "family": "Arial",
           "size": 14
          },
          "showarrow": false,
          "text": "Raymus Antilles",
          "x": 1.68,
          "y": 0.5714285714285714
         },
         {
          "font": {
           "color": "black",
           "family": "Arial",
           "size": 14
          },
          "showarrow": false,
          "text": "Wilhuff Tarkin",
          "x": 1.68,
          "y": 0.48571428571428554
         },
         {
          "font": {
           "color": "black",
           "family": "Arial",
           "size": 14
          },
          "showarrow": false,
          "text": "Yoda",
          "x": 1.68,
          "y": 0.4
         },
         {
          "font": {
           "color": "white",
           "family": "Arial",
           "size": 18
          },
          "showarrow": false,
          "text": "Original Trilogy Only",
          "x": 2.42,
          "y": -0.1
         },
         {
          "font": {
           "color": "white",
           "family": "Arial",
           "size": 18
          },
          "showarrow": false,
          "text": "Prequels Only",
          "x": 1,
          "y": -0.1
         },
         {
          "font": {
           "color": "white",
           "family": "Arial",
           "size": 18
          },
          "showarrow": false,
          "text": "Both",
          "x": 1.68,
          "y": 0.1
         }
        ],
        "height": 800,
        "hovermode": "closest",
        "margin": {
         "b": 100,
         "l": 20,
         "r": 20,
         "t": 100
        },
        "paper_bgcolor": "rgba(10, 0, 0, 1)",
        "plot_bgcolor": "rgba(10, 0, 0, 1)",
        "shapes": [
         {
          "fillcolor": "white",
          "line": {
           "color": "white"
          },
          "opacity": 1,
          "type": "circle",
          "x0": 0,
          "x1": 2,
          "xref": "x",
          "y0": 0,
          "y1": 2,
          "yref": "y"
         },
         {
          "fillcolor": "white",
          "line": {
           "color": "white"
          },
          "opacity": 1,
          "type": "circle",
          "x0": 1.35,
          "x1": 3.35,
          "xref": "x",
          "y0": 0,
          "y1": 2,
          "yref": "y"
         },
         {
          "fillcolor": "green",
          "line": {
           "color": "green"
          },
          "opacity": 0.3,
          "type": "circle",
          "x0": 0,
          "x1": 2,
          "xref": "x",
          "y0": 0,
          "y1": 2,
          "yref": "y"
         },
         {
          "fillcolor": "blue",
          "line": {
           "color": "blue"
          },
          "opacity": 0.3,
          "type": "circle",
          "x0": 1.35,
          "x1": 3.35,
          "xref": "x",
          "y0": 0,
          "y1": 2,
          "yref": "y"
         }
        ],
        "title": "<b>Twin Suns of Tatooine</b> <br>Charaters Appearing in the Different Trilogies",
        "titlefont": {
         "color": "rgb(255,255,255)",
         "family": "open sans",
         "size": 21
        },
        "width": 1000,
        "xaxis": {
         "autotick": false,
         "showgrid": false,
         "showticklabels": false,
         "zeroline": false
        },
        "yaxis": {
         "autotick": false,
         "showgrid": false,
         "showticklabels": false,
         "zeroline": false
        }
       }
      },
      "text/html": [
       "<div id=\"376d14e4-f06e-437c-bf77-17ecc521fba9\" style=\"height: 800px; width: 1000px;\" class=\"plotly-graph-div\"></div><script type=\"text/javascript\">require([\"plotly\"], function(Plotly) { window.PLOTLYENV=window.PLOTLYENV || {};window.PLOTLYENV.BASE_URL=\"https://plot.ly\";Plotly.newPlot(\"376d14e4-f06e-437c-bf77-17ecc521fba9\", [{\"type\": \"scatter\", \"x\": [2.42, 2.42, 2.42, 2.42, 2.42, 2.42, 2.42, 2.42, 2.42, 2.42, 2.42, 2.42, 2.42, 2.42, 2.42, 2.42, 0.74, 0.74, 0.74, 0.74, 0.74, 0.74, 0.74, 0.74, 0.74, 0.74, 0.74, 0.74, 0.74, 0.74, 0.74, 0.74, 0.74, 0.74, 0.74, 0.74, 0.74, 0.74, 0.74, 0.74, 0.74, 0.74, 1.14, 1.14, 1.14, 1.14, 1.14, 1.14, 1.14, 1.14, 1.14, 1.14, 1.14, 1.14, 1.14, 1.14, 1.14, 1.14, 1.14, 1.14, 1.14, 1.14, 1.14, 1.14, 1.14, 1.14, 1.14, 1.68, 1.68, 1.68, 1.68, 1.68, 1.68, 1.68, 1.68, 1.68, 1.68, 1.68, 1.68, 1.68, 1.68, 1.68], \"y\": [1.9, 1.78, 1.66, 1.54, 1.42, 1.3, 1.1800000000000002, 1.06, 0.9400000000000001, 0.8200000000000001, 0.7000000000000002, 0.5800000000000001, 0.4600000000000002, 0.3400000000000001, 0.2200000000000002, 0.1, 1.9, 1.8279999999999998, 1.756, 1.684, 1.6119999999999999, 1.54, 1.468, 1.396, 1.3239999999999998, 1.252, 1.18, 1.108, 1.036, 0.964, 0.8919999999999999, 0.8200000000000001, 0.748, 0.6759999999999999, 0.6040000000000001, 0.532, 0.45999999999999996, 0.3880000000000001, 0.31600000000000006, 0.244, 0.17200000000000015, 0.1, 1.9, 1.825, 1.75, 1.6749999999999998, 1.5999999999999999, 1.525, 1.45, 1.375, 1.2999999999999998, 1.225, 1.15, 1.075, 1.0, 0.9249999999999999, 0.8499999999999999, 0.7749999999999999, 0.7, 0.625, 0.55, 0.47499999999999987, 0.3999999999999999, 0.32499999999999996, 0.25, 0.17500000000000004, 0.1, 1.6, 1.5142857142857145, 1.4285714285714286, 1.342857142857143, 1.2571428571428571, 1.1714285714285715, 1.0857142857142859, 1.0, 0.9142857142857143, 0.8285714285714285, 0.7428571428571428, 0.657142857142857, 0.5714285714285714, 0.48571428571428554, 0.4], \"text\": [\"Ackbar<br>Movies: VI\", \"Arvel Crynyd<br>Movies: VI\", \"Bib Fortuna<br>Movies: VI\", \"Biggs Darklighter<br>Movies: IV\", \"Bossk<br>Movies: V\", \"Greedo<br>Movies: IV\", \"Han Solo<br>Movies: IV V VI\", \"IG-88<br>Movies: V\", \"Jek Tono Porkins<br>Movies: IV\", \"Lando Calrissian<br>Movies: V VI\", \"Lobot<br>Movies: V\", \"Mon Mothma<br>Movies: VI\", \"Nien Nunb<br>Movies: VI\", \"R5-D4<br>Movies: IV\", \"Wedge Antilles<br>Movies: IV V VI\", \"Wicket Systri Warrick<br>Movies: VI\", \"Adi Gallia<br>Movies: I III\", \"Anakin Skywalker<br>Movies: I II III\", \"Ayla Secura<br>Movies: I II III\", \"Bail Prestor Organa<br>Movies: II III\", \"Barriss Offee<br>Movies: II\", \"Ben Quadinaros<br>Movies: I\", \"Cliegg Lars<br>Movies: II\", \"Cord\\u00e9<br>Movies: II\", \"Darth Maul<br>Movies: I\", \"Dexter Jettster<br>Movies: II\", \"Dooku<br>Movies: II III\", \"Dorm\\u00e9<br>Movies: II\", \"Dud Bolt<br>Movies: I\", \"Eeth Koth<br>Movies: I III\", \"Finis Valorum<br>Movies: I\", \"Gasgano<br>Movies: I\", \"Gregar Typho<br>Movies: II\", \"Grievous<br>Movies: III\", \"Jango Fett<br>Movies: II\", \"Jar Jar Binks<br>Movies: I II\", \"Jocasta Nu<br>Movies: II\", \"Ki-Adi-Mundi<br>Movies: I II III\", \"Kit Fisto<br>Movies: I II III\", \"Lama Su<br>Movies: II\", \"Luminara Unduli<br>Movies: II III\", \"Mace Windu<br>Movies: I II III\", \"Mas Amedda<br>Movies: I II\", \"Nute Gunray<br>Movies: I II III\", \"Padm\\u00e9 Amidala<br>Movies: I II III\", \"Plo Koon<br>Movies: I II III\", \"Poggle the Lesser<br>Movies: II III\", \"Quarsh Panaka<br>Movies: I\", \"Qui-Gon Jinn<br>Movies: I\", \"R4-P17<br>Movies: II III\", \"Ratts Tyerell<br>Movies: I\", \"Ric Oli\\u00e9<br>Movies: I\", \"Roos Tarpals<br>Movies: I\", \"Rugor Nass<br>Movies: I\", \"Saesee Tiin<br>Movies: I III\", \"San Hill<br>Movies: II\", \"Sebulba<br>Movies: I\", \"Shaak Ti<br>Movies: II III\", \"Shmi Skywalker<br>Movies: I II\", \"Sly Moore<br>Movies: II III\", \"Tarfful<br>Movies: III\", \"Taun We<br>Movies: II\", \"Tion Medon<br>Movies: III\", \"Wat Tambor<br>Movies: II\", \"Watto<br>Movies: I II\", \"Yarael Poof<br>Movies: I\", \"Zam Wesell<br>Movies: II\", \"Beru Lars<br>Movies: IV II III\", \"Boba Fett<br>Movies: V VI II\", \"C-3PO<br>Movies: IV V VI I II III\", \"Chewbacca<br>Movies: IV V VI III\", \"Darth Vader<br>Movies: IV V VI III\", \"Jabba Desilijic Tiure<br>Movies: IV VI I\", \"Leia Organa<br>Movies: IV V VI III\", \"Luke Skywalker<br>Movies: IV V VI III\", \"Obi-Wan Kenobi<br>Movies: IV V VI I II III\", \"Owen Lars<br>Movies: IV II III\", \"Palpatine<br>Movies: V VI I II III\", \"R2-D2<br>Movies: IV V VI I II III\", \"Raymus Antilles<br>Movies: IV III\", \"Wilhuff Tarkin<br>Movies: IV III\", \"Yoda<br>Movies: V VI I II III\"], \"mode\": \"none\", \"hoverinfo\": \"text\", \"hoveron\": \"points\", \"textfont\": {\"color\": \"black\", \"size\": 12, \"family\": \"Arial\"}}], {\"title\": \"<b>Twin Suns of Tatooine</b> <br>Charaters Appearing in the Different Trilogies\", \"titlefont\": {\"color\": \"rgb(255,255,255)\", \"size\": 21, \"family\": \"open sans\"}, \"plot_bgcolor\": \"rgba(10, 0, 0, 1)\", \"paper_bgcolor\": \"rgba(10, 0, 0, 1)\", \"hovermode\": \"closest\", \"xaxis\": {\"showticklabels\": false, \"autotick\": false, \"showgrid\": false, \"zeroline\": false}, \"yaxis\": {\"showticklabels\": false, \"autotick\": false, \"showgrid\": false, \"zeroline\": false}, \"shapes\": [{\"opacity\": 1, \"xref\": \"x\", \"yref\": \"y\", \"fillcolor\": \"white\", \"x0\": 0, \"y0\": 0, \"x1\": 2, \"y1\": 2, \"type\": \"circle\", \"line\": {\"color\": \"white\"}}, {\"opacity\": 1, \"xref\": \"x\", \"yref\": \"y\", \"fillcolor\": \"white\", \"x0\": 1.35, \"y0\": 0, \"x1\": 3.35, \"y1\": 2, \"type\": \"circle\", \"line\": {\"color\": \"white\"}}, {\"opacity\": 0.3, \"xref\": \"x\", \"yref\": \"y\", \"fillcolor\": \"green\", \"x0\": 0, \"y0\": 0, \"x1\": 2, \"y1\": 2, \"type\": \"circle\", \"line\": {\"color\": \"green\"}}, {\"opacity\": 0.3, \"xref\": \"x\", \"yref\": \"y\", \"fillcolor\": \"blue\", \"x0\": 1.35, \"y0\": 0, \"x1\": 3.35, \"y1\": 2, \"type\": \"circle\", \"line\": {\"color\": \"blue\"}}], \"margin\": {\"l\": 20, \"r\": 20, \"b\": 100, \"t\": 100}, \"height\": 800, \"width\": 1000, \"annotations\": [{\"x\": 2.42, \"y\": 1.9, \"text\": \"Ackbar\", \"font\": {\"family\": \"Arial\", \"size\": 14, \"color\": \"black\"}, \"showarrow\": false}, {\"x\": 2.42, \"y\": 1.78, \"text\": \"Arvel Crynyd\", \"font\": {\"family\": \"Arial\", \"size\": 14, \"color\": \"black\"}, \"showarrow\": false}, {\"x\": 2.42, \"y\": 1.66, \"text\": \"Bib Fortuna\", \"font\": {\"family\": \"Arial\", \"size\": 14, \"color\": \"black\"}, \"showarrow\": false}, {\"x\": 2.42, \"y\": 1.54, \"text\": \"Biggs Darklighter\", \"font\": {\"family\": \"Arial\", \"size\": 14, \"color\": \"black\"}, \"showarrow\": false}, {\"x\": 2.42, \"y\": 1.42, \"text\": \"Bossk\", \"font\": {\"family\": \"Arial\", \"size\": 14, \"color\": \"black\"}, \"showarrow\": false}, {\"x\": 2.42, \"y\": 1.3, \"text\": \"Greedo\", \"font\": {\"family\": \"Arial\", \"size\": 14, \"color\": \"black\"}, \"showarrow\": false}, {\"x\": 2.42, \"y\": 1.1800000000000002, \"text\": \"Han Solo\", \"font\": {\"family\": \"Arial\", \"size\": 14, \"color\": \"black\"}, \"showarrow\": false}, {\"x\": 2.42, \"y\": 1.06, \"text\": \"IG-88\", \"font\": {\"family\": \"Arial\", \"size\": 14, \"color\": \"black\"}, \"showarrow\": false}, {\"x\": 2.42, \"y\": 0.9400000000000001, \"text\": \"Jek Tono Porkins\", \"font\": {\"family\": \"Arial\", \"size\": 14, \"color\": \"black\"}, \"showarrow\": false}, {\"x\": 2.42, \"y\": 0.8200000000000001, \"text\": \"Lando Calrissian\", \"font\": {\"family\": \"Arial\", \"size\": 14, \"color\": \"black\"}, \"showarrow\": false}, {\"x\": 2.42, \"y\": 0.7000000000000002, \"text\": \"Lobot\", \"font\": {\"family\": \"Arial\", \"size\": 14, \"color\": \"black\"}, \"showarrow\": false}, {\"x\": 2.42, \"y\": 0.5800000000000001, \"text\": \"Mon Mothma\", \"font\": {\"family\": \"Arial\", \"size\": 14, \"color\": \"black\"}, \"showarrow\": false}, {\"x\": 2.42, \"y\": 0.4600000000000002, \"text\": \"Nien Nunb\", \"font\": {\"family\": \"Arial\", \"size\": 14, \"color\": \"black\"}, \"showarrow\": false}, {\"x\": 2.42, \"y\": 0.3400000000000001, \"text\": \"R5-D4\", \"font\": {\"family\": \"Arial\", \"size\": 14, \"color\": \"black\"}, \"showarrow\": false}, {\"x\": 2.42, \"y\": 0.2200000000000002, \"text\": \"Wedge Antilles\", \"font\": {\"family\": \"Arial\", \"size\": 14, \"color\": \"black\"}, \"showarrow\": false}, {\"x\": 2.42, \"y\": 0.1, \"text\": \"Wicket Systri Warrick\", \"font\": {\"family\": \"Arial\", \"size\": 14, \"color\": \"black\"}, \"showarrow\": false}, {\"x\": 0.74, \"y\": 1.9, \"text\": \"Adi Gallia\", \"font\": {\"family\": \"Arial\", \"size\": 14, \"color\": \"black\"}, \"showarrow\": false}, {\"x\": 0.74, \"y\": 1.8279999999999998, \"text\": \"Anakin Skywalker\", \"font\": {\"family\": \"Arial\", \"size\": 14, \"color\": \"black\"}, \"showarrow\": false}, {\"x\": 0.74, \"y\": 1.756, \"text\": \"Ayla Secura\", \"font\": {\"family\": \"Arial\", \"size\": 14, \"color\": \"black\"}, \"showarrow\": false}, {\"x\": 0.74, \"y\": 1.684, \"text\": \"Bail Prestor Organa\", \"font\": {\"family\": \"Arial\", \"size\": 14, \"color\": \"black\"}, \"showarrow\": false}, {\"x\": 0.74, \"y\": 1.6119999999999999, \"text\": \"Barriss Offee\", \"font\": {\"family\": \"Arial\", \"size\": 14, \"color\": \"black\"}, \"showarrow\": false}, {\"x\": 0.74, \"y\": 1.54, \"text\": \"Ben Quadinaros\", \"font\": {\"family\": \"Arial\", \"size\": 14, \"color\": \"black\"}, \"showarrow\": false}, {\"x\": 0.74, \"y\": 1.468, \"text\": \"Cliegg Lars\", \"font\": {\"family\": \"Arial\", \"size\": 14, \"color\": \"black\"}, \"showarrow\": false}, {\"x\": 0.74, \"y\": 1.396, \"text\": \"Cord\\u00e9\", \"font\": {\"family\": \"Arial\", \"size\": 14, \"color\": \"black\"}, \"showarrow\": false}, {\"x\": 0.74, \"y\": 1.3239999999999998, \"text\": \"Darth Maul\", \"font\": {\"family\": \"Arial\", \"size\": 14, \"color\": \"black\"}, \"showarrow\": false}, {\"x\": 0.74, \"y\": 1.252, \"text\": \"Dexter Jettster\", \"font\": {\"family\": \"Arial\", \"size\": 14, \"color\": \"black\"}, \"showarrow\": false}, {\"x\": 0.74, \"y\": 1.18, \"text\": \"Dooku\", \"font\": {\"family\": \"Arial\", \"size\": 14, \"color\": \"black\"}, \"showarrow\": false}, {\"x\": 0.74, \"y\": 1.108, \"text\": \"Dorm\\u00e9\", \"font\": {\"family\": \"Arial\", \"size\": 14, \"color\": \"black\"}, \"showarrow\": false}, {\"x\": 0.74, \"y\": 1.036, \"text\": \"Dud Bolt\", \"font\": {\"family\": \"Arial\", \"size\": 14, \"color\": \"black\"}, \"showarrow\": false}, {\"x\": 0.74, \"y\": 0.964, \"text\": \"Eeth Koth\", \"font\": {\"family\": \"Arial\", \"size\": 14, \"color\": \"black\"}, \"showarrow\": false}, {\"x\": 0.74, \"y\": 0.8919999999999999, \"text\": \"Finis Valorum\", \"font\": {\"family\": \"Arial\", \"size\": 14, \"color\": \"black\"}, \"showarrow\": false}, {\"x\": 0.74, \"y\": 0.8200000000000001, \"text\": \"Gasgano\", \"font\": {\"family\": \"Arial\", \"size\": 14, \"color\": \"black\"}, \"showarrow\": false}, {\"x\": 0.74, \"y\": 0.748, \"text\": \"Gregar Typho\", \"font\": {\"family\": \"Arial\", \"size\": 14, \"color\": \"black\"}, \"showarrow\": false}, {\"x\": 0.74, \"y\": 0.6759999999999999, \"text\": \"Grievous\", \"font\": {\"family\": \"Arial\", \"size\": 14, \"color\": \"black\"}, \"showarrow\": false}, {\"x\": 0.74, \"y\": 0.6040000000000001, \"text\": \"Jango Fett\", \"font\": {\"family\": \"Arial\", \"size\": 14, \"color\": \"black\"}, \"showarrow\": false}, {\"x\": 0.74, \"y\": 0.532, \"text\": \"Jar Jar Binks\", \"font\": {\"family\": \"Arial\", \"size\": 14, \"color\": \"black\"}, \"showarrow\": false}, {\"x\": 0.74, \"y\": 0.45999999999999996, \"text\": \"Jocasta Nu\", \"font\": {\"family\": \"Arial\", \"size\": 14, \"color\": \"black\"}, \"showarrow\": false}, {\"x\": 0.74, \"y\": 0.3880000000000001, \"text\": \"Ki-Adi-Mundi\", \"font\": {\"family\": \"Arial\", \"size\": 14, \"color\": \"black\"}, \"showarrow\": false}, {\"x\": 0.74, \"y\": 0.31600000000000006, \"text\": \"Kit Fisto\", \"font\": {\"family\": \"Arial\", \"size\": 14, \"color\": \"black\"}, \"showarrow\": false}, {\"x\": 0.74, \"y\": 0.244, \"text\": \"Lama Su\", \"font\": {\"family\": \"Arial\", \"size\": 14, \"color\": \"black\"}, \"showarrow\": false}, {\"x\": 0.74, \"y\": 0.17200000000000015, \"text\": \"Luminara Unduli\", \"font\": {\"family\": \"Arial\", \"size\": 14, \"color\": \"black\"}, \"showarrow\": false}, {\"x\": 0.74, \"y\": 0.1, \"text\": \"Mace Windu\", \"font\": {\"family\": \"Arial\", \"size\": 14, \"color\": \"black\"}, \"showarrow\": false}, {\"x\": 1.14, \"y\": 1.9, \"text\": \"Mas Amedda\", \"font\": {\"family\": \"Arial\", \"size\": 14, \"color\": \"black\"}, \"showarrow\": false}, {\"x\": 1.14, \"y\": 1.825, \"text\": \"Nute Gunray\", \"font\": {\"family\": \"Arial\", \"size\": 14, \"color\": \"black\"}, \"showarrow\": false}, {\"x\": 1.14, \"y\": 1.75, \"text\": \"Padm\\u00e9 Amidala\", \"font\": {\"family\": \"Arial\", \"size\": 14, \"color\": \"black\"}, \"showarrow\": false}, {\"x\": 1.14, \"y\": 1.6749999999999998, \"text\": \"Plo Koon\", \"font\": {\"family\": \"Arial\", \"size\": 14, \"color\": \"black\"}, \"showarrow\": false}, {\"x\": 1.14, \"y\": 1.5999999999999999, \"text\": \"Poggle the Lesser\", \"font\": {\"family\": \"Arial\", \"size\": 14, \"color\": \"black\"}, \"showarrow\": false}, {\"x\": 1.14, \"y\": 1.525, \"text\": \"Quarsh Panaka\", \"font\": {\"family\": \"Arial\", \"size\": 14, \"color\": \"black\"}, \"showarrow\": false}, {\"x\": 1.14, \"y\": 1.45, \"text\": \"Qui-Gon Jinn\", \"font\": {\"family\": \"Arial\", \"size\": 14, \"color\": \"black\"}, \"showarrow\": false}, {\"x\": 1.14, \"y\": 1.375, \"text\": \"R4-P17\", \"font\": {\"family\": \"Arial\", \"size\": 14, \"color\": \"black\"}, \"showarrow\": false}, {\"x\": 1.14, \"y\": 1.2999999999999998, \"text\": \"Ratts Tyerell\", \"font\": {\"family\": \"Arial\", \"size\": 14, \"color\": \"black\"}, \"showarrow\": false}, {\"x\": 1.14, \"y\": 1.225, \"text\": \"Ric Oli\\u00e9\", \"font\": {\"family\": \"Arial\", \"size\": 14, \"color\": \"black\"}, \"showarrow\": false}, {\"x\": 1.14, \"y\": 1.15, \"text\": \"Roos Tarpals\", \"font\": {\"family\": \"Arial\", \"size\": 14, \"color\": \"black\"}, \"showarrow\": false}, {\"x\": 1.14, \"y\": 1.075, \"text\": \"Rugor Nass\", \"font\": {\"family\": \"Arial\", \"size\": 14, \"color\": \"black\"}, \"showarrow\": false}, {\"x\": 1.14, \"y\": 1.0, \"text\": \"Saesee Tiin\", \"font\": {\"family\": \"Arial\", \"size\": 14, \"color\": \"black\"}, \"showarrow\": false}, {\"x\": 1.14, \"y\": 0.9249999999999999, \"text\": \"San Hill\", \"font\": {\"family\": \"Arial\", \"size\": 14, \"color\": \"black\"}, \"showarrow\": false}, {\"x\": 1.14, \"y\": 0.8499999999999999, \"text\": \"Sebulba\", \"font\": {\"family\": \"Arial\", \"size\": 14, \"color\": \"black\"}, \"showarrow\": false}, {\"x\": 1.14, \"y\": 0.7749999999999999, \"text\": \"Shaak Ti\", \"font\": {\"family\": \"Arial\", \"size\": 14, \"color\": \"black\"}, \"showarrow\": false}, {\"x\": 1.14, \"y\": 0.7, \"text\": \"Shmi Skywalker\", \"font\": {\"family\": \"Arial\", \"size\": 14, \"color\": \"black\"}, \"showarrow\": false}, {\"x\": 1.14, \"y\": 0.625, \"text\": \"Sly Moore\", \"font\": {\"family\": \"Arial\", \"size\": 14, \"color\": \"black\"}, \"showarrow\": false}, {\"x\": 1.14, \"y\": 0.55, \"text\": \"Tarfful\", \"font\": {\"family\": \"Arial\", \"size\": 14, \"color\": \"black\"}, \"showarrow\": false}, {\"x\": 1.14, \"y\": 0.47499999999999987, \"text\": \"Taun We\", \"font\": {\"family\": \"Arial\", \"size\": 14, \"color\": \"black\"}, \"showarrow\": false}, {\"x\": 1.14, \"y\": 0.3999999999999999, \"text\": \"Tion Medon\", \"font\": {\"family\": \"Arial\", \"size\": 14, \"color\": \"black\"}, \"showarrow\": false}, {\"x\": 1.14, \"y\": 0.32499999999999996, \"text\": \"Wat Tambor\", \"font\": {\"family\": \"Arial\", \"size\": 14, \"color\": \"black\"}, \"showarrow\": false}, {\"x\": 1.14, \"y\": 0.25, \"text\": \"Watto\", \"font\": {\"family\": \"Arial\", \"size\": 14, \"color\": \"black\"}, \"showarrow\": false}, {\"x\": 1.14, \"y\": 0.17500000000000004, \"text\": \"Yarael Poof\", \"font\": {\"family\": \"Arial\", \"size\": 14, \"color\": \"black\"}, \"showarrow\": false}, {\"x\": 1.14, \"y\": 0.1, \"text\": \"Zam Wesell\", \"font\": {\"family\": \"Arial\", \"size\": 14, \"color\": \"black\"}, \"showarrow\": false}, {\"x\": 1.68, \"y\": 1.6, \"text\": \"Beru Lars\", \"font\": {\"family\": \"Arial\", \"size\": 14, \"color\": \"black\"}, \"showarrow\": false}, {\"x\": 1.68, \"y\": 1.5142857142857145, \"text\": \"Boba Fett\", \"font\": {\"family\": \"Arial\", \"size\": 14, \"color\": \"black\"}, \"showarrow\": false}, {\"x\": 1.68, \"y\": 1.4285714285714286, \"text\": \"C-3PO\", \"font\": {\"family\": \"Arial\", \"size\": 14, \"color\": \"black\"}, \"showarrow\": false}, {\"x\": 1.68, \"y\": 1.342857142857143, \"text\": \"Chewbacca\", \"font\": {\"family\": \"Arial\", \"size\": 14, \"color\": \"black\"}, \"showarrow\": false}, {\"x\": 1.68, \"y\": 1.2571428571428571, \"text\": \"Darth Vader\", \"font\": {\"family\": \"Arial\", \"size\": 14, \"color\": \"black\"}, \"showarrow\": false}, {\"x\": 1.68, \"y\": 1.1714285714285715, \"text\": \"Jabba Desilijic Tiure\", \"font\": {\"family\": \"Arial\", \"size\": 14, \"color\": \"black\"}, \"showarrow\": false}, {\"x\": 1.68, \"y\": 1.0857142857142859, \"text\": \"Leia Organa\", \"font\": {\"family\": \"Arial\", \"size\": 14, \"color\": \"black\"}, \"showarrow\": false}, {\"x\": 1.68, \"y\": 1.0, \"text\": \"Luke Skywalker\", \"font\": {\"family\": \"Arial\", \"size\": 14, \"color\": \"black\"}, \"showarrow\": false}, {\"x\": 1.68, \"y\": 0.9142857142857143, \"text\": \"Obi-Wan Kenobi\", \"font\": {\"family\": \"Arial\", \"size\": 14, \"color\": \"black\"}, \"showarrow\": false}, {\"x\": 1.68, \"y\": 0.8285714285714285, \"text\": \"Owen Lars\", \"font\": {\"family\": \"Arial\", \"size\": 14, \"color\": \"black\"}, \"showarrow\": false}, {\"x\": 1.68, \"y\": 0.7428571428571428, \"text\": \"Palpatine\", \"font\": {\"family\": \"Arial\", \"size\": 14, \"color\": \"black\"}, \"showarrow\": false}, {\"x\": 1.68, \"y\": 0.657142857142857, \"text\": \"R2-D2\", \"font\": {\"family\": \"Arial\", \"size\": 14, \"color\": \"black\"}, \"showarrow\": false}, {\"x\": 1.68, \"y\": 0.5714285714285714, \"text\": \"Raymus Antilles\", \"font\": {\"family\": \"Arial\", \"size\": 14, \"color\": \"black\"}, \"showarrow\": false}, {\"x\": 1.68, \"y\": 0.48571428571428554, \"text\": \"Wilhuff Tarkin\", \"font\": {\"family\": \"Arial\", \"size\": 14, \"color\": \"black\"}, \"showarrow\": false}, {\"x\": 1.68, \"y\": 0.4, \"text\": \"Yoda\", \"font\": {\"family\": \"Arial\", \"size\": 14, \"color\": \"black\"}, \"showarrow\": false}, {\"x\": 2.42, \"y\": -0.1, \"text\": \"Original Trilogy Only\", \"font\": {\"family\": \"Arial\", \"size\": 18, \"color\": \"white\"}, \"showarrow\": false}, {\"x\": 1, \"y\": -0.1, \"text\": \"Prequels Only\", \"font\": {\"family\": \"Arial\", \"size\": 18, \"color\": \"white\"}, \"showarrow\": false}, {\"x\": 1.68, \"y\": 0.1, \"text\": \"Both\", \"font\": {\"family\": \"Arial\", \"size\": 18, \"color\": \"white\"}, \"showarrow\": false}]}, {\"showLink\": true, \"linkText\": \"Export to plot.ly\"})});</script>"
      ],
      "text/vnd.plotly.v1+html": [
       "<div id=\"376d14e4-f06e-437c-bf77-17ecc521fba9\" style=\"height: 800px; width: 1000px;\" class=\"plotly-graph-div\"></div><script type=\"text/javascript\">require([\"plotly\"], function(Plotly) { window.PLOTLYENV=window.PLOTLYENV || {};window.PLOTLYENV.BASE_URL=\"https://plot.ly\";Plotly.newPlot(\"376d14e4-f06e-437c-bf77-17ecc521fba9\", [{\"type\": \"scatter\", \"x\": [2.42, 2.42, 2.42, 2.42, 2.42, 2.42, 2.42, 2.42, 2.42, 2.42, 2.42, 2.42, 2.42, 2.42, 2.42, 2.42, 0.74, 0.74, 0.74, 0.74, 0.74, 0.74, 0.74, 0.74, 0.74, 0.74, 0.74, 0.74, 0.74, 0.74, 0.74, 0.74, 0.74, 0.74, 0.74, 0.74, 0.74, 0.74, 0.74, 0.74, 0.74, 0.74, 1.14, 1.14, 1.14, 1.14, 1.14, 1.14, 1.14, 1.14, 1.14, 1.14, 1.14, 1.14, 1.14, 1.14, 1.14, 1.14, 1.14, 1.14, 1.14, 1.14, 1.14, 1.14, 1.14, 1.14, 1.14, 1.68, 1.68, 1.68, 1.68, 1.68, 1.68, 1.68, 1.68, 1.68, 1.68, 1.68, 1.68, 1.68, 1.68, 1.68], \"y\": [1.9, 1.78, 1.66, 1.54, 1.42, 1.3, 1.1800000000000002, 1.06, 0.9400000000000001, 0.8200000000000001, 0.7000000000000002, 0.5800000000000001, 0.4600000000000002, 0.3400000000000001, 0.2200000000000002, 0.1, 1.9, 1.8279999999999998, 1.756, 1.684, 1.6119999999999999, 1.54, 1.468, 1.396, 1.3239999999999998, 1.252, 1.18, 1.108, 1.036, 0.964, 0.8919999999999999, 0.8200000000000001, 0.748, 0.6759999999999999, 0.6040000000000001, 0.532, 0.45999999999999996, 0.3880000000000001, 0.31600000000000006, 0.244, 0.17200000000000015, 0.1, 1.9, 1.825, 1.75, 1.6749999999999998, 1.5999999999999999, 1.525, 1.45, 1.375, 1.2999999999999998, 1.225, 1.15, 1.075, 1.0, 0.9249999999999999, 0.8499999999999999, 0.7749999999999999, 0.7, 0.625, 0.55, 0.47499999999999987, 0.3999999999999999, 0.32499999999999996, 0.25, 0.17500000000000004, 0.1, 1.6, 1.5142857142857145, 1.4285714285714286, 1.342857142857143, 1.2571428571428571, 1.1714285714285715, 1.0857142857142859, 1.0, 0.9142857142857143, 0.8285714285714285, 0.7428571428571428, 0.657142857142857, 0.5714285714285714, 0.48571428571428554, 0.4], \"text\": [\"Ackbar<br>Movies: VI\", \"Arvel Crynyd<br>Movies: VI\", \"Bib Fortuna<br>Movies: VI\", \"Biggs Darklighter<br>Movies: IV\", \"Bossk<br>Movies: V\", \"Greedo<br>Movies: IV\", \"Han Solo<br>Movies: IV V VI\", \"IG-88<br>Movies: V\", \"Jek Tono Porkins<br>Movies: IV\", \"Lando Calrissian<br>Movies: V VI\", \"Lobot<br>Movies: V\", \"Mon Mothma<br>Movies: VI\", \"Nien Nunb<br>Movies: VI\", \"R5-D4<br>Movies: IV\", \"Wedge Antilles<br>Movies: IV V VI\", \"Wicket Systri Warrick<br>Movies: VI\", \"Adi Gallia<br>Movies: I III\", \"Anakin Skywalker<br>Movies: I II III\", \"Ayla Secura<br>Movies: I II III\", \"Bail Prestor Organa<br>Movies: II III\", \"Barriss Offee<br>Movies: II\", \"Ben Quadinaros<br>Movies: I\", \"Cliegg Lars<br>Movies: II\", \"Cord\\u00e9<br>Movies: II\", \"Darth Maul<br>Movies: I\", \"Dexter Jettster<br>Movies: II\", \"Dooku<br>Movies: II III\", \"Dorm\\u00e9<br>Movies: II\", \"Dud Bolt<br>Movies: I\", \"Eeth Koth<br>Movies: I III\", \"Finis Valorum<br>Movies: I\", \"Gasgano<br>Movies: I\", \"Gregar Typho<br>Movies: II\", \"Grievous<br>Movies: III\", \"Jango Fett<br>Movies: II\", \"Jar Jar Binks<br>Movies: I II\", \"Jocasta Nu<br>Movies: II\", \"Ki-Adi-Mundi<br>Movies: I II III\", \"Kit Fisto<br>Movies: I II III\", \"Lama Su<br>Movies: II\", \"Luminara Unduli<br>Movies: II III\", \"Mace Windu<br>Movies: I II III\", \"Mas Amedda<br>Movies: I II\", \"Nute Gunray<br>Movies: I II III\", \"Padm\\u00e9 Amidala<br>Movies: I II III\", \"Plo Koon<br>Movies: I II III\", \"Poggle the Lesser<br>Movies: II III\", \"Quarsh Panaka<br>Movies: I\", \"Qui-Gon Jinn<br>Movies: I\", \"R4-P17<br>Movies: II III\", \"Ratts Tyerell<br>Movies: I\", \"Ric Oli\\u00e9<br>Movies: I\", \"Roos Tarpals<br>Movies: I\", \"Rugor Nass<br>Movies: I\", \"Saesee Tiin<br>Movies: I III\", \"San Hill<br>Movies: II\", \"Sebulba<br>Movies: I\", \"Shaak Ti<br>Movies: II III\", \"Shmi Skywalker<br>Movies: I II\", \"Sly Moore<br>Movies: II III\", \"Tarfful<br>Movies: III\", \"Taun We<br>Movies: II\", \"Tion Medon<br>Movies: III\", \"Wat Tambor<br>Movies: II\", \"Watto<br>Movies: I II\", \"Yarael Poof<br>Movies: I\", \"Zam Wesell<br>Movies: II\", \"Beru Lars<br>Movies: IV II III\", \"Boba Fett<br>Movies: V VI II\", \"C-3PO<br>Movies: IV V VI I II III\", \"Chewbacca<br>Movies: IV V VI III\", \"Darth Vader<br>Movies: IV V VI III\", \"Jabba Desilijic Tiure<br>Movies: IV VI I\", \"Leia Organa<br>Movies: IV V VI III\", \"Luke Skywalker<br>Movies: IV V VI III\", \"Obi-Wan Kenobi<br>Movies: IV V VI I II III\", \"Owen Lars<br>Movies: IV II III\", \"Palpatine<br>Movies: V VI I II III\", \"R2-D2<br>Movies: IV V VI I II III\", \"Raymus Antilles<br>Movies: IV III\", \"Wilhuff Tarkin<br>Movies: IV III\", \"Yoda<br>Movies: V VI I II III\"], \"mode\": \"none\", \"hoverinfo\": \"text\", \"hoveron\": \"points\", \"textfont\": {\"color\": \"black\", \"size\": 12, \"family\": \"Arial\"}}], {\"title\": \"<b>Twin Suns of Tatooine</b> <br>Charaters Appearing in the Different Trilogies\", \"titlefont\": {\"color\": \"rgb(255,255,255)\", \"size\": 21, \"family\": \"open sans\"}, \"plot_bgcolor\": \"rgba(10, 0, 0, 1)\", \"paper_bgcolor\": \"rgba(10, 0, 0, 1)\", \"hovermode\": \"closest\", \"xaxis\": {\"showticklabels\": false, \"autotick\": false, \"showgrid\": false, \"zeroline\": false}, \"yaxis\": {\"showticklabels\": false, \"autotick\": false, \"showgrid\": false, \"zeroline\": false}, \"shapes\": [{\"opacity\": 1, \"xref\": \"x\", \"yref\": \"y\", \"fillcolor\": \"white\", \"x0\": 0, \"y0\": 0, \"x1\": 2, \"y1\": 2, \"type\": \"circle\", \"line\": {\"color\": \"white\"}}, {\"opacity\": 1, \"xref\": \"x\", \"yref\": \"y\", \"fillcolor\": \"white\", \"x0\": 1.35, \"y0\": 0, \"x1\": 3.35, \"y1\": 2, \"type\": \"circle\", \"line\": {\"color\": \"white\"}}, {\"opacity\": 0.3, \"xref\": \"x\", \"yref\": \"y\", \"fillcolor\": \"green\", \"x0\": 0, \"y0\": 0, \"x1\": 2, \"y1\": 2, \"type\": \"circle\", \"line\": {\"color\": \"green\"}}, {\"opacity\": 0.3, \"xref\": \"x\", \"yref\": \"y\", \"fillcolor\": \"blue\", \"x0\": 1.35, \"y0\": 0, \"x1\": 3.35, \"y1\": 2, \"type\": \"circle\", \"line\": {\"color\": \"blue\"}}], \"margin\": {\"l\": 20, \"r\": 20, \"b\": 100, \"t\": 100}, \"height\": 800, \"width\": 1000, \"annotations\": [{\"x\": 2.42, \"y\": 1.9, \"text\": \"Ackbar\", \"font\": {\"family\": \"Arial\", \"size\": 14, \"color\": \"black\"}, \"showarrow\": false}, {\"x\": 2.42, \"y\": 1.78, \"text\": \"Arvel Crynyd\", \"font\": {\"family\": \"Arial\", \"size\": 14, \"color\": \"black\"}, \"showarrow\": false}, {\"x\": 2.42, \"y\": 1.66, \"text\": \"Bib Fortuna\", \"font\": {\"family\": \"Arial\", \"size\": 14, \"color\": \"black\"}, \"showarrow\": false}, {\"x\": 2.42, \"y\": 1.54, \"text\": \"Biggs Darklighter\", \"font\": {\"family\": \"Arial\", \"size\": 14, \"color\": \"black\"}, \"showarrow\": false}, {\"x\": 2.42, \"y\": 1.42, \"text\": \"Bossk\", \"font\": {\"family\": \"Arial\", \"size\": 14, \"color\": \"black\"}, \"showarrow\": false}, {\"x\": 2.42, \"y\": 1.3, \"text\": \"Greedo\", \"font\": {\"family\": \"Arial\", \"size\": 14, \"color\": \"black\"}, \"showarrow\": false}, {\"x\": 2.42, \"y\": 1.1800000000000002, \"text\": \"Han Solo\", \"font\": {\"family\": \"Arial\", \"size\": 14, \"color\": \"black\"}, \"showarrow\": false}, {\"x\": 2.42, \"y\": 1.06, \"text\": \"IG-88\", \"font\": {\"family\": \"Arial\", \"size\": 14, \"color\": \"black\"}, \"showarrow\": false}, {\"x\": 2.42, \"y\": 0.9400000000000001, \"text\": \"Jek Tono Porkins\", \"font\": {\"family\": \"Arial\", \"size\": 14, \"color\": \"black\"}, \"showarrow\": false}, {\"x\": 2.42, \"y\": 0.8200000000000001, \"text\": \"Lando Calrissian\", \"font\": {\"family\": \"Arial\", \"size\": 14, \"color\": \"black\"}, \"showarrow\": false}, {\"x\": 2.42, \"y\": 0.7000000000000002, \"text\": \"Lobot\", \"font\": {\"family\": \"Arial\", \"size\": 14, \"color\": \"black\"}, \"showarrow\": false}, {\"x\": 2.42, \"y\": 0.5800000000000001, \"text\": \"Mon Mothma\", \"font\": {\"family\": \"Arial\", \"size\": 14, \"color\": \"black\"}, \"showarrow\": false}, {\"x\": 2.42, \"y\": 0.4600000000000002, \"text\": \"Nien Nunb\", \"font\": {\"family\": \"Arial\", \"size\": 14, \"color\": \"black\"}, \"showarrow\": false}, {\"x\": 2.42, \"y\": 0.3400000000000001, \"text\": \"R5-D4\", \"font\": {\"family\": \"Arial\", \"size\": 14, \"color\": \"black\"}, \"showarrow\": false}, {\"x\": 2.42, \"y\": 0.2200000000000002, \"text\": \"Wedge Antilles\", \"font\": {\"family\": \"Arial\", \"size\": 14, \"color\": \"black\"}, \"showarrow\": false}, {\"x\": 2.42, \"y\": 0.1, \"text\": \"Wicket Systri Warrick\", \"font\": {\"family\": \"Arial\", \"size\": 14, \"color\": \"black\"}, \"showarrow\": false}, {\"x\": 0.74, \"y\": 1.9, \"text\": \"Adi Gallia\", \"font\": {\"family\": \"Arial\", \"size\": 14, \"color\": \"black\"}, \"showarrow\": false}, {\"x\": 0.74, \"y\": 1.8279999999999998, \"text\": \"Anakin Skywalker\", \"font\": {\"family\": \"Arial\", \"size\": 14, \"color\": \"black\"}, \"showarrow\": false}, {\"x\": 0.74, \"y\": 1.756, \"text\": \"Ayla Secura\", \"font\": {\"family\": \"Arial\", \"size\": 14, \"color\": \"black\"}, \"showarrow\": false}, {\"x\": 0.74, \"y\": 1.684, \"text\": \"Bail Prestor Organa\", \"font\": {\"family\": \"Arial\", \"size\": 14, \"color\": \"black\"}, \"showarrow\": false}, {\"x\": 0.74, \"y\": 1.6119999999999999, \"text\": \"Barriss Offee\", \"font\": {\"family\": \"Arial\", \"size\": 14, \"color\": \"black\"}, \"showarrow\": false}, {\"x\": 0.74, \"y\": 1.54, \"text\": \"Ben Quadinaros\", \"font\": {\"family\": \"Arial\", \"size\": 14, \"color\": \"black\"}, \"showarrow\": false}, {\"x\": 0.74, \"y\": 1.468, \"text\": \"Cliegg Lars\", \"font\": {\"family\": \"Arial\", \"size\": 14, \"color\": \"black\"}, \"showarrow\": false}, {\"x\": 0.74, \"y\": 1.396, \"text\": \"Cord\\u00e9\", \"font\": {\"family\": \"Arial\", \"size\": 14, \"color\": \"black\"}, \"showarrow\": false}, {\"x\": 0.74, \"y\": 1.3239999999999998, \"text\": \"Darth Maul\", \"font\": {\"family\": \"Arial\", \"size\": 14, \"color\": \"black\"}, \"showarrow\": false}, {\"x\": 0.74, \"y\": 1.252, \"text\": \"Dexter Jettster\", \"font\": {\"family\": \"Arial\", \"size\": 14, \"color\": \"black\"}, \"showarrow\": false}, {\"x\": 0.74, \"y\": 1.18, \"text\": \"Dooku\", \"font\": {\"family\": \"Arial\", \"size\": 14, \"color\": \"black\"}, \"showarrow\": false}, {\"x\": 0.74, \"y\": 1.108, \"text\": \"Dorm\\u00e9\", \"font\": {\"family\": \"Arial\", \"size\": 14, \"color\": \"black\"}, \"showarrow\": false}, {\"x\": 0.74, \"y\": 1.036, \"text\": \"Dud Bolt\", \"font\": {\"family\": \"Arial\", \"size\": 14, \"color\": \"black\"}, \"showarrow\": false}, {\"x\": 0.74, \"y\": 0.964, \"text\": \"Eeth Koth\", \"font\": {\"family\": \"Arial\", \"size\": 14, \"color\": \"black\"}, \"showarrow\": false}, {\"x\": 0.74, \"y\": 0.8919999999999999, \"text\": \"Finis Valorum\", \"font\": {\"family\": \"Arial\", \"size\": 14, \"color\": \"black\"}, \"showarrow\": false}, {\"x\": 0.74, \"y\": 0.8200000000000001, \"text\": \"Gasgano\", \"font\": {\"family\": \"Arial\", \"size\": 14, \"color\": \"black\"}, \"showarrow\": false}, {\"x\": 0.74, \"y\": 0.748, \"text\": \"Gregar Typho\", \"font\": {\"family\": \"Arial\", \"size\": 14, \"color\": \"black\"}, \"showarrow\": false}, {\"x\": 0.74, \"y\": 0.6759999999999999, \"text\": \"Grievous\", \"font\": {\"family\": \"Arial\", \"size\": 14, \"color\": \"black\"}, \"showarrow\": false}, {\"x\": 0.74, \"y\": 0.6040000000000001, \"text\": \"Jango Fett\", \"font\": {\"family\": \"Arial\", \"size\": 14, \"color\": \"black\"}, \"showarrow\": false}, {\"x\": 0.74, \"y\": 0.532, \"text\": \"Jar Jar Binks\", \"font\": {\"family\": \"Arial\", \"size\": 14, \"color\": \"black\"}, \"showarrow\": false}, {\"x\": 0.74, \"y\": 0.45999999999999996, \"text\": \"Jocasta Nu\", \"font\": {\"family\": \"Arial\", \"size\": 14, \"color\": \"black\"}, \"showarrow\": false}, {\"x\": 0.74, \"y\": 0.3880000000000001, \"text\": \"Ki-Adi-Mundi\", \"font\": {\"family\": \"Arial\", \"size\": 14, \"color\": \"black\"}, \"showarrow\": false}, {\"x\": 0.74, \"y\": 0.31600000000000006, \"text\": \"Kit Fisto\", \"font\": {\"family\": \"Arial\", \"size\": 14, \"color\": \"black\"}, \"showarrow\": false}, {\"x\": 0.74, \"y\": 0.244, \"text\": \"Lama Su\", \"font\": {\"family\": \"Arial\", \"size\": 14, \"color\": \"black\"}, \"showarrow\": false}, {\"x\": 0.74, \"y\": 0.17200000000000015, \"text\": \"Luminara Unduli\", \"font\": {\"family\": \"Arial\", \"size\": 14, \"color\": \"black\"}, \"showarrow\": false}, {\"x\": 0.74, \"y\": 0.1, \"text\": \"Mace Windu\", \"font\": {\"family\": \"Arial\", \"size\": 14, \"color\": \"black\"}, \"showarrow\": false}, {\"x\": 1.14, \"y\": 1.9, \"text\": \"Mas Amedda\", \"font\": {\"family\": \"Arial\", \"size\": 14, \"color\": \"black\"}, \"showarrow\": false}, {\"x\": 1.14, \"y\": 1.825, \"text\": \"Nute Gunray\", \"font\": {\"family\": \"Arial\", \"size\": 14, \"color\": \"black\"}, \"showarrow\": false}, {\"x\": 1.14, \"y\": 1.75, \"text\": \"Padm\\u00e9 Amidala\", \"font\": {\"family\": \"Arial\", \"size\": 14, \"color\": \"black\"}, \"showarrow\": false}, {\"x\": 1.14, \"y\": 1.6749999999999998, \"text\": \"Plo Koon\", \"font\": {\"family\": \"Arial\", \"size\": 14, \"color\": \"black\"}, \"showarrow\": false}, {\"x\": 1.14, \"y\": 1.5999999999999999, \"text\": \"Poggle the Lesser\", \"font\": {\"family\": \"Arial\", \"size\": 14, \"color\": \"black\"}, \"showarrow\": false}, {\"x\": 1.14, \"y\": 1.525, \"text\": \"Quarsh Panaka\", \"font\": {\"family\": \"Arial\", \"size\": 14, \"color\": \"black\"}, \"showarrow\": false}, {\"x\": 1.14, \"y\": 1.45, \"text\": \"Qui-Gon Jinn\", \"font\": {\"family\": \"Arial\", \"size\": 14, \"color\": \"black\"}, \"showarrow\": false}, {\"x\": 1.14, \"y\": 1.375, \"text\": \"R4-P17\", \"font\": {\"family\": \"Arial\", \"size\": 14, \"color\": \"black\"}, \"showarrow\": false}, {\"x\": 1.14, \"y\": 1.2999999999999998, \"text\": \"Ratts Tyerell\", \"font\": {\"family\": \"Arial\", \"size\": 14, \"color\": \"black\"}, \"showarrow\": false}, {\"x\": 1.14, \"y\": 1.225, \"text\": \"Ric Oli\\u00e9\", \"font\": {\"family\": \"Arial\", \"size\": 14, \"color\": \"black\"}, \"showarrow\": false}, {\"x\": 1.14, \"y\": 1.15, \"text\": \"Roos Tarpals\", \"font\": {\"family\": \"Arial\", \"size\": 14, \"color\": \"black\"}, \"showarrow\": false}, {\"x\": 1.14, \"y\": 1.075, \"text\": \"Rugor Nass\", \"font\": {\"family\": \"Arial\", \"size\": 14, \"color\": \"black\"}, \"showarrow\": false}, {\"x\": 1.14, \"y\": 1.0, \"text\": \"Saesee Tiin\", \"font\": {\"family\": \"Arial\", \"size\": 14, \"color\": \"black\"}, \"showarrow\": false}, {\"x\": 1.14, \"y\": 0.9249999999999999, \"text\": \"San Hill\", \"font\": {\"family\": \"Arial\", \"size\": 14, \"color\": \"black\"}, \"showarrow\": false}, {\"x\": 1.14, \"y\": 0.8499999999999999, \"text\": \"Sebulba\", \"font\": {\"family\": \"Arial\", \"size\": 14, \"color\": \"black\"}, \"showarrow\": false}, {\"x\": 1.14, \"y\": 0.7749999999999999, \"text\": \"Shaak Ti\", \"font\": {\"family\": \"Arial\", \"size\": 14, \"color\": \"black\"}, \"showarrow\": false}, {\"x\": 1.14, \"y\": 0.7, \"text\": \"Shmi Skywalker\", \"font\": {\"family\": \"Arial\", \"size\": 14, \"color\": \"black\"}, \"showarrow\": false}, {\"x\": 1.14, \"y\": 0.625, \"text\": \"Sly Moore\", \"font\": {\"family\": \"Arial\", \"size\": 14, \"color\": \"black\"}, \"showarrow\": false}, {\"x\": 1.14, \"y\": 0.55, \"text\": \"Tarfful\", \"font\": {\"family\": \"Arial\", \"size\": 14, \"color\": \"black\"}, \"showarrow\": false}, {\"x\": 1.14, \"y\": 0.47499999999999987, \"text\": \"Taun We\", \"font\": {\"family\": \"Arial\", \"size\": 14, \"color\": \"black\"}, \"showarrow\": false}, {\"x\": 1.14, \"y\": 0.3999999999999999, \"text\": \"Tion Medon\", \"font\": {\"family\": \"Arial\", \"size\": 14, \"color\": \"black\"}, \"showarrow\": false}, {\"x\": 1.14, \"y\": 0.32499999999999996, \"text\": \"Wat Tambor\", \"font\": {\"family\": \"Arial\", \"size\": 14, \"color\": \"black\"}, \"showarrow\": false}, {\"x\": 1.14, \"y\": 0.25, \"text\": \"Watto\", \"font\": {\"family\": \"Arial\", \"size\": 14, \"color\": \"black\"}, \"showarrow\": false}, {\"x\": 1.14, \"y\": 0.17500000000000004, \"text\": \"Yarael Poof\", \"font\": {\"family\": \"Arial\", \"size\": 14, \"color\": \"black\"}, \"showarrow\": false}, {\"x\": 1.14, \"y\": 0.1, \"text\": \"Zam Wesell\", \"font\": {\"family\": \"Arial\", \"size\": 14, \"color\": \"black\"}, \"showarrow\": false}, {\"x\": 1.68, \"y\": 1.6, \"text\": \"Beru Lars\", \"font\": {\"family\": \"Arial\", \"size\": 14, \"color\": \"black\"}, \"showarrow\": false}, {\"x\": 1.68, \"y\": 1.5142857142857145, \"text\": \"Boba Fett\", \"font\": {\"family\": \"Arial\", \"size\": 14, \"color\": \"black\"}, \"showarrow\": false}, {\"x\": 1.68, \"y\": 1.4285714285714286, \"text\": \"C-3PO\", \"font\": {\"family\": \"Arial\", \"size\": 14, \"color\": \"black\"}, \"showarrow\": false}, {\"x\": 1.68, \"y\": 1.342857142857143, \"text\": \"Chewbacca\", \"font\": {\"family\": \"Arial\", \"size\": 14, \"color\": \"black\"}, \"showarrow\": false}, {\"x\": 1.68, \"y\": 1.2571428571428571, \"text\": \"Darth Vader\", \"font\": {\"family\": \"Arial\", \"size\": 14, \"color\": \"black\"}, \"showarrow\": false}, {\"x\": 1.68, \"y\": 1.1714285714285715, \"text\": \"Jabba Desilijic Tiure\", \"font\": {\"family\": \"Arial\", \"size\": 14, \"color\": \"black\"}, \"showarrow\": false}, {\"x\": 1.68, \"y\": 1.0857142857142859, \"text\": \"Leia Organa\", \"font\": {\"family\": \"Arial\", \"size\": 14, \"color\": \"black\"}, \"showarrow\": false}, {\"x\": 1.68, \"y\": 1.0, \"text\": \"Luke Skywalker\", \"font\": {\"family\": \"Arial\", \"size\": 14, \"color\": \"black\"}, \"showarrow\": false}, {\"x\": 1.68, \"y\": 0.9142857142857143, \"text\": \"Obi-Wan Kenobi\", \"font\": {\"family\": \"Arial\", \"size\": 14, \"color\": \"black\"}, \"showarrow\": false}, {\"x\": 1.68, \"y\": 0.8285714285714285, \"text\": \"Owen Lars\", \"font\": {\"family\": \"Arial\", \"size\": 14, \"color\": \"black\"}, \"showarrow\": false}, {\"x\": 1.68, \"y\": 0.7428571428571428, \"text\": \"Palpatine\", \"font\": {\"family\": \"Arial\", \"size\": 14, \"color\": \"black\"}, \"showarrow\": false}, {\"x\": 1.68, \"y\": 0.657142857142857, \"text\": \"R2-D2\", \"font\": {\"family\": \"Arial\", \"size\": 14, \"color\": \"black\"}, \"showarrow\": false}, {\"x\": 1.68, \"y\": 0.5714285714285714, \"text\": \"Raymus Antilles\", \"font\": {\"family\": \"Arial\", \"size\": 14, \"color\": \"black\"}, \"showarrow\": false}, {\"x\": 1.68, \"y\": 0.48571428571428554, \"text\": \"Wilhuff Tarkin\", \"font\": {\"family\": \"Arial\", \"size\": 14, \"color\": \"black\"}, \"showarrow\": false}, {\"x\": 1.68, \"y\": 0.4, \"text\": \"Yoda\", \"font\": {\"family\": \"Arial\", \"size\": 14, \"color\": \"black\"}, \"showarrow\": false}, {\"x\": 2.42, \"y\": -0.1, \"text\": \"Original Trilogy Only\", \"font\": {\"family\": \"Arial\", \"size\": 18, \"color\": \"white\"}, \"showarrow\": false}, {\"x\": 1, \"y\": -0.1, \"text\": \"Prequels Only\", \"font\": {\"family\": \"Arial\", \"size\": 18, \"color\": \"white\"}, \"showarrow\": false}, {\"x\": 1.68, \"y\": 0.1, \"text\": \"Both\", \"font\": {\"family\": \"Arial\", \"size\": 18, \"color\": \"white\"}, \"showarrow\": false}]}, {\"showLink\": true, \"linkText\": \"Export to plot.ly\"})});</script>"
      ]
     },
     "metadata": {},
     "output_type": "display_data"
    }
   ],
   "source": [
    "trace0 = go.Scatter( #create the scatterplot\n",
    "    x=all_x,\n",
    "    y=all_y,\n",
    "    text=labels,\n",
    "    mode='none',\n",
    "    hoverinfo = 'text',\n",
    "    hoveron = 'points',\n",
    "    textfont=dict(\n",
    "        color='black',\n",
    "        size=12,\n",
    "        family='Arial',\n",
    "    ),\n",
    ")\n",
    "\n",
    "data = [trace0]\n",
    "\n",
    "layout = { #make it look good, note:this one had to be done as a dictionary manually so that the shapes attribute would function properly\n",
    "    'title' :'<b>Twin Suns of Tatooine</b> <br>Charaters Appearing in the Different Trilogies',\n",
    "    'titlefont' :{'color' :'rgb(255,255,255)', \n",
    "                   'size' :21,\n",
    "                   'family': 'open sans'},          \n",
    "    'plot_bgcolor':'rgba(10, 0, 0, 1)',\n",
    "    'paper_bgcolor':'rgba(10, 0, 0, 1)',\n",
    "    'hovermode': 'closest',\n",
    "    'xaxis': {\n",
    "        'showticklabels': False,\n",
    "        'autotick': False,\n",
    "        'showgrid': False,\n",
    "        'zeroline': False,\n",
    "    },\n",
    "    'yaxis': {\n",
    "        'showticklabels': False,\n",
    "        'autotick': False,\n",
    "        'showgrid': False,\n",
    "        'zeroline': False,\n",
    "    },\n",
    "    'shapes': [\n",
    "         {\n",
    "            'opacity': 1, #create two background white circles so opacity works on black page\n",
    "            'xref': 'x',\n",
    "            'yref': 'y',\n",
    "            'fillcolor': 'white',\n",
    "            'x0': 0,\n",
    "            'y0': 0,\n",
    "            'x1': 2,\n",
    "            'y1': 2,\n",
    "            'type': 'circle',\n",
    "            'line': {\n",
    "                'color': 'white',\n",
    "            },\n",
    "        },\n",
    "        {\n",
    "            'opacity': 1, #second\n",
    "            'xref': 'x',\n",
    "            'yref': 'y',\n",
    "            'fillcolor': 'white',\n",
    "            'x0': 1.35,\n",
    "            'y0': 0,\n",
    "            'x1': 3.35,\n",
    "            'y1': 2,\n",
    "            'type': 'circle',\n",
    "            'line': {\n",
    "                'color': 'white',\n",
    "            },\n",
    "        },\n",
    "        {\n",
    "            'opacity': 0.3, #Left circle\n",
    "            'xref': 'x',\n",
    "            'yref': 'y',\n",
    "            'fillcolor': 'green',\n",
    "            'x0': 0,\n",
    "            'y0': 0,\n",
    "            'x1': 2,\n",
    "            'y1': 2,\n",
    "            'type': 'circle',\n",
    "            'line': {\n",
    "                'color': 'green',\n",
    "            },\n",
    "        },\n",
    "       \n",
    "        {\n",
    "            'opacity': 0.3, #right\n",
    "            'xref': 'x',\n",
    "            'yref': 'y',\n",
    "            'fillcolor': 'blue',\n",
    "            'x0': 1.35,\n",
    "            'y0': 0,\n",
    "            'x1': 3.35,\n",
    "            'y1': 2,\n",
    "            'type': 'circle',\n",
    "            'line': {\n",
    "                'color': 'blue',\n",
    "            },\n",
    "        }\n",
    "    ],\n",
    "'margin': { #get the dimensions right\n",
    "        'l': 20,\n",
    "        'r': 20,\n",
    "        'b': 100,\n",
    "        't': 100\n",
    "    },\n",
    "    'height': 800,\n",
    "    'width': 1000,\n",
    "    \n",
    "\n",
    "'annotations': annotations, #add appropriate labels\n",
    "}\n",
    "\n",
    "fig = { \n",
    "    'data': data,\n",
    "    'layout': layout,\n",
    "}\n",
    "\n",
    "iplot(fig) #plot it"
   ]
  },
  {
   "cell_type": "markdown",
   "metadata": {},
   "source": [
    "As this venn diagram illustrates, there are a lot of characters in the prequels. Most of the characters that appear in the original trilogy are nameless and otherwise forgettable stormtroopers and rebel fighters that did not get their own character items in swapi. Compared to the initial list from the 538 diagram, we see that Anakin, Jar Jar, and Padme appear in the prequels only, Han and Lando appear in the sequels only, and Boba, Darth Vader, Leia, Luke, Obi-Wan, Palpatine, R2, and Yoda appear in both. However, just because a character appears in one means they actually were a real presence in the film. For example, Luke and Leia appear in the prequels just as infants at the end of Episode III. One might argue that Anakin does appear in the original trilogy when Darth Vader takes off his mask [Again, Spoiler Alert!!] and when he appears as a force ghost at the end of Episode VI. So, while a binary is initially helpful, there is more information that might be contained in the dialogue directly from the movie scripts themselves."
   ]
  },
  {
   "cell_type": "markdown",
   "metadata": {},
   "source": [
    "## PART F\n",
    "### Collecting and Parsing the Star Wars Scripts for Dialogue"
   ]
  },
  {
   "cell_type": "markdown",
   "metadata": {},
   "source": [
    "The third set of data comes from IMSDB (The Internet Movie Script Database: \"The web's largest movie script resource!\"). It consists of the six scripts to the original trilogy and the prequels. They are contained in the html webpage and so need to be parsed with beautiful soup 4. Some of them have different formatting and so require novel and somewhat esoteric code in order to get at the language itself. The code itself isn't that brilliant but the pattern recognition required for some of the scripts took careful examination of the scripts in order to be automated (with a few corrections after)."
   ]
  },
  {
   "cell_type": "code",
   "execution_count": 21,
   "metadata": {
    "collapsed": false
   },
   "outputs": [],
   "source": [
    "url4 = 'http://www.imsdb.com/scripts/Star-Wars-A-New-Hope.html' #get the urls from isdb\n",
    "url5 = 'http://www.imsdb.com/scripts/Star-Wars-The-Empire-Strikes-Back.html'\n",
    "url6 = 'http://www.imsdb.com/scripts/Star-Wars-Return-of-the-Jedi.html'\n",
    "url1 = 'http://www.imsdb.com/scripts/Star-Wars-The-Phantom-Menace.html'\n",
    "url2 = 'http://www.imsdb.com/scripts/Star-Wars-Attack-of-the-Clones.html'\n",
    "url3 = 'http://www.imsdb.com/scripts/Star-Wars-Revenge-of-the-Sith.html'\n",
    "\n",
    "ep4  = requests.get(url4) #access the information contained\n",
    "ep5  = requests.get(url5)\n",
    "ep6  = requests.get(url6)\n",
    "ep1  = requests.get(url1)\n",
    "ep2  = requests.get(url2)\n",
    "ep3  = requests.get(url3)"
   ]
  },
  {
   "cell_type": "code",
   "execution_count": 22,
   "metadata": {
    "collapsed": false
   },
   "outputs": [],
   "source": [
    "ep4_soup = BeautifulSoup(ep4.content, 'html.parser') #parse the html\n",
    "ep5_soup = BeautifulSoup(ep5.content, 'html.parser')\n",
    "ep6_soup = BeautifulSoup(ep6.content, 'html.parser')\n",
    "\n",
    "ep1_soup = BeautifulSoup(ep1.content, 'html.parser')\n",
    "ep2_soup = BeautifulSoup(ep2.content, 'html.parser')\n",
    "ep3_soup = BeautifulSoup(ep3.content, 'html.parser')"
   ]
  },
  {
   "cell_type": "code",
   "execution_count": 23,
   "metadata": {
    "collapsed": false
   },
   "outputs": [],
   "source": [
    "ep4_script = ep4_soup.find_all('pre')[0] #for these five scripts, the screenplay is conatined within the <pre> tags\n",
    "ep4_raw = ep4_script.get_text()\n",
    "\n",
    "ep5_script = ep5_soup.find_all('pre')[0]\n",
    "ep5_raw = ep5_script.get_text()\n",
    "\n",
    "ep6_script = ep6_soup.find_all('pre')[0]\n",
    "ep6_raw = ep6_script.get_text()\n",
    "\n",
    "ep1_script = ep1_soup.find_all('pre')[0]\n",
    "ep1_raw = ep1_script.get_text()\n",
    "\n",
    "ep2_script = ep2_soup.find_all('pre')[0]\n",
    "ep2_raw = ep2_script.get_text()\n"
   ]
  },
  {
   "cell_type": "code",
   "execution_count": 24,
   "metadata": {
    "collapsed": false
   },
   "outputs": [],
   "source": [
    "ep3_raw = ep3_soup.get_text() #episode 3 required finding the beginning and end manually\n",
    "for m in re.finditer('STAR WARS EPISODE 3: REVENGE OF THE SITH SCRIPT', ep3_raw):\n",
    "    I1 = m.start()\n",
    "for m in re.finditer('END TITLES.', ep3_raw):\n",
    "    I2 = m.end()   \n",
    "    \n",
    "ep3_raw = ep3_raw[I1:I2]\n"
   ]
  },
  {
   "cell_type": "markdown",
   "metadata": {},
   "source": [
    "Now we have the raw scripts and can begin to access the dialogue itself. I am interested in seeing how often a character actually speaks in each movie. The basic structure I use for each script is the same but the exact characters or patterns of characters that signal the beginning of a dialogue and the current speaker vary from one to another. Hence, I modified the code for each script. There are also some typos and differences in names across different scripts (and even sometimes variations within) and so I do some looping and cleaning up a bit before and after parsing."
   ]
  },
  {
   "cell_type": "code",
   "execution_count": 25,
   "metadata": {
    "collapsed": false,
    "scrolled": true
   },
   "outputs": [],
   "source": [
    "ep4_split = ep4_raw.split('\\n') #split the script into lines\n",
    "ep4_length = len(ep4_split) \n",
    "speaker_spaces = '                                     '#indent indicates speaker\n",
    "dialogue_spaces = '                         ' #indent indicates dialogue\n",
    "ind = ep4_split.index('               Another blast shakes them as they struggle along their way.') #find where dialogue begins\n",
    "end = ep4_split.index('               INT. MASSASSI OUTPOST - MAIN THRONE ROOM')\n",
    "j=-1 #-1 so it doesnt start copying until after the first character is done speaking\n",
    "ep4_parsed = []\n",
    "char = []\n",
    "lines = []\n",
    "while ind < end: #this is gonna go through every line, when there is a speaker it saves the speakers name and stores all their lines of dialogue until the next speaker and then begins it again\n",
    "    if ep4_split[ind] == '':\n",
    "        ind = ind + 1\n",
    "    elif ep4_split[ind] != '':\n",
    "        if ep4_split[ind][15] != ' ':\n",
    "            ind = ind + 1\n",
    "        elif ep4_split[ind][15] == ' ':\n",
    "            if ep4_split[ind][0:37] == speaker_spaces:\n",
    "                if j >= 0:\n",
    "                    lines = ''.join(temp)\n",
    "                    ep4_parsed.append([char, lines])\n",
    "                char = ep4_split[ind][37:]\n",
    "                temp = []\n",
    "                j = j + 1 \n",
    "                ind = ind + 1\n",
    "            elif ep4_split[ind][:25] == dialogue_spaces:\n",
    "                temp.append(ep4_split[ind][25:])\n",
    "                ind = ind + 1\n",
    "        else:\n",
    "            ind = ind + 1\n",
    "\n",
    "lines = ''.join(temp) # to make sure we get the last lines of dialogue\n",
    "ep4_parsed.append([char, lines])\n",
    "\n",
    "for line in ep4_parsed: #some cleaning up\n",
    "    line[1] = line[1].replace(') ', ')')\n",
    "    line[1] = line[1].replace(')', ') ')\n",
    "    if line[0][-1] == ' ':\n",
    "        line[0]= line[0].rstrip()\n",
    "    if line[0][-1] == '\\t':\n",
    "        line[0]= line[0][:-1]\n",
    "    if line[0][-7:] == 'S VOICE':\n",
    "        line[0] = line[0][:-8]\n",
    "    if line[0] == 'VADER':\n",
    "        line[0] = 'DARTH VADER'\n",
    "    elif line[0] == 'BEN':\n",
    "        line[0] = 'OBI-WAN'"
   ]
  },
  {
   "cell_type": "code",
   "execution_count": 26,
   "metadata": {
    "collapsed": false,
    "scrolled": true
   },
   "outputs": [],
   "source": [
    "ep5_split = ep5_raw.split('\\n')\n",
    "ep5_length = len(ep5_split)  # number of lines\n",
    "speaker_spaces = '\\t\\t\\t\\t'\n",
    "dialogue_spaces = '\\t\\t'\n",
    "ind = ep5_split.index('transmitter.  His Tauntaun shifts and moans nervously beneath him.') #find where dialogue begins\n",
    "end = ep5_split.index('Luke wriggles his fingers, makes a fist, and relaxes it.  His hand is ') #ends\n",
    "j=-1\n",
    "ep5_parsed = []\n",
    "char = []\n",
    "lines = []       #same basic structure but with tab characters instead of spaces\n",
    "while ind < end:\n",
    "    if ep5_split[ind] == '':\n",
    "        ind = ind + 1\n",
    "    elif ep5_split[ind][0] != '':\n",
    "        if ep5_split[ind][0] != '\\t':\n",
    "            ind = ind + 1\n",
    "        elif ep5_split[ind][0] == '\\t':\n",
    "            if ep5_split[ind][:4] == speaker_spaces:\n",
    "                if j >= 0:\n",
    "                    lines = ''.join(temp)\n",
    "                    ep5_parsed.append([char, lines])\n",
    "                char = ep5_split[ind][4:]\n",
    "                temp = []\n",
    "                j = j + 1 \n",
    "                ind = ind + 1\n",
    "            elif ep5_split[ind][:2] == dialogue_spaces:\n",
    "                temp.append(ep5_split[ind][2:])\n",
    "                ind = ind + 1\n",
    "        else:\n",
    "            ind = ind + 1\n",
    "\n",
    "lines = ''.join(temp) # to make sure we get the last line\n",
    "ep5_parsed.append([char, lines])\n",
    "\n",
    "for line in ep5_parsed:\n",
    "    line[1] = line[1].replace(') ', ')')\n",
    "    line[1] = line[1].replace(')', ') ')\n",
    "    line[1] = line[1].replace('\\t(','     (')\n",
    "    line[1] = line[1].replace('\\t ','')\n",
    "    if line[0][-1] == ' ':\n",
    "        line[0]= line[0].rstrip()\n",
    "    if line[0][-1] == '\\t':\n",
    "        line[0]= line[0][:-1]\n",
    "    if line[0][-7:] == 'S VOICE':\n",
    "        line[0] = line[0][:-8]\n",
    "    if line[0] == 'VADER':\n",
    "        line[0] = 'DARTH VADER'\n",
    "    elif line[0] == 'BEN':\n",
    "        line[0] = 'OBI-WAN'\n",
    "    elif line[0] == 'EMPEROR':\n",
    "        line[0] = 'PALPATINE'\n",
    "    "
   ]
  },
  {
   "cell_type": "code",
   "execution_count": 27,
   "metadata": {
    "collapsed": false
   },
   "outputs": [],
   "source": [
    "#this one gave little way of knoing a speaker was speaking other than that it was in all caps. So other words that were in all caps and not the beginnings of dialogues had to be changed\n",
    "ep6_raw = ep6_raw.replace('INTO HYPERSPACE.', 'Into hyperspace')\n",
    "ep6_raw = ep6_raw.replace('PIETT is leaning over', 'Piett is leaning over')\n",
    "ep6_raw = ep6_raw.replace('THE VOICES of our heroes.','The Voices of our heroes.')\n",
    "ep6_raw = ep6_raw.replace('FAR AHEAD, Leia and the first', 'Far Ahead, Leia and the first')\n",
    "ep6_raw = ep6_raw.replace('THEIR POV. Not far', 'Their POV. Not far')\n",
    "ep6_raw = ep6_raw.replace('BOBA FETT standing near', 'Boba Fett standing near')\n",
    "ep6_raw = ep6_raw.replace('MON MOTHMA, the', 'Mon Mothma, the')\n",
    "ep6_raw = ep6_raw.replace('ATTACK CALL. All hell breaks loose', 'Attack Call. All hell breaks loose')\n",
    "ep6_raw = ep6_raw.replace('SCOUT standing over her with his', 'Scout standing over her with his')\n",
    "ep6_raw = ep6_raw.replace('ANOTHER PART OF THE FOREST: Luke and the last', 'Another part of the Forest: Luke and the last')\n",
    "ep6_raw = ep6_raw.replace('RANCOR emerges. The guard runs', 'Rancor emerges. The guard runs')\n",
    "ep6_split = ep6_raw.split('\\n')\n",
    "ind = ep6_split.index('SHUTTLE CAPTAIN')\n",
    "fin = ep6_split.index('Han is stunned by this news. She smiles, and they embrace.')\n",
    "\n",
    "j = 0\n",
    "dialogue = 0\n",
    "temp = []\n",
    "ep6_parsed = []\n",
    "for line in ep6_split[ind:fin]:\n",
    "    if dialogue == 1:\n",
    "        temp_line = line\n",
    "        if line.startswith(' ') == 1:\n",
    "            temp_line = temp_line[1:]\n",
    "        if line.endswith(' ') == 0:\n",
    "            temp_line = ''.join([temp_line, ' '])\n",
    "        temp.append(temp_line)\n",
    "        if line == '':\n",
    "            lines = ''.join(temp)\n",
    "            ep6_parsed.append([char, lines])\n",
    "            dialogue = 0\n",
    "            j = j + 1\n",
    "    if line != '':\n",
    "        index = line.find(' ')\n",
    "        if index != 0 and index != 1:\n",
    "            letters = set(line[:index])\n",
    "            ALL_CAPS = all(letter.isupper() for letter in letters)\n",
    "            if ALL_CAPS == 1:\n",
    "                subtext = line.find('(')\n",
    "                if subtext != -1:\n",
    "                    char = line[:subtext-1]\n",
    "                    temp = []\n",
    "                    temp.extend([line[subtext:], ' '])  \n",
    "                else:\n",
    "                    char = line\n",
    "                    temp = []\n",
    "                dialogue = 1\n",
    "                \n",
    "#temp.extend([' ', ep2_split[ind][3:]])\n",
    "for line in ep6_parsed: #clean it up\n",
    "    line[1] = line[1][:-2]\n",
    "    if line[0][-1] == ' ':\n",
    "        line[0]= line[0].rstrip()\n",
    "    if line[0][-1] == '\\t':\n",
    "        line[0]= line[0][:-1]\n",
    "    if line[0] == 'VADER':\n",
    "        line[0] = 'DARTH VADER'\n",
    "    elif line[0] == 'BEN':\n",
    "        line[0] = 'OBI-WAN'\n",
    "    elif line[0] == 'EMPEROR':\n",
    "        line[0] = 'PALPATINE'"
   ]
  },
  {
   "cell_type": "code",
   "execution_count": 28,
   "metadata": {
    "collapsed": false
   },
   "outputs": [],
   "source": [
    "#This one was particularly tough. As you can see, a dialogue began with a colon and the word before it was the speaker, but \n",
    "#we also needed a way to know when the name starts. There also needed to be a way to know when the dialogue ended, which was either when \n",
    "#there were two newlines or a new speaker indicated by a colon. Thus the condition was met by choosing the\n",
    "#minimum of either distance from the colon and going through again.\n",
    "\n",
    "\n",
    "#a bunch of lines violated this condition, but having ten out-data samples wasn't that bad relative to the overall length of the doc\n",
    "ep1_raw = ep1_raw.replace('B :A', 'B : A')\n",
    "ep1_raw = ep1_raw.replace('br QUI-GON : Just relax', '\\n\\nQUI-GON : Just relax')\n",
    "ep1_raw = ep1_raw.replace(' PADME : I\\'m Padme', '\\n\\nPADME : I\\'m Padme')\n",
    "ep1_raw = ep1_raw.replace('Igave', 'I gave')\n",
    "ep1_raw = ep1_raw.replace('maste ', 'master ')\n",
    "ep1_raw = ep1_raw.replace(' WATTO :\\n(subtitled) Fweepa', '\\n\\nWATTO : (subtitled) Fweepa')\n",
    "ep1_raw = ep1_raw.replace(' JAR JAR : Who, mesa?? SEBULBA :\\n',  '\\n\\nJAR JAR : Who, mesa??\\n\\nSEBULBA : ') \n",
    "ep1_raw = ep1_raw.replace('Yes? CAPT', 'Yes?\\n\\nCAPT')\n",
    "ep1_raw = ep1_raw.replace('power charge. ANAKIN :\\n', 'power charge.\\n\\nANAKIN : \\n')\n",
    "ep1_raw = ep1_raw.replace('poerhaps', 'perhaps')\n",
    "ep1_raw = ep1_raw.replace('patienc,', 'patience')\n",
    "ep1_raw = ep1_raw.replace(' :\\n', ' : ')\n",
    "ep1_raw = ep1_raw.replace('-\\nA: Toogi!', '-\\nA : Toogi!')\n",
    "ep1_raw = ep1_raw.replace('(Cont\\'d) : Oops!', '(Cont\\'d) Oops!')\n",
    "ep1_raw = ep1_raw.replace('\\n\\nPADME looks at him, not knowing what to say. PADME', '\\nPADME looks at him, not knowing what to say.\\n\\nPADME')\n",
    "ep1_raw = ep1_raw.replace('\\n\\nQUI-GON hurries into the shop, followed by ARTOO. QUI-GON','\\nQUI-GON hurries into the shop, followed by ARTOO.\\n\\nQUI-GON')\n",
    "ep1_raw = ep1_raw.replace('The\\nprize money would more than pay for the parts they need. JAR JAR', 'The prize money would more than pay for the parts they need.\\n\\nJAR JAR')\n",
    "ep1_raw = ep1_raw.replace('FANTA. JAR JAR', 'FANTA.\\n\\nJAR JAR')\n",
    "\n",
    "beg_string = 'of the battleships.'\n",
    "beg = ep1_raw.find(beg_string)\n",
    "ind = beg + len(beg_string)\n",
    "end_string = 'They give each other a concerned look.'\n",
    "end = ep1_raw.find(end_string)\n",
    "ep1_to_be_parsed = ep1_raw[ind:end]\n",
    "num_dialogues = ep1_to_be_parsed.count(' : ')\n",
    "\n",
    "\n",
    "ep1_parsed = []\n",
    "delimiter = ' : '\n",
    "delimiter2 = '\\n\\n'\n",
    "j = 0\n",
    "start = 0\n",
    "while j <= 1108:  #this loop takes care of the find the minimally distanced next dialogue delimiter and splices it\n",
    "    fin = ep1_to_be_parsed.find(delimiter, start)\n",
    "    beg = ep1_to_be_parsed.rfind('\\n', start, fin)\n",
    "    char = ep1_to_be_parsed[beg+1:fin]\n",
    "    nxt = ep1_to_be_parsed.find(delimiter, fin+3)\n",
    "    nxt1 = ep1_to_be_parsed.rfind('\\n', fin+3, nxt)\n",
    "    nxt2 = ep1_to_be_parsed.find(delimiter2, fin)\n",
    "    if nxt1 == -1:\n",
    "        endd = nxt2\n",
    "    elif nxt1 != -1:\n",
    "        endd = min(nxt1, nxt2)\n",
    "    lines = ep1_to_be_parsed[fin+3:endd]\n",
    "    ep1_parsed.append([char, lines])\n",
    "    start = endd\n",
    "    j = j + 1\n",
    "\n",
    "#cleaning things up\n",
    "for line in ep1_parsed:\n",
    "    line[1] = line[1].replace('\\n', ' ')\n",
    "    if line[0][-1] == ' ':\n",
    "        line[0]= line[0].rstrip()\n",
    "    if line[0][-1] == '\\t':\n",
    "        line[0]= line[0][:-1]\n",
    "    if line[0] == 'PADME' or line[0] == 'PAMDE' or line[0] == 'AMIDALA':\n",
    "        line[0] = 'PADMÉ'\n",
    "    elif line[0] == 'QU-IG0N' or line[0] == 'GUI-GON':\n",
    "        line[0] = 'QUI-GON'\n",
    "    elif line[0] == 'ANKAIN' or line[0] == 'ANAKNI' or  line[0] == 'ANAKN':\n",
    "        line[0] = 'ANAKIN'\n",
    "    elif line[0] == 'PALAPATINE':\n",
    "        line[0] = 'PALPATINE'\n"
   ]
  },
  {
   "cell_type": "code",
   "execution_count": 29,
   "metadata": {
    "collapsed": false
   },
   "outputs": [],
   "source": [
    "#Nice and simple tabs again\n",
    "ep2_script = ep2_soup.find_all('pre')[0]\n",
    "ep2_raw = ep2_script.get_text()\n",
    "\n",
    "ep2_raw = ep2_raw.replace('\\n\\nCAPTAIN TYPHO\\nWe made it. I guess I was wrong,\\nthere was no danger at all.','\\n\\n\\t\\t\\t\\tCAPTAIN TYPHO\\n\\t\\t\\tWe made it. I guess I was wrong,\\n\\t\\t\\tthere was no danger at all.')\n",
    "\n",
    "ep2_split = ep2_raw.split('\\n')\n",
    "ep2_length = len(ep2_split)  # number of lines\n",
    "\n",
    "speaker_spaces = '\\t\\t\\t\\t'\n",
    "dialogue_spaces = '\\t\\t\\t'\n",
    "ind = ep2_split.index(\"One of the FIGHTER PILOTS jumps from the wing of his ship and removes his helmet. He is CAPTAIN TYPHO, SENATOR AMIDALA'S Security Officer. He moves over to a WOMAN PILOT.\",) #find where dialogue begins\n",
    "end = ep2_split.index('EXT. NABOO LAKE RETREAT, LODGE, GARDEN - LATE DAY')\n",
    "j=-1\n",
    "ep2_parsed = []\n",
    "char = []\n",
    "lines = []\n",
    "while ind < end:\n",
    "    if ep2_split[ind] == '':\n",
    "        ind = ind + 1\n",
    "    elif ep2_split[ind][0] != '':\n",
    "        if ep2_split[ind][0] != '\\t':\n",
    "            ind = ind + 1\n",
    "        elif ep2_split[ind][0] == '\\t':\n",
    "            if ep2_split[ind][:4] == speaker_spaces:\n",
    "                if ep2_split[ind][4] == '(':\n",
    "                    temp.extend([' ', ep2_split[ind][4:]])\n",
    "                    ind = ind + 1\n",
    "                elif ep2_split[ind][4] != '(':\n",
    "                    if j >= 0:\n",
    "                        lines = ''.join(temp)\n",
    "                        ep2_parsed.append([char, lines])\n",
    "                        j = j + 1\n",
    "                    else:\n",
    "                        char = ep2_split[ind][4:]\n",
    "                        j = j + 1\n",
    "                    char = ep2_split[ind][4:]\n",
    "                    temp = []\n",
    "                    ind = ind + 1\n",
    "            elif ep2_split[ind][:3] == dialogue_spaces:\n",
    "                temp.extend([' ', ep2_split[ind][3:]])\n",
    "                ind = ind + 1\n",
    "        else:\n",
    "            ind = ind + 1\n",
    "\n",
    "lines = ''.join(temp) # to make sure we get the last line\n",
    "ep2_parsed.append([char, lines])\n",
    "\n",
    "for line in ep2_parsed:\n",
    "    line[1] = line[1][1:]\n",
    "    if line[0][-1] == ' ':\n",
    "        line[0]= line[0].rstrip()\n",
    "    if line[0][-1] == '\\t':\n",
    "        line[0]= line[0][:-1]\n",
    "    if line[0] == 'AMIDALA' or line[0] == 'PADME' or line[0] == 'PAMDE':\n",
    "        line[0] = 'PADMÉ'\n",
    "    elif line[0] == 'MACE' or line[0] == 'WINDU' or line[0] == 'MACE-WINDU':\n",
    "        line[0] = 'MACE WINDU'\n",
    "    elif line[0] == 'DOOKU':\n",
    "        line[0] = 'COUNT DOOKU'\n",
    "    elif line[0] == 'JANGO':\n",
    "        line[0] = 'JANGO FETT'\n",
    "    elif line[0] == 'OBI-WAM' or line[0] == 'OBI-WAN (V.O.)':\n",
    "        line[0] = 'OBI-WAN'\n",
    "    elif line[0] == 'C-3PO':\n",
    "        line[0] = 'THREEPIO'\n",
    "    elif line[0] == 'ELAN':\n",
    "        line[0] = 'ELAN SLEAZEBAGGANO'\n",
    "    elif line[0] == 'BOBA':\n",
    "        line[0] = 'BOBA FETT'\n",
    "        \n"
   ]
  },
  {
   "cell_type": "code",
   "execution_count": 30,
   "metadata": {
    "collapsed": false,
    "scrolled": true
   },
   "outputs": [],
   "source": [
    "#here it was just finding colons again, a few violations which had to be pre corrected and some post-parsing, loop cleaning\n",
    "ep3_raw = ep3_raw.replace('MACE WiNDU:','MACE WINDU:' )\n",
    "ep3_raw = ep3_raw.replace('MACE: ', 'MACE:')\n",
    "ep3_raw = ep3_raw.replace('MACE:', 'MACE WINDU: ')\n",
    "ep3_raw = ep3_raw.replace('five other Senators: ', 'five other Senators:\\n')\n",
    "ep3_raw = ep3_raw.replace(' dark cloak: ', ' dark cloak:\\n')\n",
    "ep3_split = ep3_raw.split('\\n')\n",
    "\n",
    "ind = ep3_split.index('ANAKIN smiles as he blasts a TRADE FEDERATION DROID DROP FIGHTER.')\n",
    "end = ep3_split.index('235 EXT. NABOO-MAIN SQUARE-DAWN')\n",
    "j=0\n",
    "ep3_parsed = []\n",
    "char = []\n",
    "lines = []\n",
    "while ind < end:\n",
    "    if ep3_split[ind] == '':\n",
    "        ind = ind + 1\n",
    "    elif ep3_split[ind] != '':\n",
    "        index = ep3_split[ind].find(': ')\n",
    "        if index == -1:\n",
    "            ind = ind + 1 \n",
    "        else:\n",
    "            char = ep3_split[ind][:index]\n",
    "            lines = ep3_split[ind][index+2:]\n",
    "            ep3_parsed.append([char, lines])\n",
    "            j = j + 1 \n",
    "            ind = ind + 1\n",
    "            \n",
    "for line in ep3_parsed:\n",
    "    if line[0][-1] == ' ':\n",
    "        line[0]= line[0].rstrip()\n",
    "    if line[0][-1] == '\\t':\n",
    "        line[0]= line[0][:-1]\n",
    "    if line[0] == 'PADME':\n",
    "        line[0] = 'PADMÉ'\n",
    "    elif line[0] == 'MACE WlNDU':\n",
    "        line[0] = 'MACE WINDU'\n",
    "    elif line[0] == 'DARTH SlDIOUS' or line[0] == 'DABTH SIDIOUS':\n",
    "        line[0] = 'DARTH SIDIOUS'\n",
    "    elif line[0] == 'GlDDEAN DANU' or line[0] == 'GiDDEAN DANU':\n",
    "        line[0] = 'GIDDEAN DANU'\n",
    "    elif line[0] == 'ANAKINN':\n",
    "        line[0] = 'ANAKIN'\n",
    "    elif line[0] == 'QUI -GON':\n",
    "        line[0] = 'QUI-GON'\n",
    "    elif line[0] == 'C-3PO' or line[0] == 'G-3PO':\n",
    "        line[0] = 'THREEPIO'\n",
    "    elif line[0] == 'Kl-ADI-MUNDI':\n",
    "        line[0] = 'KI-ADI-MUNDI'\n",
    "    elif line[0] == 'CAPTAIN ANTILLES':\n",
    "        line[0] = 'WEDGE'\n",
    "    "
   ]
  },
  {
   "cell_type": "markdown",
   "metadata": {},
   "source": [
    "Now that the parsing is over, we can begin to take the sorted data and explore it. First let's create manageable dataframes out of it."
   ]
  },
  {
   "cell_type": "code",
   "execution_count": 31,
   "metadata": {
    "collapsed": false
   },
   "outputs": [
    {
     "name": "stdout",
     "output_type": "stream",
     "text": [
      "Episode VI Dialogue:\n"
     ]
    },
    {
     "data": {
      "text/html": [
       "<div>\n",
       "<table border=\"1\" class=\"dataframe\">\n",
       "  <thead>\n",
       "    <tr style=\"text-align: right;\">\n",
       "      <th></th>\n",
       "      <th>Character</th>\n",
       "      <th>Dialogue</th>\n",
       "    </tr>\n",
       "  </thead>\n",
       "  <tbody>\n",
       "    <tr>\n",
       "      <th>0</th>\n",
       "      <td>SHUTTLE CAPTAIN</td>\n",
       "      <td>Command station, this is ST 321. Code Clearanc...</td>\n",
       "    </tr>\n",
       "    <tr>\n",
       "      <th>1</th>\n",
       "      <td>DEATH STAR CONTROLLER</td>\n",
       "      <td>(filtered VO) The security deflector shield wi...</td>\n",
       "    </tr>\n",
       "    <tr>\n",
       "      <th>2</th>\n",
       "      <td>SHUTTLE CAPTAIN</td>\n",
       "      <td>We're starting our approach.</td>\n",
       "    </tr>\n",
       "    <tr>\n",
       "      <th>3</th>\n",
       "      <td>OFFICER</td>\n",
       "      <td>Inform the commander that Lord Vader's shuttle...</td>\n",
       "    </tr>\n",
       "    <tr>\n",
       "      <th>4</th>\n",
       "      <td>OPERATOR</td>\n",
       "      <td>Yes, sir.</td>\n",
       "    </tr>\n",
       "  </tbody>\n",
       "</table>\n",
       "</div>"
      ],
      "text/plain": [
       "               Character                                           Dialogue\n",
       "0        SHUTTLE CAPTAIN  Command station, this is ST 321. Code Clearanc...\n",
       "1  DEATH STAR CONTROLLER  (filtered VO) The security deflector shield wi...\n",
       "2        SHUTTLE CAPTAIN                       We're starting our approach.\n",
       "3                OFFICER  Inform the commander that Lord Vader's shuttle...\n",
       "4               OPERATOR                                          Yes, sir."
      ]
     },
     "execution_count": 31,
     "metadata": {},
     "output_type": "execute_result"
    }
   ],
   "source": [
    "labels = ['Character', 'Dialogue']\n",
    "\n",
    "df4 = pd.DataFrame.from_records(ep4_parsed, columns=labels)\n",
    "df5 = pd.DataFrame.from_records(ep5_parsed, columns=labels)\n",
    "df6 = pd.DataFrame.from_records(ep6_parsed, columns=labels)\n",
    "\n",
    "df1 = pd.DataFrame.from_records(ep1_parsed, columns=labels)\n",
    "df2 = pd.DataFrame.from_records(ep2_parsed, columns=labels)\n",
    "df3 = pd.DataFrame.from_records(ep3_parsed, columns=labels)\n",
    "\n",
    "print('Episode VI Dialogue:')\n",
    "df6.head()\n"
   ]
  },
  {
   "cell_type": "markdown",
   "metadata": {},
   "source": [
    "## PART G \n",
    "### Extracting the Dialogue for Analysis "
   ]
  },
  {
   "cell_type": "markdown",
   "metadata": {},
   "source": [
    "We're going to combine the dialogues for prequels and trilogies in order to find the differences in speakers between them."
   ]
  },
  {
   "cell_type": "code",
   "execution_count": 32,
   "metadata": {
    "collapsed": false
   },
   "outputs": [],
   "source": [
    "Characters_IV = [line[0] for line in ep4_parsed]\n",
    "Dialogues_IV = [line[1] for line in ep4_parsed]\n",
    "\n",
    "Characters_V = [line[0] for line in ep5_parsed]\n",
    "Dialogues_V = [line[1] for line in ep5_parsed]\n",
    "\n",
    "Characters_VI = [line[0] for line in ep6_parsed]\n",
    "Dialogues_VI = [line[1] for line in ep6_parsed]\n",
    "\n",
    "Characters_I = [line[0] for line in ep1_parsed]\n",
    "Dialogues_I = [line[1] for line in ep1_parsed]\n",
    "\n",
    "Characters_II = [line[0] for line in ep2_parsed]\n",
    "Dialogues_II = [line[1] for line in ep2_parsed]\n",
    "\n",
    "Characters_III = [line[0] for line in ep3_parsed]\n",
    "Dialogues_III = [line[1] for line in ep3_parsed]\n",
    "\n",
    "Characters_OT = Characters_IV + Characters_V + Characters_VI #to be sorted\n",
    "Characters_Prequels = Characters_I + Characters_II + Characters_III"
   ]
  },
  {
   "cell_type": "code",
   "execution_count": 33,
   "metadata": {
    "collapsed": false
   },
   "outputs": [],
   "source": [
    "Char_OT_Raw = Characters_IV + Characters_V + Characters_VI #I coded these ones seperately because the sorting function replaced the unsorted and I wanted a raw unsorted to refer to for sorting the appropriate dialogue with it without having to clear and restoring the variable everytime in the jupyter notebook.\n",
    "Char_Prequels_Raw = Characters_I + Characters_II + Characters_III\n",
    "\n",
    "Dialogues_OT = Dialogues_IV + Dialogues_V + Dialogues_VI\n",
    "Dialogues_Prequels = Dialogues_I + Dialogues_II + Dialogues_III"
   ]
  },
  {
   "cell_type": "markdown",
   "metadata": {},
   "source": [
    "Now let's find the top speakers in each trilogy."
   ]
  },
  {
   "cell_type": "code",
   "execution_count": 34,
   "metadata": {
    "collapsed": false,
    "scrolled": false
   },
   "outputs": [],
   "source": [
    "sorted_OT = Characters_OT # sorts by the quantity of times a speaker appears in the prequels and original trilogy\n",
    "sorted_OT.sort(key=Counter(sorted_OT).get, reverse=True)\n",
    "sorted_Prequels = Characters_Prequels\n",
    "sorted_Prequels.sort(key=Counter(sorted_Prequels).get, reverse=True)\n",
    "\n",
    "def unique(seq):    #this function will collapse the data into a set that keeps the sorted order so that we keep the most talkative speakers first\n",
    "    seen = set()\n",
    "    seen_add = seen.add\n",
    "    return [x for x in seq if not (x in seen or seen_add(x))]\n",
    "\n",
    "Top_Characters_OT = unique(sorted_OT)\n",
    "Top_Characters_Prequels = unique(sorted_Prequels)"
   ]
  },
  {
   "cell_type": "code",
   "execution_count": 35,
   "metadata": {
    "collapsed": false,
    "scrolled": true
   },
   "outputs": [
    {
     "data": {
      "text/plain": [
       "['LUKE',\n",
       " 'HAN',\n",
       " 'THREEPIO',\n",
       " 'LEIA',\n",
       " 'DARTH VADER',\n",
       " 'OBI-WAN',\n",
       " 'LANDO',\n",
       " 'YODA',\n",
       " 'PALPATINE']"
      ]
     },
     "execution_count": 35,
     "metadata": {},
     "output_type": "execute_result"
    }
   ],
   "source": [
    "Top_Characters_OT[:9] #after looking through the list, these 9 characters seemed substantial enough to warrant further examination"
   ]
  },
  {
   "cell_type": "code",
   "execution_count": 36,
   "metadata": {
    "collapsed": false,
    "scrolled": false
   },
   "outputs": [
    {
     "data": {
      "text/plain": [
       "['ANAKIN',\n",
       " 'OBI-WAN',\n",
       " 'PADMÉ',\n",
       " 'QUI-GON',\n",
       " 'PALPATINE',\n",
       " 'YODA',\n",
       " 'JAR JAR',\n",
       " 'MACE WINDU',\n",
       " 'THREEPIO',\n",
       " 'BAIL ORGANA',\n",
       " 'WATTO']"
      ]
     },
     "execution_count": 36,
     "metadata": {},
     "output_type": "execute_result"
    }
   ],
   "source": [
    "Top_Characters_Prequels[:11] #ditto but only 11"
   ]
  },
  {
   "cell_type": "markdown",
   "metadata": {},
   "source": [
    "Now we're also going to find how often the characters for which we have popularity data spoke in the different trilogies."
   ]
  },
  {
   "cell_type": "code",
   "execution_count": 37,
   "metadata": {
    "collapsed": false
   },
   "outputs": [],
   "source": [
    "def index_character(list_of_characters, name): #this function allows me to see whether a speaker in the dialogue data matches the ones from the survey\n",
    "    for i, s in enumerate(list_of_characters):\n",
    "        if name == s: #or == instead of in\n",
    "              return i\n",
    "    return -1"
   ]
  },
  {
   "cell_type": "code",
   "execution_count": 38,
   "metadata": {
    "collapsed": false
   },
   "outputs": [
    {
     "name": "stdout",
     "output_type": "stream",
     "text": [
      "['HAN', 'LUKE', 'LEIA', 'ANAKIN', 'OBI-WAN', 'PALPATINE', 'DARTH VADER', 'LANDO', 'BOBA FETT', 'THREEPIO', 'JAR JAR', 'PADMÉ', 'YODA']\n",
      "Prequels:          [  0   0   0 689 472 154   6   0   7  58 107 404 119]\n",
      "Original Trilogy:  [439 480 226   1 110  37 135  95   4 293   0   0  46]\n"
     ]
    }
   ],
   "source": [
    "#'exclude r2d2 b/c cannot speak'\n",
    "Character_List = ['HAN', 'LUKE', 'LEIA', 'ANAKIN', 'OBI-WAN', 'PALPATINE', 'DARTH VADER', 'LANDO', 'BOBA FETT', 'THREEPIO', 'JAR JAR', 'PADMÉ', 'YODA']\n",
    "OT_Dialogue_Count = np.zeros(len(Character_List,), dtype=np.int)\n",
    "Prequels_Dialogue_Count = np.zeros(len(Character_List,), dtype=np.int)\n",
    "\n",
    "for names in Characters_OT: #this for loop adds one everytime a speaker in the survey speaks in the original trilogy\n",
    "    if index_character(Character_List, names) != -1:\n",
    "        OT_Dialogue_Count[index_character(Character_List, names)] += 1 \n",
    "\n",
    "for names in Characters_Prequels: #ditto but counts for the prequels\n",
    "    if index_character(Character_List, names) != -1:\n",
    "        Prequels_Dialogue_Count[index_character(Character_List, names)] += 1\n",
    "print(Character_List) #how often did the different characters speak in the two trilogies\n",
    "print('Prequels:         ',Prequels_Dialogue_Count)  \n",
    "print('Original Trilogy: ',OT_Dialogue_Count)"
   ]
  },
  {
   "cell_type": "markdown",
   "metadata": {},
   "source": [
    "This is good information but let's represent it graphically."
   ]
  },
  {
   "cell_type": "code",
   "execution_count": 39,
   "metadata": {
    "collapsed": false
   },
   "outputs": [
    {
     "data": {
      "image/png": "[encoded data removed]",
      "text/plain": [
       "<matplotlib.figure.Figure at 0x1f2024237b8>"
      ]
     },
     "metadata": {},
     "output_type": "display_data"
    }
   ],
   "source": [
    "fig, ax = plt.subplots()\n",
    "\n",
    "width = 0.2\n",
    "index = np.arange(len(Character_List))\n",
    "\n",
    "labels2 = seen_all_JJB.columns[:10].append(seen_all_JJB.columns[11:]) #exclude R2\n",
    "\n",
    "OT = ax.bar(index - .5*width, OT_Dialogue_Count, width, color='blue')\n",
    "prequels = ax.bar(index + .5*width, Prequels_Dialogue_Count, width, color='red')\n",
    "\n",
    "\n",
    "\n",
    "ax.set_ylabel('Instances of dialogue')\n",
    "ax.set_title('Dialogue Count')\n",
    "ax.set_xticks(index)\n",
    "ax.set_xticklabels([(x[12:]) for x in labels], rotation='vertical');\n",
    "\n",
    "\n",
    "ax.legend((OT[0], prequels[0]), ('Original Trilogy', 'Prequels'));"
   ]
  },
  {
   "cell_type": "markdown",
   "metadata": {},
   "source": [
    "And now again in plotly."
   ]
  },
  {
   "cell_type": "code",
   "execution_count": 40,
   "metadata": {
    "collapsed": false,
    "scrolled": false
   },
   "outputs": [
    {
     "data": {
      "application/vnd.plotly.v1+json": {
       "data": [
        {
         "hoverinfo": "text",
         "name": "Prequels",
         "opacity": 1,
         "orientation": "h",
         "text": [
          "0 lines of dialogue",
          "0 lines of dialogue",
          "0 lines of dialogue",
          "689 lines of dialogue",
          "472 lines of dialogue",
          "154 lines of dialogue",
          "6 lines of dialogue",
          "0 lines of dialogue",
          "7 lines of dialogue",
          "58 lines of dialogue",
          "107 lines of dialogue",
          "404 lines of dialogue",
          "119 lines of dialogue"
         ],
         "type": "bar",
         "width": 0.55,
         "x": [
          0,
          0,
          0,
          -689,
          -472,
          -154,
          -6,
          0,
          -7,
          -58,
          -107,
          -404,
          -119
         ],
         "y": [
          "Han Solo",
          "Luke Skywalker",
          "Princess Leia Organa",
          "Anakin Skywalker",
          "Obi Wan Kenobi",
          "Emperor Palpatine",
          "Darth Vader",
          "Lando Calrissian",
          "Boba Fett",
          "C-3P0",
          "Jar Jar Binks",
          "Padme Amidala",
          "Yoda"
         ]
        },
        {
         "hoverinfo": "none",
         "name": "base",
         "opacity": 0,
         "orientation": "h",
         "showlegend": false,
         "type": "bar",
         "width": 0.55,
         "x": [
          0,
          0,
          0,
          689,
          472,
          154,
          6,
          0,
          7,
          58,
          107,
          404,
          119
         ],
         "y": [
          "Han Solo",
          "Luke Skywalker",
          "Princess Leia Organa",
          "Anakin Skywalker",
          "Obi Wan Kenobi",
          "Emperor Palpatine",
          "Darth Vader",
          "Lando Calrissian",
          "Boba Fett",
          "C-3P0",
          "Jar Jar Binks",
          "Padme Amidala",
          "Yoda"
         ]
        },
        {
         "hoverinfo": "text",
         "name": "Original Trilogy",
         "opacity": 1,
         "orientation": "h",
         "text": [
          "439 lines of dialogue",
          "480 lines of dialogue",
          "226 lines of dialogue",
          "1 lines of dialogue",
          "110 lines of dialogue",
          "37 lines of dialogue",
          "135 lines of dialogue",
          "95 lines of dialogue",
          "4 lines of dialogue",
          "293 lines of dialogue",
          "0 lines of dialogue",
          "0 lines of dialogue",
          "46 lines of dialogue"
         ],
         "type": "bar",
         "width": 0.55,
         "x": [
          439,
          480,
          226,
          1,
          110,
          37,
          135,
          95,
          4,
          293,
          0,
          0,
          46
         ],
         "y": [
          "Han Solo",
          "Luke Skywalker",
          "Princess Leia Organa",
          "Anakin Skywalker",
          "Obi Wan Kenobi",
          "Emperor Palpatine",
          "Darth Vader",
          "Lando Calrissian",
          "Boba Fett",
          "C-3P0",
          "Jar Jar Binks",
          "Padme Amidala",
          "Yoda"
         ]
        }
       ],
       "layout": {
        "annotations": [],
        "barmode": "stack",
        "legend": {
         "font": {
          "color": "rgb(255,255,255)"
         },
         "orientation": "h",
         "traceorder": "normal"
        },
        "margin": {
         "l": 160
        },
        "paper_bgcolor": "rgba(10, 0, 0, 1)",
        "plot_bgcolor": "rgba(10, 0, 0, 1)",
        "title": "<b>Whose Line is it Anyway?</b> <br> Instances of Dialogue per Character",
        "titlefont": {
         "color": "rgb(255,255,255)",
         "family": "open sans",
         "size": 21
        },
        "xaxis": {
         "linecolor": "rgb(0,0,0)",
         "linewidth": 0,
         "tickfont": {
          "color": "rgb(255,255,255)",
          "family": "open sans",
          "size": 14
         },
         "tickmode": "array",
         "ticktext": [
          600,
          400,
          200,
          0,
          200,
          400
         ],
         "tickvals": [
          -600,
          -400,
          -200,
          0,
          200,
          400
         ]
        },
        "yaxis": {
         "autorange": "reversed",
         "linecolor": "rgb(0,0,0)",
         "linewidth": 0,
         "tickfont": {
          "color": "rgb(255,255,255)",
          "family": "open sans",
          "size": 14
         }
        }
       }
      },
      "text/html": [
       "<div id=\"416fdd46-1e18-4c2a-9d36-af4e5649c3d3\" style=\"height: 525px; width: 100%;\" class=\"plotly-graph-div\"></div><script type=\"text/javascript\">require([\"plotly\"], function(Plotly) { window.PLOTLYENV=window.PLOTLYENV || {};window.PLOTLYENV.BASE_URL=\"https://plot.ly\";Plotly.newPlot(\"416fdd46-1e18-4c2a-9d36-af4e5649c3d3\", [{\"type\": \"bar\", \"name\": \"Prequels\", \"hoverinfo\": \"text\", \"y\": [\"Han Solo\", \"Luke Skywalker\", \"Princess Leia Organa\", \"Anakin Skywalker\", \"Obi Wan Kenobi\", \"Emperor Palpatine\", \"Darth Vader\", \"Lando Calrissian\", \"Boba Fett\", \"C-3P0\", \"Jar Jar Binks\", \"Padme Amidala\", \"Yoda\"], \"x\": [0, 0, 0, -689, -472, -154, -6, 0, -7, -58, -107, -404, -119], \"orientation\": \"h\", \"text\": [\"0 lines of dialogue\", \"0 lines of dialogue\", \"0 lines of dialogue\", \"689 lines of dialogue\", \"472 lines of dialogue\", \"154 lines of dialogue\", \"6 lines of dialogue\", \"0 lines of dialogue\", \"7 lines of dialogue\", \"58 lines of dialogue\", \"107 lines of dialogue\", \"404 lines of dialogue\", \"119 lines of dialogue\"], \"opacity\": 1, \"width\": 0.55}, {\"type\": \"bar\", \"name\": \"base\", \"hoverinfo\": \"none\", \"y\": [\"Han Solo\", \"Luke Skywalker\", \"Princess Leia Organa\", \"Anakin Skywalker\", \"Obi Wan Kenobi\", \"Emperor Palpatine\", \"Darth Vader\", \"Lando Calrissian\", \"Boba Fett\", \"C-3P0\", \"Jar Jar Binks\", \"Padme Amidala\", \"Yoda\"], \"x\": [0, 0, 0, 689, 472, 154, 6, 0, 7, 58, 107, 404, 119], \"orientation\": \"h\", \"opacity\": 0, \"width\": 0.55, \"showlegend\": false}, {\"type\": \"bar\", \"name\": \"Original Trilogy\", \"hoverinfo\": \"text\", \"y\": [\"Han Solo\", \"Luke Skywalker\", \"Princess Leia Organa\", \"Anakin Skywalker\", \"Obi Wan Kenobi\", \"Emperor Palpatine\", \"Darth Vader\", \"Lando Calrissian\", \"Boba Fett\", \"C-3P0\", \"Jar Jar Binks\", \"Padme Amidala\", \"Yoda\"], \"x\": [439, 480, 226, 1, 110, 37, 135, 95, 4, 293, 0, 0, 46], \"orientation\": \"h\", \"text\": [\"439 lines of dialogue\", \"480 lines of dialogue\", \"226 lines of dialogue\", \"1 lines of dialogue\", \"110 lines of dialogue\", \"37 lines of dialogue\", \"135 lines of dialogue\", \"95 lines of dialogue\", \"4 lines of dialogue\", \"293 lines of dialogue\", \"0 lines of dialogue\", \"0 lines of dialogue\", \"46 lines of dialogue\"], \"opacity\": 1, \"width\": 0.55}], {\"barmode\": \"stack\", \"yaxis\": {\"autorange\": \"reversed\", \"tickfont\": {\"family\": \"open sans\", \"size\": 14, \"color\": \"rgb(255,255,255)\"}, \"linecolor\": \"rgb(0,0,0)\", \"linewidth\": 0}, \"title\": \"<b>Whose Line is it Anyway?</b> <br> Instances of Dialogue per Character\", \"titlefont\": {\"color\": \"rgb(255,255,255)\", \"size\": 21, \"family\": \"open sans\"}, \"plot_bgcolor\": \"rgba(10, 0, 0, 1)\", \"paper_bgcolor\": \"rgba(10, 0, 0, 1)\", \"margin\": {\"l\": 160}, \"annotations\": [], \"legend\": {\"orientation\": \"h\", \"font\": {\"color\": \"rgb(255,255,255)\"}, \"traceorder\": \"normal\"}, \"xaxis\": {\"tickvals\": [-600, -400, -200, 0, 200, 400], \"tickmode\": \"array\", \"ticktext\": [600, 400, 200, 0, 200, 400], \"tickfont\": {\"family\": \"open sans\", \"size\": 14, \"color\": \"rgb(255,255,255)\"}, \"linecolor\": \"rgb(0,0,0)\", \"linewidth\": 0}}, {\"showLink\": true, \"linkText\": \"Export to plot.ly\"})});</script>"
      ],
      "text/vnd.plotly.v1+html": [
       "<div id=\"416fdd46-1e18-4c2a-9d36-af4e5649c3d3\" style=\"height: 525px; width: 100%;\" class=\"plotly-graph-div\"></div><script type=\"text/javascript\">require([\"plotly\"], function(Plotly) { window.PLOTLYENV=window.PLOTLYENV || {};window.PLOTLYENV.BASE_URL=\"https://plot.ly\";Plotly.newPlot(\"416fdd46-1e18-4c2a-9d36-af4e5649c3d3\", [{\"type\": \"bar\", \"name\": \"Prequels\", \"hoverinfo\": \"text\", \"y\": [\"Han Solo\", \"Luke Skywalker\", \"Princess Leia Organa\", \"Anakin Skywalker\", \"Obi Wan Kenobi\", \"Emperor Palpatine\", \"Darth Vader\", \"Lando Calrissian\", \"Boba Fett\", \"C-3P0\", \"Jar Jar Binks\", \"Padme Amidala\", \"Yoda\"], \"x\": [0, 0, 0, -689, -472, -154, -6, 0, -7, -58, -107, -404, -119], \"orientation\": \"h\", \"text\": [\"0 lines of dialogue\", \"0 lines of dialogue\", \"0 lines of dialogue\", \"689 lines of dialogue\", \"472 lines of dialogue\", \"154 lines of dialogue\", \"6 lines of dialogue\", \"0 lines of dialogue\", \"7 lines of dialogue\", \"58 lines of dialogue\", \"107 lines of dialogue\", \"404 lines of dialogue\", \"119 lines of dialogue\"], \"opacity\": 1, \"width\": 0.55}, {\"type\": \"bar\", \"name\": \"base\", \"hoverinfo\": \"none\", \"y\": [\"Han Solo\", \"Luke Skywalker\", \"Princess Leia Organa\", \"Anakin Skywalker\", \"Obi Wan Kenobi\", \"Emperor Palpatine\", \"Darth Vader\", \"Lando Calrissian\", \"Boba Fett\", \"C-3P0\", \"Jar Jar Binks\", \"Padme Amidala\", \"Yoda\"], \"x\": [0, 0, 0, 689, 472, 154, 6, 0, 7, 58, 107, 404, 119], \"orientation\": \"h\", \"opacity\": 0, \"width\": 0.55, \"showlegend\": false}, {\"type\": \"bar\", \"name\": \"Original Trilogy\", \"hoverinfo\": \"text\", \"y\": [\"Han Solo\", \"Luke Skywalker\", \"Princess Leia Organa\", \"Anakin Skywalker\", \"Obi Wan Kenobi\", \"Emperor Palpatine\", \"Darth Vader\", \"Lando Calrissian\", \"Boba Fett\", \"C-3P0\", \"Jar Jar Binks\", \"Padme Amidala\", \"Yoda\"], \"x\": [439, 480, 226, 1, 110, 37, 135, 95, 4, 293, 0, 0, 46], \"orientation\": \"h\", \"text\": [\"439 lines of dialogue\", \"480 lines of dialogue\", \"226 lines of dialogue\", \"1 lines of dialogue\", \"110 lines of dialogue\", \"37 lines of dialogue\", \"135 lines of dialogue\", \"95 lines of dialogue\", \"4 lines of dialogue\", \"293 lines of dialogue\", \"0 lines of dialogue\", \"0 lines of dialogue\", \"46 lines of dialogue\"], \"opacity\": 1, \"width\": 0.55}], {\"barmode\": \"stack\", \"yaxis\": {\"autorange\": \"reversed\", \"tickfont\": {\"family\": \"open sans\", \"size\": 14, \"color\": \"rgb(255,255,255)\"}, \"linecolor\": \"rgb(0,0,0)\", \"linewidth\": 0}, \"title\": \"<b>Whose Line is it Anyway?</b> <br> Instances of Dialogue per Character\", \"titlefont\": {\"color\": \"rgb(255,255,255)\", \"size\": 21, \"family\": \"open sans\"}, \"plot_bgcolor\": \"rgba(10, 0, 0, 1)\", \"paper_bgcolor\": \"rgba(10, 0, 0, 1)\", \"margin\": {\"l\": 160}, \"annotations\": [], \"legend\": {\"orientation\": \"h\", \"font\": {\"color\": \"rgb(255,255,255)\"}, \"traceorder\": \"normal\"}, \"xaxis\": {\"tickvals\": [-600, -400, -200, 0, 200, 400], \"tickmode\": \"array\", \"ticktext\": [600, 400, 200, 0, 200, 400], \"tickfont\": {\"family\": \"open sans\", \"size\": 14, \"color\": \"rgb(255,255,255)\"}, \"linecolor\": \"rgb(0,0,0)\", \"linewidth\": 0}}, {\"showLink\": true, \"linkText\": \"Export to plot.ly\"})});</script>"
      ]
     },
     "metadata": {},
     "output_type": "display_data"
    }
   ],
   "source": [
    "trace5 = go.Bar(\n",
    "    name = 'Prequels',\n",
    "    hoverinfo = 'text',\n",
    "    y = [(x[12:]) for x in labels2],\n",
    "    x = -1*Prequels_Dialogue_Count,\n",
    "    orientation = 'h',\n",
    "    text = [str(x) + ' lines of dialogue' for x in Prequels_Dialogue_Count],\n",
    "    opacity=1,\n",
    "    width=.55,\n",
    "    \n",
    ")\n",
    "\n",
    "trace6 = go.Bar(\n",
    "    name = 'base',\n",
    "    hoverinfo = 'none',\n",
    "    y = [(x[12:]) for x in labels2],\n",
    "    x = Prequels_Dialogue_Count,\n",
    "    orientation = 'h',\n",
    "    opacity=0,\n",
    "    width=.55,\n",
    "    showlegend=False,\n",
    "    \n",
    ")\n",
    "\n",
    "trace7 = go.Bar(\n",
    "    name = 'Original Trilogy',\n",
    "    hoverinfo = 'text',\n",
    "    y = [(x[12:]) for x in labels2],\n",
    "    x = OT_Dialogue_Count,\n",
    "    orientation = 'h',\n",
    "    text = [str(x) + ' lines of dialogue' for x in OT_Dialogue_Count],\n",
    "    opacity=1,\n",
    "    width=.55,\n",
    ")\n",
    "\n",
    "data2 = [trace5, trace6, trace7]\n",
    "layout = go.Layout(\n",
    "    barmode='stack',\n",
    "    yaxis=dict(autorange='reversed', tickfont=dict(family='open sans', size=14,color='rgb(255,255,255)'), linecolor ='rgb(0,0,0)', linewidth=0 ), \n",
    "    title='<b>Whose Line is it Anyway?</b> <br> Instances of Dialogue per Character',\n",
    "    titlefont =dict(color='rgb(255,255,255)', \n",
    "                   size =21,\n",
    "                   family = 'open sans'),          \n",
    "    plot_bgcolor='rgba(10, 0, 0, 1)',\n",
    "    paper_bgcolor ='rgba(10, 0, 0, 1)',\n",
    "    margin=dict(l=160), \n",
    "    annotations=[ ],\n",
    "    legend=dict(orientation = 'h', font=dict(color='rgb(255,255,255)'), traceorder = 'normal'),\n",
    "    xaxis=dict(tickvals = [-600,-400,-200,0,200,400],tickmode=\"array\", ticktext = [600,400,200,0,200,400], tickfont=dict(family='open sans', size=14,color='rgb(255,255,255)'), linecolor ='rgb(0,0,0)', linewidth=0),\n",
    ")\n",
    "\n",
    "fig = go.Figure(data=data2, layout=layout)\n",
    "iplot(fig)"
   ]
  },
  {
   "cell_type": "markdown",
   "metadata": {},
   "source": [
    "This graph augments the previous plotly figures that looked at popularity between fans and non-fans. We can see that Jar Jar does not even speak that often relative to some of the other characters in the survey and yet he is strongly disliked by fans, even more so than the evil Emperor Palpatine [not sure if that one counts as a spoiler or not].\n",
    "\n",
    "Although it is unclear whether non-fans like the prequels more because they like the characters or vice versa, it is likely an endogenous effect.\n"
   ]
  },
  {
   "cell_type": "markdown",
   "metadata": {},
   "source": [
    "## PART H\n",
    "### Auxiliary Natural Language Processing\n",
    "\n",
    "Now, since, we already have all this data, I thought it might be interesting to process the scripts with the natural language processing toolkit. I'm not looking for anything in particular so much as I am just curious what might be found!"
   ]
  },
  {
   "cell_type": "code",
   "execution_count": 41,
   "metadata": {
    "collapsed": false
   },
   "outputs": [],
   "source": [
    "n_top_Prequels = 11 #some initial cleaning to make keeping track of the data easier\n",
    "n_top_OT = 9\n",
    "aux_top_chars_OT = Top_Characters_OT[:n_top_OT]\n",
    "aux_top_chars_Prequels = Top_Characters_Prequels[:n_top_Prequels]\n",
    "top_char_diags_OT = [\" \" for x in aux_top_chars_OT]\n",
    "top_char_diags_Prequels = [\" \" for x in aux_top_chars_Prequels]\n",
    "\n",
    "for i in range(len(Char_OT_Raw)): #combine all the strings together for most talkative characters in Original Trilogy \n",
    "    for j in range(n_top_OT):\n",
    "        if Char_OT_Raw[i] == aux_top_chars_OT[j]:\n",
    "            top_char_diags_OT[j] += Dialogues_OT[i] + \" \"\n",
    "            \n",
    "for i in range(len(Char_Prequels_Raw)): #same but for prequels\n",
    "    for j in range(n_top_Prequels):\n",
    "        if Char_Prequels_Raw[i] == aux_top_chars_Prequels[j]:\n",
    "            top_char_diags_Prequels[j] += Dialogues_Prequels[i] + \" \""
   ]
  },
  {
   "cell_type": "code",
   "execution_count": 42,
   "metadata": {
    "collapsed": true
   },
   "outputs": [],
   "source": [
    "stop = set(stopwords.words('english')) #will remove stop words from the script\n",
    "exclude = set(string.punctuation)  #removes the punctuation marks\n",
    "lemma = WordNetLemmatizer() #converts words to their stems i.e. women to woman and lying to lie\n",
    "\n",
    "def clean(doc): #function that cleans the text corpus\n",
    "    stop_free = \" \".join([i for i in doc.lower().split() if i not in stop])\n",
    "    punc_free = ''.join(ch for ch in stop_free if ch not in exclude)\n",
    "    normalized = \" \".join(lemma.lemmatize(word) for word in punc_free.split())\n",
    "    return normalized"
   ]
  },
  {
   "cell_type": "code",
   "execution_count": 43,
   "metadata": {
    "collapsed": false,
    "scrolled": true
   },
   "outputs": [
    {
     "name": "stdout",
     "output_type": "stream",
     "text": [
      "uncle owen; dagobah system; garbage masher; ive got; detention level;\n",
      "masher detention; captain solo; shut garbage; take care; aunt beru;\n",
      "tow cable; look like; ben kenobi; change mind; full throttle; obiwan\n",
      "kenobi; old ben; dark side; luke skywalker; little droid\n",
      "LUKE ^ None\n",
      "deflector shield; tractor beam; dont worry; old man; look like; ive\n",
      "got; take care; boba fett; deck officer; pretty good; make jump; gas\n",
      "mine; dont know; beam commission; boarded sometimes; angle deflector;\n",
      "millennium falcon; keep distance; stay sharp; wheres leia\n",
      "HAN ^ None\n",
      "master luke; princess leia; come back; jabba hutt; form communication;\n",
      "captain solo; fluent six; million form; six million; terribly sorry;\n",
      "general solo; thank goodness; humancyborg relation; obiwan kenobi;\n",
      "tractor beam; dont know; asteroid field; mean intrude; restraining\n",
      "bolt; seethreepio humancyborg\n",
      "THREEPIO ^ None\n",
      "obiwan kenobi; dont know; energy shield; battle station; explanation\n",
      "ease; asteroid field; ease escape; imperial senate; much longer; luke\n",
      "luke; kenobi youre; youre hope; hope help; thats right; whats wrong;\n",
      "ship leave; going get; youre talking; weve got; look like\n",
      "LEIA ^ None\n",
      "dark side; millennium falcon; thy bidding; asteroid field; power dark;\n",
      "taught well; captain solo; underestimate power; rebel spy; son come;\n",
      "obiwan taught; yes master; bidding master; want alive; want every;\n",
      "last time; yes admiral; power force\n",
      "DARTH VADER ^ None\n",
      "dark side; jedi knight; cant win; point view; range fighter; better\n",
      "get; darth vader; couldnt get; need help; thats uncle; seduced dark;\n",
      "thought could; long time; little friend; must face; run luke; good\n",
      "friend; father seduced; like father; side force\n",
      "OBI-WAN ^ None\n",
      "lord vader; bounty hunter; little higher; old buddy; pirate good;\n",
      "fighter follow; weve got; wont get; right chewie; right right\n",
      "LANDO ^ None\n",
      "dark side; dominate destiny; fear aggression; jedis strength; anger\n",
      "fear; forever dominate; strength flow; path forever; aggression dark;\n",
      "start dark; trained jedi; dark path; force beware; feel force; flow\n",
      "force; side force\n",
      "YODA ^ None\n",
      "dark side; command ship; lord vader; like father; young skywalker;\n",
      "young apprentice\n",
      "PALPATINE ^ None\n"
     ]
    }
   ],
   "source": [
    "#charcter in top_char_diags_OT:\n",
    "dialogues_OT_clean = [clean(doc) for doc in top_char_diags_OT[:n_top_OT]] # run that function on OT top characters' dialogue\n",
    "\n",
    "for i in range(n_top_OT): #generate tokens and each speaker's common bigrams\n",
    "    tokens = nltk.word_tokenize(dialogues_OT_clean[i])\n",
    "    text = nltk.Text(tokens)\n",
    "    print(aux_top_chars_OT[i], '^', text.collocations())\n"
   ]
  },
  {
   "cell_type": "code",
   "execution_count": 44,
   "metadata": {
    "collapsed": false
   },
   "outputs": [
    {
     "name": "stdout",
     "output_type": "stream",
     "text": [
      "dark side; outer rim; jar jar; wont let; dont know; coming around;\n",
      "general grievous; end war; dont think; yes master; master windu; jedi\n",
      "order; cooling unit; padawan learner; race tomorrow; sorry mlady;\n",
      "brought peace; ray shield; vulture droids; dead ahead\n",
      "ANAKIN ^ None\n",
      "master yoda; eight plus; count dooku; much learn; bad feeling; may\n",
      "force; command ship; bounty hunter; cato nemoidia; save energy; toxic\n",
      "dart; chancellor palpatine; sith lord; old friend; jar jar; bring\n",
      "balance; head toward; trade federation; weve got; jango fett\n",
      "OBI-WAN ^ None\n",
      "little boy; jar jar; apprentice legislator; ryoo pooja; chancellor\n",
      "valorum; commerce guild; lake country; throw weapon; truly deeply;\n",
      "trade federation; security measure; wouldnt like; count dooku; island\n",
      "used; dont know; every day; whats bothering; let give; stop loving;\n",
      "would wise\n",
      "PADMÉ ^ None\n",
      "jar jar; ambassador supreme; ever built; jar binks; credit fine;\n",
      "physical self; supreme chancellor; weve got; planet core; trade\n",
      "federation; use power; either way; life form; stay close; young\n",
      "padawan; need navigator; friend well; navigator get; midichlorians\n",
      "life; back ship\n",
      "QUI-GON ^ None\n",
      "dark side; count dooku; general grievous; jedi council; point view;\n",
      "chair recognises; rebellion foiled; rule galaxy; side force; please\n",
      "dont; master kenobi; supreme chancellor; defeated applause; ive known;\n",
      "thousand year; save padme; ahhhhhhh ahhhhhhh; hold longer; asked\n",
      "something; best choice\n",
      "PALPATINE ^ None\n",
      "dark side; master kenobi; may force; coded signal; grave danger; two\n",
      "hundred; lord sidious; quigon jinni; young skywalker; dark place;\n",
      "master obiwan; continuing end; new apprentice; one force; path dark;\n",
      "say continuing; sith must; force train; dark time; master quigon\n",
      "YODA ^ None\n",
      "supreme chancellor; der boss; oie boie; terrible ting; demand\n",
      "exceptional; exceptional measure; obi obi; berry skeered; wesa goen;\n",
      "back dare; exceptional time; wesa trouble; dissen berry; berry berry\n",
      "JAR JAR ^ None\n",
      "bring balance; dark side; general grievous; count dooku; discover\n",
      "identity; emergency power; unravel mystery; may force; make mind;\n",
      "young skywalker; clone army; balance force; sith lord; one bring;\n",
      "control senate; dont think; council make; one jedi; jedi council\n",
      "MACE WINDU ^ None\n",
      "miss padme; master annie; jedi temple; anything might; master anakin;\n",
      "master kenobi; continuing thank\n",
      "THREEPIO ^ None\n",
      "homing beacon; master yoda\n",
      "BAIL ORGANA ^ None\n",
      "republic credit; t14 hyperdrive; going win; dont know\n",
      "WATTO ^ None\n"
     ]
    }
   ],
   "source": [
    "#get bigrams for the prequels\n",
    "dialogues_Prequels_clean = [clean(doc) for doc in top_char_diags_Prequels]\n",
    "for i in range(n_top_Prequels):\n",
    "    tokens = nltk.word_tokenize(dialogues_Prequels_clean[i])\n",
    "    text = nltk.Text(tokens)\n",
    "    print(aux_top_chars_Prequels[i], '^', text.collocations())"
   ]
  },
  {
   "cell_type": "markdown",
   "metadata": {},
   "source": [
    "If you have seen the Star Wars films before you may agree that these are pretty accurate characterizations of what the characters often say. Many of these are the names of other characters, but others represent idiosyncratic expressions. Even if it is just two words, they capture moments in the movies, like Palpatine's tempting Anakin to join the dark side in order to save Padme or Obi-Wan's then telling Luke about how his father was seduced to the dark side. This was a fun way to end the assignment that just begins to explore the possibilities available to find patterns in the Star Wars scripts.\n",
    "  "
   ]
  },
  {
   "cell_type": "markdown",
   "metadata": {},
   "source": [
    "# Conclusion\n",
    "\n",
    "In this project I sought to explore the possible effects of bandwagoning within the Star Wars community that has caused many fans to perhaps unfairly deride the prequels. While it is impossible to know for sure the degree to which a bandwagon effect is present, the data do seem to suggest that there is increased polarization towards the trilogies in fans, probably as a result of taking cues from other fans. Certainly the argument for it is more strengthened by the analysis contained here than weakened. There is an association between considering oneself a fan of Star Wars and both disliking the prequels and Jar Jar Binks. Therefore, I think there is a solid case for individuals' self-identifying as fans leading to their wanting to adopt canon views, but such causality cannot be concluded here.\n",
    "\n",
    "However, this is just one of many possible explanations. While the data supported everything I had initially thought of the community when I first was considering this project, this may just be another psychological effect: the confirmation bias. I tried to keep any conclusions drawn throughout the scope of this notebook limited and qualified, rather presenting the data, code, and figures instead. I hope the reader draws their own conclusions, even if they are opposed to mine. \n",
    "\n"
   ]
  },
  {
   "cell_type": "markdown",
   "metadata": {},
   "source": [
    "<img src=\"NYUBCpng-01.png\">"
   ]
  }
 ],
 "metadata": {
  "kernelspec": {
   "display_name": "Python 3",
   "language": "python",
   "name": "python3"
  },
  "language_info": {
   "codemirror_mode": {
    "name": "ipython",
    "version": 3
   },
   "file_extension": ".py",
   "mimetype": "text/x-python",
   "name": "python",
   "nbconvert_exporter": "python",
   "pygments_lexer": "ipython3",
   "version": "3.6.0"
  }
 },
 "nbformat": 4,
 "nbformat_minor": 2
}
