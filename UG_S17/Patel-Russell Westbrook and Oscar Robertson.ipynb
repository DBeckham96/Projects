{
 "cells": [
  {
   "cell_type": "markdown",
   "metadata": {},
   "source": [
    "# Comparing Russell Westbrook and Oscar Robertson's Triple Double Seasons\n",
    "\n",
    "### Author: Rohan Patel\n",
    "\n",
    "NBA player Russell Westbrook who plays for the Oklahoma City Thunder just finished an historic NBA basketball season as he became the second basketball player in NBA history to average a triple double for an entire season. A triple double entails having atleast 3 of the stat totals of points, assists, rebounds, steals, and blocks to be in double figures. A triple double is most commonly obtained through points, rebounds, and assists. During the 2017 NBA regular season, Westbrook averaged 31.6 points per game, 10.4 assists per game, and 10.7 rebounds per game. \n",
    "\n",
    "Former NBA basketball player Oscar Robertson who used to play for the Cincinatti Royals is the only other player to average a triple double for an entire regular season as he did so 55 years ago. During the 1962 NBA regular season, Oscar Robertson averaged 30.8 points per game, 11.4 assists per game, and 12.5 rebounds per game. Many thought no one would ever average a triple double for an entire season ever again.\n",
    "\n",
    "My project is going to compare the 2 seasons. Since it has been 55 years in between the 2 seasons, much has changed about the NBA and how basketball is played. I want to compare the differences in the way the game is played by examining their respective seasons in order to obtain a better understanding of who had the more impressive season.\n"
   ]
  },
  {
   "cell_type": "code",
   "execution_count": 46,
   "metadata": {
    "collapsed": false
   },
   "outputs": [],
   "source": [
    "# importing packages\n",
    "import pandas as pd\n",
    "import matplotlib.pyplot as plt\n",
    "import numpy as np"
   ]
  },
  {
   "cell_type": "code",
   "execution_count": 47,
   "metadata": {
    "collapsed": true
   },
   "outputs": [],
   "source": [
    "# all data is obtained through basketball-reference.com\n",
    "\n",
    "# http://www.basketball-reference.com/teams/OKC/2017.html\n",
    "# http://www.basketball-reference.com/teams/CIN/1962.html\n",
    "# http://www.basketball-reference.com/leagues/NBA_stats.html"
   ]
  },
  {
   "cell_type": "code",
   "execution_count": 48,
   "metadata": {
    "collapsed": false
   },
   "outputs": [
    {
     "data": {
      "text/html": [
       "<div>\n",
       "<table border=\"1\" class=\"dataframe\">\n",
       "  <thead>\n",
       "    <tr style=\"text-align: right;\">\n",
       "      <th></th>\n",
       "      <th>Rk</th>\n",
       "      <th>Unnamed: 1</th>\n",
       "      <th>Age</th>\n",
       "      <th>G</th>\n",
       "      <th>GS</th>\n",
       "      <th>MP</th>\n",
       "      <th>FG</th>\n",
       "      <th>FGA</th>\n",
       "      <th>FG%</th>\n",
       "      <th>3P</th>\n",
       "      <th>...</th>\n",
       "      <th>FT%</th>\n",
       "      <th>ORB</th>\n",
       "      <th>DRB</th>\n",
       "      <th>TRB</th>\n",
       "      <th>AST</th>\n",
       "      <th>STL</th>\n",
       "      <th>BLK</th>\n",
       "      <th>TOV</th>\n",
       "      <th>PF</th>\n",
       "      <th>PTS/G</th>\n",
       "    </tr>\n",
       "  </thead>\n",
       "  <tbody>\n",
       "    <tr>\n",
       "      <th>0</th>\n",
       "      <td>1</td>\n",
       "      <td>Russell Westbrook\\westbru01</td>\n",
       "      <td>28</td>\n",
       "      <td>81</td>\n",
       "      <td>81</td>\n",
       "      <td>34.6</td>\n",
       "      <td>10.2</td>\n",
       "      <td>24.0</td>\n",
       "      <td>0.425</td>\n",
       "      <td>2.5</td>\n",
       "      <td>...</td>\n",
       "      <td>0.845</td>\n",
       "      <td>1.7</td>\n",
       "      <td>9.0</td>\n",
       "      <td>10.7</td>\n",
       "      <td>10.4</td>\n",
       "      <td>1.6</td>\n",
       "      <td>0.4</td>\n",
       "      <td>5.4</td>\n",
       "      <td>2.3</td>\n",
       "      <td>31.6</td>\n",
       "    </tr>\n",
       "    <tr>\n",
       "      <th>1</th>\n",
       "      <td>2</td>\n",
       "      <td>Victor Oladipo\\oladivi01</td>\n",
       "      <td>24</td>\n",
       "      <td>67</td>\n",
       "      <td>67</td>\n",
       "      <td>33.2</td>\n",
       "      <td>6.1</td>\n",
       "      <td>13.9</td>\n",
       "      <td>0.442</td>\n",
       "      <td>1.9</td>\n",
       "      <td>...</td>\n",
       "      <td>0.753</td>\n",
       "      <td>0.6</td>\n",
       "      <td>3.8</td>\n",
       "      <td>4.3</td>\n",
       "      <td>2.6</td>\n",
       "      <td>1.2</td>\n",
       "      <td>0.3</td>\n",
       "      <td>1.8</td>\n",
       "      <td>2.3</td>\n",
       "      <td>15.9</td>\n",
       "    </tr>\n",
       "    <tr>\n",
       "      <th>2</th>\n",
       "      <td>3</td>\n",
       "      <td>Andre Roberson\\roberan03</td>\n",
       "      <td>25</td>\n",
       "      <td>79</td>\n",
       "      <td>79</td>\n",
       "      <td>30.1</td>\n",
       "      <td>2.7</td>\n",
       "      <td>5.8</td>\n",
       "      <td>0.465</td>\n",
       "      <td>0.6</td>\n",
       "      <td>...</td>\n",
       "      <td>0.423</td>\n",
       "      <td>1.2</td>\n",
       "      <td>3.8</td>\n",
       "      <td>5.1</td>\n",
       "      <td>1.0</td>\n",
       "      <td>1.2</td>\n",
       "      <td>1.0</td>\n",
       "      <td>0.6</td>\n",
       "      <td>2.6</td>\n",
       "      <td>6.6</td>\n",
       "    </tr>\n",
       "    <tr>\n",
       "      <th>3</th>\n",
       "      <td>4</td>\n",
       "      <td>Steven Adams\\adamsst01</td>\n",
       "      <td>23</td>\n",
       "      <td>80</td>\n",
       "      <td>80</td>\n",
       "      <td>29.9</td>\n",
       "      <td>4.7</td>\n",
       "      <td>8.2</td>\n",
       "      <td>0.570</td>\n",
       "      <td>0.0</td>\n",
       "      <td>...</td>\n",
       "      <td>0.611</td>\n",
       "      <td>3.5</td>\n",
       "      <td>4.2</td>\n",
       "      <td>7.7</td>\n",
       "      <td>1.1</td>\n",
       "      <td>1.1</td>\n",
       "      <td>1.0</td>\n",
       "      <td>1.8</td>\n",
       "      <td>2.4</td>\n",
       "      <td>11.3</td>\n",
       "    </tr>\n",
       "    <tr>\n",
       "      <th>4</th>\n",
       "      <td>5</td>\n",
       "      <td>Enes Kanter\\kanteen01</td>\n",
       "      <td>24</td>\n",
       "      <td>72</td>\n",
       "      <td>0</td>\n",
       "      <td>21.3</td>\n",
       "      <td>5.6</td>\n",
       "      <td>10.2</td>\n",
       "      <td>0.545</td>\n",
       "      <td>0.1</td>\n",
       "      <td>...</td>\n",
       "      <td>0.786</td>\n",
       "      <td>2.7</td>\n",
       "      <td>4.0</td>\n",
       "      <td>6.7</td>\n",
       "      <td>0.9</td>\n",
       "      <td>0.4</td>\n",
       "      <td>0.5</td>\n",
       "      <td>1.7</td>\n",
       "      <td>2.1</td>\n",
       "      <td>14.3</td>\n",
       "    </tr>\n",
       "  </tbody>\n",
       "</table>\n",
       "<p>5 rows × 28 columns</p>\n",
       "</div>"
      ],
      "text/plain": [
       "   Rk                   Unnamed: 1  Age   G  GS    MP    FG   FGA    FG%   3P  \\\n",
       "0   1  Russell Westbrook\\westbru01   28  81  81  34.6  10.2  24.0  0.425  2.5   \n",
       "1   2     Victor Oladipo\\oladivi01   24  67  67  33.2   6.1  13.9  0.442  1.9   \n",
       "2   3     Andre Roberson\\roberan03   25  79  79  30.1   2.7   5.8  0.465  0.6   \n",
       "3   4       Steven Adams\\adamsst01   23  80  80  29.9   4.7   8.2  0.570  0.0   \n",
       "4   5        Enes Kanter\\kanteen01   24  72   0  21.3   5.6  10.2  0.545  0.1   \n",
       "\n",
       "   ...      FT%  ORB  DRB   TRB   AST  STL  BLK  TOV   PF  PTS/G  \n",
       "0  ...    0.845  1.7  9.0  10.7  10.4  1.6  0.4  5.4  2.3   31.6  \n",
       "1  ...    0.753  0.6  3.8   4.3   2.6  1.2  0.3  1.8  2.3   15.9  \n",
       "2  ...    0.423  1.2  3.8   5.1   1.0  1.2  1.0  0.6  2.6    6.6  \n",
       "3  ...    0.611  3.5  4.2   7.7   1.1  1.1  1.0  1.8  2.4   11.3  \n",
       "4  ...    0.786  2.7  4.0   6.7   0.9  0.4  0.5  1.7  2.1   14.3  \n",
       "\n",
       "[5 rows x 28 columns]"
      ]
     },
     "execution_count": 48,
     "metadata": {},
     "output_type": "execute_result"
    }
   ],
   "source": [
    "# all 2017 okc thunder player per game stats\n",
    "okc = pd.read_csv('/Users/rohanpatel/Downloads/Per_Game_OKC_2017.csv')\n",
    "okc.head()"
   ]
  },
  {
   "cell_type": "code",
   "execution_count": 49,
   "metadata": {
    "collapsed": false
   },
   "outputs": [
    {
     "data": {
      "text/html": [
       "<div>\n",
       "<table border=\"1\" class=\"dataframe\">\n",
       "  <thead>\n",
       "    <tr style=\"text-align: right;\">\n",
       "      <th></th>\n",
       "      <th>Rk</th>\n",
       "      <th>Player</th>\n",
       "      <th>Age</th>\n",
       "      <th>G</th>\n",
       "      <th>GS</th>\n",
       "      <th>MP</th>\n",
       "      <th>FG</th>\n",
       "      <th>FGA</th>\n",
       "      <th>FG%</th>\n",
       "      <th>3P</th>\n",
       "      <th>...</th>\n",
       "      <th>FT%</th>\n",
       "      <th>ORB</th>\n",
       "      <th>DRB</th>\n",
       "      <th>TRB</th>\n",
       "      <th>AST</th>\n",
       "      <th>STL</th>\n",
       "      <th>BLK</th>\n",
       "      <th>TOV</th>\n",
       "      <th>PF</th>\n",
       "      <th>PTS</th>\n",
       "    </tr>\n",
       "  </thead>\n",
       "  <tbody>\n",
       "    <tr>\n",
       "      <th>0</th>\n",
       "      <td>1</td>\n",
       "      <td>Oscar Robertson\\roberos01</td>\n",
       "      <td>23</td>\n",
       "      <td>79</td>\n",
       "      <td>NaN</td>\n",
       "      <td>44.3</td>\n",
       "      <td>11.0</td>\n",
       "      <td>22.9</td>\n",
       "      <td>0.478</td>\n",
       "      <td>NaN</td>\n",
       "      <td>...</td>\n",
       "      <td>0.803</td>\n",
       "      <td>NaN</td>\n",
       "      <td>NaN</td>\n",
       "      <td>12.5</td>\n",
       "      <td>11.4</td>\n",
       "      <td>NaN</td>\n",
       "      <td>NaN</td>\n",
       "      <td>NaN</td>\n",
       "      <td>3.3</td>\n",
       "      <td>30.8</td>\n",
       "    </tr>\n",
       "    <tr>\n",
       "      <th>1</th>\n",
       "      <td>2</td>\n",
       "      <td>Bucky Bockhorn\\bockhbu01</td>\n",
       "      <td>28</td>\n",
       "      <td>80</td>\n",
       "      <td>NaN</td>\n",
       "      <td>38.3</td>\n",
       "      <td>6.6</td>\n",
       "      <td>15.4</td>\n",
       "      <td>0.430</td>\n",
       "      <td>NaN</td>\n",
       "      <td>...</td>\n",
       "      <td>0.789</td>\n",
       "      <td>NaN</td>\n",
       "      <td>NaN</td>\n",
       "      <td>4.7</td>\n",
       "      <td>4.6</td>\n",
       "      <td>NaN</td>\n",
       "      <td>NaN</td>\n",
       "      <td>NaN</td>\n",
       "      <td>3.5</td>\n",
       "      <td>15.8</td>\n",
       "    </tr>\n",
       "    <tr>\n",
       "      <th>2</th>\n",
       "      <td>3</td>\n",
       "      <td>Jack Twyman\\twymaja01</td>\n",
       "      <td>27</td>\n",
       "      <td>80</td>\n",
       "      <td>NaN</td>\n",
       "      <td>37.4</td>\n",
       "      <td>9.2</td>\n",
       "      <td>19.3</td>\n",
       "      <td>0.479</td>\n",
       "      <td>NaN</td>\n",
       "      <td>...</td>\n",
       "      <td>0.811</td>\n",
       "      <td>NaN</td>\n",
       "      <td>NaN</td>\n",
       "      <td>8.0</td>\n",
       "      <td>2.7</td>\n",
       "      <td>NaN</td>\n",
       "      <td>NaN</td>\n",
       "      <td>NaN</td>\n",
       "      <td>4.0</td>\n",
       "      <td>22.9</td>\n",
       "    </tr>\n",
       "    <tr>\n",
       "      <th>3</th>\n",
       "      <td>4</td>\n",
       "      <td>Wayne Embry\\embrywa01</td>\n",
       "      <td>24</td>\n",
       "      <td>75</td>\n",
       "      <td>NaN</td>\n",
       "      <td>35.0</td>\n",
       "      <td>7.5</td>\n",
       "      <td>16.1</td>\n",
       "      <td>0.466</td>\n",
       "      <td>NaN</td>\n",
       "      <td>...</td>\n",
       "      <td>0.690</td>\n",
       "      <td>NaN</td>\n",
       "      <td>NaN</td>\n",
       "      <td>13.0</td>\n",
       "      <td>2.4</td>\n",
       "      <td>NaN</td>\n",
       "      <td>NaN</td>\n",
       "      <td>NaN</td>\n",
       "      <td>3.8</td>\n",
       "      <td>19.8</td>\n",
       "    </tr>\n",
       "    <tr>\n",
       "      <th>4</th>\n",
       "      <td>5</td>\n",
       "      <td>Bob Boozer\\boozebo01</td>\n",
       "      <td>24</td>\n",
       "      <td>79</td>\n",
       "      <td>NaN</td>\n",
       "      <td>31.5</td>\n",
       "      <td>5.2</td>\n",
       "      <td>11.8</td>\n",
       "      <td>0.438</td>\n",
       "      <td>NaN</td>\n",
       "      <td>...</td>\n",
       "      <td>0.707</td>\n",
       "      <td>NaN</td>\n",
       "      <td>NaN</td>\n",
       "      <td>10.2</td>\n",
       "      <td>1.6</td>\n",
       "      <td>NaN</td>\n",
       "      <td>NaN</td>\n",
       "      <td>NaN</td>\n",
       "      <td>3.5</td>\n",
       "      <td>13.7</td>\n",
       "    </tr>\n",
       "  </tbody>\n",
       "</table>\n",
       "<p>5 rows × 28 columns</p>\n",
       "</div>"
      ],
      "text/plain": [
       "   Rk                     Player  Age   G  GS    MP    FG   FGA    FG%  3P  \\\n",
       "0   1  Oscar Robertson\\roberos01   23  79 NaN  44.3  11.0  22.9  0.478 NaN   \n",
       "1   2   Bucky Bockhorn\\bockhbu01   28  80 NaN  38.3   6.6  15.4  0.430 NaN   \n",
       "2   3      Jack Twyman\\twymaja01   27  80 NaN  37.4   9.2  19.3  0.479 NaN   \n",
       "3   4      Wayne Embry\\embrywa01   24  75 NaN  35.0   7.5  16.1  0.466 NaN   \n",
       "4   5       Bob Boozer\\boozebo01   24  79 NaN  31.5   5.2  11.8  0.438 NaN   \n",
       "\n",
       "   ...     FT%  ORB  DRB   TRB   AST  STL  BLK  TOV   PF   PTS  \n",
       "0  ...   0.803  NaN  NaN  12.5  11.4  NaN  NaN  NaN  3.3  30.8  \n",
       "1  ...   0.789  NaN  NaN   4.7   4.6  NaN  NaN  NaN  3.5  15.8  \n",
       "2  ...   0.811  NaN  NaN   8.0   2.7  NaN  NaN  NaN  4.0  22.9  \n",
       "3  ...   0.690  NaN  NaN  13.0   2.4  NaN  NaN  NaN  3.8  19.8  \n",
       "4  ...   0.707  NaN  NaN  10.2   1.6  NaN  NaN  NaN  3.5  13.7  \n",
       "\n",
       "[5 rows x 28 columns]"
      ]
     },
     "execution_count": 49,
     "metadata": {},
     "output_type": "execute_result"
    }
   ],
   "source": [
    "# all 1962 cincinatti royals player per game stats\n",
    "cin = pd.read_csv('/Users/rohanpatel/Downloads/Per_Game_CincRoy_1962.csv')\n",
    "cin.head()"
   ]
  },
  {
   "cell_type": "code",
   "execution_count": 50,
   "metadata": {
    "collapsed": false
   },
   "outputs": [
    {
     "data": {
      "text/html": [
       "<div>\n",
       "<table border=\"1\" class=\"dataframe\">\n",
       "  <thead>\n",
       "    <tr style=\"text-align: right;\">\n",
       "      <th></th>\n",
       "      <th>PTS</th>\n",
       "      <th>TRB</th>\n",
       "      <th>AST</th>\n",
       "      <th>MP</th>\n",
       "    </tr>\n",
       "  </thead>\n",
       "  <tbody>\n",
       "    <tr>\n",
       "      <th>0</th>\n",
       "      <td>31.6</td>\n",
       "      <td>10.7</td>\n",
       "      <td>10.4</td>\n",
       "      <td>34.6</td>\n",
       "    </tr>\n",
       "  </tbody>\n",
       "</table>\n",
       "</div>"
      ],
      "text/plain": [
       "    PTS   TRB   AST    MP\n",
       "0  31.6  10.7  10.4  34.6"
      ]
     },
     "execution_count": 50,
     "metadata": {},
     "output_type": "execute_result"
    }
   ],
   "source": [
    "# only russell westbrook's points, rebounds, assists, and minutes per game\n",
    "RW = okc.loc[:0]\n",
    "RW = RW[['PTS/G', 'TRB', 'AST', 'MP']]\n",
    "RW = RW.rename(columns={'PTS/G': 'PTS'})\n",
    "RW"
   ]
  },
  {
   "cell_type": "code",
   "execution_count": 51,
   "metadata": {
    "collapsed": false
   },
   "outputs": [
    {
     "data": {
      "text/html": [
       "<div>\n",
       "<table border=\"1\" class=\"dataframe\">\n",
       "  <thead>\n",
       "    <tr style=\"text-align: right;\">\n",
       "      <th></th>\n",
       "      <th>PTS</th>\n",
       "      <th>TRB</th>\n",
       "      <th>AST</th>\n",
       "      <th>MP</th>\n",
       "    </tr>\n",
       "  </thead>\n",
       "  <tbody>\n",
       "    <tr>\n",
       "      <th>0</th>\n",
       "      <td>30.8</td>\n",
       "      <td>12.5</td>\n",
       "      <td>11.4</td>\n",
       "      <td>44.3</td>\n",
       "    </tr>\n",
       "  </tbody>\n",
       "</table>\n",
       "</div>"
      ],
      "text/plain": [
       "    PTS   TRB   AST    MP\n",
       "0  30.8  12.5  11.4  44.3"
      ]
     },
     "execution_count": 51,
     "metadata": {},
     "output_type": "execute_result"
    }
   ],
   "source": [
    "# only oscar robertson's points, rebounds, assists, and minutes per game\n",
    "OR = cin.loc[:0]\n",
    "OR = OR[['PTS', 'TRB', 'AST', 'MP']]\n",
    "OR"
   ]
  },
  {
   "cell_type": "code",
   "execution_count": 52,
   "metadata": {
    "collapsed": false
   },
   "outputs": [],
   "source": [
    "# robertson played a considerable amount of more minutes than westbrook\n",
    "# adjusting per game stats by 36 minutes played\n",
    "rw_min_factor = 36/RW['MP']\n",
    "or_min_factor = 36/OR['MP']"
   ]
  },
  {
   "cell_type": "code",
   "execution_count": 53,
   "metadata": {
    "collapsed": false
   },
   "outputs": [
    {
     "name": "stdout",
     "output_type": "stream",
     "text": [
      "         PTS        TRB        AST\n",
      "0  32.878613  11.132948  10.820809\n"
     ]
    }
   ],
   "source": [
    "RW[['PTS', 'TRB', 'AST']] = RW[['PTS', 'TRB', 'AST']].apply(lambda x: x*rw_min_factor)\n",
    "RW_36 = RW[['PTS', 'TRB', 'AST']]\n",
    "print(RW_36)"
   ]
  },
  {
   "cell_type": "code",
   "execution_count": 54,
   "metadata": {
    "collapsed": false
   },
   "outputs": [
    {
     "name": "stdout",
     "output_type": "stream",
     "text": [
      "         PTS        TRB       AST\n",
      "0  25.029345  10.158014  9.264108\n"
     ]
    }
   ],
   "source": [
    "OR[['PTS', 'TRB', 'AST']] = OR[['PTS', 'TRB', 'AST']].apply(lambda x: x*or_min_factor)\n",
    "OR_36 = OR[['PTS', 'TRB', 'AST']]\n",
    "print(OR_36)"
   ]
  },
  {
   "cell_type": "code",
   "execution_count": 55,
   "metadata": {
    "collapsed": false
   },
   "outputs": [
    {
     "data": {
      "text/html": [
       "<div>\n",
       "<table border=\"1\" class=\"dataframe\">\n",
       "  <thead>\n",
       "    <tr style=\"text-align: right;\">\n",
       "      <th></th>\n",
       "      <th>PTS</th>\n",
       "      <th>TRB</th>\n",
       "      <th>AST</th>\n",
       "    </tr>\n",
       "  </thead>\n",
       "  <tbody>\n",
       "    <tr>\n",
       "      <th>0</th>\n",
       "      <td>7.849267</td>\n",
       "      <td>0.974934</td>\n",
       "      <td>1.556701</td>\n",
       "    </tr>\n",
       "  </tbody>\n",
       "</table>\n",
       "</div>"
      ],
      "text/plain": [
       "        PTS       TRB       AST\n",
       "0  7.849267  0.974934  1.556701"
      ]
     },
     "execution_count": 55,
     "metadata": {},
     "output_type": "execute_result"
    }
   ],
   "source": [
    "# difference between Westbrook and Robertson's per 36 minute stats\n",
    "RW_36 - OR_36"
   ]
  },
  {
   "cell_type": "markdown",
   "metadata": {},
   "source": [
    "### After adjusting Westbrook and Robertson's per game stats to a per minute basis, Westbrook has the edge. He averages about 8 more points, 1 more rebound, and 1.5 more assists per 36 minutes than Robertson did during the 1962 season. Now I will look into their respective team seasons to see if there are any other adjustments that should be made when comparing the two seasons"
   ]
  },
  {
   "cell_type": "code",
   "execution_count": 56,
   "metadata": {
    "collapsed": false
   },
   "outputs": [
    {
     "data": {
      "text/plain": [
       "Rk                                 10\n",
       "Team           Oklahoma City Thunder*\n",
       "Age                              24.7\n",
       "W                                  47\n",
       "L                                  35\n",
       "PW                                 43\n",
       "PL                                 39\n",
       "MOV                              0.76\n",
       "SOS                              0.39\n",
       "SRS                              1.14\n",
       "ORtg                            108.3\n",
       "DRtg                            107.5\n",
       "Pace                             97.8\n",
       "FTr                             0.295\n",
       "3PAr                            0.295\n",
       "TS%                              0.54\n",
       "eFG%                              0.5\n",
       "TOV%                             13.2\n",
       "ORB%                               28\n",
       "FT/FGA                           0.22\n",
       "eFG%.1                          0.511\n",
       "TOV%.1                           12.5\n",
       "DRB%                               79\n",
       "FT/FGA.1                        0.218\n",
       "Arena         Chesapeake Energy Arena\n",
       "Attendance                     746323\n",
       "Name: 9, dtype: object"
      ]
     },
     "execution_count": 56,
     "metadata": {},
     "output_type": "execute_result"
    }
   ],
   "source": [
    "# 2017 NBA stats\n",
    "df_2017 = pd.read_csv('/Users/rohanpatel/Downloads/2017_NBA_Stats.csv')\n",
    "df_2017\n",
    "# 2017 okc thunder stats\n",
    "okc_2017 = df_2017.loc[9]\n",
    "okc_2017"
   ]
  },
  {
   "cell_type": "code",
   "execution_count": 57,
   "metadata": {
    "collapsed": false
   },
   "outputs": [
    {
     "data": {
      "text/plain": [
       "Rk                             5\n",
       "Team          Cincinnati Royals*\n",
       "Age                           25\n",
       "W                             43\n",
       "L                             37\n",
       "PW                            44\n",
       "PL                            36\n",
       "MOV                         1.76\n",
       "SOS                        -0.48\n",
       "SRS                         1.28\n",
       "ORtg                        98.3\n",
       "DRtg                        96.9\n",
       "Pace                       124.9\n",
       "FTr                        0.353\n",
       "3PAr                         NaN\n",
       "TS%                        0.506\n",
       "eFG%                       0.452\n",
       "TOV%                         NaN\n",
       "ORB%                         NaN\n",
       "FT/FGA                     0.265\n",
       "eFG%.1                       NaN\n",
       "TOV%.1                       NaN\n",
       "DRB%                         NaN\n",
       "FT/FGA.1                     NaN\n",
       "Arena         Cincinnati Gardens\n",
       "Attendance                   NaN\n",
       "Name: 4, dtype: object"
      ]
     },
     "execution_count": 57,
     "metadata": {},
     "output_type": "execute_result"
    }
   ],
   "source": [
    "# 1962 NBA stats\n",
    "df_1962 = pd.read_csv('/Users/rohanpatel/Downloads/1962_NBA_Stats.csv')\n",
    "df_1962\n",
    "# 1962 cincinatti royal stats\n",
    "cin_1962 = df_1962.loc[4]\n",
    "cin_1962"
   ]
  },
  {
   "cell_type": "markdown",
   "metadata": {
    "collapsed": true
   },
   "source": [
    "# PACE\n",
    "\n",
    "There is a noticable difference in the 'pace' stat between the 2017 Thunder and 1962 Royals. The pace stat measures how many possessions per game that a team plays per 48 minutes. The higher the pace total, the more possessions per game that the team plays. The 1962 Cincinatti Royals played about 125 possessions per game while the 2017 Oklahoma City Thunder played about 98 possessions per game. The number of possessions in a game would seem to have an impact on the stat totals of players. It would be estimated that the more possessions a team plays with, the more totals of stats such as points, rebounds, and assists would accumulate. I am going to see how the pace of teams has changed over time and how well that correlates with the number of points, rebounds, and assists that have been accumulated over time to see if Westbrook and Robertson's stats should be adjusted for the number of possessions played."
   ]
  },
  {
   "cell_type": "code",
   "execution_count": 58,
   "metadata": {
    "collapsed": false
   },
   "outputs": [
    {
     "name": "stdout",
     "output_type": "stream",
     "text": [
      "     Pace    PTS   AST   TRB   FGA\n",
      "0    96.4  105.6  22.6  43.5  85.4\n",
      "1    95.8  102.7  22.3  43.8  84.6\n",
      "2    93.9  100.0  22.0  43.3  83.6\n",
      "3    93.9  101.0  22.0  42.7  83.0\n",
      "4    92.0   98.1  22.1  42.1  82.0\n",
      "5    91.3   96.3  21.0  42.2  81.4\n",
      "6    92.1   99.6  21.5  41.4  81.2\n",
      "7    92.7  100.4  21.2  41.7  81.7\n",
      "8    91.7  100.0  21.0  41.3  80.9\n",
      "9    92.4   99.9  21.8  42.0  81.5\n",
      "10   91.9   98.7  21.3  41.1  79.7\n",
      "11   90.5   97.0  20.6  41.0  79.0\n",
      "12   90.9   97.2  21.3  41.9  80.3\n",
      "13   90.1   93.4  21.3  42.2  79.8\n",
      "14   91.0   95.1  21.5  42.3  80.8\n",
      "15   90.7   95.5  21.9  42.4  81.3\n",
      "16   91.3   94.8  21.8  42.5  80.6\n",
      "17   93.1   97.5  22.3  42.9  82.1\n",
      "18   88.9   91.6  20.7  41.7  78.2\n",
      "19   90.3   95.6  22.0  41.5  79.7\n",
      "20   90.1   96.9  22.0  41.1  79.3\n",
      "21   91.8   99.5  22.7  41.3  80.2\n",
      "22   92.9  101.4  23.4  41.6  81.5\n",
      "23   95.1  101.5  24.4  43.0  84.4\n",
      "24   96.8  105.3  24.7  43.1  86.0\n",
      "25   96.6  105.3  24.5  43.7  87.3\n",
      "26   97.8  106.3  24.7  43.3  87.2\n",
      "27   98.3  107.0  24.9  43.1  87.2\n",
      "28  100.6  109.2  25.6  43.9  89.0\n",
      "29   99.6  108.2  25.8  43.4  87.7\n",
      "30  100.8  109.9  26.0  44.0  88.8\n",
      "31  102.1  110.2  26.0  43.6  88.6\n",
      "32  102.1  110.8  26.3  43.5  89.1\n",
      "33  101.4  110.1  26.2  43.0  88.4\n",
      "34  103.1  108.5  25.9  44.5  89.7\n",
      "35  100.9  108.6  25.2  43.5  88.2\n",
      "36  101.8  108.1  25.5  43.5  88.4\n",
      "37  103.1  109.3  25.8  44.9  90.6\n",
      "38  105.8  110.3  25.8  45.2  91.7\n",
      "39  106.7  108.5  25.0  47.1  92.9\n",
      "40  106.5  106.5  23.9  47.1  92.0\n",
      "41  105.5  104.3  23.0  47.4  91.7\n",
      "42  104.5  102.6  23.8  47.1  91.1\n",
      "43  107.8  105.7  24.6  48.2  93.9\n"
     ]
    }
   ],
   "source": [
    "# nba averages per game for every season\n",
    "nba_avgs = pd.read_csv('/Users/rohanpatel/Downloads/NBA_Averages_Over_Time.csv')\n",
    "nba_avgs = nba_avgs[['Pace', 'PTS', 'AST', 'TRB', 'FGA']]\n",
    "\n",
    "# pace values after the 44th row are missing \n",
    "nba_avgs = nba_avgs.iloc[:44]\n",
    "print(nba_avgs)"
   ]
  },
  {
   "cell_type": "code",
   "execution_count": 59,
   "metadata": {
    "collapsed": false
   },
   "outputs": [
    {
     "data": {
      "image/png": "[encoded data removed]",
      "text/plain": [
       "<matplotlib.figure.Figure at 0x11462fa90>"
      ]
     },
     "metadata": {},
     "output_type": "display_data"
    }
   ],
   "source": [
    "# scatterplots of stats against number of possessions\n",
    "fig, ax = plt.subplots(nrows = 4, ncols = 1, sharex = True, figsize=(10, 20))\n",
    "\n",
    "ax[0].scatter(nba_avgs['Pace'], nba_avgs['PTS'], color = 'green')\n",
    "ax[1].scatter(nba_avgs['Pace'], nba_avgs['TRB'], color = 'blue')\n",
    "ax[2].scatter(nba_avgs['Pace'], nba_avgs['AST'], color = 'red')\n",
    "ax[3].scatter(nba_avgs['Pace'], nba_avgs['FGA'], color = 'orange')\n",
    "\n",
    "ax[0].set_ylabel('POINTS', fontsize = 18)\n",
    "ax[1].set_ylabel('REBOUNDS', fontsize = 18)\n",
    "ax[2].set_ylabel('ASSISTS', fontsize = 18)\n",
    "ax[3].set_ylabel('SHOT ATTEMPTS', fontsize = 18)\n",
    "ax[3].set_xlabel('NUMBER OF POSSESSIONS', fontsize = 18)\n",
    "\n",
    "plt.suptitle('STAT TOTALS VS NUMBER OF POSSESSIONS (PER GAME)', fontsize = 22)\n",
    "\n",
    "plt.show()"
   ]
  },
  {
   "cell_type": "markdown",
   "metadata": {},
   "source": [
    "### It seems pretty clear that the more possessions that a team plays with, the more stat totals they will accumulate.  Pace seems to predict the number of shot attempts and rebounds very well just by looking at the scatterplots. Assists and points also increase as pace increases, but it seems to dip off towards the higher paces. Robertson played with a very high pace. I will perform a linear regression for assists and points."
   ]
  },
  {
   "cell_type": "code",
   "execution_count": 60,
   "metadata": {
    "collapsed": false
   },
   "outputs": [
    {
     "name": "stdout",
     "output_type": "stream",
     "text": [
      "                            OLS Regression Results                            \n",
      "==============================================================================\n",
      "Dep. Variable:                      y   R-squared:                       0.738\n",
      "Model:                            OLS   Adj. R-squared:                  0.732\n",
      "Method:                 Least Squares   F-statistic:                     118.4\n",
      "Date:                Thu, 11 May 2017   Prob (F-statistic):           8.52e-14\n",
      "Time:                        14:06:54   Log-Likelihood:                -107.44\n",
      "No. Observations:                  44   AIC:                             218.9\n",
      "Df Residuals:                      42   BIC:                             222.4\n",
      "Df Model:                           1                                         \n",
      "Covariance Type:            nonrobust                                         \n",
      "==============================================================================\n",
      "                 coef    std err          t      P>|t|      [95.0% Conf. Int.]\n",
      "------------------------------------------------------------------------------\n",
      "const         21.8499      7.433      2.939      0.005         6.849    36.851\n",
      "x1             0.8354      0.077     10.880      0.000         0.680     0.990\n",
      "==============================================================================\n",
      "Omnibus:                        3.731   Durbin-Watson:                   0.267\n",
      "Prob(Omnibus):                  0.155   Jarque-Bera (JB):                3.537\n",
      "Skew:                          -0.667   Prob(JB):                        0.171\n",
      "Kurtosis:                       2.612   Cond. No.                     1.68e+03\n",
      "==============================================================================\n",
      "\n",
      "Warnings:\n",
      "[1] Standard Errors assume that the covariance matrix of the errors is correctly specified.\n",
      "[2] The condition number is large, 1.68e+03. This might indicate that there are\n",
      "strong multicollinearity or other numerical problems.\n"
     ]
    }
   ],
   "source": [
    "import statsmodels.api as sm\n",
    "from pandas.tools.plotting import scatter_matrix\n",
    "\n",
    "y = np.matrix(nba_avgs['PTS']).transpose()\n",
    "x1 = np.matrix(nba_avgs['Pace']).transpose()\n",
    "X = sm.add_constant(x1)\n",
    "model = sm.OLS(y,X)\n",
    "f = model.fit()\n",
    "print(f.summary())"
   ]
  },
  {
   "cell_type": "markdown",
   "metadata": {},
   "source": [
    "### P-Value shows that pace is a statistically significant predictor of points and R-squared shows that about 74% of the variation in points comes from the variation in possessions which is pretty significant. It makes sense to adjust Robertson and Westbrook's points for pace"
   ]
  },
  {
   "cell_type": "code",
   "execution_count": 61,
   "metadata": {
    "collapsed": false
   },
   "outputs": [
    {
     "name": "stdout",
     "output_type": "stream",
     "text": [
      "                            OLS Regression Results                            \n",
      "==============================================================================\n",
      "Dep. Variable:                      y   R-squared:                       0.660\n",
      "Model:                            OLS   Adj. R-squared:                  0.652\n",
      "Method:                 Least Squares   F-statistic:                     81.71\n",
      "Date:                Thu, 11 May 2017   Prob (F-statistic):           2.09e-11\n",
      "Time:                        14:06:59   Log-Likelihood:                -65.726\n",
      "No. Observations:                  44   AIC:                             135.5\n",
      "Df Residuals:                      42   BIC:                             139.0\n",
      "Df Model:                           1                                         \n",
      "Covariance Type:            nonrobust                                         \n",
      "==============================================================================\n",
      "                 coef    std err          t      P>|t|      [95.0% Conf. Int.]\n",
      "------------------------------------------------------------------------------\n",
      "const         -2.6316      2.880     -0.914      0.366        -8.444     3.181\n",
      "x1             0.2689      0.030      9.039      0.000         0.209     0.329\n",
      "==============================================================================\n",
      "Omnibus:                        1.501   Durbin-Watson:                   0.190\n",
      "Prob(Omnibus):                  0.472   Jarque-Bera (JB):                1.414\n",
      "Skew:                          -0.325   Prob(JB):                        0.493\n",
      "Kurtosis:                       2.410   Cond. No.                     1.68e+03\n",
      "==============================================================================\n",
      "\n",
      "Warnings:\n",
      "[1] Standard Errors assume that the covariance matrix of the errors is correctly specified.\n",
      "[2] The condition number is large, 1.68e+03. This might indicate that there are\n",
      "strong multicollinearity or other numerical problems.\n"
     ]
    }
   ],
   "source": [
    "y = np.matrix(nba_avgs['AST']).transpose()\n",
    "x1 = np.matrix(nba_avgs['Pace']).transpose()\n",
    "X = sm.add_constant(x1)\n",
    "model = sm.OLS(y,X)\n",
    "f = model.fit()\n",
    "print(f.summary())"
   ]
  },
  {
   "cell_type": "markdown",
   "metadata": {},
   "source": [
    "### Possessions also significant in predicting the number of assists"
   ]
  },
  {
   "cell_type": "code",
   "execution_count": 62,
   "metadata": {
    "collapsed": false
   },
   "outputs": [],
   "source": [
    "# adjusting both player's per 36 minute points, rebounds, and assists per 100 team possessions\n",
    "\n",
    "rw_pace_factor = 100/okc_2017['Pace']\n",
    "or_pace_factor = 100/cin_1962['Pace']"
   ]
  },
  {
   "cell_type": "code",
   "execution_count": 63,
   "metadata": {
    "collapsed": false
   },
   "outputs": [
    {
     "name": "stdout",
     "output_type": "stream",
     "text": [
      "         PTS        TRB        AST\n",
      "0  33.618213  11.383382  11.064222\n"
     ]
    }
   ],
   "source": [
    "RW_36_100 = RW_36.apply(lambda x: x*rw_pace_factor)\n",
    "print(RW_36_100)"
   ]
  },
  {
   "cell_type": "code",
   "execution_count": 64,
   "metadata": {
    "collapsed": false
   },
   "outputs": [
    {
     "name": "stdout",
     "output_type": "stream",
     "text": [
      "         PTS       TRB      AST\n",
      "0  20.039508  8.132917  7.41722\n"
     ]
    }
   ],
   "source": [
    "OR_36_100 = OR_36.apply(lambda x: x*or_pace_factor)\n",
    "print(OR_36_100)"
   ]
  },
  {
   "cell_type": "code",
   "execution_count": 65,
   "metadata": {
    "collapsed": false
   },
   "outputs": [
    {
     "name": "stdout",
     "output_type": "stream",
     "text": [
      "         PTS       TRB       AST\n",
      "0  13.578706  3.250465  3.647002\n"
     ]
    }
   ],
   "source": [
    "print(RW_36_100 - OR_36_100)"
   ]
  },
  {
   "cell_type": "code",
   "execution_count": 66,
   "metadata": {
    "collapsed": false
   },
   "outputs": [
    {
     "name": "stdout",
     "output_type": "stream",
     "text": [
      "         PTS        TRB        AST\n",
      "0  41.989149  14.217845  13.819213\n"
     ]
    }
   ],
   "source": [
    "# westbrook's  per 36 minute stats adjusted for 1962 Cincinatti Royals pace\n",
    "\n",
    "RW_36_1962 = RW_36 * (cin_1962['Pace']/okc_2017['Pace'])\n",
    "print(RW_36_1962)"
   ]
  },
  {
   "cell_type": "code",
   "execution_count": 67,
   "metadata": {
    "collapsed": false
   },
   "outputs": [
    {
     "name": "stdout",
     "output_type": "stream",
     "text": [
      "         PTS       TRB       AST\n",
      "0  19.598639  7.953993  7.254042\n"
     ]
    }
   ],
   "source": [
    "# robertson's per 36 minute stats adjusted for 2017 OKC Thunder Pace\n",
    "\n",
    "OR_36_2017 = OR_36 * (okc_2017['Pace']/cin_1962['Pace'])\n",
    "print(OR_36_2017)"
   ]
  },
  {
   "cell_type": "code",
   "execution_count": 68,
   "metadata": {
    "collapsed": false
   },
   "outputs": [
    {
     "name": "stdout",
     "output_type": "stream",
     "text": [
      "         PTS       TRB       AST\n",
      "0  16.959803  4.059831  4.555105\n"
     ]
    }
   ],
   "source": [
    "# difference between the two if westbrook played at 1962 robertson's pace per 36 minutes\n",
    "print(RW_36_1962 - OR_36)"
   ]
  },
  {
   "cell_type": "code",
   "execution_count": 69,
   "metadata": {
    "collapsed": false
   },
   "outputs": [
    {
     "name": "stdout",
     "output_type": "stream",
     "text": [
      "         PTS       TRB       AST\n",
      "0  13.279974  3.178955  3.566768\n"
     ]
    }
   ],
   "source": [
    "# difference between the two if robertson played at 2017 westbrook's pace per 36 minutes\n",
    "print(RW_36 - OR_36_2017)"
   ]
  },
  {
   "cell_type": "code",
   "execution_count": 70,
   "metadata": {
    "collapsed": true
   },
   "outputs": [],
   "source": [
    "# huge advantages for westbrook after adjusting for possessions"
   ]
  },
  {
   "cell_type": "markdown",
   "metadata": {},
   "source": [
    "# CONCLUSION\n",
    "\n",
    "PACE MATTERS. Pace is something that almost never gets mentioned in any basketball debate when comparing across eras. Per-game statistics are what is mainly used when comparing players to see who is better. But as we saw, the number of possessions a player plays with varies largely between teams and plays a major factor in the amount of total statistics he is able to accumulate. Pace has steadily slowed down as the NBA has gotten older other than the slight recent surge the past few years. In Robertson's time, a team playing with 130 possessions per game was not unusual, but 130 possessions per game today is unheard of. It now does not seem like a coincidence that 1962 was also the the season that Wilt Chamberlain mythically averaged 50 points per game and scored a 100 points in a single game\n",
    "\n",
    "This goes to show how impressive Westbrook's 2017 NBA season actually was. Many recognize the greatness in that it's only the 2nd time ever someone has averaged a triple double for an entire season. But people do not realize how much better it was than Robertson's season. As most people do, just glancing at the per game statistics makes the seasons look similar and might even give Robertson an edge. But as we broke down the statistics and adjusted for pace and minutes played, Westbrook averaged about 13.5 more points, 3.25 more rebounds, and 3.65 more assists than Robertson did per 36 minutes and 100 possessions. Robertson's averages of about 20 points, 8 rebounds, and 7.5 assists per game after adjusting for pace and minutes is about what you'd expect from a regular all-star player today. The numbers are still very good, but not what they seem by just looking at the box score. The typical NBA box-score is limited because it does not take into account many factors that lead to the accumulation of statistics as per-game numbers can be very misleading."
   ]
  }
 ],
 "metadata": {
  "anaconda-cloud": {},
  "kernelspec": {
   "display_name": "Python [default]",
   "language": "python",
   "name": "python3"
  },
  "language_info": {
   "codemirror_mode": {
    "name": "ipython",
    "version": 3
   },
   "file_extension": ".py",
   "mimetype": "text/x-python",
   "name": "python",
   "nbconvert_exporter": "python",
   "pygments_lexer": "ipython3",
   "version": "3.5.2"
  }
 },
 "nbformat": 4,
 "nbformat_minor": 2
}
