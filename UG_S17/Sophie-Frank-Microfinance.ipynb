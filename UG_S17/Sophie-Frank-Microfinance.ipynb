{
 "cells": [
  {
   "cell_type": "markdown",
   "metadata": {},
   "source": [
    "## Sophie Frank Data Bootcamp Research Project\n",
    "### Predicters of loan returns in women's microfinance\n",
    "### Raw Data from Madura Micorfinance Data Team Winter 2016\n",
    "### Spring 2017"
   ]
  },
  {
   "cell_type": "markdown",
   "metadata": {},
   "source": [
    "This project uses data acquired from a contact at Madura microfinance in India. I was particularly interest in exploring this topic because I think that microfinance is one of the most important keys to economic development, particularly in India. Mohammad Yunus conceived of the concept for microfinance in Bangladesh. The concept is centered around a group of women offering joint collateral for small-scale loans so they are able to run businesses. This data set includes 997 randomly selected memebers. I hypothesized that women with greater access to education would be more likely to successfully return their loan. This data set indicated that members are either \"in arrears\" or have a \"regular\" return status. I altered these to be indicated by a zero when a member is in arrears and a 1 when the member is regular. I created several descriptive graphs with the data and ran a logistic regression to see how different factors predict return status."
   ]
  },
  {
   "cell_type": "code",
   "execution_count": 274,
   "metadata": {
    "collapsed": true
   },
   "outputs": [],
   "source": [
    "import pandas as pd\n",
    "import statsmodels.api as sm\n",
    "import pylab as pl\n",
    "import numpy as np\n",
    "%matplotlib inline \n",
    "import pandas_datareader.data as web\n",
    "import matplotlib.pyplot as plt\n",
    "import datetime as dnt\n",
    "import statistics as stats\n",
    "import seaborn as sns\n",
    "sns.set(style=\"whitegrid\", color_codes=True) \n",
    "\n",
    "\n"
   ]
  },
  {
   "cell_type": "code",
   "execution_count": 275,
   "metadata": {
    "collapsed": false
   },
   "outputs": [
    {
     "data": {
      "text/html": [
       "<div>\n",
       "<table border=\"1\" class=\"dataframe\">\n",
       "  <thead>\n",
       "    <tr style=\"text-align: right;\">\n",
       "      <th></th>\n",
       "      <th>Member_Id</th>\n",
       "      <th>Id _2</th>\n",
       "      <th>name_2</th>\n",
       "      <th>Id _3</th>\n",
       "      <th>name_3</th>\n",
       "      <th>Id _4</th>\n",
       "      <th>name_4</th>\n",
       "      <th>Pop_2011</th>\n",
       "      <th>Pop_2001</th>\n",
       "      <th>NoHshlds</th>\n",
       "      <th>...</th>\n",
       "      <th>Latitude</th>\n",
       "      <th>Longitude</th>\n",
       "      <th>Years residing at the above address</th>\n",
       "      <th>Age</th>\n",
       "      <th>Count of phone no</th>\n",
       "      <th>Current Residence Status - Own property Or Leased/Rented Property</th>\n",
       "      <th>Household Annual income</th>\n",
       "      <th>Education Details of Self</th>\n",
       "      <th>Education Details of Father</th>\n",
       "      <th>Default Status</th>\n",
       "    </tr>\n",
       "  </thead>\n",
       "  <tbody>\n",
       "    <tr>\n",
       "      <th>0</th>\n",
       "      <td>1</td>\n",
       "      <td>608</td>\n",
       "      <td>Salem</td>\n",
       "      <td>5743</td>\n",
       "      <td>Attur</td>\n",
       "      <td>634290</td>\n",
       "      <td>Sadasivapuram</td>\n",
       "      <td>3430</td>\n",
       "      <td>3108.0</td>\n",
       "      <td>912</td>\n",
       "      <td>...</td>\n",
       "      <td>11.57598</td>\n",
       "      <td>78.67694</td>\n",
       "      <td>3.0</td>\n",
       "      <td>50</td>\n",
       "      <td>1</td>\n",
       "      <td>2</td>\n",
       "      <td>NaN</td>\n",
       "      <td>2</td>\n",
       "      <td>0</td>\n",
       "      <td>Arrear</td>\n",
       "    </tr>\n",
       "    <tr>\n",
       "      <th>1</th>\n",
       "      <td>2</td>\n",
       "      <td>608</td>\n",
       "      <td>Salem</td>\n",
       "      <td>5743</td>\n",
       "      <td>Attur</td>\n",
       "      <td>634290</td>\n",
       "      <td>Sadasivapuram</td>\n",
       "      <td>3430</td>\n",
       "      <td>3108.0</td>\n",
       "      <td>912</td>\n",
       "      <td>...</td>\n",
       "      <td>11.57598</td>\n",
       "      <td>78.67694</td>\n",
       "      <td>3.0</td>\n",
       "      <td>42</td>\n",
       "      <td>1</td>\n",
       "      <td>2</td>\n",
       "      <td>NaN</td>\n",
       "      <td>3</td>\n",
       "      <td>0</td>\n",
       "      <td>Arrear</td>\n",
       "    </tr>\n",
       "    <tr>\n",
       "      <th>2</th>\n",
       "      <td>3</td>\n",
       "      <td>608</td>\n",
       "      <td>Salem</td>\n",
       "      <td>5743</td>\n",
       "      <td>Attur</td>\n",
       "      <td>634290</td>\n",
       "      <td>Sadasivapuram</td>\n",
       "      <td>3430</td>\n",
       "      <td>3108.0</td>\n",
       "      <td>912</td>\n",
       "      <td>...</td>\n",
       "      <td>11.57598</td>\n",
       "      <td>78.67694</td>\n",
       "      <td>3.0</td>\n",
       "      <td>26</td>\n",
       "      <td>1</td>\n",
       "      <td>2</td>\n",
       "      <td>NaN</td>\n",
       "      <td>2</td>\n",
       "      <td>0</td>\n",
       "      <td>Arrear</td>\n",
       "    </tr>\n",
       "    <tr>\n",
       "      <th>3</th>\n",
       "      <td>4</td>\n",
       "      <td>608</td>\n",
       "      <td>Salem</td>\n",
       "      <td>5743</td>\n",
       "      <td>Attur</td>\n",
       "      <td>634290</td>\n",
       "      <td>Sadasivapuram</td>\n",
       "      <td>3430</td>\n",
       "      <td>3108.0</td>\n",
       "      <td>912</td>\n",
       "      <td>...</td>\n",
       "      <td>11.57598</td>\n",
       "      <td>78.67694</td>\n",
       "      <td>3.0</td>\n",
       "      <td>26</td>\n",
       "      <td>1</td>\n",
       "      <td>2</td>\n",
       "      <td>NaN</td>\n",
       "      <td>4</td>\n",
       "      <td>0</td>\n",
       "      <td>Arrear</td>\n",
       "    </tr>\n",
       "    <tr>\n",
       "      <th>4</th>\n",
       "      <td>5</td>\n",
       "      <td>608</td>\n",
       "      <td>Salem</td>\n",
       "      <td>5743</td>\n",
       "      <td>Attur</td>\n",
       "      <td>634290</td>\n",
       "      <td>Sadasivapuram</td>\n",
       "      <td>3430</td>\n",
       "      <td>3108.0</td>\n",
       "      <td>912</td>\n",
       "      <td>...</td>\n",
       "      <td>11.57598</td>\n",
       "      <td>78.67694</td>\n",
       "      <td>3.0</td>\n",
       "      <td>26</td>\n",
       "      <td>1</td>\n",
       "      <td>2</td>\n",
       "      <td>NaN</td>\n",
       "      <td>2</td>\n",
       "      <td>0</td>\n",
       "      <td>Arrear</td>\n",
       "    </tr>\n",
       "  </tbody>\n",
       "</table>\n",
       "<p>5 rows × 84 columns</p>\n",
       "</div>"
      ],
      "text/plain": [
       "   Member_Id  Id _2 name_2  Id _3 name_3   Id _4         name_4  Pop_2011  \\\n",
       "0          1    608  Salem   5743  Attur  634290  Sadasivapuram      3430   \n",
       "1          2    608  Salem   5743  Attur  634290  Sadasivapuram      3430   \n",
       "2          3    608  Salem   5743  Attur  634290  Sadasivapuram      3430   \n",
       "3          4    608  Salem   5743  Attur  634290  Sadasivapuram      3430   \n",
       "4          5    608  Salem   5743  Attur  634290  Sadasivapuram      3430   \n",
       "\n",
       "   Pop_2001  NoHshlds       ...        Latitude  Longitude  \\\n",
       "0    3108.0       912       ...        11.57598   78.67694   \n",
       "1    3108.0       912       ...        11.57598   78.67694   \n",
       "2    3108.0       912       ...        11.57598   78.67694   \n",
       "3    3108.0       912       ...        11.57598   78.67694   \n",
       "4    3108.0       912       ...        11.57598   78.67694   \n",
       "\n",
       "    Years residing at the above address  Age  Count of phone no  \\\n",
       "0                                   3.0   50                  1   \n",
       "1                                   3.0   42                  1   \n",
       "2                                   3.0   26                  1   \n",
       "3                                   3.0   26                  1   \n",
       "4                                   3.0   26                  1   \n",
       "\n",
       "   Current Residence Status - Own property Or Leased/Rented Property  \\\n",
       "0                                                  2                   \n",
       "1                                                  2                   \n",
       "2                                                  2                   \n",
       "3                                                  2                   \n",
       "4                                                  2                   \n",
       "\n",
       "   Household Annual income  Education Details of Self  \\\n",
       "0                      NaN                          2   \n",
       "1                      NaN                          3   \n",
       "2                      NaN                          2   \n",
       "3                      NaN                          4   \n",
       "4                      NaN                          2   \n",
       "\n",
       "   Education Details of Father  Default Status  \n",
       "0                            0          Arrear  \n",
       "1                            0          Arrear  \n",
       "2                            0          Arrear  \n",
       "3                            0          Arrear  \n",
       "4                            0          Arrear  \n",
       "\n",
       "[5 rows x 84 columns]"
      ]
     },
     "execution_count": 275,
     "metadata": {},
     "output_type": "execute_result"
    }
   ],
   "source": [
    "# read the data in\n",
    "df = pd.read_excel(\"/Users/Sophie/Dropbox/Senior_Year/Honors/Research/Data/Madura_Raw_Data.xlsx\")\n",
    "\n",
    "df.head()"
   ]
  },
  {
   "cell_type": "code",
   "execution_count": 276,
   "metadata": {
    "collapsed": false
   },
   "outputs": [
    {
     "data": {
      "text/plain": [
       "(997, 84)"
      ]
     },
     "execution_count": 276,
     "metadata": {},
     "output_type": "execute_result"
    }
   ],
   "source": [
    "df.shape"
   ]
  },
  {
   "cell_type": "code",
   "execution_count": 295,
   "metadata": {
    "collapsed": false,
    "scrolled": false
   },
   "outputs": [],
   "source": [
    "df = df.rename(index=str, columns={\"Member_Id\": \"Member ID\", \"Id _2\": \"Region ID\", \"name_2\": \"Region\", \n",
    "                              \"Id _3\": \"District ID\", \"name_3\": \n",
    "                             \"District\", \"Id _4\": \"Village ID\", \"name_4\": \"Village\", \n",
    "                             \"Pop_2011\": \"Village Population 2011\", \"Pop_2001\": \"Village Population 2001\",\n",
    "                             \"NoHshlds\": \"Number of Households in Village\", \"literacy_rate\": \"literacy rate in village\",\n",
    "                             \"Agri_ratio\": \"Percent of Business in Agriculture in Vilalge\", \n",
    "                             \"Distance to Tertiary Road (Km)\": \"Km between village and closest tertiary road\",\n",
    "                             \"Bank Branches 10Km\": \"Private Bank Branches Within 10Km of Village\",\n",
    "                             \"Age\": \"Age of Member\", \"Education Details of Self\": \"Number of Years of Education for Member\",\n",
    "                             \"Education Details of Father\": \"Number of Years of Education for Member's Father\",\n",
    "                             \"Default Status\": \"Default Status of Member Loans at Madura\"})"
   ]
  },
  {
   "cell_type": "code",
   "execution_count": 296,
   "metadata": {
    "collapsed": false
   },
   "outputs": [
    {
     "data": {
      "text/html": [
       "<div>\n",
       "<table border=\"1\" class=\"dataframe\">\n",
       "  <thead>\n",
       "    <tr style=\"text-align: right;\">\n",
       "      <th></th>\n",
       "      <th>Member ID</th>\n",
       "      <th>Region ID</th>\n",
       "      <th>Region</th>\n",
       "      <th>District ID</th>\n",
       "      <th>District</th>\n",
       "      <th>Village ID</th>\n",
       "      <th>Village</th>\n",
       "      <th>Village Population 2011</th>\n",
       "      <th>Village Population 2001</th>\n",
       "      <th>Number of Households in Village</th>\n",
       "      <th>...</th>\n",
       "      <th>Latitude</th>\n",
       "      <th>Longitude</th>\n",
       "      <th>Years residing at the above address</th>\n",
       "      <th>Age of Member</th>\n",
       "      <th>Count of phone no</th>\n",
       "      <th>Current Residence Status - Own property Or Leased/Rented Property</th>\n",
       "      <th>Household Annual income</th>\n",
       "      <th>Number of Years of Education for Member</th>\n",
       "      <th>Number of Years of Education for Member's Father</th>\n",
       "      <th>Default Status of Member Loans at Madura</th>\n",
       "    </tr>\n",
       "  </thead>\n",
       "  <tbody>\n",
       "    <tr>\n",
       "      <th>0</th>\n",
       "      <td>1</td>\n",
       "      <td>608</td>\n",
       "      <td>Salem</td>\n",
       "      <td>5743</td>\n",
       "      <td>Attur</td>\n",
       "      <td>634290</td>\n",
       "      <td>Sadasivapuram</td>\n",
       "      <td>3430</td>\n",
       "      <td>3108.0</td>\n",
       "      <td>912</td>\n",
       "      <td>...</td>\n",
       "      <td>11.57598</td>\n",
       "      <td>78.67694</td>\n",
       "      <td>3.0</td>\n",
       "      <td>50</td>\n",
       "      <td>1</td>\n",
       "      <td>2</td>\n",
       "      <td>NaN</td>\n",
       "      <td>2</td>\n",
       "      <td>0</td>\n",
       "      <td>Arrear</td>\n",
       "    </tr>\n",
       "    <tr>\n",
       "      <th>1</th>\n",
       "      <td>2</td>\n",
       "      <td>608</td>\n",
       "      <td>Salem</td>\n",
       "      <td>5743</td>\n",
       "      <td>Attur</td>\n",
       "      <td>634290</td>\n",
       "      <td>Sadasivapuram</td>\n",
       "      <td>3430</td>\n",
       "      <td>3108.0</td>\n",
       "      <td>912</td>\n",
       "      <td>...</td>\n",
       "      <td>11.57598</td>\n",
       "      <td>78.67694</td>\n",
       "      <td>3.0</td>\n",
       "      <td>42</td>\n",
       "      <td>1</td>\n",
       "      <td>2</td>\n",
       "      <td>NaN</td>\n",
       "      <td>3</td>\n",
       "      <td>0</td>\n",
       "      <td>Arrear</td>\n",
       "    </tr>\n",
       "    <tr>\n",
       "      <th>2</th>\n",
       "      <td>3</td>\n",
       "      <td>608</td>\n",
       "      <td>Salem</td>\n",
       "      <td>5743</td>\n",
       "      <td>Attur</td>\n",
       "      <td>634290</td>\n",
       "      <td>Sadasivapuram</td>\n",
       "      <td>3430</td>\n",
       "      <td>3108.0</td>\n",
       "      <td>912</td>\n",
       "      <td>...</td>\n",
       "      <td>11.57598</td>\n",
       "      <td>78.67694</td>\n",
       "      <td>3.0</td>\n",
       "      <td>26</td>\n",
       "      <td>1</td>\n",
       "      <td>2</td>\n",
       "      <td>NaN</td>\n",
       "      <td>2</td>\n",
       "      <td>0</td>\n",
       "      <td>Arrear</td>\n",
       "    </tr>\n",
       "    <tr>\n",
       "      <th>3</th>\n",
       "      <td>4</td>\n",
       "      <td>608</td>\n",
       "      <td>Salem</td>\n",
       "      <td>5743</td>\n",
       "      <td>Attur</td>\n",
       "      <td>634290</td>\n",
       "      <td>Sadasivapuram</td>\n",
       "      <td>3430</td>\n",
       "      <td>3108.0</td>\n",
       "      <td>912</td>\n",
       "      <td>...</td>\n",
       "      <td>11.57598</td>\n",
       "      <td>78.67694</td>\n",
       "      <td>3.0</td>\n",
       "      <td>26</td>\n",
       "      <td>1</td>\n",
       "      <td>2</td>\n",
       "      <td>NaN</td>\n",
       "      <td>4</td>\n",
       "      <td>0</td>\n",
       "      <td>Arrear</td>\n",
       "    </tr>\n",
       "    <tr>\n",
       "      <th>4</th>\n",
       "      <td>5</td>\n",
       "      <td>608</td>\n",
       "      <td>Salem</td>\n",
       "      <td>5743</td>\n",
       "      <td>Attur</td>\n",
       "      <td>634290</td>\n",
       "      <td>Sadasivapuram</td>\n",
       "      <td>3430</td>\n",
       "      <td>3108.0</td>\n",
       "      <td>912</td>\n",
       "      <td>...</td>\n",
       "      <td>11.57598</td>\n",
       "      <td>78.67694</td>\n",
       "      <td>3.0</td>\n",
       "      <td>26</td>\n",
       "      <td>1</td>\n",
       "      <td>2</td>\n",
       "      <td>NaN</td>\n",
       "      <td>2</td>\n",
       "      <td>0</td>\n",
       "      <td>Arrear</td>\n",
       "    </tr>\n",
       "  </tbody>\n",
       "</table>\n",
       "<p>5 rows × 84 columns</p>\n",
       "</div>"
      ],
      "text/plain": [
       "   Member ID  Region ID Region  District ID District  Village ID  \\\n",
       "0          1        608  Salem         5743    Attur      634290   \n",
       "1          2        608  Salem         5743    Attur      634290   \n",
       "2          3        608  Salem         5743    Attur      634290   \n",
       "3          4        608  Salem         5743    Attur      634290   \n",
       "4          5        608  Salem         5743    Attur      634290   \n",
       "\n",
       "         Village  Village Population 2011  Village Population 2001  \\\n",
       "0  Sadasivapuram                     3430                   3108.0   \n",
       "1  Sadasivapuram                     3430                   3108.0   \n",
       "2  Sadasivapuram                     3430                   3108.0   \n",
       "3  Sadasivapuram                     3430                   3108.0   \n",
       "4  Sadasivapuram                     3430                   3108.0   \n",
       "\n",
       "   Number of Households in Village                    ...                     \\\n",
       "0                              912                    ...                      \n",
       "1                              912                    ...                      \n",
       "2                              912                    ...                      \n",
       "3                              912                    ...                      \n",
       "4                              912                    ...                      \n",
       "\n",
       "   Latitude  Longitude   Years residing at the above address  Age of Member  \\\n",
       "0  11.57598   78.67694                                   3.0             50   \n",
       "1  11.57598   78.67694                                   3.0             42   \n",
       "2  11.57598   78.67694                                   3.0             26   \n",
       "3  11.57598   78.67694                                   3.0             26   \n",
       "4  11.57598   78.67694                                   3.0             26   \n",
       "\n",
       "   Count of phone no  \\\n",
       "0                  1   \n",
       "1                  1   \n",
       "2                  1   \n",
       "3                  1   \n",
       "4                  1   \n",
       "\n",
       "   Current Residence Status - Own property Or Leased/Rented Property  \\\n",
       "0                                                  2                   \n",
       "1                                                  2                   \n",
       "2                                                  2                   \n",
       "3                                                  2                   \n",
       "4                                                  2                   \n",
       "\n",
       "   Household Annual income  Number of Years of Education for Member  \\\n",
       "0                      NaN                                        2   \n",
       "1                      NaN                                        3   \n",
       "2                      NaN                                        2   \n",
       "3                      NaN                                        4   \n",
       "4                      NaN                                        2   \n",
       "\n",
       "   Number of Years of Education for Member's Father  \\\n",
       "0                                                 0   \n",
       "1                                                 0   \n",
       "2                                                 0   \n",
       "3                                                 0   \n",
       "4                                                 0   \n",
       "\n",
       "   Default Status of Member Loans at Madura  \n",
       "0                                    Arrear  \n",
       "1                                    Arrear  \n",
       "2                                    Arrear  \n",
       "3                                    Arrear  \n",
       "4                                    Arrear  \n",
       "\n",
       "[5 rows x 84 columns]"
      ]
     },
     "execution_count": 296,
     "metadata": {},
     "output_type": "execute_result"
    }
   ],
   "source": [
    "df.head()\n"
   ]
  },
  {
   "cell_type": "code",
   "execution_count": 297,
   "metadata": {
    "collapsed": false
   },
   "outputs": [],
   "source": [
    "df_1 = df[['Member ID', 'Village Population 2011',\n",
    "                             'literacy rate in village',\n",
    "                             'Percent of Business in Agriculture in Vilalge', \n",
    "                             'Km between village and closest tertiary road',\n",
    "                             'Private Bank Branches Within 10Km of Village', 'Age of Member', \n",
    "                             'Number of Years of Education for Member',\n",
    "                             \"Number of Years of Education for Member's Father\",\n",
    "                             'Default Status of Member Loans at Madura']]\n",
    "df_1 = df_1.replace(['Arrear', 'Regular'], [0, 1])"
   ]
  },
  {
   "cell_type": "code",
   "execution_count": 298,
   "metadata": {
    "collapsed": false
   },
   "outputs": [
    {
     "data": {
      "text/html": [
       "<div>\n",
       "<table border=\"1\" class=\"dataframe\">\n",
       "  <thead>\n",
       "    <tr style=\"text-align: right;\">\n",
       "      <th></th>\n",
       "      <th>Member ID</th>\n",
       "      <th>Village Population 2011</th>\n",
       "      <th>literacy rate in village</th>\n",
       "      <th>Percent of Business in Agriculture in Vilalge</th>\n",
       "      <th>Km between village and closest tertiary road</th>\n",
       "      <th>Private Bank Branches Within 10Km of Village</th>\n",
       "      <th>Age of Member</th>\n",
       "      <th>Number of Years of Education for Member</th>\n",
       "      <th>Number of Years of Education for Member's Father</th>\n",
       "      <th>Default Status of Member Loans at Madura</th>\n",
       "    </tr>\n",
       "  </thead>\n",
       "  <tbody>\n",
       "    <tr>\n",
       "      <th>0</th>\n",
       "      <td>1</td>\n",
       "      <td>3430</td>\n",
       "      <td>74</td>\n",
       "      <td>0.81</td>\n",
       "      <td>7.05</td>\n",
       "      <td>23</td>\n",
       "      <td>50</td>\n",
       "      <td>2</td>\n",
       "      <td>0</td>\n",
       "      <td>0</td>\n",
       "    </tr>\n",
       "    <tr>\n",
       "      <th>1</th>\n",
       "      <td>2</td>\n",
       "      <td>3430</td>\n",
       "      <td>74</td>\n",
       "      <td>0.81</td>\n",
       "      <td>7.05</td>\n",
       "      <td>23</td>\n",
       "      <td>42</td>\n",
       "      <td>3</td>\n",
       "      <td>0</td>\n",
       "      <td>0</td>\n",
       "    </tr>\n",
       "    <tr>\n",
       "      <th>2</th>\n",
       "      <td>3</td>\n",
       "      <td>3430</td>\n",
       "      <td>74</td>\n",
       "      <td>0.81</td>\n",
       "      <td>7.05</td>\n",
       "      <td>23</td>\n",
       "      <td>26</td>\n",
       "      <td>2</td>\n",
       "      <td>0</td>\n",
       "      <td>0</td>\n",
       "    </tr>\n",
       "    <tr>\n",
       "      <th>3</th>\n",
       "      <td>4</td>\n",
       "      <td>3430</td>\n",
       "      <td>74</td>\n",
       "      <td>0.81</td>\n",
       "      <td>7.05</td>\n",
       "      <td>23</td>\n",
       "      <td>26</td>\n",
       "      <td>4</td>\n",
       "      <td>0</td>\n",
       "      <td>0</td>\n",
       "    </tr>\n",
       "    <tr>\n",
       "      <th>4</th>\n",
       "      <td>5</td>\n",
       "      <td>3430</td>\n",
       "      <td>74</td>\n",
       "      <td>0.81</td>\n",
       "      <td>7.05</td>\n",
       "      <td>23</td>\n",
       "      <td>26</td>\n",
       "      <td>2</td>\n",
       "      <td>0</td>\n",
       "      <td>0</td>\n",
       "    </tr>\n",
       "  </tbody>\n",
       "</table>\n",
       "</div>"
      ],
      "text/plain": [
       "   Member ID  Village Population 2011  literacy rate in village  \\\n",
       "0          1                     3430                        74   \n",
       "1          2                     3430                        74   \n",
       "2          3                     3430                        74   \n",
       "3          4                     3430                        74   \n",
       "4          5                     3430                        74   \n",
       "\n",
       "   Percent of Business in Agriculture in Vilalge  \\\n",
       "0                                           0.81   \n",
       "1                                           0.81   \n",
       "2                                           0.81   \n",
       "3                                           0.81   \n",
       "4                                           0.81   \n",
       "\n",
       "   Km between village and closest tertiary road  \\\n",
       "0                                          7.05   \n",
       "1                                          7.05   \n",
       "2                                          7.05   \n",
       "3                                          7.05   \n",
       "4                                          7.05   \n",
       "\n",
       "   Private Bank Branches Within 10Km of Village  Age of Member  \\\n",
       "0                                            23             50   \n",
       "1                                            23             42   \n",
       "2                                            23             26   \n",
       "3                                            23             26   \n",
       "4                                            23             26   \n",
       "\n",
       "   Number of Years of Education for Member  \\\n",
       "0                                        2   \n",
       "1                                        3   \n",
       "2                                        2   \n",
       "3                                        4   \n",
       "4                                        2   \n",
       "\n",
       "   Number of Years of Education for Member's Father  \\\n",
       "0                                                 0   \n",
       "1                                                 0   \n",
       "2                                                 0   \n",
       "3                                                 0   \n",
       "4                                                 0   \n",
       "\n",
       "   Default Status of Member Loans at Madura  \n",
       "0                                         0  \n",
       "1                                         0  \n",
       "2                                         0  \n",
       "3                                         0  \n",
       "4                                         0  "
      ]
     },
     "execution_count": 298,
     "metadata": {},
     "output_type": "execute_result"
    }
   ],
   "source": [
    "df_1.head()"
   ]
  },
  {
   "cell_type": "code",
   "execution_count": 299,
   "metadata": {
    "collapsed": false
   },
   "outputs": [
    {
     "data": {
      "text/plain": [
       "<matplotlib.axes._subplots.AxesSubplot at 0x129184828>"
      ]
     },
     "execution_count": 299,
     "metadata": {},
     "output_type": "execute_result"
    },
    {
     "data": {
      "image/png": "[encoded data removed]",
      "text/plain": [
       "<matplotlib.figure.Figure at 0x1259c14a8>"
      ]
     },
     "metadata": {},
     "output_type": "display_data"
    }
   ],
   "source": [
    "fig, ax = plt.subplots()\n",
    "df_1['Number of Years of Education for Member'].plot(ax=ax, kind='hist', title = 'Number of Members per each Education Level') \n"
   ]
  },
  {
   "cell_type": "markdown",
   "metadata": {},
   "source": [
    "It is easy to observe that most members have less than five years of formal schooling."
   ]
  },
  {
   "cell_type": "code",
   "execution_count": 303,
   "metadata": {
    "collapsed": false
   },
   "outputs": [
    {
     "data": {
      "text/plain": [
       "<matplotlib.axes._subplots.AxesSubplot at 0x11cb1c5f8>"
      ]
     },
     "execution_count": 303,
     "metadata": {},
     "output_type": "execute_result"
    },
    {
     "data": {
      "image/png": "[encoded data removed]",
      "text/plain": [
       "<matplotlib.figure.Figure at 0x12f1b6cc0>"
      ]
     },
     "metadata": {},
     "output_type": "display_data"
    }
   ],
   "source": [
    "df_1.plot('literacy rate in village', 'Number of Years of Education for Member', kind='scatter', \n",
    "                                                     title = 'Literacy and Education')\n"
   ]
  },
  {
   "cell_type": "markdown",
   "metadata": {},
   "source": [
    "This graph does not offer any useful information because there are no true cluster patterns, indicating there is little to no relationship between the overall literacy rate of the village and the member's education."
   ]
  },
  {
   "cell_type": "code",
   "execution_count": 304,
   "metadata": {
    "collapsed": false
   },
   "outputs": [
    {
     "data": {
      "text/plain": [
       "<matplotlib.axes._subplots.AxesSubplot at 0x129456c18>"
      ]
     },
     "execution_count": 304,
     "metadata": {},
     "output_type": "execute_result"
    },
    {
     "data": {
      "image/png": "[encoded data removed]",
      "text/plain": [
       "<matplotlib.figure.Figure at 0x12943a048>"
      ]
     },
     "metadata": {},
     "output_type": "display_data"
    }
   ],
   "source": [
    "df_1.plot('Private Bank Branches Within 10Km of Village', 'Km between village and closest tertiary road', kind='scatter', \n",
    "                                                     title = 'Factors of Access')"
   ]
  },
  {
   "cell_type": "markdown",
   "metadata": {},
   "source": [
    "The majority of members have few, if any banks near by, but there is seemingly no relationship between the ditance to the closest tertiary road and the number of bank branches near the village. There seem to be many data points on the lower end of each scale, however."
   ]
  },
  {
   "cell_type": "code",
   "execution_count": 282,
   "metadata": {
    "collapsed": false
   },
   "outputs": [
    {
     "data": {
      "text/html": [
       "<div>\n",
       "<table border=\"1\" class=\"dataframe\">\n",
       "  <thead>\n",
       "    <tr style=\"text-align: right;\">\n",
       "      <th></th>\n",
       "      <th>Member ID</th>\n",
       "      <th>Village Population 2011</th>\n",
       "      <th>literacy rate in village</th>\n",
       "      <th>Percent of Business in Agriculture in Vilalge</th>\n",
       "      <th>Km between village and closest tertiary road</th>\n",
       "      <th>Private Bank Branches Within 10Km of Village</th>\n",
       "      <th>Age of Member</th>\n",
       "      <th>Number of Years of Education for Member</th>\n",
       "      <th>Number of Years of Education for Member's Father</th>\n",
       "      <th>Default Status of Member Loans at Madura</th>\n",
       "    </tr>\n",
       "  </thead>\n",
       "  <tbody>\n",
       "    <tr>\n",
       "      <th>count</th>\n",
       "      <td>997.000000</td>\n",
       "      <td>9.970000e+02</td>\n",
       "      <td>997.000000</td>\n",
       "      <td>997.000000</td>\n",
       "      <td>997.000000</td>\n",
       "      <td>997.000000</td>\n",
       "      <td>997.000000</td>\n",
       "      <td>997.000000</td>\n",
       "      <td>997.000000</td>\n",
       "      <td>997.000000</td>\n",
       "    </tr>\n",
       "    <tr>\n",
       "      <th>mean</th>\n",
       "      <td>499.000000</td>\n",
       "      <td>7.582116e+04</td>\n",
       "      <td>80.064193</td>\n",
       "      <td>0.352728</td>\n",
       "      <td>2.366098</td>\n",
       "      <td>37.278837</td>\n",
       "      <td>36.795386</td>\n",
       "      <td>3.123370</td>\n",
       "      <td>0.543631</td>\n",
       "      <td>0.936810</td>\n",
       "    </tr>\n",
       "    <tr>\n",
       "      <th>std</th>\n",
       "      <td>287.953411</td>\n",
       "      <td>1.988713e+05</td>\n",
       "      <td>8.601502</td>\n",
       "      <td>0.283688</td>\n",
       "      <td>2.628567</td>\n",
       "      <td>61.188369</td>\n",
       "      <td>7.878486</td>\n",
       "      <td>1.694494</td>\n",
       "      <td>1.093680</td>\n",
       "      <td>0.243426</td>\n",
       "    </tr>\n",
       "    <tr>\n",
       "      <th>min</th>\n",
       "      <td>1.000000</td>\n",
       "      <td>1.240000e+02</td>\n",
       "      <td>58.000000</td>\n",
       "      <td>0.010000</td>\n",
       "      <td>0.010000</td>\n",
       "      <td>2.000000</td>\n",
       "      <td>20.000000</td>\n",
       "      <td>1.000000</td>\n",
       "      <td>0.000000</td>\n",
       "      <td>0.000000</td>\n",
       "    </tr>\n",
       "    <tr>\n",
       "      <th>25%</th>\n",
       "      <td>250.000000</td>\n",
       "      <td>3.549000e+03</td>\n",
       "      <td>73.000000</td>\n",
       "      <td>0.080000</td>\n",
       "      <td>0.280000</td>\n",
       "      <td>7.000000</td>\n",
       "      <td>30.000000</td>\n",
       "      <td>2.000000</td>\n",
       "      <td>0.000000</td>\n",
       "      <td>1.000000</td>\n",
       "    </tr>\n",
       "    <tr>\n",
       "      <th>50%</th>\n",
       "      <td>499.000000</td>\n",
       "      <td>8.774000e+03</td>\n",
       "      <td>81.000000</td>\n",
       "      <td>0.330000</td>\n",
       "      <td>1.390000</td>\n",
       "      <td>13.000000</td>\n",
       "      <td>36.000000</td>\n",
       "      <td>3.000000</td>\n",
       "      <td>0.000000</td>\n",
       "      <td>1.000000</td>\n",
       "    </tr>\n",
       "    <tr>\n",
       "      <th>75%</th>\n",
       "      <td>748.000000</td>\n",
       "      <td>2.546900e+04</td>\n",
       "      <td>88.000000</td>\n",
       "      <td>0.610000</td>\n",
       "      <td>3.740000</td>\n",
       "      <td>31.000000</td>\n",
       "      <td>42.000000</td>\n",
       "      <td>4.000000</td>\n",
       "      <td>1.000000</td>\n",
       "      <td>1.000000</td>\n",
       "    </tr>\n",
       "    <tr>\n",
       "      <th>max</th>\n",
       "      <td>997.000000</td>\n",
       "      <td>1.017865e+06</td>\n",
       "      <td>94.000000</td>\n",
       "      <td>0.980000</td>\n",
       "      <td>11.740000</td>\n",
       "      <td>260.000000</td>\n",
       "      <td>64.000000</td>\n",
       "      <td>8.000000</td>\n",
       "      <td>7.000000</td>\n",
       "      <td>1.000000</td>\n",
       "    </tr>\n",
       "  </tbody>\n",
       "</table>\n",
       "</div>"
      ],
      "text/plain": [
       "        Member ID  Village Population 2011  literacy rate in village  \\\n",
       "count  997.000000             9.970000e+02                997.000000   \n",
       "mean   499.000000             7.582116e+04                 80.064193   \n",
       "std    287.953411             1.988713e+05                  8.601502   \n",
       "min      1.000000             1.240000e+02                 58.000000   \n",
       "25%    250.000000             3.549000e+03                 73.000000   \n",
       "50%    499.000000             8.774000e+03                 81.000000   \n",
       "75%    748.000000             2.546900e+04                 88.000000   \n",
       "max    997.000000             1.017865e+06                 94.000000   \n",
       "\n",
       "       Percent of Business in Agriculture in Vilalge  \\\n",
       "count                                     997.000000   \n",
       "mean                                        0.352728   \n",
       "std                                         0.283688   \n",
       "min                                         0.010000   \n",
       "25%                                         0.080000   \n",
       "50%                                         0.330000   \n",
       "75%                                         0.610000   \n",
       "max                                         0.980000   \n",
       "\n",
       "       Km between village and closest tertiary road  \\\n",
       "count                                    997.000000   \n",
       "mean                                       2.366098   \n",
       "std                                        2.628567   \n",
       "min                                        0.010000   \n",
       "25%                                        0.280000   \n",
       "50%                                        1.390000   \n",
       "75%                                        3.740000   \n",
       "max                                       11.740000   \n",
       "\n",
       "       Private Bank Branches Within 10Km of Village  Age of Member  \\\n",
       "count                                    997.000000     997.000000   \n",
       "mean                                      37.278837      36.795386   \n",
       "std                                       61.188369       7.878486   \n",
       "min                                        2.000000      20.000000   \n",
       "25%                                        7.000000      30.000000   \n",
       "50%                                       13.000000      36.000000   \n",
       "75%                                       31.000000      42.000000   \n",
       "max                                      260.000000      64.000000   \n",
       "\n",
       "       Number of Years of Education for Member  \\\n",
       "count                               997.000000   \n",
       "mean                                  3.123370   \n",
       "std                                   1.694494   \n",
       "min                                   1.000000   \n",
       "25%                                   2.000000   \n",
       "50%                                   3.000000   \n",
       "75%                                   4.000000   \n",
       "max                                   8.000000   \n",
       "\n",
       "       Number of Years of Education for Member's Father  \\\n",
       "count                                        997.000000   \n",
       "mean                                           0.543631   \n",
       "std                                            1.093680   \n",
       "min                                            0.000000   \n",
       "25%                                            0.000000   \n",
       "50%                                            0.000000   \n",
       "75%                                            1.000000   \n",
       "max                                            7.000000   \n",
       "\n",
       "       Default Status of Member Loans at Madura  \n",
       "count                                997.000000  \n",
       "mean                                   0.936810  \n",
       "std                                    0.243426  \n",
       "min                                    0.000000  \n",
       "25%                                    1.000000  \n",
       "50%                                    1.000000  \n",
       "75%                                    1.000000  \n",
       "max                                    1.000000  "
      ]
     },
     "execution_count": 282,
     "metadata": {},
     "output_type": "execute_result"
    }
   ],
   "source": [
    "df_1.describe()"
   ]
  },
  {
   "cell_type": "code",
   "execution_count": 283,
   "metadata": {
    "collapsed": false,
    "scrolled": false
   },
   "outputs": [
    {
     "data": {
      "text/plain": [
       "<matplotlib.collections.PathCollection at 0x1292a4d68>"
      ]
     },
     "execution_count": 283,
     "metadata": {},
     "output_type": "execute_result"
    },
    {
     "data": {
      "image/png": "[encoded data removed]",
      "text/plain": [
       "<matplotlib.figure.Figure at 0x12ebfcda0>"
      ]
     },
     "metadata": {},
     "output_type": "display_data"
    }
   ],
   "source": [
    "# relationship between literacy rate and agricultural business\n",
    "\n",
    "mydata = df_1[[\"literacy rate in village\", \"Percent of Business in Agriculture in Vilalge\"]].dropna(how=\"any\")\n",
    "vals = mydata.values\n",
    "plt.scatter(vals[:, 0], vals[:, 1])\n"
   ]
  },
  {
   "cell_type": "markdown",
   "metadata": {},
   "source": [
    "I wanted to see if there is any apparent correlation in a scatterplot between the emphasis on agriculture in a community and the literacy rate of that area. There does not appear to be much of a relationship."
   ]
  },
  {
   "cell_type": "code",
   "execution_count": 286,
   "metadata": {
    "collapsed": false
   },
   "outputs": [
    {
     "data": {
      "text/html": [
       "<div>\n",
       "<table border=\"1\" class=\"dataframe\">\n",
       "  <thead>\n",
       "    <tr style=\"text-align: right;\">\n",
       "      <th></th>\n",
       "      <th>Member ID</th>\n",
       "      <th>Village Population 2011</th>\n",
       "      <th>literacy rate in village</th>\n",
       "      <th>Percent of Business in Agriculture in Vilalge</th>\n",
       "      <th>Km between village and closest tertiary road</th>\n",
       "      <th>Private Bank Branches Within 10Km of Village</th>\n",
       "      <th>Age of Member</th>\n",
       "      <th>Number of Years of Education for Member</th>\n",
       "      <th>Number of Years of Education for Member's Father</th>\n",
       "      <th>Default Status of Member Loans at Madura</th>\n",
       "    </tr>\n",
       "  </thead>\n",
       "  <tbody>\n",
       "    <tr>\n",
       "      <th>0</th>\n",
       "      <td>1</td>\n",
       "      <td>3430</td>\n",
       "      <td>74</td>\n",
       "      <td>0.81</td>\n",
       "      <td>7.05</td>\n",
       "      <td>23</td>\n",
       "      <td>50</td>\n",
       "      <td>2</td>\n",
       "      <td>0</td>\n",
       "      <td>0</td>\n",
       "    </tr>\n",
       "    <tr>\n",
       "      <th>1</th>\n",
       "      <td>2</td>\n",
       "      <td>3430</td>\n",
       "      <td>74</td>\n",
       "      <td>0.81</td>\n",
       "      <td>7.05</td>\n",
       "      <td>23</td>\n",
       "      <td>42</td>\n",
       "      <td>3</td>\n",
       "      <td>0</td>\n",
       "      <td>0</td>\n",
       "    </tr>\n",
       "    <tr>\n",
       "      <th>2</th>\n",
       "      <td>3</td>\n",
       "      <td>3430</td>\n",
       "      <td>74</td>\n",
       "      <td>0.81</td>\n",
       "      <td>7.05</td>\n",
       "      <td>23</td>\n",
       "      <td>26</td>\n",
       "      <td>2</td>\n",
       "      <td>0</td>\n",
       "      <td>0</td>\n",
       "    </tr>\n",
       "    <tr>\n",
       "      <th>3</th>\n",
       "      <td>4</td>\n",
       "      <td>3430</td>\n",
       "      <td>74</td>\n",
       "      <td>0.81</td>\n",
       "      <td>7.05</td>\n",
       "      <td>23</td>\n",
       "      <td>26</td>\n",
       "      <td>4</td>\n",
       "      <td>0</td>\n",
       "      <td>0</td>\n",
       "    </tr>\n",
       "    <tr>\n",
       "      <th>4</th>\n",
       "      <td>5</td>\n",
       "      <td>3430</td>\n",
       "      <td>74</td>\n",
       "      <td>0.81</td>\n",
       "      <td>7.05</td>\n",
       "      <td>23</td>\n",
       "      <td>26</td>\n",
       "      <td>2</td>\n",
       "      <td>0</td>\n",
       "      <td>0</td>\n",
       "    </tr>\n",
       "  </tbody>\n",
       "</table>\n",
       "</div>"
      ],
      "text/plain": [
       "   Member ID  Village Population 2011  literacy rate in village  \\\n",
       "0          1                     3430                        74   \n",
       "1          2                     3430                        74   \n",
       "2          3                     3430                        74   \n",
       "3          4                     3430                        74   \n",
       "4          5                     3430                        74   \n",
       "\n",
       "   Percent of Business in Agriculture in Vilalge  \\\n",
       "0                                           0.81   \n",
       "1                                           0.81   \n",
       "2                                           0.81   \n",
       "3                                           0.81   \n",
       "4                                           0.81   \n",
       "\n",
       "   Km between village and closest tertiary road  \\\n",
       "0                                          7.05   \n",
       "1                                          7.05   \n",
       "2                                          7.05   \n",
       "3                                          7.05   \n",
       "4                                          7.05   \n",
       "\n",
       "   Private Bank Branches Within 10Km of Village  Age of Member  \\\n",
       "0                                            23             50   \n",
       "1                                            23             42   \n",
       "2                                            23             26   \n",
       "3                                            23             26   \n",
       "4                                            23             26   \n",
       "\n",
       "   Number of Years of Education for Member  \\\n",
       "0                                        2   \n",
       "1                                        3   \n",
       "2                                        2   \n",
       "3                                        4   \n",
       "4                                        2   \n",
       "\n",
       "   Number of Years of Education for Member's Father  \\\n",
       "0                                                 0   \n",
       "1                                                 0   \n",
       "2                                                 0   \n",
       "3                                                 0   \n",
       "4                                                 0   \n",
       "\n",
       "   Default Status of Member Loans at Madura  \n",
       "0                                         0  \n",
       "1                                         0  \n",
       "2                                         0  \n",
       "3                                         0  \n",
       "4                                         0  "
      ]
     },
     "execution_count": 286,
     "metadata": {},
     "output_type": "execute_result"
    }
   ],
   "source": [
    "df_1.head()"
   ]
  },
  {
   "cell_type": "code",
   "execution_count": 287,
   "metadata": {
    "collapsed": false
   },
   "outputs": [
    {
     "data": {
      "text/plain": [
       "array([[  1.00000000e+00,   3.43000000e+03,   7.40000000e+01, ...,\n",
       "          2.00000000e+00,   0.00000000e+00,   0.00000000e+00],\n",
       "       [  2.00000000e+00,   3.43000000e+03,   7.40000000e+01, ...,\n",
       "          3.00000000e+00,   0.00000000e+00,   0.00000000e+00],\n",
       "       [  3.00000000e+00,   3.43000000e+03,   7.40000000e+01, ...,\n",
       "          2.00000000e+00,   0.00000000e+00,   0.00000000e+00],\n",
       "       ..., \n",
       "       [  9.95000000e+02,   1.47900000e+03,   8.20000000e+01, ...,\n",
       "          4.00000000e+00,   0.00000000e+00,   1.00000000e+00],\n",
       "       [  9.96000000e+02,   2.68300000e+04,   8.00000000e+01, ...,\n",
       "          3.00000000e+00,   0.00000000e+00,   1.00000000e+00],\n",
       "       [  9.97000000e+02,   2.44500000e+03,   7.20000000e+01, ...,\n",
       "          4.00000000e+00,   0.00000000e+00,   0.00000000e+00]])"
      ]
     },
     "execution_count": 287,
     "metadata": {},
     "output_type": "execute_result"
    }
   ],
   "source": [
    "np.asarray(df_1)\n",
    "\n",
    "#Checking if the logisitc regression will run, or if there are objects in the data set"
   ]
  },
  {
   "cell_type": "code",
   "execution_count": 288,
   "metadata": {
    "collapsed": false
   },
   "outputs": [],
   "source": [
    "train_cols = df_1.columns[1:9]\n",
    "\n",
    "# Index(['Member ID', 'Region','District', 'Village'], dtype=str)\n",
    "\n",
    "logit = sm.Logit(df_1['Default Status of Member Loans at Madura'], df_1[train_cols])"
   ]
  },
  {
   "cell_type": "code",
   "execution_count": 289,
   "metadata": {
    "collapsed": false
   },
   "outputs": [
    {
     "name": "stdout",
     "output_type": "stream",
     "text": [
      "Optimization terminated successfully.\n",
      "         Current function value: 0.213775\n",
      "         Iterations 10\n"
     ]
    }
   ],
   "source": [
    "result = logit.fit()"
   ]
  },
  {
   "cell_type": "code",
   "execution_count": 290,
   "metadata": {
    "collapsed": false
   },
   "outputs": [
    {
     "name": "stdout",
     "output_type": "stream",
     "text": [
      "                                      Logit Regression Results                                      \n",
      "====================================================================================================\n",
      "Dep. Variable:     Default Status of Member Loans at Madura   No. Observations:                  997\n",
      "Model:                                                Logit   Df Residuals:                      989\n",
      "Method:                                                 MLE   Df Model:                            7\n",
      "Date:                                      Wed, 26 Apr 2017   Pseudo R-squ.:                 0.09285\n",
      "Time:                                              20:12:37   Log-Likelihood:                -213.13\n",
      "converged:                                             True   LL-Null:                       -234.95\n",
      "                                                              LLR p-value:                 2.521e-07\n",
      "====================================================================================================================\n",
      "                                                       coef    std err          z      P>|z|      [95.0% Conf. Int.]\n",
      "--------------------------------------------------------------------------------------------------------------------\n",
      "Village Population 2011                           3.124e-06   4.55e-06      0.687      0.492     -5.79e-06   1.2e-05\n",
      "literacy rate in village                             0.0283      0.009      3.023      0.003         0.010     0.047\n",
      "Percent of Business in Agriculture in Vilalge       -0.8310      0.517     -1.609      0.108        -1.843     0.181\n",
      "Km between village and closest tertiary road        -0.0695      0.046     -1.509      0.131        -0.160     0.021\n",
      "Private Bank Branches Within 10Km of Village         0.0097      0.009      1.136      0.256        -0.007     0.026\n",
      "Age of Member                                        0.0034      0.017      0.201      0.841        -0.029     0.036\n",
      "Number of Years of Education for Member              0.2238      0.095      2.351      0.019         0.037     0.410\n",
      "Number of Years of Education for Member's Father     0.1155      0.177      0.653      0.513        -0.231     0.462\n",
      "====================================================================================================================\n"
     ]
    }
   ],
   "source": [
    "print(result.summary())"
   ]
  },
  {
   "cell_type": "code",
   "execution_count": 291,
   "metadata": {
    "collapsed": false
   },
   "outputs": [
    {
     "name": "stdout",
     "output_type": "stream",
     "text": [
      "                                                         0         1\n",
      "Village Population 2011                          -0.000006  0.000012\n",
      "literacy rate in village                          0.009966  0.046723\n",
      "Percent of Business in Agriculture in Vilalge    -1.843427  0.181486\n",
      "Km between village and closest tertiary road     -0.159890  0.020793\n",
      "Private Bank Branches Within 10Km of Village     -0.007038  0.026434\n",
      "Age of Member                                    -0.029429  0.036160\n",
      "Number of Years of Education for Member           0.037220  0.410470\n",
      "Number of Years of Education for Member's Father -0.230852  0.461759\n"
     ]
    }
   ],
   "source": [
    "print(result.conf_int())"
   ]
  },
  {
   "cell_type": "code",
   "execution_count": 292,
   "metadata": {
    "collapsed": false
   },
   "outputs": [
    {
     "name": "stdout",
     "output_type": "stream",
     "text": [
      "                                                      2.5%     97.5%        OR\n",
      "Village Population 2011                           0.999994  1.000012  1.000003\n",
      "literacy rate in village                          1.010016  1.047832  1.028750\n",
      "Percent of Business in Agriculture in Vilalge     0.158274  1.198998  0.435626\n",
      "Km between village and closest tertiary road      0.852237  1.021011  0.932815\n",
      "Private Bank Branches Within 10Km of Village      0.992987  1.026787  1.009746\n",
      "Age of Member                                     0.970999  1.036822  1.003371\n",
      "Number of Years of Education for Member           1.037922  1.507526  1.250877\n",
      "Number of Years of Education for Member's Father  0.793857  1.586864  1.122383\n"
     ]
    }
   ],
   "source": [
    "  params = result.params\n",
    "  conf = result.conf_int()\n",
    "  conf['OR'] = params\n",
    "  conf.columns = ['2.5%', '97.5%', 'OR']\n",
    "  print(np.exp(conf))"
   ]
  },
  {
   "cell_type": "markdown",
   "metadata": {
    "collapsed": true
   },
   "source": [
    "## Conclusions\n",
    "The only variables with meaningful p values are the literacy rate of the member's village and the number of years they have been educated. This draws a fascinating conclusion about education having a stronger effect than other factors on a member's likelihood or repaying the loan."
   ]
  }
 ],
 "metadata": {
  "anaconda-cloud": {},
  "kernelspec": {
   "display_name": "Python [conda root]",
   "language": "python",
   "name": "conda-root-py"
  },
  "language_info": {
   "codemirror_mode": {
    "name": "ipython",
    "version": 3
   },
   "file_extension": ".py",
   "mimetype": "text/x-python",
   "name": "python",
   "nbconvert_exporter": "python",
   "pygments_lexer": "ipython3",
   "version": "3.5.2"
  }
 },
 "nbformat": 4,
 "nbformat_minor": 1
}
